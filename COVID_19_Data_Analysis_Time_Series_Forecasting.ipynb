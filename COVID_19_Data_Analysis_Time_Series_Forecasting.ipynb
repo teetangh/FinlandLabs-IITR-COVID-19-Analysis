{
  "cells": [
    {
      "cell_type": "code",
      "metadata": {
        "id": "n-U1g8pcD4LL",
        "colab_type": "code",
        "colab": {}
      },
      "source": [
        "path = 'https://raw.githubusercontent.com/umangkejriwal1122/Machine-Learning/master/Data%20Sets/covid_19_clean_complete.csv'"
      ],
      "execution_count": null,
      "outputs": []
    },
    {
      "cell_type": "code",
      "metadata": {
        "id": "13B5WR9JD-fy",
        "colab_type": "code",
        "colab": {
          "base_uri": "https://localhost:8080/",
          "height": 51
        },
        "outputId": "7ac502c7-7de0-48cb-b2a3-d9055a939274"
      },
      "source": [
        "import numpy as np\n",
        "import pandas as pd\n",
        "import seaborn as sns\n",
        "import plotly.express as px     ### potting data on world map\n",
        "import matplotlib.pyplot as plt\n",
        "\n",
        "# pip install cython\n",
        "# pip install pystan\n",
        "# pip install fbprohet"
      ],
      "execution_count": null,
      "outputs": []
    },
    {
      "cell_type": "code",
      "metadata": {
        "id": "OpUWt0oyEXnS",
        "colab_type": "code",
        "colab": {
          "base_uri": "https://localhost:8080/",
          "height": 204
        },
        "outputId": "3b3d70d3-ff05-4660-dfd4-f5d3f1a72359"
      },
      "source": [
        "df = pd.read_csv(path)\n",
        "df.head()"
      ],
      "execution_count": null,
      "outputs": []
    },
    {
      "cell_type": "code",
      "metadata": {
        "id": "0oMvCYGkEffp",
        "colab_type": "code",
        "colab": {
          "base_uri": "https://localhost:8080/",
          "height": 272
        },
        "outputId": "e9d5320a-15b2-43b2-e544-453ab8513336"
      },
      "source": [
        "df.info()"
      ],
      "execution_count": null,
      "outputs": []
    },
    {
      "cell_type": "code",
      "metadata": {
        "id": "-PjBwnrMEiZ7",
        "colab_type": "code",
        "colab": {
          "base_uri": "https://localhost:8080/",
          "height": 204
        },
        "outputId": "af2b1bd6-37b5-40d1-a84f-cabe4a888372"
      },
      "source": [
        "df.drop(['Province/State'],axis=1,inplace = True)\n",
        "df.head()"
      ],
      "execution_count": null,
      "outputs": []
    },
    {
      "cell_type": "code",
      "metadata": {
        "id": "le74Xk2zEwWx",
        "colab_type": "code",
        "colab": {}
      },
      "source": [
        "df = df.rename(columns={\"Country/Region\" : 'country'})"
      ],
      "execution_count": null,
      "outputs": []
    },
    {
      "cell_type": "code",
      "metadata": {
        "id": "a8k7pLvbFFLn",
        "colab_type": "code",
        "colab": {
          "base_uri": "https://localhost:8080/",
          "height": 204
        },
        "outputId": "c3de53fb-8113-475c-a90c-1f9feeadf62e"
      },
      "source": [
        "df.head()"
      ],
      "execution_count": null,
      "outputs": []
    },
    {
      "cell_type": "code",
      "metadata": {
        "id": "jFZUTTOUFGDz",
        "colab_type": "code",
        "colab": {
          "base_uri": "https://localhost:8080/",
          "height": 119
        },
        "outputId": "b090df76-7403-4fad-8bab-0d7eb4a8615a"
      },
      "source": [
        "active = df['Confirmed'] - df['Recovered'] - df['Deaths']\n",
        "active.tail()"
      ],
      "execution_count": null,
      "outputs": []
    },
    {
      "cell_type": "code",
      "metadata": {
        "id": "Y8f-22ToFtRW",
        "colab_type": "code",
        "colab": {
          "base_uri": "https://localhost:8080/",
          "height": 204
        },
        "outputId": "00d27f53-f26e-46b4-f9f9-86d28d106593"
      },
      "source": [
        "# concatenate alternative\n",
        "df['Active'] = active\n",
        "df.tail()"
      ],
      "execution_count": null,
      "outputs": []
    },
    {
      "cell_type": "code",
      "metadata": {
        "id": "BDagP0myF3xY",
        "colab_type": "code",
        "colab": {
          "base_uri": "https://localhost:8080/",
          "height": 272
        },
        "outputId": "6154c017-7ce4-4333-c1fb-15e56d82c9c1"
      },
      "source": [
        "# \n",
        "df.info()"
      ],
      "execution_count": null,
      "outputs": []
    },
    {
      "cell_type": "code",
      "metadata": {
        "id": "2jErM0tSGiVq",
        "colab_type": "code",
        "colab": {
          "base_uri": "https://localhost:8080/",
          "height": 272
        },
        "outputId": "4db6a7bd-4cb5-49fe-df0b-71924745a0d6"
      },
      "source": [
        "### Converting the Data Time object to datetime64[ns] format\n",
        "df['Date'] = pd.to_datetime(df['Date'])\n",
        "df.info()"
      ],
      "execution_count": null,
      "outputs": []
    },
    {
      "cell_type": "code",
      "metadata": {
        "id": "z9ybUntLG70A",
        "colab_type": "code",
        "colab": {
          "base_uri": "https://localhost:8080/",
          "height": 204
        },
        "outputId": "054e3294-d689-4346-fe57-1fb7e6cf27aa"
      },
      "source": [
        "# Filter the data on the basis of the latest date\n",
        "# top = df[df['Date'] == '2020-04-28']\n",
        "top = df[df['Date'] == df['Date'].max()]\n",
        "top.head()"
      ],
      "execution_count": null,
      "outputs": []
    },
    {
      "cell_type": "code",
      "metadata": {
        "id": "P1Jm5WAtHuah",
        "colab_type": "code",
        "colab": {
          "base_uri": "https://localhost:8080/",
          "height": 272
        },
        "outputId": "52032df5-218f-4286-b516-4602445dda82"
      },
      "source": [
        "# Group on basis of the country(for all the dates) and display the cumulative 'Confirmed','Active','Recovered','Deaths'\n",
        "# Resetting index since the country indented to show the group by \"Basis\"\n",
        "# Also make country again as index since it's lost after grouping\n",
        "# In case of accidental duplicates,groupby eliminates those\n",
        "world = top.groupby('country')['Confirmed','Active','Recovered','Deaths'].sum().reset_index()\n",
        "world.head()"
      ],
      "execution_count": null,
      "outputs": []
    },
    {
      "cell_type": "code",
      "metadata": {
        "id": "T15UgapoIkfD",
        "colab_type": "code",
        "colab": {
          "base_uri": "https://localhost:8080/",
          "height": 542
        },
        "outputId": "877456fe-4c9b-4cd0-bf9d-c81d6d098adf"
      },
      "source": [
        "### Plot on the World Map((Active Cases))\n",
        "figure = px.choropleth(world,locations='country',locationmode='country names',color='Active',\n",
        "                       color_continuous_scale='Peach', range_color=[1,1000],\n",
        "                       title = \"Countries with Active Cases\",hover_name = 'country')\n",
        "figure.show()"
      ],
      "execution_count": null,
      "outputs": []
    },
    {
      "cell_type": "code",
      "metadata": {
        "id": "xiztWOhTKATa",
        "colab_type": "code",
        "colab": {
          "base_uri": "https://localhost:8080/",
          "height": 542
        },
        "outputId": "c7dfeb1d-ff76-4d36-b531-9081bcc6fdf6"
      },
      "source": [
        "### Plot on the World Map((Active Cases))\n",
        "figure = px.choropleth(world,locations='country',locationmode='country names',color='Deaths',\n",
        "                       color_continuous_scale='darkmint', range_color=[1,10000],\n",
        "                       title = \"Countries with Deaths\",hover_name = 'country')\n",
        "figure.show()"
      ],
      "execution_count": null,
      "outputs": []
    },
    {
      "cell_type": "code",
      "metadata": {
        "id": "QBloR8S1LeaF",
        "colab_type": "code",
        "colab": {
          "base_uri": "https://localhost:8080/",
          "height": 340
        },
        "outputId": "fea371d6-c44e-4d79-8e8c-511bf4930e39"
      },
      "source": [
        "#### Plot WorldWide Confirmed Cases vs Date\n",
        "## Add all the confimred cases based on date\n",
        "total_confirmed_cases = df.groupby('Date')['Date','Confirmed'].sum().reset_index()\n",
        "total_death_cases = df.groupby('Date')['Date','Deaths'].sum().reset_index()\n",
        "total_confirmed_cases.tail()"
      ],
      "execution_count": null,
      "outputs": []
    },
    {
      "cell_type": "code",
      "metadata": {
        "id": "8jpB1ue0NLZW",
        "colab_type": "code",
        "colab": {
          "base_uri": "https://localhost:8080/",
          "height": 664
        },
        "outputId": "5391d504-8314-4e30-c16c-c8279ae6fb2a"
      },
      "source": [
        "# Dates are overlapping and points are not clear so will have to modifying the plotting paramters\n",
        "# pixel Dimensions\n",
        "plt.figure(figsize=(16,10)) \n",
        "\n",
        "# rotate date/time by 90*, set fontsize = 10\n",
        "plt.xticks(rotation = 90,fontsize = 10 ) \n",
        "\n",
        "# Extract only the date from date-time\n",
        "sns.pointplot(total_confirmed_cases['Date'].dt.date,total_confirmed_cases['Confirmed'],color='red')\n",
        "sns.pointplot(total_confirmed_cases['Date'].dt.date,total_death_cases['Deaths'],color='blue')\n",
        "\n",
        "# Plotting the axes titles\n",
        "plt.xlabel(\"Dates\")\n",
        "plt.ylabel(\"Total Confirmed Cases\")\n",
        "\n",
        "plt.show()"
      ],
      "execution_count": null,
      "outputs": []
    },
    {
      "cell_type": "code",
      "metadata": {
        "id": "7-aWzHriS1Xk",
        "colab_type": "code",
        "colab": {
          "base_uri": "https://localhost:8080/",
          "height": 664
        },
        "outputId": "725a3b10-a5a0-440b-e3b4-5b06ff7ef1da"
      },
      "source": [
        "# Dates are overlapping and points are not clear so will have to modifying the plotting paramters\n",
        "# pixel Dimensions\n",
        "plt.figure(figsize=(16,10)) \n",
        "\n",
        "# rotate date/time by 90*, set fontsize = 10\n",
        "plt.xticks(rotation = 90,fontsize = 10 ) \n",
        "\n",
        "# Extract only the date from date-time\n",
        "# sns.pointplot(total_confirmed_cases['Date'].dt.date,total_confirmed_cases['Confirmed'],color='red')\n",
        "# sns.pointplot(total_confirmed_cases['Date'].dt.date,total_death_cases['Deaths'],color='blue')\n",
        "plt.plot(total_confirmed_cases['Date'].dt.date,total_confirmed_cases['Confirmed'],color='red',label='Confirmed')\n",
        "plt.plot(total_death_cases['Date'].dt.date,total_death_cases['Deaths'],color='blue',label='Deaths')\n",
        "\n",
        "# Plotting the axes titles\n",
        "plt.xlabel(\"Dates\")\n",
        "plt.ylabel(\"Total Deaths and Confirmed Cases\")\n",
        "plt.legend(loc=2)\n",
        "plt.show()"
      ],
      "execution_count": null,
      "outputs": []
    },
    {
      "cell_type": "code",
      "metadata": {
        "id": "5dIc3GRJNaz1",
        "colab_type": "code",
        "colab": {
          "base_uri": "https://localhost:8080/",
          "height": 204
        },
        "outputId": "4bb04387-5e64-4597-9f3e-3c35bb89c2e4"
      },
      "source": [
        "### Top 20 Countries having the most number of the Confirmed Cases\n",
        "### Grouping based on country and sorting based on cumulative descending Confirmed cases\n",
        "top_confirmed = top.groupby('country')['Confirmed'].sum().sort_values(ascending=False).reset_index()\n",
        "top_confirmed.head()"
      ],
      "execution_count": null,
      "outputs": []
    },
    {
      "cell_type": "code",
      "metadata": {
        "id": "NU-m29CHP0fP",
        "colab_type": "code",
        "colab": {
          "base_uri": "https://localhost:8080/",
          "height": 374
        },
        "outputId": "d0034e79-fdaa-4a19-94c5-79819b6bf93e"
      },
      "source": [
        "top_20 = top_confirmed.head(20)\n",
        "print(top_20)"
      ],
      "execution_count": null,
      "outputs": []
    },
    {
      "cell_type": "code",
      "metadata": {
        "id": "m6PfK1pKQV-B",
        "colab_type": "code",
        "colab": {
          "base_uri": "https://localhost:8080/",
          "height": 606
        },
        "outputId": "616f33be-cd16-46a3-cb9f-d29aa05fe55d"
      },
      "source": [
        "### PLotting the data in the form of Bar Graph\n",
        "plt.figure(figsize=(12,10))\n",
        "sns.barplot(top_20['Confirmed'],top_20['country'],label='Confirmed') # barplot\n",
        "plt.plot(top_20['Confirmed'],top_20['country'])  #lineplot\n",
        "plt.scatter(top_20['Confirmed'],top_20['country']) #scatterplot\n",
        "plt.legend(loc=4)  # loc = 4 (means 4th Quadrant)\n",
        "plt.show()"
      ],
      "execution_count": null,
      "outputs": []
    },
    {
      "cell_type": "code",
      "metadata": {
        "id": "m2l8mR1rQrY7",
        "colab_type": "code",
        "colab": {
          "base_uri": "https://localhost:8080/",
          "height": 265
        },
        "outputId": "c6de4bd6-77b7-415a-9a64-2b7976eea147"
      },
      "source": [
        "#### \n",
        "\n",
        "x= [1,2,3,4,5]\n",
        "y=[10,20,20,30,40]\n",
        "plt.bar(x,y,color = 'red')\n",
        "plt.show()"
      ],
      "execution_count": null,
      "outputs": []
    },
    {
      "cell_type": "code",
      "metadata": {
        "id": "6VFpXr5PTEmK",
        "colab_type": "code",
        "colab": {
          "base_uri": "https://localhost:8080/",
          "height": 272
        },
        "outputId": "654dd200-4717-4d38-babe-70b48a08acae"
      },
      "source": [
        "#### Make the data frames for some countries\n",
        "## China \n",
        "china = df[df['country'] == 'China']\n",
        "china = china.groupby('Date')['Active','Confirmed','Recovered','Deaths'].sum().reset_index()\n",
        "china.head()"
      ],
      "execution_count": null,
      "outputs": []
    },
    {
      "cell_type": "code",
      "metadata": {
        "id": "j4DmdyvMTfwI",
        "colab_type": "code",
        "colab": {
          "base_uri": "https://localhost:8080/",
          "height": 272
        },
        "outputId": "833dae25-265e-4bf0-d8d8-501f701b124b"
      },
      "source": [
        "# Italy\n",
        "italy = df[df['country'] == 'Italy']\n",
        "italy = italy.groupby('Date')['Active','Confirmed','Recovered','Deaths'].sum().reset_index()\n",
        "italy.head()"
      ],
      "execution_count": null,
      "outputs": []
    },
    {
      "cell_type": "code",
      "metadata": {
        "id": "3oKkiINoT41c",
        "colab_type": "code",
        "colab": {
          "base_uri": "https://localhost:8080/",
          "height": 272
        },
        "outputId": "eb8ae08d-a6e9-4ba6-99b2-87b227321794"
      },
      "source": [
        "# India\n",
        "india = df[df['country'] == 'India']\n",
        "india = india.groupby('Date')['Active','Confirmed','Recovered','Deaths'].sum().reset_index()\n",
        "india.head()"
      ],
      "execution_count": null,
      "outputs": []
    },
    {
      "cell_type": "code",
      "metadata": {
        "id": "zye3LvqlT4qU",
        "colab_type": "code",
        "colab": {
          "base_uri": "https://localhost:8080/",
          "height": 272
        },
        "outputId": "ab13798b-0e07-4ef3-acb6-381b060c29c6"
      },
      "source": [
        "# US\n",
        "us = df[df['country'] == 'US']\n",
        "us = us.groupby('Date')['Active','Confirmed','Recovered','Deaths'].sum().reset_index()\n",
        "us.head()"
      ],
      "execution_count": null,
      "outputs": []
    },
    {
      "cell_type": "code",
      "metadata": {
        "id": "iZhlwm7NT5ob",
        "colab_type": "code",
        "colab": {
          "base_uri": "https://localhost:8080/",
          "height": 272
        },
        "outputId": "3ac87762-e3fb-4dad-f0e0-354b4b580ce8"
      },
      "source": [
        "# Germany\n",
        "germany = df[df['country'] == 'Germany']\n",
        "germany = germany.groupby('Date')['Active','Confirmed','Recovered','Deaths'].sum().reset_index()\n",
        "germany.head()"
      ],
      "execution_count": null,
      "outputs": []
    },
    {
      "cell_type": "code",
      "metadata": {
        "id": "h-Pb64iaUMK5",
        "colab_type": "code",
        "colab": {
          "base_uri": "https://localhost:8080/",
          "height": 483
        },
        "outputId": "8179a5b3-6b92-4043-b0d8-eec2661a1050"
      },
      "source": [
        "# Taking the serial no on the X-axis\n",
        "# Plotting all the line plots\n",
        "plt.figure(figsize=(10,8))\n",
        "plt.plot(china.index,china['Recovered'],color = 'red',label='China')\n",
        "plt.plot(us.index,us['Recovered'],color = 'blue',label='US')\n",
        "plt.plot(germany.index,germany['Recovered'],color = 'yellow',label='Germany')\n",
        "plt.plot(india.index,india['Recovered'],color = 'green',label='India')\n",
        "plt.plot(italy.index,italy['Recovered'],color = 'black',label='Italy')\n",
        "\n",
        "# Plotting all the scatter plots\n",
        "# Changing the marker style and size\n",
        "# Remove labels so they don't appear again\n",
        "plt.scatter(china.index,china['Recovered'],color = 'red',marker = \".\" , s = 200)\n",
        "plt.scatter(us.index,us['Recovered'],color = 'blue')\n",
        "plt.scatter(germany.index,germany['Recovered'],color = 'yellow')\n",
        "plt.scatter(india.index,india['Recovered'],color = 'green')\n",
        "plt.scatter(italy.index,italy['Recovered'],color = 'black')\n",
        "\n",
        "plt.legend(loc = 2)\n",
        "plt.show()"
      ],
      "execution_count": null,
      "outputs": []
    },
    {
      "cell_type": "code",
      "metadata": {
        "id": "Tri0BybaVULa",
        "colab_type": "code",
        "colab": {}
      },
      "source": [
        "### Forecasting of Time Series "
      ],
      "execution_count": null,
      "outputs": []
    },
    {
      "cell_type": "code",
      "metadata": {
        "id": "Zdg7yxJBZFdd",
        "colab_type": "code",
        "colab": {}
      },
      "source": [
        "### Using library Fbprophet - Time Series Analysis(Forecasting) - Created by Facebook\n",
        "### Using ARIMA (ARIMA is an acronym that stands for AutoRegressive Integrated Moving Average.)\n",
        "\n",
        "### Forcasting for confirmed cases"
      ],
      "execution_count": null,
      "outputs": []
    },
    {
      "cell_type": "code",
      "metadata": {
        "id": "xSNIG8DaZkyM",
        "colab_type": "code",
        "colab": {}
      },
      "source": [
        "# Fbprophet is the complete library\n",
        "# Prophet is the name of class\n",
        "from fbprophet import Prophet"
      ],
      "execution_count": null,
      "outputs": []
    },
    {
      "cell_type": "code",
      "metadata": {
        "id": "diiLKydSZtGP",
        "colab_type": "code",
        "colab": {
          "base_uri": "https://localhost:8080/",
          "height": 272
        },
        "outputId": "09ce1489-d1b7-4d82-be67-106a525ba0de"
      },
      "source": [
        "# Checking the date-time format\n",
        "df.info()"
      ],
      "execution_count": null,
      "outputs": []
    },
    {
      "cell_type": "code",
      "metadata": {
        "id": "7MLngSPAZt_u",
        "colab_type": "code",
        "colab": {
          "base_uri": "https://localhost:8080/",
          "height": 204
        },
        "outputId": "6cb89d4b-8b52-4e99-b5b6-7793e15cf032"
      },
      "source": [
        "df.head()"
      ],
      "execution_count": null,
      "outputs": []
    },
    {
      "cell_type": "code",
      "metadata": {
        "id": "JCVOYexbaCT6",
        "colab_type": "code",
        "colab": {
          "base_uri": "https://localhost:8080/",
          "height": 204
        },
        "outputId": "bc36448e-5c5b-48a8-c4b2-794f9ae39dde"
      },
      "source": [
        "# Grouping by the date column\n",
        "confirmed = df.groupby('Date')['Confirmed'].sum().reset_index()\n",
        "confirmed.head()"
      ],
      "execution_count": null,
      "outputs": []
    },
    {
      "cell_type": "code",
      "metadata": {
        "id": "Z2DXwfwEaMXn",
        "colab_type": "code",
        "colab": {
          "base_uri": "https://localhost:8080/",
          "height": 204
        },
        "outputId": "d347af47-40cf-47c0-b437-d5a67f062750"
      },
      "source": [
        "### According to the Fbprophet - Date Column name should be 'ds' and the data name should be 'y'\n",
        "confirmed = confirmed.rename(columns={\"Date\" : \"ds\" , \"Confirmed\" : \"y\"})\n",
        "confirmed.head()"
      ],
      "execution_count": null,
      "outputs": []
    },
    {
      "cell_type": "code",
      "metadata": {
        "id": "6PKCG7ppau87",
        "colab_type": "code",
        "colab": {}
      },
      "source": [
        "#### Building the model\n",
        "## model will try its best to give 95 % accurate result (confidence interval in statistics)\n",
        "## 5 % error is allowed\n",
        "model = Prophet(interval_width=0.95)"
      ],
      "execution_count": null,
      "outputs": []
    },
    {
      "cell_type": "code",
      "metadata": {
        "id": "13WdEJMcbI45",
        "colab_type": "code",
        "colab": {
          "base_uri": "https://localhost:8080/",
          "height": 68
        },
        "outputId": "9e5c530b-ae71-4e05-c0a8-75248b7db72b"
      },
      "source": [
        "### Train the model\n",
        "## In forecasting (unlike eg Linear Regreesion) , we pass entire data\n",
        "model.fit(confirmed)\n",
        "# Ignore the warning"
      ],
      "execution_count": null,
      "outputs": []
    },
    {
      "cell_type": "code",
      "metadata": {
        "id": "G6FSF2embwBR",
        "colab_type": "code",
        "colab": {
          "base_uri": "https://localhost:8080/",
          "height": 266
        },
        "outputId": "69928e2c-6137-4f00-c09b-3ec88c61c8b7"
      },
      "source": [
        "# We are forecasting for the next 7 days\n",
        "future_dates = model.make_future_dataframe(periods=7)\n",
        "future_dates.tail(7)"
      ],
      "execution_count": null,
      "outputs": []
    },
    {
      "cell_type": "code",
      "metadata": {
        "id": "69GsFE1HcMD0",
        "colab_type": "code",
        "colab": {
          "base_uri": "https://localhost:8080/",
          "height": 255
        },
        "outputId": "4911e291-d77a-4c46-c6ad-19106d7da286"
      },
      "source": [
        "# Predicting based on the trained model\n",
        "forecast = model.predict(future_dates)\n",
        "print(forecast)"
      ],
      "execution_count": null,
      "outputs": []
    },
    {
      "cell_type": "code",
      "metadata": {
        "id": "Tgiws10XdQDn",
        "colab_type": "code",
        "colab": {
          "base_uri": "https://localhost:8080/",
          "height": 359
        },
        "outputId": "1264169b-f2be-4bee-caa5-af9fb75c124d"
      },
      "source": [
        "# Giving the range of values for forecast for the next few days\n",
        "forecast[['ds','yhat','yhat_lower','yhat_upper']].tail(10)"
      ],
      "execution_count": null,
      "outputs": []
    },
    {
      "cell_type": "code",
      "metadata": {
        "id": "1iOnSklidhuj",
        "colab_type": "code",
        "colab": {
          "base_uri": "https://localhost:8080/",
          "height": 441
        },
        "outputId": "ed9af90a-2c7d-4066-d2d2-5457607996d4"
      },
      "source": [
        "### Plot the data\n",
        "## Dots = Actual value, Blue line = forcasted Value  \n",
        "confirmed_plot = model.plot(forecast)"
      ],
      "execution_count": null,
      "outputs": []
    },
    {
      "cell_type": "code",
      "metadata": {
        "id": "oQTXX2oMffVo",
        "colab_type": "code",
        "colab": {
          "base_uri": "https://localhost:8080/",
          "height": 441
        },
        "outputId": "ffcbec1e-5349-4b3e-dbfd-8f16183ee443"
      },
      "source": [
        "### Plot Weekly Data\n",
        "## People are going out on the weekends,that's why the weekends have higher rates\n",
        "confirmed_plot_weekly = model.plot_components(forecast)"
      ],
      "execution_count": null,
      "outputs": []
    },
    {
      "cell_type": "code",
      "metadata": {
        "id": "CEHHVwVOfqOx",
        "colab_type": "code",
        "colab": {}
      },
      "source": [
        "### For India"
      ],
      "execution_count": null,
      "outputs": []
    },
    {
      "cell_type": "code",
      "metadata": {
        "id": "yrPj3FvrhRnG",
        "colab_type": "code",
        "colab": {
          "base_uri": "https://localhost:8080/",
          "height": 1000
        },
        "outputId": "ec934201-50fa-463f-d796-00cc13f86652"
      },
      "source": [
        "from fbprophet import Prophet\n",
        "\n",
        "df_india = df[df['country']=='India']\n",
        "df_india.head()\n",
        "\n",
        "\n",
        "# Grouping by the date column\n",
        "confirmed = df_india.groupby('Date')['Confirmed'].sum().reset_index()\n",
        "confirmed.head()\n",
        "\n",
        "### According to the Fbprophet - Date Column name should be 'ds' and the data name should be 'y'\n",
        "confirmed = confirmed.rename(columns={\"Date\" : \"ds\" , \"Confirmed\" : \"y\"})\n",
        "confirmed.head()\n",
        "\n",
        "#### Building the model\n",
        "## model will try its best to give 95 % accurate result (confidence interval in statistics)\n",
        "## 5 % error is allowed\n",
        "model = Prophet(interval_width=0.95)\n",
        "\n",
        "### Train the model\n",
        "## In forecasting (unlike eg Linear Regreesion) , we pass entire data\n",
        "model.fit(confirmed)\n",
        "# Ignore the warning\n",
        "\n",
        "# We are forecasting for the next 7 days\n",
        "future_dates = model.make_future_dataframe(periods=7)\n",
        "future_dates.tail(7)\n",
        "\n",
        "# Predicting based on the trained model\n",
        "forecast = model.predict(future_dates)\n",
        "print(forecast)\n",
        "\n",
        "# Giving the range of values for forecast for the next few days\n",
        "forecast[['ds','yhat','yhat_lower','yhat_upper']].tail(10)\n",
        "\n",
        "### Plot the data\n",
        "## Dots = Actual value, Blue line = forcasted Value  \n",
        "confirmed_plot = model.plot(forecast)\n",
        "\n",
        "print()\n",
        "\n",
        "### Plot Weekly Data\n",
        "## People are going out on the weekends,that's why the weekends have higher rates\n",
        "confirmed_plot_weekly = model.plot_components(forecast)"
      ],
      "execution_count": null,
      "outputs": []
    },
    {
      "cell_type": "code",
      "metadata": {
        "id": "B3hn11PDh9g7",
        "colab_type": "code",
        "colab": {}
      },
      "source": [
        "# More information on\n",
        "# https://facebook.github.io/prophet/docs/diagnostics.html\n"
      ],
      "execution_count": null,
      "outputs": []
    }
  ],
  "metadata": {
    "colab": {
      "name": "COVID 19 Data Analysis World-Wide 2020.ipynb",
      "provenance": [],
      "collapsed_sections": []
    },
    "kernelspec": {
      "name": "python38132bit51bf2d4383df4065b0c992fe407a3440",
      "display_name": "Python 3.8.1 32-bit"
    }
  },
  "nbformat": 4,
  "nbformat_minor": 0
}