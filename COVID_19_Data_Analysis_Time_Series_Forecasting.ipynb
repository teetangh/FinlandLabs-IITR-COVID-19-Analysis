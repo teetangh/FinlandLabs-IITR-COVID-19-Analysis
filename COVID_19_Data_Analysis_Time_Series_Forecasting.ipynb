{
  "cells": [
    {
      "cell_type": "code",
      "metadata": {
        "id": "n-U1g8pcD4LL",
        "colab_type": "code",
        "colab": {}
      },
      "source": [
        "path = 'https://raw.githubusercontent.com/umangkejriwal1122/Machine-Learning/master/Data%20Sets/covid_19_clean_complete.csv'"
      ],
      "execution_count": 1,
      "outputs": []
    },
    {
      "cell_type": "code",
      "metadata": {
        "id": "13B5WR9JD-fy",
        "colab_type": "code",
        "colab": {
          "base_uri": "https://localhost:8080/",
          "height": 51
        },
        "outputId": "7ac502c7-7de0-48cb-b2a3-d9055a939274"
      },
      "source": [
        "import numpy as np\n",
        "import pandas as pd\n",
        "import seaborn as sns\n",
        "import plotly.express as px     ### potting data on world map\n",
        "import matplotlib.pyplot as plt\n",
        "\n",
        "# pip install cython\n",
        "# pip install pystan\n",
        "# pip install fbprohet"
      ],
      "execution_count": 2,
      "outputs": []
    },
    {
      "cell_type": "code",
      "metadata": {
        "id": "OpUWt0oyEXnS",
        "colab_type": "code",
        "colab": {
          "base_uri": "https://localhost:8080/",
          "height": 204
        },
        "outputId": "3b3d70d3-ff05-4660-dfd4-f5d3f1a72359"
      },
      "source": [
        "df = pd.read_csv(path)\n",
        "df.head()"
      ],
      "execution_count": 3,
      "outputs": [
        {
          "output_type": "execute_result",
          "data": {
            "text/plain": "  Province/State Country/Region      Lat     Long     Date  Confirmed  Deaths  \\\n0            NaN    Afghanistan  33.0000  65.0000  1/22/20          0       0   \n1            NaN        Albania  41.1533  20.1683  1/22/20          0       0   \n2            NaN        Algeria  28.0339   1.6596  1/22/20          0       0   \n3            NaN        Andorra  42.5063   1.5218  1/22/20          0       0   \n4            NaN         Angola -11.2027  17.8739  1/22/20          0       0   \n\n   Recovered  \n0          0  \n1          0  \n2          0  \n3          0  \n4          0  ",
            "text/html": "<div>\n<style scoped>\n    .dataframe tbody tr th:only-of-type {\n        vertical-align: middle;\n    }\n\n    .dataframe tbody tr th {\n        vertical-align: top;\n    }\n\n    .dataframe thead th {\n        text-align: right;\n    }\n</style>\n<table border=\"1\" class=\"dataframe\">\n  <thead>\n    <tr style=\"text-align: right;\">\n      <th></th>\n      <th>Province/State</th>\n      <th>Country/Region</th>\n      <th>Lat</th>\n      <th>Long</th>\n      <th>Date</th>\n      <th>Confirmed</th>\n      <th>Deaths</th>\n      <th>Recovered</th>\n    </tr>\n  </thead>\n  <tbody>\n    <tr>\n      <th>0</th>\n      <td>NaN</td>\n      <td>Afghanistan</td>\n      <td>33.0000</td>\n      <td>65.0000</td>\n      <td>1/22/20</td>\n      <td>0</td>\n      <td>0</td>\n      <td>0</td>\n    </tr>\n    <tr>\n      <th>1</th>\n      <td>NaN</td>\n      <td>Albania</td>\n      <td>41.1533</td>\n      <td>20.1683</td>\n      <td>1/22/20</td>\n      <td>0</td>\n      <td>0</td>\n      <td>0</td>\n    </tr>\n    <tr>\n      <th>2</th>\n      <td>NaN</td>\n      <td>Algeria</td>\n      <td>28.0339</td>\n      <td>1.6596</td>\n      <td>1/22/20</td>\n      <td>0</td>\n      <td>0</td>\n      <td>0</td>\n    </tr>\n    <tr>\n      <th>3</th>\n      <td>NaN</td>\n      <td>Andorra</td>\n      <td>42.5063</td>\n      <td>1.5218</td>\n      <td>1/22/20</td>\n      <td>0</td>\n      <td>0</td>\n      <td>0</td>\n    </tr>\n    <tr>\n      <th>4</th>\n      <td>NaN</td>\n      <td>Angola</td>\n      <td>-11.2027</td>\n      <td>17.8739</td>\n      <td>1/22/20</td>\n      <td>0</td>\n      <td>0</td>\n      <td>0</td>\n    </tr>\n  </tbody>\n</table>\n</div>"
          },
          "metadata": {},
          "execution_count": 3
        }
      ]
    },
    {
      "cell_type": "code",
      "metadata": {
        "id": "0oMvCYGkEffp",
        "colab_type": "code",
        "colab": {
          "base_uri": "https://localhost:8080/",
          "height": 272
        },
        "outputId": "e9d5320a-15b2-43b2-e544-453ab8513336"
      },
      "source": [
        "df.info()"
      ],
      "execution_count": 4,
      "outputs": [
        {
          "output_type": "stream",
          "name": "stdout",
          "text": "<class 'pandas.core.frame.DataFrame'>\nRangeIndex: 25676 entries, 0 to 25675\nData columns (total 8 columns):\n #   Column          Non-Null Count  Dtype  \n---  ------          --------------  -----  \n 0   Province/State  7840 non-null   object \n 1   Country/Region  25676 non-null  object \n 2   Lat             25676 non-null  float64\n 3   Long            25676 non-null  float64\n 4   Date            25676 non-null  object \n 5   Confirmed       25676 non-null  int64  \n 6   Deaths          25676 non-null  int64  \n 7   Recovered       25676 non-null  int64  \ndtypes: float64(2), int64(3), object(3)\nmemory usage: 1.3+ MB\n"
        }
      ]
    },
    {
      "cell_type": "code",
      "metadata": {
        "id": "-PjBwnrMEiZ7",
        "colab_type": "code",
        "colab": {
          "base_uri": "https://localhost:8080/",
          "height": 204
        },
        "outputId": "af2b1bd6-37b5-40d1-a84f-cabe4a888372"
      },
      "source": [
        "df.drop(['Province/State'],axis=1,inplace = True)\n",
        "df.head()"
      ],
      "execution_count": 5,
      "outputs": [
        {
          "output_type": "execute_result",
          "data": {
            "text/plain": "  Country/Region      Lat     Long     Date  Confirmed  Deaths  Recovered\n0    Afghanistan  33.0000  65.0000  1/22/20          0       0          0\n1        Albania  41.1533  20.1683  1/22/20          0       0          0\n2        Algeria  28.0339   1.6596  1/22/20          0       0          0\n3        Andorra  42.5063   1.5218  1/22/20          0       0          0\n4         Angola -11.2027  17.8739  1/22/20          0       0          0",
            "text/html": "<div>\n<style scoped>\n    .dataframe tbody tr th:only-of-type {\n        vertical-align: middle;\n    }\n\n    .dataframe tbody tr th {\n        vertical-align: top;\n    }\n\n    .dataframe thead th {\n        text-align: right;\n    }\n</style>\n<table border=\"1\" class=\"dataframe\">\n  <thead>\n    <tr style=\"text-align: right;\">\n      <th></th>\n      <th>Country/Region</th>\n      <th>Lat</th>\n      <th>Long</th>\n      <th>Date</th>\n      <th>Confirmed</th>\n      <th>Deaths</th>\n      <th>Recovered</th>\n    </tr>\n  </thead>\n  <tbody>\n    <tr>\n      <th>0</th>\n      <td>Afghanistan</td>\n      <td>33.0000</td>\n      <td>65.0000</td>\n      <td>1/22/20</td>\n      <td>0</td>\n      <td>0</td>\n      <td>0</td>\n    </tr>\n    <tr>\n      <th>1</th>\n      <td>Albania</td>\n      <td>41.1533</td>\n      <td>20.1683</td>\n      <td>1/22/20</td>\n      <td>0</td>\n      <td>0</td>\n      <td>0</td>\n    </tr>\n    <tr>\n      <th>2</th>\n      <td>Algeria</td>\n      <td>28.0339</td>\n      <td>1.6596</td>\n      <td>1/22/20</td>\n      <td>0</td>\n      <td>0</td>\n      <td>0</td>\n    </tr>\n    <tr>\n      <th>3</th>\n      <td>Andorra</td>\n      <td>42.5063</td>\n      <td>1.5218</td>\n      <td>1/22/20</td>\n      <td>0</td>\n      <td>0</td>\n      <td>0</td>\n    </tr>\n    <tr>\n      <th>4</th>\n      <td>Angola</td>\n      <td>-11.2027</td>\n      <td>17.8739</td>\n      <td>1/22/20</td>\n      <td>0</td>\n      <td>0</td>\n      <td>0</td>\n    </tr>\n  </tbody>\n</table>\n</div>"
          },
          "metadata": {},
          "execution_count": 5
        }
      ]
    },
    {
      "cell_type": "code",
      "metadata": {
        "id": "le74Xk2zEwWx",
        "colab_type": "code",
        "colab": {}
      },
      "source": [
        "df = df.rename(columns={\"Country/Region\" : 'country'})"
      ],
      "execution_count": 6,
      "outputs": []
    },
    {
      "cell_type": "code",
      "metadata": {
        "id": "a8k7pLvbFFLn",
        "colab_type": "code",
        "colab": {
          "base_uri": "https://localhost:8080/",
          "height": 204
        },
        "outputId": "c3de53fb-8113-475c-a90c-1f9feeadf62e"
      },
      "source": [
        "df.head()"
      ],
      "execution_count": 7,
      "outputs": [
        {
          "output_type": "execute_result",
          "data": {
            "text/plain": "       country      Lat     Long     Date  Confirmed  Deaths  Recovered\n0  Afghanistan  33.0000  65.0000  1/22/20          0       0          0\n1      Albania  41.1533  20.1683  1/22/20          0       0          0\n2      Algeria  28.0339   1.6596  1/22/20          0       0          0\n3      Andorra  42.5063   1.5218  1/22/20          0       0          0\n4       Angola -11.2027  17.8739  1/22/20          0       0          0",
            "text/html": "<div>\n<style scoped>\n    .dataframe tbody tr th:only-of-type {\n        vertical-align: middle;\n    }\n\n    .dataframe tbody tr th {\n        vertical-align: top;\n    }\n\n    .dataframe thead th {\n        text-align: right;\n    }\n</style>\n<table border=\"1\" class=\"dataframe\">\n  <thead>\n    <tr style=\"text-align: right;\">\n      <th></th>\n      <th>country</th>\n      <th>Lat</th>\n      <th>Long</th>\n      <th>Date</th>\n      <th>Confirmed</th>\n      <th>Deaths</th>\n      <th>Recovered</th>\n    </tr>\n  </thead>\n  <tbody>\n    <tr>\n      <th>0</th>\n      <td>Afghanistan</td>\n      <td>33.0000</td>\n      <td>65.0000</td>\n      <td>1/22/20</td>\n      <td>0</td>\n      <td>0</td>\n      <td>0</td>\n    </tr>\n    <tr>\n      <th>1</th>\n      <td>Albania</td>\n      <td>41.1533</td>\n      <td>20.1683</td>\n      <td>1/22/20</td>\n      <td>0</td>\n      <td>0</td>\n      <td>0</td>\n    </tr>\n    <tr>\n      <th>2</th>\n      <td>Algeria</td>\n      <td>28.0339</td>\n      <td>1.6596</td>\n      <td>1/22/20</td>\n      <td>0</td>\n      <td>0</td>\n      <td>0</td>\n    </tr>\n    <tr>\n      <th>3</th>\n      <td>Andorra</td>\n      <td>42.5063</td>\n      <td>1.5218</td>\n      <td>1/22/20</td>\n      <td>0</td>\n      <td>0</td>\n      <td>0</td>\n    </tr>\n    <tr>\n      <th>4</th>\n      <td>Angola</td>\n      <td>-11.2027</td>\n      <td>17.8739</td>\n      <td>1/22/20</td>\n      <td>0</td>\n      <td>0</td>\n      <td>0</td>\n    </tr>\n  </tbody>\n</table>\n</div>"
          },
          "metadata": {},
          "execution_count": 7
        }
      ]
    },
    {
      "cell_type": "code",
      "metadata": {
        "id": "jFZUTTOUFGDz",
        "colab_type": "code",
        "colab": {
          "base_uri": "https://localhost:8080/",
          "height": 119
        },
        "outputId": "b090df76-7403-4fad-8bab-0d7eb4a8615a"
      },
      "source": [
        "active = df['Confirmed'] - df['Recovered'] - df['Deaths']\n",
        "active.tail()"
      ],
      "execution_count": 8,
      "outputs": [
        {
          "output_type": "execute_result",
          "data": {
            "text/plain": "25671     1\n25672    34\n25673     1\n25674     4\n25675     1\ndtype: int64"
          },
          "metadata": {},
          "execution_count": 8
        }
      ]
    },
    {
      "cell_type": "code",
      "metadata": {
        "id": "Y8f-22ToFtRW",
        "colab_type": "code",
        "colab": {
          "base_uri": "https://localhost:8080/",
          "height": 204
        },
        "outputId": "00d27f53-f26e-46b4-f9f9-86d28d106593"
      },
      "source": [
        "# concatenate alternative\n",
        "df['Active'] = active\n",
        "df.tail()"
      ],
      "execution_count": 9,
      "outputs": [
        {
          "output_type": "execute_result",
          "data": {
            "text/plain": "                     country        Lat       Long     Date  Confirmed  \\\n25671                 France  46.885200 -56.315900  4/28/20          1   \n25672            South Sudan   6.877000  31.307000  4/28/20         34   \n25673         Western Sahara  24.215500 -12.885800  4/28/20          6   \n25674  Sao Tome and Principe   0.186360   6.613081  4/28/20          8   \n25675                  Yemen  15.552727  48.516388  4/28/20          1   \n\n       Deaths  Recovered  Active  \n25671       0          0       1  \n25672       0          0      34  \n25673       0          5       1  \n25674       0          4       4  \n25675       0          0       1  ",
            "text/html": "<div>\n<style scoped>\n    .dataframe tbody tr th:only-of-type {\n        vertical-align: middle;\n    }\n\n    .dataframe tbody tr th {\n        vertical-align: top;\n    }\n\n    .dataframe thead th {\n        text-align: right;\n    }\n</style>\n<table border=\"1\" class=\"dataframe\">\n  <thead>\n    <tr style=\"text-align: right;\">\n      <th></th>\n      <th>country</th>\n      <th>Lat</th>\n      <th>Long</th>\n      <th>Date</th>\n      <th>Confirmed</th>\n      <th>Deaths</th>\n      <th>Recovered</th>\n      <th>Active</th>\n    </tr>\n  </thead>\n  <tbody>\n    <tr>\n      <th>25671</th>\n      <td>France</td>\n      <td>46.885200</td>\n      <td>-56.315900</td>\n      <td>4/28/20</td>\n      <td>1</td>\n      <td>0</td>\n      <td>0</td>\n      <td>1</td>\n    </tr>\n    <tr>\n      <th>25672</th>\n      <td>South Sudan</td>\n      <td>6.877000</td>\n      <td>31.307000</td>\n      <td>4/28/20</td>\n      <td>34</td>\n      <td>0</td>\n      <td>0</td>\n      <td>34</td>\n    </tr>\n    <tr>\n      <th>25673</th>\n      <td>Western Sahara</td>\n      <td>24.215500</td>\n      <td>-12.885800</td>\n      <td>4/28/20</td>\n      <td>6</td>\n      <td>0</td>\n      <td>5</td>\n      <td>1</td>\n    </tr>\n    <tr>\n      <th>25674</th>\n      <td>Sao Tome and Principe</td>\n      <td>0.186360</td>\n      <td>6.613081</td>\n      <td>4/28/20</td>\n      <td>8</td>\n      <td>0</td>\n      <td>4</td>\n      <td>4</td>\n    </tr>\n    <tr>\n      <th>25675</th>\n      <td>Yemen</td>\n      <td>15.552727</td>\n      <td>48.516388</td>\n      <td>4/28/20</td>\n      <td>1</td>\n      <td>0</td>\n      <td>0</td>\n      <td>1</td>\n    </tr>\n  </tbody>\n</table>\n</div>"
          },
          "metadata": {},
          "execution_count": 9
        }
      ]
    },
    {
      "cell_type": "code",
      "metadata": {
        "id": "BDagP0myF3xY",
        "colab_type": "code",
        "colab": {
          "base_uri": "https://localhost:8080/",
          "height": 272
        },
        "outputId": "6154c017-7ce4-4333-c1fb-15e56d82c9c1"
      },
      "source": [
        "# \n",
        "df.info()"
      ],
      "execution_count": 10,
      "outputs": [
        {
          "output_type": "stream",
          "name": "stdout",
          "text": "<class 'pandas.core.frame.DataFrame'>\nRangeIndex: 25676 entries, 0 to 25675\nData columns (total 8 columns):\n #   Column     Non-Null Count  Dtype  \n---  ------     --------------  -----  \n 0   country    25676 non-null  object \n 1   Lat        25676 non-null  float64\n 2   Long       25676 non-null  float64\n 3   Date       25676 non-null  object \n 4   Confirmed  25676 non-null  int64  \n 5   Deaths     25676 non-null  int64  \n 6   Recovered  25676 non-null  int64  \n 7   Active     25676 non-null  int64  \ndtypes: float64(2), int64(4), object(2)\nmemory usage: 1.4+ MB\n"
        }
      ]
    },
    {
      "cell_type": "code",
      "metadata": {
        "id": "2jErM0tSGiVq",
        "colab_type": "code",
        "colab": {
          "base_uri": "https://localhost:8080/",
          "height": 272
        },
        "outputId": "4db6a7bd-4cb5-49fe-df0b-71924745a0d6"
      },
      "source": [
        "### Converting the Data Time object to datetime64[ns] format\n",
        "df['Date'] = pd.to_datetime(df['Date'])\n",
        "df.info()"
      ],
      "execution_count": 11,
      "outputs": [
        {
          "output_type": "stream",
          "name": "stdout",
          "text": "<class 'pandas.core.frame.DataFrame'>\nRangeIndex: 25676 entries, 0 to 25675\nData columns (total 8 columns):\n #   Column     Non-Null Count  Dtype         \n---  ------     --------------  -----         \n 0   country    25676 non-null  object        \n 1   Lat        25676 non-null  float64       \n 2   Long       25676 non-null  float64       \n 3   Date       25676 non-null  datetime64[ns]\n 4   Confirmed  25676 non-null  int64         \n 5   Deaths     25676 non-null  int64         \n 6   Recovered  25676 non-null  int64         \n 7   Active     25676 non-null  int64         \ndtypes: datetime64[ns](1), float64(2), int64(4), object(1)\nmemory usage: 1.5+ MB\n"
        }
      ]
    },
    {
      "cell_type": "code",
      "metadata": {
        "id": "z9ybUntLG70A",
        "colab_type": "code",
        "colab": {
          "base_uri": "https://localhost:8080/",
          "height": 204
        },
        "outputId": "054e3294-d689-4346-fe57-1fb7e6cf27aa"
      },
      "source": [
        "# Filter the data on the basis of the latest date\n",
        "# top = df[df['Date'] == '2020-04-28']\n",
        "top = df[df['Date'] == df['Date'].max()]\n",
        "top.head()"
      ],
      "execution_count": 12,
      "outputs": [
        {
          "output_type": "execute_result",
          "data": {
            "text/plain": "           country      Lat     Long       Date  Confirmed  Deaths  Recovered  \\\n25414  Afghanistan  33.0000  65.0000 2020-04-28       1828      58        228   \n25415      Albania  41.1533  20.1683 2020-04-28        750      30        431   \n25416      Algeria  28.0339   1.6596 2020-04-28       3649     437       1651   \n25417      Andorra  42.5063   1.5218 2020-04-28        743      41        398   \n25418       Angola -11.2027  17.8739 2020-04-28         27       2          6   \n\n       Active  \n25414    1542  \n25415     289  \n25416    1561  \n25417     304  \n25418      19  ",
            "text/html": "<div>\n<style scoped>\n    .dataframe tbody tr th:only-of-type {\n        vertical-align: middle;\n    }\n\n    .dataframe tbody tr th {\n        vertical-align: top;\n    }\n\n    .dataframe thead th {\n        text-align: right;\n    }\n</style>\n<table border=\"1\" class=\"dataframe\">\n  <thead>\n    <tr style=\"text-align: right;\">\n      <th></th>\n      <th>country</th>\n      <th>Lat</th>\n      <th>Long</th>\n      <th>Date</th>\n      <th>Confirmed</th>\n      <th>Deaths</th>\n      <th>Recovered</th>\n      <th>Active</th>\n    </tr>\n  </thead>\n  <tbody>\n    <tr>\n      <th>25414</th>\n      <td>Afghanistan</td>\n      <td>33.0000</td>\n      <td>65.0000</td>\n      <td>2020-04-28</td>\n      <td>1828</td>\n      <td>58</td>\n      <td>228</td>\n      <td>1542</td>\n    </tr>\n    <tr>\n      <th>25415</th>\n      <td>Albania</td>\n      <td>41.1533</td>\n      <td>20.1683</td>\n      <td>2020-04-28</td>\n      <td>750</td>\n      <td>30</td>\n      <td>431</td>\n      <td>289</td>\n    </tr>\n    <tr>\n      <th>25416</th>\n      <td>Algeria</td>\n      <td>28.0339</td>\n      <td>1.6596</td>\n      <td>2020-04-28</td>\n      <td>3649</td>\n      <td>437</td>\n      <td>1651</td>\n      <td>1561</td>\n    </tr>\n    <tr>\n      <th>25417</th>\n      <td>Andorra</td>\n      <td>42.5063</td>\n      <td>1.5218</td>\n      <td>2020-04-28</td>\n      <td>743</td>\n      <td>41</td>\n      <td>398</td>\n      <td>304</td>\n    </tr>\n    <tr>\n      <th>25418</th>\n      <td>Angola</td>\n      <td>-11.2027</td>\n      <td>17.8739</td>\n      <td>2020-04-28</td>\n      <td>27</td>\n      <td>2</td>\n      <td>6</td>\n      <td>19</td>\n    </tr>\n  </tbody>\n</table>\n</div>"
          },
          "metadata": {},
          "execution_count": 12
        }
      ]
    },
    {
      "cell_type": "code",
      "metadata": {
        "id": "P1Jm5WAtHuah",
        "colab_type": "code",
        "colab": {
          "base_uri": "https://localhost:8080/",
          "height": 272
        },
        "outputId": "52032df5-218f-4286-b516-4602445dda82"
      },
      "source": [
        "# Group on basis of the country(for all the dates) and display the cumulative 'Confirmed','Active','Recovered','Deaths'\n",
        "# Resetting index since the country indented to show the group by \"Basis\"\n",
        "# Also make country again as index since it's lost after grouping\n",
        "# In case of accidental duplicates,groupby eliminates those\n",
        "world = top.groupby('country')['Confirmed','Active','Recovered','Deaths'].sum().reset_index()\n",
        "world.head()"
      ],
      "execution_count": 13,
      "outputs": [
        {
          "output_type": "execute_result",
          "data": {
            "text/plain": "       country  Confirmed  Active  Recovered  Deaths\n0  Afghanistan       1828    1542        228      58\n1      Albania        750     289        431      30\n2      Algeria       3649    1561       1651     437\n3      Andorra        743     304        398      41\n4       Angola         27      19          6       2",
            "text/html": "<div>\n<style scoped>\n    .dataframe tbody tr th:only-of-type {\n        vertical-align: middle;\n    }\n\n    .dataframe tbody tr th {\n        vertical-align: top;\n    }\n\n    .dataframe thead th {\n        text-align: right;\n    }\n</style>\n<table border=\"1\" class=\"dataframe\">\n  <thead>\n    <tr style=\"text-align: right;\">\n      <th></th>\n      <th>country</th>\n      <th>Confirmed</th>\n      <th>Active</th>\n      <th>Recovered</th>\n      <th>Deaths</th>\n    </tr>\n  </thead>\n  <tbody>\n    <tr>\n      <th>0</th>\n      <td>Afghanistan</td>\n      <td>1828</td>\n      <td>1542</td>\n      <td>228</td>\n      <td>58</td>\n    </tr>\n    <tr>\n      <th>1</th>\n      <td>Albania</td>\n      <td>750</td>\n      <td>289</td>\n      <td>431</td>\n      <td>30</td>\n    </tr>\n    <tr>\n      <th>2</th>\n      <td>Algeria</td>\n      <td>3649</td>\n      <td>1561</td>\n      <td>1651</td>\n      <td>437</td>\n    </tr>\n    <tr>\n      <th>3</th>\n      <td>Andorra</td>\n      <td>743</td>\n      <td>304</td>\n      <td>398</td>\n      <td>41</td>\n    </tr>\n    <tr>\n      <th>4</th>\n      <td>Angola</td>\n      <td>27</td>\n      <td>19</td>\n      <td>6</td>\n      <td>2</td>\n    </tr>\n  </tbody>\n</table>\n</div>"
          },
          "metadata": {},
          "execution_count": 13
        }
      ]
    },
    {
      "cell_type": "code",
      "metadata": {
        "id": "T15UgapoIkfD",
        "colab_type": "code",
        "colab": {
          "base_uri": "https://localhost:8080/",
          "height": 542
        },
        "outputId": "877456fe-4c9b-4cd0-bf9d-c81d6d098adf"
      },
      "source": [
        "### Plot on the World Map((Active Cases))\n",
        "figure = px.choropleth(world,locations='country',locationmode='country names',color='Active',\n",
        "                       color_continuous_scale='Peach', range_color=[1,1000],\n",
        "                       title = \"Countries with Active Cases\",hover_name = 'country')\n",
        "figure.show()"
      ],
      "execution_count": 14,
      "outputs": [
        {
          "output_type": "display_data",
          "data": {
            "application/vnd.plotly.v1+json": {
              "config": {
                "plotlyServerURL": "https://plot.ly"
              },
              "data": [
                {
                  "coloraxis": "coloraxis",
                  "geo": "geo",
                  "hovertemplate": "<b>%{hovertext}</b><br><br>country=%{location}<br>Active=%{z}<extra></extra>",
                  "hovertext": [
                    "Afghanistan",
                    "Albania",
                    "Algeria",
                    "Andorra",
                    "Angola",
                    "Antigua and Barbuda",
                    "Argentina",
                    "Armenia",
                    "Australia",
                    "Austria",
                    "Azerbaijan",
                    "Bahamas",
                    "Bahrain",
                    "Bangladesh",
                    "Barbados",
                    "Belarus",
                    "Belgium",
                    "Belize",
                    "Benin",
                    "Bhutan",
                    "Bolivia",
                    "Bosnia and Herzegovina",
                    "Botswana",
                    "Brazil",
                    "Brunei",
                    "Bulgaria",
                    "Burkina Faso",
                    "Burma",
                    "Burundi",
                    "Cabo Verde",
                    "Cambodia",
                    "Cameroon",
                    "Canada",
                    "Central African Republic",
                    "Chad",
                    "Chile",
                    "China",
                    "Colombia",
                    "Congo (Brazzaville)",
                    "Congo (Kinshasa)",
                    "Costa Rica",
                    "Cote d'Ivoire",
                    "Croatia",
                    "Cuba",
                    "Cyprus",
                    "Czechia",
                    "Denmark",
                    "Diamond Princess",
                    "Djibouti",
                    "Dominica",
                    "Dominican Republic",
                    "Ecuador",
                    "Egypt",
                    "El Salvador",
                    "Equatorial Guinea",
                    "Eritrea",
                    "Estonia",
                    "Eswatini",
                    "Ethiopia",
                    "Fiji",
                    "Finland",
                    "France",
                    "Gabon",
                    "Gambia",
                    "Georgia",
                    "Germany",
                    "Ghana",
                    "Greece",
                    "Grenada",
                    "Guatemala",
                    "Guinea",
                    "Guinea-Bissau",
                    "Guyana",
                    "Haiti",
                    "Holy See",
                    "Honduras",
                    "Hungary",
                    "Iceland",
                    "India",
                    "Indonesia",
                    "Iran",
                    "Iraq",
                    "Ireland",
                    "Israel",
                    "Italy",
                    "Jamaica",
                    "Japan",
                    "Jordan",
                    "Kazakhstan",
                    "Kenya",
                    "Kosovo",
                    "Kuwait",
                    "Kyrgyzstan",
                    "Laos",
                    "Latvia",
                    "Lebanon",
                    "Liberia",
                    "Libya",
                    "Liechtenstein",
                    "Lithuania",
                    "Luxembourg",
                    "MS Zaandam",
                    "Madagascar",
                    "Malawi",
                    "Malaysia",
                    "Maldives",
                    "Mali",
                    "Malta",
                    "Mauritania",
                    "Mauritius",
                    "Mexico",
                    "Moldova",
                    "Monaco",
                    "Mongolia",
                    "Montenegro",
                    "Morocco",
                    "Mozambique",
                    "Namibia",
                    "Nepal",
                    "Netherlands",
                    "New Zealand",
                    "Nicaragua",
                    "Niger",
                    "Nigeria",
                    "North Macedonia",
                    "Norway",
                    "Oman",
                    "Pakistan",
                    "Panama",
                    "Papua New Guinea",
                    "Paraguay",
                    "Peru",
                    "Philippines",
                    "Poland",
                    "Portugal",
                    "Qatar",
                    "Romania",
                    "Russia",
                    "Rwanda",
                    "Saint Kitts and Nevis",
                    "Saint Lucia",
                    "Saint Vincent and the Grenadines",
                    "San Marino",
                    "Sao Tome and Principe",
                    "Saudi Arabia",
                    "Senegal",
                    "Serbia",
                    "Seychelles",
                    "Sierra Leone",
                    "Singapore",
                    "Slovakia",
                    "Slovenia",
                    "Somalia",
                    "South Africa",
                    "South Korea",
                    "South Sudan",
                    "Spain",
                    "Sri Lanka",
                    "Sudan",
                    "Suriname",
                    "Sweden",
                    "Switzerland",
                    "Syria",
                    "Taiwan*",
                    "Tanzania",
                    "Thailand",
                    "Timor-Leste",
                    "Togo",
                    "Trinidad and Tobago",
                    "Tunisia",
                    "Turkey",
                    "US",
                    "Uganda",
                    "Ukraine",
                    "United Arab Emirates",
                    "United Kingdom",
                    "Uruguay",
                    "Uzbekistan",
                    "Venezuela",
                    "Vietnam",
                    "West Bank and Gaza",
                    "Western Sahara",
                    "Yemen",
                    "Zambia",
                    "Zimbabwe"
                  ],
                  "locationmode": "country names",
                  "locations": [
                    "Afghanistan",
                    "Albania",
                    "Algeria",
                    "Andorra",
                    "Angola",
                    "Antigua and Barbuda",
                    "Argentina",
                    "Armenia",
                    "Australia",
                    "Austria",
                    "Azerbaijan",
                    "Bahamas",
                    "Bahrain",
                    "Bangladesh",
                    "Barbados",
                    "Belarus",
                    "Belgium",
                    "Belize",
                    "Benin",
                    "Bhutan",
                    "Bolivia",
                    "Bosnia and Herzegovina",
                    "Botswana",
                    "Brazil",
                    "Brunei",
                    "Bulgaria",
                    "Burkina Faso",
                    "Burma",
                    "Burundi",
                    "Cabo Verde",
                    "Cambodia",
                    "Cameroon",
                    "Canada",
                    "Central African Republic",
                    "Chad",
                    "Chile",
                    "China",
                    "Colombia",
                    "Congo (Brazzaville)",
                    "Congo (Kinshasa)",
                    "Costa Rica",
                    "Cote d'Ivoire",
                    "Croatia",
                    "Cuba",
                    "Cyprus",
                    "Czechia",
                    "Denmark",
                    "Diamond Princess",
                    "Djibouti",
                    "Dominica",
                    "Dominican Republic",
                    "Ecuador",
                    "Egypt",
                    "El Salvador",
                    "Equatorial Guinea",
                    "Eritrea",
                    "Estonia",
                    "Eswatini",
                    "Ethiopia",
                    "Fiji",
                    "Finland",
                    "France",
                    "Gabon",
                    "Gambia",
                    "Georgia",
                    "Germany",
                    "Ghana",
                    "Greece",
                    "Grenada",
                    "Guatemala",
                    "Guinea",
                    "Guinea-Bissau",
                    "Guyana",
                    "Haiti",
                    "Holy See",
                    "Honduras",
                    "Hungary",
                    "Iceland",
                    "India",
                    "Indonesia",
                    "Iran",
                    "Iraq",
                    "Ireland",
                    "Israel",
                    "Italy",
                    "Jamaica",
                    "Japan",
                    "Jordan",
                    "Kazakhstan",
                    "Kenya",
                    "Kosovo",
                    "Kuwait",
                    "Kyrgyzstan",
                    "Laos",
                    "Latvia",
                    "Lebanon",
                    "Liberia",
                    "Libya",
                    "Liechtenstein",
                    "Lithuania",
                    "Luxembourg",
                    "MS Zaandam",
                    "Madagascar",
                    "Malawi",
                    "Malaysia",
                    "Maldives",
                    "Mali",
                    "Malta",
                    "Mauritania",
                    "Mauritius",
                    "Mexico",
                    "Moldova",
                    "Monaco",
                    "Mongolia",
                    "Montenegro",
                    "Morocco",
                    "Mozambique",
                    "Namibia",
                    "Nepal",
                    "Netherlands",
                    "New Zealand",
                    "Nicaragua",
                    "Niger",
                    "Nigeria",
                    "North Macedonia",
                    "Norway",
                    "Oman",
                    "Pakistan",
                    "Panama",
                    "Papua New Guinea",
                    "Paraguay",
                    "Peru",
                    "Philippines",
                    "Poland",
                    "Portugal",
                    "Qatar",
                    "Romania",
                    "Russia",
                    "Rwanda",
                    "Saint Kitts and Nevis",
                    "Saint Lucia",
                    "Saint Vincent and the Grenadines",
                    "San Marino",
                    "Sao Tome and Principe",
                    "Saudi Arabia",
                    "Senegal",
                    "Serbia",
                    "Seychelles",
                    "Sierra Leone",
                    "Singapore",
                    "Slovakia",
                    "Slovenia",
                    "Somalia",
                    "South Africa",
                    "South Korea",
                    "South Sudan",
                    "Spain",
                    "Sri Lanka",
                    "Sudan",
                    "Suriname",
                    "Sweden",
                    "Switzerland",
                    "Syria",
                    "Taiwan*",
                    "Tanzania",
                    "Thailand",
                    "Timor-Leste",
                    "Togo",
                    "Trinidad and Tobago",
                    "Tunisia",
                    "Turkey",
                    "US",
                    "Uganda",
                    "Ukraine",
                    "United Arab Emirates",
                    "United Kingdom",
                    "Uruguay",
                    "Uzbekistan",
                    "Venezuela",
                    "Vietnam",
                    "West Bank and Gaza",
                    "Western Sahara",
                    "Yemen",
                    "Zambia",
                    "Zimbabwe"
                  ],
                  "name": "",
                  "type": "choropleth",
                  "z": [
                    1542,
                    289,
                    1561,
                    304,
                    19,
                    10,
                    2758,
                    971,
                    990,
                    2208,
                    474,
                    46,
                    1493,
                    6168,
                    35,
                    10136,
                    29060,
                    7,
                    30,
                    2,
                    863,
                    840,
                    22,
                    35608,
                    13,
                    1119,
                    120,
                    129,
                    6,
                    111,
                    3,
                    1647,
                    48167,
                    40,
                    31,
                    6448,
                    3487,
                    4412,
                    180,
                    385,
                    393,
                    644,
                    752,
                    804,
                    674,
                    7277,
                    2302,
                    54,
                    572,
                    3,
                    4965,
                    21830,
                    3379,
                    240,
                    305,
                    20,
                    1370,
                    60,
                    73,
                    6,
                    1741,
                    97584,
                    182,
                    1,
                    337,
                    36198,
                    1467,
                    1851,
                    19,
                    466,
                    964,
                    54,
                    51,
                    62,
                    8,
                    559,
                    1842,
                    149,
                    22569,
                    7484,
                    14268,
                    519,
                    9485,
                    7772,
                    105205,
                    328,
                    11443,
                    93,
                    2228,
                    236,
                    405,
                    2241,
                    284,
                    19,
                    556,
                    548,
                    80,
                    41,
                    26,
                    764,
                    529,
                    7,
                    46,
                    28,
                    1719,
                    233,
                    278,
                    151,
                    0,
                    21,
                    3760,
                    2560,
                    41,
                    28,
                    115,
                    3309,
                    76,
                    8,
                    38,
                    33908,
                    226,
                    3,
                    275,
                    1233,
                    761,
                    7422,
                    1757,
                    11067,
                    5399,
                    8,
                    128,
                    21157,
                    6453,
                    8967,
                    21985,
                    10777,
                    7549,
                    84235,
                    117,
                    11,
                    0,
                    7,
                    448,
                    4,
                    17141,
                    518,
                    5635,
                    5,
                    88,
                    13809,
                    941,
                    1099,
                    481,
                    2830,
                    1593,
                    34,
                    84403,
                    478,
                    262,
                    2,
                    16261,
                    4965,
                    40,
                    116,
                    241,
                    232,
                    24,
                    30,
                    49,
                    656,
                    72852,
                    838291,
                    27,
                    8179,
                    9110,
                    139792,
                    216,
                    939,
                    177,
                    48,
                    270,
                    1,
                    1,
                    50,
                    23
                  ]
                }
              ],
              "layout": {
                "coloraxis": {
                  "cmax": 1000,
                  "cmin": 1,
                  "colorbar": {
                    "title": {
                      "text": "Active"
                    }
                  },
                  "colorscale": [
                    [
                      0,
                      "rgb(253, 224, 197)"
                    ],
                    [
                      0.16666666666666666,
                      "rgb(250, 203, 166)"
                    ],
                    [
                      0.3333333333333333,
                      "rgb(248, 181, 139)"
                    ],
                    [
                      0.5,
                      "rgb(245, 158, 114)"
                    ],
                    [
                      0.6666666666666666,
                      "rgb(242, 133, 93)"
                    ],
                    [
                      0.8333333333333334,
                      "rgb(239, 106, 76)"
                    ],
                    [
                      1,
                      "rgb(235, 74, 64)"
                    ]
                  ]
                },
                "geo": {
                  "center": {},
                  "domain": {
                    "x": [
                      0,
                      1
                    ],
                    "y": [
                      0,
                      1
                    ]
                  }
                },
                "legend": {
                  "tracegroupgap": 0
                },
                "template": {
                  "data": {
                    "bar": [
                      {
                        "error_x": {
                          "color": "#2a3f5f"
                        },
                        "error_y": {
                          "color": "#2a3f5f"
                        },
                        "marker": {
                          "line": {
                            "color": "#E5ECF6",
                            "width": 0.5
                          }
                        },
                        "type": "bar"
                      }
                    ],
                    "barpolar": [
                      {
                        "marker": {
                          "line": {
                            "color": "#E5ECF6",
                            "width": 0.5
                          }
                        },
                        "type": "barpolar"
                      }
                    ],
                    "carpet": [
                      {
                        "aaxis": {
                          "endlinecolor": "#2a3f5f",
                          "gridcolor": "white",
                          "linecolor": "white",
                          "minorgridcolor": "white",
                          "startlinecolor": "#2a3f5f"
                        },
                        "baxis": {
                          "endlinecolor": "#2a3f5f",
                          "gridcolor": "white",
                          "linecolor": "white",
                          "minorgridcolor": "white",
                          "startlinecolor": "#2a3f5f"
                        },
                        "type": "carpet"
                      }
                    ],
                    "choropleth": [
                      {
                        "colorbar": {
                          "outlinewidth": 0,
                          "ticks": ""
                        },
                        "type": "choropleth"
                      }
                    ],
                    "contour": [
                      {
                        "colorbar": {
                          "outlinewidth": 0,
                          "ticks": ""
                        },
                        "colorscale": [
                          [
                            0,
                            "#0d0887"
                          ],
                          [
                            0.1111111111111111,
                            "#46039f"
                          ],
                          [
                            0.2222222222222222,
                            "#7201a8"
                          ],
                          [
                            0.3333333333333333,
                            "#9c179e"
                          ],
                          [
                            0.4444444444444444,
                            "#bd3786"
                          ],
                          [
                            0.5555555555555556,
                            "#d8576b"
                          ],
                          [
                            0.6666666666666666,
                            "#ed7953"
                          ],
                          [
                            0.7777777777777778,
                            "#fb9f3a"
                          ],
                          [
                            0.8888888888888888,
                            "#fdca26"
                          ],
                          [
                            1,
                            "#f0f921"
                          ]
                        ],
                        "type": "contour"
                      }
                    ],
                    "contourcarpet": [
                      {
                        "colorbar": {
                          "outlinewidth": 0,
                          "ticks": ""
                        },
                        "type": "contourcarpet"
                      }
                    ],
                    "heatmap": [
                      {
                        "colorbar": {
                          "outlinewidth": 0,
                          "ticks": ""
                        },
                        "colorscale": [
                          [
                            0,
                            "#0d0887"
                          ],
                          [
                            0.1111111111111111,
                            "#46039f"
                          ],
                          [
                            0.2222222222222222,
                            "#7201a8"
                          ],
                          [
                            0.3333333333333333,
                            "#9c179e"
                          ],
                          [
                            0.4444444444444444,
                            "#bd3786"
                          ],
                          [
                            0.5555555555555556,
                            "#d8576b"
                          ],
                          [
                            0.6666666666666666,
                            "#ed7953"
                          ],
                          [
                            0.7777777777777778,
                            "#fb9f3a"
                          ],
                          [
                            0.8888888888888888,
                            "#fdca26"
                          ],
                          [
                            1,
                            "#f0f921"
                          ]
                        ],
                        "type": "heatmap"
                      }
                    ],
                    "heatmapgl": [
                      {
                        "colorbar": {
                          "outlinewidth": 0,
                          "ticks": ""
                        },
                        "colorscale": [
                          [
                            0,
                            "#0d0887"
                          ],
                          [
                            0.1111111111111111,
                            "#46039f"
                          ],
                          [
                            0.2222222222222222,
                            "#7201a8"
                          ],
                          [
                            0.3333333333333333,
                            "#9c179e"
                          ],
                          [
                            0.4444444444444444,
                            "#bd3786"
                          ],
                          [
                            0.5555555555555556,
                            "#d8576b"
                          ],
                          [
                            0.6666666666666666,
                            "#ed7953"
                          ],
                          [
                            0.7777777777777778,
                            "#fb9f3a"
                          ],
                          [
                            0.8888888888888888,
                            "#fdca26"
                          ],
                          [
                            1,
                            "#f0f921"
                          ]
                        ],
                        "type": "heatmapgl"
                      }
                    ],
                    "histogram": [
                      {
                        "marker": {
                          "colorbar": {
                            "outlinewidth": 0,
                            "ticks": ""
                          }
                        },
                        "type": "histogram"
                      }
                    ],
                    "histogram2d": [
                      {
                        "colorbar": {
                          "outlinewidth": 0,
                          "ticks": ""
                        },
                        "colorscale": [
                          [
                            0,
                            "#0d0887"
                          ],
                          [
                            0.1111111111111111,
                            "#46039f"
                          ],
                          [
                            0.2222222222222222,
                            "#7201a8"
                          ],
                          [
                            0.3333333333333333,
                            "#9c179e"
                          ],
                          [
                            0.4444444444444444,
                            "#bd3786"
                          ],
                          [
                            0.5555555555555556,
                            "#d8576b"
                          ],
                          [
                            0.6666666666666666,
                            "#ed7953"
                          ],
                          [
                            0.7777777777777778,
                            "#fb9f3a"
                          ],
                          [
                            0.8888888888888888,
                            "#fdca26"
                          ],
                          [
                            1,
                            "#f0f921"
                          ]
                        ],
                        "type": "histogram2d"
                      }
                    ],
                    "histogram2dcontour": [
                      {
                        "colorbar": {
                          "outlinewidth": 0,
                          "ticks": ""
                        },
                        "colorscale": [
                          [
                            0,
                            "#0d0887"
                          ],
                          [
                            0.1111111111111111,
                            "#46039f"
                          ],
                          [
                            0.2222222222222222,
                            "#7201a8"
                          ],
                          [
                            0.3333333333333333,
                            "#9c179e"
                          ],
                          [
                            0.4444444444444444,
                            "#bd3786"
                          ],
                          [
                            0.5555555555555556,
                            "#d8576b"
                          ],
                          [
                            0.6666666666666666,
                            "#ed7953"
                          ],
                          [
                            0.7777777777777778,
                            "#fb9f3a"
                          ],
                          [
                            0.8888888888888888,
                            "#fdca26"
                          ],
                          [
                            1,
                            "#f0f921"
                          ]
                        ],
                        "type": "histogram2dcontour"
                      }
                    ],
                    "mesh3d": [
                      {
                        "colorbar": {
                          "outlinewidth": 0,
                          "ticks": ""
                        },
                        "type": "mesh3d"
                      }
                    ],
                    "parcoords": [
                      {
                        "line": {
                          "colorbar": {
                            "outlinewidth": 0,
                            "ticks": ""
                          }
                        },
                        "type": "parcoords"
                      }
                    ],
                    "pie": [
                      {
                        "automargin": true,
                        "type": "pie"
                      }
                    ],
                    "scatter": [
                      {
                        "marker": {
                          "colorbar": {
                            "outlinewidth": 0,
                            "ticks": ""
                          }
                        },
                        "type": "scatter"
                      }
                    ],
                    "scatter3d": [
                      {
                        "line": {
                          "colorbar": {
                            "outlinewidth": 0,
                            "ticks": ""
                          }
                        },
                        "marker": {
                          "colorbar": {
                            "outlinewidth": 0,
                            "ticks": ""
                          }
                        },
                        "type": "scatter3d"
                      }
                    ],
                    "scattercarpet": [
                      {
                        "marker": {
                          "colorbar": {
                            "outlinewidth": 0,
                            "ticks": ""
                          }
                        },
                        "type": "scattercarpet"
                      }
                    ],
                    "scattergeo": [
                      {
                        "marker": {
                          "colorbar": {
                            "outlinewidth": 0,
                            "ticks": ""
                          }
                        },
                        "type": "scattergeo"
                      }
                    ],
                    "scattergl": [
                      {
                        "marker": {
                          "colorbar": {
                            "outlinewidth": 0,
                            "ticks": ""
                          }
                        },
                        "type": "scattergl"
                      }
                    ],
                    "scattermapbox": [
                      {
                        "marker": {
                          "colorbar": {
                            "outlinewidth": 0,
                            "ticks": ""
                          }
                        },
                        "type": "scattermapbox"
                      }
                    ],
                    "scatterpolar": [
                      {
                        "marker": {
                          "colorbar": {
                            "outlinewidth": 0,
                            "ticks": ""
                          }
                        },
                        "type": "scatterpolar"
                      }
                    ],
                    "scatterpolargl": [
                      {
                        "marker": {
                          "colorbar": {
                            "outlinewidth": 0,
                            "ticks": ""
                          }
                        },
                        "type": "scatterpolargl"
                      }
                    ],
                    "scatterternary": [
                      {
                        "marker": {
                          "colorbar": {
                            "outlinewidth": 0,
                            "ticks": ""
                          }
                        },
                        "type": "scatterternary"
                      }
                    ],
                    "surface": [
                      {
                        "colorbar": {
                          "outlinewidth": 0,
                          "ticks": ""
                        },
                        "colorscale": [
                          [
                            0,
                            "#0d0887"
                          ],
                          [
                            0.1111111111111111,
                            "#46039f"
                          ],
                          [
                            0.2222222222222222,
                            "#7201a8"
                          ],
                          [
                            0.3333333333333333,
                            "#9c179e"
                          ],
                          [
                            0.4444444444444444,
                            "#bd3786"
                          ],
                          [
                            0.5555555555555556,
                            "#d8576b"
                          ],
                          [
                            0.6666666666666666,
                            "#ed7953"
                          ],
                          [
                            0.7777777777777778,
                            "#fb9f3a"
                          ],
                          [
                            0.8888888888888888,
                            "#fdca26"
                          ],
                          [
                            1,
                            "#f0f921"
                          ]
                        ],
                        "type": "surface"
                      }
                    ],
                    "table": [
                      {
                        "cells": {
                          "fill": {
                            "color": "#EBF0F8"
                          },
                          "line": {
                            "color": "white"
                          }
                        },
                        "header": {
                          "fill": {
                            "color": "#C8D4E3"
                          },
                          "line": {
                            "color": "white"
                          }
                        },
                        "type": "table"
                      }
                    ]
                  },
                  "layout": {
                    "annotationdefaults": {
                      "arrowcolor": "#2a3f5f",
                      "arrowhead": 0,
                      "arrowwidth": 1
                    },
                    "coloraxis": {
                      "colorbar": {
                        "outlinewidth": 0,
                        "ticks": ""
                      }
                    },
                    "colorscale": {
                      "diverging": [
                        [
                          0,
                          "#8e0152"
                        ],
                        [
                          0.1,
                          "#c51b7d"
                        ],
                        [
                          0.2,
                          "#de77ae"
                        ],
                        [
                          0.3,
                          "#f1b6da"
                        ],
                        [
                          0.4,
                          "#fde0ef"
                        ],
                        [
                          0.5,
                          "#f7f7f7"
                        ],
                        [
                          0.6,
                          "#e6f5d0"
                        ],
                        [
                          0.7,
                          "#b8e186"
                        ],
                        [
                          0.8,
                          "#7fbc41"
                        ],
                        [
                          0.9,
                          "#4d9221"
                        ],
                        [
                          1,
                          "#276419"
                        ]
                      ],
                      "sequential": [
                        [
                          0,
                          "#0d0887"
                        ],
                        [
                          0.1111111111111111,
                          "#46039f"
                        ],
                        [
                          0.2222222222222222,
                          "#7201a8"
                        ],
                        [
                          0.3333333333333333,
                          "#9c179e"
                        ],
                        [
                          0.4444444444444444,
                          "#bd3786"
                        ],
                        [
                          0.5555555555555556,
                          "#d8576b"
                        ],
                        [
                          0.6666666666666666,
                          "#ed7953"
                        ],
                        [
                          0.7777777777777778,
                          "#fb9f3a"
                        ],
                        [
                          0.8888888888888888,
                          "#fdca26"
                        ],
                        [
                          1,
                          "#f0f921"
                        ]
                      ],
                      "sequentialminus": [
                        [
                          0,
                          "#0d0887"
                        ],
                        [
                          0.1111111111111111,
                          "#46039f"
                        ],
                        [
                          0.2222222222222222,
                          "#7201a8"
                        ],
                        [
                          0.3333333333333333,
                          "#9c179e"
                        ],
                        [
                          0.4444444444444444,
                          "#bd3786"
                        ],
                        [
                          0.5555555555555556,
                          "#d8576b"
                        ],
                        [
                          0.6666666666666666,
                          "#ed7953"
                        ],
                        [
                          0.7777777777777778,
                          "#fb9f3a"
                        ],
                        [
                          0.8888888888888888,
                          "#fdca26"
                        ],
                        [
                          1,
                          "#f0f921"
                        ]
                      ]
                    },
                    "colorway": [
                      "#636efa",
                      "#EF553B",
                      "#00cc96",
                      "#ab63fa",
                      "#FFA15A",
                      "#19d3f3",
                      "#FF6692",
                      "#B6E880",
                      "#FF97FF",
                      "#FECB52"
                    ],
                    "font": {
                      "color": "#2a3f5f"
                    },
                    "geo": {
                      "bgcolor": "white",
                      "lakecolor": "white",
                      "landcolor": "#E5ECF6",
                      "showlakes": true,
                      "showland": true,
                      "subunitcolor": "white"
                    },
                    "hoverlabel": {
                      "align": "left"
                    },
                    "hovermode": "closest",
                    "mapbox": {
                      "style": "light"
                    },
                    "paper_bgcolor": "white",
                    "plot_bgcolor": "#E5ECF6",
                    "polar": {
                      "angularaxis": {
                        "gridcolor": "white",
                        "linecolor": "white",
                        "ticks": ""
                      },
                      "bgcolor": "#E5ECF6",
                      "radialaxis": {
                        "gridcolor": "white",
                        "linecolor": "white",
                        "ticks": ""
                      }
                    },
                    "scene": {
                      "xaxis": {
                        "backgroundcolor": "#E5ECF6",
                        "gridcolor": "white",
                        "gridwidth": 2,
                        "linecolor": "white",
                        "showbackground": true,
                        "ticks": "",
                        "zerolinecolor": "white"
                      },
                      "yaxis": {
                        "backgroundcolor": "#E5ECF6",
                        "gridcolor": "white",
                        "gridwidth": 2,
                        "linecolor": "white",
                        "showbackground": true,
                        "ticks": "",
                        "zerolinecolor": "white"
                      },
                      "zaxis": {
                        "backgroundcolor": "#E5ECF6",
                        "gridcolor": "white",
                        "gridwidth": 2,
                        "linecolor": "white",
                        "showbackground": true,
                        "ticks": "",
                        "zerolinecolor": "white"
                      }
                    },
                    "shapedefaults": {
                      "line": {
                        "color": "#2a3f5f"
                      }
                    },
                    "ternary": {
                      "aaxis": {
                        "gridcolor": "white",
                        "linecolor": "white",
                        "ticks": ""
                      },
                      "baxis": {
                        "gridcolor": "white",
                        "linecolor": "white",
                        "ticks": ""
                      },
                      "bgcolor": "#E5ECF6",
                      "caxis": {
                        "gridcolor": "white",
                        "linecolor": "white",
                        "ticks": ""
                      }
                    },
                    "title": {
                      "x": 0.05
                    },
                    "xaxis": {
                      "automargin": true,
                      "gridcolor": "white",
                      "linecolor": "white",
                      "ticks": "",
                      "title": {
                        "standoff": 15
                      },
                      "zerolinecolor": "white",
                      "zerolinewidth": 2
                    },
                    "yaxis": {
                      "automargin": true,
                      "gridcolor": "white",
                      "linecolor": "white",
                      "ticks": "",
                      "title": {
                        "standoff": 15
                      },
                      "zerolinecolor": "white",
                      "zerolinewidth": 2
                    }
                  }
                },
                "title": {
                  "text": "Countries with Active Cases"
                }
              }
            }
          },
          "metadata": {}
        }
      ]
    },
    {
      "cell_type": "code",
      "metadata": {
        "id": "xiztWOhTKATa",
        "colab_type": "code",
        "colab": {
          "base_uri": "https://localhost:8080/",
          "height": 542
        },
        "outputId": "c7dfeb1d-ff76-4d36-b531-9081bcc6fdf6"
      },
      "source": [
        "### Plot on the World Map((Active Cases))\n",
        "figure = px.choropleth(world,locations='country',locationmode='country names',color='Deaths',\n",
        "                       color_continuous_scale='darkmint', range_color=[1,10000],\n",
        "                       title = \"Countries with Deaths\",hover_name = 'country')\n",
        "figure.show()"
      ],
      "execution_count": 15,
      "outputs": [
        {
          "output_type": "display_data",
          "data": {
            "application/vnd.plotly.v1+json": {
              "config": {
                "plotlyServerURL": "https://plot.ly"
              },
              "data": [
                {
                  "coloraxis": "coloraxis",
                  "geo": "geo",
                  "hovertemplate": "<b>%{hovertext}</b><br><br>country=%{location}<br>Deaths=%{z}<extra></extra>",
                  "hovertext": [
                    "Afghanistan",
                    "Albania",
                    "Algeria",
                    "Andorra",
                    "Angola",
                    "Antigua and Barbuda",
                    "Argentina",
                    "Armenia",
                    "Australia",
                    "Austria",
                    "Azerbaijan",
                    "Bahamas",
                    "Bahrain",
                    "Bangladesh",
                    "Barbados",
                    "Belarus",
                    "Belgium",
                    "Belize",
                    "Benin",
                    "Bhutan",
                    "Bolivia",
                    "Bosnia and Herzegovina",
                    "Botswana",
                    "Brazil",
                    "Brunei",
                    "Bulgaria",
                    "Burkina Faso",
                    "Burma",
                    "Burundi",
                    "Cabo Verde",
                    "Cambodia",
                    "Cameroon",
                    "Canada",
                    "Central African Republic",
                    "Chad",
                    "Chile",
                    "China",
                    "Colombia",
                    "Congo (Brazzaville)",
                    "Congo (Kinshasa)",
                    "Costa Rica",
                    "Cote d'Ivoire",
                    "Croatia",
                    "Cuba",
                    "Cyprus",
                    "Czechia",
                    "Denmark",
                    "Diamond Princess",
                    "Djibouti",
                    "Dominica",
                    "Dominican Republic",
                    "Ecuador",
                    "Egypt",
                    "El Salvador",
                    "Equatorial Guinea",
                    "Eritrea",
                    "Estonia",
                    "Eswatini",
                    "Ethiopia",
                    "Fiji",
                    "Finland",
                    "France",
                    "Gabon",
                    "Gambia",
                    "Georgia",
                    "Germany",
                    "Ghana",
                    "Greece",
                    "Grenada",
                    "Guatemala",
                    "Guinea",
                    "Guinea-Bissau",
                    "Guyana",
                    "Haiti",
                    "Holy See",
                    "Honduras",
                    "Hungary",
                    "Iceland",
                    "India",
                    "Indonesia",
                    "Iran",
                    "Iraq",
                    "Ireland",
                    "Israel",
                    "Italy",
                    "Jamaica",
                    "Japan",
                    "Jordan",
                    "Kazakhstan",
                    "Kenya",
                    "Kosovo",
                    "Kuwait",
                    "Kyrgyzstan",
                    "Laos",
                    "Latvia",
                    "Lebanon",
                    "Liberia",
                    "Libya",
                    "Liechtenstein",
                    "Lithuania",
                    "Luxembourg",
                    "MS Zaandam",
                    "Madagascar",
                    "Malawi",
                    "Malaysia",
                    "Maldives",
                    "Mali",
                    "Malta",
                    "Mauritania",
                    "Mauritius",
                    "Mexico",
                    "Moldova",
                    "Monaco",
                    "Mongolia",
                    "Montenegro",
                    "Morocco",
                    "Mozambique",
                    "Namibia",
                    "Nepal",
                    "Netherlands",
                    "New Zealand",
                    "Nicaragua",
                    "Niger",
                    "Nigeria",
                    "North Macedonia",
                    "Norway",
                    "Oman",
                    "Pakistan",
                    "Panama",
                    "Papua New Guinea",
                    "Paraguay",
                    "Peru",
                    "Philippines",
                    "Poland",
                    "Portugal",
                    "Qatar",
                    "Romania",
                    "Russia",
                    "Rwanda",
                    "Saint Kitts and Nevis",
                    "Saint Lucia",
                    "Saint Vincent and the Grenadines",
                    "San Marino",
                    "Sao Tome and Principe",
                    "Saudi Arabia",
                    "Senegal",
                    "Serbia",
                    "Seychelles",
                    "Sierra Leone",
                    "Singapore",
                    "Slovakia",
                    "Slovenia",
                    "Somalia",
                    "South Africa",
                    "South Korea",
                    "South Sudan",
                    "Spain",
                    "Sri Lanka",
                    "Sudan",
                    "Suriname",
                    "Sweden",
                    "Switzerland",
                    "Syria",
                    "Taiwan*",
                    "Tanzania",
                    "Thailand",
                    "Timor-Leste",
                    "Togo",
                    "Trinidad and Tobago",
                    "Tunisia",
                    "Turkey",
                    "US",
                    "Uganda",
                    "Ukraine",
                    "United Arab Emirates",
                    "United Kingdom",
                    "Uruguay",
                    "Uzbekistan",
                    "Venezuela",
                    "Vietnam",
                    "West Bank and Gaza",
                    "Western Sahara",
                    "Yemen",
                    "Zambia",
                    "Zimbabwe"
                  ],
                  "locationmode": "country names",
                  "locations": [
                    "Afghanistan",
                    "Albania",
                    "Algeria",
                    "Andorra",
                    "Angola",
                    "Antigua and Barbuda",
                    "Argentina",
                    "Armenia",
                    "Australia",
                    "Austria",
                    "Azerbaijan",
                    "Bahamas",
                    "Bahrain",
                    "Bangladesh",
                    "Barbados",
                    "Belarus",
                    "Belgium",
                    "Belize",
                    "Benin",
                    "Bhutan",
                    "Bolivia",
                    "Bosnia and Herzegovina",
                    "Botswana",
                    "Brazil",
                    "Brunei",
                    "Bulgaria",
                    "Burkina Faso",
                    "Burma",
                    "Burundi",
                    "Cabo Verde",
                    "Cambodia",
                    "Cameroon",
                    "Canada",
                    "Central African Republic",
                    "Chad",
                    "Chile",
                    "China",
                    "Colombia",
                    "Congo (Brazzaville)",
                    "Congo (Kinshasa)",
                    "Costa Rica",
                    "Cote d'Ivoire",
                    "Croatia",
                    "Cuba",
                    "Cyprus",
                    "Czechia",
                    "Denmark",
                    "Diamond Princess",
                    "Djibouti",
                    "Dominica",
                    "Dominican Republic",
                    "Ecuador",
                    "Egypt",
                    "El Salvador",
                    "Equatorial Guinea",
                    "Eritrea",
                    "Estonia",
                    "Eswatini",
                    "Ethiopia",
                    "Fiji",
                    "Finland",
                    "France",
                    "Gabon",
                    "Gambia",
                    "Georgia",
                    "Germany",
                    "Ghana",
                    "Greece",
                    "Grenada",
                    "Guatemala",
                    "Guinea",
                    "Guinea-Bissau",
                    "Guyana",
                    "Haiti",
                    "Holy See",
                    "Honduras",
                    "Hungary",
                    "Iceland",
                    "India",
                    "Indonesia",
                    "Iran",
                    "Iraq",
                    "Ireland",
                    "Israel",
                    "Italy",
                    "Jamaica",
                    "Japan",
                    "Jordan",
                    "Kazakhstan",
                    "Kenya",
                    "Kosovo",
                    "Kuwait",
                    "Kyrgyzstan",
                    "Laos",
                    "Latvia",
                    "Lebanon",
                    "Liberia",
                    "Libya",
                    "Liechtenstein",
                    "Lithuania",
                    "Luxembourg",
                    "MS Zaandam",
                    "Madagascar",
                    "Malawi",
                    "Malaysia",
                    "Maldives",
                    "Mali",
                    "Malta",
                    "Mauritania",
                    "Mauritius",
                    "Mexico",
                    "Moldova",
                    "Monaco",
                    "Mongolia",
                    "Montenegro",
                    "Morocco",
                    "Mozambique",
                    "Namibia",
                    "Nepal",
                    "Netherlands",
                    "New Zealand",
                    "Nicaragua",
                    "Niger",
                    "Nigeria",
                    "North Macedonia",
                    "Norway",
                    "Oman",
                    "Pakistan",
                    "Panama",
                    "Papua New Guinea",
                    "Paraguay",
                    "Peru",
                    "Philippines",
                    "Poland",
                    "Portugal",
                    "Qatar",
                    "Romania",
                    "Russia",
                    "Rwanda",
                    "Saint Kitts and Nevis",
                    "Saint Lucia",
                    "Saint Vincent and the Grenadines",
                    "San Marino",
                    "Sao Tome and Principe",
                    "Saudi Arabia",
                    "Senegal",
                    "Serbia",
                    "Seychelles",
                    "Sierra Leone",
                    "Singapore",
                    "Slovakia",
                    "Slovenia",
                    "Somalia",
                    "South Africa",
                    "South Korea",
                    "South Sudan",
                    "Spain",
                    "Sri Lanka",
                    "Sudan",
                    "Suriname",
                    "Sweden",
                    "Switzerland",
                    "Syria",
                    "Taiwan*",
                    "Tanzania",
                    "Thailand",
                    "Timor-Leste",
                    "Togo",
                    "Trinidad and Tobago",
                    "Tunisia",
                    "Turkey",
                    "US",
                    "Uganda",
                    "Ukraine",
                    "United Arab Emirates",
                    "United Kingdom",
                    "Uruguay",
                    "Uzbekistan",
                    "Venezuela",
                    "Vietnam",
                    "West Bank and Gaza",
                    "Western Sahara",
                    "Yemen",
                    "Zambia",
                    "Zimbabwe"
                  ],
                  "name": "",
                  "type": "choropleth",
                  "z": [
                    58,
                    30,
                    437,
                    41,
                    2,
                    3,
                    207,
                    30,
                    89,
                    569,
                    22,
                    11,
                    8,
                    155,
                    6,
                    79,
                    7331,
                    2,
                    1,
                    0,
                    53,
                    63,
                    1,
                    5083,
                    1,
                    58,
                    42,
                    5,
                    1,
                    1,
                    0,
                    58,
                    2983,
                    0,
                    2,
                    207,
                    4637,
                    269,
                    8,
                    30,
                    6,
                    14,
                    63,
                    58,
                    15,
                    227,
                    434,
                    13,
                    2,
                    0,
                    286,
                    871,
                    359,
                    8,
                    1,
                    0,
                    50,
                    1,
                    3,
                    0,
                    199,
                    23694,
                    3,
                    1,
                    6,
                    6314,
                    16,
                    138,
                    0,
                    15,
                    7,
                    1,
                    8,
                    6,
                    0,
                    64,
                    291,
                    10,
                    1008,
                    773,
                    5877,
                    90,
                    1159,
                    210,
                    27359,
                    7,
                    394,
                    8,
                    25,
                    14,
                    12,
                    23,
                    8,
                    0,
                    13,
                    24,
                    16,
                    2,
                    1,
                    44,
                    89,
                    2,
                    0,
                    3,
                    100,
                    0,
                    24,
                    4,
                    1,
                    10,
                    1569,
                    103,
                    4,
                    0,
                    7,
                    165,
                    0,
                    0,
                    0,
                    4582,
                    19,
                    3,
                    31,
                    44,
                    71,
                    206,
                    10,
                    312,
                    167,
                    0,
                    9,
                    854,
                    530,
                    596,
                    948,
                    10,
                    663,
                    867,
                    0,
                    0,
                    0,
                    0,
                    41,
                    0,
                    152,
                    9,
                    125,
                    0,
                    4,
                    14,
                    20,
                    86,
                    28,
                    93,
                    246,
                    0,
                    23822,
                    7,
                    25,
                    1,
                    2355,
                    1699,
                    3,
                    6,
                    10,
                    54,
                    0,
                    6,
                    8,
                    40,
                    2992,
                    58355,
                    0,
                    239,
                    89,
                    21745,
                    15,
                    8,
                    10,
                    0,
                    2,
                    0,
                    0,
                    3,
                    4
                  ]
                }
              ],
              "layout": {
                "coloraxis": {
                  "cmax": 10000,
                  "cmin": 1,
                  "colorbar": {
                    "title": {
                      "text": "Deaths"
                    }
                  },
                  "colorscale": [
                    [
                      0,
                      "rgb(210, 251, 212)"
                    ],
                    [
                      0.16666666666666666,
                      "rgb(165, 219, 194)"
                    ],
                    [
                      0.3333333333333333,
                      "rgb(123, 188, 176)"
                    ],
                    [
                      0.5,
                      "rgb(85, 156, 158)"
                    ],
                    [
                      0.6666666666666666,
                      "rgb(58, 124, 137)"
                    ],
                    [
                      0.8333333333333334,
                      "rgb(35, 93, 114)"
                    ],
                    [
                      1,
                      "rgb(18, 63, 90)"
                    ]
                  ]
                },
                "geo": {
                  "center": {},
                  "domain": {
                    "x": [
                      0,
                      1
                    ],
                    "y": [
                      0,
                      1
                    ]
                  }
                },
                "legend": {
                  "tracegroupgap": 0
                },
                "template": {
                  "data": {
                    "bar": [
                      {
                        "error_x": {
                          "color": "#2a3f5f"
                        },
                        "error_y": {
                          "color": "#2a3f5f"
                        },
                        "marker": {
                          "line": {
                            "color": "#E5ECF6",
                            "width": 0.5
                          }
                        },
                        "type": "bar"
                      }
                    ],
                    "barpolar": [
                      {
                        "marker": {
                          "line": {
                            "color": "#E5ECF6",
                            "width": 0.5
                          }
                        },
                        "type": "barpolar"
                      }
                    ],
                    "carpet": [
                      {
                        "aaxis": {
                          "endlinecolor": "#2a3f5f",
                          "gridcolor": "white",
                          "linecolor": "white",
                          "minorgridcolor": "white",
                          "startlinecolor": "#2a3f5f"
                        },
                        "baxis": {
                          "endlinecolor": "#2a3f5f",
                          "gridcolor": "white",
                          "linecolor": "white",
                          "minorgridcolor": "white",
                          "startlinecolor": "#2a3f5f"
                        },
                        "type": "carpet"
                      }
                    ],
                    "choropleth": [
                      {
                        "colorbar": {
                          "outlinewidth": 0,
                          "ticks": ""
                        },
                        "type": "choropleth"
                      }
                    ],
                    "contour": [
                      {
                        "colorbar": {
                          "outlinewidth": 0,
                          "ticks": ""
                        },
                        "colorscale": [
                          [
                            0,
                            "#0d0887"
                          ],
                          [
                            0.1111111111111111,
                            "#46039f"
                          ],
                          [
                            0.2222222222222222,
                            "#7201a8"
                          ],
                          [
                            0.3333333333333333,
                            "#9c179e"
                          ],
                          [
                            0.4444444444444444,
                            "#bd3786"
                          ],
                          [
                            0.5555555555555556,
                            "#d8576b"
                          ],
                          [
                            0.6666666666666666,
                            "#ed7953"
                          ],
                          [
                            0.7777777777777778,
                            "#fb9f3a"
                          ],
                          [
                            0.8888888888888888,
                            "#fdca26"
                          ],
                          [
                            1,
                            "#f0f921"
                          ]
                        ],
                        "type": "contour"
                      }
                    ],
                    "contourcarpet": [
                      {
                        "colorbar": {
                          "outlinewidth": 0,
                          "ticks": ""
                        },
                        "type": "contourcarpet"
                      }
                    ],
                    "heatmap": [
                      {
                        "colorbar": {
                          "outlinewidth": 0,
                          "ticks": ""
                        },
                        "colorscale": [
                          [
                            0,
                            "#0d0887"
                          ],
                          [
                            0.1111111111111111,
                            "#46039f"
                          ],
                          [
                            0.2222222222222222,
                            "#7201a8"
                          ],
                          [
                            0.3333333333333333,
                            "#9c179e"
                          ],
                          [
                            0.4444444444444444,
                            "#bd3786"
                          ],
                          [
                            0.5555555555555556,
                            "#d8576b"
                          ],
                          [
                            0.6666666666666666,
                            "#ed7953"
                          ],
                          [
                            0.7777777777777778,
                            "#fb9f3a"
                          ],
                          [
                            0.8888888888888888,
                            "#fdca26"
                          ],
                          [
                            1,
                            "#f0f921"
                          ]
                        ],
                        "type": "heatmap"
                      }
                    ],
                    "heatmapgl": [
                      {
                        "colorbar": {
                          "outlinewidth": 0,
                          "ticks": ""
                        },
                        "colorscale": [
                          [
                            0,
                            "#0d0887"
                          ],
                          [
                            0.1111111111111111,
                            "#46039f"
                          ],
                          [
                            0.2222222222222222,
                            "#7201a8"
                          ],
                          [
                            0.3333333333333333,
                            "#9c179e"
                          ],
                          [
                            0.4444444444444444,
                            "#bd3786"
                          ],
                          [
                            0.5555555555555556,
                            "#d8576b"
                          ],
                          [
                            0.6666666666666666,
                            "#ed7953"
                          ],
                          [
                            0.7777777777777778,
                            "#fb9f3a"
                          ],
                          [
                            0.8888888888888888,
                            "#fdca26"
                          ],
                          [
                            1,
                            "#f0f921"
                          ]
                        ],
                        "type": "heatmapgl"
                      }
                    ],
                    "histogram": [
                      {
                        "marker": {
                          "colorbar": {
                            "outlinewidth": 0,
                            "ticks": ""
                          }
                        },
                        "type": "histogram"
                      }
                    ],
                    "histogram2d": [
                      {
                        "colorbar": {
                          "outlinewidth": 0,
                          "ticks": ""
                        },
                        "colorscale": [
                          [
                            0,
                            "#0d0887"
                          ],
                          [
                            0.1111111111111111,
                            "#46039f"
                          ],
                          [
                            0.2222222222222222,
                            "#7201a8"
                          ],
                          [
                            0.3333333333333333,
                            "#9c179e"
                          ],
                          [
                            0.4444444444444444,
                            "#bd3786"
                          ],
                          [
                            0.5555555555555556,
                            "#d8576b"
                          ],
                          [
                            0.6666666666666666,
                            "#ed7953"
                          ],
                          [
                            0.7777777777777778,
                            "#fb9f3a"
                          ],
                          [
                            0.8888888888888888,
                            "#fdca26"
                          ],
                          [
                            1,
                            "#f0f921"
                          ]
                        ],
                        "type": "histogram2d"
                      }
                    ],
                    "histogram2dcontour": [
                      {
                        "colorbar": {
                          "outlinewidth": 0,
                          "ticks": ""
                        },
                        "colorscale": [
                          [
                            0,
                            "#0d0887"
                          ],
                          [
                            0.1111111111111111,
                            "#46039f"
                          ],
                          [
                            0.2222222222222222,
                            "#7201a8"
                          ],
                          [
                            0.3333333333333333,
                            "#9c179e"
                          ],
                          [
                            0.4444444444444444,
                            "#bd3786"
                          ],
                          [
                            0.5555555555555556,
                            "#d8576b"
                          ],
                          [
                            0.6666666666666666,
                            "#ed7953"
                          ],
                          [
                            0.7777777777777778,
                            "#fb9f3a"
                          ],
                          [
                            0.8888888888888888,
                            "#fdca26"
                          ],
                          [
                            1,
                            "#f0f921"
                          ]
                        ],
                        "type": "histogram2dcontour"
                      }
                    ],
                    "mesh3d": [
                      {
                        "colorbar": {
                          "outlinewidth": 0,
                          "ticks": ""
                        },
                        "type": "mesh3d"
                      }
                    ],
                    "parcoords": [
                      {
                        "line": {
                          "colorbar": {
                            "outlinewidth": 0,
                            "ticks": ""
                          }
                        },
                        "type": "parcoords"
                      }
                    ],
                    "pie": [
                      {
                        "automargin": true,
                        "type": "pie"
                      }
                    ],
                    "scatter": [
                      {
                        "marker": {
                          "colorbar": {
                            "outlinewidth": 0,
                            "ticks": ""
                          }
                        },
                        "type": "scatter"
                      }
                    ],
                    "scatter3d": [
                      {
                        "line": {
                          "colorbar": {
                            "outlinewidth": 0,
                            "ticks": ""
                          }
                        },
                        "marker": {
                          "colorbar": {
                            "outlinewidth": 0,
                            "ticks": ""
                          }
                        },
                        "type": "scatter3d"
                      }
                    ],
                    "scattercarpet": [
                      {
                        "marker": {
                          "colorbar": {
                            "outlinewidth": 0,
                            "ticks": ""
                          }
                        },
                        "type": "scattercarpet"
                      }
                    ],
                    "scattergeo": [
                      {
                        "marker": {
                          "colorbar": {
                            "outlinewidth": 0,
                            "ticks": ""
                          }
                        },
                        "type": "scattergeo"
                      }
                    ],
                    "scattergl": [
                      {
                        "marker": {
                          "colorbar": {
                            "outlinewidth": 0,
                            "ticks": ""
                          }
                        },
                        "type": "scattergl"
                      }
                    ],
                    "scattermapbox": [
                      {
                        "marker": {
                          "colorbar": {
                            "outlinewidth": 0,
                            "ticks": ""
                          }
                        },
                        "type": "scattermapbox"
                      }
                    ],
                    "scatterpolar": [
                      {
                        "marker": {
                          "colorbar": {
                            "outlinewidth": 0,
                            "ticks": ""
                          }
                        },
                        "type": "scatterpolar"
                      }
                    ],
                    "scatterpolargl": [
                      {
                        "marker": {
                          "colorbar": {
                            "outlinewidth": 0,
                            "ticks": ""
                          }
                        },
                        "type": "scatterpolargl"
                      }
                    ],
                    "scatterternary": [
                      {
                        "marker": {
                          "colorbar": {
                            "outlinewidth": 0,
                            "ticks": ""
                          }
                        },
                        "type": "scatterternary"
                      }
                    ],
                    "surface": [
                      {
                        "colorbar": {
                          "outlinewidth": 0,
                          "ticks": ""
                        },
                        "colorscale": [
                          [
                            0,
                            "#0d0887"
                          ],
                          [
                            0.1111111111111111,
                            "#46039f"
                          ],
                          [
                            0.2222222222222222,
                            "#7201a8"
                          ],
                          [
                            0.3333333333333333,
                            "#9c179e"
                          ],
                          [
                            0.4444444444444444,
                            "#bd3786"
                          ],
                          [
                            0.5555555555555556,
                            "#d8576b"
                          ],
                          [
                            0.6666666666666666,
                            "#ed7953"
                          ],
                          [
                            0.7777777777777778,
                            "#fb9f3a"
                          ],
                          [
                            0.8888888888888888,
                            "#fdca26"
                          ],
                          [
                            1,
                            "#f0f921"
                          ]
                        ],
                        "type": "surface"
                      }
                    ],
                    "table": [
                      {
                        "cells": {
                          "fill": {
                            "color": "#EBF0F8"
                          },
                          "line": {
                            "color": "white"
                          }
                        },
                        "header": {
                          "fill": {
                            "color": "#C8D4E3"
                          },
                          "line": {
                            "color": "white"
                          }
                        },
                        "type": "table"
                      }
                    ]
                  },
                  "layout": {
                    "annotationdefaults": {
                      "arrowcolor": "#2a3f5f",
                      "arrowhead": 0,
                      "arrowwidth": 1
                    },
                    "coloraxis": {
                      "colorbar": {
                        "outlinewidth": 0,
                        "ticks": ""
                      }
                    },
                    "colorscale": {
                      "diverging": [
                        [
                          0,
                          "#8e0152"
                        ],
                        [
                          0.1,
                          "#c51b7d"
                        ],
                        [
                          0.2,
                          "#de77ae"
                        ],
                        [
                          0.3,
                          "#f1b6da"
                        ],
                        [
                          0.4,
                          "#fde0ef"
                        ],
                        [
                          0.5,
                          "#f7f7f7"
                        ],
                        [
                          0.6,
                          "#e6f5d0"
                        ],
                        [
                          0.7,
                          "#b8e186"
                        ],
                        [
                          0.8,
                          "#7fbc41"
                        ],
                        [
                          0.9,
                          "#4d9221"
                        ],
                        [
                          1,
                          "#276419"
                        ]
                      ],
                      "sequential": [
                        [
                          0,
                          "#0d0887"
                        ],
                        [
                          0.1111111111111111,
                          "#46039f"
                        ],
                        [
                          0.2222222222222222,
                          "#7201a8"
                        ],
                        [
                          0.3333333333333333,
                          "#9c179e"
                        ],
                        [
                          0.4444444444444444,
                          "#bd3786"
                        ],
                        [
                          0.5555555555555556,
                          "#d8576b"
                        ],
                        [
                          0.6666666666666666,
                          "#ed7953"
                        ],
                        [
                          0.7777777777777778,
                          "#fb9f3a"
                        ],
                        [
                          0.8888888888888888,
                          "#fdca26"
                        ],
                        [
                          1,
                          "#f0f921"
                        ]
                      ],
                      "sequentialminus": [
                        [
                          0,
                          "#0d0887"
                        ],
                        [
                          0.1111111111111111,
                          "#46039f"
                        ],
                        [
                          0.2222222222222222,
                          "#7201a8"
                        ],
                        [
                          0.3333333333333333,
                          "#9c179e"
                        ],
                        [
                          0.4444444444444444,
                          "#bd3786"
                        ],
                        [
                          0.5555555555555556,
                          "#d8576b"
                        ],
                        [
                          0.6666666666666666,
                          "#ed7953"
                        ],
                        [
                          0.7777777777777778,
                          "#fb9f3a"
                        ],
                        [
                          0.8888888888888888,
                          "#fdca26"
                        ],
                        [
                          1,
                          "#f0f921"
                        ]
                      ]
                    },
                    "colorway": [
                      "#636efa",
                      "#EF553B",
                      "#00cc96",
                      "#ab63fa",
                      "#FFA15A",
                      "#19d3f3",
                      "#FF6692",
                      "#B6E880",
                      "#FF97FF",
                      "#FECB52"
                    ],
                    "font": {
                      "color": "#2a3f5f"
                    },
                    "geo": {
                      "bgcolor": "white",
                      "lakecolor": "white",
                      "landcolor": "#E5ECF6",
                      "showlakes": true,
                      "showland": true,
                      "subunitcolor": "white"
                    },
                    "hoverlabel": {
                      "align": "left"
                    },
                    "hovermode": "closest",
                    "mapbox": {
                      "style": "light"
                    },
                    "paper_bgcolor": "white",
                    "plot_bgcolor": "#E5ECF6",
                    "polar": {
                      "angularaxis": {
                        "gridcolor": "white",
                        "linecolor": "white",
                        "ticks": ""
                      },
                      "bgcolor": "#E5ECF6",
                      "radialaxis": {
                        "gridcolor": "white",
                        "linecolor": "white",
                        "ticks": ""
                      }
                    },
                    "scene": {
                      "xaxis": {
                        "backgroundcolor": "#E5ECF6",
                        "gridcolor": "white",
                        "gridwidth": 2,
                        "linecolor": "white",
                        "showbackground": true,
                        "ticks": "",
                        "zerolinecolor": "white"
                      },
                      "yaxis": {
                        "backgroundcolor": "#E5ECF6",
                        "gridcolor": "white",
                        "gridwidth": 2,
                        "linecolor": "white",
                        "showbackground": true,
                        "ticks": "",
                        "zerolinecolor": "white"
                      },
                      "zaxis": {
                        "backgroundcolor": "#E5ECF6",
                        "gridcolor": "white",
                        "gridwidth": 2,
                        "linecolor": "white",
                        "showbackground": true,
                        "ticks": "",
                        "zerolinecolor": "white"
                      }
                    },
                    "shapedefaults": {
                      "line": {
                        "color": "#2a3f5f"
                      }
                    },
                    "ternary": {
                      "aaxis": {
                        "gridcolor": "white",
                        "linecolor": "white",
                        "ticks": ""
                      },
                      "baxis": {
                        "gridcolor": "white",
                        "linecolor": "white",
                        "ticks": ""
                      },
                      "bgcolor": "#E5ECF6",
                      "caxis": {
                        "gridcolor": "white",
                        "linecolor": "white",
                        "ticks": ""
                      }
                    },
                    "title": {
                      "x": 0.05
                    },
                    "xaxis": {
                      "automargin": true,
                      "gridcolor": "white",
                      "linecolor": "white",
                      "ticks": "",
                      "title": {
                        "standoff": 15
                      },
                      "zerolinecolor": "white",
                      "zerolinewidth": 2
                    },
                    "yaxis": {
                      "automargin": true,
                      "gridcolor": "white",
                      "linecolor": "white",
                      "ticks": "",
                      "title": {
                        "standoff": 15
                      },
                      "zerolinecolor": "white",
                      "zerolinewidth": 2
                    }
                  }
                },
                "title": {
                  "text": "Countries with Deaths"
                }
              }
            }
          },
          "metadata": {}
        }
      ]
    },
    {
      "cell_type": "code",
      "metadata": {
        "id": "QBloR8S1LeaF",
        "colab_type": "code",
        "colab": {
          "base_uri": "https://localhost:8080/",
          "height": 340
        },
        "outputId": "fea371d6-c44e-4d79-8e8c-511bf4930e39"
      },
      "source": [
        "#### Plot WorldWide Confirmed Cases vs Date\n",
        "## Add all the confimred cases based on date\n",
        "total_confirmed_cases = df.groupby('Date')['Date','Confirmed'].sum().reset_index()\n",
        "total_death_cases = df.groupby('Date')['Date','Deaths'].sum().reset_index()\n",
        "total_confirmed_cases.tail()"
      ],
      "execution_count": 16,
      "outputs": [
        {
          "output_type": "execute_result",
          "data": {
            "text/plain": "         Date  Confirmed\n93 2020-04-24    2811598\n94 2020-04-25    2897619\n95 2020-04-26    2972358\n96 2020-04-27    3041759\n97 2020-04-28    3116393",
            "text/html": "<div>\n<style scoped>\n    .dataframe tbody tr th:only-of-type {\n        vertical-align: middle;\n    }\n\n    .dataframe tbody tr th {\n        vertical-align: top;\n    }\n\n    .dataframe thead th {\n        text-align: right;\n    }\n</style>\n<table border=\"1\" class=\"dataframe\">\n  <thead>\n    <tr style=\"text-align: right;\">\n      <th></th>\n      <th>Date</th>\n      <th>Confirmed</th>\n    </tr>\n  </thead>\n  <tbody>\n    <tr>\n      <th>93</th>\n      <td>2020-04-24</td>\n      <td>2811598</td>\n    </tr>\n    <tr>\n      <th>94</th>\n      <td>2020-04-25</td>\n      <td>2897619</td>\n    </tr>\n    <tr>\n      <th>95</th>\n      <td>2020-04-26</td>\n      <td>2972358</td>\n    </tr>\n    <tr>\n      <th>96</th>\n      <td>2020-04-27</td>\n      <td>3041759</td>\n    </tr>\n    <tr>\n      <th>97</th>\n      <td>2020-04-28</td>\n      <td>3116393</td>\n    </tr>\n  </tbody>\n</table>\n</div>"
          },
          "metadata": {},
          "execution_count": 16
        }
      ]
    },
    {
      "cell_type": "code",
      "metadata": {
        "id": "8jpB1ue0NLZW",
        "colab_type": "code",
        "colab": {
          "base_uri": "https://localhost:8080/",
          "height": 664
        },
        "outputId": "5391d504-8314-4e30-c16c-c8279ae6fb2a"
      },
      "source": [
        "# Dates are overlapping and points are not clear so will have to modifying the plotting paramters\n",
        "# pixel Dimensions\n",
        "plt.figure(figsize=(16,10)) \n",
        "\n",
        "# rotate date/time by 90*, set fontsize = 10\n",
        "plt.xticks(rotation = 90,fontsize = 10 ) \n",
        "\n",
        "# Extract only the date from date-time\n",
        "sns.pointplot(total_confirmed_cases['Date'].dt.date,total_confirmed_cases['Confirmed'],color='red')\n",
        "sns.pointplot(total_confirmed_cases['Date'].dt.date,total_death_cases['Deaths'],color='blue')\n",
        "\n",
        "# Plotting the axes titles\n",
        "plt.xlabel(\"Dates\")\n",
        "plt.ylabel(\"Total Confirmed Cases\")\n",
        "\n",
        "plt.show()"
      ],
      "execution_count": 17,
      "outputs": [
        {
          "output_type": "display_data",
          "data": {
            "text/plain": "<Figure size 1152x720 with 1 Axes>",
            "image/svg+xml": "<?xml version=\"1.0\" encoding=\"utf-8\" standalone=\"no\"?>\r\n<!DOCTYPE svg PUBLIC \"-//W3C//DTD SVG 1.1//EN\"\r\n  \"http://www.w3.org/Graphics/SVG/1.1/DTD/svg11.dtd\">\r\n<!-- Created with matplotlib (https://matplotlib.org/) -->\r\n<svg height=\"636.79375pt\" version=\"1.1\" viewBox=\"0 0 972.699585 636.79375\" width=\"972.699585pt\" xmlns=\"http://www.w3.org/2000/svg\" xmlns:xlink=\"http://www.w3.org/1999/xlink\">\r\n <defs>\r\n  <style type=\"text/css\">\r\n*{stroke-linecap:butt;stroke-linejoin:round;}\r\n  </style>\r\n </defs>\r\n <g id=\"figure_1\">\r\n  <g id=\"patch_1\">\r\n   <path d=\"M 0 636.79375 \r\nL 972.699585 636.79375 \r\nL 972.699585 0 \r\nL 0 0 \r\nz\r\n\" style=\"fill:none;\"/>\r\n  </g>\r\n  <g id=\"axes_1\">\r\n   <g id=\"patch_2\">\r\n    <path d=\"M 72.415625 550.8 \r\nL 965.215625 550.8 \r\nL 965.215625 7.2 \r\nL 72.415625 7.2 \r\nz\r\n\" style=\"fill:#ffffff;\"/>\r\n   </g>\r\n   <g id=\"PathCollection_1\">\r\n    <defs>\r\n     <path d=\"M 0 3.383948 \r\nC 0.897434 3.383948 1.758231 3.027394 2.392813 2.392813 \r\nC 3.027394 1.758231 3.383948 0.897434 3.383948 0 \r\nC 3.383948 -0.897434 3.027394 -1.758231 2.392813 -2.392813 \r\nC 1.758231 -3.027394 0.897434 -3.383948 0 -3.383948 \r\nC -0.897434 -3.383948 -1.758231 -3.027394 -2.392813 -2.392813 \r\nC -3.027394 -1.758231 -3.383948 -0.897434 -3.383948 0 \r\nC -3.383948 0.897434 -3.027394 1.758231 -2.392813 2.392813 \r\nC -1.758231 3.027394 -0.897434 3.383948 0 3.383948 \r\nz\r\n\" id=\"C0_0_f30982388a\"/>\r\n    </defs>\r\n    <g clip-path=\"url(#p4a97659bca)\">\r\n     <use style=\"fill:#ff0000;stroke:#ff0000;stroke-width:2.025;\" x=\"76.970727\" xlink:href=\"#C0_0_f30982388a\" y=\"522.623697\"/>\r\n    </g>\r\n    <g clip-path=\"url(#p4a97659bca)\">\r\n     <use style=\"fill:#ff0000;stroke:#ff0000;stroke-width:2.025;\" x=\"86.080931\" xlink:href=\"#C0_0_f30982388a\" y=\"522.608211\"/>\r\n    </g>\r\n    <g clip-path=\"url(#p4a97659bca)\">\r\n     <use style=\"fill:#ff0000;stroke:#ff0000;stroke-width:2.025;\" x=\"95.191135\" xlink:href=\"#C0_0_f30982388a\" y=\"522.563319\"/>\r\n    </g>\r\n    <g clip-path=\"url(#p4a97659bca)\">\r\n     <use style=\"fill:#ff0000;stroke:#ff0000;stroke-width:2.025;\" x=\"104.301339\" xlink:href=\"#C0_0_f30982388a\" y=\"522.486204\"/>\r\n    </g>\r\n    <g clip-path=\"url(#p4a97659bca)\">\r\n     <use style=\"fill:#ff0000;stroke:#ff0000;stroke-width:2.025;\" x=\"113.411543\" xlink:href=\"#C0_0_f30982388a\" y=\"522.379213\"/>\r\n    </g>\r\n    <g clip-path=\"url(#p4a97659bca)\">\r\n     <use style=\"fill:#ff0000;stroke:#ff0000;stroke-width:2.025;\" x=\"122.521747\" xlink:href=\"#C0_0_f30982388a\" y=\"522.25267\"/>\r\n    </g>\r\n    <g clip-path=\"url(#p4a97659bca)\">\r\n     <use style=\"fill:#ff0000;stroke:#ff0000;stroke-width:2.025;\" x=\"131.631952\" xlink:href=\"#C0_0_f30982388a\" y=\"521.838002\"/>\r\n    </g>\r\n    <g clip-path=\"url(#p4a97659bca)\">\r\n     <use style=\"fill:#ff0000;stroke:#ff0000;stroke-width:2.025;\" x=\"140.742156\" xlink:href=\"#C0_0_f30982388a\" y=\"521.746028\"/>\r\n    </g>\r\n    <g clip-path=\"url(#p4a97659bca)\">\r\n     <use style=\"fill:#ff0000;stroke:#ff0000;stroke-width:2.025;\" x=\"149.85236\" xlink:href=\"#C0_0_f30982388a\" y=\"521.422553\"/>\r\n    </g>\r\n    <g clip-path=\"url(#p4a97659bca)\">\r\n     <use style=\"fill:#ff0000;stroke:#ff0000;stroke-width:2.025;\" x=\"158.962564\" xlink:href=\"#C0_0_f30982388a\" y=\"521.157735\"/>\r\n    </g>\r\n    <g clip-path=\"url(#p4a97659bca)\">\r\n     <use style=\"fill:#ff0000;stroke:#ff0000;stroke-width:2.025;\" x=\"168.072768\" xlink:href=\"#C0_0_f30982388a\" y=\"520.827534\"/>\r\n    </g>\r\n    <g clip-path=\"url(#p4a97659bca)\">\r\n     <use style=\"fill:#ff0000;stroke:#ff0000;stroke-width:2.025;\" x=\"177.182972\" xlink:href=\"#C0_0_f30982388a\" y=\"520.084698\"/>\r\n    </g>\r\n    <g clip-path=\"url(#p4a97659bca)\">\r\n     <use style=\"fill:#ff0000;stroke:#ff0000;stroke-width:2.025;\" x=\"186.293176\" xlink:href=\"#C0_0_f30982388a\" y=\"519.600737\"/>\r\n    </g>\r\n    <g clip-path=\"url(#p4a97659bca)\">\r\n     <use style=\"fill:#ff0000;stroke:#ff0000;stroke-width:2.025;\" x=\"195.40338\" xlink:href=\"#C0_0_f30982388a\" y=\"518.973339\"/>\r\n    </g>\r\n    <g clip-path=\"url(#p4a97659bca)\">\r\n     <use style=\"fill:#ff0000;stroke:#ff0000;stroke-width:2.025;\" x=\"204.513584\" xlink:href=\"#C0_0_f30982388a\" y=\"518.387861\"/>\r\n    </g>\r\n    <g clip-path=\"url(#p4a97659bca)\">\r\n     <use style=\"fill:#ff0000;stroke:#ff0000;stroke-width:2.025;\" x=\"213.623788\" xlink:href=\"#C0_0_f30982388a\" y=\"517.893733\"/>\r\n    </g>\r\n    <g clip-path=\"url(#p4a97659bca)\">\r\n     <use style=\"fill:#ff0000;stroke:#ff0000;stroke-width:2.025;\" x=\"222.733992\" xlink:href=\"#C0_0_f30982388a\" y=\"517.331093\"/>\r\n    </g>\r\n    <g clip-path=\"url(#p4a97659bca)\">\r\n     <use style=\"fill:#ff0000;stroke:#ff0000;stroke-width:2.025;\" x=\"231.844196\" xlink:href=\"#C0_0_f30982388a\" y=\"516.904224\"/>\r\n    </g>\r\n    <g clip-path=\"url(#p4a97659bca)\">\r\n     <use style=\"fill:#ff0000;stroke:#ff0000;stroke-width:2.025;\" x=\"240.954401\" xlink:href=\"#C0_0_f30982388a\" y=\"516.430274\"/>\r\n    </g>\r\n    <g clip-path=\"url(#p4a97659bca)\">\r\n     <use style=\"fill:#ff0000;stroke:#ff0000;stroke-width:2.025;\" x=\"250.064605\" xlink:href=\"#C0_0_f30982388a\" y=\"516.021706\"/>\r\n    </g>\r\n    <g clip-path=\"url(#p4a97659bca)\">\r\n     <use style=\"fill:#ff0000;stroke:#ff0000;stroke-width:2.025;\" x=\"259.174809\" xlink:href=\"#C0_0_f30982388a\" y=\"515.702611\"/>\r\n    </g>\r\n    <g clip-path=\"url(#p4a97659bca)\">\r\n     <use style=\"fill:#ff0000;stroke:#ff0000;stroke-width:2.025;\" x=\"268.285013\" xlink:href=\"#C0_0_f30982388a\" y=\"515.401191\"/>\r\n    </g>\r\n    <g clip-path=\"url(#p4a97659bca)\">\r\n     <use style=\"fill:#ff0000;stroke:#ff0000;stroke-width:2.025;\" x=\"277.395217\" xlink:href=\"#C0_0_f30982388a\" y=\"513.267788\"/>\r\n    </g>\r\n    <g clip-path=\"url(#p4a97659bca)\">\r\n     <use style=\"fill:#ff0000;stroke:#ff0000;stroke-width:2.025;\" x=\"286.505421\" xlink:href=\"#C0_0_f30982388a\" y=\"512.248403\"/>\r\n    </g>\r\n    <g clip-path=\"url(#p4a97659bca)\">\r\n     <use style=\"fill:#ff0000;stroke:#ff0000;stroke-width:2.025;\" x=\"295.615625\" xlink:href=\"#C0_0_f30982388a\" y=\"511.912884\"/>\r\n    </g>\r\n    <g clip-path=\"url(#p4a97659bca)\">\r\n     <use style=\"fill:#ff0000;stroke:#ff0000;stroke-width:2.025;\" x=\"304.725829\" xlink:href=\"#C0_0_f30982388a\" y=\"511.5697\"/>\r\n    </g>\r\n    <g clip-path=\"url(#p4a97659bca)\">\r\n     <use style=\"fill:#ff0000;stroke:#ff0000;stroke-width:2.025;\" x=\"313.836033\" xlink:href=\"#C0_0_f30982388a\" y=\"511.251543\"/>\r\n    </g>\r\n    <g clip-path=\"url(#p4a97659bca)\">\r\n     <use style=\"fill:#ff0000;stroke:#ff0000;stroke-width:2.025;\" x=\"322.946237\" xlink:href=\"#C0_0_f30982388a\" y=\"510.957787\"/>\r\n    </g>\r\n    <g clip-path=\"url(#p4a97659bca)\">\r\n     <use style=\"fill:#ff0000;stroke:#ff0000;stroke-width:2.025;\" x=\"332.056441\" xlink:href=\"#C0_0_f30982388a\" y=\"510.879109\"/>\r\n    </g>\r\n    <g clip-path=\"url(#p4a97659bca)\">\r\n     <use style=\"fill:#ff0000;stroke:#ff0000;stroke-width:2.025;\" x=\"341.166645\" xlink:href=\"#C0_0_f30982388a\" y=\"510.791827\"/>\r\n    </g>\r\n    <g clip-path=\"url(#p4a97659bca)\">\r\n     <use style=\"fill:#ff0000;stroke:#ff0000;stroke-width:2.025;\" x=\"350.276849\" xlink:href=\"#C0_0_f30982388a\" y=\"510.694534\"/>\r\n    </g>\r\n    <g clip-path=\"url(#p4a97659bca)\">\r\n     <use style=\"fill:#ff0000;stroke:#ff0000;stroke-width:2.025;\" x=\"359.387054\" xlink:href=\"#C0_0_f30982388a\" y=\"510.420331\"/>\r\n    </g>\r\n    <g clip-path=\"url(#p4a97659bca)\">\r\n     <use style=\"fill:#ff0000;stroke:#ff0000;stroke-width:2.025;\" x=\"368.497258\" xlink:href=\"#C0_0_f30982388a\" y=\"510.359953\"/>\r\n    </g>\r\n    <g clip-path=\"url(#p4a97659bca)\">\r\n     <use style=\"fill:#ff0000;stroke:#ff0000;stroke-width:2.025;\" x=\"377.607462\" xlink:href=\"#C0_0_f30982388a\" y=\"510.265632\"/>\r\n    </g>\r\n    <g clip-path=\"url(#p4a97659bca)\">\r\n     <use style=\"fill:#ff0000;stroke:#ff0000;stroke-width:2.025;\" x=\"386.717666\" xlink:href=\"#C0_0_f30982388a\" y=\"510.133458\"/>\r\n    </g>\r\n    <g clip-path=\"url(#p4a97659bca)\">\r\n     <use style=\"fill:#ff0000;stroke:#ff0000;stroke-width:2.025;\" x=\"395.82787\" xlink:href=\"#C0_0_f30982388a\" y=\"509.979854\"/>\r\n    </g>\r\n    <g clip-path=\"url(#p4a97659bca)\">\r\n     <use style=\"fill:#ff0000;stroke:#ff0000;stroke-width:2.025;\" x=\"404.938074\" xlink:href=\"#C0_0_f30982388a\" y=\"509.767436\"/>\r\n    </g>\r\n    <g clip-path=\"url(#p4a97659bca)\">\r\n     <use style=\"fill:#ff0000;stroke:#ff0000;stroke-width:2.025;\" x=\"414.048278\" xlink:href=\"#C0_0_f30982388a\" y=\"509.553768\"/>\r\n    </g>\r\n    <g clip-path=\"url(#p4a97659bca)\">\r\n     <use style=\"fill:#ff0000;stroke:#ff0000;stroke-width:2.025;\" x=\"423.158482\" xlink:href=\"#C0_0_f30982388a\" y=\"509.256727\"/>\r\n    </g>\r\n    <g clip-path=\"url(#p4a97659bca)\">\r\n     <use style=\"fill:#ff0000;stroke:#ff0000;stroke-width:2.025;\" x=\"432.268686\" xlink:href=\"#C0_0_f30982388a\" y=\"508.887891\"/>\r\n    </g>\r\n    <g clip-path=\"url(#p4a97659bca)\">\r\n     <use style=\"fill:#ff0000;stroke:#ff0000;stroke-width:2.025;\" x=\"441.37889\" xlink:href=\"#C0_0_f30982388a\" y=\"508.584906\"/>\r\n    </g>\r\n    <g clip-path=\"url(#p4a97659bca)\">\r\n     <use style=\"fill:#ff0000;stroke:#ff0000;stroke-width:2.025;\" x=\"450.489094\" xlink:href=\"#C0_0_f30982388a\" y=\"508.18854\"/>\r\n    </g>\r\n    <g clip-path=\"url(#p4a97659bca)\">\r\n     <use style=\"fill:#ff0000;stroke:#ff0000;stroke-width:2.025;\" x=\"459.599298\" xlink:href=\"#C0_0_f30982388a\" y=\"507.831904\"/>\r\n    </g>\r\n    <g clip-path=\"url(#p4a97659bca)\">\r\n     <use style=\"fill:#ff0000;stroke:#ff0000;stroke-width:2.025;\" x=\"468.709503\" xlink:href=\"#C0_0_f30982388a\" y=\"507.399248\"/>\r\n    </g>\r\n    <g clip-path=\"url(#p4a97659bca)\">\r\n     <use style=\"fill:#ff0000;stroke:#ff0000;stroke-width:2.025;\" x=\"477.819707\" xlink:href=\"#C0_0_f30982388a\" y=\"506.786866\"/>\r\n    </g>\r\n    <g clip-path=\"url(#p4a97659bca)\">\r\n     <use style=\"fill:#ff0000;stroke:#ff0000;stroke-width:2.025;\" x=\"486.929911\" xlink:href=\"#C0_0_f30982388a\" y=\"506.153994\"/>\r\n    </g>\r\n    <g clip-path=\"url(#p4a97659bca)\">\r\n     <use style=\"fill:#ff0000;stroke:#ff0000;stroke-width:2.025;\" x=\"496.040115\" xlink:href=\"#C0_0_f30982388a\" y=\"505.532383\"/>\r\n    </g>\r\n    <g clip-path=\"url(#p4a97659bca)\">\r\n     <use style=\"fill:#ff0000;stroke:#ff0000;stroke-width:2.025;\" x=\"505.150319\" xlink:href=\"#C0_0_f30982388a\" y=\"504.942839\"/>\r\n    </g>\r\n    <g clip-path=\"url(#p4a97659bca)\">\r\n     <use style=\"fill:#ff0000;stroke:#ff0000;stroke-width:2.025;\" x=\"514.260523\" xlink:href=\"#C0_0_f30982388a\" y=\"504.15605\"/>\r\n    </g>\r\n    <g clip-path=\"url(#p4a97659bca)\">\r\n     <use style=\"fill:#ff0000;stroke:#ff0000;stroke-width:2.025;\" x=\"523.370727\" xlink:href=\"#C0_0_f30982388a\" y=\"503.021228\"/>\r\n    </g>\r\n    <g clip-path=\"url(#p4a97659bca)\">\r\n     <use style=\"fill:#ff0000;stroke:#ff0000;stroke-width:2.025;\" x=\"532.480931\" xlink:href=\"#C0_0_f30982388a\" y=\"502.633777\"/>\r\n    </g>\r\n    <g clip-path=\"url(#p4a97659bca)\">\r\n     <use style=\"fill:#ff0000;stroke:#ff0000;stroke-width:2.025;\" x=\"541.591135\" xlink:href=\"#C0_0_f30982388a\" y=\"499.995452\"/>\r\n    </g>\r\n    <g clip-path=\"url(#p4a97659bca)\">\r\n     <use style=\"fill:#ff0000;stroke:#ff0000;stroke-width:2.025;\" x=\"550.701339\" xlink:href=\"#C0_0_f30982388a\" y=\"498.290951\"/>\r\n    </g>\r\n    <g clip-path=\"url(#p4a97659bca)\">\r\n     <use style=\"fill:#ff0000;stroke:#ff0000;stroke-width:2.025;\" x=\"559.811543\" xlink:href=\"#C0_0_f30982388a\" y=\"496.515592\"/>\r\n    </g>\r\n    <g clip-path=\"url(#p4a97659bca)\">\r\n     <use style=\"fill:#ff0000;stroke:#ff0000;stroke-width:2.025;\" x=\"568.921747\" xlink:href=\"#C0_0_f30982388a\" y=\"494.304292\"/>\r\n    </g>\r\n    <g clip-path=\"url(#p4a97659bca)\">\r\n     <use style=\"fill:#ff0000;stroke:#ff0000;stroke-width:2.025;\" x=\"578.031952\" xlink:href=\"#C0_0_f30982388a\" y=\"491.878228\"/>\r\n    </g>\r\n    <g clip-path=\"url(#p4a97659bca)\">\r\n     <use style=\"fill:#ff0000;stroke:#ff0000;stroke-width:2.025;\" x=\"587.142156\" xlink:href=\"#C0_0_f30982388a\" y=\"489.104445\"/>\r\n    </g>\r\n    <g clip-path=\"url(#p4a97659bca)\">\r\n     <use style=\"fill:#ff0000;stroke:#ff0000;stroke-width:2.025;\" x=\"596.25236\" xlink:href=\"#C0_0_f30982388a\" y=\"484.76068\"/>\r\n    </g>\r\n    <g clip-path=\"url(#p4a97659bca)\">\r\n     <use style=\"fill:#ff0000;stroke:#ff0000;stroke-width:2.025;\" x=\"605.362564\" xlink:href=\"#C0_0_f30982388a\" y=\"480.125819\"/>\r\n    </g>\r\n    <g clip-path=\"url(#p4a97659bca)\">\r\n     <use style=\"fill:#ff0000;stroke:#ff0000;stroke-width:2.025;\" x=\"614.472768\" xlink:href=\"#C0_0_f30982388a\" y=\"475.072224\"/>\r\n    </g>\r\n    <g clip-path=\"url(#p4a97659bca)\">\r\n     <use style=\"fill:#ff0000;stroke:#ff0000;stroke-width:2.025;\" x=\"623.582972\" xlink:href=\"#C0_0_f30982388a\" y=\"469.994384\"/>\r\n    </g>\r\n    <g clip-path=\"url(#p4a97659bca)\">\r\n     <use style=\"fill:#ff0000;stroke:#ff0000;stroke-width:2.025;\" x=\"632.693176\" xlink:href=\"#C0_0_f30982388a\" y=\"463.539897\"/>\r\n    </g>\r\n    <g clip-path=\"url(#p4a97659bca)\">\r\n     <use style=\"fill:#ff0000;stroke:#ff0000;stroke-width:2.025;\" x=\"641.80338\" xlink:href=\"#C0_0_f30982388a\" y=\"457.314878\"/>\r\n    </g>\r\n    <g clip-path=\"url(#p4a97659bca)\">\r\n     <use style=\"fill:#ff0000;stroke:#ff0000;stroke-width:2.025;\" x=\"650.913584\" xlink:href=\"#C0_0_f30982388a\" y=\"449.549597\"/>\r\n    </g>\r\n    <g clip-path=\"url(#p4a97659bca)\">\r\n     <use style=\"fill:#ff0000;stroke:#ff0000;stroke-width:2.025;\" x=\"660.023788\" xlink:href=\"#C0_0_f30982388a\" y=\"439.855041\"/>\r\n    </g>\r\n    <g clip-path=\"url(#p4a97659bca)\">\r\n     <use style=\"fill:#ff0000;stroke:#ff0000;stroke-width:2.025;\" x=\"669.133992\" xlink:href=\"#C0_0_f30982388a\" y=\"429.887689\"/>\r\n    </g>\r\n    <g clip-path=\"url(#p4a97659bca)\">\r\n     <use style=\"fill:#ff0000;stroke:#ff0000;stroke-width:2.025;\" x=\"678.244196\" xlink:href=\"#C0_0_f30982388a\" y=\"419.34487\"/>\r\n    </g>\r\n    <g clip-path=\"url(#p4a97659bca)\">\r\n     <use style=\"fill:#ff0000;stroke:#ff0000;stroke-width:2.025;\" x=\"687.354401\" xlink:href=\"#C0_0_f30982388a\" y=\"410.044021\"/>\r\n    </g>\r\n    <g clip-path=\"url(#p4a97659bca)\">\r\n     <use style=\"fill:#ff0000;stroke:#ff0000;stroke-width:2.025;\" x=\"696.464605\" xlink:href=\"#C0_0_f30982388a\" y=\"400.313958\"/>\r\n    </g>\r\n    <g clip-path=\"url(#p4a97659bca)\">\r\n     <use style=\"fill:#ff0000;stroke:#ff0000;stroke-width:2.025;\" x=\"705.574809\" xlink:href=\"#C0_0_f30982388a\" y=\"388.564052\"/>\r\n    </g>\r\n    <g clip-path=\"url(#p4a97659bca)\">\r\n     <use style=\"fill:#ff0000;stroke:#ff0000;stroke-width:2.025;\" x=\"714.685013\" xlink:href=\"#C0_0_f30982388a\" y=\"376.82791\"/>\r\n    </g>\r\n    <g clip-path=\"url(#p4a97659bca)\">\r\n     <use style=\"fill:#ff0000;stroke:#ff0000;stroke-width:2.025;\" x=\"723.795217\" xlink:href=\"#C0_0_f30982388a\" y=\"364.186414\"/>\r\n    </g>\r\n    <g clip-path=\"url(#p4a97659bca)\">\r\n     <use style=\"fill:#ff0000;stroke:#ff0000;stroke-width:2.025;\" x=\"732.905421\" xlink:href=\"#C0_0_f30982388a\" y=\"351.294647\"/>\r\n    </g>\r\n    <g clip-path=\"url(#p4a97659bca)\">\r\n     <use style=\"fill:#ff0000;stroke:#ff0000;stroke-width:2.025;\" x=\"742.015625\" xlink:href=\"#C0_0_f30982388a\" y=\"338.752476\"/>\r\n    </g>\r\n    <g clip-path=\"url(#p4a97659bca)\">\r\n     <use style=\"fill:#ff0000;stroke:#ff0000;stroke-width:2.025;\" x=\"751.125829\" xlink:href=\"#C0_0_f30982388a\" y=\"327.227814\"/>\r\n    </g>\r\n    <g clip-path=\"url(#p4a97659bca)\">\r\n     <use style=\"fill:#ff0000;stroke:#ff0000;stroke-width:2.025;\" x=\"760.236033\" xlink:href=\"#C0_0_f30982388a\" y=\"316.014113\"/>\r\n    </g>\r\n    <g clip-path=\"url(#p4a97659bca)\">\r\n     <use style=\"fill:#ff0000;stroke:#ff0000;stroke-width:2.025;\" x=\"769.346237\" xlink:href=\"#C0_0_f30982388a\" y=\"304.280944\"/>\r\n    </g>\r\n    <g clip-path=\"url(#p4a97659bca)\">\r\n     <use style=\"fill:#ff0000;stroke:#ff0000;stroke-width:2.025;\" x=\"778.456441\" xlink:href=\"#C0_0_f30982388a\" y=\"291.178949\"/>\r\n    </g>\r\n    <g clip-path=\"url(#p4a97659bca)\">\r\n     <use style=\"fill:#ff0000;stroke:#ff0000;stroke-width:2.025;\" x=\"787.566645\" xlink:href=\"#C0_0_f30982388a\" y=\"277.830437\"/>\r\n    </g>\r\n    <g clip-path=\"url(#p4a97659bca)\">\r\n     <use style=\"fill:#ff0000;stroke:#ff0000;stroke-width:2.025;\" x=\"796.676849\" xlink:href=\"#C0_0_f30982388a\" y=\"263.3787\"/>\r\n    </g>\r\n    <g clip-path=\"url(#p4a97659bca)\">\r\n     <use style=\"fill:#ff0000;stroke:#ff0000;stroke-width:2.025;\" x=\"805.787054\" xlink:href=\"#C0_0_f30982388a\" y=\"251.162977\"/>\r\n    </g>\r\n    <g clip-path=\"url(#p4a97659bca)\">\r\n     <use style=\"fill:#ff0000;stroke:#ff0000;stroke-width:2.025;\" x=\"814.897258\" xlink:href=\"#C0_0_f30982388a\" y=\"235.655879\"/>\r\n    </g>\r\n    <g clip-path=\"url(#p4a97659bca)\">\r\n     <use style=\"fill:#ff0000;stroke:#ff0000;stroke-width:2.025;\" x=\"824.007462\" xlink:href=\"#C0_0_f30982388a\" y=\"224.702147\"/>\r\n    </g>\r\n    <g clip-path=\"url(#p4a97659bca)\">\r\n     <use style=\"fill:#ff0000;stroke:#ff0000;stroke-width:2.025;\" x=\"833.117666\" xlink:href=\"#C0_0_f30982388a\" y=\"213.691948\"/>\r\n    </g>\r\n    <g clip-path=\"url(#p4a97659bca)\">\r\n     <use style=\"fill:#ff0000;stroke:#ff0000;stroke-width:2.025;\" x=\"842.22787\" xlink:href=\"#C0_0_f30982388a\" y=\"201.190134\"/>\r\n    </g>\r\n    <g clip-path=\"url(#p4a97659bca)\">\r\n     <use style=\"fill:#ff0000;stroke:#ff0000;stroke-width:2.025;\" x=\"851.338074\" xlink:href=\"#C0_0_f30982388a\" y=\"186.11663\"/>\r\n    </g>\r\n    <g clip-path=\"url(#p4a97659bca)\">\r\n     <use style=\"fill:#ff0000;stroke:#ff0000;stroke-width:2.025;\" x=\"860.448278\" xlink:href=\"#C0_0_f30982388a\" y=\"172.375036\"/>\r\n    </g>\r\n    <g clip-path=\"url(#p4a97659bca)\">\r\n     <use style=\"fill:#ff0000;stroke:#ff0000;stroke-width:2.025;\" x=\"869.558482\" xlink:href=\"#C0_0_f30982388a\" y=\"160.234395\"/>\r\n    </g>\r\n    <g clip-path=\"url(#p4a97659bca)\">\r\n     <use style=\"fill:#ff0000;stroke:#ff0000;stroke-width:2.025;\" x=\"878.668686\" xlink:href=\"#C0_0_f30982388a\" y=\"147.173069\"/>\r\n    </g>\r\n    <g clip-path=\"url(#p4a97659bca)\">\r\n     <use style=\"fill:#ff0000;stroke:#ff0000;stroke-width:2.025;\" x=\"887.77889\" xlink:href=\"#C0_0_f30982388a\" y=\"136.080436\"/>\r\n    </g>\r\n    <g clip-path=\"url(#p4a97659bca)\">\r\n     <use style=\"fill:#ff0000;stroke:#ff0000;stroke-width:2.025;\" x=\"896.889094\" xlink:href=\"#C0_0_f30982388a\" y=\"124.026451\"/>\r\n    </g>\r\n    <g clip-path=\"url(#p4a97659bca)\">\r\n     <use style=\"fill:#ff0000;stroke:#ff0000;stroke-width:2.025;\" x=\"905.999298\" xlink:href=\"#C0_0_f30982388a\" y=\"112.250266\"/>\r\n    </g>\r\n    <g clip-path=\"url(#p4a97659bca)\">\r\n     <use style=\"fill:#ff0000;stroke:#ff0000;stroke-width:2.025;\" x=\"915.109503\" xlink:href=\"#C0_0_f30982388a\" y=\"99.168137\"/>\r\n    </g>\r\n    <g clip-path=\"url(#p4a97659bca)\">\r\n     <use style=\"fill:#ff0000;stroke:#ff0000;stroke-width:2.025;\" x=\"924.219707\" xlink:href=\"#C0_0_f30982388a\" y=\"82.92227\"/>\r\n    </g>\r\n    <g clip-path=\"url(#p4a97659bca)\">\r\n     <use style=\"fill:#ff0000;stroke:#ff0000;stroke-width:2.025;\" x=\"933.329911\" xlink:href=\"#C0_0_f30982388a\" y=\"69.466924\"/>\r\n    </g>\r\n    <g clip-path=\"url(#p4a97659bca)\">\r\n     <use style=\"fill:#ff0000;stroke:#ff0000;stroke-width:2.025;\" x=\"942.440115\" xlink:href=\"#C0_0_f30982388a\" y=\"57.776301\"/>\r\n    </g>\r\n    <g clip-path=\"url(#p4a97659bca)\">\r\n     <use style=\"fill:#ff0000;stroke:#ff0000;stroke-width:2.025;\" x=\"951.550319\" xlink:href=\"#C0_0_f30982388a\" y=\"46.920644\"/>\r\n    </g>\r\n    <g clip-path=\"url(#p4a97659bca)\">\r\n     <use style=\"fill:#ff0000;stroke:#ff0000;stroke-width:2.025;\" x=\"960.660523\" xlink:href=\"#C0_0_f30982388a\" y=\"35.246444\"/>\r\n    </g>\r\n   </g>\r\n   <g id=\"PathCollection_2\">\r\n    <defs>\r\n     <path d=\"M 0 3.383948 \r\nC 0.897434 3.383948 1.758231 3.027394 2.392813 2.392813 \r\nC 3.027394 1.758231 3.383948 0.897434 3.383948 0 \r\nC 3.383948 -0.897434 3.027394 -1.758231 2.392813 -2.392813 \r\nC 1.758231 -3.027394 0.897434 -3.383948 0 -3.383948 \r\nC -0.897434 -3.383948 -1.758231 -3.027394 -2.392813 -2.392813 \r\nC -3.027394 -1.758231 -3.383948 -0.897434 -3.383948 0 \r\nC -3.383948 0.897434 -3.027394 1.758231 -2.392813 2.392813 \r\nC -1.758231 3.027394 -0.897434 3.383948 0 3.383948 \r\nz\r\n\" id=\"C1_0_9cefc311ca\"/>\r\n    </defs>\r\n    <g clip-path=\"url(#p4a97659bca)\">\r\n     <use style=\"fill:#0000ff;stroke:#0000ff;stroke-width:2.025;\" x=\"76.970727\" xlink:href=\"#C1_0_9cefc311ca\" y=\"522.70785\"/>\r\n    </g>\r\n    <g clip-path=\"url(#p4a97659bca)\">\r\n     <use style=\"fill:#0000ff;stroke:#0000ff;stroke-width:2.025;\" x=\"86.080931\" xlink:href=\"#C1_0_9cefc311ca\" y=\"522.707694\"/>\r\n    </g>\r\n    <g clip-path=\"url(#p4a97659bca)\">\r\n     <use style=\"fill:#0000ff;stroke:#0000ff;stroke-width:2.025;\" x=\"95.191135\" xlink:href=\"#C1_0_9cefc311ca\" y=\"522.706442\"/>\r\n    </g>\r\n    <g clip-path=\"url(#p4a97659bca)\">\r\n     <use style=\"fill:#0000ff;stroke:#0000ff;stroke-width:2.025;\" x=\"104.301339\" xlink:href=\"#C1_0_9cefc311ca\" y=\"522.70394\"/>\r\n    </g>\r\n    <g clip-path=\"url(#p4a97659bca)\">\r\n     <use style=\"fill:#0000ff;stroke:#0000ff;stroke-width:2.025;\" x=\"113.411543\" xlink:href=\"#C1_0_9cefc311ca\" y=\"522.70175\"/>\r\n    </g>\r\n    <g clip-path=\"url(#p4a97659bca)\">\r\n     <use style=\"fill:#0000ff;stroke:#0000ff;stroke-width:2.025;\" x=\"122.521747\" xlink:href=\"#C1_0_9cefc311ca\" y=\"522.697683\"/>\r\n    </g>\r\n    <g clip-path=\"url(#p4a97659bca)\">\r\n     <use style=\"fill:#0000ff;stroke:#0000ff;stroke-width:2.025;\" x=\"131.631952\" xlink:href=\"#C1_0_9cefc311ca\" y=\"522.690018\"/>\r\n    </g>\r\n    <g clip-path=\"url(#p4a97659bca)\">\r\n     <use style=\"fill:#0000ff;stroke:#0000ff;stroke-width:2.025;\" x=\"140.742156\" xlink:href=\"#C1_0_9cefc311ca\" y=\"522.689706\"/>\r\n    </g>\r\n    <g clip-path=\"url(#p4a97659bca)\">\r\n     <use style=\"fill:#0000ff;stroke:#0000ff;stroke-width:2.025;\" x=\"149.85236\" xlink:href=\"#C1_0_9cefc311ca\" y=\"522.683762\"/>\r\n    </g>\r\n    <g clip-path=\"url(#p4a97659bca)\">\r\n     <use style=\"fill:#0000ff;stroke:#0000ff;stroke-width:2.025;\" x=\"158.962564\" xlink:href=\"#C1_0_9cefc311ca\" y=\"522.677192\"/>\r\n    </g>\r\n    <g clip-path=\"url(#p4a97659bca)\">\r\n     <use style=\"fill:#0000ff;stroke:#0000ff;stroke-width:2.025;\" x=\"168.072768\" xlink:href=\"#C1_0_9cefc311ca\" y=\"522.669997\"/>\r\n    </g>\r\n    <g clip-path=\"url(#p4a97659bca)\">\r\n     <use style=\"fill:#0000ff;stroke:#0000ff;stroke-width:2.025;\" x=\"177.182972\" xlink:href=\"#C1_0_9cefc311ca\" y=\"522.653885\"/>\r\n    </g>\r\n    <g clip-path=\"url(#p4a97659bca)\">\r\n     <use style=\"fill:#0000ff;stroke:#0000ff;stroke-width:2.025;\" x=\"186.293176\" xlink:href=\"#C1_0_9cefc311ca\" y=\"522.643875\"/>\r\n    </g>\r\n    <g clip-path=\"url(#p4a97659bca)\">\r\n     <use style=\"fill:#0000ff;stroke:#0000ff;stroke-width:2.025;\" x=\"195.40338\" xlink:href=\"#C1_0_9cefc311ca\" y=\"522.633551\"/>\r\n    </g>\r\n    <g clip-path=\"url(#p4a97659bca)\">\r\n     <use style=\"fill:#0000ff;stroke:#0000ff;stroke-width:2.025;\" x=\"204.513584\" xlink:href=\"#C1_0_9cefc311ca\" y=\"522.622289\"/>\r\n    </g>\r\n    <g clip-path=\"url(#p4a97659bca)\">\r\n     <use style=\"fill:#0000ff;stroke:#0000ff;stroke-width:2.025;\" x=\"213.623788\" xlink:href=\"#C1_0_9cefc311ca\" y=\"522.611339\"/>\r\n    </g>\r\n    <g clip-path=\"url(#p4a97659bca)\">\r\n     <use style=\"fill:#0000ff;stroke:#0000ff;stroke-width:2.025;\" x=\"222.733992\" xlink:href=\"#C1_0_9cefc311ca\" y=\"522.598044\"/>\r\n    </g>\r\n    <g clip-path=\"url(#p4a97659bca)\">\r\n     <use style=\"fill:#0000ff;stroke:#0000ff;stroke-width:2.025;\" x=\"231.844196\" xlink:href=\"#C1_0_9cefc311ca\" y=\"522.584435\"/>\r\n    </g>\r\n    <g clip-path=\"url(#p4a97659bca)\">\r\n     <use style=\"fill:#0000ff;stroke:#0000ff;stroke-width:2.025;\" x=\"240.954401\" xlink:href=\"#C1_0_9cefc311ca\" y=\"522.568793\"/>\r\n    </g>\r\n    <g clip-path=\"url(#p4a97659bca)\">\r\n     <use style=\"fill:#0000ff;stroke:#0000ff;stroke-width:2.025;\" x=\"250.064605\" xlink:href=\"#C1_0_9cefc311ca\" y=\"522.552057\"/>\r\n    </g>\r\n    <g clip-path=\"url(#p4a97659bca)\">\r\n     <use style=\"fill:#0000ff;stroke:#0000ff;stroke-width:2.025;\" x=\"259.174809\" xlink:href=\"#C1_0_9cefc311ca\" y=\"522.536415\"/>\r\n    </g>\r\n    <g clip-path=\"url(#p4a97659bca)\">\r\n     <use style=\"fill:#0000ff;stroke:#0000ff;stroke-width:2.025;\" x=\"268.285013\" xlink:href=\"#C1_0_9cefc311ca\" y=\"522.535632\"/>\r\n    </g>\r\n    <g clip-path=\"url(#p4a97659bca)\">\r\n     <use style=\"fill:#0000ff;stroke:#0000ff;stroke-width:2.025;\" x=\"277.395217\" xlink:href=\"#C1_0_9cefc311ca\" y=\"522.496058\"/>\r\n    </g>\r\n    <g clip-path=\"url(#p4a97659bca)\">\r\n     <use style=\"fill:#0000ff;stroke:#0000ff;stroke-width:2.025;\" x=\"286.505421\" xlink:href=\"#C1_0_9cefc311ca\" y=\"522.472283\"/>\r\n    </g>\r\n    <g clip-path=\"url(#p4a97659bca)\">\r\n     <use style=\"fill:#0000ff;stroke:#0000ff;stroke-width:2.025;\" x=\"295.615625\" xlink:href=\"#C1_0_9cefc311ca\" y=\"522.449915\"/>\r\n    </g>\r\n    <g clip-path=\"url(#p4a97659bca)\">\r\n     <use style=\"fill:#0000ff;stroke:#0000ff;stroke-width:2.025;\" x=\"304.725829\" xlink:href=\"#C1_0_9cefc311ca\" y=\"522.433647\"/>\r\n    </g>\r\n    <g clip-path=\"url(#p4a97659bca)\">\r\n     <use style=\"fill:#0000ff;stroke:#0000ff;stroke-width:2.025;\" x=\"313.836033\" xlink:href=\"#C1_0_9cefc311ca\" y=\"522.418318\"/>\r\n    </g>\r\n    <g clip-path=\"url(#p4a97659bca)\">\r\n     <use style=\"fill:#0000ff;stroke:#0000ff;stroke-width:2.025;\" x=\"322.946237\" xlink:href=\"#C1_0_9cefc311ca\" y=\"522.396576\"/>\r\n    </g>\r\n    <g clip-path=\"url(#p4a97659bca)\">\r\n     <use style=\"fill:#0000ff;stroke:#0000ff;stroke-width:2.025;\" x=\"332.056441\" xlink:href=\"#C1_0_9cefc311ca\" y=\"522.378587\"/>\r\n    </g>\r\n    <g clip-path=\"url(#p4a97659bca)\">\r\n     <use style=\"fill:#0000ff;stroke:#0000ff;stroke-width:2.025;\" x=\"341.166645\" xlink:href=\"#C1_0_9cefc311ca\" y=\"522.359035\"/>\r\n    </g>\r\n    <g clip-path=\"url(#p4a97659bca)\">\r\n     <use style=\"fill:#0000ff;stroke:#0000ff;stroke-width:2.025;\" x=\"350.276849\" xlink:href=\"#C1_0_9cefc311ca\" y=\"522.358409\"/>\r\n    </g>\r\n    <g clip-path=\"url(#p4a97659bca)\">\r\n     <use style=\"fill:#0000ff;stroke:#0000ff;stroke-width:2.025;\" x=\"359.387054\" xlink:href=\"#C1_0_9cefc311ca\" y=\"522.326031\"/>\r\n    </g>\r\n    <g clip-path=\"url(#p4a97659bca)\">\r\n     <use style=\"fill:#0000ff;stroke:#0000ff;stroke-width:2.025;\" x=\"368.497258\" xlink:href=\"#C1_0_9cefc311ca\" y=\"522.32431\"/>\r\n    </g>\r\n    <g clip-path=\"url(#p4a97659bca)\">\r\n     <use style=\"fill:#0000ff;stroke:#0000ff;stroke-width:2.025;\" x=\"377.607462\" xlink:href=\"#C1_0_9cefc311ca\" y=\"522.299283\"/>\r\n    </g>\r\n    <g clip-path=\"url(#p4a97659bca)\">\r\n     <use style=\"fill:#0000ff;stroke:#0000ff;stroke-width:2.025;\" x=\"386.717666\" xlink:href=\"#C1_0_9cefc311ca\" y=\"522.286926\"/>\r\n    </g>\r\n    <g clip-path=\"url(#p4a97659bca)\">\r\n     <use style=\"fill:#0000ff;stroke:#0000ff;stroke-width:2.025;\" x=\"395.82787\" xlink:href=\"#C1_0_9cefc311ca\" y=\"522.277228\"/>\r\n    </g>\r\n    <g clip-path=\"url(#p4a97659bca)\">\r\n     <use style=\"fill:#0000ff;stroke:#0000ff;stroke-width:2.025;\" x=\"404.938074\" xlink:href=\"#C1_0_9cefc311ca\" y=\"522.270345\"/>\r\n    </g>\r\n    <g clip-path=\"url(#p4a97659bca)\">\r\n     <use style=\"fill:#0000ff;stroke:#0000ff;stroke-width:2.025;\" x=\"414.048278\" xlink:href=\"#C1_0_9cefc311ca\" y=\"522.261273\"/>\r\n    </g>\r\n    <g clip-path=\"url(#p4a97659bca)\">\r\n     <use style=\"fill:#0000ff;stroke:#0000ff;stroke-width:2.025;\" x=\"423.158482\" xlink:href=\"#C1_0_9cefc311ca\" y=\"522.25048\"/>\r\n    </g>\r\n    <g clip-path=\"url(#p4a97659bca)\">\r\n     <use style=\"fill:#0000ff;stroke:#0000ff;stroke-width:2.025;\" x=\"432.268686\" xlink:href=\"#C1_0_9cefc311ca\" y=\"522.241877\"/>\r\n    </g>\r\n    <g clip-path=\"url(#p4a97659bca)\">\r\n     <use style=\"fill:#0000ff;stroke:#0000ff;stroke-width:2.025;\" x=\"441.37889\" xlink:href=\"#C1_0_9cefc311ca\" y=\"522.227956\"/>\r\n    </g>\r\n    <g clip-path=\"url(#p4a97659bca)\">\r\n     <use style=\"fill:#0000ff;stroke:#0000ff;stroke-width:2.025;\" x=\"450.489094\" xlink:href=\"#C1_0_9cefc311ca\" y=\"522.216224\"/>\r\n    </g>\r\n    <g clip-path=\"url(#p4a97659bca)\">\r\n     <use style=\"fill:#0000ff;stroke:#0000ff;stroke-width:2.025;\" x=\"459.599298\" xlink:href=\"#C1_0_9cefc311ca\" y=\"522.201521\"/>\r\n    </g>\r\n    <g clip-path=\"url(#p4a97659bca)\">\r\n     <use style=\"fill:#0000ff;stroke:#0000ff;stroke-width:2.025;\" x=\"468.709503\" xlink:href=\"#C1_0_9cefc311ca\" y=\"522.186817\"/>\r\n    </g>\r\n    <g clip-path=\"url(#p4a97659bca)\">\r\n     <use style=\"fill:#0000ff;stroke:#0000ff;stroke-width:2.025;\" x=\"477.819707\" xlink:href=\"#C1_0_9cefc311ca\" y=\"522.169298\"/>\r\n    </g>\r\n    <g clip-path=\"url(#p4a97659bca)\">\r\n     <use style=\"fill:#0000ff;stroke:#0000ff;stroke-width:2.025;\" x=\"486.929911\" xlink:href=\"#C1_0_9cefc311ca\" y=\"522.153969\"/>\r\n    </g>\r\n    <g clip-path=\"url(#p4a97659bca)\">\r\n     <use style=\"fill:#0000ff;stroke:#0000ff;stroke-width:2.025;\" x=\"496.040115\" xlink:href=\"#C1_0_9cefc311ca\" y=\"522.115803\"/>\r\n    </g>\r\n    <g clip-path=\"url(#p4a97659bca)\">\r\n     <use style=\"fill:#0000ff;stroke:#0000ff;stroke-width:2.025;\" x=\"505.150319\" xlink:href=\"#C1_0_9cefc311ca\" y=\"522.086709\"/>\r\n    </g>\r\n    <g clip-path=\"url(#p4a97659bca)\">\r\n     <use style=\"fill:#0000ff;stroke:#0000ff;stroke-width:2.025;\" x=\"514.260523\" xlink:href=\"#C1_0_9cefc311ca\" y=\"522.04385\"/>\r\n    </g>\r\n    <g clip-path=\"url(#p4a97659bca)\">\r\n     <use style=\"fill:#0000ff;stroke:#0000ff;stroke-width:2.025;\" x=\"523.370727\" xlink:href=\"#C1_0_9cefc311ca\" y=\"521.988634\"/>\r\n    </g>\r\n    <g clip-path=\"url(#p4a97659bca)\">\r\n     <use style=\"fill:#0000ff;stroke:#0000ff;stroke-width:2.025;\" x=\"532.480931\" xlink:href=\"#C1_0_9cefc311ca\" y=\"521.972054\"/>\r\n    </g>\r\n    <g clip-path=\"url(#p4a97659bca)\">\r\n     <use style=\"fill:#0000ff;stroke:#0000ff;stroke-width:2.025;\" x=\"541.591135\" xlink:href=\"#C1_0_9cefc311ca\" y=\"521.864906\"/>\r\n    </g>\r\n    <g clip-path=\"url(#p4a97659bca)\">\r\n     <use style=\"fill:#0000ff;stroke:#0000ff;stroke-width:2.025;\" x=\"550.701339\" xlink:href=\"#C1_0_9cefc311ca\" y=\"521.79968\"/>\r\n    </g>\r\n    <g clip-path=\"url(#p4a97659bca)\">\r\n     <use style=\"fill:#0000ff;stroke:#0000ff;stroke-width:2.025;\" x=\"559.811543\" xlink:href=\"#C1_0_9cefc311ca\" y=\"521.701605\"/>\r\n    </g>\r\n    <g clip-path=\"url(#p4a97659bca)\">\r\n     <use style=\"fill:#0000ff;stroke:#0000ff;stroke-width:2.025;\" x=\"568.921747\" xlink:href=\"#C1_0_9cefc311ca\" y=\"521.593675\"/>\r\n    </g>\r\n    <g clip-path=\"url(#p4a97659bca)\">\r\n     <use style=\"fill:#0000ff;stroke:#0000ff;stroke-width:2.025;\" x=\"578.031952\" xlink:href=\"#C1_0_9cefc311ca\" y=\"521.470104\"/>\r\n    </g>\r\n    <g clip-path=\"url(#p4a97659bca)\">\r\n     <use style=\"fill:#0000ff;stroke:#0000ff;stroke-width:2.025;\" x=\"587.142156\" xlink:href=\"#C1_0_9cefc311ca\" y=\"521.337304\"/>\r\n    </g>\r\n    <g clip-path=\"url(#p4a97659bca)\">\r\n     <use style=\"fill:#0000ff;stroke:#0000ff;stroke-width:2.025;\" x=\"596.25236\" xlink:href=\"#C1_0_9cefc311ca\" y=\"521.158048\"/>\r\n    </g>\r\n    <g clip-path=\"url(#p4a97659bca)\">\r\n     <use style=\"fill:#0000ff;stroke:#0000ff;stroke-width:2.025;\" x=\"605.362564\" xlink:href=\"#C1_0_9cefc311ca\" y=\"520.926547\"/>\r\n    </g>\r\n    <g clip-path=\"url(#p4a97659bca)\">\r\n     <use style=\"fill:#0000ff;stroke:#0000ff;stroke-width:2.025;\" x=\"614.472768\" xlink:href=\"#C1_0_9cefc311ca\" y=\"520.660165\"/>\r\n    </g>\r\n    <g clip-path=\"url(#p4a97659bca)\">\r\n     <use style=\"fill:#0000ff;stroke:#0000ff;stroke-width:2.025;\" x=\"623.582972\" xlink:href=\"#C1_0_9cefc311ca\" y=\"520.392219\"/>\r\n    </g>\r\n    <g clip-path=\"url(#p4a97659bca)\">\r\n     <use style=\"fill:#0000ff;stroke:#0000ff;stroke-width:2.025;\" x=\"632.693176\" xlink:href=\"#C1_0_9cefc311ca\" y=\"520.092832\"/>\r\n    </g>\r\n    <g clip-path=\"url(#p4a97659bca)\">\r\n     <use style=\"fill:#0000ff;stroke:#0000ff;stroke-width:2.025;\" x=\"641.80338\" xlink:href=\"#C1_0_9cefc311ca\" y=\"519.749804\"/>\r\n    </g>\r\n    <g clip-path=\"url(#p4a97659bca)\">\r\n     <use style=\"fill:#0000ff;stroke:#0000ff;stroke-width:2.025;\" x=\"650.913584\" xlink:href=\"#C1_0_9cefc311ca\" y=\"519.338734\"/>\r\n    </g>\r\n    <g clip-path=\"url(#p4a97659bca)\">\r\n     <use style=\"fill:#0000ff;stroke:#0000ff;stroke-width:2.025;\" x=\"660.023788\" xlink:href=\"#C1_0_9cefc311ca\" y=\"518.879957\"/>\r\n    </g>\r\n    <g clip-path=\"url(#p4a97659bca)\">\r\n     <use style=\"fill:#0000ff;stroke:#0000ff;stroke-width:2.025;\" x=\"669.133992\" xlink:href=\"#C1_0_9cefc311ca\" y=\"518.3486\"/>\r\n    </g>\r\n    <g clip-path=\"url(#p4a97659bca)\">\r\n     <use style=\"fill:#0000ff;stroke:#0000ff;stroke-width:2.025;\" x=\"678.244196\" xlink:href=\"#C1_0_9cefc311ca\" y=\"517.805043\"/>\r\n    </g>\r\n    <g clip-path=\"url(#p4a97659bca)\">\r\n     <use style=\"fill:#0000ff;stroke:#0000ff;stroke-width:2.025;\" x=\"687.354401\" xlink:href=\"#C1_0_9cefc311ca\" y=\"517.254291\"/>\r\n    </g>\r\n    <g clip-path=\"url(#p4a97659bca)\">\r\n     <use style=\"fill:#0000ff;stroke:#0000ff;stroke-width:2.025;\" x=\"696.464605\" xlink:href=\"#C1_0_9cefc311ca\" y=\"516.640814\"/>\r\n    </g>\r\n    <g clip-path=\"url(#p4a97659bca)\">\r\n     <use style=\"fill:#0000ff;stroke:#0000ff;stroke-width:2.025;\" x=\"705.574809\" xlink:href=\"#C1_0_9cefc311ca\" y=\"515.890314\"/>\r\n    </g>\r\n    <g clip-path=\"url(#p4a97659bca)\">\r\n     <use style=\"fill:#0000ff;stroke:#0000ff;stroke-width:2.025;\" x=\"714.685013\" xlink:href=\"#C1_0_9cefc311ca\" y=\"515.056599\"/>\r\n    </g>\r\n    <g clip-path=\"url(#p4a97659bca)\">\r\n     <use style=\"fill:#0000ff;stroke:#0000ff;stroke-width:2.025;\" x=\"723.795217\" xlink:href=\"#C1_0_9cefc311ca\" y=\"514.108855\"/>\r\n    </g>\r\n    <g clip-path=\"url(#p4a97659bca)\">\r\n     <use style=\"fill:#0000ff;stroke:#0000ff;stroke-width:2.025;\" x=\"732.905421\" xlink:href=\"#C1_0_9cefc311ca\" y=\"513.175813\"/>\r\n    </g>\r\n    <g clip-path=\"url(#p4a97659bca)\">\r\n     <use style=\"fill:#0000ff;stroke:#0000ff;stroke-width:2.025;\" x=\"742.015625\" xlink:href=\"#C1_0_9cefc311ca\" y=\"512.218996\"/>\r\n    </g>\r\n    <g clip-path=\"url(#p4a97659bca)\">\r\n     <use style=\"fill:#0000ff;stroke:#0000ff;stroke-width:2.025;\" x=\"751.125829\" xlink:href=\"#C1_0_9cefc311ca\" y=\"511.425638\"/>\r\n    </g>\r\n    <g clip-path=\"url(#p4a97659bca)\">\r\n     <use style=\"fill:#0000ff;stroke:#0000ff;stroke-width:2.025;\" x=\"760.236033\" xlink:href=\"#C1_0_9cefc311ca\" y=\"510.555633\"/>\r\n    </g>\r\n    <g clip-path=\"url(#p4a97659bca)\">\r\n     <use style=\"fill:#0000ff;stroke:#0000ff;stroke-width:2.025;\" x=\"769.346237\" xlink:href=\"#C1_0_9cefc311ca\" y=\"509.360121\"/>\r\n    </g>\r\n    <g clip-path=\"url(#p4a97659bca)\">\r\n     <use style=\"fill:#0000ff;stroke:#0000ff;stroke-width:2.025;\" x=\"778.456441\" xlink:href=\"#C1_0_9cefc311ca\" y=\"508.328379\"/>\r\n    </g>\r\n    <g clip-path=\"url(#p4a97659bca)\">\r\n     <use style=\"fill:#0000ff;stroke:#0000ff;stroke-width:2.025;\" x=\"787.566645\" xlink:href=\"#C1_0_9cefc311ca\" y=\"507.185579\"/>\r\n    </g>\r\n    <g clip-path=\"url(#p4a97659bca)\">\r\n     <use style=\"fill:#0000ff;stroke:#0000ff;stroke-width:2.025;\" x=\"796.676849\" xlink:href=\"#C1_0_9cefc311ca\" y=\"506.081415\"/>\r\n    </g>\r\n    <g clip-path=\"url(#p4a97659bca)\">\r\n     <use style=\"fill:#0000ff;stroke:#0000ff;stroke-width:2.025;\" x=\"805.787054\" xlink:href=\"#C1_0_9cefc311ca\" y=\"505.125537\"/>\r\n    </g>\r\n    <g clip-path=\"url(#p4a97659bca)\">\r\n     <use style=\"fill:#0000ff;stroke:#0000ff;stroke-width:2.025;\" x=\"814.897258\" xlink:href=\"#C1_0_9cefc311ca\" y=\"504.224874\"/>\r\n    </g>\r\n    <g clip-path=\"url(#p4a97659bca)\">\r\n     <use style=\"fill:#0000ff;stroke:#0000ff;stroke-width:2.025;\" x=\"824.007462\" xlink:href=\"#C1_0_9cefc311ca\" y=\"503.336256\"/>\r\n    </g>\r\n    <g clip-path=\"url(#p4a97659bca)\">\r\n     <use style=\"fill:#0000ff;stroke:#0000ff;stroke-width:2.025;\" x=\"833.117666\" xlink:href=\"#C1_0_9cefc311ca\" y=\"502.299353\"/>\r\n    </g>\r\n    <g clip-path=\"url(#p4a97659bca)\">\r\n     <use style=\"fill:#0000ff;stroke:#0000ff;stroke-width:2.025;\" x=\"842.22787\" xlink:href=\"#C1_0_9cefc311ca\" y=\"501.026099\"/>\r\n    </g>\r\n    <g clip-path=\"url(#p4a97659bca)\">\r\n     <use style=\"fill:#0000ff;stroke:#0000ff;stroke-width:2.025;\" x=\"851.338074\" xlink:href=\"#C1_0_9cefc311ca\" y=\"499.912394\"/>\r\n    </g>\r\n    <g clip-path=\"url(#p4a97659bca)\">\r\n     <use style=\"fill:#0000ff;stroke:#0000ff;stroke-width:2.025;\" x=\"860.448278\" xlink:href=\"#C1_0_9cefc311ca\" y=\"498.54044\"/>\r\n    </g>\r\n    <g clip-path=\"url(#p4a97659bca)\">\r\n     <use style=\"fill:#0000ff;stroke:#0000ff;stroke-width:2.025;\" x=\"869.558482\" xlink:href=\"#C1_0_9cefc311ca\" y=\"497.573299\"/>\r\n    </g>\r\n    <g clip-path=\"url(#p4a97659bca)\">\r\n     <use style=\"fill:#0000ff;stroke:#0000ff;stroke-width:2.025;\" x=\"878.668686\" xlink:href=\"#C1_0_9cefc311ca\" y=\"496.844229\"/>\r\n    </g>\r\n    <g clip-path=\"url(#p4a97659bca)\">\r\n     <use style=\"fill:#0000ff;stroke:#0000ff;stroke-width:2.025;\" x=\"887.77889\" xlink:href=\"#C1_0_9cefc311ca\" y=\"496.028815\"/>\r\n    </g>\r\n    <g clip-path=\"url(#p4a97659bca)\">\r\n     <use style=\"fill:#0000ff;stroke:#0000ff;stroke-width:2.025;\" x=\"896.889094\" xlink:href=\"#C1_0_9cefc311ca\" y=\"494.966259\"/>\r\n    </g>\r\n    <g clip-path=\"url(#p4a97659bca)\">\r\n     <use style=\"fill:#0000ff;stroke:#0000ff;stroke-width:2.025;\" x=\"905.999298\" xlink:href=\"#C1_0_9cefc311ca\" y=\"493.934047\"/>\r\n    </g>\r\n    <g clip-path=\"url(#p4a97659bca)\">\r\n     <use style=\"fill:#0000ff;stroke:#0000ff;stroke-width:2.025;\" x=\"915.109503\" xlink:href=\"#C1_0_9cefc311ca\" y=\"492.892608\"/>\r\n    </g>\r\n    <g clip-path=\"url(#p4a97659bca)\">\r\n     <use style=\"fill:#0000ff;stroke:#0000ff;stroke-width:2.025;\" x=\"924.219707\" xlink:href=\"#C1_0_9cefc311ca\" y=\"491.940014\"/>\r\n    </g>\r\n    <g clip-path=\"url(#p4a97659bca)\">\r\n     <use style=\"fill:#0000ff;stroke:#0000ff;stroke-width:2.025;\" x=\"933.329911\" xlink:href=\"#C1_0_9cefc311ca\" y=\"490.978035\"/>\r\n    </g>\r\n    <g clip-path=\"url(#p4a97659bca)\">\r\n     <use style=\"fill:#0000ff;stroke:#0000ff;stroke-width:2.025;\" x=\"942.440115\" xlink:href=\"#C1_0_9cefc311ca\" y=\"490.399284\"/>\r\n    </g>\r\n    <g clip-path=\"url(#p4a97659bca)\">\r\n     <use style=\"fill:#0000ff;stroke:#0000ff;stroke-width:2.025;\" x=\"951.550319\" xlink:href=\"#C1_0_9cefc311ca\" y=\"489.679911\"/>\r\n    </g>\r\n    <g clip-path=\"url(#p4a97659bca)\">\r\n     <use style=\"fill:#0000ff;stroke:#0000ff;stroke-width:2.025;\" x=\"960.660523\" xlink:href=\"#C1_0_9cefc311ca\" y=\"488.743585\"/>\r\n    </g>\r\n   </g>\r\n   <g id=\"matplotlib.axis_1\">\r\n    <g id=\"xtick_1\">\r\n     <g id=\"line2d_1\">\r\n      <defs>\r\n       <path d=\"M 0 0 \r\nL 0 3.5 \r\n\" id=\"m792b6a5fbf\" style=\"stroke:#000000;stroke-width:0.8;\"/>\r\n      </defs>\r\n      <g>\r\n       <use style=\"stroke:#000000;stroke-width:0.8;\" x=\"76.970727\" xlink:href=\"#m792b6a5fbf\" y=\"550.8\"/>\r\n      </g>\r\n     </g>\r\n     <g id=\"text_1\">\r\n      <!-- 2020-01-22 -->\r\n      <defs>\r\n       <path d=\"M 19.1875 8.296875 \r\nL 53.609375 8.296875 \r\nL 53.609375 0 \r\nL 7.328125 0 \r\nL 7.328125 8.296875 \r\nQ 12.9375 14.109375 22.625 23.890625 \r\nQ 32.328125 33.6875 34.8125 36.53125 \r\nQ 39.546875 41.84375 41.421875 45.53125 \r\nQ 43.3125 49.21875 43.3125 52.78125 \r\nQ 43.3125 58.59375 39.234375 62.25 \r\nQ 35.15625 65.921875 28.609375 65.921875 \r\nQ 23.96875 65.921875 18.8125 64.3125 \r\nQ 13.671875 62.703125 7.8125 59.421875 \r\nL 7.8125 69.390625 \r\nQ 13.765625 71.78125 18.9375 73 \r\nQ 24.125 74.21875 28.421875 74.21875 \r\nQ 39.75 74.21875 46.484375 68.546875 \r\nQ 53.21875 62.890625 53.21875 53.421875 \r\nQ 53.21875 48.921875 51.53125 44.890625 \r\nQ 49.859375 40.875 45.40625 35.40625 \r\nQ 44.1875 33.984375 37.640625 27.21875 \r\nQ 31.109375 20.453125 19.1875 8.296875 \r\nz\r\n\" id=\"DejaVuSans-50\"/>\r\n       <path d=\"M 31.78125 66.40625 \r\nQ 24.171875 66.40625 20.328125 58.90625 \r\nQ 16.5 51.421875 16.5 36.375 \r\nQ 16.5 21.390625 20.328125 13.890625 \r\nQ 24.171875 6.390625 31.78125 6.390625 \r\nQ 39.453125 6.390625 43.28125 13.890625 \r\nQ 47.125 21.390625 47.125 36.375 \r\nQ 47.125 51.421875 43.28125 58.90625 \r\nQ 39.453125 66.40625 31.78125 66.40625 \r\nz\r\nM 31.78125 74.21875 \r\nQ 44.046875 74.21875 50.515625 64.515625 \r\nQ 56.984375 54.828125 56.984375 36.375 \r\nQ 56.984375 17.96875 50.515625 8.265625 \r\nQ 44.046875 -1.421875 31.78125 -1.421875 \r\nQ 19.53125 -1.421875 13.0625 8.265625 \r\nQ 6.59375 17.96875 6.59375 36.375 \r\nQ 6.59375 54.828125 13.0625 64.515625 \r\nQ 19.53125 74.21875 31.78125 74.21875 \r\nz\r\n\" id=\"DejaVuSans-48\"/>\r\n       <path d=\"M 4.890625 31.390625 \r\nL 31.203125 31.390625 \r\nL 31.203125 23.390625 \r\nL 4.890625 23.390625 \r\nz\r\n\" id=\"DejaVuSans-45\"/>\r\n       <path d=\"M 12.40625 8.296875 \r\nL 28.515625 8.296875 \r\nL 28.515625 63.921875 \r\nL 10.984375 60.40625 \r\nL 10.984375 69.390625 \r\nL 28.421875 72.90625 \r\nL 38.28125 72.90625 \r\nL 38.28125 8.296875 \r\nL 54.390625 8.296875 \r\nL 54.390625 0 \r\nL 12.40625 0 \r\nz\r\n\" id=\"DejaVuSans-49\"/>\r\n      </defs>\r\n      <g transform=\"translate(79.730102 615.915625)rotate(-90)scale(0.1 -0.1)\">\r\n       <use xlink:href=\"#DejaVuSans-50\"/>\r\n       <use x=\"63.623047\" xlink:href=\"#DejaVuSans-48\"/>\r\n       <use x=\"127.246094\" xlink:href=\"#DejaVuSans-50\"/>\r\n       <use x=\"190.869141\" xlink:href=\"#DejaVuSans-48\"/>\r\n       <use x=\"254.492188\" xlink:href=\"#DejaVuSans-45\"/>\r\n       <use x=\"290.576172\" xlink:href=\"#DejaVuSans-48\"/>\r\n       <use x=\"354.199219\" xlink:href=\"#DejaVuSans-49\"/>\r\n       <use x=\"417.822266\" xlink:href=\"#DejaVuSans-45\"/>\r\n       <use x=\"453.90625\" xlink:href=\"#DejaVuSans-50\"/>\r\n       <use x=\"517.529297\" xlink:href=\"#DejaVuSans-50\"/>\r\n      </g>\r\n     </g>\r\n    </g>\r\n    <g id=\"xtick_2\">\r\n     <g id=\"line2d_2\">\r\n      <g>\r\n       <use style=\"stroke:#000000;stroke-width:0.8;\" x=\"86.080931\" xlink:href=\"#m792b6a5fbf\" y=\"550.8\"/>\r\n      </g>\r\n     </g>\r\n     <g id=\"text_2\">\r\n      <!-- 2020-01-23 -->\r\n      <defs>\r\n       <path d=\"M 40.578125 39.3125 \r\nQ 47.65625 37.796875 51.625 33 \r\nQ 55.609375 28.21875 55.609375 21.1875 \r\nQ 55.609375 10.40625 48.1875 4.484375 \r\nQ 40.765625 -1.421875 27.09375 -1.421875 \r\nQ 22.515625 -1.421875 17.65625 -0.515625 \r\nQ 12.796875 0.390625 7.625 2.203125 \r\nL 7.625 11.71875 \r\nQ 11.71875 9.328125 16.59375 8.109375 \r\nQ 21.484375 6.890625 26.8125 6.890625 \r\nQ 36.078125 6.890625 40.9375 10.546875 \r\nQ 45.796875 14.203125 45.796875 21.1875 \r\nQ 45.796875 27.640625 41.28125 31.265625 \r\nQ 36.765625 34.90625 28.71875 34.90625 \r\nL 20.21875 34.90625 \r\nL 20.21875 43.015625 \r\nL 29.109375 43.015625 \r\nQ 36.375 43.015625 40.234375 45.921875 \r\nQ 44.09375 48.828125 44.09375 54.296875 \r\nQ 44.09375 59.90625 40.109375 62.90625 \r\nQ 36.140625 65.921875 28.71875 65.921875 \r\nQ 24.65625 65.921875 20.015625 65.03125 \r\nQ 15.375 64.15625 9.8125 62.3125 \r\nL 9.8125 71.09375 \r\nQ 15.4375 72.65625 20.34375 73.4375 \r\nQ 25.25 74.21875 29.59375 74.21875 \r\nQ 40.828125 74.21875 47.359375 69.109375 \r\nQ 53.90625 64.015625 53.90625 55.328125 \r\nQ 53.90625 49.265625 50.4375 45.09375 \r\nQ 46.96875 40.921875 40.578125 39.3125 \r\nz\r\n\" id=\"DejaVuSans-51\"/>\r\n      </defs>\r\n      <g transform=\"translate(88.840306 615.915625)rotate(-90)scale(0.1 -0.1)\">\r\n       <use xlink:href=\"#DejaVuSans-50\"/>\r\n       <use x=\"63.623047\" xlink:href=\"#DejaVuSans-48\"/>\r\n       <use x=\"127.246094\" xlink:href=\"#DejaVuSans-50\"/>\r\n       <use x=\"190.869141\" xlink:href=\"#DejaVuSans-48\"/>\r\n       <use x=\"254.492188\" xlink:href=\"#DejaVuSans-45\"/>\r\n       <use x=\"290.576172\" xlink:href=\"#DejaVuSans-48\"/>\r\n       <use x=\"354.199219\" xlink:href=\"#DejaVuSans-49\"/>\r\n       <use x=\"417.822266\" xlink:href=\"#DejaVuSans-45\"/>\r\n       <use x=\"453.90625\" xlink:href=\"#DejaVuSans-50\"/>\r\n       <use x=\"517.529297\" xlink:href=\"#DejaVuSans-51\"/>\r\n      </g>\r\n     </g>\r\n    </g>\r\n    <g id=\"xtick_3\">\r\n     <g id=\"line2d_3\">\r\n      <g>\r\n       <use style=\"stroke:#000000;stroke-width:0.8;\" x=\"95.191135\" xlink:href=\"#m792b6a5fbf\" y=\"550.8\"/>\r\n      </g>\r\n     </g>\r\n     <g id=\"text_3\">\r\n      <!-- 2020-01-24 -->\r\n      <defs>\r\n       <path d=\"M 37.796875 64.3125 \r\nL 12.890625 25.390625 \r\nL 37.796875 25.390625 \r\nz\r\nM 35.203125 72.90625 \r\nL 47.609375 72.90625 \r\nL 47.609375 25.390625 \r\nL 58.015625 25.390625 \r\nL 58.015625 17.1875 \r\nL 47.609375 17.1875 \r\nL 47.609375 0 \r\nL 37.796875 0 \r\nL 37.796875 17.1875 \r\nL 4.890625 17.1875 \r\nL 4.890625 26.703125 \r\nz\r\n\" id=\"DejaVuSans-52\"/>\r\n      </defs>\r\n      <g transform=\"translate(97.95051 615.915625)rotate(-90)scale(0.1 -0.1)\">\r\n       <use xlink:href=\"#DejaVuSans-50\"/>\r\n       <use x=\"63.623047\" xlink:href=\"#DejaVuSans-48\"/>\r\n       <use x=\"127.246094\" xlink:href=\"#DejaVuSans-50\"/>\r\n       <use x=\"190.869141\" xlink:href=\"#DejaVuSans-48\"/>\r\n       <use x=\"254.492188\" xlink:href=\"#DejaVuSans-45\"/>\r\n       <use x=\"290.576172\" xlink:href=\"#DejaVuSans-48\"/>\r\n       <use x=\"354.199219\" xlink:href=\"#DejaVuSans-49\"/>\r\n       <use x=\"417.822266\" xlink:href=\"#DejaVuSans-45\"/>\r\n       <use x=\"453.90625\" xlink:href=\"#DejaVuSans-50\"/>\r\n       <use x=\"517.529297\" xlink:href=\"#DejaVuSans-52\"/>\r\n      </g>\r\n     </g>\r\n    </g>\r\n    <g id=\"xtick_4\">\r\n     <g id=\"line2d_4\">\r\n      <g>\r\n       <use style=\"stroke:#000000;stroke-width:0.8;\" x=\"104.301339\" xlink:href=\"#m792b6a5fbf\" y=\"550.8\"/>\r\n      </g>\r\n     </g>\r\n     <g id=\"text_4\">\r\n      <!-- 2020-01-25 -->\r\n      <defs>\r\n       <path d=\"M 10.796875 72.90625 \r\nL 49.515625 72.90625 \r\nL 49.515625 64.59375 \r\nL 19.828125 64.59375 \r\nL 19.828125 46.734375 \r\nQ 21.96875 47.46875 24.109375 47.828125 \r\nQ 26.265625 48.1875 28.421875 48.1875 \r\nQ 40.625 48.1875 47.75 41.5 \r\nQ 54.890625 34.8125 54.890625 23.390625 \r\nQ 54.890625 11.625 47.5625 5.09375 \r\nQ 40.234375 -1.421875 26.90625 -1.421875 \r\nQ 22.3125 -1.421875 17.546875 -0.640625 \r\nQ 12.796875 0.140625 7.71875 1.703125 \r\nL 7.71875 11.625 \r\nQ 12.109375 9.234375 16.796875 8.0625 \r\nQ 21.484375 6.890625 26.703125 6.890625 \r\nQ 35.15625 6.890625 40.078125 11.328125 \r\nQ 45.015625 15.765625 45.015625 23.390625 \r\nQ 45.015625 31 40.078125 35.4375 \r\nQ 35.15625 39.890625 26.703125 39.890625 \r\nQ 22.75 39.890625 18.8125 39.015625 \r\nQ 14.890625 38.140625 10.796875 36.28125 \r\nz\r\n\" id=\"DejaVuSans-53\"/>\r\n      </defs>\r\n      <g transform=\"translate(107.060714 615.915625)rotate(-90)scale(0.1 -0.1)\">\r\n       <use xlink:href=\"#DejaVuSans-50\"/>\r\n       <use x=\"63.623047\" xlink:href=\"#DejaVuSans-48\"/>\r\n       <use x=\"127.246094\" xlink:href=\"#DejaVuSans-50\"/>\r\n       <use x=\"190.869141\" xlink:href=\"#DejaVuSans-48\"/>\r\n       <use x=\"254.492188\" xlink:href=\"#DejaVuSans-45\"/>\r\n       <use x=\"290.576172\" xlink:href=\"#DejaVuSans-48\"/>\r\n       <use x=\"354.199219\" xlink:href=\"#DejaVuSans-49\"/>\r\n       <use x=\"417.822266\" xlink:href=\"#DejaVuSans-45\"/>\r\n       <use x=\"453.90625\" xlink:href=\"#DejaVuSans-50\"/>\r\n       <use x=\"517.529297\" xlink:href=\"#DejaVuSans-53\"/>\r\n      </g>\r\n     </g>\r\n    </g>\r\n    <g id=\"xtick_5\">\r\n     <g id=\"line2d_5\">\r\n      <g>\r\n       <use style=\"stroke:#000000;stroke-width:0.8;\" x=\"113.411543\" xlink:href=\"#m792b6a5fbf\" y=\"550.8\"/>\r\n      </g>\r\n     </g>\r\n     <g id=\"text_5\">\r\n      <!-- 2020-01-26 -->\r\n      <defs>\r\n       <path d=\"M 33.015625 40.375 \r\nQ 26.375 40.375 22.484375 35.828125 \r\nQ 18.609375 31.296875 18.609375 23.390625 \r\nQ 18.609375 15.53125 22.484375 10.953125 \r\nQ 26.375 6.390625 33.015625 6.390625 \r\nQ 39.65625 6.390625 43.53125 10.953125 \r\nQ 47.40625 15.53125 47.40625 23.390625 \r\nQ 47.40625 31.296875 43.53125 35.828125 \r\nQ 39.65625 40.375 33.015625 40.375 \r\nz\r\nM 52.59375 71.296875 \r\nL 52.59375 62.3125 \r\nQ 48.875 64.0625 45.09375 64.984375 \r\nQ 41.3125 65.921875 37.59375 65.921875 \r\nQ 27.828125 65.921875 22.671875 59.328125 \r\nQ 17.53125 52.734375 16.796875 39.40625 \r\nQ 19.671875 43.65625 24.015625 45.921875 \r\nQ 28.375 48.1875 33.59375 48.1875 \r\nQ 44.578125 48.1875 50.953125 41.515625 \r\nQ 57.328125 34.859375 57.328125 23.390625 \r\nQ 57.328125 12.15625 50.6875 5.359375 \r\nQ 44.046875 -1.421875 33.015625 -1.421875 \r\nQ 20.359375 -1.421875 13.671875 8.265625 \r\nQ 6.984375 17.96875 6.984375 36.375 \r\nQ 6.984375 53.65625 15.1875 63.9375 \r\nQ 23.390625 74.21875 37.203125 74.21875 \r\nQ 40.921875 74.21875 44.703125 73.484375 \r\nQ 48.484375 72.75 52.59375 71.296875 \r\nz\r\n\" id=\"DejaVuSans-54\"/>\r\n      </defs>\r\n      <g transform=\"translate(116.170918 615.915625)rotate(-90)scale(0.1 -0.1)\">\r\n       <use xlink:href=\"#DejaVuSans-50\"/>\r\n       <use x=\"63.623047\" xlink:href=\"#DejaVuSans-48\"/>\r\n       <use x=\"127.246094\" xlink:href=\"#DejaVuSans-50\"/>\r\n       <use x=\"190.869141\" xlink:href=\"#DejaVuSans-48\"/>\r\n       <use x=\"254.492188\" xlink:href=\"#DejaVuSans-45\"/>\r\n       <use x=\"290.576172\" xlink:href=\"#DejaVuSans-48\"/>\r\n       <use x=\"354.199219\" xlink:href=\"#DejaVuSans-49\"/>\r\n       <use x=\"417.822266\" xlink:href=\"#DejaVuSans-45\"/>\r\n       <use x=\"453.90625\" xlink:href=\"#DejaVuSans-50\"/>\r\n       <use x=\"517.529297\" xlink:href=\"#DejaVuSans-54\"/>\r\n      </g>\r\n     </g>\r\n    </g>\r\n    <g id=\"xtick_6\">\r\n     <g id=\"line2d_6\">\r\n      <g>\r\n       <use style=\"stroke:#000000;stroke-width:0.8;\" x=\"122.521747\" xlink:href=\"#m792b6a5fbf\" y=\"550.8\"/>\r\n      </g>\r\n     </g>\r\n     <g id=\"text_6\">\r\n      <!-- 2020-01-27 -->\r\n      <defs>\r\n       <path d=\"M 8.203125 72.90625 \r\nL 55.078125 72.90625 \r\nL 55.078125 68.703125 \r\nL 28.609375 0 \r\nL 18.3125 0 \r\nL 43.21875 64.59375 \r\nL 8.203125 64.59375 \r\nz\r\n\" id=\"DejaVuSans-55\"/>\r\n      </defs>\r\n      <g transform=\"translate(125.281122 615.915625)rotate(-90)scale(0.1 -0.1)\">\r\n       <use xlink:href=\"#DejaVuSans-50\"/>\r\n       <use x=\"63.623047\" xlink:href=\"#DejaVuSans-48\"/>\r\n       <use x=\"127.246094\" xlink:href=\"#DejaVuSans-50\"/>\r\n       <use x=\"190.869141\" xlink:href=\"#DejaVuSans-48\"/>\r\n       <use x=\"254.492188\" xlink:href=\"#DejaVuSans-45\"/>\r\n       <use x=\"290.576172\" xlink:href=\"#DejaVuSans-48\"/>\r\n       <use x=\"354.199219\" xlink:href=\"#DejaVuSans-49\"/>\r\n       <use x=\"417.822266\" xlink:href=\"#DejaVuSans-45\"/>\r\n       <use x=\"453.90625\" xlink:href=\"#DejaVuSans-50\"/>\r\n       <use x=\"517.529297\" xlink:href=\"#DejaVuSans-55\"/>\r\n      </g>\r\n     </g>\r\n    </g>\r\n    <g id=\"xtick_7\">\r\n     <g id=\"line2d_7\">\r\n      <g>\r\n       <use style=\"stroke:#000000;stroke-width:0.8;\" x=\"131.631952\" xlink:href=\"#m792b6a5fbf\" y=\"550.8\"/>\r\n      </g>\r\n     </g>\r\n     <g id=\"text_7\">\r\n      <!-- 2020-01-28 -->\r\n      <defs>\r\n       <path d=\"M 31.78125 34.625 \r\nQ 24.75 34.625 20.71875 30.859375 \r\nQ 16.703125 27.09375 16.703125 20.515625 \r\nQ 16.703125 13.921875 20.71875 10.15625 \r\nQ 24.75 6.390625 31.78125 6.390625 \r\nQ 38.8125 6.390625 42.859375 10.171875 \r\nQ 46.921875 13.96875 46.921875 20.515625 \r\nQ 46.921875 27.09375 42.890625 30.859375 \r\nQ 38.875 34.625 31.78125 34.625 \r\nz\r\nM 21.921875 38.8125 \r\nQ 15.578125 40.375 12.03125 44.71875 \r\nQ 8.5 49.078125 8.5 55.328125 \r\nQ 8.5 64.0625 14.71875 69.140625 \r\nQ 20.953125 74.21875 31.78125 74.21875 \r\nQ 42.671875 74.21875 48.875 69.140625 \r\nQ 55.078125 64.0625 55.078125 55.328125 \r\nQ 55.078125 49.078125 51.53125 44.71875 \r\nQ 48 40.375 41.703125 38.8125 \r\nQ 48.828125 37.15625 52.796875 32.3125 \r\nQ 56.78125 27.484375 56.78125 20.515625 \r\nQ 56.78125 9.90625 50.3125 4.234375 \r\nQ 43.84375 -1.421875 31.78125 -1.421875 \r\nQ 19.734375 -1.421875 13.25 4.234375 \r\nQ 6.78125 9.90625 6.78125 20.515625 \r\nQ 6.78125 27.484375 10.78125 32.3125 \r\nQ 14.796875 37.15625 21.921875 38.8125 \r\nz\r\nM 18.3125 54.390625 \r\nQ 18.3125 48.734375 21.84375 45.5625 \r\nQ 25.390625 42.390625 31.78125 42.390625 \r\nQ 38.140625 42.390625 41.71875 45.5625 \r\nQ 45.3125 48.734375 45.3125 54.390625 \r\nQ 45.3125 60.0625 41.71875 63.234375 \r\nQ 38.140625 66.40625 31.78125 66.40625 \r\nQ 25.390625 66.40625 21.84375 63.234375 \r\nQ 18.3125 60.0625 18.3125 54.390625 \r\nz\r\n\" id=\"DejaVuSans-56\"/>\r\n      </defs>\r\n      <g transform=\"translate(134.391327 615.915625)rotate(-90)scale(0.1 -0.1)\">\r\n       <use xlink:href=\"#DejaVuSans-50\"/>\r\n       <use x=\"63.623047\" xlink:href=\"#DejaVuSans-48\"/>\r\n       <use x=\"127.246094\" xlink:href=\"#DejaVuSans-50\"/>\r\n       <use x=\"190.869141\" xlink:href=\"#DejaVuSans-48\"/>\r\n       <use x=\"254.492188\" xlink:href=\"#DejaVuSans-45\"/>\r\n       <use x=\"290.576172\" xlink:href=\"#DejaVuSans-48\"/>\r\n       <use x=\"354.199219\" xlink:href=\"#DejaVuSans-49\"/>\r\n       <use x=\"417.822266\" xlink:href=\"#DejaVuSans-45\"/>\r\n       <use x=\"453.90625\" xlink:href=\"#DejaVuSans-50\"/>\r\n       <use x=\"517.529297\" xlink:href=\"#DejaVuSans-56\"/>\r\n      </g>\r\n     </g>\r\n    </g>\r\n    <g id=\"xtick_8\">\r\n     <g id=\"line2d_8\">\r\n      <g>\r\n       <use style=\"stroke:#000000;stroke-width:0.8;\" x=\"140.742156\" xlink:href=\"#m792b6a5fbf\" y=\"550.8\"/>\r\n      </g>\r\n     </g>\r\n     <g id=\"text_8\">\r\n      <!-- 2020-01-29 -->\r\n      <defs>\r\n       <path d=\"M 10.984375 1.515625 \r\nL 10.984375 10.5 \r\nQ 14.703125 8.734375 18.5 7.8125 \r\nQ 22.3125 6.890625 25.984375 6.890625 \r\nQ 35.75 6.890625 40.890625 13.453125 \r\nQ 46.046875 20.015625 46.78125 33.40625 \r\nQ 43.953125 29.203125 39.59375 26.953125 \r\nQ 35.25 24.703125 29.984375 24.703125 \r\nQ 19.046875 24.703125 12.671875 31.3125 \r\nQ 6.296875 37.9375 6.296875 49.421875 \r\nQ 6.296875 60.640625 12.9375 67.421875 \r\nQ 19.578125 74.21875 30.609375 74.21875 \r\nQ 43.265625 74.21875 49.921875 64.515625 \r\nQ 56.59375 54.828125 56.59375 36.375 \r\nQ 56.59375 19.140625 48.40625 8.859375 \r\nQ 40.234375 -1.421875 26.421875 -1.421875 \r\nQ 22.703125 -1.421875 18.890625 -0.6875 \r\nQ 15.09375 0.046875 10.984375 1.515625 \r\nz\r\nM 30.609375 32.421875 \r\nQ 37.25 32.421875 41.125 36.953125 \r\nQ 45.015625 41.5 45.015625 49.421875 \r\nQ 45.015625 57.28125 41.125 61.84375 \r\nQ 37.25 66.40625 30.609375 66.40625 \r\nQ 23.96875 66.40625 20.09375 61.84375 \r\nQ 16.21875 57.28125 16.21875 49.421875 \r\nQ 16.21875 41.5 20.09375 36.953125 \r\nQ 23.96875 32.421875 30.609375 32.421875 \r\nz\r\n\" id=\"DejaVuSans-57\"/>\r\n      </defs>\r\n      <g transform=\"translate(143.501531 615.915625)rotate(-90)scale(0.1 -0.1)\">\r\n       <use xlink:href=\"#DejaVuSans-50\"/>\r\n       <use x=\"63.623047\" xlink:href=\"#DejaVuSans-48\"/>\r\n       <use x=\"127.246094\" xlink:href=\"#DejaVuSans-50\"/>\r\n       <use x=\"190.869141\" xlink:href=\"#DejaVuSans-48\"/>\r\n       <use x=\"254.492188\" xlink:href=\"#DejaVuSans-45\"/>\r\n       <use x=\"290.576172\" xlink:href=\"#DejaVuSans-48\"/>\r\n       <use x=\"354.199219\" xlink:href=\"#DejaVuSans-49\"/>\r\n       <use x=\"417.822266\" xlink:href=\"#DejaVuSans-45\"/>\r\n       <use x=\"453.90625\" xlink:href=\"#DejaVuSans-50\"/>\r\n       <use x=\"517.529297\" xlink:href=\"#DejaVuSans-57\"/>\r\n      </g>\r\n     </g>\r\n    </g>\r\n    <g id=\"xtick_9\">\r\n     <g id=\"line2d_9\">\r\n      <g>\r\n       <use style=\"stroke:#000000;stroke-width:0.8;\" x=\"149.85236\" xlink:href=\"#m792b6a5fbf\" y=\"550.8\"/>\r\n      </g>\r\n     </g>\r\n     <g id=\"text_9\">\r\n      <!-- 2020-01-30 -->\r\n      <g transform=\"translate(152.611735 615.915625)rotate(-90)scale(0.1 -0.1)\">\r\n       <use xlink:href=\"#DejaVuSans-50\"/>\r\n       <use x=\"63.623047\" xlink:href=\"#DejaVuSans-48\"/>\r\n       <use x=\"127.246094\" xlink:href=\"#DejaVuSans-50\"/>\r\n       <use x=\"190.869141\" xlink:href=\"#DejaVuSans-48\"/>\r\n       <use x=\"254.492188\" xlink:href=\"#DejaVuSans-45\"/>\r\n       <use x=\"290.576172\" xlink:href=\"#DejaVuSans-48\"/>\r\n       <use x=\"354.199219\" xlink:href=\"#DejaVuSans-49\"/>\r\n       <use x=\"417.822266\" xlink:href=\"#DejaVuSans-45\"/>\r\n       <use x=\"453.90625\" xlink:href=\"#DejaVuSans-51\"/>\r\n       <use x=\"517.529297\" xlink:href=\"#DejaVuSans-48\"/>\r\n      </g>\r\n     </g>\r\n    </g>\r\n    <g id=\"xtick_10\">\r\n     <g id=\"line2d_10\">\r\n      <g>\r\n       <use style=\"stroke:#000000;stroke-width:0.8;\" x=\"158.962564\" xlink:href=\"#m792b6a5fbf\" y=\"550.8\"/>\r\n      </g>\r\n     </g>\r\n     <g id=\"text_10\">\r\n      <!-- 2020-01-31 -->\r\n      <g transform=\"translate(161.721939 615.915625)rotate(-90)scale(0.1 -0.1)\">\r\n       <use xlink:href=\"#DejaVuSans-50\"/>\r\n       <use x=\"63.623047\" xlink:href=\"#DejaVuSans-48\"/>\r\n       <use x=\"127.246094\" xlink:href=\"#DejaVuSans-50\"/>\r\n       <use x=\"190.869141\" xlink:href=\"#DejaVuSans-48\"/>\r\n       <use x=\"254.492188\" xlink:href=\"#DejaVuSans-45\"/>\r\n       <use x=\"290.576172\" xlink:href=\"#DejaVuSans-48\"/>\r\n       <use x=\"354.199219\" xlink:href=\"#DejaVuSans-49\"/>\r\n       <use x=\"417.822266\" xlink:href=\"#DejaVuSans-45\"/>\r\n       <use x=\"453.90625\" xlink:href=\"#DejaVuSans-51\"/>\r\n       <use x=\"517.529297\" xlink:href=\"#DejaVuSans-49\"/>\r\n      </g>\r\n     </g>\r\n    </g>\r\n    <g id=\"xtick_11\">\r\n     <g id=\"line2d_11\">\r\n      <g>\r\n       <use style=\"stroke:#000000;stroke-width:0.8;\" x=\"168.072768\" xlink:href=\"#m792b6a5fbf\" y=\"550.8\"/>\r\n      </g>\r\n     </g>\r\n     <g id=\"text_11\">\r\n      <!-- 2020-02-01 -->\r\n      <g transform=\"translate(170.832143 615.915625)rotate(-90)scale(0.1 -0.1)\">\r\n       <use xlink:href=\"#DejaVuSans-50\"/>\r\n       <use x=\"63.623047\" xlink:href=\"#DejaVuSans-48\"/>\r\n       <use x=\"127.246094\" xlink:href=\"#DejaVuSans-50\"/>\r\n       <use x=\"190.869141\" xlink:href=\"#DejaVuSans-48\"/>\r\n       <use x=\"254.492188\" xlink:href=\"#DejaVuSans-45\"/>\r\n       <use x=\"290.576172\" xlink:href=\"#DejaVuSans-48\"/>\r\n       <use x=\"354.199219\" xlink:href=\"#DejaVuSans-50\"/>\r\n       <use x=\"417.822266\" xlink:href=\"#DejaVuSans-45\"/>\r\n       <use x=\"453.90625\" xlink:href=\"#DejaVuSans-48\"/>\r\n       <use x=\"517.529297\" xlink:href=\"#DejaVuSans-49\"/>\r\n      </g>\r\n     </g>\r\n    </g>\r\n    <g id=\"xtick_12\">\r\n     <g id=\"line2d_12\">\r\n      <g>\r\n       <use style=\"stroke:#000000;stroke-width:0.8;\" x=\"177.182972\" xlink:href=\"#m792b6a5fbf\" y=\"550.8\"/>\r\n      </g>\r\n     </g>\r\n     <g id=\"text_12\">\r\n      <!-- 2020-02-02 -->\r\n      <g transform=\"translate(179.942347 615.915625)rotate(-90)scale(0.1 -0.1)\">\r\n       <use xlink:href=\"#DejaVuSans-50\"/>\r\n       <use x=\"63.623047\" xlink:href=\"#DejaVuSans-48\"/>\r\n       <use x=\"127.246094\" xlink:href=\"#DejaVuSans-50\"/>\r\n       <use x=\"190.869141\" xlink:href=\"#DejaVuSans-48\"/>\r\n       <use x=\"254.492188\" xlink:href=\"#DejaVuSans-45\"/>\r\n       <use x=\"290.576172\" xlink:href=\"#DejaVuSans-48\"/>\r\n       <use x=\"354.199219\" xlink:href=\"#DejaVuSans-50\"/>\r\n       <use x=\"417.822266\" xlink:href=\"#DejaVuSans-45\"/>\r\n       <use x=\"453.90625\" xlink:href=\"#DejaVuSans-48\"/>\r\n       <use x=\"517.529297\" xlink:href=\"#DejaVuSans-50\"/>\r\n      </g>\r\n     </g>\r\n    </g>\r\n    <g id=\"xtick_13\">\r\n     <g id=\"line2d_13\">\r\n      <g>\r\n       <use style=\"stroke:#000000;stroke-width:0.8;\" x=\"186.293176\" xlink:href=\"#m792b6a5fbf\" y=\"550.8\"/>\r\n      </g>\r\n     </g>\r\n     <g id=\"text_13\">\r\n      <!-- 2020-02-03 -->\r\n      <g transform=\"translate(189.052551 615.915625)rotate(-90)scale(0.1 -0.1)\">\r\n       <use xlink:href=\"#DejaVuSans-50\"/>\r\n       <use x=\"63.623047\" xlink:href=\"#DejaVuSans-48\"/>\r\n       <use x=\"127.246094\" xlink:href=\"#DejaVuSans-50\"/>\r\n       <use x=\"190.869141\" xlink:href=\"#DejaVuSans-48\"/>\r\n       <use x=\"254.492188\" xlink:href=\"#DejaVuSans-45\"/>\r\n       <use x=\"290.576172\" xlink:href=\"#DejaVuSans-48\"/>\r\n       <use x=\"354.199219\" xlink:href=\"#DejaVuSans-50\"/>\r\n       <use x=\"417.822266\" xlink:href=\"#DejaVuSans-45\"/>\r\n       <use x=\"453.90625\" xlink:href=\"#DejaVuSans-48\"/>\r\n       <use x=\"517.529297\" xlink:href=\"#DejaVuSans-51\"/>\r\n      </g>\r\n     </g>\r\n    </g>\r\n    <g id=\"xtick_14\">\r\n     <g id=\"line2d_14\">\r\n      <g>\r\n       <use style=\"stroke:#000000;stroke-width:0.8;\" x=\"195.40338\" xlink:href=\"#m792b6a5fbf\" y=\"550.8\"/>\r\n      </g>\r\n     </g>\r\n     <g id=\"text_14\">\r\n      <!-- 2020-02-04 -->\r\n      <g transform=\"translate(198.162755 615.915625)rotate(-90)scale(0.1 -0.1)\">\r\n       <use xlink:href=\"#DejaVuSans-50\"/>\r\n       <use x=\"63.623047\" xlink:href=\"#DejaVuSans-48\"/>\r\n       <use x=\"127.246094\" xlink:href=\"#DejaVuSans-50\"/>\r\n       <use x=\"190.869141\" xlink:href=\"#DejaVuSans-48\"/>\r\n       <use x=\"254.492188\" xlink:href=\"#DejaVuSans-45\"/>\r\n       <use x=\"290.576172\" xlink:href=\"#DejaVuSans-48\"/>\r\n       <use x=\"354.199219\" xlink:href=\"#DejaVuSans-50\"/>\r\n       <use x=\"417.822266\" xlink:href=\"#DejaVuSans-45\"/>\r\n       <use x=\"453.90625\" xlink:href=\"#DejaVuSans-48\"/>\r\n       <use x=\"517.529297\" xlink:href=\"#DejaVuSans-52\"/>\r\n      </g>\r\n     </g>\r\n    </g>\r\n    <g id=\"xtick_15\">\r\n     <g id=\"line2d_15\">\r\n      <g>\r\n       <use style=\"stroke:#000000;stroke-width:0.8;\" x=\"204.513584\" xlink:href=\"#m792b6a5fbf\" y=\"550.8\"/>\r\n      </g>\r\n     </g>\r\n     <g id=\"text_15\">\r\n      <!-- 2020-02-05 -->\r\n      <g transform=\"translate(207.272959 615.915625)rotate(-90)scale(0.1 -0.1)\">\r\n       <use xlink:href=\"#DejaVuSans-50\"/>\r\n       <use x=\"63.623047\" xlink:href=\"#DejaVuSans-48\"/>\r\n       <use x=\"127.246094\" xlink:href=\"#DejaVuSans-50\"/>\r\n       <use x=\"190.869141\" xlink:href=\"#DejaVuSans-48\"/>\r\n       <use x=\"254.492188\" xlink:href=\"#DejaVuSans-45\"/>\r\n       <use x=\"290.576172\" xlink:href=\"#DejaVuSans-48\"/>\r\n       <use x=\"354.199219\" xlink:href=\"#DejaVuSans-50\"/>\r\n       <use x=\"417.822266\" xlink:href=\"#DejaVuSans-45\"/>\r\n       <use x=\"453.90625\" xlink:href=\"#DejaVuSans-48\"/>\r\n       <use x=\"517.529297\" xlink:href=\"#DejaVuSans-53\"/>\r\n      </g>\r\n     </g>\r\n    </g>\r\n    <g id=\"xtick_16\">\r\n     <g id=\"line2d_16\">\r\n      <g>\r\n       <use style=\"stroke:#000000;stroke-width:0.8;\" x=\"213.623788\" xlink:href=\"#m792b6a5fbf\" y=\"550.8\"/>\r\n      </g>\r\n     </g>\r\n     <g id=\"text_16\">\r\n      <!-- 2020-02-06 -->\r\n      <g transform=\"translate(216.383163 615.915625)rotate(-90)scale(0.1 -0.1)\">\r\n       <use xlink:href=\"#DejaVuSans-50\"/>\r\n       <use x=\"63.623047\" xlink:href=\"#DejaVuSans-48\"/>\r\n       <use x=\"127.246094\" xlink:href=\"#DejaVuSans-50\"/>\r\n       <use x=\"190.869141\" xlink:href=\"#DejaVuSans-48\"/>\r\n       <use x=\"254.492188\" xlink:href=\"#DejaVuSans-45\"/>\r\n       <use x=\"290.576172\" xlink:href=\"#DejaVuSans-48\"/>\r\n       <use x=\"354.199219\" xlink:href=\"#DejaVuSans-50\"/>\r\n       <use x=\"417.822266\" xlink:href=\"#DejaVuSans-45\"/>\r\n       <use x=\"453.90625\" xlink:href=\"#DejaVuSans-48\"/>\r\n       <use x=\"517.529297\" xlink:href=\"#DejaVuSans-54\"/>\r\n      </g>\r\n     </g>\r\n    </g>\r\n    <g id=\"xtick_17\">\r\n     <g id=\"line2d_17\">\r\n      <g>\r\n       <use style=\"stroke:#000000;stroke-width:0.8;\" x=\"222.733992\" xlink:href=\"#m792b6a5fbf\" y=\"550.8\"/>\r\n      </g>\r\n     </g>\r\n     <g id=\"text_17\">\r\n      <!-- 2020-02-07 -->\r\n      <g transform=\"translate(225.493367 615.915625)rotate(-90)scale(0.1 -0.1)\">\r\n       <use xlink:href=\"#DejaVuSans-50\"/>\r\n       <use x=\"63.623047\" xlink:href=\"#DejaVuSans-48\"/>\r\n       <use x=\"127.246094\" xlink:href=\"#DejaVuSans-50\"/>\r\n       <use x=\"190.869141\" xlink:href=\"#DejaVuSans-48\"/>\r\n       <use x=\"254.492188\" xlink:href=\"#DejaVuSans-45\"/>\r\n       <use x=\"290.576172\" xlink:href=\"#DejaVuSans-48\"/>\r\n       <use x=\"354.199219\" xlink:href=\"#DejaVuSans-50\"/>\r\n       <use x=\"417.822266\" xlink:href=\"#DejaVuSans-45\"/>\r\n       <use x=\"453.90625\" xlink:href=\"#DejaVuSans-48\"/>\r\n       <use x=\"517.529297\" xlink:href=\"#DejaVuSans-55\"/>\r\n      </g>\r\n     </g>\r\n    </g>\r\n    <g id=\"xtick_18\">\r\n     <g id=\"line2d_18\">\r\n      <g>\r\n       <use style=\"stroke:#000000;stroke-width:0.8;\" x=\"231.844196\" xlink:href=\"#m792b6a5fbf\" y=\"550.8\"/>\r\n      </g>\r\n     </g>\r\n     <g id=\"text_18\">\r\n      <!-- 2020-02-08 -->\r\n      <g transform=\"translate(234.603571 615.915625)rotate(-90)scale(0.1 -0.1)\">\r\n       <use xlink:href=\"#DejaVuSans-50\"/>\r\n       <use x=\"63.623047\" xlink:href=\"#DejaVuSans-48\"/>\r\n       <use x=\"127.246094\" xlink:href=\"#DejaVuSans-50\"/>\r\n       <use x=\"190.869141\" xlink:href=\"#DejaVuSans-48\"/>\r\n       <use x=\"254.492188\" xlink:href=\"#DejaVuSans-45\"/>\r\n       <use x=\"290.576172\" xlink:href=\"#DejaVuSans-48\"/>\r\n       <use x=\"354.199219\" xlink:href=\"#DejaVuSans-50\"/>\r\n       <use x=\"417.822266\" xlink:href=\"#DejaVuSans-45\"/>\r\n       <use x=\"453.90625\" xlink:href=\"#DejaVuSans-48\"/>\r\n       <use x=\"517.529297\" xlink:href=\"#DejaVuSans-56\"/>\r\n      </g>\r\n     </g>\r\n    </g>\r\n    <g id=\"xtick_19\">\r\n     <g id=\"line2d_19\">\r\n      <g>\r\n       <use style=\"stroke:#000000;stroke-width:0.8;\" x=\"240.954401\" xlink:href=\"#m792b6a5fbf\" y=\"550.8\"/>\r\n      </g>\r\n     </g>\r\n     <g id=\"text_19\">\r\n      <!-- 2020-02-09 -->\r\n      <g transform=\"translate(243.713776 615.915625)rotate(-90)scale(0.1 -0.1)\">\r\n       <use xlink:href=\"#DejaVuSans-50\"/>\r\n       <use x=\"63.623047\" xlink:href=\"#DejaVuSans-48\"/>\r\n       <use x=\"127.246094\" xlink:href=\"#DejaVuSans-50\"/>\r\n       <use x=\"190.869141\" xlink:href=\"#DejaVuSans-48\"/>\r\n       <use x=\"254.492188\" xlink:href=\"#DejaVuSans-45\"/>\r\n       <use x=\"290.576172\" xlink:href=\"#DejaVuSans-48\"/>\r\n       <use x=\"354.199219\" xlink:href=\"#DejaVuSans-50\"/>\r\n       <use x=\"417.822266\" xlink:href=\"#DejaVuSans-45\"/>\r\n       <use x=\"453.90625\" xlink:href=\"#DejaVuSans-48\"/>\r\n       <use x=\"517.529297\" xlink:href=\"#DejaVuSans-57\"/>\r\n      </g>\r\n     </g>\r\n    </g>\r\n    <g id=\"xtick_20\">\r\n     <g id=\"line2d_20\">\r\n      <g>\r\n       <use style=\"stroke:#000000;stroke-width:0.8;\" x=\"250.064605\" xlink:href=\"#m792b6a5fbf\" y=\"550.8\"/>\r\n      </g>\r\n     </g>\r\n     <g id=\"text_20\">\r\n      <!-- 2020-02-10 -->\r\n      <g transform=\"translate(252.82398 615.915625)rotate(-90)scale(0.1 -0.1)\">\r\n       <use xlink:href=\"#DejaVuSans-50\"/>\r\n       <use x=\"63.623047\" xlink:href=\"#DejaVuSans-48\"/>\r\n       <use x=\"127.246094\" xlink:href=\"#DejaVuSans-50\"/>\r\n       <use x=\"190.869141\" xlink:href=\"#DejaVuSans-48\"/>\r\n       <use x=\"254.492188\" xlink:href=\"#DejaVuSans-45\"/>\r\n       <use x=\"290.576172\" xlink:href=\"#DejaVuSans-48\"/>\r\n       <use x=\"354.199219\" xlink:href=\"#DejaVuSans-50\"/>\r\n       <use x=\"417.822266\" xlink:href=\"#DejaVuSans-45\"/>\r\n       <use x=\"453.90625\" xlink:href=\"#DejaVuSans-49\"/>\r\n       <use x=\"517.529297\" xlink:href=\"#DejaVuSans-48\"/>\r\n      </g>\r\n     </g>\r\n    </g>\r\n    <g id=\"xtick_21\">\r\n     <g id=\"line2d_21\">\r\n      <g>\r\n       <use style=\"stroke:#000000;stroke-width:0.8;\" x=\"259.174809\" xlink:href=\"#m792b6a5fbf\" y=\"550.8\"/>\r\n      </g>\r\n     </g>\r\n     <g id=\"text_21\">\r\n      <!-- 2020-02-11 -->\r\n      <g transform=\"translate(261.934184 615.915625)rotate(-90)scale(0.1 -0.1)\">\r\n       <use xlink:href=\"#DejaVuSans-50\"/>\r\n       <use x=\"63.623047\" xlink:href=\"#DejaVuSans-48\"/>\r\n       <use x=\"127.246094\" xlink:href=\"#DejaVuSans-50\"/>\r\n       <use x=\"190.869141\" xlink:href=\"#DejaVuSans-48\"/>\r\n       <use x=\"254.492188\" xlink:href=\"#DejaVuSans-45\"/>\r\n       <use x=\"290.576172\" xlink:href=\"#DejaVuSans-48\"/>\r\n       <use x=\"354.199219\" xlink:href=\"#DejaVuSans-50\"/>\r\n       <use x=\"417.822266\" xlink:href=\"#DejaVuSans-45\"/>\r\n       <use x=\"453.90625\" xlink:href=\"#DejaVuSans-49\"/>\r\n       <use x=\"517.529297\" xlink:href=\"#DejaVuSans-49\"/>\r\n      </g>\r\n     </g>\r\n    </g>\r\n    <g id=\"xtick_22\">\r\n     <g id=\"line2d_22\">\r\n      <g>\r\n       <use style=\"stroke:#000000;stroke-width:0.8;\" x=\"268.285013\" xlink:href=\"#m792b6a5fbf\" y=\"550.8\"/>\r\n      </g>\r\n     </g>\r\n     <g id=\"text_22\">\r\n      <!-- 2020-02-12 -->\r\n      <g transform=\"translate(271.044388 615.915625)rotate(-90)scale(0.1 -0.1)\">\r\n       <use xlink:href=\"#DejaVuSans-50\"/>\r\n       <use x=\"63.623047\" xlink:href=\"#DejaVuSans-48\"/>\r\n       <use x=\"127.246094\" xlink:href=\"#DejaVuSans-50\"/>\r\n       <use x=\"190.869141\" xlink:href=\"#DejaVuSans-48\"/>\r\n       <use x=\"254.492188\" xlink:href=\"#DejaVuSans-45\"/>\r\n       <use x=\"290.576172\" xlink:href=\"#DejaVuSans-48\"/>\r\n       <use x=\"354.199219\" xlink:href=\"#DejaVuSans-50\"/>\r\n       <use x=\"417.822266\" xlink:href=\"#DejaVuSans-45\"/>\r\n       <use x=\"453.90625\" xlink:href=\"#DejaVuSans-49\"/>\r\n       <use x=\"517.529297\" xlink:href=\"#DejaVuSans-50\"/>\r\n      </g>\r\n     </g>\r\n    </g>\r\n    <g id=\"xtick_23\">\r\n     <g id=\"line2d_23\">\r\n      <g>\r\n       <use style=\"stroke:#000000;stroke-width:0.8;\" x=\"277.395217\" xlink:href=\"#m792b6a5fbf\" y=\"550.8\"/>\r\n      </g>\r\n     </g>\r\n     <g id=\"text_23\">\r\n      <!-- 2020-02-13 -->\r\n      <g transform=\"translate(280.154592 615.915625)rotate(-90)scale(0.1 -0.1)\">\r\n       <use xlink:href=\"#DejaVuSans-50\"/>\r\n       <use x=\"63.623047\" xlink:href=\"#DejaVuSans-48\"/>\r\n       <use x=\"127.246094\" xlink:href=\"#DejaVuSans-50\"/>\r\n       <use x=\"190.869141\" xlink:href=\"#DejaVuSans-48\"/>\r\n       <use x=\"254.492188\" xlink:href=\"#DejaVuSans-45\"/>\r\n       <use x=\"290.576172\" xlink:href=\"#DejaVuSans-48\"/>\r\n       <use x=\"354.199219\" xlink:href=\"#DejaVuSans-50\"/>\r\n       <use x=\"417.822266\" xlink:href=\"#DejaVuSans-45\"/>\r\n       <use x=\"453.90625\" xlink:href=\"#DejaVuSans-49\"/>\r\n       <use x=\"517.529297\" xlink:href=\"#DejaVuSans-51\"/>\r\n      </g>\r\n     </g>\r\n    </g>\r\n    <g id=\"xtick_24\">\r\n     <g id=\"line2d_24\">\r\n      <g>\r\n       <use style=\"stroke:#000000;stroke-width:0.8;\" x=\"286.505421\" xlink:href=\"#m792b6a5fbf\" y=\"550.8\"/>\r\n      </g>\r\n     </g>\r\n     <g id=\"text_24\">\r\n      <!-- 2020-02-14 -->\r\n      <g transform=\"translate(289.264796 615.915625)rotate(-90)scale(0.1 -0.1)\">\r\n       <use xlink:href=\"#DejaVuSans-50\"/>\r\n       <use x=\"63.623047\" xlink:href=\"#DejaVuSans-48\"/>\r\n       <use x=\"127.246094\" xlink:href=\"#DejaVuSans-50\"/>\r\n       <use x=\"190.869141\" xlink:href=\"#DejaVuSans-48\"/>\r\n       <use x=\"254.492188\" xlink:href=\"#DejaVuSans-45\"/>\r\n       <use x=\"290.576172\" xlink:href=\"#DejaVuSans-48\"/>\r\n       <use x=\"354.199219\" xlink:href=\"#DejaVuSans-50\"/>\r\n       <use x=\"417.822266\" xlink:href=\"#DejaVuSans-45\"/>\r\n       <use x=\"453.90625\" xlink:href=\"#DejaVuSans-49\"/>\r\n       <use x=\"517.529297\" xlink:href=\"#DejaVuSans-52\"/>\r\n      </g>\r\n     </g>\r\n    </g>\r\n    <g id=\"xtick_25\">\r\n     <g id=\"line2d_25\">\r\n      <g>\r\n       <use style=\"stroke:#000000;stroke-width:0.8;\" x=\"295.615625\" xlink:href=\"#m792b6a5fbf\" y=\"550.8\"/>\r\n      </g>\r\n     </g>\r\n     <g id=\"text_25\">\r\n      <!-- 2020-02-15 -->\r\n      <g transform=\"translate(298.375 615.915625)rotate(-90)scale(0.1 -0.1)\">\r\n       <use xlink:href=\"#DejaVuSans-50\"/>\r\n       <use x=\"63.623047\" xlink:href=\"#DejaVuSans-48\"/>\r\n       <use x=\"127.246094\" xlink:href=\"#DejaVuSans-50\"/>\r\n       <use x=\"190.869141\" xlink:href=\"#DejaVuSans-48\"/>\r\n       <use x=\"254.492188\" xlink:href=\"#DejaVuSans-45\"/>\r\n       <use x=\"290.576172\" xlink:href=\"#DejaVuSans-48\"/>\r\n       <use x=\"354.199219\" xlink:href=\"#DejaVuSans-50\"/>\r\n       <use x=\"417.822266\" xlink:href=\"#DejaVuSans-45\"/>\r\n       <use x=\"453.90625\" xlink:href=\"#DejaVuSans-49\"/>\r\n       <use x=\"517.529297\" xlink:href=\"#DejaVuSans-53\"/>\r\n      </g>\r\n     </g>\r\n    </g>\r\n    <g id=\"xtick_26\">\r\n     <g id=\"line2d_26\">\r\n      <g>\r\n       <use style=\"stroke:#000000;stroke-width:0.8;\" x=\"304.725829\" xlink:href=\"#m792b6a5fbf\" y=\"550.8\"/>\r\n      </g>\r\n     </g>\r\n     <g id=\"text_26\">\r\n      <!-- 2020-02-16 -->\r\n      <g transform=\"translate(307.485204 615.915625)rotate(-90)scale(0.1 -0.1)\">\r\n       <use xlink:href=\"#DejaVuSans-50\"/>\r\n       <use x=\"63.623047\" xlink:href=\"#DejaVuSans-48\"/>\r\n       <use x=\"127.246094\" xlink:href=\"#DejaVuSans-50\"/>\r\n       <use x=\"190.869141\" xlink:href=\"#DejaVuSans-48\"/>\r\n       <use x=\"254.492188\" xlink:href=\"#DejaVuSans-45\"/>\r\n       <use x=\"290.576172\" xlink:href=\"#DejaVuSans-48\"/>\r\n       <use x=\"354.199219\" xlink:href=\"#DejaVuSans-50\"/>\r\n       <use x=\"417.822266\" xlink:href=\"#DejaVuSans-45\"/>\r\n       <use x=\"453.90625\" xlink:href=\"#DejaVuSans-49\"/>\r\n       <use x=\"517.529297\" xlink:href=\"#DejaVuSans-54\"/>\r\n      </g>\r\n     </g>\r\n    </g>\r\n    <g id=\"xtick_27\">\r\n     <g id=\"line2d_27\">\r\n      <g>\r\n       <use style=\"stroke:#000000;stroke-width:0.8;\" x=\"313.836033\" xlink:href=\"#m792b6a5fbf\" y=\"550.8\"/>\r\n      </g>\r\n     </g>\r\n     <g id=\"text_27\">\r\n      <!-- 2020-02-17 -->\r\n      <g transform=\"translate(316.595408 615.915625)rotate(-90)scale(0.1 -0.1)\">\r\n       <use xlink:href=\"#DejaVuSans-50\"/>\r\n       <use x=\"63.623047\" xlink:href=\"#DejaVuSans-48\"/>\r\n       <use x=\"127.246094\" xlink:href=\"#DejaVuSans-50\"/>\r\n       <use x=\"190.869141\" xlink:href=\"#DejaVuSans-48\"/>\r\n       <use x=\"254.492188\" xlink:href=\"#DejaVuSans-45\"/>\r\n       <use x=\"290.576172\" xlink:href=\"#DejaVuSans-48\"/>\r\n       <use x=\"354.199219\" xlink:href=\"#DejaVuSans-50\"/>\r\n       <use x=\"417.822266\" xlink:href=\"#DejaVuSans-45\"/>\r\n       <use x=\"453.90625\" xlink:href=\"#DejaVuSans-49\"/>\r\n       <use x=\"517.529297\" xlink:href=\"#DejaVuSans-55\"/>\r\n      </g>\r\n     </g>\r\n    </g>\r\n    <g id=\"xtick_28\">\r\n     <g id=\"line2d_28\">\r\n      <g>\r\n       <use style=\"stroke:#000000;stroke-width:0.8;\" x=\"322.946237\" xlink:href=\"#m792b6a5fbf\" y=\"550.8\"/>\r\n      </g>\r\n     </g>\r\n     <g id=\"text_28\">\r\n      <!-- 2020-02-18 -->\r\n      <g transform=\"translate(325.705612 615.915625)rotate(-90)scale(0.1 -0.1)\">\r\n       <use xlink:href=\"#DejaVuSans-50\"/>\r\n       <use x=\"63.623047\" xlink:href=\"#DejaVuSans-48\"/>\r\n       <use x=\"127.246094\" xlink:href=\"#DejaVuSans-50\"/>\r\n       <use x=\"190.869141\" xlink:href=\"#DejaVuSans-48\"/>\r\n       <use x=\"254.492188\" xlink:href=\"#DejaVuSans-45\"/>\r\n       <use x=\"290.576172\" xlink:href=\"#DejaVuSans-48\"/>\r\n       <use x=\"354.199219\" xlink:href=\"#DejaVuSans-50\"/>\r\n       <use x=\"417.822266\" xlink:href=\"#DejaVuSans-45\"/>\r\n       <use x=\"453.90625\" xlink:href=\"#DejaVuSans-49\"/>\r\n       <use x=\"517.529297\" xlink:href=\"#DejaVuSans-56\"/>\r\n      </g>\r\n     </g>\r\n    </g>\r\n    <g id=\"xtick_29\">\r\n     <g id=\"line2d_29\">\r\n      <g>\r\n       <use style=\"stroke:#000000;stroke-width:0.8;\" x=\"332.056441\" xlink:href=\"#m792b6a5fbf\" y=\"550.8\"/>\r\n      </g>\r\n     </g>\r\n     <g id=\"text_29\">\r\n      <!-- 2020-02-19 -->\r\n      <g transform=\"translate(334.815816 615.915625)rotate(-90)scale(0.1 -0.1)\">\r\n       <use xlink:href=\"#DejaVuSans-50\"/>\r\n       <use x=\"63.623047\" xlink:href=\"#DejaVuSans-48\"/>\r\n       <use x=\"127.246094\" xlink:href=\"#DejaVuSans-50\"/>\r\n       <use x=\"190.869141\" xlink:href=\"#DejaVuSans-48\"/>\r\n       <use x=\"254.492188\" xlink:href=\"#DejaVuSans-45\"/>\r\n       <use x=\"290.576172\" xlink:href=\"#DejaVuSans-48\"/>\r\n       <use x=\"354.199219\" xlink:href=\"#DejaVuSans-50\"/>\r\n       <use x=\"417.822266\" xlink:href=\"#DejaVuSans-45\"/>\r\n       <use x=\"453.90625\" xlink:href=\"#DejaVuSans-49\"/>\r\n       <use x=\"517.529297\" xlink:href=\"#DejaVuSans-57\"/>\r\n      </g>\r\n     </g>\r\n    </g>\r\n    <g id=\"xtick_30\">\r\n     <g id=\"line2d_30\">\r\n      <g>\r\n       <use style=\"stroke:#000000;stroke-width:0.8;\" x=\"341.166645\" xlink:href=\"#m792b6a5fbf\" y=\"550.8\"/>\r\n      </g>\r\n     </g>\r\n     <g id=\"text_30\">\r\n      <!-- 2020-02-20 -->\r\n      <g transform=\"translate(343.92602 615.915625)rotate(-90)scale(0.1 -0.1)\">\r\n       <use xlink:href=\"#DejaVuSans-50\"/>\r\n       <use x=\"63.623047\" xlink:href=\"#DejaVuSans-48\"/>\r\n       <use x=\"127.246094\" xlink:href=\"#DejaVuSans-50\"/>\r\n       <use x=\"190.869141\" xlink:href=\"#DejaVuSans-48\"/>\r\n       <use x=\"254.492188\" xlink:href=\"#DejaVuSans-45\"/>\r\n       <use x=\"290.576172\" xlink:href=\"#DejaVuSans-48\"/>\r\n       <use x=\"354.199219\" xlink:href=\"#DejaVuSans-50\"/>\r\n       <use x=\"417.822266\" xlink:href=\"#DejaVuSans-45\"/>\r\n       <use x=\"453.90625\" xlink:href=\"#DejaVuSans-50\"/>\r\n       <use x=\"517.529297\" xlink:href=\"#DejaVuSans-48\"/>\r\n      </g>\r\n     </g>\r\n    </g>\r\n    <g id=\"xtick_31\">\r\n     <g id=\"line2d_31\">\r\n      <g>\r\n       <use style=\"stroke:#000000;stroke-width:0.8;\" x=\"350.276849\" xlink:href=\"#m792b6a5fbf\" y=\"550.8\"/>\r\n      </g>\r\n     </g>\r\n     <g id=\"text_31\">\r\n      <!-- 2020-02-21 -->\r\n      <g transform=\"translate(353.036224 615.915625)rotate(-90)scale(0.1 -0.1)\">\r\n       <use xlink:href=\"#DejaVuSans-50\"/>\r\n       <use x=\"63.623047\" xlink:href=\"#DejaVuSans-48\"/>\r\n       <use x=\"127.246094\" xlink:href=\"#DejaVuSans-50\"/>\r\n       <use x=\"190.869141\" xlink:href=\"#DejaVuSans-48\"/>\r\n       <use x=\"254.492188\" xlink:href=\"#DejaVuSans-45\"/>\r\n       <use x=\"290.576172\" xlink:href=\"#DejaVuSans-48\"/>\r\n       <use x=\"354.199219\" xlink:href=\"#DejaVuSans-50\"/>\r\n       <use x=\"417.822266\" xlink:href=\"#DejaVuSans-45\"/>\r\n       <use x=\"453.90625\" xlink:href=\"#DejaVuSans-50\"/>\r\n       <use x=\"517.529297\" xlink:href=\"#DejaVuSans-49\"/>\r\n      </g>\r\n     </g>\r\n    </g>\r\n    <g id=\"xtick_32\">\r\n     <g id=\"line2d_32\">\r\n      <g>\r\n       <use style=\"stroke:#000000;stroke-width:0.8;\" x=\"359.387054\" xlink:href=\"#m792b6a5fbf\" y=\"550.8\"/>\r\n      </g>\r\n     </g>\r\n     <g id=\"text_32\">\r\n      <!-- 2020-02-22 -->\r\n      <g transform=\"translate(362.146429 615.915625)rotate(-90)scale(0.1 -0.1)\">\r\n       <use xlink:href=\"#DejaVuSans-50\"/>\r\n       <use x=\"63.623047\" xlink:href=\"#DejaVuSans-48\"/>\r\n       <use x=\"127.246094\" xlink:href=\"#DejaVuSans-50\"/>\r\n       <use x=\"190.869141\" xlink:href=\"#DejaVuSans-48\"/>\r\n       <use x=\"254.492188\" xlink:href=\"#DejaVuSans-45\"/>\r\n       <use x=\"290.576172\" xlink:href=\"#DejaVuSans-48\"/>\r\n       <use x=\"354.199219\" xlink:href=\"#DejaVuSans-50\"/>\r\n       <use x=\"417.822266\" xlink:href=\"#DejaVuSans-45\"/>\r\n       <use x=\"453.90625\" xlink:href=\"#DejaVuSans-50\"/>\r\n       <use x=\"517.529297\" xlink:href=\"#DejaVuSans-50\"/>\r\n      </g>\r\n     </g>\r\n    </g>\r\n    <g id=\"xtick_33\">\r\n     <g id=\"line2d_33\">\r\n      <g>\r\n       <use style=\"stroke:#000000;stroke-width:0.8;\" x=\"368.497258\" xlink:href=\"#m792b6a5fbf\" y=\"550.8\"/>\r\n      </g>\r\n     </g>\r\n     <g id=\"text_33\">\r\n      <!-- 2020-02-23 -->\r\n      <g transform=\"translate(371.256633 615.915625)rotate(-90)scale(0.1 -0.1)\">\r\n       <use xlink:href=\"#DejaVuSans-50\"/>\r\n       <use x=\"63.623047\" xlink:href=\"#DejaVuSans-48\"/>\r\n       <use x=\"127.246094\" xlink:href=\"#DejaVuSans-50\"/>\r\n       <use x=\"190.869141\" xlink:href=\"#DejaVuSans-48\"/>\r\n       <use x=\"254.492188\" xlink:href=\"#DejaVuSans-45\"/>\r\n       <use x=\"290.576172\" xlink:href=\"#DejaVuSans-48\"/>\r\n       <use x=\"354.199219\" xlink:href=\"#DejaVuSans-50\"/>\r\n       <use x=\"417.822266\" xlink:href=\"#DejaVuSans-45\"/>\r\n       <use x=\"453.90625\" xlink:href=\"#DejaVuSans-50\"/>\r\n       <use x=\"517.529297\" xlink:href=\"#DejaVuSans-51\"/>\r\n      </g>\r\n     </g>\r\n    </g>\r\n    <g id=\"xtick_34\">\r\n     <g id=\"line2d_34\">\r\n      <g>\r\n       <use style=\"stroke:#000000;stroke-width:0.8;\" x=\"377.607462\" xlink:href=\"#m792b6a5fbf\" y=\"550.8\"/>\r\n      </g>\r\n     </g>\r\n     <g id=\"text_34\">\r\n      <!-- 2020-02-24 -->\r\n      <g transform=\"translate(380.366837 615.915625)rotate(-90)scale(0.1 -0.1)\">\r\n       <use xlink:href=\"#DejaVuSans-50\"/>\r\n       <use x=\"63.623047\" xlink:href=\"#DejaVuSans-48\"/>\r\n       <use x=\"127.246094\" xlink:href=\"#DejaVuSans-50\"/>\r\n       <use x=\"190.869141\" xlink:href=\"#DejaVuSans-48\"/>\r\n       <use x=\"254.492188\" xlink:href=\"#DejaVuSans-45\"/>\r\n       <use x=\"290.576172\" xlink:href=\"#DejaVuSans-48\"/>\r\n       <use x=\"354.199219\" xlink:href=\"#DejaVuSans-50\"/>\r\n       <use x=\"417.822266\" xlink:href=\"#DejaVuSans-45\"/>\r\n       <use x=\"453.90625\" xlink:href=\"#DejaVuSans-50\"/>\r\n       <use x=\"517.529297\" xlink:href=\"#DejaVuSans-52\"/>\r\n      </g>\r\n     </g>\r\n    </g>\r\n    <g id=\"xtick_35\">\r\n     <g id=\"line2d_35\">\r\n      <g>\r\n       <use style=\"stroke:#000000;stroke-width:0.8;\" x=\"386.717666\" xlink:href=\"#m792b6a5fbf\" y=\"550.8\"/>\r\n      </g>\r\n     </g>\r\n     <g id=\"text_35\">\r\n      <!-- 2020-02-25 -->\r\n      <g transform=\"translate(389.477041 615.915625)rotate(-90)scale(0.1 -0.1)\">\r\n       <use xlink:href=\"#DejaVuSans-50\"/>\r\n       <use x=\"63.623047\" xlink:href=\"#DejaVuSans-48\"/>\r\n       <use x=\"127.246094\" xlink:href=\"#DejaVuSans-50\"/>\r\n       <use x=\"190.869141\" xlink:href=\"#DejaVuSans-48\"/>\r\n       <use x=\"254.492188\" xlink:href=\"#DejaVuSans-45\"/>\r\n       <use x=\"290.576172\" xlink:href=\"#DejaVuSans-48\"/>\r\n       <use x=\"354.199219\" xlink:href=\"#DejaVuSans-50\"/>\r\n       <use x=\"417.822266\" xlink:href=\"#DejaVuSans-45\"/>\r\n       <use x=\"453.90625\" xlink:href=\"#DejaVuSans-50\"/>\r\n       <use x=\"517.529297\" xlink:href=\"#DejaVuSans-53\"/>\r\n      </g>\r\n     </g>\r\n    </g>\r\n    <g id=\"xtick_36\">\r\n     <g id=\"line2d_36\">\r\n      <g>\r\n       <use style=\"stroke:#000000;stroke-width:0.8;\" x=\"395.82787\" xlink:href=\"#m792b6a5fbf\" y=\"550.8\"/>\r\n      </g>\r\n     </g>\r\n     <g id=\"text_36\">\r\n      <!-- 2020-02-26 -->\r\n      <g transform=\"translate(398.587245 615.915625)rotate(-90)scale(0.1 -0.1)\">\r\n       <use xlink:href=\"#DejaVuSans-50\"/>\r\n       <use x=\"63.623047\" xlink:href=\"#DejaVuSans-48\"/>\r\n       <use x=\"127.246094\" xlink:href=\"#DejaVuSans-50\"/>\r\n       <use x=\"190.869141\" xlink:href=\"#DejaVuSans-48\"/>\r\n       <use x=\"254.492188\" xlink:href=\"#DejaVuSans-45\"/>\r\n       <use x=\"290.576172\" xlink:href=\"#DejaVuSans-48\"/>\r\n       <use x=\"354.199219\" xlink:href=\"#DejaVuSans-50\"/>\r\n       <use x=\"417.822266\" xlink:href=\"#DejaVuSans-45\"/>\r\n       <use x=\"453.90625\" xlink:href=\"#DejaVuSans-50\"/>\r\n       <use x=\"517.529297\" xlink:href=\"#DejaVuSans-54\"/>\r\n      </g>\r\n     </g>\r\n    </g>\r\n    <g id=\"xtick_37\">\r\n     <g id=\"line2d_37\">\r\n      <g>\r\n       <use style=\"stroke:#000000;stroke-width:0.8;\" x=\"404.938074\" xlink:href=\"#m792b6a5fbf\" y=\"550.8\"/>\r\n      </g>\r\n     </g>\r\n     <g id=\"text_37\">\r\n      <!-- 2020-02-27 -->\r\n      <g transform=\"translate(407.697449 615.915625)rotate(-90)scale(0.1 -0.1)\">\r\n       <use xlink:href=\"#DejaVuSans-50\"/>\r\n       <use x=\"63.623047\" xlink:href=\"#DejaVuSans-48\"/>\r\n       <use x=\"127.246094\" xlink:href=\"#DejaVuSans-50\"/>\r\n       <use x=\"190.869141\" xlink:href=\"#DejaVuSans-48\"/>\r\n       <use x=\"254.492188\" xlink:href=\"#DejaVuSans-45\"/>\r\n       <use x=\"290.576172\" xlink:href=\"#DejaVuSans-48\"/>\r\n       <use x=\"354.199219\" xlink:href=\"#DejaVuSans-50\"/>\r\n       <use x=\"417.822266\" xlink:href=\"#DejaVuSans-45\"/>\r\n       <use x=\"453.90625\" xlink:href=\"#DejaVuSans-50\"/>\r\n       <use x=\"517.529297\" xlink:href=\"#DejaVuSans-55\"/>\r\n      </g>\r\n     </g>\r\n    </g>\r\n    <g id=\"xtick_38\">\r\n     <g id=\"line2d_38\">\r\n      <g>\r\n       <use style=\"stroke:#000000;stroke-width:0.8;\" x=\"414.048278\" xlink:href=\"#m792b6a5fbf\" y=\"550.8\"/>\r\n      </g>\r\n     </g>\r\n     <g id=\"text_38\">\r\n      <!-- 2020-02-28 -->\r\n      <g transform=\"translate(416.807653 615.915625)rotate(-90)scale(0.1 -0.1)\">\r\n       <use xlink:href=\"#DejaVuSans-50\"/>\r\n       <use x=\"63.623047\" xlink:href=\"#DejaVuSans-48\"/>\r\n       <use x=\"127.246094\" xlink:href=\"#DejaVuSans-50\"/>\r\n       <use x=\"190.869141\" xlink:href=\"#DejaVuSans-48\"/>\r\n       <use x=\"254.492188\" xlink:href=\"#DejaVuSans-45\"/>\r\n       <use x=\"290.576172\" xlink:href=\"#DejaVuSans-48\"/>\r\n       <use x=\"354.199219\" xlink:href=\"#DejaVuSans-50\"/>\r\n       <use x=\"417.822266\" xlink:href=\"#DejaVuSans-45\"/>\r\n       <use x=\"453.90625\" xlink:href=\"#DejaVuSans-50\"/>\r\n       <use x=\"517.529297\" xlink:href=\"#DejaVuSans-56\"/>\r\n      </g>\r\n     </g>\r\n    </g>\r\n    <g id=\"xtick_39\">\r\n     <g id=\"line2d_39\">\r\n      <g>\r\n       <use style=\"stroke:#000000;stroke-width:0.8;\" x=\"423.158482\" xlink:href=\"#m792b6a5fbf\" y=\"550.8\"/>\r\n      </g>\r\n     </g>\r\n     <g id=\"text_39\">\r\n      <!-- 2020-02-29 -->\r\n      <g transform=\"translate(425.917857 615.915625)rotate(-90)scale(0.1 -0.1)\">\r\n       <use xlink:href=\"#DejaVuSans-50\"/>\r\n       <use x=\"63.623047\" xlink:href=\"#DejaVuSans-48\"/>\r\n       <use x=\"127.246094\" xlink:href=\"#DejaVuSans-50\"/>\r\n       <use x=\"190.869141\" xlink:href=\"#DejaVuSans-48\"/>\r\n       <use x=\"254.492188\" xlink:href=\"#DejaVuSans-45\"/>\r\n       <use x=\"290.576172\" xlink:href=\"#DejaVuSans-48\"/>\r\n       <use x=\"354.199219\" xlink:href=\"#DejaVuSans-50\"/>\r\n       <use x=\"417.822266\" xlink:href=\"#DejaVuSans-45\"/>\r\n       <use x=\"453.90625\" xlink:href=\"#DejaVuSans-50\"/>\r\n       <use x=\"517.529297\" xlink:href=\"#DejaVuSans-57\"/>\r\n      </g>\r\n     </g>\r\n    </g>\r\n    <g id=\"xtick_40\">\r\n     <g id=\"line2d_40\">\r\n      <g>\r\n       <use style=\"stroke:#000000;stroke-width:0.8;\" x=\"432.268686\" xlink:href=\"#m792b6a5fbf\" y=\"550.8\"/>\r\n      </g>\r\n     </g>\r\n     <g id=\"text_40\">\r\n      <!-- 2020-03-01 -->\r\n      <g transform=\"translate(435.028061 615.915625)rotate(-90)scale(0.1 -0.1)\">\r\n       <use xlink:href=\"#DejaVuSans-50\"/>\r\n       <use x=\"63.623047\" xlink:href=\"#DejaVuSans-48\"/>\r\n       <use x=\"127.246094\" xlink:href=\"#DejaVuSans-50\"/>\r\n       <use x=\"190.869141\" xlink:href=\"#DejaVuSans-48\"/>\r\n       <use x=\"254.492188\" xlink:href=\"#DejaVuSans-45\"/>\r\n       <use x=\"290.576172\" xlink:href=\"#DejaVuSans-48\"/>\r\n       <use x=\"354.199219\" xlink:href=\"#DejaVuSans-51\"/>\r\n       <use x=\"417.822266\" xlink:href=\"#DejaVuSans-45\"/>\r\n       <use x=\"453.90625\" xlink:href=\"#DejaVuSans-48\"/>\r\n       <use x=\"517.529297\" xlink:href=\"#DejaVuSans-49\"/>\r\n      </g>\r\n     </g>\r\n    </g>\r\n    <g id=\"xtick_41\">\r\n     <g id=\"line2d_41\">\r\n      <g>\r\n       <use style=\"stroke:#000000;stroke-width:0.8;\" x=\"441.37889\" xlink:href=\"#m792b6a5fbf\" y=\"550.8\"/>\r\n      </g>\r\n     </g>\r\n     <g id=\"text_41\">\r\n      <!-- 2020-03-02 -->\r\n      <g transform=\"translate(444.138265 615.915625)rotate(-90)scale(0.1 -0.1)\">\r\n       <use xlink:href=\"#DejaVuSans-50\"/>\r\n       <use x=\"63.623047\" xlink:href=\"#DejaVuSans-48\"/>\r\n       <use x=\"127.246094\" xlink:href=\"#DejaVuSans-50\"/>\r\n       <use x=\"190.869141\" xlink:href=\"#DejaVuSans-48\"/>\r\n       <use x=\"254.492188\" xlink:href=\"#DejaVuSans-45\"/>\r\n       <use x=\"290.576172\" xlink:href=\"#DejaVuSans-48\"/>\r\n       <use x=\"354.199219\" xlink:href=\"#DejaVuSans-51\"/>\r\n       <use x=\"417.822266\" xlink:href=\"#DejaVuSans-45\"/>\r\n       <use x=\"453.90625\" xlink:href=\"#DejaVuSans-48\"/>\r\n       <use x=\"517.529297\" xlink:href=\"#DejaVuSans-50\"/>\r\n      </g>\r\n     </g>\r\n    </g>\r\n    <g id=\"xtick_42\">\r\n     <g id=\"line2d_42\">\r\n      <g>\r\n       <use style=\"stroke:#000000;stroke-width:0.8;\" x=\"450.489094\" xlink:href=\"#m792b6a5fbf\" y=\"550.8\"/>\r\n      </g>\r\n     </g>\r\n     <g id=\"text_42\">\r\n      <!-- 2020-03-03 -->\r\n      <g transform=\"translate(453.248469 615.915625)rotate(-90)scale(0.1 -0.1)\">\r\n       <use xlink:href=\"#DejaVuSans-50\"/>\r\n       <use x=\"63.623047\" xlink:href=\"#DejaVuSans-48\"/>\r\n       <use x=\"127.246094\" xlink:href=\"#DejaVuSans-50\"/>\r\n       <use x=\"190.869141\" xlink:href=\"#DejaVuSans-48\"/>\r\n       <use x=\"254.492188\" xlink:href=\"#DejaVuSans-45\"/>\r\n       <use x=\"290.576172\" xlink:href=\"#DejaVuSans-48\"/>\r\n       <use x=\"354.199219\" xlink:href=\"#DejaVuSans-51\"/>\r\n       <use x=\"417.822266\" xlink:href=\"#DejaVuSans-45\"/>\r\n       <use x=\"453.90625\" xlink:href=\"#DejaVuSans-48\"/>\r\n       <use x=\"517.529297\" xlink:href=\"#DejaVuSans-51\"/>\r\n      </g>\r\n     </g>\r\n    </g>\r\n    <g id=\"xtick_43\">\r\n     <g id=\"line2d_43\">\r\n      <g>\r\n       <use style=\"stroke:#000000;stroke-width:0.8;\" x=\"459.599298\" xlink:href=\"#m792b6a5fbf\" y=\"550.8\"/>\r\n      </g>\r\n     </g>\r\n     <g id=\"text_43\">\r\n      <!-- 2020-03-04 -->\r\n      <g transform=\"translate(462.358673 615.915625)rotate(-90)scale(0.1 -0.1)\">\r\n       <use xlink:href=\"#DejaVuSans-50\"/>\r\n       <use x=\"63.623047\" xlink:href=\"#DejaVuSans-48\"/>\r\n       <use x=\"127.246094\" xlink:href=\"#DejaVuSans-50\"/>\r\n       <use x=\"190.869141\" xlink:href=\"#DejaVuSans-48\"/>\r\n       <use x=\"254.492188\" xlink:href=\"#DejaVuSans-45\"/>\r\n       <use x=\"290.576172\" xlink:href=\"#DejaVuSans-48\"/>\r\n       <use x=\"354.199219\" xlink:href=\"#DejaVuSans-51\"/>\r\n       <use x=\"417.822266\" xlink:href=\"#DejaVuSans-45\"/>\r\n       <use x=\"453.90625\" xlink:href=\"#DejaVuSans-48\"/>\r\n       <use x=\"517.529297\" xlink:href=\"#DejaVuSans-52\"/>\r\n      </g>\r\n     </g>\r\n    </g>\r\n    <g id=\"xtick_44\">\r\n     <g id=\"line2d_44\">\r\n      <g>\r\n       <use style=\"stroke:#000000;stroke-width:0.8;\" x=\"468.709503\" xlink:href=\"#m792b6a5fbf\" y=\"550.8\"/>\r\n      </g>\r\n     </g>\r\n     <g id=\"text_44\">\r\n      <!-- 2020-03-05 -->\r\n      <g transform=\"translate(471.468878 615.915625)rotate(-90)scale(0.1 -0.1)\">\r\n       <use xlink:href=\"#DejaVuSans-50\"/>\r\n       <use x=\"63.623047\" xlink:href=\"#DejaVuSans-48\"/>\r\n       <use x=\"127.246094\" xlink:href=\"#DejaVuSans-50\"/>\r\n       <use x=\"190.869141\" xlink:href=\"#DejaVuSans-48\"/>\r\n       <use x=\"254.492188\" xlink:href=\"#DejaVuSans-45\"/>\r\n       <use x=\"290.576172\" xlink:href=\"#DejaVuSans-48\"/>\r\n       <use x=\"354.199219\" xlink:href=\"#DejaVuSans-51\"/>\r\n       <use x=\"417.822266\" xlink:href=\"#DejaVuSans-45\"/>\r\n       <use x=\"453.90625\" xlink:href=\"#DejaVuSans-48\"/>\r\n       <use x=\"517.529297\" xlink:href=\"#DejaVuSans-53\"/>\r\n      </g>\r\n     </g>\r\n    </g>\r\n    <g id=\"xtick_45\">\r\n     <g id=\"line2d_45\">\r\n      <g>\r\n       <use style=\"stroke:#000000;stroke-width:0.8;\" x=\"477.819707\" xlink:href=\"#m792b6a5fbf\" y=\"550.8\"/>\r\n      </g>\r\n     </g>\r\n     <g id=\"text_45\">\r\n      <!-- 2020-03-06 -->\r\n      <g transform=\"translate(480.579082 615.915625)rotate(-90)scale(0.1 -0.1)\">\r\n       <use xlink:href=\"#DejaVuSans-50\"/>\r\n       <use x=\"63.623047\" xlink:href=\"#DejaVuSans-48\"/>\r\n       <use x=\"127.246094\" xlink:href=\"#DejaVuSans-50\"/>\r\n       <use x=\"190.869141\" xlink:href=\"#DejaVuSans-48\"/>\r\n       <use x=\"254.492188\" xlink:href=\"#DejaVuSans-45\"/>\r\n       <use x=\"290.576172\" xlink:href=\"#DejaVuSans-48\"/>\r\n       <use x=\"354.199219\" xlink:href=\"#DejaVuSans-51\"/>\r\n       <use x=\"417.822266\" xlink:href=\"#DejaVuSans-45\"/>\r\n       <use x=\"453.90625\" xlink:href=\"#DejaVuSans-48\"/>\r\n       <use x=\"517.529297\" xlink:href=\"#DejaVuSans-54\"/>\r\n      </g>\r\n     </g>\r\n    </g>\r\n    <g id=\"xtick_46\">\r\n     <g id=\"line2d_46\">\r\n      <g>\r\n       <use style=\"stroke:#000000;stroke-width:0.8;\" x=\"486.929911\" xlink:href=\"#m792b6a5fbf\" y=\"550.8\"/>\r\n      </g>\r\n     </g>\r\n     <g id=\"text_46\">\r\n      <!-- 2020-03-07 -->\r\n      <g transform=\"translate(489.689286 615.915625)rotate(-90)scale(0.1 -0.1)\">\r\n       <use xlink:href=\"#DejaVuSans-50\"/>\r\n       <use x=\"63.623047\" xlink:href=\"#DejaVuSans-48\"/>\r\n       <use x=\"127.246094\" xlink:href=\"#DejaVuSans-50\"/>\r\n       <use x=\"190.869141\" xlink:href=\"#DejaVuSans-48\"/>\r\n       <use x=\"254.492188\" xlink:href=\"#DejaVuSans-45\"/>\r\n       <use x=\"290.576172\" xlink:href=\"#DejaVuSans-48\"/>\r\n       <use x=\"354.199219\" xlink:href=\"#DejaVuSans-51\"/>\r\n       <use x=\"417.822266\" xlink:href=\"#DejaVuSans-45\"/>\r\n       <use x=\"453.90625\" xlink:href=\"#DejaVuSans-48\"/>\r\n       <use x=\"517.529297\" xlink:href=\"#DejaVuSans-55\"/>\r\n      </g>\r\n     </g>\r\n    </g>\r\n    <g id=\"xtick_47\">\r\n     <g id=\"line2d_47\">\r\n      <g>\r\n       <use style=\"stroke:#000000;stroke-width:0.8;\" x=\"496.040115\" xlink:href=\"#m792b6a5fbf\" y=\"550.8\"/>\r\n      </g>\r\n     </g>\r\n     <g id=\"text_47\">\r\n      <!-- 2020-03-08 -->\r\n      <g transform=\"translate(498.79949 615.915625)rotate(-90)scale(0.1 -0.1)\">\r\n       <use xlink:href=\"#DejaVuSans-50\"/>\r\n       <use x=\"63.623047\" xlink:href=\"#DejaVuSans-48\"/>\r\n       <use x=\"127.246094\" xlink:href=\"#DejaVuSans-50\"/>\r\n       <use x=\"190.869141\" xlink:href=\"#DejaVuSans-48\"/>\r\n       <use x=\"254.492188\" xlink:href=\"#DejaVuSans-45\"/>\r\n       <use x=\"290.576172\" xlink:href=\"#DejaVuSans-48\"/>\r\n       <use x=\"354.199219\" xlink:href=\"#DejaVuSans-51\"/>\r\n       <use x=\"417.822266\" xlink:href=\"#DejaVuSans-45\"/>\r\n       <use x=\"453.90625\" xlink:href=\"#DejaVuSans-48\"/>\r\n       <use x=\"517.529297\" xlink:href=\"#DejaVuSans-56\"/>\r\n      </g>\r\n     </g>\r\n    </g>\r\n    <g id=\"xtick_48\">\r\n     <g id=\"line2d_48\">\r\n      <g>\r\n       <use style=\"stroke:#000000;stroke-width:0.8;\" x=\"505.150319\" xlink:href=\"#m792b6a5fbf\" y=\"550.8\"/>\r\n      </g>\r\n     </g>\r\n     <g id=\"text_48\">\r\n      <!-- 2020-03-09 -->\r\n      <g transform=\"translate(507.909694 615.915625)rotate(-90)scale(0.1 -0.1)\">\r\n       <use xlink:href=\"#DejaVuSans-50\"/>\r\n       <use x=\"63.623047\" xlink:href=\"#DejaVuSans-48\"/>\r\n       <use x=\"127.246094\" xlink:href=\"#DejaVuSans-50\"/>\r\n       <use x=\"190.869141\" xlink:href=\"#DejaVuSans-48\"/>\r\n       <use x=\"254.492188\" xlink:href=\"#DejaVuSans-45\"/>\r\n       <use x=\"290.576172\" xlink:href=\"#DejaVuSans-48\"/>\r\n       <use x=\"354.199219\" xlink:href=\"#DejaVuSans-51\"/>\r\n       <use x=\"417.822266\" xlink:href=\"#DejaVuSans-45\"/>\r\n       <use x=\"453.90625\" xlink:href=\"#DejaVuSans-48\"/>\r\n       <use x=\"517.529297\" xlink:href=\"#DejaVuSans-57\"/>\r\n      </g>\r\n     </g>\r\n    </g>\r\n    <g id=\"xtick_49\">\r\n     <g id=\"line2d_49\">\r\n      <g>\r\n       <use style=\"stroke:#000000;stroke-width:0.8;\" x=\"514.260523\" xlink:href=\"#m792b6a5fbf\" y=\"550.8\"/>\r\n      </g>\r\n     </g>\r\n     <g id=\"text_49\">\r\n      <!-- 2020-03-10 -->\r\n      <g transform=\"translate(517.019898 615.915625)rotate(-90)scale(0.1 -0.1)\">\r\n       <use xlink:href=\"#DejaVuSans-50\"/>\r\n       <use x=\"63.623047\" xlink:href=\"#DejaVuSans-48\"/>\r\n       <use x=\"127.246094\" xlink:href=\"#DejaVuSans-50\"/>\r\n       <use x=\"190.869141\" xlink:href=\"#DejaVuSans-48\"/>\r\n       <use x=\"254.492188\" xlink:href=\"#DejaVuSans-45\"/>\r\n       <use x=\"290.576172\" xlink:href=\"#DejaVuSans-48\"/>\r\n       <use x=\"354.199219\" xlink:href=\"#DejaVuSans-51\"/>\r\n       <use x=\"417.822266\" xlink:href=\"#DejaVuSans-45\"/>\r\n       <use x=\"453.90625\" xlink:href=\"#DejaVuSans-49\"/>\r\n       <use x=\"517.529297\" xlink:href=\"#DejaVuSans-48\"/>\r\n      </g>\r\n     </g>\r\n    </g>\r\n    <g id=\"xtick_50\">\r\n     <g id=\"line2d_50\">\r\n      <g>\r\n       <use style=\"stroke:#000000;stroke-width:0.8;\" x=\"523.370727\" xlink:href=\"#m792b6a5fbf\" y=\"550.8\"/>\r\n      </g>\r\n     </g>\r\n     <g id=\"text_50\">\r\n      <!-- 2020-03-11 -->\r\n      <g transform=\"translate(526.130102 615.915625)rotate(-90)scale(0.1 -0.1)\">\r\n       <use xlink:href=\"#DejaVuSans-50\"/>\r\n       <use x=\"63.623047\" xlink:href=\"#DejaVuSans-48\"/>\r\n       <use x=\"127.246094\" xlink:href=\"#DejaVuSans-50\"/>\r\n       <use x=\"190.869141\" xlink:href=\"#DejaVuSans-48\"/>\r\n       <use x=\"254.492188\" xlink:href=\"#DejaVuSans-45\"/>\r\n       <use x=\"290.576172\" xlink:href=\"#DejaVuSans-48\"/>\r\n       <use x=\"354.199219\" xlink:href=\"#DejaVuSans-51\"/>\r\n       <use x=\"417.822266\" xlink:href=\"#DejaVuSans-45\"/>\r\n       <use x=\"453.90625\" xlink:href=\"#DejaVuSans-49\"/>\r\n       <use x=\"517.529297\" xlink:href=\"#DejaVuSans-49\"/>\r\n      </g>\r\n     </g>\r\n    </g>\r\n    <g id=\"xtick_51\">\r\n     <g id=\"line2d_51\">\r\n      <g>\r\n       <use style=\"stroke:#000000;stroke-width:0.8;\" x=\"532.480931\" xlink:href=\"#m792b6a5fbf\" y=\"550.8\"/>\r\n      </g>\r\n     </g>\r\n     <g id=\"text_51\">\r\n      <!-- 2020-03-12 -->\r\n      <g transform=\"translate(535.240306 615.915625)rotate(-90)scale(0.1 -0.1)\">\r\n       <use xlink:href=\"#DejaVuSans-50\"/>\r\n       <use x=\"63.623047\" xlink:href=\"#DejaVuSans-48\"/>\r\n       <use x=\"127.246094\" xlink:href=\"#DejaVuSans-50\"/>\r\n       <use x=\"190.869141\" xlink:href=\"#DejaVuSans-48\"/>\r\n       <use x=\"254.492188\" xlink:href=\"#DejaVuSans-45\"/>\r\n       <use x=\"290.576172\" xlink:href=\"#DejaVuSans-48\"/>\r\n       <use x=\"354.199219\" xlink:href=\"#DejaVuSans-51\"/>\r\n       <use x=\"417.822266\" xlink:href=\"#DejaVuSans-45\"/>\r\n       <use x=\"453.90625\" xlink:href=\"#DejaVuSans-49\"/>\r\n       <use x=\"517.529297\" xlink:href=\"#DejaVuSans-50\"/>\r\n      </g>\r\n     </g>\r\n    </g>\r\n    <g id=\"xtick_52\">\r\n     <g id=\"line2d_52\">\r\n      <g>\r\n       <use style=\"stroke:#000000;stroke-width:0.8;\" x=\"541.591135\" xlink:href=\"#m792b6a5fbf\" y=\"550.8\"/>\r\n      </g>\r\n     </g>\r\n     <g id=\"text_52\">\r\n      <!-- 2020-03-13 -->\r\n      <g transform=\"translate(544.35051 615.915625)rotate(-90)scale(0.1 -0.1)\">\r\n       <use xlink:href=\"#DejaVuSans-50\"/>\r\n       <use x=\"63.623047\" xlink:href=\"#DejaVuSans-48\"/>\r\n       <use x=\"127.246094\" xlink:href=\"#DejaVuSans-50\"/>\r\n       <use x=\"190.869141\" xlink:href=\"#DejaVuSans-48\"/>\r\n       <use x=\"254.492188\" xlink:href=\"#DejaVuSans-45\"/>\r\n       <use x=\"290.576172\" xlink:href=\"#DejaVuSans-48\"/>\r\n       <use x=\"354.199219\" xlink:href=\"#DejaVuSans-51\"/>\r\n       <use x=\"417.822266\" xlink:href=\"#DejaVuSans-45\"/>\r\n       <use x=\"453.90625\" xlink:href=\"#DejaVuSans-49\"/>\r\n       <use x=\"517.529297\" xlink:href=\"#DejaVuSans-51\"/>\r\n      </g>\r\n     </g>\r\n    </g>\r\n    <g id=\"xtick_53\">\r\n     <g id=\"line2d_53\">\r\n      <g>\r\n       <use style=\"stroke:#000000;stroke-width:0.8;\" x=\"550.701339\" xlink:href=\"#m792b6a5fbf\" y=\"550.8\"/>\r\n      </g>\r\n     </g>\r\n     <g id=\"text_53\">\r\n      <!-- 2020-03-14 -->\r\n      <g transform=\"translate(553.460714 615.915625)rotate(-90)scale(0.1 -0.1)\">\r\n       <use xlink:href=\"#DejaVuSans-50\"/>\r\n       <use x=\"63.623047\" xlink:href=\"#DejaVuSans-48\"/>\r\n       <use x=\"127.246094\" xlink:href=\"#DejaVuSans-50\"/>\r\n       <use x=\"190.869141\" xlink:href=\"#DejaVuSans-48\"/>\r\n       <use x=\"254.492188\" xlink:href=\"#DejaVuSans-45\"/>\r\n       <use x=\"290.576172\" xlink:href=\"#DejaVuSans-48\"/>\r\n       <use x=\"354.199219\" xlink:href=\"#DejaVuSans-51\"/>\r\n       <use x=\"417.822266\" xlink:href=\"#DejaVuSans-45\"/>\r\n       <use x=\"453.90625\" xlink:href=\"#DejaVuSans-49\"/>\r\n       <use x=\"517.529297\" xlink:href=\"#DejaVuSans-52\"/>\r\n      </g>\r\n     </g>\r\n    </g>\r\n    <g id=\"xtick_54\">\r\n     <g id=\"line2d_54\">\r\n      <g>\r\n       <use style=\"stroke:#000000;stroke-width:0.8;\" x=\"559.811543\" xlink:href=\"#m792b6a5fbf\" y=\"550.8\"/>\r\n      </g>\r\n     </g>\r\n     <g id=\"text_54\">\r\n      <!-- 2020-03-15 -->\r\n      <g transform=\"translate(562.570918 615.915625)rotate(-90)scale(0.1 -0.1)\">\r\n       <use xlink:href=\"#DejaVuSans-50\"/>\r\n       <use x=\"63.623047\" xlink:href=\"#DejaVuSans-48\"/>\r\n       <use x=\"127.246094\" xlink:href=\"#DejaVuSans-50\"/>\r\n       <use x=\"190.869141\" xlink:href=\"#DejaVuSans-48\"/>\r\n       <use x=\"254.492188\" xlink:href=\"#DejaVuSans-45\"/>\r\n       <use x=\"290.576172\" xlink:href=\"#DejaVuSans-48\"/>\r\n       <use x=\"354.199219\" xlink:href=\"#DejaVuSans-51\"/>\r\n       <use x=\"417.822266\" xlink:href=\"#DejaVuSans-45\"/>\r\n       <use x=\"453.90625\" xlink:href=\"#DejaVuSans-49\"/>\r\n       <use x=\"517.529297\" xlink:href=\"#DejaVuSans-53\"/>\r\n      </g>\r\n     </g>\r\n    </g>\r\n    <g id=\"xtick_55\">\r\n     <g id=\"line2d_55\">\r\n      <g>\r\n       <use style=\"stroke:#000000;stroke-width:0.8;\" x=\"568.921747\" xlink:href=\"#m792b6a5fbf\" y=\"550.8\"/>\r\n      </g>\r\n     </g>\r\n     <g id=\"text_55\">\r\n      <!-- 2020-03-16 -->\r\n      <g transform=\"translate(571.681122 615.915625)rotate(-90)scale(0.1 -0.1)\">\r\n       <use xlink:href=\"#DejaVuSans-50\"/>\r\n       <use x=\"63.623047\" xlink:href=\"#DejaVuSans-48\"/>\r\n       <use x=\"127.246094\" xlink:href=\"#DejaVuSans-50\"/>\r\n       <use x=\"190.869141\" xlink:href=\"#DejaVuSans-48\"/>\r\n       <use x=\"254.492188\" xlink:href=\"#DejaVuSans-45\"/>\r\n       <use x=\"290.576172\" xlink:href=\"#DejaVuSans-48\"/>\r\n       <use x=\"354.199219\" xlink:href=\"#DejaVuSans-51\"/>\r\n       <use x=\"417.822266\" xlink:href=\"#DejaVuSans-45\"/>\r\n       <use x=\"453.90625\" xlink:href=\"#DejaVuSans-49\"/>\r\n       <use x=\"517.529297\" xlink:href=\"#DejaVuSans-54\"/>\r\n      </g>\r\n     </g>\r\n    </g>\r\n    <g id=\"xtick_56\">\r\n     <g id=\"line2d_56\">\r\n      <g>\r\n       <use style=\"stroke:#000000;stroke-width:0.8;\" x=\"578.031952\" xlink:href=\"#m792b6a5fbf\" y=\"550.8\"/>\r\n      </g>\r\n     </g>\r\n     <g id=\"text_56\">\r\n      <!-- 2020-03-17 -->\r\n      <g transform=\"translate(580.791327 615.915625)rotate(-90)scale(0.1 -0.1)\">\r\n       <use xlink:href=\"#DejaVuSans-50\"/>\r\n       <use x=\"63.623047\" xlink:href=\"#DejaVuSans-48\"/>\r\n       <use x=\"127.246094\" xlink:href=\"#DejaVuSans-50\"/>\r\n       <use x=\"190.869141\" xlink:href=\"#DejaVuSans-48\"/>\r\n       <use x=\"254.492188\" xlink:href=\"#DejaVuSans-45\"/>\r\n       <use x=\"290.576172\" xlink:href=\"#DejaVuSans-48\"/>\r\n       <use x=\"354.199219\" xlink:href=\"#DejaVuSans-51\"/>\r\n       <use x=\"417.822266\" xlink:href=\"#DejaVuSans-45\"/>\r\n       <use x=\"453.90625\" xlink:href=\"#DejaVuSans-49\"/>\r\n       <use x=\"517.529297\" xlink:href=\"#DejaVuSans-55\"/>\r\n      </g>\r\n     </g>\r\n    </g>\r\n    <g id=\"xtick_57\">\r\n     <g id=\"line2d_57\">\r\n      <g>\r\n       <use style=\"stroke:#000000;stroke-width:0.8;\" x=\"587.142156\" xlink:href=\"#m792b6a5fbf\" y=\"550.8\"/>\r\n      </g>\r\n     </g>\r\n     <g id=\"text_57\">\r\n      <!-- 2020-03-18 -->\r\n      <g transform=\"translate(589.901531 615.915625)rotate(-90)scale(0.1 -0.1)\">\r\n       <use xlink:href=\"#DejaVuSans-50\"/>\r\n       <use x=\"63.623047\" xlink:href=\"#DejaVuSans-48\"/>\r\n       <use x=\"127.246094\" xlink:href=\"#DejaVuSans-50\"/>\r\n       <use x=\"190.869141\" xlink:href=\"#DejaVuSans-48\"/>\r\n       <use x=\"254.492188\" xlink:href=\"#DejaVuSans-45\"/>\r\n       <use x=\"290.576172\" xlink:href=\"#DejaVuSans-48\"/>\r\n       <use x=\"354.199219\" xlink:href=\"#DejaVuSans-51\"/>\r\n       <use x=\"417.822266\" xlink:href=\"#DejaVuSans-45\"/>\r\n       <use x=\"453.90625\" xlink:href=\"#DejaVuSans-49\"/>\r\n       <use x=\"517.529297\" xlink:href=\"#DejaVuSans-56\"/>\r\n      </g>\r\n     </g>\r\n    </g>\r\n    <g id=\"xtick_58\">\r\n     <g id=\"line2d_58\">\r\n      <g>\r\n       <use style=\"stroke:#000000;stroke-width:0.8;\" x=\"596.25236\" xlink:href=\"#m792b6a5fbf\" y=\"550.8\"/>\r\n      </g>\r\n     </g>\r\n     <g id=\"text_58\">\r\n      <!-- 2020-03-19 -->\r\n      <g transform=\"translate(599.011735 615.915625)rotate(-90)scale(0.1 -0.1)\">\r\n       <use xlink:href=\"#DejaVuSans-50\"/>\r\n       <use x=\"63.623047\" xlink:href=\"#DejaVuSans-48\"/>\r\n       <use x=\"127.246094\" xlink:href=\"#DejaVuSans-50\"/>\r\n       <use x=\"190.869141\" xlink:href=\"#DejaVuSans-48\"/>\r\n       <use x=\"254.492188\" xlink:href=\"#DejaVuSans-45\"/>\r\n       <use x=\"290.576172\" xlink:href=\"#DejaVuSans-48\"/>\r\n       <use x=\"354.199219\" xlink:href=\"#DejaVuSans-51\"/>\r\n       <use x=\"417.822266\" xlink:href=\"#DejaVuSans-45\"/>\r\n       <use x=\"453.90625\" xlink:href=\"#DejaVuSans-49\"/>\r\n       <use x=\"517.529297\" xlink:href=\"#DejaVuSans-57\"/>\r\n      </g>\r\n     </g>\r\n    </g>\r\n    <g id=\"xtick_59\">\r\n     <g id=\"line2d_59\">\r\n      <g>\r\n       <use style=\"stroke:#000000;stroke-width:0.8;\" x=\"605.362564\" xlink:href=\"#m792b6a5fbf\" y=\"550.8\"/>\r\n      </g>\r\n     </g>\r\n     <g id=\"text_59\">\r\n      <!-- 2020-03-20 -->\r\n      <g transform=\"translate(608.121939 615.915625)rotate(-90)scale(0.1 -0.1)\">\r\n       <use xlink:href=\"#DejaVuSans-50\"/>\r\n       <use x=\"63.623047\" xlink:href=\"#DejaVuSans-48\"/>\r\n       <use x=\"127.246094\" xlink:href=\"#DejaVuSans-50\"/>\r\n       <use x=\"190.869141\" xlink:href=\"#DejaVuSans-48\"/>\r\n       <use x=\"254.492188\" xlink:href=\"#DejaVuSans-45\"/>\r\n       <use x=\"290.576172\" xlink:href=\"#DejaVuSans-48\"/>\r\n       <use x=\"354.199219\" xlink:href=\"#DejaVuSans-51\"/>\r\n       <use x=\"417.822266\" xlink:href=\"#DejaVuSans-45\"/>\r\n       <use x=\"453.90625\" xlink:href=\"#DejaVuSans-50\"/>\r\n       <use x=\"517.529297\" xlink:href=\"#DejaVuSans-48\"/>\r\n      </g>\r\n     </g>\r\n    </g>\r\n    <g id=\"xtick_60\">\r\n     <g id=\"line2d_60\">\r\n      <g>\r\n       <use style=\"stroke:#000000;stroke-width:0.8;\" x=\"614.472768\" xlink:href=\"#m792b6a5fbf\" y=\"550.8\"/>\r\n      </g>\r\n     </g>\r\n     <g id=\"text_60\">\r\n      <!-- 2020-03-21 -->\r\n      <g transform=\"translate(617.232143 615.915625)rotate(-90)scale(0.1 -0.1)\">\r\n       <use xlink:href=\"#DejaVuSans-50\"/>\r\n       <use x=\"63.623047\" xlink:href=\"#DejaVuSans-48\"/>\r\n       <use x=\"127.246094\" xlink:href=\"#DejaVuSans-50\"/>\r\n       <use x=\"190.869141\" xlink:href=\"#DejaVuSans-48\"/>\r\n       <use x=\"254.492188\" xlink:href=\"#DejaVuSans-45\"/>\r\n       <use x=\"290.576172\" xlink:href=\"#DejaVuSans-48\"/>\r\n       <use x=\"354.199219\" xlink:href=\"#DejaVuSans-51\"/>\r\n       <use x=\"417.822266\" xlink:href=\"#DejaVuSans-45\"/>\r\n       <use x=\"453.90625\" xlink:href=\"#DejaVuSans-50\"/>\r\n       <use x=\"517.529297\" xlink:href=\"#DejaVuSans-49\"/>\r\n      </g>\r\n     </g>\r\n    </g>\r\n    <g id=\"xtick_61\">\r\n     <g id=\"line2d_61\">\r\n      <g>\r\n       <use style=\"stroke:#000000;stroke-width:0.8;\" x=\"623.582972\" xlink:href=\"#m792b6a5fbf\" y=\"550.8\"/>\r\n      </g>\r\n     </g>\r\n     <g id=\"text_61\">\r\n      <!-- 2020-03-22 -->\r\n      <g transform=\"translate(626.342347 615.915625)rotate(-90)scale(0.1 -0.1)\">\r\n       <use xlink:href=\"#DejaVuSans-50\"/>\r\n       <use x=\"63.623047\" xlink:href=\"#DejaVuSans-48\"/>\r\n       <use x=\"127.246094\" xlink:href=\"#DejaVuSans-50\"/>\r\n       <use x=\"190.869141\" xlink:href=\"#DejaVuSans-48\"/>\r\n       <use x=\"254.492188\" xlink:href=\"#DejaVuSans-45\"/>\r\n       <use x=\"290.576172\" xlink:href=\"#DejaVuSans-48\"/>\r\n       <use x=\"354.199219\" xlink:href=\"#DejaVuSans-51\"/>\r\n       <use x=\"417.822266\" xlink:href=\"#DejaVuSans-45\"/>\r\n       <use x=\"453.90625\" xlink:href=\"#DejaVuSans-50\"/>\r\n       <use x=\"517.529297\" xlink:href=\"#DejaVuSans-50\"/>\r\n      </g>\r\n     </g>\r\n    </g>\r\n    <g id=\"xtick_62\">\r\n     <g id=\"line2d_62\">\r\n      <g>\r\n       <use style=\"stroke:#000000;stroke-width:0.8;\" x=\"632.693176\" xlink:href=\"#m792b6a5fbf\" y=\"550.8\"/>\r\n      </g>\r\n     </g>\r\n     <g id=\"text_62\">\r\n      <!-- 2020-03-23 -->\r\n      <g transform=\"translate(635.452551 615.915625)rotate(-90)scale(0.1 -0.1)\">\r\n       <use xlink:href=\"#DejaVuSans-50\"/>\r\n       <use x=\"63.623047\" xlink:href=\"#DejaVuSans-48\"/>\r\n       <use x=\"127.246094\" xlink:href=\"#DejaVuSans-50\"/>\r\n       <use x=\"190.869141\" xlink:href=\"#DejaVuSans-48\"/>\r\n       <use x=\"254.492188\" xlink:href=\"#DejaVuSans-45\"/>\r\n       <use x=\"290.576172\" xlink:href=\"#DejaVuSans-48\"/>\r\n       <use x=\"354.199219\" xlink:href=\"#DejaVuSans-51\"/>\r\n       <use x=\"417.822266\" xlink:href=\"#DejaVuSans-45\"/>\r\n       <use x=\"453.90625\" xlink:href=\"#DejaVuSans-50\"/>\r\n       <use x=\"517.529297\" xlink:href=\"#DejaVuSans-51\"/>\r\n      </g>\r\n     </g>\r\n    </g>\r\n    <g id=\"xtick_63\">\r\n     <g id=\"line2d_63\">\r\n      <g>\r\n       <use style=\"stroke:#000000;stroke-width:0.8;\" x=\"641.80338\" xlink:href=\"#m792b6a5fbf\" y=\"550.8\"/>\r\n      </g>\r\n     </g>\r\n     <g id=\"text_63\">\r\n      <!-- 2020-03-24 -->\r\n      <g transform=\"translate(644.562755 615.915625)rotate(-90)scale(0.1 -0.1)\">\r\n       <use xlink:href=\"#DejaVuSans-50\"/>\r\n       <use x=\"63.623047\" xlink:href=\"#DejaVuSans-48\"/>\r\n       <use x=\"127.246094\" xlink:href=\"#DejaVuSans-50\"/>\r\n       <use x=\"190.869141\" xlink:href=\"#DejaVuSans-48\"/>\r\n       <use x=\"254.492188\" xlink:href=\"#DejaVuSans-45\"/>\r\n       <use x=\"290.576172\" xlink:href=\"#DejaVuSans-48\"/>\r\n       <use x=\"354.199219\" xlink:href=\"#DejaVuSans-51\"/>\r\n       <use x=\"417.822266\" xlink:href=\"#DejaVuSans-45\"/>\r\n       <use x=\"453.90625\" xlink:href=\"#DejaVuSans-50\"/>\r\n       <use x=\"517.529297\" xlink:href=\"#DejaVuSans-52\"/>\r\n      </g>\r\n     </g>\r\n    </g>\r\n    <g id=\"xtick_64\">\r\n     <g id=\"line2d_64\">\r\n      <g>\r\n       <use style=\"stroke:#000000;stroke-width:0.8;\" x=\"650.913584\" xlink:href=\"#m792b6a5fbf\" y=\"550.8\"/>\r\n      </g>\r\n     </g>\r\n     <g id=\"text_64\">\r\n      <!-- 2020-03-25 -->\r\n      <g transform=\"translate(653.672959 615.915625)rotate(-90)scale(0.1 -0.1)\">\r\n       <use xlink:href=\"#DejaVuSans-50\"/>\r\n       <use x=\"63.623047\" xlink:href=\"#DejaVuSans-48\"/>\r\n       <use x=\"127.246094\" xlink:href=\"#DejaVuSans-50\"/>\r\n       <use x=\"190.869141\" xlink:href=\"#DejaVuSans-48\"/>\r\n       <use x=\"254.492188\" xlink:href=\"#DejaVuSans-45\"/>\r\n       <use x=\"290.576172\" xlink:href=\"#DejaVuSans-48\"/>\r\n       <use x=\"354.199219\" xlink:href=\"#DejaVuSans-51\"/>\r\n       <use x=\"417.822266\" xlink:href=\"#DejaVuSans-45\"/>\r\n       <use x=\"453.90625\" xlink:href=\"#DejaVuSans-50\"/>\r\n       <use x=\"517.529297\" xlink:href=\"#DejaVuSans-53\"/>\r\n      </g>\r\n     </g>\r\n    </g>\r\n    <g id=\"xtick_65\">\r\n     <g id=\"line2d_65\">\r\n      <g>\r\n       <use style=\"stroke:#000000;stroke-width:0.8;\" x=\"660.023788\" xlink:href=\"#m792b6a5fbf\" y=\"550.8\"/>\r\n      </g>\r\n     </g>\r\n     <g id=\"text_65\">\r\n      <!-- 2020-03-26 -->\r\n      <g transform=\"translate(662.783163 615.915625)rotate(-90)scale(0.1 -0.1)\">\r\n       <use xlink:href=\"#DejaVuSans-50\"/>\r\n       <use x=\"63.623047\" xlink:href=\"#DejaVuSans-48\"/>\r\n       <use x=\"127.246094\" xlink:href=\"#DejaVuSans-50\"/>\r\n       <use x=\"190.869141\" xlink:href=\"#DejaVuSans-48\"/>\r\n       <use x=\"254.492188\" xlink:href=\"#DejaVuSans-45\"/>\r\n       <use x=\"290.576172\" xlink:href=\"#DejaVuSans-48\"/>\r\n       <use x=\"354.199219\" xlink:href=\"#DejaVuSans-51\"/>\r\n       <use x=\"417.822266\" xlink:href=\"#DejaVuSans-45\"/>\r\n       <use x=\"453.90625\" xlink:href=\"#DejaVuSans-50\"/>\r\n       <use x=\"517.529297\" xlink:href=\"#DejaVuSans-54\"/>\r\n      </g>\r\n     </g>\r\n    </g>\r\n    <g id=\"xtick_66\">\r\n     <g id=\"line2d_66\">\r\n      <g>\r\n       <use style=\"stroke:#000000;stroke-width:0.8;\" x=\"669.133992\" xlink:href=\"#m792b6a5fbf\" y=\"550.8\"/>\r\n      </g>\r\n     </g>\r\n     <g id=\"text_66\">\r\n      <!-- 2020-03-27 -->\r\n      <g transform=\"translate(671.893367 615.915625)rotate(-90)scale(0.1 -0.1)\">\r\n       <use xlink:href=\"#DejaVuSans-50\"/>\r\n       <use x=\"63.623047\" xlink:href=\"#DejaVuSans-48\"/>\r\n       <use x=\"127.246094\" xlink:href=\"#DejaVuSans-50\"/>\r\n       <use x=\"190.869141\" xlink:href=\"#DejaVuSans-48\"/>\r\n       <use x=\"254.492188\" xlink:href=\"#DejaVuSans-45\"/>\r\n       <use x=\"290.576172\" xlink:href=\"#DejaVuSans-48\"/>\r\n       <use x=\"354.199219\" xlink:href=\"#DejaVuSans-51\"/>\r\n       <use x=\"417.822266\" xlink:href=\"#DejaVuSans-45\"/>\r\n       <use x=\"453.90625\" xlink:href=\"#DejaVuSans-50\"/>\r\n       <use x=\"517.529297\" xlink:href=\"#DejaVuSans-55\"/>\r\n      </g>\r\n     </g>\r\n    </g>\r\n    <g id=\"xtick_67\">\r\n     <g id=\"line2d_67\">\r\n      <g>\r\n       <use style=\"stroke:#000000;stroke-width:0.8;\" x=\"678.244196\" xlink:href=\"#m792b6a5fbf\" y=\"550.8\"/>\r\n      </g>\r\n     </g>\r\n     <g id=\"text_67\">\r\n      <!-- 2020-03-28 -->\r\n      <g transform=\"translate(681.003571 615.915625)rotate(-90)scale(0.1 -0.1)\">\r\n       <use xlink:href=\"#DejaVuSans-50\"/>\r\n       <use x=\"63.623047\" xlink:href=\"#DejaVuSans-48\"/>\r\n       <use x=\"127.246094\" xlink:href=\"#DejaVuSans-50\"/>\r\n       <use x=\"190.869141\" xlink:href=\"#DejaVuSans-48\"/>\r\n       <use x=\"254.492188\" xlink:href=\"#DejaVuSans-45\"/>\r\n       <use x=\"290.576172\" xlink:href=\"#DejaVuSans-48\"/>\r\n       <use x=\"354.199219\" xlink:href=\"#DejaVuSans-51\"/>\r\n       <use x=\"417.822266\" xlink:href=\"#DejaVuSans-45\"/>\r\n       <use x=\"453.90625\" xlink:href=\"#DejaVuSans-50\"/>\r\n       <use x=\"517.529297\" xlink:href=\"#DejaVuSans-56\"/>\r\n      </g>\r\n     </g>\r\n    </g>\r\n    <g id=\"xtick_68\">\r\n     <g id=\"line2d_68\">\r\n      <g>\r\n       <use style=\"stroke:#000000;stroke-width:0.8;\" x=\"687.354401\" xlink:href=\"#m792b6a5fbf\" y=\"550.8\"/>\r\n      </g>\r\n     </g>\r\n     <g id=\"text_68\">\r\n      <!-- 2020-03-29 -->\r\n      <g transform=\"translate(690.113776 615.915625)rotate(-90)scale(0.1 -0.1)\">\r\n       <use xlink:href=\"#DejaVuSans-50\"/>\r\n       <use x=\"63.623047\" xlink:href=\"#DejaVuSans-48\"/>\r\n       <use x=\"127.246094\" xlink:href=\"#DejaVuSans-50\"/>\r\n       <use x=\"190.869141\" xlink:href=\"#DejaVuSans-48\"/>\r\n       <use x=\"254.492188\" xlink:href=\"#DejaVuSans-45\"/>\r\n       <use x=\"290.576172\" xlink:href=\"#DejaVuSans-48\"/>\r\n       <use x=\"354.199219\" xlink:href=\"#DejaVuSans-51\"/>\r\n       <use x=\"417.822266\" xlink:href=\"#DejaVuSans-45\"/>\r\n       <use x=\"453.90625\" xlink:href=\"#DejaVuSans-50\"/>\r\n       <use x=\"517.529297\" xlink:href=\"#DejaVuSans-57\"/>\r\n      </g>\r\n     </g>\r\n    </g>\r\n    <g id=\"xtick_69\">\r\n     <g id=\"line2d_69\">\r\n      <g>\r\n       <use style=\"stroke:#000000;stroke-width:0.8;\" x=\"696.464605\" xlink:href=\"#m792b6a5fbf\" y=\"550.8\"/>\r\n      </g>\r\n     </g>\r\n     <g id=\"text_69\">\r\n      <!-- 2020-03-30 -->\r\n      <g transform=\"translate(699.22398 615.915625)rotate(-90)scale(0.1 -0.1)\">\r\n       <use xlink:href=\"#DejaVuSans-50\"/>\r\n       <use x=\"63.623047\" xlink:href=\"#DejaVuSans-48\"/>\r\n       <use x=\"127.246094\" xlink:href=\"#DejaVuSans-50\"/>\r\n       <use x=\"190.869141\" xlink:href=\"#DejaVuSans-48\"/>\r\n       <use x=\"254.492188\" xlink:href=\"#DejaVuSans-45\"/>\r\n       <use x=\"290.576172\" xlink:href=\"#DejaVuSans-48\"/>\r\n       <use x=\"354.199219\" xlink:href=\"#DejaVuSans-51\"/>\r\n       <use x=\"417.822266\" xlink:href=\"#DejaVuSans-45\"/>\r\n       <use x=\"453.90625\" xlink:href=\"#DejaVuSans-51\"/>\r\n       <use x=\"517.529297\" xlink:href=\"#DejaVuSans-48\"/>\r\n      </g>\r\n     </g>\r\n    </g>\r\n    <g id=\"xtick_70\">\r\n     <g id=\"line2d_70\">\r\n      <g>\r\n       <use style=\"stroke:#000000;stroke-width:0.8;\" x=\"705.574809\" xlink:href=\"#m792b6a5fbf\" y=\"550.8\"/>\r\n      </g>\r\n     </g>\r\n     <g id=\"text_70\">\r\n      <!-- 2020-03-31 -->\r\n      <g transform=\"translate(708.334184 615.915625)rotate(-90)scale(0.1 -0.1)\">\r\n       <use xlink:href=\"#DejaVuSans-50\"/>\r\n       <use x=\"63.623047\" xlink:href=\"#DejaVuSans-48\"/>\r\n       <use x=\"127.246094\" xlink:href=\"#DejaVuSans-50\"/>\r\n       <use x=\"190.869141\" xlink:href=\"#DejaVuSans-48\"/>\r\n       <use x=\"254.492188\" xlink:href=\"#DejaVuSans-45\"/>\r\n       <use x=\"290.576172\" xlink:href=\"#DejaVuSans-48\"/>\r\n       <use x=\"354.199219\" xlink:href=\"#DejaVuSans-51\"/>\r\n       <use x=\"417.822266\" xlink:href=\"#DejaVuSans-45\"/>\r\n       <use x=\"453.90625\" xlink:href=\"#DejaVuSans-51\"/>\r\n       <use x=\"517.529297\" xlink:href=\"#DejaVuSans-49\"/>\r\n      </g>\r\n     </g>\r\n    </g>\r\n    <g id=\"xtick_71\">\r\n     <g id=\"line2d_71\">\r\n      <g>\r\n       <use style=\"stroke:#000000;stroke-width:0.8;\" x=\"714.685013\" xlink:href=\"#m792b6a5fbf\" y=\"550.8\"/>\r\n      </g>\r\n     </g>\r\n     <g id=\"text_71\">\r\n      <!-- 2020-04-01 -->\r\n      <g transform=\"translate(717.444388 615.915625)rotate(-90)scale(0.1 -0.1)\">\r\n       <use xlink:href=\"#DejaVuSans-50\"/>\r\n       <use x=\"63.623047\" xlink:href=\"#DejaVuSans-48\"/>\r\n       <use x=\"127.246094\" xlink:href=\"#DejaVuSans-50\"/>\r\n       <use x=\"190.869141\" xlink:href=\"#DejaVuSans-48\"/>\r\n       <use x=\"254.492188\" xlink:href=\"#DejaVuSans-45\"/>\r\n       <use x=\"290.576172\" xlink:href=\"#DejaVuSans-48\"/>\r\n       <use x=\"354.199219\" xlink:href=\"#DejaVuSans-52\"/>\r\n       <use x=\"417.822266\" xlink:href=\"#DejaVuSans-45\"/>\r\n       <use x=\"453.90625\" xlink:href=\"#DejaVuSans-48\"/>\r\n       <use x=\"517.529297\" xlink:href=\"#DejaVuSans-49\"/>\r\n      </g>\r\n     </g>\r\n    </g>\r\n    <g id=\"xtick_72\">\r\n     <g id=\"line2d_72\">\r\n      <g>\r\n       <use style=\"stroke:#000000;stroke-width:0.8;\" x=\"723.795217\" xlink:href=\"#m792b6a5fbf\" y=\"550.8\"/>\r\n      </g>\r\n     </g>\r\n     <g id=\"text_72\">\r\n      <!-- 2020-04-02 -->\r\n      <g transform=\"translate(726.554592 615.915625)rotate(-90)scale(0.1 -0.1)\">\r\n       <use xlink:href=\"#DejaVuSans-50\"/>\r\n       <use x=\"63.623047\" xlink:href=\"#DejaVuSans-48\"/>\r\n       <use x=\"127.246094\" xlink:href=\"#DejaVuSans-50\"/>\r\n       <use x=\"190.869141\" xlink:href=\"#DejaVuSans-48\"/>\r\n       <use x=\"254.492188\" xlink:href=\"#DejaVuSans-45\"/>\r\n       <use x=\"290.576172\" xlink:href=\"#DejaVuSans-48\"/>\r\n       <use x=\"354.199219\" xlink:href=\"#DejaVuSans-52\"/>\r\n       <use x=\"417.822266\" xlink:href=\"#DejaVuSans-45\"/>\r\n       <use x=\"453.90625\" xlink:href=\"#DejaVuSans-48\"/>\r\n       <use x=\"517.529297\" xlink:href=\"#DejaVuSans-50\"/>\r\n      </g>\r\n     </g>\r\n    </g>\r\n    <g id=\"xtick_73\">\r\n     <g id=\"line2d_73\">\r\n      <g>\r\n       <use style=\"stroke:#000000;stroke-width:0.8;\" x=\"732.905421\" xlink:href=\"#m792b6a5fbf\" y=\"550.8\"/>\r\n      </g>\r\n     </g>\r\n     <g id=\"text_73\">\r\n      <!-- 2020-04-03 -->\r\n      <g transform=\"translate(735.664796 615.915625)rotate(-90)scale(0.1 -0.1)\">\r\n       <use xlink:href=\"#DejaVuSans-50\"/>\r\n       <use x=\"63.623047\" xlink:href=\"#DejaVuSans-48\"/>\r\n       <use x=\"127.246094\" xlink:href=\"#DejaVuSans-50\"/>\r\n       <use x=\"190.869141\" xlink:href=\"#DejaVuSans-48\"/>\r\n       <use x=\"254.492188\" xlink:href=\"#DejaVuSans-45\"/>\r\n       <use x=\"290.576172\" xlink:href=\"#DejaVuSans-48\"/>\r\n       <use x=\"354.199219\" xlink:href=\"#DejaVuSans-52\"/>\r\n       <use x=\"417.822266\" xlink:href=\"#DejaVuSans-45\"/>\r\n       <use x=\"453.90625\" xlink:href=\"#DejaVuSans-48\"/>\r\n       <use x=\"517.529297\" xlink:href=\"#DejaVuSans-51\"/>\r\n      </g>\r\n     </g>\r\n    </g>\r\n    <g id=\"xtick_74\">\r\n     <g id=\"line2d_74\">\r\n      <g>\r\n       <use style=\"stroke:#000000;stroke-width:0.8;\" x=\"742.015625\" xlink:href=\"#m792b6a5fbf\" y=\"550.8\"/>\r\n      </g>\r\n     </g>\r\n     <g id=\"text_74\">\r\n      <!-- 2020-04-04 -->\r\n      <g transform=\"translate(744.775 615.915625)rotate(-90)scale(0.1 -0.1)\">\r\n       <use xlink:href=\"#DejaVuSans-50\"/>\r\n       <use x=\"63.623047\" xlink:href=\"#DejaVuSans-48\"/>\r\n       <use x=\"127.246094\" xlink:href=\"#DejaVuSans-50\"/>\r\n       <use x=\"190.869141\" xlink:href=\"#DejaVuSans-48\"/>\r\n       <use x=\"254.492188\" xlink:href=\"#DejaVuSans-45\"/>\r\n       <use x=\"290.576172\" xlink:href=\"#DejaVuSans-48\"/>\r\n       <use x=\"354.199219\" xlink:href=\"#DejaVuSans-52\"/>\r\n       <use x=\"417.822266\" xlink:href=\"#DejaVuSans-45\"/>\r\n       <use x=\"453.90625\" xlink:href=\"#DejaVuSans-48\"/>\r\n       <use x=\"517.529297\" xlink:href=\"#DejaVuSans-52\"/>\r\n      </g>\r\n     </g>\r\n    </g>\r\n    <g id=\"xtick_75\">\r\n     <g id=\"line2d_75\">\r\n      <g>\r\n       <use style=\"stroke:#000000;stroke-width:0.8;\" x=\"751.125829\" xlink:href=\"#m792b6a5fbf\" y=\"550.8\"/>\r\n      </g>\r\n     </g>\r\n     <g id=\"text_75\">\r\n      <!-- 2020-04-05 -->\r\n      <g transform=\"translate(753.885204 615.915625)rotate(-90)scale(0.1 -0.1)\">\r\n       <use xlink:href=\"#DejaVuSans-50\"/>\r\n       <use x=\"63.623047\" xlink:href=\"#DejaVuSans-48\"/>\r\n       <use x=\"127.246094\" xlink:href=\"#DejaVuSans-50\"/>\r\n       <use x=\"190.869141\" xlink:href=\"#DejaVuSans-48\"/>\r\n       <use x=\"254.492188\" xlink:href=\"#DejaVuSans-45\"/>\r\n       <use x=\"290.576172\" xlink:href=\"#DejaVuSans-48\"/>\r\n       <use x=\"354.199219\" xlink:href=\"#DejaVuSans-52\"/>\r\n       <use x=\"417.822266\" xlink:href=\"#DejaVuSans-45\"/>\r\n       <use x=\"453.90625\" xlink:href=\"#DejaVuSans-48\"/>\r\n       <use x=\"517.529297\" xlink:href=\"#DejaVuSans-53\"/>\r\n      </g>\r\n     </g>\r\n    </g>\r\n    <g id=\"xtick_76\">\r\n     <g id=\"line2d_76\">\r\n      <g>\r\n       <use style=\"stroke:#000000;stroke-width:0.8;\" x=\"760.236033\" xlink:href=\"#m792b6a5fbf\" y=\"550.8\"/>\r\n      </g>\r\n     </g>\r\n     <g id=\"text_76\">\r\n      <!-- 2020-04-06 -->\r\n      <g transform=\"translate(762.995408 615.915625)rotate(-90)scale(0.1 -0.1)\">\r\n       <use xlink:href=\"#DejaVuSans-50\"/>\r\n       <use x=\"63.623047\" xlink:href=\"#DejaVuSans-48\"/>\r\n       <use x=\"127.246094\" xlink:href=\"#DejaVuSans-50\"/>\r\n       <use x=\"190.869141\" xlink:href=\"#DejaVuSans-48\"/>\r\n       <use x=\"254.492188\" xlink:href=\"#DejaVuSans-45\"/>\r\n       <use x=\"290.576172\" xlink:href=\"#DejaVuSans-48\"/>\r\n       <use x=\"354.199219\" xlink:href=\"#DejaVuSans-52\"/>\r\n       <use x=\"417.822266\" xlink:href=\"#DejaVuSans-45\"/>\r\n       <use x=\"453.90625\" xlink:href=\"#DejaVuSans-48\"/>\r\n       <use x=\"517.529297\" xlink:href=\"#DejaVuSans-54\"/>\r\n      </g>\r\n     </g>\r\n    </g>\r\n    <g id=\"xtick_77\">\r\n     <g id=\"line2d_77\">\r\n      <g>\r\n       <use style=\"stroke:#000000;stroke-width:0.8;\" x=\"769.346237\" xlink:href=\"#m792b6a5fbf\" y=\"550.8\"/>\r\n      </g>\r\n     </g>\r\n     <g id=\"text_77\">\r\n      <!-- 2020-04-07 -->\r\n      <g transform=\"translate(772.105612 615.915625)rotate(-90)scale(0.1 -0.1)\">\r\n       <use xlink:href=\"#DejaVuSans-50\"/>\r\n       <use x=\"63.623047\" xlink:href=\"#DejaVuSans-48\"/>\r\n       <use x=\"127.246094\" xlink:href=\"#DejaVuSans-50\"/>\r\n       <use x=\"190.869141\" xlink:href=\"#DejaVuSans-48\"/>\r\n       <use x=\"254.492188\" xlink:href=\"#DejaVuSans-45\"/>\r\n       <use x=\"290.576172\" xlink:href=\"#DejaVuSans-48\"/>\r\n       <use x=\"354.199219\" xlink:href=\"#DejaVuSans-52\"/>\r\n       <use x=\"417.822266\" xlink:href=\"#DejaVuSans-45\"/>\r\n       <use x=\"453.90625\" xlink:href=\"#DejaVuSans-48\"/>\r\n       <use x=\"517.529297\" xlink:href=\"#DejaVuSans-55\"/>\r\n      </g>\r\n     </g>\r\n    </g>\r\n    <g id=\"xtick_78\">\r\n     <g id=\"line2d_78\">\r\n      <g>\r\n       <use style=\"stroke:#000000;stroke-width:0.8;\" x=\"778.456441\" xlink:href=\"#m792b6a5fbf\" y=\"550.8\"/>\r\n      </g>\r\n     </g>\r\n     <g id=\"text_78\">\r\n      <!-- 2020-04-08 -->\r\n      <g transform=\"translate(781.215816 615.915625)rotate(-90)scale(0.1 -0.1)\">\r\n       <use xlink:href=\"#DejaVuSans-50\"/>\r\n       <use x=\"63.623047\" xlink:href=\"#DejaVuSans-48\"/>\r\n       <use x=\"127.246094\" xlink:href=\"#DejaVuSans-50\"/>\r\n       <use x=\"190.869141\" xlink:href=\"#DejaVuSans-48\"/>\r\n       <use x=\"254.492188\" xlink:href=\"#DejaVuSans-45\"/>\r\n       <use x=\"290.576172\" xlink:href=\"#DejaVuSans-48\"/>\r\n       <use x=\"354.199219\" xlink:href=\"#DejaVuSans-52\"/>\r\n       <use x=\"417.822266\" xlink:href=\"#DejaVuSans-45\"/>\r\n       <use x=\"453.90625\" xlink:href=\"#DejaVuSans-48\"/>\r\n       <use x=\"517.529297\" xlink:href=\"#DejaVuSans-56\"/>\r\n      </g>\r\n     </g>\r\n    </g>\r\n    <g id=\"xtick_79\">\r\n     <g id=\"line2d_79\">\r\n      <g>\r\n       <use style=\"stroke:#000000;stroke-width:0.8;\" x=\"787.566645\" xlink:href=\"#m792b6a5fbf\" y=\"550.8\"/>\r\n      </g>\r\n     </g>\r\n     <g id=\"text_79\">\r\n      <!-- 2020-04-09 -->\r\n      <g transform=\"translate(790.32602 615.915625)rotate(-90)scale(0.1 -0.1)\">\r\n       <use xlink:href=\"#DejaVuSans-50\"/>\r\n       <use x=\"63.623047\" xlink:href=\"#DejaVuSans-48\"/>\r\n       <use x=\"127.246094\" xlink:href=\"#DejaVuSans-50\"/>\r\n       <use x=\"190.869141\" xlink:href=\"#DejaVuSans-48\"/>\r\n       <use x=\"254.492188\" xlink:href=\"#DejaVuSans-45\"/>\r\n       <use x=\"290.576172\" xlink:href=\"#DejaVuSans-48\"/>\r\n       <use x=\"354.199219\" xlink:href=\"#DejaVuSans-52\"/>\r\n       <use x=\"417.822266\" xlink:href=\"#DejaVuSans-45\"/>\r\n       <use x=\"453.90625\" xlink:href=\"#DejaVuSans-48\"/>\r\n       <use x=\"517.529297\" xlink:href=\"#DejaVuSans-57\"/>\r\n      </g>\r\n     </g>\r\n    </g>\r\n    <g id=\"xtick_80\">\r\n     <g id=\"line2d_80\">\r\n      <g>\r\n       <use style=\"stroke:#000000;stroke-width:0.8;\" x=\"796.676849\" xlink:href=\"#m792b6a5fbf\" y=\"550.8\"/>\r\n      </g>\r\n     </g>\r\n     <g id=\"text_80\">\r\n      <!-- 2020-04-10 -->\r\n      <g transform=\"translate(799.436224 615.915625)rotate(-90)scale(0.1 -0.1)\">\r\n       <use xlink:href=\"#DejaVuSans-50\"/>\r\n       <use x=\"63.623047\" xlink:href=\"#DejaVuSans-48\"/>\r\n       <use x=\"127.246094\" xlink:href=\"#DejaVuSans-50\"/>\r\n       <use x=\"190.869141\" xlink:href=\"#DejaVuSans-48\"/>\r\n       <use x=\"254.492188\" xlink:href=\"#DejaVuSans-45\"/>\r\n       <use x=\"290.576172\" xlink:href=\"#DejaVuSans-48\"/>\r\n       <use x=\"354.199219\" xlink:href=\"#DejaVuSans-52\"/>\r\n       <use x=\"417.822266\" xlink:href=\"#DejaVuSans-45\"/>\r\n       <use x=\"453.90625\" xlink:href=\"#DejaVuSans-49\"/>\r\n       <use x=\"517.529297\" xlink:href=\"#DejaVuSans-48\"/>\r\n      </g>\r\n     </g>\r\n    </g>\r\n    <g id=\"xtick_81\">\r\n     <g id=\"line2d_81\">\r\n      <g>\r\n       <use style=\"stroke:#000000;stroke-width:0.8;\" x=\"805.787054\" xlink:href=\"#m792b6a5fbf\" y=\"550.8\"/>\r\n      </g>\r\n     </g>\r\n     <g id=\"text_81\">\r\n      <!-- 2020-04-11 -->\r\n      <g transform=\"translate(808.546429 615.915625)rotate(-90)scale(0.1 -0.1)\">\r\n       <use xlink:href=\"#DejaVuSans-50\"/>\r\n       <use x=\"63.623047\" xlink:href=\"#DejaVuSans-48\"/>\r\n       <use x=\"127.246094\" xlink:href=\"#DejaVuSans-50\"/>\r\n       <use x=\"190.869141\" xlink:href=\"#DejaVuSans-48\"/>\r\n       <use x=\"254.492188\" xlink:href=\"#DejaVuSans-45\"/>\r\n       <use x=\"290.576172\" xlink:href=\"#DejaVuSans-48\"/>\r\n       <use x=\"354.199219\" xlink:href=\"#DejaVuSans-52\"/>\r\n       <use x=\"417.822266\" xlink:href=\"#DejaVuSans-45\"/>\r\n       <use x=\"453.90625\" xlink:href=\"#DejaVuSans-49\"/>\r\n       <use x=\"517.529297\" xlink:href=\"#DejaVuSans-49\"/>\r\n      </g>\r\n     </g>\r\n    </g>\r\n    <g id=\"xtick_82\">\r\n     <g id=\"line2d_82\">\r\n      <g>\r\n       <use style=\"stroke:#000000;stroke-width:0.8;\" x=\"814.897258\" xlink:href=\"#m792b6a5fbf\" y=\"550.8\"/>\r\n      </g>\r\n     </g>\r\n     <g id=\"text_82\">\r\n      <!-- 2020-04-12 -->\r\n      <g transform=\"translate(817.656633 615.915625)rotate(-90)scale(0.1 -0.1)\">\r\n       <use xlink:href=\"#DejaVuSans-50\"/>\r\n       <use x=\"63.623047\" xlink:href=\"#DejaVuSans-48\"/>\r\n       <use x=\"127.246094\" xlink:href=\"#DejaVuSans-50\"/>\r\n       <use x=\"190.869141\" xlink:href=\"#DejaVuSans-48\"/>\r\n       <use x=\"254.492188\" xlink:href=\"#DejaVuSans-45\"/>\r\n       <use x=\"290.576172\" xlink:href=\"#DejaVuSans-48\"/>\r\n       <use x=\"354.199219\" xlink:href=\"#DejaVuSans-52\"/>\r\n       <use x=\"417.822266\" xlink:href=\"#DejaVuSans-45\"/>\r\n       <use x=\"453.90625\" xlink:href=\"#DejaVuSans-49\"/>\r\n       <use x=\"517.529297\" xlink:href=\"#DejaVuSans-50\"/>\r\n      </g>\r\n     </g>\r\n    </g>\r\n    <g id=\"xtick_83\">\r\n     <g id=\"line2d_83\">\r\n      <g>\r\n       <use style=\"stroke:#000000;stroke-width:0.8;\" x=\"824.007462\" xlink:href=\"#m792b6a5fbf\" y=\"550.8\"/>\r\n      </g>\r\n     </g>\r\n     <g id=\"text_83\">\r\n      <!-- 2020-04-13 -->\r\n      <g transform=\"translate(826.766837 615.915625)rotate(-90)scale(0.1 -0.1)\">\r\n       <use xlink:href=\"#DejaVuSans-50\"/>\r\n       <use x=\"63.623047\" xlink:href=\"#DejaVuSans-48\"/>\r\n       <use x=\"127.246094\" xlink:href=\"#DejaVuSans-50\"/>\r\n       <use x=\"190.869141\" xlink:href=\"#DejaVuSans-48\"/>\r\n       <use x=\"254.492188\" xlink:href=\"#DejaVuSans-45\"/>\r\n       <use x=\"290.576172\" xlink:href=\"#DejaVuSans-48\"/>\r\n       <use x=\"354.199219\" xlink:href=\"#DejaVuSans-52\"/>\r\n       <use x=\"417.822266\" xlink:href=\"#DejaVuSans-45\"/>\r\n       <use x=\"453.90625\" xlink:href=\"#DejaVuSans-49\"/>\r\n       <use x=\"517.529297\" xlink:href=\"#DejaVuSans-51\"/>\r\n      </g>\r\n     </g>\r\n    </g>\r\n    <g id=\"xtick_84\">\r\n     <g id=\"line2d_84\">\r\n      <g>\r\n       <use style=\"stroke:#000000;stroke-width:0.8;\" x=\"833.117666\" xlink:href=\"#m792b6a5fbf\" y=\"550.8\"/>\r\n      </g>\r\n     </g>\r\n     <g id=\"text_84\">\r\n      <!-- 2020-04-14 -->\r\n      <g transform=\"translate(835.877041 615.915625)rotate(-90)scale(0.1 -0.1)\">\r\n       <use xlink:href=\"#DejaVuSans-50\"/>\r\n       <use x=\"63.623047\" xlink:href=\"#DejaVuSans-48\"/>\r\n       <use x=\"127.246094\" xlink:href=\"#DejaVuSans-50\"/>\r\n       <use x=\"190.869141\" xlink:href=\"#DejaVuSans-48\"/>\r\n       <use x=\"254.492188\" xlink:href=\"#DejaVuSans-45\"/>\r\n       <use x=\"290.576172\" xlink:href=\"#DejaVuSans-48\"/>\r\n       <use x=\"354.199219\" xlink:href=\"#DejaVuSans-52\"/>\r\n       <use x=\"417.822266\" xlink:href=\"#DejaVuSans-45\"/>\r\n       <use x=\"453.90625\" xlink:href=\"#DejaVuSans-49\"/>\r\n       <use x=\"517.529297\" xlink:href=\"#DejaVuSans-52\"/>\r\n      </g>\r\n     </g>\r\n    </g>\r\n    <g id=\"xtick_85\">\r\n     <g id=\"line2d_85\">\r\n      <g>\r\n       <use style=\"stroke:#000000;stroke-width:0.8;\" x=\"842.22787\" xlink:href=\"#m792b6a5fbf\" y=\"550.8\"/>\r\n      </g>\r\n     </g>\r\n     <g id=\"text_85\">\r\n      <!-- 2020-04-15 -->\r\n      <g transform=\"translate(844.987245 615.915625)rotate(-90)scale(0.1 -0.1)\">\r\n       <use xlink:href=\"#DejaVuSans-50\"/>\r\n       <use x=\"63.623047\" xlink:href=\"#DejaVuSans-48\"/>\r\n       <use x=\"127.246094\" xlink:href=\"#DejaVuSans-50\"/>\r\n       <use x=\"190.869141\" xlink:href=\"#DejaVuSans-48\"/>\r\n       <use x=\"254.492188\" xlink:href=\"#DejaVuSans-45\"/>\r\n       <use x=\"290.576172\" xlink:href=\"#DejaVuSans-48\"/>\r\n       <use x=\"354.199219\" xlink:href=\"#DejaVuSans-52\"/>\r\n       <use x=\"417.822266\" xlink:href=\"#DejaVuSans-45\"/>\r\n       <use x=\"453.90625\" xlink:href=\"#DejaVuSans-49\"/>\r\n       <use x=\"517.529297\" xlink:href=\"#DejaVuSans-53\"/>\r\n      </g>\r\n     </g>\r\n    </g>\r\n    <g id=\"xtick_86\">\r\n     <g id=\"line2d_86\">\r\n      <g>\r\n       <use style=\"stroke:#000000;stroke-width:0.8;\" x=\"851.338074\" xlink:href=\"#m792b6a5fbf\" y=\"550.8\"/>\r\n      </g>\r\n     </g>\r\n     <g id=\"text_86\">\r\n      <!-- 2020-04-16 -->\r\n      <g transform=\"translate(854.097449 615.915625)rotate(-90)scale(0.1 -0.1)\">\r\n       <use xlink:href=\"#DejaVuSans-50\"/>\r\n       <use x=\"63.623047\" xlink:href=\"#DejaVuSans-48\"/>\r\n       <use x=\"127.246094\" xlink:href=\"#DejaVuSans-50\"/>\r\n       <use x=\"190.869141\" xlink:href=\"#DejaVuSans-48\"/>\r\n       <use x=\"254.492188\" xlink:href=\"#DejaVuSans-45\"/>\r\n       <use x=\"290.576172\" xlink:href=\"#DejaVuSans-48\"/>\r\n       <use x=\"354.199219\" xlink:href=\"#DejaVuSans-52\"/>\r\n       <use x=\"417.822266\" xlink:href=\"#DejaVuSans-45\"/>\r\n       <use x=\"453.90625\" xlink:href=\"#DejaVuSans-49\"/>\r\n       <use x=\"517.529297\" xlink:href=\"#DejaVuSans-54\"/>\r\n      </g>\r\n     </g>\r\n    </g>\r\n    <g id=\"xtick_87\">\r\n     <g id=\"line2d_87\">\r\n      <g>\r\n       <use style=\"stroke:#000000;stroke-width:0.8;\" x=\"860.448278\" xlink:href=\"#m792b6a5fbf\" y=\"550.8\"/>\r\n      </g>\r\n     </g>\r\n     <g id=\"text_87\">\r\n      <!-- 2020-04-17 -->\r\n      <g transform=\"translate(863.207653 615.915625)rotate(-90)scale(0.1 -0.1)\">\r\n       <use xlink:href=\"#DejaVuSans-50\"/>\r\n       <use x=\"63.623047\" xlink:href=\"#DejaVuSans-48\"/>\r\n       <use x=\"127.246094\" xlink:href=\"#DejaVuSans-50\"/>\r\n       <use x=\"190.869141\" xlink:href=\"#DejaVuSans-48\"/>\r\n       <use x=\"254.492188\" xlink:href=\"#DejaVuSans-45\"/>\r\n       <use x=\"290.576172\" xlink:href=\"#DejaVuSans-48\"/>\r\n       <use x=\"354.199219\" xlink:href=\"#DejaVuSans-52\"/>\r\n       <use x=\"417.822266\" xlink:href=\"#DejaVuSans-45\"/>\r\n       <use x=\"453.90625\" xlink:href=\"#DejaVuSans-49\"/>\r\n       <use x=\"517.529297\" xlink:href=\"#DejaVuSans-55\"/>\r\n      </g>\r\n     </g>\r\n    </g>\r\n    <g id=\"xtick_88\">\r\n     <g id=\"line2d_88\">\r\n      <g>\r\n       <use style=\"stroke:#000000;stroke-width:0.8;\" x=\"869.558482\" xlink:href=\"#m792b6a5fbf\" y=\"550.8\"/>\r\n      </g>\r\n     </g>\r\n     <g id=\"text_88\">\r\n      <!-- 2020-04-18 -->\r\n      <g transform=\"translate(872.317857 615.915625)rotate(-90)scale(0.1 -0.1)\">\r\n       <use xlink:href=\"#DejaVuSans-50\"/>\r\n       <use x=\"63.623047\" xlink:href=\"#DejaVuSans-48\"/>\r\n       <use x=\"127.246094\" xlink:href=\"#DejaVuSans-50\"/>\r\n       <use x=\"190.869141\" xlink:href=\"#DejaVuSans-48\"/>\r\n       <use x=\"254.492188\" xlink:href=\"#DejaVuSans-45\"/>\r\n       <use x=\"290.576172\" xlink:href=\"#DejaVuSans-48\"/>\r\n       <use x=\"354.199219\" xlink:href=\"#DejaVuSans-52\"/>\r\n       <use x=\"417.822266\" xlink:href=\"#DejaVuSans-45\"/>\r\n       <use x=\"453.90625\" xlink:href=\"#DejaVuSans-49\"/>\r\n       <use x=\"517.529297\" xlink:href=\"#DejaVuSans-56\"/>\r\n      </g>\r\n     </g>\r\n    </g>\r\n    <g id=\"xtick_89\">\r\n     <g id=\"line2d_89\">\r\n      <g>\r\n       <use style=\"stroke:#000000;stroke-width:0.8;\" x=\"878.668686\" xlink:href=\"#m792b6a5fbf\" y=\"550.8\"/>\r\n      </g>\r\n     </g>\r\n     <g id=\"text_89\">\r\n      <!-- 2020-04-19 -->\r\n      <g transform=\"translate(881.428061 615.915625)rotate(-90)scale(0.1 -0.1)\">\r\n       <use xlink:href=\"#DejaVuSans-50\"/>\r\n       <use x=\"63.623047\" xlink:href=\"#DejaVuSans-48\"/>\r\n       <use x=\"127.246094\" xlink:href=\"#DejaVuSans-50\"/>\r\n       <use x=\"190.869141\" xlink:href=\"#DejaVuSans-48\"/>\r\n       <use x=\"254.492188\" xlink:href=\"#DejaVuSans-45\"/>\r\n       <use x=\"290.576172\" xlink:href=\"#DejaVuSans-48\"/>\r\n       <use x=\"354.199219\" xlink:href=\"#DejaVuSans-52\"/>\r\n       <use x=\"417.822266\" xlink:href=\"#DejaVuSans-45\"/>\r\n       <use x=\"453.90625\" xlink:href=\"#DejaVuSans-49\"/>\r\n       <use x=\"517.529297\" xlink:href=\"#DejaVuSans-57\"/>\r\n      </g>\r\n     </g>\r\n    </g>\r\n    <g id=\"xtick_90\">\r\n     <g id=\"line2d_90\">\r\n      <g>\r\n       <use style=\"stroke:#000000;stroke-width:0.8;\" x=\"887.77889\" xlink:href=\"#m792b6a5fbf\" y=\"550.8\"/>\r\n      </g>\r\n     </g>\r\n     <g id=\"text_90\">\r\n      <!-- 2020-04-20 -->\r\n      <g transform=\"translate(890.538265 615.915625)rotate(-90)scale(0.1 -0.1)\">\r\n       <use xlink:href=\"#DejaVuSans-50\"/>\r\n       <use x=\"63.623047\" xlink:href=\"#DejaVuSans-48\"/>\r\n       <use x=\"127.246094\" xlink:href=\"#DejaVuSans-50\"/>\r\n       <use x=\"190.869141\" xlink:href=\"#DejaVuSans-48\"/>\r\n       <use x=\"254.492188\" xlink:href=\"#DejaVuSans-45\"/>\r\n       <use x=\"290.576172\" xlink:href=\"#DejaVuSans-48\"/>\r\n       <use x=\"354.199219\" xlink:href=\"#DejaVuSans-52\"/>\r\n       <use x=\"417.822266\" xlink:href=\"#DejaVuSans-45\"/>\r\n       <use x=\"453.90625\" xlink:href=\"#DejaVuSans-50\"/>\r\n       <use x=\"517.529297\" xlink:href=\"#DejaVuSans-48\"/>\r\n      </g>\r\n     </g>\r\n    </g>\r\n    <g id=\"xtick_91\">\r\n     <g id=\"line2d_91\">\r\n      <g>\r\n       <use style=\"stroke:#000000;stroke-width:0.8;\" x=\"896.889094\" xlink:href=\"#m792b6a5fbf\" y=\"550.8\"/>\r\n      </g>\r\n     </g>\r\n     <g id=\"text_91\">\r\n      <!-- 2020-04-21 -->\r\n      <g transform=\"translate(899.648469 615.915625)rotate(-90)scale(0.1 -0.1)\">\r\n       <use xlink:href=\"#DejaVuSans-50\"/>\r\n       <use x=\"63.623047\" xlink:href=\"#DejaVuSans-48\"/>\r\n       <use x=\"127.246094\" xlink:href=\"#DejaVuSans-50\"/>\r\n       <use x=\"190.869141\" xlink:href=\"#DejaVuSans-48\"/>\r\n       <use x=\"254.492188\" xlink:href=\"#DejaVuSans-45\"/>\r\n       <use x=\"290.576172\" xlink:href=\"#DejaVuSans-48\"/>\r\n       <use x=\"354.199219\" xlink:href=\"#DejaVuSans-52\"/>\r\n       <use x=\"417.822266\" xlink:href=\"#DejaVuSans-45\"/>\r\n       <use x=\"453.90625\" xlink:href=\"#DejaVuSans-50\"/>\r\n       <use x=\"517.529297\" xlink:href=\"#DejaVuSans-49\"/>\r\n      </g>\r\n     </g>\r\n    </g>\r\n    <g id=\"xtick_92\">\r\n     <g id=\"line2d_92\">\r\n      <g>\r\n       <use style=\"stroke:#000000;stroke-width:0.8;\" x=\"905.999298\" xlink:href=\"#m792b6a5fbf\" y=\"550.8\"/>\r\n      </g>\r\n     </g>\r\n     <g id=\"text_92\">\r\n      <!-- 2020-04-22 -->\r\n      <g transform=\"translate(908.758673 615.915625)rotate(-90)scale(0.1 -0.1)\">\r\n       <use xlink:href=\"#DejaVuSans-50\"/>\r\n       <use x=\"63.623047\" xlink:href=\"#DejaVuSans-48\"/>\r\n       <use x=\"127.246094\" xlink:href=\"#DejaVuSans-50\"/>\r\n       <use x=\"190.869141\" xlink:href=\"#DejaVuSans-48\"/>\r\n       <use x=\"254.492188\" xlink:href=\"#DejaVuSans-45\"/>\r\n       <use x=\"290.576172\" xlink:href=\"#DejaVuSans-48\"/>\r\n       <use x=\"354.199219\" xlink:href=\"#DejaVuSans-52\"/>\r\n       <use x=\"417.822266\" xlink:href=\"#DejaVuSans-45\"/>\r\n       <use x=\"453.90625\" xlink:href=\"#DejaVuSans-50\"/>\r\n       <use x=\"517.529297\" xlink:href=\"#DejaVuSans-50\"/>\r\n      </g>\r\n     </g>\r\n    </g>\r\n    <g id=\"xtick_93\">\r\n     <g id=\"line2d_93\">\r\n      <g>\r\n       <use style=\"stroke:#000000;stroke-width:0.8;\" x=\"915.109503\" xlink:href=\"#m792b6a5fbf\" y=\"550.8\"/>\r\n      </g>\r\n     </g>\r\n     <g id=\"text_93\">\r\n      <!-- 2020-04-23 -->\r\n      <g transform=\"translate(917.868878 615.915625)rotate(-90)scale(0.1 -0.1)\">\r\n       <use xlink:href=\"#DejaVuSans-50\"/>\r\n       <use x=\"63.623047\" xlink:href=\"#DejaVuSans-48\"/>\r\n       <use x=\"127.246094\" xlink:href=\"#DejaVuSans-50\"/>\r\n       <use x=\"190.869141\" xlink:href=\"#DejaVuSans-48\"/>\r\n       <use x=\"254.492188\" xlink:href=\"#DejaVuSans-45\"/>\r\n       <use x=\"290.576172\" xlink:href=\"#DejaVuSans-48\"/>\r\n       <use x=\"354.199219\" xlink:href=\"#DejaVuSans-52\"/>\r\n       <use x=\"417.822266\" xlink:href=\"#DejaVuSans-45\"/>\r\n       <use x=\"453.90625\" xlink:href=\"#DejaVuSans-50\"/>\r\n       <use x=\"517.529297\" xlink:href=\"#DejaVuSans-51\"/>\r\n      </g>\r\n     </g>\r\n    </g>\r\n    <g id=\"xtick_94\">\r\n     <g id=\"line2d_94\">\r\n      <g>\r\n       <use style=\"stroke:#000000;stroke-width:0.8;\" x=\"924.219707\" xlink:href=\"#m792b6a5fbf\" y=\"550.8\"/>\r\n      </g>\r\n     </g>\r\n     <g id=\"text_94\">\r\n      <!-- 2020-04-24 -->\r\n      <g transform=\"translate(926.979082 615.915625)rotate(-90)scale(0.1 -0.1)\">\r\n       <use xlink:href=\"#DejaVuSans-50\"/>\r\n       <use x=\"63.623047\" xlink:href=\"#DejaVuSans-48\"/>\r\n       <use x=\"127.246094\" xlink:href=\"#DejaVuSans-50\"/>\r\n       <use x=\"190.869141\" xlink:href=\"#DejaVuSans-48\"/>\r\n       <use x=\"254.492188\" xlink:href=\"#DejaVuSans-45\"/>\r\n       <use x=\"290.576172\" xlink:href=\"#DejaVuSans-48\"/>\r\n       <use x=\"354.199219\" xlink:href=\"#DejaVuSans-52\"/>\r\n       <use x=\"417.822266\" xlink:href=\"#DejaVuSans-45\"/>\r\n       <use x=\"453.90625\" xlink:href=\"#DejaVuSans-50\"/>\r\n       <use x=\"517.529297\" xlink:href=\"#DejaVuSans-52\"/>\r\n      </g>\r\n     </g>\r\n    </g>\r\n    <g id=\"xtick_95\">\r\n     <g id=\"line2d_95\">\r\n      <g>\r\n       <use style=\"stroke:#000000;stroke-width:0.8;\" x=\"933.329911\" xlink:href=\"#m792b6a5fbf\" y=\"550.8\"/>\r\n      </g>\r\n     </g>\r\n     <g id=\"text_95\">\r\n      <!-- 2020-04-25 -->\r\n      <g transform=\"translate(936.089286 615.915625)rotate(-90)scale(0.1 -0.1)\">\r\n       <use xlink:href=\"#DejaVuSans-50\"/>\r\n       <use x=\"63.623047\" xlink:href=\"#DejaVuSans-48\"/>\r\n       <use x=\"127.246094\" xlink:href=\"#DejaVuSans-50\"/>\r\n       <use x=\"190.869141\" xlink:href=\"#DejaVuSans-48\"/>\r\n       <use x=\"254.492188\" xlink:href=\"#DejaVuSans-45\"/>\r\n       <use x=\"290.576172\" xlink:href=\"#DejaVuSans-48\"/>\r\n       <use x=\"354.199219\" xlink:href=\"#DejaVuSans-52\"/>\r\n       <use x=\"417.822266\" xlink:href=\"#DejaVuSans-45\"/>\r\n       <use x=\"453.90625\" xlink:href=\"#DejaVuSans-50\"/>\r\n       <use x=\"517.529297\" xlink:href=\"#DejaVuSans-53\"/>\r\n      </g>\r\n     </g>\r\n    </g>\r\n    <g id=\"xtick_96\">\r\n     <g id=\"line2d_96\">\r\n      <g>\r\n       <use style=\"stroke:#000000;stroke-width:0.8;\" x=\"942.440115\" xlink:href=\"#m792b6a5fbf\" y=\"550.8\"/>\r\n      </g>\r\n     </g>\r\n     <g id=\"text_96\">\r\n      <!-- 2020-04-26 -->\r\n      <g transform=\"translate(945.19949 615.915625)rotate(-90)scale(0.1 -0.1)\">\r\n       <use xlink:href=\"#DejaVuSans-50\"/>\r\n       <use x=\"63.623047\" xlink:href=\"#DejaVuSans-48\"/>\r\n       <use x=\"127.246094\" xlink:href=\"#DejaVuSans-50\"/>\r\n       <use x=\"190.869141\" xlink:href=\"#DejaVuSans-48\"/>\r\n       <use x=\"254.492188\" xlink:href=\"#DejaVuSans-45\"/>\r\n       <use x=\"290.576172\" xlink:href=\"#DejaVuSans-48\"/>\r\n       <use x=\"354.199219\" xlink:href=\"#DejaVuSans-52\"/>\r\n       <use x=\"417.822266\" xlink:href=\"#DejaVuSans-45\"/>\r\n       <use x=\"453.90625\" xlink:href=\"#DejaVuSans-50\"/>\r\n       <use x=\"517.529297\" xlink:href=\"#DejaVuSans-54\"/>\r\n      </g>\r\n     </g>\r\n    </g>\r\n    <g id=\"xtick_97\">\r\n     <g id=\"line2d_97\">\r\n      <g>\r\n       <use style=\"stroke:#000000;stroke-width:0.8;\" x=\"951.550319\" xlink:href=\"#m792b6a5fbf\" y=\"550.8\"/>\r\n      </g>\r\n     </g>\r\n     <g id=\"text_97\">\r\n      <!-- 2020-04-27 -->\r\n      <g transform=\"translate(954.309694 615.915625)rotate(-90)scale(0.1 -0.1)\">\r\n       <use xlink:href=\"#DejaVuSans-50\"/>\r\n       <use x=\"63.623047\" xlink:href=\"#DejaVuSans-48\"/>\r\n       <use x=\"127.246094\" xlink:href=\"#DejaVuSans-50\"/>\r\n       <use x=\"190.869141\" xlink:href=\"#DejaVuSans-48\"/>\r\n       <use x=\"254.492188\" xlink:href=\"#DejaVuSans-45\"/>\r\n       <use x=\"290.576172\" xlink:href=\"#DejaVuSans-48\"/>\r\n       <use x=\"354.199219\" xlink:href=\"#DejaVuSans-52\"/>\r\n       <use x=\"417.822266\" xlink:href=\"#DejaVuSans-45\"/>\r\n       <use x=\"453.90625\" xlink:href=\"#DejaVuSans-50\"/>\r\n       <use x=\"517.529297\" xlink:href=\"#DejaVuSans-55\"/>\r\n      </g>\r\n     </g>\r\n    </g>\r\n    <g id=\"xtick_98\">\r\n     <g id=\"line2d_98\">\r\n      <g>\r\n       <use style=\"stroke:#000000;stroke-width:0.8;\" x=\"960.660523\" xlink:href=\"#m792b6a5fbf\" y=\"550.8\"/>\r\n      </g>\r\n     </g>\r\n     <g id=\"text_98\">\r\n      <!-- 2020-04-28 -->\r\n      <g transform=\"translate(963.419898 615.915625)rotate(-90)scale(0.1 -0.1)\">\r\n       <use xlink:href=\"#DejaVuSans-50\"/>\r\n       <use x=\"63.623047\" xlink:href=\"#DejaVuSans-48\"/>\r\n       <use x=\"127.246094\" xlink:href=\"#DejaVuSans-50\"/>\r\n       <use x=\"190.869141\" xlink:href=\"#DejaVuSans-48\"/>\r\n       <use x=\"254.492188\" xlink:href=\"#DejaVuSans-45\"/>\r\n       <use x=\"290.576172\" xlink:href=\"#DejaVuSans-48\"/>\r\n       <use x=\"354.199219\" xlink:href=\"#DejaVuSans-52\"/>\r\n       <use x=\"417.822266\" xlink:href=\"#DejaVuSans-45\"/>\r\n       <use x=\"453.90625\" xlink:href=\"#DejaVuSans-50\"/>\r\n       <use x=\"517.529297\" xlink:href=\"#DejaVuSans-56\"/>\r\n      </g>\r\n     </g>\r\n    </g>\r\n    <g id=\"text_99\">\r\n     <!-- Dates -->\r\n     <defs>\r\n      <path d=\"M 19.671875 64.796875 \r\nL 19.671875 8.109375 \r\nL 31.59375 8.109375 \r\nQ 46.6875 8.109375 53.6875 14.9375 \r\nQ 60.6875 21.78125 60.6875 36.53125 \r\nQ 60.6875 51.171875 53.6875 57.984375 \r\nQ 46.6875 64.796875 31.59375 64.796875 \r\nz\r\nM 9.8125 72.90625 \r\nL 30.078125 72.90625 \r\nQ 51.265625 72.90625 61.171875 64.09375 \r\nQ 71.09375 55.28125 71.09375 36.53125 \r\nQ 71.09375 17.671875 61.125 8.828125 \r\nQ 51.171875 0 30.078125 0 \r\nL 9.8125 0 \r\nz\r\n\" id=\"DejaVuSans-68\"/>\r\n      <path d=\"M 34.28125 27.484375 \r\nQ 23.390625 27.484375 19.1875 25 \r\nQ 14.984375 22.515625 14.984375 16.5 \r\nQ 14.984375 11.71875 18.140625 8.90625 \r\nQ 21.296875 6.109375 26.703125 6.109375 \r\nQ 34.1875 6.109375 38.703125 11.40625 \r\nQ 43.21875 16.703125 43.21875 25.484375 \r\nL 43.21875 27.484375 \r\nz\r\nM 52.203125 31.203125 \r\nL 52.203125 0 \r\nL 43.21875 0 \r\nL 43.21875 8.296875 \r\nQ 40.140625 3.328125 35.546875 0.953125 \r\nQ 30.953125 -1.421875 24.3125 -1.421875 \r\nQ 15.921875 -1.421875 10.953125 3.296875 \r\nQ 6 8.015625 6 15.921875 \r\nQ 6 25.140625 12.171875 29.828125 \r\nQ 18.359375 34.515625 30.609375 34.515625 \r\nL 43.21875 34.515625 \r\nL 43.21875 35.40625 \r\nQ 43.21875 41.609375 39.140625 45 \r\nQ 35.0625 48.390625 27.6875 48.390625 \r\nQ 23 48.390625 18.546875 47.265625 \r\nQ 14.109375 46.140625 10.015625 43.890625 \r\nL 10.015625 52.203125 \r\nQ 14.9375 54.109375 19.578125 55.046875 \r\nQ 24.21875 56 28.609375 56 \r\nQ 40.484375 56 46.34375 49.84375 \r\nQ 52.203125 43.703125 52.203125 31.203125 \r\nz\r\n\" id=\"DejaVuSans-97\"/>\r\n      <path d=\"M 18.3125 70.21875 \r\nL 18.3125 54.6875 \r\nL 36.8125 54.6875 \r\nL 36.8125 47.703125 \r\nL 18.3125 47.703125 \r\nL 18.3125 18.015625 \r\nQ 18.3125 11.328125 20.140625 9.421875 \r\nQ 21.96875 7.515625 27.59375 7.515625 \r\nL 36.8125 7.515625 \r\nL 36.8125 0 \r\nL 27.59375 0 \r\nQ 17.1875 0 13.234375 3.875 \r\nQ 9.28125 7.765625 9.28125 18.015625 \r\nL 9.28125 47.703125 \r\nL 2.6875 47.703125 \r\nL 2.6875 54.6875 \r\nL 9.28125 54.6875 \r\nL 9.28125 70.21875 \r\nz\r\n\" id=\"DejaVuSans-116\"/>\r\n      <path d=\"M 56.203125 29.59375 \r\nL 56.203125 25.203125 \r\nL 14.890625 25.203125 \r\nQ 15.484375 15.921875 20.484375 11.0625 \r\nQ 25.484375 6.203125 34.421875 6.203125 \r\nQ 39.59375 6.203125 44.453125 7.46875 \r\nQ 49.3125 8.734375 54.109375 11.28125 \r\nL 54.109375 2.78125 \r\nQ 49.265625 0.734375 44.1875 -0.34375 \r\nQ 39.109375 -1.421875 33.890625 -1.421875 \r\nQ 20.796875 -1.421875 13.15625 6.1875 \r\nQ 5.515625 13.8125 5.515625 26.8125 \r\nQ 5.515625 40.234375 12.765625 48.109375 \r\nQ 20.015625 56 32.328125 56 \r\nQ 43.359375 56 49.78125 48.890625 \r\nQ 56.203125 41.796875 56.203125 29.59375 \r\nz\r\nM 47.21875 32.234375 \r\nQ 47.125 39.59375 43.09375 43.984375 \r\nQ 39.0625 48.390625 32.421875 48.390625 \r\nQ 24.90625 48.390625 20.390625 44.140625 \r\nQ 15.875 39.890625 15.1875 32.171875 \r\nz\r\n\" id=\"DejaVuSans-101\"/>\r\n      <path d=\"M 44.28125 53.078125 \r\nL 44.28125 44.578125 \r\nQ 40.484375 46.53125 36.375 47.5 \r\nQ 32.28125 48.484375 27.875 48.484375 \r\nQ 21.1875 48.484375 17.84375 46.4375 \r\nQ 14.5 44.390625 14.5 40.28125 \r\nQ 14.5 37.15625 16.890625 35.375 \r\nQ 19.28125 33.59375 26.515625 31.984375 \r\nL 29.59375 31.296875 \r\nQ 39.15625 29.25 43.1875 25.515625 \r\nQ 47.21875 21.78125 47.21875 15.09375 \r\nQ 47.21875 7.46875 41.1875 3.015625 \r\nQ 35.15625 -1.421875 24.609375 -1.421875 \r\nQ 20.21875 -1.421875 15.453125 -0.5625 \r\nQ 10.6875 0.296875 5.421875 2 \r\nL 5.421875 11.28125 \r\nQ 10.40625 8.6875 15.234375 7.390625 \r\nQ 20.0625 6.109375 24.8125 6.109375 \r\nQ 31.15625 6.109375 34.5625 8.28125 \r\nQ 37.984375 10.453125 37.984375 14.40625 \r\nQ 37.984375 18.0625 35.515625 20.015625 \r\nQ 33.0625 21.96875 24.703125 23.78125 \r\nL 21.578125 24.515625 \r\nQ 13.234375 26.265625 9.515625 29.90625 \r\nQ 5.8125 33.546875 5.8125 39.890625 \r\nQ 5.8125 47.609375 11.28125 51.796875 \r\nQ 16.75 56 26.8125 56 \r\nQ 31.78125 56 36.171875 55.265625 \r\nQ 40.578125 54.546875 44.28125 53.078125 \r\nz\r\n\" id=\"DejaVuSans-115\"/>\r\n     </defs>\r\n     <g transform=\"translate(504.260156 627.514063)scale(0.1 -0.1)\">\r\n      <use xlink:href=\"#DejaVuSans-68\"/>\r\n      <use x=\"77.001953\" xlink:href=\"#DejaVuSans-97\"/>\r\n      <use x=\"138.28125\" xlink:href=\"#DejaVuSans-116\"/>\r\n      <use x=\"177.490234\" xlink:href=\"#DejaVuSans-101\"/>\r\n      <use x=\"239.013672\" xlink:href=\"#DejaVuSans-115\"/>\r\n     </g>\r\n    </g>\r\n   </g>\r\n   <g id=\"matplotlib.axis_2\">\r\n    <g id=\"ytick_1\">\r\n     <g id=\"line2d_99\">\r\n      <defs>\r\n       <path d=\"M 0 0 \r\nL -3.5 0 \r\n\" id=\"m919a81a422\" style=\"stroke:#000000;stroke-width:0.8;\"/>\r\n      </defs>\r\n      <g>\r\n       <use style=\"stroke:#000000;stroke-width:0.8;\" x=\"72.415625\" xlink:href=\"#m919a81a422\" y=\"522.710509\"/>\r\n      </g>\r\n     </g>\r\n     <g id=\"text_100\">\r\n      <!-- 0 -->\r\n      <g transform=\"translate(59.053125 526.509728)scale(0.1 -0.1)\">\r\n       <use xlink:href=\"#DejaVuSans-48\"/>\r\n      </g>\r\n     </g>\r\n    </g>\r\n    <g id=\"ytick_2\">\r\n     <g id=\"line2d_100\">\r\n      <g>\r\n       <use style=\"stroke:#000000;stroke-width:0.8;\" x=\"72.415625\" xlink:href=\"#m919a81a422\" y=\"444.500851\"/>\r\n      </g>\r\n     </g>\r\n     <g id=\"text_101\">\r\n      <!-- 500000 -->\r\n      <g transform=\"translate(27.240625 448.300069)scale(0.1 -0.1)\">\r\n       <use xlink:href=\"#DejaVuSans-53\"/>\r\n       <use x=\"63.623047\" xlink:href=\"#DejaVuSans-48\"/>\r\n       <use x=\"127.246094\" xlink:href=\"#DejaVuSans-48\"/>\r\n       <use x=\"190.869141\" xlink:href=\"#DejaVuSans-48\"/>\r\n       <use x=\"254.492188\" xlink:href=\"#DejaVuSans-48\"/>\r\n       <use x=\"318.115234\" xlink:href=\"#DejaVuSans-48\"/>\r\n      </g>\r\n     </g>\r\n    </g>\r\n    <g id=\"ytick_3\">\r\n     <g id=\"line2d_101\">\r\n      <g>\r\n       <use style=\"stroke:#000000;stroke-width:0.8;\" x=\"72.415625\" xlink:href=\"#m919a81a422\" y=\"366.291192\"/>\r\n      </g>\r\n     </g>\r\n     <g id=\"text_102\">\r\n      <!-- 1000000 -->\r\n      <g transform=\"translate(20.878125 370.090411)scale(0.1 -0.1)\">\r\n       <use xlink:href=\"#DejaVuSans-49\"/>\r\n       <use x=\"63.623047\" xlink:href=\"#DejaVuSans-48\"/>\r\n       <use x=\"127.246094\" xlink:href=\"#DejaVuSans-48\"/>\r\n       <use x=\"190.869141\" xlink:href=\"#DejaVuSans-48\"/>\r\n       <use x=\"254.492188\" xlink:href=\"#DejaVuSans-48\"/>\r\n       <use x=\"318.115234\" xlink:href=\"#DejaVuSans-48\"/>\r\n       <use x=\"381.738281\" xlink:href=\"#DejaVuSans-48\"/>\r\n      </g>\r\n     </g>\r\n    </g>\r\n    <g id=\"ytick_4\">\r\n     <g id=\"line2d_102\">\r\n      <g>\r\n       <use style=\"stroke:#000000;stroke-width:0.8;\" x=\"72.415625\" xlink:href=\"#m919a81a422\" y=\"288.081534\"/>\r\n      </g>\r\n     </g>\r\n     <g id=\"text_103\">\r\n      <!-- 1500000 -->\r\n      <g transform=\"translate(20.878125 291.880752)scale(0.1 -0.1)\">\r\n       <use xlink:href=\"#DejaVuSans-49\"/>\r\n       <use x=\"63.623047\" xlink:href=\"#DejaVuSans-53\"/>\r\n       <use x=\"127.246094\" xlink:href=\"#DejaVuSans-48\"/>\r\n       <use x=\"190.869141\" xlink:href=\"#DejaVuSans-48\"/>\r\n       <use x=\"254.492188\" xlink:href=\"#DejaVuSans-48\"/>\r\n       <use x=\"318.115234\" xlink:href=\"#DejaVuSans-48\"/>\r\n       <use x=\"381.738281\" xlink:href=\"#DejaVuSans-48\"/>\r\n      </g>\r\n     </g>\r\n    </g>\r\n    <g id=\"ytick_5\">\r\n     <g id=\"line2d_103\">\r\n      <g>\r\n       <use style=\"stroke:#000000;stroke-width:0.8;\" x=\"72.415625\" xlink:href=\"#m919a81a422\" y=\"209.871875\"/>\r\n      </g>\r\n     </g>\r\n     <g id=\"text_104\">\r\n      <!-- 2000000 -->\r\n      <g transform=\"translate(20.878125 213.671094)scale(0.1 -0.1)\">\r\n       <use xlink:href=\"#DejaVuSans-50\"/>\r\n       <use x=\"63.623047\" xlink:href=\"#DejaVuSans-48\"/>\r\n       <use x=\"127.246094\" xlink:href=\"#DejaVuSans-48\"/>\r\n       <use x=\"190.869141\" xlink:href=\"#DejaVuSans-48\"/>\r\n       <use x=\"254.492188\" xlink:href=\"#DejaVuSans-48\"/>\r\n       <use x=\"318.115234\" xlink:href=\"#DejaVuSans-48\"/>\r\n       <use x=\"381.738281\" xlink:href=\"#DejaVuSans-48\"/>\r\n      </g>\r\n     </g>\r\n    </g>\r\n    <g id=\"ytick_6\">\r\n     <g id=\"line2d_104\">\r\n      <g>\r\n       <use style=\"stroke:#000000;stroke-width:0.8;\" x=\"72.415625\" xlink:href=\"#m919a81a422\" y=\"131.662216\"/>\r\n      </g>\r\n     </g>\r\n     <g id=\"text_105\">\r\n      <!-- 2500000 -->\r\n      <g transform=\"translate(20.878125 135.461435)scale(0.1 -0.1)\">\r\n       <use xlink:href=\"#DejaVuSans-50\"/>\r\n       <use x=\"63.623047\" xlink:href=\"#DejaVuSans-53\"/>\r\n       <use x=\"127.246094\" xlink:href=\"#DejaVuSans-48\"/>\r\n       <use x=\"190.869141\" xlink:href=\"#DejaVuSans-48\"/>\r\n       <use x=\"254.492188\" xlink:href=\"#DejaVuSans-48\"/>\r\n       <use x=\"318.115234\" xlink:href=\"#DejaVuSans-48\"/>\r\n       <use x=\"381.738281\" xlink:href=\"#DejaVuSans-48\"/>\r\n      </g>\r\n     </g>\r\n    </g>\r\n    <g id=\"ytick_7\">\r\n     <g id=\"line2d_105\">\r\n      <g>\r\n       <use style=\"stroke:#000000;stroke-width:0.8;\" x=\"72.415625\" xlink:href=\"#m919a81a422\" y=\"53.452558\"/>\r\n      </g>\r\n     </g>\r\n     <g id=\"text_106\">\r\n      <!-- 3000000 -->\r\n      <g transform=\"translate(20.878125 57.251777)scale(0.1 -0.1)\">\r\n       <use xlink:href=\"#DejaVuSans-51\"/>\r\n       <use x=\"63.623047\" xlink:href=\"#DejaVuSans-48\"/>\r\n       <use x=\"127.246094\" xlink:href=\"#DejaVuSans-48\"/>\r\n       <use x=\"190.869141\" xlink:href=\"#DejaVuSans-48\"/>\r\n       <use x=\"254.492188\" xlink:href=\"#DejaVuSans-48\"/>\r\n       <use x=\"318.115234\" xlink:href=\"#DejaVuSans-48\"/>\r\n       <use x=\"381.738281\" xlink:href=\"#DejaVuSans-48\"/>\r\n      </g>\r\n     </g>\r\n    </g>\r\n    <g id=\"text_107\">\r\n     <!-- Total Confirmed Cases -->\r\n     <defs>\r\n      <path d=\"M -0.296875 72.90625 \r\nL 61.375 72.90625 \r\nL 61.375 64.59375 \r\nL 35.5 64.59375 \r\nL 35.5 0 \r\nL 25.59375 0 \r\nL 25.59375 64.59375 \r\nL -0.296875 64.59375 \r\nz\r\n\" id=\"DejaVuSans-84\"/>\r\n      <path d=\"M 30.609375 48.390625 \r\nQ 23.390625 48.390625 19.1875 42.75 \r\nQ 14.984375 37.109375 14.984375 27.296875 \r\nQ 14.984375 17.484375 19.15625 11.84375 \r\nQ 23.34375 6.203125 30.609375 6.203125 \r\nQ 37.796875 6.203125 41.984375 11.859375 \r\nQ 46.1875 17.53125 46.1875 27.296875 \r\nQ 46.1875 37.015625 41.984375 42.703125 \r\nQ 37.796875 48.390625 30.609375 48.390625 \r\nz\r\nM 30.609375 56 \r\nQ 42.328125 56 49.015625 48.375 \r\nQ 55.71875 40.765625 55.71875 27.296875 \r\nQ 55.71875 13.875 49.015625 6.21875 \r\nQ 42.328125 -1.421875 30.609375 -1.421875 \r\nQ 18.84375 -1.421875 12.171875 6.21875 \r\nQ 5.515625 13.875 5.515625 27.296875 \r\nQ 5.515625 40.765625 12.171875 48.375 \r\nQ 18.84375 56 30.609375 56 \r\nz\r\n\" id=\"DejaVuSans-111\"/>\r\n      <path d=\"M 9.421875 75.984375 \r\nL 18.40625 75.984375 \r\nL 18.40625 0 \r\nL 9.421875 0 \r\nz\r\n\" id=\"DejaVuSans-108\"/>\r\n      <path id=\"DejaVuSans-32\"/>\r\n      <path d=\"M 64.40625 67.28125 \r\nL 64.40625 56.890625 \r\nQ 59.421875 61.53125 53.78125 63.8125 \r\nQ 48.140625 66.109375 41.796875 66.109375 \r\nQ 29.296875 66.109375 22.65625 58.46875 \r\nQ 16.015625 50.828125 16.015625 36.375 \r\nQ 16.015625 21.96875 22.65625 14.328125 \r\nQ 29.296875 6.6875 41.796875 6.6875 \r\nQ 48.140625 6.6875 53.78125 8.984375 \r\nQ 59.421875 11.28125 64.40625 15.921875 \r\nL 64.40625 5.609375 \r\nQ 59.234375 2.09375 53.4375 0.328125 \r\nQ 47.65625 -1.421875 41.21875 -1.421875 \r\nQ 24.65625 -1.421875 15.125 8.703125 \r\nQ 5.609375 18.84375 5.609375 36.375 \r\nQ 5.609375 53.953125 15.125 64.078125 \r\nQ 24.65625 74.21875 41.21875 74.21875 \r\nQ 47.75 74.21875 53.53125 72.484375 \r\nQ 59.328125 70.75 64.40625 67.28125 \r\nz\r\n\" id=\"DejaVuSans-67\"/>\r\n      <path d=\"M 54.890625 33.015625 \r\nL 54.890625 0 \r\nL 45.90625 0 \r\nL 45.90625 32.71875 \r\nQ 45.90625 40.484375 42.875 44.328125 \r\nQ 39.84375 48.1875 33.796875 48.1875 \r\nQ 26.515625 48.1875 22.3125 43.546875 \r\nQ 18.109375 38.921875 18.109375 30.90625 \r\nL 18.109375 0 \r\nL 9.078125 0 \r\nL 9.078125 54.6875 \r\nL 18.109375 54.6875 \r\nL 18.109375 46.1875 \r\nQ 21.34375 51.125 25.703125 53.5625 \r\nQ 30.078125 56 35.796875 56 \r\nQ 45.21875 56 50.046875 50.171875 \r\nQ 54.890625 44.34375 54.890625 33.015625 \r\nz\r\n\" id=\"DejaVuSans-110\"/>\r\n      <path d=\"M 37.109375 75.984375 \r\nL 37.109375 68.5 \r\nL 28.515625 68.5 \r\nQ 23.6875 68.5 21.796875 66.546875 \r\nQ 19.921875 64.59375 19.921875 59.515625 \r\nL 19.921875 54.6875 \r\nL 34.71875 54.6875 \r\nL 34.71875 47.703125 \r\nL 19.921875 47.703125 \r\nL 19.921875 0 \r\nL 10.890625 0 \r\nL 10.890625 47.703125 \r\nL 2.296875 47.703125 \r\nL 2.296875 54.6875 \r\nL 10.890625 54.6875 \r\nL 10.890625 58.5 \r\nQ 10.890625 67.625 15.140625 71.796875 \r\nQ 19.390625 75.984375 28.609375 75.984375 \r\nz\r\n\" id=\"DejaVuSans-102\"/>\r\n      <path d=\"M 9.421875 54.6875 \r\nL 18.40625 54.6875 \r\nL 18.40625 0 \r\nL 9.421875 0 \r\nz\r\nM 9.421875 75.984375 \r\nL 18.40625 75.984375 \r\nL 18.40625 64.59375 \r\nL 9.421875 64.59375 \r\nz\r\n\" id=\"DejaVuSans-105\"/>\r\n      <path d=\"M 41.109375 46.296875 \r\nQ 39.59375 47.171875 37.8125 47.578125 \r\nQ 36.03125 48 33.890625 48 \r\nQ 26.265625 48 22.1875 43.046875 \r\nQ 18.109375 38.09375 18.109375 28.8125 \r\nL 18.109375 0 \r\nL 9.078125 0 \r\nL 9.078125 54.6875 \r\nL 18.109375 54.6875 \r\nL 18.109375 46.1875 \r\nQ 20.953125 51.171875 25.484375 53.578125 \r\nQ 30.03125 56 36.53125 56 \r\nQ 37.453125 56 38.578125 55.875 \r\nQ 39.703125 55.765625 41.0625 55.515625 \r\nz\r\n\" id=\"DejaVuSans-114\"/>\r\n      <path d=\"M 52 44.1875 \r\nQ 55.375 50.25 60.0625 53.125 \r\nQ 64.75 56 71.09375 56 \r\nQ 79.640625 56 84.28125 50.015625 \r\nQ 88.921875 44.046875 88.921875 33.015625 \r\nL 88.921875 0 \r\nL 79.890625 0 \r\nL 79.890625 32.71875 \r\nQ 79.890625 40.578125 77.09375 44.375 \r\nQ 74.3125 48.1875 68.609375 48.1875 \r\nQ 61.625 48.1875 57.5625 43.546875 \r\nQ 53.515625 38.921875 53.515625 30.90625 \r\nL 53.515625 0 \r\nL 44.484375 0 \r\nL 44.484375 32.71875 \r\nQ 44.484375 40.625 41.703125 44.40625 \r\nQ 38.921875 48.1875 33.109375 48.1875 \r\nQ 26.21875 48.1875 22.15625 43.53125 \r\nQ 18.109375 38.875 18.109375 30.90625 \r\nL 18.109375 0 \r\nL 9.078125 0 \r\nL 9.078125 54.6875 \r\nL 18.109375 54.6875 \r\nL 18.109375 46.1875 \r\nQ 21.1875 51.21875 25.484375 53.609375 \r\nQ 29.78125 56 35.6875 56 \r\nQ 41.65625 56 45.828125 52.96875 \r\nQ 50 49.953125 52 44.1875 \r\nz\r\n\" id=\"DejaVuSans-109\"/>\r\n      <path d=\"M 45.40625 46.390625 \r\nL 45.40625 75.984375 \r\nL 54.390625 75.984375 \r\nL 54.390625 0 \r\nL 45.40625 0 \r\nL 45.40625 8.203125 \r\nQ 42.578125 3.328125 38.25 0.953125 \r\nQ 33.9375 -1.421875 27.875 -1.421875 \r\nQ 17.96875 -1.421875 11.734375 6.484375 \r\nQ 5.515625 14.40625 5.515625 27.296875 \r\nQ 5.515625 40.1875 11.734375 48.09375 \r\nQ 17.96875 56 27.875 56 \r\nQ 33.9375 56 38.25 53.625 \r\nQ 42.578125 51.265625 45.40625 46.390625 \r\nz\r\nM 14.796875 27.296875 \r\nQ 14.796875 17.390625 18.875 11.75 \r\nQ 22.953125 6.109375 30.078125 6.109375 \r\nQ 37.203125 6.109375 41.296875 11.75 \r\nQ 45.40625 17.390625 45.40625 27.296875 \r\nQ 45.40625 37.203125 41.296875 42.84375 \r\nQ 37.203125 48.484375 30.078125 48.484375 \r\nQ 22.953125 48.484375 18.875 42.84375 \r\nQ 14.796875 37.203125 14.796875 27.296875 \r\nz\r\n\" id=\"DejaVuSans-100\"/>\r\n     </defs>\r\n     <g transform=\"translate(14.798438 335.577344)rotate(-90)scale(0.1 -0.1)\">\r\n      <use xlink:href=\"#DejaVuSans-84\"/>\r\n      <use x=\"60.818359\" xlink:href=\"#DejaVuSans-111\"/>\r\n      <use x=\"122\" xlink:href=\"#DejaVuSans-116\"/>\r\n      <use x=\"161.208984\" xlink:href=\"#DejaVuSans-97\"/>\r\n      <use x=\"222.488281\" xlink:href=\"#DejaVuSans-108\"/>\r\n      <use x=\"250.271484\" xlink:href=\"#DejaVuSans-32\"/>\r\n      <use x=\"282.058594\" xlink:href=\"#DejaVuSans-67\"/>\r\n      <use x=\"351.882812\" xlink:href=\"#DejaVuSans-111\"/>\r\n      <use x=\"413.064453\" xlink:href=\"#DejaVuSans-110\"/>\r\n      <use x=\"476.443359\" xlink:href=\"#DejaVuSans-102\"/>\r\n      <use x=\"511.648438\" xlink:href=\"#DejaVuSans-105\"/>\r\n      <use x=\"539.431641\" xlink:href=\"#DejaVuSans-114\"/>\r\n      <use x=\"580.529297\" xlink:href=\"#DejaVuSans-109\"/>\r\n      <use x=\"677.941406\" xlink:href=\"#DejaVuSans-101\"/>\r\n      <use x=\"739.464844\" xlink:href=\"#DejaVuSans-100\"/>\r\n      <use x=\"802.941406\" xlink:href=\"#DejaVuSans-32\"/>\r\n      <use x=\"834.728516\" xlink:href=\"#DejaVuSans-67\"/>\r\n      <use x=\"904.552734\" xlink:href=\"#DejaVuSans-97\"/>\r\n      <use x=\"965.832031\" xlink:href=\"#DejaVuSans-115\"/>\r\n      <use x=\"1017.931641\" xlink:href=\"#DejaVuSans-101\"/>\r\n      <use x=\"1079.455078\" xlink:href=\"#DejaVuSans-115\"/>\r\n     </g>\r\n    </g>\r\n   </g>\r\n   <g id=\"line2d_106\">\r\n    <path clip-path=\"url(#p4a97659bca)\" d=\"M 76.970727 522.623697 \r\nL 86.080931 522.608211 \r\nL 95.191135 522.563319 \r\nL 104.301339 522.486204 \r\nL 113.411543 522.379213 \r\nL 122.521747 522.25267 \r\nL 131.631952 521.838002 \r\nL 140.742156 521.746028 \r\nL 149.85236 521.422553 \r\nL 158.962564 521.157735 \r\nL 168.072768 520.827534 \r\nL 177.182972 520.084698 \r\nL 186.293176 519.600737 \r\nL 195.40338 518.973339 \r\nL 204.513584 518.387861 \r\nL 213.623788 517.893733 \r\nL 222.733992 517.331093 \r\nL 231.844196 516.904224 \r\nL 240.954401 516.430274 \r\nL 250.064605 516.021706 \r\nL 259.174809 515.702611 \r\nL 268.285013 515.401191 \r\nL 277.395217 513.267788 \r\nL 286.505421 512.248403 \r\nL 295.615625 511.912884 \r\nL 304.725829 511.5697 \r\nL 313.836033 511.251543 \r\nL 322.946237 510.957787 \r\nL 332.056441 510.879109 \r\nL 341.166645 510.791827 \r\nL 350.276849 510.694534 \r\nL 359.387054 510.420331 \r\nL 368.497258 510.359953 \r\nL 377.607462 510.265632 \r\nL 386.717666 510.133458 \r\nL 395.82787 509.979854 \r\nL 404.938074 509.767436 \r\nL 414.048278 509.553768 \r\nL 423.158482 509.256727 \r\nL 432.268686 508.887891 \r\nL 441.37889 508.584906 \r\nL 450.489094 508.18854 \r\nL 459.599298 507.831904 \r\nL 468.709503 507.399248 \r\nL 477.819707 506.786866 \r\nL 486.929911 506.153994 \r\nL 496.040115 505.532383 \r\nL 505.150319 504.942839 \r\nL 514.260523 504.15605 \r\nL 523.370727 503.021228 \r\nL 532.480931 502.633777 \r\nL 541.591135 499.995452 \r\nL 550.701339 498.290951 \r\nL 559.811543 496.515592 \r\nL 568.921747 494.304292 \r\nL 578.031952 491.878228 \r\nL 587.142156 489.104445 \r\nL 596.25236 484.76068 \r\nL 605.362564 480.125819 \r\nL 614.472768 475.072224 \r\nL 623.582972 469.994384 \r\nL 632.693176 463.539897 \r\nL 641.80338 457.314878 \r\nL 650.913584 449.549597 \r\nL 660.023788 439.855041 \r\nL 669.133992 429.887689 \r\nL 678.244196 419.34487 \r\nL 687.354401 410.044021 \r\nL 696.464605 400.313958 \r\nL 705.574809 388.564052 \r\nL 714.685013 376.82791 \r\nL 723.795217 364.186414 \r\nL 732.905421 351.294647 \r\nL 742.015625 338.752476 \r\nL 751.125829 327.227814 \r\nL 760.236033 316.014113 \r\nL 769.346237 304.280944 \r\nL 778.456441 291.178949 \r\nL 787.566645 277.830437 \r\nL 796.676849 263.3787 \r\nL 805.787054 251.162977 \r\nL 814.897258 235.655879 \r\nL 824.007462 224.702147 \r\nL 833.117666 213.691948 \r\nL 842.22787 201.190134 \r\nL 851.338074 186.11663 \r\nL 860.448278 172.375036 \r\nL 869.558482 160.234395 \r\nL 878.668686 147.173069 \r\nL 887.77889 136.080436 \r\nL 896.889094 124.026451 \r\nL 905.999298 112.250266 \r\nL 915.109503 99.168137 \r\nL 924.219707 82.92227 \r\nL 933.329911 69.466924 \r\nL 942.440115 57.776301 \r\nL 951.550319 46.920644 \r\nL 960.660523 35.246444 \r\n\" style=\"fill:none;stroke:#ff0000;stroke-linecap:square;stroke-width:2.7;\"/>\r\n   </g>\r\n   <g id=\"line2d_107\">\r\n    <path clip-path=\"url(#p4a97659bca)\" style=\"fill:none;stroke:#ff0000;stroke-linecap:square;stroke-width:2.7;\"/>\r\n   </g>\r\n   <g id=\"line2d_108\">\r\n    <path clip-path=\"url(#p4a97659bca)\" style=\"fill:none;stroke:#ff0000;stroke-linecap:square;stroke-width:2.7;\"/>\r\n   </g>\r\n   <g id=\"line2d_109\">\r\n    <path clip-path=\"url(#p4a97659bca)\" style=\"fill:none;stroke:#ff0000;stroke-linecap:square;stroke-width:2.7;\"/>\r\n   </g>\r\n   <g id=\"line2d_110\">\r\n    <path clip-path=\"url(#p4a97659bca)\" style=\"fill:none;stroke:#ff0000;stroke-linecap:square;stroke-width:2.7;\"/>\r\n   </g>\r\n   <g id=\"line2d_111\">\r\n    <path clip-path=\"url(#p4a97659bca)\" style=\"fill:none;stroke:#ff0000;stroke-linecap:square;stroke-width:2.7;\"/>\r\n   </g>\r\n   <g id=\"line2d_112\">\r\n    <path clip-path=\"url(#p4a97659bca)\" style=\"fill:none;stroke:#ff0000;stroke-linecap:square;stroke-width:2.7;\"/>\r\n   </g>\r\n   <g id=\"line2d_113\">\r\n    <path clip-path=\"url(#p4a97659bca)\" style=\"fill:none;stroke:#ff0000;stroke-linecap:square;stroke-width:2.7;\"/>\r\n   </g>\r\n   <g id=\"line2d_114\">\r\n    <path clip-path=\"url(#p4a97659bca)\" style=\"fill:none;stroke:#ff0000;stroke-linecap:square;stroke-width:2.7;\"/>\r\n   </g>\r\n   <g id=\"line2d_115\">\r\n    <path clip-path=\"url(#p4a97659bca)\" style=\"fill:none;stroke:#ff0000;stroke-linecap:square;stroke-width:2.7;\"/>\r\n   </g>\r\n   <g id=\"line2d_116\">\r\n    <path clip-path=\"url(#p4a97659bca)\" style=\"fill:none;stroke:#ff0000;stroke-linecap:square;stroke-width:2.7;\"/>\r\n   </g>\r\n   <g id=\"line2d_117\">\r\n    <path clip-path=\"url(#p4a97659bca)\" style=\"fill:none;stroke:#ff0000;stroke-linecap:square;stroke-width:2.7;\"/>\r\n   </g>\r\n   <g id=\"line2d_118\">\r\n    <path clip-path=\"url(#p4a97659bca)\" style=\"fill:none;stroke:#ff0000;stroke-linecap:square;stroke-width:2.7;\"/>\r\n   </g>\r\n   <g id=\"line2d_119\">\r\n    <path clip-path=\"url(#p4a97659bca)\" style=\"fill:none;stroke:#ff0000;stroke-linecap:square;stroke-width:2.7;\"/>\r\n   </g>\r\n   <g id=\"line2d_120\">\r\n    <path clip-path=\"url(#p4a97659bca)\" style=\"fill:none;stroke:#ff0000;stroke-linecap:square;stroke-width:2.7;\"/>\r\n   </g>\r\n   <g id=\"line2d_121\">\r\n    <path clip-path=\"url(#p4a97659bca)\" style=\"fill:none;stroke:#ff0000;stroke-linecap:square;stroke-width:2.7;\"/>\r\n   </g>\r\n   <g id=\"line2d_122\">\r\n    <path clip-path=\"url(#p4a97659bca)\" style=\"fill:none;stroke:#ff0000;stroke-linecap:square;stroke-width:2.7;\"/>\r\n   </g>\r\n   <g id=\"line2d_123\">\r\n    <path clip-path=\"url(#p4a97659bca)\" style=\"fill:none;stroke:#ff0000;stroke-linecap:square;stroke-width:2.7;\"/>\r\n   </g>\r\n   <g id=\"line2d_124\">\r\n    <path clip-path=\"url(#p4a97659bca)\" style=\"fill:none;stroke:#ff0000;stroke-linecap:square;stroke-width:2.7;\"/>\r\n   </g>\r\n   <g id=\"line2d_125\">\r\n    <path clip-path=\"url(#p4a97659bca)\" style=\"fill:none;stroke:#ff0000;stroke-linecap:square;stroke-width:2.7;\"/>\r\n   </g>\r\n   <g id=\"line2d_126\">\r\n    <path clip-path=\"url(#p4a97659bca)\" style=\"fill:none;stroke:#ff0000;stroke-linecap:square;stroke-width:2.7;\"/>\r\n   </g>\r\n   <g id=\"line2d_127\">\r\n    <path clip-path=\"url(#p4a97659bca)\" style=\"fill:none;stroke:#ff0000;stroke-linecap:square;stroke-width:2.7;\"/>\r\n   </g>\r\n   <g id=\"line2d_128\">\r\n    <path clip-path=\"url(#p4a97659bca)\" style=\"fill:none;stroke:#ff0000;stroke-linecap:square;stroke-width:2.7;\"/>\r\n   </g>\r\n   <g id=\"line2d_129\">\r\n    <path clip-path=\"url(#p4a97659bca)\" style=\"fill:none;stroke:#ff0000;stroke-linecap:square;stroke-width:2.7;\"/>\r\n   </g>\r\n   <g id=\"line2d_130\">\r\n    <path clip-path=\"url(#p4a97659bca)\" style=\"fill:none;stroke:#ff0000;stroke-linecap:square;stroke-width:2.7;\"/>\r\n   </g>\r\n   <g id=\"line2d_131\">\r\n    <path clip-path=\"url(#p4a97659bca)\" style=\"fill:none;stroke:#ff0000;stroke-linecap:square;stroke-width:2.7;\"/>\r\n   </g>\r\n   <g id=\"line2d_132\">\r\n    <path clip-path=\"url(#p4a97659bca)\" style=\"fill:none;stroke:#ff0000;stroke-linecap:square;stroke-width:2.7;\"/>\r\n   </g>\r\n   <g id=\"line2d_133\">\r\n    <path clip-path=\"url(#p4a97659bca)\" style=\"fill:none;stroke:#ff0000;stroke-linecap:square;stroke-width:2.7;\"/>\r\n   </g>\r\n   <g id=\"line2d_134\">\r\n    <path clip-path=\"url(#p4a97659bca)\" style=\"fill:none;stroke:#ff0000;stroke-linecap:square;stroke-width:2.7;\"/>\r\n   </g>\r\n   <g id=\"line2d_135\">\r\n    <path clip-path=\"url(#p4a97659bca)\" style=\"fill:none;stroke:#ff0000;stroke-linecap:square;stroke-width:2.7;\"/>\r\n   </g>\r\n   <g id=\"line2d_136\">\r\n    <path clip-path=\"url(#p4a97659bca)\" style=\"fill:none;stroke:#ff0000;stroke-linecap:square;stroke-width:2.7;\"/>\r\n   </g>\r\n   <g id=\"line2d_137\">\r\n    <path clip-path=\"url(#p4a97659bca)\" style=\"fill:none;stroke:#ff0000;stroke-linecap:square;stroke-width:2.7;\"/>\r\n   </g>\r\n   <g id=\"line2d_138\">\r\n    <path clip-path=\"url(#p4a97659bca)\" style=\"fill:none;stroke:#ff0000;stroke-linecap:square;stroke-width:2.7;\"/>\r\n   </g>\r\n   <g id=\"line2d_139\">\r\n    <path clip-path=\"url(#p4a97659bca)\" style=\"fill:none;stroke:#ff0000;stroke-linecap:square;stroke-width:2.7;\"/>\r\n   </g>\r\n   <g id=\"line2d_140\">\r\n    <path clip-path=\"url(#p4a97659bca)\" style=\"fill:none;stroke:#ff0000;stroke-linecap:square;stroke-width:2.7;\"/>\r\n   </g>\r\n   <g id=\"line2d_141\">\r\n    <path clip-path=\"url(#p4a97659bca)\" style=\"fill:none;stroke:#ff0000;stroke-linecap:square;stroke-width:2.7;\"/>\r\n   </g>\r\n   <g id=\"line2d_142\">\r\n    <path clip-path=\"url(#p4a97659bca)\" style=\"fill:none;stroke:#ff0000;stroke-linecap:square;stroke-width:2.7;\"/>\r\n   </g>\r\n   <g id=\"line2d_143\">\r\n    <path clip-path=\"url(#p4a97659bca)\" style=\"fill:none;stroke:#ff0000;stroke-linecap:square;stroke-width:2.7;\"/>\r\n   </g>\r\n   <g id=\"line2d_144\">\r\n    <path clip-path=\"url(#p4a97659bca)\" style=\"fill:none;stroke:#ff0000;stroke-linecap:square;stroke-width:2.7;\"/>\r\n   </g>\r\n   <g id=\"line2d_145\">\r\n    <path clip-path=\"url(#p4a97659bca)\" style=\"fill:none;stroke:#ff0000;stroke-linecap:square;stroke-width:2.7;\"/>\r\n   </g>\r\n   <g id=\"line2d_146\">\r\n    <path clip-path=\"url(#p4a97659bca)\" style=\"fill:none;stroke:#ff0000;stroke-linecap:square;stroke-width:2.7;\"/>\r\n   </g>\r\n   <g id=\"line2d_147\">\r\n    <path clip-path=\"url(#p4a97659bca)\" style=\"fill:none;stroke:#ff0000;stroke-linecap:square;stroke-width:2.7;\"/>\r\n   </g>\r\n   <g id=\"line2d_148\">\r\n    <path clip-path=\"url(#p4a97659bca)\" style=\"fill:none;stroke:#ff0000;stroke-linecap:square;stroke-width:2.7;\"/>\r\n   </g>\r\n   <g id=\"line2d_149\">\r\n    <path clip-path=\"url(#p4a97659bca)\" style=\"fill:none;stroke:#ff0000;stroke-linecap:square;stroke-width:2.7;\"/>\r\n   </g>\r\n   <g id=\"line2d_150\">\r\n    <path clip-path=\"url(#p4a97659bca)\" style=\"fill:none;stroke:#ff0000;stroke-linecap:square;stroke-width:2.7;\"/>\r\n   </g>\r\n   <g id=\"line2d_151\">\r\n    <path clip-path=\"url(#p4a97659bca)\" style=\"fill:none;stroke:#ff0000;stroke-linecap:square;stroke-width:2.7;\"/>\r\n   </g>\r\n   <g id=\"line2d_152\">\r\n    <path clip-path=\"url(#p4a97659bca)\" style=\"fill:none;stroke:#ff0000;stroke-linecap:square;stroke-width:2.7;\"/>\r\n   </g>\r\n   <g id=\"line2d_153\">\r\n    <path clip-path=\"url(#p4a97659bca)\" style=\"fill:none;stroke:#ff0000;stroke-linecap:square;stroke-width:2.7;\"/>\r\n   </g>\r\n   <g id=\"line2d_154\">\r\n    <path clip-path=\"url(#p4a97659bca)\" style=\"fill:none;stroke:#ff0000;stroke-linecap:square;stroke-width:2.7;\"/>\r\n   </g>\r\n   <g id=\"line2d_155\">\r\n    <path clip-path=\"url(#p4a97659bca)\" style=\"fill:none;stroke:#ff0000;stroke-linecap:square;stroke-width:2.7;\"/>\r\n   </g>\r\n   <g id=\"line2d_156\">\r\n    <path clip-path=\"url(#p4a97659bca)\" style=\"fill:none;stroke:#ff0000;stroke-linecap:square;stroke-width:2.7;\"/>\r\n   </g>\r\n   <g id=\"line2d_157\">\r\n    <path clip-path=\"url(#p4a97659bca)\" style=\"fill:none;stroke:#ff0000;stroke-linecap:square;stroke-width:2.7;\"/>\r\n   </g>\r\n   <g id=\"line2d_158\">\r\n    <path clip-path=\"url(#p4a97659bca)\" style=\"fill:none;stroke:#ff0000;stroke-linecap:square;stroke-width:2.7;\"/>\r\n   </g>\r\n   <g id=\"line2d_159\">\r\n    <path clip-path=\"url(#p4a97659bca)\" style=\"fill:none;stroke:#ff0000;stroke-linecap:square;stroke-width:2.7;\"/>\r\n   </g>\r\n   <g id=\"line2d_160\">\r\n    <path clip-path=\"url(#p4a97659bca)\" style=\"fill:none;stroke:#ff0000;stroke-linecap:square;stroke-width:2.7;\"/>\r\n   </g>\r\n   <g id=\"line2d_161\">\r\n    <path clip-path=\"url(#p4a97659bca)\" style=\"fill:none;stroke:#ff0000;stroke-linecap:square;stroke-width:2.7;\"/>\r\n   </g>\r\n   <g id=\"line2d_162\">\r\n    <path clip-path=\"url(#p4a97659bca)\" style=\"fill:none;stroke:#ff0000;stroke-linecap:square;stroke-width:2.7;\"/>\r\n   </g>\r\n   <g id=\"line2d_163\">\r\n    <path clip-path=\"url(#p4a97659bca)\" style=\"fill:none;stroke:#ff0000;stroke-linecap:square;stroke-width:2.7;\"/>\r\n   </g>\r\n   <g id=\"line2d_164\">\r\n    <path clip-path=\"url(#p4a97659bca)\" style=\"fill:none;stroke:#ff0000;stroke-linecap:square;stroke-width:2.7;\"/>\r\n   </g>\r\n   <g id=\"line2d_165\">\r\n    <path clip-path=\"url(#p4a97659bca)\" style=\"fill:none;stroke:#ff0000;stroke-linecap:square;stroke-width:2.7;\"/>\r\n   </g>\r\n   <g id=\"line2d_166\">\r\n    <path clip-path=\"url(#p4a97659bca)\" style=\"fill:none;stroke:#ff0000;stroke-linecap:square;stroke-width:2.7;\"/>\r\n   </g>\r\n   <g id=\"line2d_167\">\r\n    <path clip-path=\"url(#p4a97659bca)\" style=\"fill:none;stroke:#ff0000;stroke-linecap:square;stroke-width:2.7;\"/>\r\n   </g>\r\n   <g id=\"line2d_168\">\r\n    <path clip-path=\"url(#p4a97659bca)\" style=\"fill:none;stroke:#ff0000;stroke-linecap:square;stroke-width:2.7;\"/>\r\n   </g>\r\n   <g id=\"line2d_169\">\r\n    <path clip-path=\"url(#p4a97659bca)\" style=\"fill:none;stroke:#ff0000;stroke-linecap:square;stroke-width:2.7;\"/>\r\n   </g>\r\n   <g id=\"line2d_170\">\r\n    <path clip-path=\"url(#p4a97659bca)\" style=\"fill:none;stroke:#ff0000;stroke-linecap:square;stroke-width:2.7;\"/>\r\n   </g>\r\n   <g id=\"line2d_171\">\r\n    <path clip-path=\"url(#p4a97659bca)\" style=\"fill:none;stroke:#ff0000;stroke-linecap:square;stroke-width:2.7;\"/>\r\n   </g>\r\n   <g id=\"line2d_172\">\r\n    <path clip-path=\"url(#p4a97659bca)\" style=\"fill:none;stroke:#ff0000;stroke-linecap:square;stroke-width:2.7;\"/>\r\n   </g>\r\n   <g id=\"line2d_173\">\r\n    <path clip-path=\"url(#p4a97659bca)\" style=\"fill:none;stroke:#ff0000;stroke-linecap:square;stroke-width:2.7;\"/>\r\n   </g>\r\n   <g id=\"line2d_174\">\r\n    <path clip-path=\"url(#p4a97659bca)\" style=\"fill:none;stroke:#ff0000;stroke-linecap:square;stroke-width:2.7;\"/>\r\n   </g>\r\n   <g id=\"line2d_175\">\r\n    <path clip-path=\"url(#p4a97659bca)\" style=\"fill:none;stroke:#ff0000;stroke-linecap:square;stroke-width:2.7;\"/>\r\n   </g>\r\n   <g id=\"line2d_176\">\r\n    <path clip-path=\"url(#p4a97659bca)\" style=\"fill:none;stroke:#ff0000;stroke-linecap:square;stroke-width:2.7;\"/>\r\n   </g>\r\n   <g id=\"line2d_177\">\r\n    <path clip-path=\"url(#p4a97659bca)\" style=\"fill:none;stroke:#ff0000;stroke-linecap:square;stroke-width:2.7;\"/>\r\n   </g>\r\n   <g id=\"line2d_178\">\r\n    <path clip-path=\"url(#p4a97659bca)\" style=\"fill:none;stroke:#ff0000;stroke-linecap:square;stroke-width:2.7;\"/>\r\n   </g>\r\n   <g id=\"line2d_179\">\r\n    <path clip-path=\"url(#p4a97659bca)\" style=\"fill:none;stroke:#ff0000;stroke-linecap:square;stroke-width:2.7;\"/>\r\n   </g>\r\n   <g id=\"line2d_180\">\r\n    <path clip-path=\"url(#p4a97659bca)\" style=\"fill:none;stroke:#ff0000;stroke-linecap:square;stroke-width:2.7;\"/>\r\n   </g>\r\n   <g id=\"line2d_181\">\r\n    <path clip-path=\"url(#p4a97659bca)\" style=\"fill:none;stroke:#ff0000;stroke-linecap:square;stroke-width:2.7;\"/>\r\n   </g>\r\n   <g id=\"line2d_182\">\r\n    <path clip-path=\"url(#p4a97659bca)\" style=\"fill:none;stroke:#ff0000;stroke-linecap:square;stroke-width:2.7;\"/>\r\n   </g>\r\n   <g id=\"line2d_183\">\r\n    <path clip-path=\"url(#p4a97659bca)\" style=\"fill:none;stroke:#ff0000;stroke-linecap:square;stroke-width:2.7;\"/>\r\n   </g>\r\n   <g id=\"line2d_184\">\r\n    <path clip-path=\"url(#p4a97659bca)\" style=\"fill:none;stroke:#ff0000;stroke-linecap:square;stroke-width:2.7;\"/>\r\n   </g>\r\n   <g id=\"line2d_185\">\r\n    <path clip-path=\"url(#p4a97659bca)\" style=\"fill:none;stroke:#ff0000;stroke-linecap:square;stroke-width:2.7;\"/>\r\n   </g>\r\n   <g id=\"line2d_186\">\r\n    <path clip-path=\"url(#p4a97659bca)\" style=\"fill:none;stroke:#ff0000;stroke-linecap:square;stroke-width:2.7;\"/>\r\n   </g>\r\n   <g id=\"line2d_187\">\r\n    <path clip-path=\"url(#p4a97659bca)\" style=\"fill:none;stroke:#ff0000;stroke-linecap:square;stroke-width:2.7;\"/>\r\n   </g>\r\n   <g id=\"line2d_188\">\r\n    <path clip-path=\"url(#p4a97659bca)\" style=\"fill:none;stroke:#ff0000;stroke-linecap:square;stroke-width:2.7;\"/>\r\n   </g>\r\n   <g id=\"line2d_189\">\r\n    <path clip-path=\"url(#p4a97659bca)\" style=\"fill:none;stroke:#ff0000;stroke-linecap:square;stroke-width:2.7;\"/>\r\n   </g>\r\n   <g id=\"line2d_190\">\r\n    <path clip-path=\"url(#p4a97659bca)\" style=\"fill:none;stroke:#ff0000;stroke-linecap:square;stroke-width:2.7;\"/>\r\n   </g>\r\n   <g id=\"line2d_191\">\r\n    <path clip-path=\"url(#p4a97659bca)\" style=\"fill:none;stroke:#ff0000;stroke-linecap:square;stroke-width:2.7;\"/>\r\n   </g>\r\n   <g id=\"line2d_192\">\r\n    <path clip-path=\"url(#p4a97659bca)\" style=\"fill:none;stroke:#ff0000;stroke-linecap:square;stroke-width:2.7;\"/>\r\n   </g>\r\n   <g id=\"line2d_193\">\r\n    <path clip-path=\"url(#p4a97659bca)\" style=\"fill:none;stroke:#ff0000;stroke-linecap:square;stroke-width:2.7;\"/>\r\n   </g>\r\n   <g id=\"line2d_194\">\r\n    <path clip-path=\"url(#p4a97659bca)\" style=\"fill:none;stroke:#ff0000;stroke-linecap:square;stroke-width:2.7;\"/>\r\n   </g>\r\n   <g id=\"line2d_195\">\r\n    <path clip-path=\"url(#p4a97659bca)\" style=\"fill:none;stroke:#ff0000;stroke-linecap:square;stroke-width:2.7;\"/>\r\n   </g>\r\n   <g id=\"line2d_196\">\r\n    <path clip-path=\"url(#p4a97659bca)\" style=\"fill:none;stroke:#ff0000;stroke-linecap:square;stroke-width:2.7;\"/>\r\n   </g>\r\n   <g id=\"line2d_197\">\r\n    <path clip-path=\"url(#p4a97659bca)\" style=\"fill:none;stroke:#ff0000;stroke-linecap:square;stroke-width:2.7;\"/>\r\n   </g>\r\n   <g id=\"line2d_198\">\r\n    <path clip-path=\"url(#p4a97659bca)\" style=\"fill:none;stroke:#ff0000;stroke-linecap:square;stroke-width:2.7;\"/>\r\n   </g>\r\n   <g id=\"line2d_199\">\r\n    <path clip-path=\"url(#p4a97659bca)\" style=\"fill:none;stroke:#ff0000;stroke-linecap:square;stroke-width:2.7;\"/>\r\n   </g>\r\n   <g id=\"line2d_200\">\r\n    <path clip-path=\"url(#p4a97659bca)\" style=\"fill:none;stroke:#ff0000;stroke-linecap:square;stroke-width:2.7;\"/>\r\n   </g>\r\n   <g id=\"line2d_201\">\r\n    <path clip-path=\"url(#p4a97659bca)\" style=\"fill:none;stroke:#ff0000;stroke-linecap:square;stroke-width:2.7;\"/>\r\n   </g>\r\n   <g id=\"line2d_202\">\r\n    <path clip-path=\"url(#p4a97659bca)\" style=\"fill:none;stroke:#ff0000;stroke-linecap:square;stroke-width:2.7;\"/>\r\n   </g>\r\n   <g id=\"line2d_203\">\r\n    <path clip-path=\"url(#p4a97659bca)\" style=\"fill:none;stroke:#ff0000;stroke-linecap:square;stroke-width:2.7;\"/>\r\n   </g>\r\n   <g id=\"line2d_204\">\r\n    <path clip-path=\"url(#p4a97659bca)\" style=\"fill:none;stroke:#ff0000;stroke-linecap:square;stroke-width:2.7;\"/>\r\n   </g>\r\n   <g id=\"line2d_205\">\r\n    <path clip-path=\"url(#p4a97659bca)\" d=\"M 76.970727 522.70785 \r\nL 86.080931 522.707694 \r\nL 95.191135 522.706442 \r\nL 104.301339 522.70394 \r\nL 113.411543 522.70175 \r\nL 122.521747 522.697683 \r\nL 131.631952 522.690018 \r\nL 140.742156 522.689706 \r\nL 149.85236 522.683762 \r\nL 158.962564 522.677192 \r\nL 168.072768 522.669997 \r\nL 177.182972 522.653885 \r\nL 186.293176 522.643875 \r\nL 195.40338 522.633551 \r\nL 204.513584 522.622289 \r\nL 213.623788 522.611339 \r\nL 222.733992 522.598044 \r\nL 231.844196 522.584435 \r\nL 240.954401 522.568793 \r\nL 250.064605 522.552057 \r\nL 259.174809 522.536415 \r\nL 268.285013 522.535632 \r\nL 277.395217 522.496058 \r\nL 286.505421 522.472283 \r\nL 295.615625 522.449915 \r\nL 304.725829 522.433647 \r\nL 313.836033 522.418318 \r\nL 322.946237 522.396576 \r\nL 332.056441 522.378587 \r\nL 341.166645 522.359035 \r\nL 350.276849 522.358409 \r\nL 359.387054 522.326031 \r\nL 368.497258 522.32431 \r\nL 377.607462 522.299283 \r\nL 386.717666 522.286926 \r\nL 395.82787 522.277228 \r\nL 404.938074 522.270345 \r\nL 414.048278 522.261273 \r\nL 423.158482 522.25048 \r\nL 432.268686 522.241877 \r\nL 441.37889 522.227956 \r\nL 450.489094 522.216224 \r\nL 459.599298 522.201521 \r\nL 468.709503 522.186817 \r\nL 477.819707 522.169298 \r\nL 486.929911 522.153969 \r\nL 496.040115 522.115803 \r\nL 505.150319 522.086709 \r\nL 514.260523 522.04385 \r\nL 523.370727 521.988634 \r\nL 532.480931 521.972054 \r\nL 541.591135 521.864906 \r\nL 550.701339 521.79968 \r\nL 559.811543 521.701605 \r\nL 568.921747 521.593675 \r\nL 578.031952 521.470104 \r\nL 587.142156 521.337304 \r\nL 596.25236 521.158048 \r\nL 605.362564 520.926547 \r\nL 614.472768 520.660165 \r\nL 623.582972 520.392219 \r\nL 632.693176 520.092832 \r\nL 641.80338 519.749804 \r\nL 650.913584 519.338734 \r\nL 660.023788 518.879957 \r\nL 669.133992 518.3486 \r\nL 678.244196 517.805043 \r\nL 687.354401 517.254291 \r\nL 696.464605 516.640814 \r\nL 705.574809 515.890314 \r\nL 714.685013 515.056599 \r\nL 723.795217 514.108855 \r\nL 732.905421 513.175813 \r\nL 742.015625 512.218996 \r\nL 751.125829 511.425638 \r\nL 760.236033 510.555633 \r\nL 769.346237 509.360121 \r\nL 778.456441 508.328379 \r\nL 787.566645 507.185579 \r\nL 796.676849 506.081415 \r\nL 805.787054 505.125537 \r\nL 814.897258 504.224874 \r\nL 824.007462 503.336256 \r\nL 833.117666 502.299353 \r\nL 842.22787 501.026099 \r\nL 851.338074 499.912394 \r\nL 860.448278 498.54044 \r\nL 869.558482 497.573299 \r\nL 878.668686 496.844229 \r\nL 887.77889 496.028815 \r\nL 896.889094 494.966259 \r\nL 905.999298 493.934047 \r\nL 915.109503 492.892608 \r\nL 924.219707 491.940014 \r\nL 933.329911 490.978035 \r\nL 942.440115 490.399284 \r\nL 951.550319 489.679911 \r\nL 960.660523 488.743585 \r\n\" style=\"fill:none;stroke:#0000ff;stroke-linecap:square;stroke-width:2.7;\"/>\r\n   </g>\r\n   <g id=\"line2d_206\">\r\n    <path clip-path=\"url(#p4a97659bca)\" style=\"fill:none;stroke:#0000ff;stroke-linecap:square;stroke-width:2.7;\"/>\r\n   </g>\r\n   <g id=\"line2d_207\">\r\n    <path clip-path=\"url(#p4a97659bca)\" style=\"fill:none;stroke:#0000ff;stroke-linecap:square;stroke-width:2.7;\"/>\r\n   </g>\r\n   <g id=\"line2d_208\">\r\n    <path clip-path=\"url(#p4a97659bca)\" style=\"fill:none;stroke:#0000ff;stroke-linecap:square;stroke-width:2.7;\"/>\r\n   </g>\r\n   <g id=\"line2d_209\">\r\n    <path clip-path=\"url(#p4a97659bca)\" style=\"fill:none;stroke:#0000ff;stroke-linecap:square;stroke-width:2.7;\"/>\r\n   </g>\r\n   <g id=\"line2d_210\">\r\n    <path clip-path=\"url(#p4a97659bca)\" style=\"fill:none;stroke:#0000ff;stroke-linecap:square;stroke-width:2.7;\"/>\r\n   </g>\r\n   <g id=\"line2d_211\">\r\n    <path clip-path=\"url(#p4a97659bca)\" style=\"fill:none;stroke:#0000ff;stroke-linecap:square;stroke-width:2.7;\"/>\r\n   </g>\r\n   <g id=\"line2d_212\">\r\n    <path clip-path=\"url(#p4a97659bca)\" style=\"fill:none;stroke:#0000ff;stroke-linecap:square;stroke-width:2.7;\"/>\r\n   </g>\r\n   <g id=\"line2d_213\">\r\n    <path clip-path=\"url(#p4a97659bca)\" style=\"fill:none;stroke:#0000ff;stroke-linecap:square;stroke-width:2.7;\"/>\r\n   </g>\r\n   <g id=\"line2d_214\">\r\n    <path clip-path=\"url(#p4a97659bca)\" style=\"fill:none;stroke:#0000ff;stroke-linecap:square;stroke-width:2.7;\"/>\r\n   </g>\r\n   <g id=\"line2d_215\">\r\n    <path clip-path=\"url(#p4a97659bca)\" style=\"fill:none;stroke:#0000ff;stroke-linecap:square;stroke-width:2.7;\"/>\r\n   </g>\r\n   <g id=\"line2d_216\">\r\n    <path clip-path=\"url(#p4a97659bca)\" style=\"fill:none;stroke:#0000ff;stroke-linecap:square;stroke-width:2.7;\"/>\r\n   </g>\r\n   <g id=\"line2d_217\">\r\n    <path clip-path=\"url(#p4a97659bca)\" style=\"fill:none;stroke:#0000ff;stroke-linecap:square;stroke-width:2.7;\"/>\r\n   </g>\r\n   <g id=\"line2d_218\">\r\n    <path clip-path=\"url(#p4a97659bca)\" style=\"fill:none;stroke:#0000ff;stroke-linecap:square;stroke-width:2.7;\"/>\r\n   </g>\r\n   <g id=\"line2d_219\">\r\n    <path clip-path=\"url(#p4a97659bca)\" style=\"fill:none;stroke:#0000ff;stroke-linecap:square;stroke-width:2.7;\"/>\r\n   </g>\r\n   <g id=\"line2d_220\">\r\n    <path clip-path=\"url(#p4a97659bca)\" style=\"fill:none;stroke:#0000ff;stroke-linecap:square;stroke-width:2.7;\"/>\r\n   </g>\r\n   <g id=\"line2d_221\">\r\n    <path clip-path=\"url(#p4a97659bca)\" style=\"fill:none;stroke:#0000ff;stroke-linecap:square;stroke-width:2.7;\"/>\r\n   </g>\r\n   <g id=\"line2d_222\">\r\n    <path clip-path=\"url(#p4a97659bca)\" style=\"fill:none;stroke:#0000ff;stroke-linecap:square;stroke-width:2.7;\"/>\r\n   </g>\r\n   <g id=\"line2d_223\">\r\n    <path clip-path=\"url(#p4a97659bca)\" style=\"fill:none;stroke:#0000ff;stroke-linecap:square;stroke-width:2.7;\"/>\r\n   </g>\r\n   <g id=\"line2d_224\">\r\n    <path clip-path=\"url(#p4a97659bca)\" style=\"fill:none;stroke:#0000ff;stroke-linecap:square;stroke-width:2.7;\"/>\r\n   </g>\r\n   <g id=\"line2d_225\">\r\n    <path clip-path=\"url(#p4a97659bca)\" style=\"fill:none;stroke:#0000ff;stroke-linecap:square;stroke-width:2.7;\"/>\r\n   </g>\r\n   <g id=\"line2d_226\">\r\n    <path clip-path=\"url(#p4a97659bca)\" style=\"fill:none;stroke:#0000ff;stroke-linecap:square;stroke-width:2.7;\"/>\r\n   </g>\r\n   <g id=\"line2d_227\">\r\n    <path clip-path=\"url(#p4a97659bca)\" style=\"fill:none;stroke:#0000ff;stroke-linecap:square;stroke-width:2.7;\"/>\r\n   </g>\r\n   <g id=\"line2d_228\">\r\n    <path clip-path=\"url(#p4a97659bca)\" style=\"fill:none;stroke:#0000ff;stroke-linecap:square;stroke-width:2.7;\"/>\r\n   </g>\r\n   <g id=\"line2d_229\">\r\n    <path clip-path=\"url(#p4a97659bca)\" style=\"fill:none;stroke:#0000ff;stroke-linecap:square;stroke-width:2.7;\"/>\r\n   </g>\r\n   <g id=\"line2d_230\">\r\n    <path clip-path=\"url(#p4a97659bca)\" style=\"fill:none;stroke:#0000ff;stroke-linecap:square;stroke-width:2.7;\"/>\r\n   </g>\r\n   <g id=\"line2d_231\">\r\n    <path clip-path=\"url(#p4a97659bca)\" style=\"fill:none;stroke:#0000ff;stroke-linecap:square;stroke-width:2.7;\"/>\r\n   </g>\r\n   <g id=\"line2d_232\">\r\n    <path clip-path=\"url(#p4a97659bca)\" style=\"fill:none;stroke:#0000ff;stroke-linecap:square;stroke-width:2.7;\"/>\r\n   </g>\r\n   <g id=\"line2d_233\">\r\n    <path clip-path=\"url(#p4a97659bca)\" style=\"fill:none;stroke:#0000ff;stroke-linecap:square;stroke-width:2.7;\"/>\r\n   </g>\r\n   <g id=\"line2d_234\">\r\n    <path clip-path=\"url(#p4a97659bca)\" style=\"fill:none;stroke:#0000ff;stroke-linecap:square;stroke-width:2.7;\"/>\r\n   </g>\r\n   <g id=\"line2d_235\">\r\n    <path clip-path=\"url(#p4a97659bca)\" style=\"fill:none;stroke:#0000ff;stroke-linecap:square;stroke-width:2.7;\"/>\r\n   </g>\r\n   <g id=\"line2d_236\">\r\n    <path clip-path=\"url(#p4a97659bca)\" style=\"fill:none;stroke:#0000ff;stroke-linecap:square;stroke-width:2.7;\"/>\r\n   </g>\r\n   <g id=\"line2d_237\">\r\n    <path clip-path=\"url(#p4a97659bca)\" style=\"fill:none;stroke:#0000ff;stroke-linecap:square;stroke-width:2.7;\"/>\r\n   </g>\r\n   <g id=\"line2d_238\">\r\n    <path clip-path=\"url(#p4a97659bca)\" style=\"fill:none;stroke:#0000ff;stroke-linecap:square;stroke-width:2.7;\"/>\r\n   </g>\r\n   <g id=\"line2d_239\">\r\n    <path clip-path=\"url(#p4a97659bca)\" style=\"fill:none;stroke:#0000ff;stroke-linecap:square;stroke-width:2.7;\"/>\r\n   </g>\r\n   <g id=\"line2d_240\">\r\n    <path clip-path=\"url(#p4a97659bca)\" style=\"fill:none;stroke:#0000ff;stroke-linecap:square;stroke-width:2.7;\"/>\r\n   </g>\r\n   <g id=\"line2d_241\">\r\n    <path clip-path=\"url(#p4a97659bca)\" style=\"fill:none;stroke:#0000ff;stroke-linecap:square;stroke-width:2.7;\"/>\r\n   </g>\r\n   <g id=\"line2d_242\">\r\n    <path clip-path=\"url(#p4a97659bca)\" style=\"fill:none;stroke:#0000ff;stroke-linecap:square;stroke-width:2.7;\"/>\r\n   </g>\r\n   <g id=\"line2d_243\">\r\n    <path clip-path=\"url(#p4a97659bca)\" style=\"fill:none;stroke:#0000ff;stroke-linecap:square;stroke-width:2.7;\"/>\r\n   </g>\r\n   <g id=\"line2d_244\">\r\n    <path clip-path=\"url(#p4a97659bca)\" style=\"fill:none;stroke:#0000ff;stroke-linecap:square;stroke-width:2.7;\"/>\r\n   </g>\r\n   <g id=\"line2d_245\">\r\n    <path clip-path=\"url(#p4a97659bca)\" style=\"fill:none;stroke:#0000ff;stroke-linecap:square;stroke-width:2.7;\"/>\r\n   </g>\r\n   <g id=\"line2d_246\">\r\n    <path clip-path=\"url(#p4a97659bca)\" style=\"fill:none;stroke:#0000ff;stroke-linecap:square;stroke-width:2.7;\"/>\r\n   </g>\r\n   <g id=\"line2d_247\">\r\n    <path clip-path=\"url(#p4a97659bca)\" style=\"fill:none;stroke:#0000ff;stroke-linecap:square;stroke-width:2.7;\"/>\r\n   </g>\r\n   <g id=\"line2d_248\">\r\n    <path clip-path=\"url(#p4a97659bca)\" style=\"fill:none;stroke:#0000ff;stroke-linecap:square;stroke-width:2.7;\"/>\r\n   </g>\r\n   <g id=\"line2d_249\">\r\n    <path clip-path=\"url(#p4a97659bca)\" style=\"fill:none;stroke:#0000ff;stroke-linecap:square;stroke-width:2.7;\"/>\r\n   </g>\r\n   <g id=\"line2d_250\">\r\n    <path clip-path=\"url(#p4a97659bca)\" style=\"fill:none;stroke:#0000ff;stroke-linecap:square;stroke-width:2.7;\"/>\r\n   </g>\r\n   <g id=\"line2d_251\">\r\n    <path clip-path=\"url(#p4a97659bca)\" style=\"fill:none;stroke:#0000ff;stroke-linecap:square;stroke-width:2.7;\"/>\r\n   </g>\r\n   <g id=\"line2d_252\">\r\n    <path clip-path=\"url(#p4a97659bca)\" style=\"fill:none;stroke:#0000ff;stroke-linecap:square;stroke-width:2.7;\"/>\r\n   </g>\r\n   <g id=\"line2d_253\">\r\n    <path clip-path=\"url(#p4a97659bca)\" style=\"fill:none;stroke:#0000ff;stroke-linecap:square;stroke-width:2.7;\"/>\r\n   </g>\r\n   <g id=\"line2d_254\">\r\n    <path clip-path=\"url(#p4a97659bca)\" style=\"fill:none;stroke:#0000ff;stroke-linecap:square;stroke-width:2.7;\"/>\r\n   </g>\r\n   <g id=\"line2d_255\">\r\n    <path clip-path=\"url(#p4a97659bca)\" style=\"fill:none;stroke:#0000ff;stroke-linecap:square;stroke-width:2.7;\"/>\r\n   </g>\r\n   <g id=\"line2d_256\">\r\n    <path clip-path=\"url(#p4a97659bca)\" style=\"fill:none;stroke:#0000ff;stroke-linecap:square;stroke-width:2.7;\"/>\r\n   </g>\r\n   <g id=\"line2d_257\">\r\n    <path clip-path=\"url(#p4a97659bca)\" style=\"fill:none;stroke:#0000ff;stroke-linecap:square;stroke-width:2.7;\"/>\r\n   </g>\r\n   <g id=\"line2d_258\">\r\n    <path clip-path=\"url(#p4a97659bca)\" style=\"fill:none;stroke:#0000ff;stroke-linecap:square;stroke-width:2.7;\"/>\r\n   </g>\r\n   <g id=\"line2d_259\">\r\n    <path clip-path=\"url(#p4a97659bca)\" style=\"fill:none;stroke:#0000ff;stroke-linecap:square;stroke-width:2.7;\"/>\r\n   </g>\r\n   <g id=\"line2d_260\">\r\n    <path clip-path=\"url(#p4a97659bca)\" style=\"fill:none;stroke:#0000ff;stroke-linecap:square;stroke-width:2.7;\"/>\r\n   </g>\r\n   <g id=\"line2d_261\">\r\n    <path clip-path=\"url(#p4a97659bca)\" style=\"fill:none;stroke:#0000ff;stroke-linecap:square;stroke-width:2.7;\"/>\r\n   </g>\r\n   <g id=\"line2d_262\">\r\n    <path clip-path=\"url(#p4a97659bca)\" style=\"fill:none;stroke:#0000ff;stroke-linecap:square;stroke-width:2.7;\"/>\r\n   </g>\r\n   <g id=\"line2d_263\">\r\n    <path clip-path=\"url(#p4a97659bca)\" style=\"fill:none;stroke:#0000ff;stroke-linecap:square;stroke-width:2.7;\"/>\r\n   </g>\r\n   <g id=\"line2d_264\">\r\n    <path clip-path=\"url(#p4a97659bca)\" style=\"fill:none;stroke:#0000ff;stroke-linecap:square;stroke-width:2.7;\"/>\r\n   </g>\r\n   <g id=\"line2d_265\">\r\n    <path clip-path=\"url(#p4a97659bca)\" style=\"fill:none;stroke:#0000ff;stroke-linecap:square;stroke-width:2.7;\"/>\r\n   </g>\r\n   <g id=\"line2d_266\">\r\n    <path clip-path=\"url(#p4a97659bca)\" style=\"fill:none;stroke:#0000ff;stroke-linecap:square;stroke-width:2.7;\"/>\r\n   </g>\r\n   <g id=\"line2d_267\">\r\n    <path clip-path=\"url(#p4a97659bca)\" style=\"fill:none;stroke:#0000ff;stroke-linecap:square;stroke-width:2.7;\"/>\r\n   </g>\r\n   <g id=\"line2d_268\">\r\n    <path clip-path=\"url(#p4a97659bca)\" style=\"fill:none;stroke:#0000ff;stroke-linecap:square;stroke-width:2.7;\"/>\r\n   </g>\r\n   <g id=\"line2d_269\">\r\n    <path clip-path=\"url(#p4a97659bca)\" style=\"fill:none;stroke:#0000ff;stroke-linecap:square;stroke-width:2.7;\"/>\r\n   </g>\r\n   <g id=\"line2d_270\">\r\n    <path clip-path=\"url(#p4a97659bca)\" style=\"fill:none;stroke:#0000ff;stroke-linecap:square;stroke-width:2.7;\"/>\r\n   </g>\r\n   <g id=\"line2d_271\">\r\n    <path clip-path=\"url(#p4a97659bca)\" style=\"fill:none;stroke:#0000ff;stroke-linecap:square;stroke-width:2.7;\"/>\r\n   </g>\r\n   <g id=\"line2d_272\">\r\n    <path clip-path=\"url(#p4a97659bca)\" style=\"fill:none;stroke:#0000ff;stroke-linecap:square;stroke-width:2.7;\"/>\r\n   </g>\r\n   <g id=\"line2d_273\">\r\n    <path clip-path=\"url(#p4a97659bca)\" style=\"fill:none;stroke:#0000ff;stroke-linecap:square;stroke-width:2.7;\"/>\r\n   </g>\r\n   <g id=\"line2d_274\">\r\n    <path clip-path=\"url(#p4a97659bca)\" style=\"fill:none;stroke:#0000ff;stroke-linecap:square;stroke-width:2.7;\"/>\r\n   </g>\r\n   <g id=\"line2d_275\">\r\n    <path clip-path=\"url(#p4a97659bca)\" style=\"fill:none;stroke:#0000ff;stroke-linecap:square;stroke-width:2.7;\"/>\r\n   </g>\r\n   <g id=\"line2d_276\">\r\n    <path clip-path=\"url(#p4a97659bca)\" style=\"fill:none;stroke:#0000ff;stroke-linecap:square;stroke-width:2.7;\"/>\r\n   </g>\r\n   <g id=\"line2d_277\">\r\n    <path clip-path=\"url(#p4a97659bca)\" style=\"fill:none;stroke:#0000ff;stroke-linecap:square;stroke-width:2.7;\"/>\r\n   </g>\r\n   <g id=\"line2d_278\">\r\n    <path clip-path=\"url(#p4a97659bca)\" style=\"fill:none;stroke:#0000ff;stroke-linecap:square;stroke-width:2.7;\"/>\r\n   </g>\r\n   <g id=\"line2d_279\">\r\n    <path clip-path=\"url(#p4a97659bca)\" style=\"fill:none;stroke:#0000ff;stroke-linecap:square;stroke-width:2.7;\"/>\r\n   </g>\r\n   <g id=\"line2d_280\">\r\n    <path clip-path=\"url(#p4a97659bca)\" style=\"fill:none;stroke:#0000ff;stroke-linecap:square;stroke-width:2.7;\"/>\r\n   </g>\r\n   <g id=\"line2d_281\">\r\n    <path clip-path=\"url(#p4a97659bca)\" style=\"fill:none;stroke:#0000ff;stroke-linecap:square;stroke-width:2.7;\"/>\r\n   </g>\r\n   <g id=\"line2d_282\">\r\n    <path clip-path=\"url(#p4a97659bca)\" style=\"fill:none;stroke:#0000ff;stroke-linecap:square;stroke-width:2.7;\"/>\r\n   </g>\r\n   <g id=\"line2d_283\">\r\n    <path clip-path=\"url(#p4a97659bca)\" style=\"fill:none;stroke:#0000ff;stroke-linecap:square;stroke-width:2.7;\"/>\r\n   </g>\r\n   <g id=\"line2d_284\">\r\n    <path clip-path=\"url(#p4a97659bca)\" style=\"fill:none;stroke:#0000ff;stroke-linecap:square;stroke-width:2.7;\"/>\r\n   </g>\r\n   <g id=\"line2d_285\">\r\n    <path clip-path=\"url(#p4a97659bca)\" style=\"fill:none;stroke:#0000ff;stroke-linecap:square;stroke-width:2.7;\"/>\r\n   </g>\r\n   <g id=\"line2d_286\">\r\n    <path clip-path=\"url(#p4a97659bca)\" style=\"fill:none;stroke:#0000ff;stroke-linecap:square;stroke-width:2.7;\"/>\r\n   </g>\r\n   <g id=\"line2d_287\">\r\n    <path clip-path=\"url(#p4a97659bca)\" style=\"fill:none;stroke:#0000ff;stroke-linecap:square;stroke-width:2.7;\"/>\r\n   </g>\r\n   <g id=\"line2d_288\">\r\n    <path clip-path=\"url(#p4a97659bca)\" style=\"fill:none;stroke:#0000ff;stroke-linecap:square;stroke-width:2.7;\"/>\r\n   </g>\r\n   <g id=\"line2d_289\">\r\n    <path clip-path=\"url(#p4a97659bca)\" style=\"fill:none;stroke:#0000ff;stroke-linecap:square;stroke-width:2.7;\"/>\r\n   </g>\r\n   <g id=\"line2d_290\">\r\n    <path clip-path=\"url(#p4a97659bca)\" style=\"fill:none;stroke:#0000ff;stroke-linecap:square;stroke-width:2.7;\"/>\r\n   </g>\r\n   <g id=\"line2d_291\">\r\n    <path clip-path=\"url(#p4a97659bca)\" style=\"fill:none;stroke:#0000ff;stroke-linecap:square;stroke-width:2.7;\"/>\r\n   </g>\r\n   <g id=\"line2d_292\">\r\n    <path clip-path=\"url(#p4a97659bca)\" style=\"fill:none;stroke:#0000ff;stroke-linecap:square;stroke-width:2.7;\"/>\r\n   </g>\r\n   <g id=\"line2d_293\">\r\n    <path clip-path=\"url(#p4a97659bca)\" style=\"fill:none;stroke:#0000ff;stroke-linecap:square;stroke-width:2.7;\"/>\r\n   </g>\r\n   <g id=\"line2d_294\">\r\n    <path clip-path=\"url(#p4a97659bca)\" style=\"fill:none;stroke:#0000ff;stroke-linecap:square;stroke-width:2.7;\"/>\r\n   </g>\r\n   <g id=\"line2d_295\">\r\n    <path clip-path=\"url(#p4a97659bca)\" style=\"fill:none;stroke:#0000ff;stroke-linecap:square;stroke-width:2.7;\"/>\r\n   </g>\r\n   <g id=\"line2d_296\">\r\n    <path clip-path=\"url(#p4a97659bca)\" style=\"fill:none;stroke:#0000ff;stroke-linecap:square;stroke-width:2.7;\"/>\r\n   </g>\r\n   <g id=\"line2d_297\">\r\n    <path clip-path=\"url(#p4a97659bca)\" style=\"fill:none;stroke:#0000ff;stroke-linecap:square;stroke-width:2.7;\"/>\r\n   </g>\r\n   <g id=\"line2d_298\">\r\n    <path clip-path=\"url(#p4a97659bca)\" style=\"fill:none;stroke:#0000ff;stroke-linecap:square;stroke-width:2.7;\"/>\r\n   </g>\r\n   <g id=\"line2d_299\">\r\n    <path clip-path=\"url(#p4a97659bca)\" style=\"fill:none;stroke:#0000ff;stroke-linecap:square;stroke-width:2.7;\"/>\r\n   </g>\r\n   <g id=\"line2d_300\">\r\n    <path clip-path=\"url(#p4a97659bca)\" style=\"fill:none;stroke:#0000ff;stroke-linecap:square;stroke-width:2.7;\"/>\r\n   </g>\r\n   <g id=\"line2d_301\">\r\n    <path clip-path=\"url(#p4a97659bca)\" style=\"fill:none;stroke:#0000ff;stroke-linecap:square;stroke-width:2.7;\"/>\r\n   </g>\r\n   <g id=\"line2d_302\">\r\n    <path clip-path=\"url(#p4a97659bca)\" style=\"fill:none;stroke:#0000ff;stroke-linecap:square;stroke-width:2.7;\"/>\r\n   </g>\r\n   <g id=\"line2d_303\">\r\n    <path clip-path=\"url(#p4a97659bca)\" style=\"fill:none;stroke:#0000ff;stroke-linecap:square;stroke-width:2.7;\"/>\r\n   </g>\r\n   <g id=\"patch_3\">\r\n    <path d=\"M 72.415625 550.8 \r\nL 72.415625 7.2 \r\n\" style=\"fill:none;stroke:#000000;stroke-linecap:square;stroke-linejoin:miter;stroke-width:0.8;\"/>\r\n   </g>\r\n   <g id=\"patch_4\">\r\n    <path d=\"M 965.215625 550.8 \r\nL 965.215625 7.2 \r\n\" style=\"fill:none;stroke:#000000;stroke-linecap:square;stroke-linejoin:miter;stroke-width:0.8;\"/>\r\n   </g>\r\n   <g id=\"patch_5\">\r\n    <path d=\"M 72.415625 550.8 \r\nL 965.215625 550.8 \r\n\" style=\"fill:none;stroke:#000000;stroke-linecap:square;stroke-linejoin:miter;stroke-width:0.8;\"/>\r\n   </g>\r\n   <g id=\"patch_6\">\r\n    <path d=\"M 72.415625 7.2 \r\nL 965.215625 7.2 \r\n\" style=\"fill:none;stroke:#000000;stroke-linecap:square;stroke-linejoin:miter;stroke-width:0.8;\"/>\r\n   </g>\r\n  </g>\r\n </g>\r\n <defs>\r\n  <clipPath id=\"p4a97659bca\">\r\n   <rect height=\"543.6\" width=\"892.8\" x=\"72.415625\" y=\"7.2\"/>\r\n  </clipPath>\r\n </defs>\r\n</svg>\r\n",
            "image/png": "[encoded data removed]"
          },
          "metadata": {
            "needs_background": "light"
          }
        }
      ]
    },
    {
      "cell_type": "code",
      "metadata": {
        "id": "7-aWzHriS1Xk",
        "colab_type": "code",
        "colab": {
          "base_uri": "https://localhost:8080/",
          "height": 664
        },
        "outputId": "725a3b10-a5a0-440b-e3b4-5b06ff7ef1da"
      },
      "source": [
        "# Dates are overlapping and points are not clear so will have to modifying the plotting paramters\n",
        "# pixel Dimensions\n",
        "plt.figure(figsize=(16,10)) \n",
        "\n",
        "# rotate date/time by 90*, set fontsize = 10\n",
        "plt.xticks(rotation = 90,fontsize = 10 ) \n",
        "\n",
        "# Extract only the date from date-time\n",
        "# sns.pointplot(total_confirmed_cases['Date'].dt.date,total_confirmed_cases['Confirmed'],color='red')\n",
        "# sns.pointplot(total_confirmed_cases['Date'].dt.date,total_death_cases['Deaths'],color='blue')\n",
        "plt.plot(total_confirmed_cases['Date'].dt.date,total_confirmed_cases['Confirmed'],color='red',label='Confirmed')\n",
        "plt.plot(total_death_cases['Date'].dt.date,total_death_cases['Deaths'],color='blue',label='Deaths')\n",
        "\n",
        "# Plotting the axes titles\n",
        "plt.xlabel(\"Dates\")\n",
        "plt.ylabel(\"Total Deaths and Confirmed Cases\")\n",
        "plt.legend(loc=2)\n",
        "plt.show()"
      ],
      "execution_count": 18,
      "outputs": [
        {
          "output_type": "display_data",
          "data": {
            "text/plain": "<Figure size 1152x720 with 1 Axes>",
            "image/svg+xml": "<?xml version=\"1.0\" encoding=\"utf-8\" standalone=\"no\"?>\r\n<!DOCTYPE svg PUBLIC \"-//W3C//DTD SVG 1.1//EN\"\r\n  \"http://www.w3.org/Graphics/SVG/1.1/DTD/svg11.dtd\">\r\n<!-- Created with matplotlib (https://matplotlib.org/) -->\r\n<svg height=\"636.79375pt\" version=\"1.1\" viewBox=\"0 0 972.415625 636.79375\" width=\"972.415625pt\" xmlns=\"http://www.w3.org/2000/svg\" xmlns:xlink=\"http://www.w3.org/1999/xlink\">\r\n <defs>\r\n  <style type=\"text/css\">\r\n*{stroke-linecap:butt;stroke-linejoin:round;}\r\n  </style>\r\n </defs>\r\n <g id=\"figure_1\">\r\n  <g id=\"patch_1\">\r\n   <path d=\"M 0 636.79375 \r\nL 972.415625 636.79375 \r\nL 972.415625 0 \r\nL 0 0 \r\nz\r\n\" style=\"fill:none;\"/>\r\n  </g>\r\n  <g id=\"axes_1\">\r\n   <g id=\"patch_2\">\r\n    <path d=\"M 72.415625 550.8 \r\nL 965.215625 550.8 \r\nL 965.215625 7.2 \r\nL 72.415625 7.2 \r\nz\r\n\" style=\"fill:#ffffff;\"/>\r\n   </g>\r\n   <g id=\"matplotlib.axis_1\">\r\n    <g id=\"xtick_1\">\r\n     <g id=\"line2d_1\">\r\n      <defs>\r\n       <path d=\"M 0 0 \r\nL 0 3.5 \r\n\" id=\"mb1bc68a2f0\" style=\"stroke:#000000;stroke-width:0.8;\"/>\r\n      </defs>\r\n      <g>\r\n       <use style=\"stroke:#000000;stroke-width:0.8;\" x=\"196.671295\" xlink:href=\"#mb1bc68a2f0\" y=\"550.8\"/>\r\n      </g>\r\n     </g>\r\n     <g id=\"text_1\">\r\n      <!-- 2020-02-01 -->\r\n      <defs>\r\n       <path d=\"M 19.1875 8.296875 \r\nL 53.609375 8.296875 \r\nL 53.609375 0 \r\nL 7.328125 0 \r\nL 7.328125 8.296875 \r\nQ 12.9375 14.109375 22.625 23.890625 \r\nQ 32.328125 33.6875 34.8125 36.53125 \r\nQ 39.546875 41.84375 41.421875 45.53125 \r\nQ 43.3125 49.21875 43.3125 52.78125 \r\nQ 43.3125 58.59375 39.234375 62.25 \r\nQ 35.15625 65.921875 28.609375 65.921875 \r\nQ 23.96875 65.921875 18.8125 64.3125 \r\nQ 13.671875 62.703125 7.8125 59.421875 \r\nL 7.8125 69.390625 \r\nQ 13.765625 71.78125 18.9375 73 \r\nQ 24.125 74.21875 28.421875 74.21875 \r\nQ 39.75 74.21875 46.484375 68.546875 \r\nQ 53.21875 62.890625 53.21875 53.421875 \r\nQ 53.21875 48.921875 51.53125 44.890625 \r\nQ 49.859375 40.875 45.40625 35.40625 \r\nQ 44.1875 33.984375 37.640625 27.21875 \r\nQ 31.109375 20.453125 19.1875 8.296875 \r\nz\r\n\" id=\"DejaVuSans-50\"/>\r\n       <path d=\"M 31.78125 66.40625 \r\nQ 24.171875 66.40625 20.328125 58.90625 \r\nQ 16.5 51.421875 16.5 36.375 \r\nQ 16.5 21.390625 20.328125 13.890625 \r\nQ 24.171875 6.390625 31.78125 6.390625 \r\nQ 39.453125 6.390625 43.28125 13.890625 \r\nQ 47.125 21.390625 47.125 36.375 \r\nQ 47.125 51.421875 43.28125 58.90625 \r\nQ 39.453125 66.40625 31.78125 66.40625 \r\nz\r\nM 31.78125 74.21875 \r\nQ 44.046875 74.21875 50.515625 64.515625 \r\nQ 56.984375 54.828125 56.984375 36.375 \r\nQ 56.984375 17.96875 50.515625 8.265625 \r\nQ 44.046875 -1.421875 31.78125 -1.421875 \r\nQ 19.53125 -1.421875 13.0625 8.265625 \r\nQ 6.59375 17.96875 6.59375 36.375 \r\nQ 6.59375 54.828125 13.0625 64.515625 \r\nQ 19.53125 74.21875 31.78125 74.21875 \r\nz\r\n\" id=\"DejaVuSans-48\"/>\r\n       <path d=\"M 4.890625 31.390625 \r\nL 31.203125 31.390625 \r\nL 31.203125 23.390625 \r\nL 4.890625 23.390625 \r\nz\r\n\" id=\"DejaVuSans-45\"/>\r\n       <path d=\"M 12.40625 8.296875 \r\nL 28.515625 8.296875 \r\nL 28.515625 63.921875 \r\nL 10.984375 60.40625 \r\nL 10.984375 69.390625 \r\nL 28.421875 72.90625 \r\nL 38.28125 72.90625 \r\nL 38.28125 8.296875 \r\nL 54.390625 8.296875 \r\nL 54.390625 0 \r\nL 12.40625 0 \r\nz\r\n\" id=\"DejaVuSans-49\"/>\r\n      </defs>\r\n      <g transform=\"translate(199.43067 615.915625)rotate(-90)scale(0.1 -0.1)\">\r\n       <use xlink:href=\"#DejaVuSans-50\"/>\r\n       <use x=\"63.623047\" xlink:href=\"#DejaVuSans-48\"/>\r\n       <use x=\"127.246094\" xlink:href=\"#DejaVuSans-50\"/>\r\n       <use x=\"190.869141\" xlink:href=\"#DejaVuSans-48\"/>\r\n       <use x=\"254.492188\" xlink:href=\"#DejaVuSans-45\"/>\r\n       <use x=\"290.576172\" xlink:href=\"#DejaVuSans-48\"/>\r\n       <use x=\"354.199219\" xlink:href=\"#DejaVuSans-50\"/>\r\n       <use x=\"417.822266\" xlink:href=\"#DejaVuSans-45\"/>\r\n       <use x=\"453.90625\" xlink:href=\"#DejaVuSans-48\"/>\r\n       <use x=\"517.529297\" xlink:href=\"#DejaVuSans-49\"/>\r\n      </g>\r\n     </g>\r\n    </g>\r\n    <g id=\"xtick_2\">\r\n     <g id=\"line2d_2\">\r\n      <g>\r\n       <use style=\"stroke:#000000;stroke-width:0.8;\" x=\"313.814688\" xlink:href=\"#mb1bc68a2f0\" y=\"550.8\"/>\r\n      </g>\r\n     </g>\r\n     <g id=\"text_2\">\r\n      <!-- 2020-02-15 -->\r\n      <defs>\r\n       <path d=\"M 10.796875 72.90625 \r\nL 49.515625 72.90625 \r\nL 49.515625 64.59375 \r\nL 19.828125 64.59375 \r\nL 19.828125 46.734375 \r\nQ 21.96875 47.46875 24.109375 47.828125 \r\nQ 26.265625 48.1875 28.421875 48.1875 \r\nQ 40.625 48.1875 47.75 41.5 \r\nQ 54.890625 34.8125 54.890625 23.390625 \r\nQ 54.890625 11.625 47.5625 5.09375 \r\nQ 40.234375 -1.421875 26.90625 -1.421875 \r\nQ 22.3125 -1.421875 17.546875 -0.640625 \r\nQ 12.796875 0.140625 7.71875 1.703125 \r\nL 7.71875 11.625 \r\nQ 12.109375 9.234375 16.796875 8.0625 \r\nQ 21.484375 6.890625 26.703125 6.890625 \r\nQ 35.15625 6.890625 40.078125 11.328125 \r\nQ 45.015625 15.765625 45.015625 23.390625 \r\nQ 45.015625 31 40.078125 35.4375 \r\nQ 35.15625 39.890625 26.703125 39.890625 \r\nQ 22.75 39.890625 18.8125 39.015625 \r\nQ 14.890625 38.140625 10.796875 36.28125 \r\nz\r\n\" id=\"DejaVuSans-53\"/>\r\n      </defs>\r\n      <g transform=\"translate(316.574063 615.915625)rotate(-90)scale(0.1 -0.1)\">\r\n       <use xlink:href=\"#DejaVuSans-50\"/>\r\n       <use x=\"63.623047\" xlink:href=\"#DejaVuSans-48\"/>\r\n       <use x=\"127.246094\" xlink:href=\"#DejaVuSans-50\"/>\r\n       <use x=\"190.869141\" xlink:href=\"#DejaVuSans-48\"/>\r\n       <use x=\"254.492188\" xlink:href=\"#DejaVuSans-45\"/>\r\n       <use x=\"290.576172\" xlink:href=\"#DejaVuSans-48\"/>\r\n       <use x=\"354.199219\" xlink:href=\"#DejaVuSans-50\"/>\r\n       <use x=\"417.822266\" xlink:href=\"#DejaVuSans-45\"/>\r\n       <use x=\"453.90625\" xlink:href=\"#DejaVuSans-49\"/>\r\n       <use x=\"517.529297\" xlink:href=\"#DejaVuSans-53\"/>\r\n      </g>\r\n     </g>\r\n    </g>\r\n    <g id=\"xtick_3\">\r\n     <g id=\"line2d_3\">\r\n      <g>\r\n       <use style=\"stroke:#000000;stroke-width:0.8;\" x=\"439.325466\" xlink:href=\"#mb1bc68a2f0\" y=\"550.8\"/>\r\n      </g>\r\n     </g>\r\n     <g id=\"text_3\">\r\n      <!-- 2020-03-01 -->\r\n      <defs>\r\n       <path d=\"M 40.578125 39.3125 \r\nQ 47.65625 37.796875 51.625 33 \r\nQ 55.609375 28.21875 55.609375 21.1875 \r\nQ 55.609375 10.40625 48.1875 4.484375 \r\nQ 40.765625 -1.421875 27.09375 -1.421875 \r\nQ 22.515625 -1.421875 17.65625 -0.515625 \r\nQ 12.796875 0.390625 7.625 2.203125 \r\nL 7.625 11.71875 \r\nQ 11.71875 9.328125 16.59375 8.109375 \r\nQ 21.484375 6.890625 26.8125 6.890625 \r\nQ 36.078125 6.890625 40.9375 10.546875 \r\nQ 45.796875 14.203125 45.796875 21.1875 \r\nQ 45.796875 27.640625 41.28125 31.265625 \r\nQ 36.765625 34.90625 28.71875 34.90625 \r\nL 20.21875 34.90625 \r\nL 20.21875 43.015625 \r\nL 29.109375 43.015625 \r\nQ 36.375 43.015625 40.234375 45.921875 \r\nQ 44.09375 48.828125 44.09375 54.296875 \r\nQ 44.09375 59.90625 40.109375 62.90625 \r\nQ 36.140625 65.921875 28.71875 65.921875 \r\nQ 24.65625 65.921875 20.015625 65.03125 \r\nQ 15.375 64.15625 9.8125 62.3125 \r\nL 9.8125 71.09375 \r\nQ 15.4375 72.65625 20.34375 73.4375 \r\nQ 25.25 74.21875 29.59375 74.21875 \r\nQ 40.828125 74.21875 47.359375 69.109375 \r\nQ 53.90625 64.015625 53.90625 55.328125 \r\nQ 53.90625 49.265625 50.4375 45.09375 \r\nQ 46.96875 40.921875 40.578125 39.3125 \r\nz\r\n\" id=\"DejaVuSans-51\"/>\r\n      </defs>\r\n      <g transform=\"translate(442.084841 615.915625)rotate(-90)scale(0.1 -0.1)\">\r\n       <use xlink:href=\"#DejaVuSans-50\"/>\r\n       <use x=\"63.623047\" xlink:href=\"#DejaVuSans-48\"/>\r\n       <use x=\"127.246094\" xlink:href=\"#DejaVuSans-50\"/>\r\n       <use x=\"190.869141\" xlink:href=\"#DejaVuSans-48\"/>\r\n       <use x=\"254.492188\" xlink:href=\"#DejaVuSans-45\"/>\r\n       <use x=\"290.576172\" xlink:href=\"#DejaVuSans-48\"/>\r\n       <use x=\"354.199219\" xlink:href=\"#DejaVuSans-51\"/>\r\n       <use x=\"417.822266\" xlink:href=\"#DejaVuSans-45\"/>\r\n       <use x=\"453.90625\" xlink:href=\"#DejaVuSans-48\"/>\r\n       <use x=\"517.529297\" xlink:href=\"#DejaVuSans-49\"/>\r\n      </g>\r\n     </g>\r\n    </g>\r\n    <g id=\"xtick_4\">\r\n     <g id=\"line2d_4\">\r\n      <g>\r\n       <use style=\"stroke:#000000;stroke-width:0.8;\" x=\"556.468858\" xlink:href=\"#mb1bc68a2f0\" y=\"550.8\"/>\r\n      </g>\r\n     </g>\r\n     <g id=\"text_4\">\r\n      <!-- 2020-03-15 -->\r\n      <g transform=\"translate(559.228233 615.915625)rotate(-90)scale(0.1 -0.1)\">\r\n       <use xlink:href=\"#DejaVuSans-50\"/>\r\n       <use x=\"63.623047\" xlink:href=\"#DejaVuSans-48\"/>\r\n       <use x=\"127.246094\" xlink:href=\"#DejaVuSans-50\"/>\r\n       <use x=\"190.869141\" xlink:href=\"#DejaVuSans-48\"/>\r\n       <use x=\"254.492188\" xlink:href=\"#DejaVuSans-45\"/>\r\n       <use x=\"290.576172\" xlink:href=\"#DejaVuSans-48\"/>\r\n       <use x=\"354.199219\" xlink:href=\"#DejaVuSans-51\"/>\r\n       <use x=\"417.822266\" xlink:href=\"#DejaVuSans-45\"/>\r\n       <use x=\"453.90625\" xlink:href=\"#DejaVuSans-49\"/>\r\n       <use x=\"517.529297\" xlink:href=\"#DejaVuSans-53\"/>\r\n      </g>\r\n     </g>\r\n    </g>\r\n    <g id=\"xtick_5\">\r\n     <g id=\"line2d_5\">\r\n      <g>\r\n       <use style=\"stroke:#000000;stroke-width:0.8;\" x=\"698.714407\" xlink:href=\"#mb1bc68a2f0\" y=\"550.8\"/>\r\n      </g>\r\n     </g>\r\n     <g id=\"text_5\">\r\n      <!-- 2020-04-01 -->\r\n      <defs>\r\n       <path d=\"M 37.796875 64.3125 \r\nL 12.890625 25.390625 \r\nL 37.796875 25.390625 \r\nz\r\nM 35.203125 72.90625 \r\nL 47.609375 72.90625 \r\nL 47.609375 25.390625 \r\nL 58.015625 25.390625 \r\nL 58.015625 17.1875 \r\nL 47.609375 17.1875 \r\nL 47.609375 0 \r\nL 37.796875 0 \r\nL 37.796875 17.1875 \r\nL 4.890625 17.1875 \r\nL 4.890625 26.703125 \r\nz\r\n\" id=\"DejaVuSans-52\"/>\r\n      </defs>\r\n      <g transform=\"translate(701.473782 615.915625)rotate(-90)scale(0.1 -0.1)\">\r\n       <use xlink:href=\"#DejaVuSans-50\"/>\r\n       <use x=\"63.623047\" xlink:href=\"#DejaVuSans-48\"/>\r\n       <use x=\"127.246094\" xlink:href=\"#DejaVuSans-50\"/>\r\n       <use x=\"190.869141\" xlink:href=\"#DejaVuSans-48\"/>\r\n       <use x=\"254.492188\" xlink:href=\"#DejaVuSans-45\"/>\r\n       <use x=\"290.576172\" xlink:href=\"#DejaVuSans-48\"/>\r\n       <use x=\"354.199219\" xlink:href=\"#DejaVuSans-52\"/>\r\n       <use x=\"417.822266\" xlink:href=\"#DejaVuSans-45\"/>\r\n       <use x=\"453.90625\" xlink:href=\"#DejaVuSans-48\"/>\r\n       <use x=\"517.529297\" xlink:href=\"#DejaVuSans-49\"/>\r\n      </g>\r\n     </g>\r\n    </g>\r\n    <g id=\"xtick_6\">\r\n     <g id=\"line2d_6\">\r\n      <g>\r\n       <use style=\"stroke:#000000;stroke-width:0.8;\" x=\"815.857799\" xlink:href=\"#mb1bc68a2f0\" y=\"550.8\"/>\r\n      </g>\r\n     </g>\r\n     <g id=\"text_6\">\r\n      <!-- 2020-04-15 -->\r\n      <g transform=\"translate(818.617174 615.915625)rotate(-90)scale(0.1 -0.1)\">\r\n       <use xlink:href=\"#DejaVuSans-50\"/>\r\n       <use x=\"63.623047\" xlink:href=\"#DejaVuSans-48\"/>\r\n       <use x=\"127.246094\" xlink:href=\"#DejaVuSans-50\"/>\r\n       <use x=\"190.869141\" xlink:href=\"#DejaVuSans-48\"/>\r\n       <use x=\"254.492188\" xlink:href=\"#DejaVuSans-45\"/>\r\n       <use x=\"290.576172\" xlink:href=\"#DejaVuSans-48\"/>\r\n       <use x=\"354.199219\" xlink:href=\"#DejaVuSans-52\"/>\r\n       <use x=\"417.822266\" xlink:href=\"#DejaVuSans-45\"/>\r\n       <use x=\"453.90625\" xlink:href=\"#DejaVuSans-49\"/>\r\n       <use x=\"517.529297\" xlink:href=\"#DejaVuSans-53\"/>\r\n      </g>\r\n     </g>\r\n    </g>\r\n    <g id=\"xtick_7\">\r\n     <g id=\"line2d_7\">\r\n      <g>\r\n       <use style=\"stroke:#000000;stroke-width:0.8;\" x=\"949.735962\" xlink:href=\"#mb1bc68a2f0\" y=\"550.8\"/>\r\n      </g>\r\n     </g>\r\n     <g id=\"text_7\">\r\n      <!-- 2020-05-01 -->\r\n      <g transform=\"translate(952.495337 615.915625)rotate(-90)scale(0.1 -0.1)\">\r\n       <use xlink:href=\"#DejaVuSans-50\"/>\r\n       <use x=\"63.623047\" xlink:href=\"#DejaVuSans-48\"/>\r\n       <use x=\"127.246094\" xlink:href=\"#DejaVuSans-50\"/>\r\n       <use x=\"190.869141\" xlink:href=\"#DejaVuSans-48\"/>\r\n       <use x=\"254.492188\" xlink:href=\"#DejaVuSans-45\"/>\r\n       <use x=\"290.576172\" xlink:href=\"#DejaVuSans-48\"/>\r\n       <use x=\"354.199219\" xlink:href=\"#DejaVuSans-53\"/>\r\n       <use x=\"417.822266\" xlink:href=\"#DejaVuSans-45\"/>\r\n       <use x=\"453.90625\" xlink:href=\"#DejaVuSans-48\"/>\r\n       <use x=\"517.529297\" xlink:href=\"#DejaVuSans-49\"/>\r\n      </g>\r\n     </g>\r\n    </g>\r\n    <g id=\"text_8\">\r\n     <!-- Dates -->\r\n     <defs>\r\n      <path d=\"M 19.671875 64.796875 \r\nL 19.671875 8.109375 \r\nL 31.59375 8.109375 \r\nQ 46.6875 8.109375 53.6875 14.9375 \r\nQ 60.6875 21.78125 60.6875 36.53125 \r\nQ 60.6875 51.171875 53.6875 57.984375 \r\nQ 46.6875 64.796875 31.59375 64.796875 \r\nz\r\nM 9.8125 72.90625 \r\nL 30.078125 72.90625 \r\nQ 51.265625 72.90625 61.171875 64.09375 \r\nQ 71.09375 55.28125 71.09375 36.53125 \r\nQ 71.09375 17.671875 61.125 8.828125 \r\nQ 51.171875 0 30.078125 0 \r\nL 9.8125 0 \r\nz\r\n\" id=\"DejaVuSans-68\"/>\r\n      <path d=\"M 34.28125 27.484375 \r\nQ 23.390625 27.484375 19.1875 25 \r\nQ 14.984375 22.515625 14.984375 16.5 \r\nQ 14.984375 11.71875 18.140625 8.90625 \r\nQ 21.296875 6.109375 26.703125 6.109375 \r\nQ 34.1875 6.109375 38.703125 11.40625 \r\nQ 43.21875 16.703125 43.21875 25.484375 \r\nL 43.21875 27.484375 \r\nz\r\nM 52.203125 31.203125 \r\nL 52.203125 0 \r\nL 43.21875 0 \r\nL 43.21875 8.296875 \r\nQ 40.140625 3.328125 35.546875 0.953125 \r\nQ 30.953125 -1.421875 24.3125 -1.421875 \r\nQ 15.921875 -1.421875 10.953125 3.296875 \r\nQ 6 8.015625 6 15.921875 \r\nQ 6 25.140625 12.171875 29.828125 \r\nQ 18.359375 34.515625 30.609375 34.515625 \r\nL 43.21875 34.515625 \r\nL 43.21875 35.40625 \r\nQ 43.21875 41.609375 39.140625 45 \r\nQ 35.0625 48.390625 27.6875 48.390625 \r\nQ 23 48.390625 18.546875 47.265625 \r\nQ 14.109375 46.140625 10.015625 43.890625 \r\nL 10.015625 52.203125 \r\nQ 14.9375 54.109375 19.578125 55.046875 \r\nQ 24.21875 56 28.609375 56 \r\nQ 40.484375 56 46.34375 49.84375 \r\nQ 52.203125 43.703125 52.203125 31.203125 \r\nz\r\n\" id=\"DejaVuSans-97\"/>\r\n      <path d=\"M 18.3125 70.21875 \r\nL 18.3125 54.6875 \r\nL 36.8125 54.6875 \r\nL 36.8125 47.703125 \r\nL 18.3125 47.703125 \r\nL 18.3125 18.015625 \r\nQ 18.3125 11.328125 20.140625 9.421875 \r\nQ 21.96875 7.515625 27.59375 7.515625 \r\nL 36.8125 7.515625 \r\nL 36.8125 0 \r\nL 27.59375 0 \r\nQ 17.1875 0 13.234375 3.875 \r\nQ 9.28125 7.765625 9.28125 18.015625 \r\nL 9.28125 47.703125 \r\nL 2.6875 47.703125 \r\nL 2.6875 54.6875 \r\nL 9.28125 54.6875 \r\nL 9.28125 70.21875 \r\nz\r\n\" id=\"DejaVuSans-116\"/>\r\n      <path d=\"M 56.203125 29.59375 \r\nL 56.203125 25.203125 \r\nL 14.890625 25.203125 \r\nQ 15.484375 15.921875 20.484375 11.0625 \r\nQ 25.484375 6.203125 34.421875 6.203125 \r\nQ 39.59375 6.203125 44.453125 7.46875 \r\nQ 49.3125 8.734375 54.109375 11.28125 \r\nL 54.109375 2.78125 \r\nQ 49.265625 0.734375 44.1875 -0.34375 \r\nQ 39.109375 -1.421875 33.890625 -1.421875 \r\nQ 20.796875 -1.421875 13.15625 6.1875 \r\nQ 5.515625 13.8125 5.515625 26.8125 \r\nQ 5.515625 40.234375 12.765625 48.109375 \r\nQ 20.015625 56 32.328125 56 \r\nQ 43.359375 56 49.78125 48.890625 \r\nQ 56.203125 41.796875 56.203125 29.59375 \r\nz\r\nM 47.21875 32.234375 \r\nQ 47.125 39.59375 43.09375 43.984375 \r\nQ 39.0625 48.390625 32.421875 48.390625 \r\nQ 24.90625 48.390625 20.390625 44.140625 \r\nQ 15.875 39.890625 15.1875 32.171875 \r\nz\r\n\" id=\"DejaVuSans-101\"/>\r\n      <path d=\"M 44.28125 53.078125 \r\nL 44.28125 44.578125 \r\nQ 40.484375 46.53125 36.375 47.5 \r\nQ 32.28125 48.484375 27.875 48.484375 \r\nQ 21.1875 48.484375 17.84375 46.4375 \r\nQ 14.5 44.390625 14.5 40.28125 \r\nQ 14.5 37.15625 16.890625 35.375 \r\nQ 19.28125 33.59375 26.515625 31.984375 \r\nL 29.59375 31.296875 \r\nQ 39.15625 29.25 43.1875 25.515625 \r\nQ 47.21875 21.78125 47.21875 15.09375 \r\nQ 47.21875 7.46875 41.1875 3.015625 \r\nQ 35.15625 -1.421875 24.609375 -1.421875 \r\nQ 20.21875 -1.421875 15.453125 -0.5625 \r\nQ 10.6875 0.296875 5.421875 2 \r\nL 5.421875 11.28125 \r\nQ 10.40625 8.6875 15.234375 7.390625 \r\nQ 20.0625 6.109375 24.8125 6.109375 \r\nQ 31.15625 6.109375 34.5625 8.28125 \r\nQ 37.984375 10.453125 37.984375 14.40625 \r\nQ 37.984375 18.0625 35.515625 20.015625 \r\nQ 33.0625 21.96875 24.703125 23.78125 \r\nL 21.578125 24.515625 \r\nQ 13.234375 26.265625 9.515625 29.90625 \r\nQ 5.8125 33.546875 5.8125 39.890625 \r\nQ 5.8125 47.609375 11.28125 51.796875 \r\nQ 16.75 56 26.8125 56 \r\nQ 31.78125 56 36.171875 55.265625 \r\nQ 40.578125 54.546875 44.28125 53.078125 \r\nz\r\n\" id=\"DejaVuSans-115\"/>\r\n     </defs>\r\n     <g transform=\"translate(504.260156 627.514063)scale(0.1 -0.1)\">\r\n      <use xlink:href=\"#DejaVuSans-68\"/>\r\n      <use x=\"77.001953\" xlink:href=\"#DejaVuSans-97\"/>\r\n      <use x=\"138.28125\" xlink:href=\"#DejaVuSans-116\"/>\r\n      <use x=\"177.490234\" xlink:href=\"#DejaVuSans-101\"/>\r\n      <use x=\"239.013672\" xlink:href=\"#DejaVuSans-115\"/>\r\n     </g>\r\n    </g>\r\n   </g>\r\n   <g id=\"matplotlib.axis_2\">\r\n    <g id=\"ytick_1\">\r\n     <g id=\"line2d_8\">\r\n      <defs>\r\n       <path d=\"M 0 0 \r\nL -3.5 0 \r\n\" id=\"me1f3f94674\" style=\"stroke:#000000;stroke-width:0.8;\"/>\r\n      </defs>\r\n      <g>\r\n       <use style=\"stroke:#000000;stroke-width:0.8;\" x=\"72.415625\" xlink:href=\"#me1f3f94674\" y=\"526.093605\"/>\r\n      </g>\r\n     </g>\r\n     <g id=\"text_9\">\r\n      <!-- 0 -->\r\n      <g transform=\"translate(59.053125 529.892824)scale(0.1 -0.1)\">\r\n       <use xlink:href=\"#DejaVuSans-48\"/>\r\n      </g>\r\n     </g>\r\n    </g>\r\n    <g id=\"ytick_2\">\r\n     <g id=\"line2d_9\">\r\n      <g>\r\n       <use style=\"stroke:#000000;stroke-width:0.8;\" x=\"72.415625\" xlink:href=\"#me1f3f94674\" y=\"446.805705\"/>\r\n      </g>\r\n     </g>\r\n     <g id=\"text_10\">\r\n      <!-- 500000 -->\r\n      <g transform=\"translate(27.240625 450.604923)scale(0.1 -0.1)\">\r\n       <use xlink:href=\"#DejaVuSans-53\"/>\r\n       <use x=\"63.623047\" xlink:href=\"#DejaVuSans-48\"/>\r\n       <use x=\"127.246094\" xlink:href=\"#DejaVuSans-48\"/>\r\n       <use x=\"190.869141\" xlink:href=\"#DejaVuSans-48\"/>\r\n       <use x=\"254.492188\" xlink:href=\"#DejaVuSans-48\"/>\r\n       <use x=\"318.115234\" xlink:href=\"#DejaVuSans-48\"/>\r\n      </g>\r\n     </g>\r\n    </g>\r\n    <g id=\"ytick_3\">\r\n     <g id=\"line2d_10\">\r\n      <g>\r\n       <use style=\"stroke:#000000;stroke-width:0.8;\" x=\"72.415625\" xlink:href=\"#me1f3f94674\" y=\"367.517805\"/>\r\n      </g>\r\n     </g>\r\n     <g id=\"text_11\">\r\n      <!-- 1000000 -->\r\n      <g transform=\"translate(20.878125 371.317023)scale(0.1 -0.1)\">\r\n       <use xlink:href=\"#DejaVuSans-49\"/>\r\n       <use x=\"63.623047\" xlink:href=\"#DejaVuSans-48\"/>\r\n       <use x=\"127.246094\" xlink:href=\"#DejaVuSans-48\"/>\r\n       <use x=\"190.869141\" xlink:href=\"#DejaVuSans-48\"/>\r\n       <use x=\"254.492188\" xlink:href=\"#DejaVuSans-48\"/>\r\n       <use x=\"318.115234\" xlink:href=\"#DejaVuSans-48\"/>\r\n       <use x=\"381.738281\" xlink:href=\"#DejaVuSans-48\"/>\r\n      </g>\r\n     </g>\r\n    </g>\r\n    <g id=\"ytick_4\">\r\n     <g id=\"line2d_11\">\r\n      <g>\r\n       <use style=\"stroke:#000000;stroke-width:0.8;\" x=\"72.415625\" xlink:href=\"#me1f3f94674\" y=\"288.229904\"/>\r\n      </g>\r\n     </g>\r\n     <g id=\"text_12\">\r\n      <!-- 1500000 -->\r\n      <g transform=\"translate(20.878125 292.029123)scale(0.1 -0.1)\">\r\n       <use xlink:href=\"#DejaVuSans-49\"/>\r\n       <use x=\"63.623047\" xlink:href=\"#DejaVuSans-53\"/>\r\n       <use x=\"127.246094\" xlink:href=\"#DejaVuSans-48\"/>\r\n       <use x=\"190.869141\" xlink:href=\"#DejaVuSans-48\"/>\r\n       <use x=\"254.492188\" xlink:href=\"#DejaVuSans-48\"/>\r\n       <use x=\"318.115234\" xlink:href=\"#DejaVuSans-48\"/>\r\n       <use x=\"381.738281\" xlink:href=\"#DejaVuSans-48\"/>\r\n      </g>\r\n     </g>\r\n    </g>\r\n    <g id=\"ytick_5\">\r\n     <g id=\"line2d_12\">\r\n      <g>\r\n       <use style=\"stroke:#000000;stroke-width:0.8;\" x=\"72.415625\" xlink:href=\"#me1f3f94674\" y=\"208.942004\"/>\r\n      </g>\r\n     </g>\r\n     <g id=\"text_13\">\r\n      <!-- 2000000 -->\r\n      <g transform=\"translate(20.878125 212.741223)scale(0.1 -0.1)\">\r\n       <use xlink:href=\"#DejaVuSans-50\"/>\r\n       <use x=\"63.623047\" xlink:href=\"#DejaVuSans-48\"/>\r\n       <use x=\"127.246094\" xlink:href=\"#DejaVuSans-48\"/>\r\n       <use x=\"190.869141\" xlink:href=\"#DejaVuSans-48\"/>\r\n       <use x=\"254.492188\" xlink:href=\"#DejaVuSans-48\"/>\r\n       <use x=\"318.115234\" xlink:href=\"#DejaVuSans-48\"/>\r\n       <use x=\"381.738281\" xlink:href=\"#DejaVuSans-48\"/>\r\n      </g>\r\n     </g>\r\n    </g>\r\n    <g id=\"ytick_6\">\r\n     <g id=\"line2d_13\">\r\n      <g>\r\n       <use style=\"stroke:#000000;stroke-width:0.8;\" x=\"72.415625\" xlink:href=\"#me1f3f94674\" y=\"129.654104\"/>\r\n      </g>\r\n     </g>\r\n     <g id=\"text_14\">\r\n      <!-- 2500000 -->\r\n      <g transform=\"translate(20.878125 133.453323)scale(0.1 -0.1)\">\r\n       <use xlink:href=\"#DejaVuSans-50\"/>\r\n       <use x=\"63.623047\" xlink:href=\"#DejaVuSans-53\"/>\r\n       <use x=\"127.246094\" xlink:href=\"#DejaVuSans-48\"/>\r\n       <use x=\"190.869141\" xlink:href=\"#DejaVuSans-48\"/>\r\n       <use x=\"254.492188\" xlink:href=\"#DejaVuSans-48\"/>\r\n       <use x=\"318.115234\" xlink:href=\"#DejaVuSans-48\"/>\r\n       <use x=\"381.738281\" xlink:href=\"#DejaVuSans-48\"/>\r\n      </g>\r\n     </g>\r\n    </g>\r\n    <g id=\"ytick_7\">\r\n     <g id=\"line2d_14\">\r\n      <g>\r\n       <use style=\"stroke:#000000;stroke-width:0.8;\" x=\"72.415625\" xlink:href=\"#me1f3f94674\" y=\"50.366204\"/>\r\n      </g>\r\n     </g>\r\n     <g id=\"text_15\">\r\n      <!-- 3000000 -->\r\n      <g transform=\"translate(20.878125 54.165423)scale(0.1 -0.1)\">\r\n       <use xlink:href=\"#DejaVuSans-51\"/>\r\n       <use x=\"63.623047\" xlink:href=\"#DejaVuSans-48\"/>\r\n       <use x=\"127.246094\" xlink:href=\"#DejaVuSans-48\"/>\r\n       <use x=\"190.869141\" xlink:href=\"#DejaVuSans-48\"/>\r\n       <use x=\"254.492188\" xlink:href=\"#DejaVuSans-48\"/>\r\n       <use x=\"318.115234\" xlink:href=\"#DejaVuSans-48\"/>\r\n       <use x=\"381.738281\" xlink:href=\"#DejaVuSans-48\"/>\r\n      </g>\r\n     </g>\r\n    </g>\r\n    <g id=\"text_16\">\r\n     <!-- Total Deaths and Confirmed Cases -->\r\n     <defs>\r\n      <path d=\"M -0.296875 72.90625 \r\nL 61.375 72.90625 \r\nL 61.375 64.59375 \r\nL 35.5 64.59375 \r\nL 35.5 0 \r\nL 25.59375 0 \r\nL 25.59375 64.59375 \r\nL -0.296875 64.59375 \r\nz\r\n\" id=\"DejaVuSans-84\"/>\r\n      <path d=\"M 30.609375 48.390625 \r\nQ 23.390625 48.390625 19.1875 42.75 \r\nQ 14.984375 37.109375 14.984375 27.296875 \r\nQ 14.984375 17.484375 19.15625 11.84375 \r\nQ 23.34375 6.203125 30.609375 6.203125 \r\nQ 37.796875 6.203125 41.984375 11.859375 \r\nQ 46.1875 17.53125 46.1875 27.296875 \r\nQ 46.1875 37.015625 41.984375 42.703125 \r\nQ 37.796875 48.390625 30.609375 48.390625 \r\nz\r\nM 30.609375 56 \r\nQ 42.328125 56 49.015625 48.375 \r\nQ 55.71875 40.765625 55.71875 27.296875 \r\nQ 55.71875 13.875 49.015625 6.21875 \r\nQ 42.328125 -1.421875 30.609375 -1.421875 \r\nQ 18.84375 -1.421875 12.171875 6.21875 \r\nQ 5.515625 13.875 5.515625 27.296875 \r\nQ 5.515625 40.765625 12.171875 48.375 \r\nQ 18.84375 56 30.609375 56 \r\nz\r\n\" id=\"DejaVuSans-111\"/>\r\n      <path d=\"M 9.421875 75.984375 \r\nL 18.40625 75.984375 \r\nL 18.40625 0 \r\nL 9.421875 0 \r\nz\r\n\" id=\"DejaVuSans-108\"/>\r\n      <path id=\"DejaVuSans-32\"/>\r\n      <path d=\"M 54.890625 33.015625 \r\nL 54.890625 0 \r\nL 45.90625 0 \r\nL 45.90625 32.71875 \r\nQ 45.90625 40.484375 42.875 44.328125 \r\nQ 39.84375 48.1875 33.796875 48.1875 \r\nQ 26.515625 48.1875 22.3125 43.546875 \r\nQ 18.109375 38.921875 18.109375 30.90625 \r\nL 18.109375 0 \r\nL 9.078125 0 \r\nL 9.078125 75.984375 \r\nL 18.109375 75.984375 \r\nL 18.109375 46.1875 \r\nQ 21.34375 51.125 25.703125 53.5625 \r\nQ 30.078125 56 35.796875 56 \r\nQ 45.21875 56 50.046875 50.171875 \r\nQ 54.890625 44.34375 54.890625 33.015625 \r\nz\r\n\" id=\"DejaVuSans-104\"/>\r\n      <path d=\"M 54.890625 33.015625 \r\nL 54.890625 0 \r\nL 45.90625 0 \r\nL 45.90625 32.71875 \r\nQ 45.90625 40.484375 42.875 44.328125 \r\nQ 39.84375 48.1875 33.796875 48.1875 \r\nQ 26.515625 48.1875 22.3125 43.546875 \r\nQ 18.109375 38.921875 18.109375 30.90625 \r\nL 18.109375 0 \r\nL 9.078125 0 \r\nL 9.078125 54.6875 \r\nL 18.109375 54.6875 \r\nL 18.109375 46.1875 \r\nQ 21.34375 51.125 25.703125 53.5625 \r\nQ 30.078125 56 35.796875 56 \r\nQ 45.21875 56 50.046875 50.171875 \r\nQ 54.890625 44.34375 54.890625 33.015625 \r\nz\r\n\" id=\"DejaVuSans-110\"/>\r\n      <path d=\"M 45.40625 46.390625 \r\nL 45.40625 75.984375 \r\nL 54.390625 75.984375 \r\nL 54.390625 0 \r\nL 45.40625 0 \r\nL 45.40625 8.203125 \r\nQ 42.578125 3.328125 38.25 0.953125 \r\nQ 33.9375 -1.421875 27.875 -1.421875 \r\nQ 17.96875 -1.421875 11.734375 6.484375 \r\nQ 5.515625 14.40625 5.515625 27.296875 \r\nQ 5.515625 40.1875 11.734375 48.09375 \r\nQ 17.96875 56 27.875 56 \r\nQ 33.9375 56 38.25 53.625 \r\nQ 42.578125 51.265625 45.40625 46.390625 \r\nz\r\nM 14.796875 27.296875 \r\nQ 14.796875 17.390625 18.875 11.75 \r\nQ 22.953125 6.109375 30.078125 6.109375 \r\nQ 37.203125 6.109375 41.296875 11.75 \r\nQ 45.40625 17.390625 45.40625 27.296875 \r\nQ 45.40625 37.203125 41.296875 42.84375 \r\nQ 37.203125 48.484375 30.078125 48.484375 \r\nQ 22.953125 48.484375 18.875 42.84375 \r\nQ 14.796875 37.203125 14.796875 27.296875 \r\nz\r\n\" id=\"DejaVuSans-100\"/>\r\n      <path d=\"M 64.40625 67.28125 \r\nL 64.40625 56.890625 \r\nQ 59.421875 61.53125 53.78125 63.8125 \r\nQ 48.140625 66.109375 41.796875 66.109375 \r\nQ 29.296875 66.109375 22.65625 58.46875 \r\nQ 16.015625 50.828125 16.015625 36.375 \r\nQ 16.015625 21.96875 22.65625 14.328125 \r\nQ 29.296875 6.6875 41.796875 6.6875 \r\nQ 48.140625 6.6875 53.78125 8.984375 \r\nQ 59.421875 11.28125 64.40625 15.921875 \r\nL 64.40625 5.609375 \r\nQ 59.234375 2.09375 53.4375 0.328125 \r\nQ 47.65625 -1.421875 41.21875 -1.421875 \r\nQ 24.65625 -1.421875 15.125 8.703125 \r\nQ 5.609375 18.84375 5.609375 36.375 \r\nQ 5.609375 53.953125 15.125 64.078125 \r\nQ 24.65625 74.21875 41.21875 74.21875 \r\nQ 47.75 74.21875 53.53125 72.484375 \r\nQ 59.328125 70.75 64.40625 67.28125 \r\nz\r\n\" id=\"DejaVuSans-67\"/>\r\n      <path d=\"M 37.109375 75.984375 \r\nL 37.109375 68.5 \r\nL 28.515625 68.5 \r\nQ 23.6875 68.5 21.796875 66.546875 \r\nQ 19.921875 64.59375 19.921875 59.515625 \r\nL 19.921875 54.6875 \r\nL 34.71875 54.6875 \r\nL 34.71875 47.703125 \r\nL 19.921875 47.703125 \r\nL 19.921875 0 \r\nL 10.890625 0 \r\nL 10.890625 47.703125 \r\nL 2.296875 47.703125 \r\nL 2.296875 54.6875 \r\nL 10.890625 54.6875 \r\nL 10.890625 58.5 \r\nQ 10.890625 67.625 15.140625 71.796875 \r\nQ 19.390625 75.984375 28.609375 75.984375 \r\nz\r\n\" id=\"DejaVuSans-102\"/>\r\n      <path d=\"M 9.421875 54.6875 \r\nL 18.40625 54.6875 \r\nL 18.40625 0 \r\nL 9.421875 0 \r\nz\r\nM 9.421875 75.984375 \r\nL 18.40625 75.984375 \r\nL 18.40625 64.59375 \r\nL 9.421875 64.59375 \r\nz\r\n\" id=\"DejaVuSans-105\"/>\r\n      <path d=\"M 41.109375 46.296875 \r\nQ 39.59375 47.171875 37.8125 47.578125 \r\nQ 36.03125 48 33.890625 48 \r\nQ 26.265625 48 22.1875 43.046875 \r\nQ 18.109375 38.09375 18.109375 28.8125 \r\nL 18.109375 0 \r\nL 9.078125 0 \r\nL 9.078125 54.6875 \r\nL 18.109375 54.6875 \r\nL 18.109375 46.1875 \r\nQ 20.953125 51.171875 25.484375 53.578125 \r\nQ 30.03125 56 36.53125 56 \r\nQ 37.453125 56 38.578125 55.875 \r\nQ 39.703125 55.765625 41.0625 55.515625 \r\nz\r\n\" id=\"DejaVuSans-114\"/>\r\n      <path d=\"M 52 44.1875 \r\nQ 55.375 50.25 60.0625 53.125 \r\nQ 64.75 56 71.09375 56 \r\nQ 79.640625 56 84.28125 50.015625 \r\nQ 88.921875 44.046875 88.921875 33.015625 \r\nL 88.921875 0 \r\nL 79.890625 0 \r\nL 79.890625 32.71875 \r\nQ 79.890625 40.578125 77.09375 44.375 \r\nQ 74.3125 48.1875 68.609375 48.1875 \r\nQ 61.625 48.1875 57.5625 43.546875 \r\nQ 53.515625 38.921875 53.515625 30.90625 \r\nL 53.515625 0 \r\nL 44.484375 0 \r\nL 44.484375 32.71875 \r\nQ 44.484375 40.625 41.703125 44.40625 \r\nQ 38.921875 48.1875 33.109375 48.1875 \r\nQ 26.21875 48.1875 22.15625 43.53125 \r\nQ 18.109375 38.875 18.109375 30.90625 \r\nL 18.109375 0 \r\nL 9.078125 0 \r\nL 9.078125 54.6875 \r\nL 18.109375 54.6875 \r\nL 18.109375 46.1875 \r\nQ 21.1875 51.21875 25.484375 53.609375 \r\nQ 29.78125 56 35.6875 56 \r\nQ 41.65625 56 45.828125 52.96875 \r\nQ 50 49.953125 52 44.1875 \r\nz\r\n\" id=\"DejaVuSans-109\"/>\r\n     </defs>\r\n     <g transform=\"translate(14.798437 365.886719)rotate(-90)scale(0.1 -0.1)\">\r\n      <use xlink:href=\"#DejaVuSans-84\"/>\r\n      <use x=\"60.818359\" xlink:href=\"#DejaVuSans-111\"/>\r\n      <use x=\"122\" xlink:href=\"#DejaVuSans-116\"/>\r\n      <use x=\"161.208984\" xlink:href=\"#DejaVuSans-97\"/>\r\n      <use x=\"222.488281\" xlink:href=\"#DejaVuSans-108\"/>\r\n      <use x=\"250.271484\" xlink:href=\"#DejaVuSans-32\"/>\r\n      <use x=\"282.058594\" xlink:href=\"#DejaVuSans-68\"/>\r\n      <use x=\"359.060547\" xlink:href=\"#DejaVuSans-101\"/>\r\n      <use x=\"420.583984\" xlink:href=\"#DejaVuSans-97\"/>\r\n      <use x=\"481.863281\" xlink:href=\"#DejaVuSans-116\"/>\r\n      <use x=\"521.072266\" xlink:href=\"#DejaVuSans-104\"/>\r\n      <use x=\"584.451172\" xlink:href=\"#DejaVuSans-115\"/>\r\n      <use x=\"636.550781\" xlink:href=\"#DejaVuSans-32\"/>\r\n      <use x=\"668.337891\" xlink:href=\"#DejaVuSans-97\"/>\r\n      <use x=\"729.617188\" xlink:href=\"#DejaVuSans-110\"/>\r\n      <use x=\"792.996094\" xlink:href=\"#DejaVuSans-100\"/>\r\n      <use x=\"856.472656\" xlink:href=\"#DejaVuSans-32\"/>\r\n      <use x=\"888.259766\" xlink:href=\"#DejaVuSans-67\"/>\r\n      <use x=\"958.083984\" xlink:href=\"#DejaVuSans-111\"/>\r\n      <use x=\"1019.265625\" xlink:href=\"#DejaVuSans-110\"/>\r\n      <use x=\"1082.644531\" xlink:href=\"#DejaVuSans-102\"/>\r\n      <use x=\"1117.849609\" xlink:href=\"#DejaVuSans-105\"/>\r\n      <use x=\"1145.632812\" xlink:href=\"#DejaVuSans-114\"/>\r\n      <use x=\"1186.730469\" xlink:href=\"#DejaVuSans-109\"/>\r\n      <use x=\"1284.142578\" xlink:href=\"#DejaVuSans-101\"/>\r\n      <use x=\"1345.666016\" xlink:href=\"#DejaVuSans-100\"/>\r\n      <use x=\"1409.142578\" xlink:href=\"#DejaVuSans-32\"/>\r\n      <use x=\"1440.929688\" xlink:href=\"#DejaVuSans-67\"/>\r\n      <use x=\"1510.753906\" xlink:href=\"#DejaVuSans-97\"/>\r\n      <use x=\"1572.033203\" xlink:href=\"#DejaVuSans-115\"/>\r\n      <use x=\"1624.132812\" xlink:href=\"#DejaVuSans-101\"/>\r\n      <use x=\"1685.65625\" xlink:href=\"#DejaVuSans-115\"/>\r\n     </g>\r\n    </g>\r\n   </g>\r\n   <g id=\"line2d_15\">\r\n    <path clip-path=\"url(#p200deb7375)\" d=\"M 112.997443 526.005595 \r\nL 121.364828 525.989896 \r\nL 129.732214 525.944385 \r\nL 138.099599 525.866207 \r\nL 146.466984 525.757741 \r\nL 154.834369 525.629454 \r\nL 163.201754 525.209069 \r\nL 171.56914 525.115826 \r\nL 179.936525 524.787892 \r\nL 188.30391 524.519423 \r\nL 196.671295 524.184669 \r\nL 205.03868 523.431593 \r\nL 213.406065 522.940959 \r\nL 221.773451 522.304912 \r\nL 230.140836 521.711363 \r\nL 238.508221 521.210422 \r\nL 246.875606 520.640025 \r\nL 255.242991 520.207271 \r\nL 263.610377 519.726786 \r\nL 271.977762 519.312587 \r\nL 280.345147 518.989092 \r\nL 288.712532 518.683516 \r\nL 297.079917 516.520701 \r\nL 305.447303 515.487262 \r\nL 313.814688 515.147117 \r\nL 322.182073 514.799202 \r\nL 330.549458 514.476659 \r\nL 338.916843 514.178854 \r\nL 347.284229 514.09909 \r\nL 355.651614 514.010605 \r\nL 364.018999 513.91197 \r\nL 372.386384 513.633987 \r\nL 380.753769 513.572777 \r\nL 389.121155 513.477156 \r\nL 397.48854 513.343159 \r\nL 405.855925 513.187438 \r\nL 414.22331 512.972092 \r\nL 422.590695 512.755477 \r\nL 430.95808 512.454342 \r\nL 439.325466 512.08042 \r\nL 447.692851 511.773259 \r\nL 456.060236 511.371428 \r\nL 464.427621 511.009875 \r\nL 472.795006 510.571254 \r\nL 481.162392 509.95043 \r\nL 489.529777 509.308832 \r\nL 497.897162 508.678652 \r\nL 506.264547 508.08098 \r\nL 514.631932 507.283343 \r\nL 522.999318 506.132876 \r\nL 531.366703 505.740084 \r\nL 539.734088 503.065386 \r\nL 548.101473 501.337385 \r\nL 556.468858 499.53755 \r\nL 564.836244 497.295764 \r\nL 573.203629 494.836253 \r\nL 581.571014 492.024228 \r\nL 589.938399 487.620579 \r\nL 598.305784 482.921819 \r\nL 606.67317 477.798552 \r\nL 615.040555 472.650706 \r\nL 623.40794 466.107234 \r\nL 631.775325 459.796393 \r\nL 640.14271 451.924056 \r\nL 648.510095 442.095845 \r\nL 656.877481 431.991078 \r\nL 665.244866 421.30291 \r\nL 673.612251 411.873835 \r\nL 681.979636 402.009627 \r\nL 690.347021 390.09773 \r\nL 698.714407 378.199788 \r\nL 707.081792 365.384009 \r\nL 715.449177 352.314508 \r\nL 723.816562 339.599425 \r\nL 732.183947 327.915877 \r\nL 740.551333 316.547578 \r\nL 748.918718 304.652649 \r\nL 757.286103 291.370022 \r\nL 765.653488 277.837481 \r\nL 774.020873 263.186504 \r\nL 782.388259 250.802368 \r\nL 790.755644 235.081481 \r\nL 799.123029 223.976735 \r\nL 807.490414 212.814743 \r\nL 815.857799 200.140572 \r\nL 824.225185 184.859256 \r\nL 832.59257 170.928213 \r\nL 840.959955 158.620194 \r\nL 849.32734 145.378798 \r\nL 857.694725 134.133236 \r\nL 866.06211 121.913068 \r\nL 874.429496 109.97453 \r\nL 882.796881 96.712043 \r\nL 891.164266 80.242202 \r\nL 899.531651 66.601353 \r\nL 907.899036 54.749556 \r\nL 916.266422 43.744237 \r\nL 924.633807 31.909091 \r\n\" style=\"fill:none;stroke:#ff0000;stroke-linecap:square;stroke-width:1.5;\"/>\r\n   </g>\r\n   <g id=\"line2d_16\">\r\n    <path clip-path=\"url(#p200deb7375)\" d=\"M 112.997443 526.090909 \r\nL 121.364828 526.090751 \r\nL 129.732214 526.089482 \r\nL 138.099599 526.086945 \r\nL 146.466984 526.084725 \r\nL 154.834369 526.080602 \r\nL 163.201754 526.072831 \r\nL 171.56914 526.072514 \r\nL 179.936525 526.066488 \r\nL 188.30391 526.059828 \r\nL 196.671295 526.052534 \r\nL 205.03868 526.0362 \r\nL 213.406065 526.026052 \r\nL 221.773451 526.015586 \r\nL 230.140836 526.004168 \r\nL 238.508221 525.993068 \r\nL 246.875606 525.979589 \r\nL 255.242991 525.965793 \r\nL 263.610377 525.949935 \r\nL 271.977762 525.932968 \r\nL 280.345147 525.91711 \r\nL 288.712532 525.916317 \r\nL 297.079917 525.876197 \r\nL 305.447303 525.852094 \r\nL 313.814688 525.829418 \r\nL 322.182073 525.812926 \r\nL 330.549458 525.797385 \r\nL 338.916843 525.775343 \r\nL 347.284229 525.757107 \r\nL 355.651614 525.737285 \r\nL 364.018999 525.736651 \r\nL 372.386384 525.703826 \r\nL 380.753769 525.702081 \r\nL 389.121155 525.676709 \r\nL 397.48854 525.664182 \r\nL 405.855925 525.65435 \r\nL 414.22331 525.647373 \r\nL 422.590695 525.638175 \r\nL 430.95808 525.627233 \r\nL 439.325466 525.618512 \r\nL 447.692851 525.604399 \r\nL 456.060236 525.592505 \r\nL 464.427621 525.577599 \r\nL 472.795006 525.562693 \r\nL 481.162392 525.544933 \r\nL 489.529777 525.529392 \r\nL 497.897162 525.4907 \r\nL 506.264547 525.461205 \r\nL 514.631932 525.417755 \r\nL 522.999318 525.361778 \r\nL 531.366703 525.344969 \r\nL 539.734088 525.236344 \r\nL 548.101473 525.170218 \r\nL 556.468858 525.070791 \r\nL 564.836244 524.961374 \r\nL 573.203629 524.836099 \r\nL 581.571014 524.701468 \r\nL 589.938399 524.51974 \r\nL 598.305784 524.285048 \r\nL 606.67317 524.014993 \r\nL 615.040555 523.743353 \r\nL 623.40794 523.439839 \r\nL 631.775325 523.092082 \r\nL 640.14271 522.675345 \r\nL 648.510095 522.210242 \r\nL 656.877481 521.67156 \r\nL 665.244866 521.120509 \r\nL 673.612251 520.562164 \r\nL 681.979636 519.94023 \r\nL 690.347021 519.179383 \r\nL 698.714407 518.334174 \r\nL 707.081792 517.373363 \r\nL 715.449177 516.427458 \r\nL 723.816562 515.45745 \r\nL 732.183947 514.653154 \r\nL 740.551333 513.771155 \r\nL 748.918718 512.55916 \r\nL 757.286103 511.513194 \r\nL 765.653488 510.35464 \r\nL 774.020873 509.235253 \r\nL 782.388259 508.266196 \r\nL 790.755644 507.353117 \r\nL 799.123029 506.452248 \r\nL 807.490414 505.401049 \r\nL 815.857799 504.110242 \r\nL 824.225185 502.981182 \r\nL 832.59257 501.590314 \r\nL 840.959955 500.609839 \r\nL 849.32734 499.870718 \r\nL 857.694725 499.044062 \r\nL 866.06211 497.966857 \r\nL 874.429496 496.920415 \r\nL 882.796881 495.864617 \r\nL 891.164266 494.898891 \r\nL 899.531651 493.923649 \r\nL 907.899036 493.336919 \r\nL 916.266422 492.607629 \r\nL 924.633807 491.658394 \r\n\" style=\"fill:none;stroke:#0000ff;stroke-linecap:square;stroke-width:1.5;\"/>\r\n   </g>\r\n   <g id=\"patch_3\">\r\n    <path d=\"M 72.415625 550.8 \r\nL 72.415625 7.2 \r\n\" style=\"fill:none;stroke:#000000;stroke-linecap:square;stroke-linejoin:miter;stroke-width:0.8;\"/>\r\n   </g>\r\n   <g id=\"patch_4\">\r\n    <path d=\"M 965.215625 550.8 \r\nL 965.215625 7.2 \r\n\" style=\"fill:none;stroke:#000000;stroke-linecap:square;stroke-linejoin:miter;stroke-width:0.8;\"/>\r\n   </g>\r\n   <g id=\"patch_5\">\r\n    <path d=\"M 72.415625 550.8 \r\nL 965.215625 550.8 \r\n\" style=\"fill:none;stroke:#000000;stroke-linecap:square;stroke-linejoin:miter;stroke-width:0.8;\"/>\r\n   </g>\r\n   <g id=\"patch_6\">\r\n    <path d=\"M 72.415625 7.2 \r\nL 965.215625 7.2 \r\n\" style=\"fill:none;stroke:#000000;stroke-linecap:square;stroke-linejoin:miter;stroke-width:0.8;\"/>\r\n   </g>\r\n   <g id=\"legend_1\">\r\n    <g id=\"patch_7\">\r\n     <path d=\"M 79.415625 44.55625 \r\nL 163.504688 44.55625 \r\nQ 165.504688 44.55625 165.504688 42.55625 \r\nL 165.504688 14.2 \r\nQ 165.504688 12.2 163.504688 12.2 \r\nL 79.415625 12.2 \r\nQ 77.415625 12.2 77.415625 14.2 \r\nL 77.415625 42.55625 \r\nQ 77.415625 44.55625 79.415625 44.55625 \r\nz\r\n\" style=\"fill:#ffffff;opacity:0.8;stroke:#cccccc;stroke-linejoin:miter;\"/>\r\n    </g>\r\n    <g id=\"line2d_17\">\r\n     <path d=\"M 81.415625 20.298437 \r\nL 101.415625 20.298437 \r\n\" style=\"fill:none;stroke:#ff0000;stroke-linecap:square;stroke-width:1.5;\"/>\r\n    </g>\r\n    <g id=\"line2d_18\"/>\r\n    <g id=\"text_17\">\r\n     <!-- Confirmed -->\r\n     <g transform=\"translate(109.415625 23.798437)scale(0.1 -0.1)\">\r\n      <use xlink:href=\"#DejaVuSans-67\"/>\r\n      <use x=\"69.824219\" xlink:href=\"#DejaVuSans-111\"/>\r\n      <use x=\"131.005859\" xlink:href=\"#DejaVuSans-110\"/>\r\n      <use x=\"194.384766\" xlink:href=\"#DejaVuSans-102\"/>\r\n      <use x=\"229.589844\" xlink:href=\"#DejaVuSans-105\"/>\r\n      <use x=\"257.373047\" xlink:href=\"#DejaVuSans-114\"/>\r\n      <use x=\"298.470703\" xlink:href=\"#DejaVuSans-109\"/>\r\n      <use x=\"395.882812\" xlink:href=\"#DejaVuSans-101\"/>\r\n      <use x=\"457.40625\" xlink:href=\"#DejaVuSans-100\"/>\r\n     </g>\r\n    </g>\r\n    <g id=\"line2d_19\">\r\n     <path d=\"M 81.415625 34.976562 \r\nL 101.415625 34.976562 \r\n\" style=\"fill:none;stroke:#0000ff;stroke-linecap:square;stroke-width:1.5;\"/>\r\n    </g>\r\n    <g id=\"line2d_20\"/>\r\n    <g id=\"text_18\">\r\n     <!-- Deaths -->\r\n     <g transform=\"translate(109.415625 38.476562)scale(0.1 -0.1)\">\r\n      <use xlink:href=\"#DejaVuSans-68\"/>\r\n      <use x=\"77.001953\" xlink:href=\"#DejaVuSans-101\"/>\r\n      <use x=\"138.525391\" xlink:href=\"#DejaVuSans-97\"/>\r\n      <use x=\"199.804688\" xlink:href=\"#DejaVuSans-116\"/>\r\n      <use x=\"239.013672\" xlink:href=\"#DejaVuSans-104\"/>\r\n      <use x=\"302.392578\" xlink:href=\"#DejaVuSans-115\"/>\r\n     </g>\r\n    </g>\r\n   </g>\r\n  </g>\r\n </g>\r\n <defs>\r\n  <clipPath id=\"p200deb7375\">\r\n   <rect height=\"543.6\" width=\"892.8\" x=\"72.415625\" y=\"7.2\"/>\r\n  </clipPath>\r\n </defs>\r\n</svg>\r\n",
            "image/png": "[encoded data removed]"
          },
          "metadata": {
            "needs_background": "light"
          }
        }
      ]
    },
    {
      "cell_type": "code",
      "metadata": {
        "id": "5dIc3GRJNaz1",
        "colab_type": "code",
        "colab": {
          "base_uri": "https://localhost:8080/",
          "height": 204
        },
        "outputId": "4bb04387-5e64-4597-9f3e-3c35bb89c2e4"
      },
      "source": [
        "### Top 20 Countries having the most number of the Confirmed Cases\n",
        "### Grouping based on country and sorting based on cumulative descending Confirmed cases\n",
        "top_confirmed = top.groupby('country')['Confirmed'].sum().sort_values(ascending=False).reset_index()\n",
        "top_confirmed.head()"
      ],
      "execution_count": 19,
      "outputs": [
        {
          "output_type": "execute_result",
          "data": {
            "text/plain": "          country  Confirmed\n0              US    1012582\n1           Spain     232128\n2           Italy     201505\n3          France     169053\n4  United Kingdom     162350",
            "text/html": "<div>\n<style scoped>\n    .dataframe tbody tr th:only-of-type {\n        vertical-align: middle;\n    }\n\n    .dataframe tbody tr th {\n        vertical-align: top;\n    }\n\n    .dataframe thead th {\n        text-align: right;\n    }\n</style>\n<table border=\"1\" class=\"dataframe\">\n  <thead>\n    <tr style=\"text-align: right;\">\n      <th></th>\n      <th>country</th>\n      <th>Confirmed</th>\n    </tr>\n  </thead>\n  <tbody>\n    <tr>\n      <th>0</th>\n      <td>US</td>\n      <td>1012582</td>\n    </tr>\n    <tr>\n      <th>1</th>\n      <td>Spain</td>\n      <td>232128</td>\n    </tr>\n    <tr>\n      <th>2</th>\n      <td>Italy</td>\n      <td>201505</td>\n    </tr>\n    <tr>\n      <th>3</th>\n      <td>France</td>\n      <td>169053</td>\n    </tr>\n    <tr>\n      <th>4</th>\n      <td>United Kingdom</td>\n      <td>162350</td>\n    </tr>\n  </tbody>\n</table>\n</div>"
          },
          "metadata": {},
          "execution_count": 19
        }
      ]
    },
    {
      "cell_type": "code",
      "metadata": {
        "id": "NU-m29CHP0fP",
        "colab_type": "code",
        "colab": {
          "base_uri": "https://localhost:8080/",
          "height": 374
        },
        "outputId": "d0034e79-fdaa-4a19-94c5-79819b6bf93e"
      },
      "source": [
        "top_20 = top_confirmed.head(20)\n",
        "print(top_20)"
      ],
      "execution_count": 20,
      "outputs": [
        {
          "output_type": "stream",
          "name": "stdout",
          "text": "country  Confirmed\n0               US    1012582\n1            Spain     232128\n2            Italy     201505\n3           France     169053\n4   United Kingdom     162350\n5          Germany     159912\n6           Turkey     114653\n7           Russia      93558\n8             Iran      92584\n9            China      83940\n10          Brazil      73235\n11          Canada      51150\n12         Belgium      47334\n13     Netherlands      38607\n14           India      31324\n15            Peru      31190\n16     Switzerland      29264\n17        Portugal      24322\n18         Ecuador      24258\n19    Saudi Arabia      20077\n"
        }
      ]
    },
    {
      "cell_type": "code",
      "metadata": {
        "id": "m6PfK1pKQV-B",
        "colab_type": "code",
        "colab": {
          "base_uri": "https://localhost:8080/",
          "height": 606
        },
        "outputId": "616f33be-cd16-46a3-cb9f-d29aa05fe55d"
      },
      "source": [
        "### PLotting the data in the form of Bar Graph\n",
        "plt.figure(figsize=(12,10))\n",
        "sns.barplot(top_20['Confirmed'],top_20['country'],label='Confirmed') # barplot\n",
        "plt.plot(top_20['Confirmed'],top_20['country'])  #lineplot\n",
        "plt.scatter(top_20['Confirmed'],top_20['country']) #scatterplot\n",
        "plt.legend(loc=4)  # loc = 4 (means 4th Quadrant)\n",
        "plt.show()"
      ],
      "execution_count": 21,
      "outputs": [
        {
          "output_type": "display_data",
          "data": {
            "text/plain": "<Figure size 864x720 with 1 Axes>",
            "image/svg+xml": "<?xml version=\"1.0\" encoding=\"utf-8\" standalone=\"no\"?>\r\n<!DOCTYPE svg PUBLIC \"-//W3C//DTD SVG 1.1//EN\"\r\n  \"http://www.w3.org/Graphics/SVG/1.1/DTD/svg11.dtd\">\r\n<!-- Created with matplotlib (https://matplotlib.org/) -->\r\n<svg height=\"588.35625pt\" version=\"1.1\" viewBox=\"0 0 784.942188 588.35625\" width=\"784.942188pt\" xmlns=\"http://www.w3.org/2000/svg\" xmlns:xlink=\"http://www.w3.org/1999/xlink\">\r\n <defs>\r\n  <style type=\"text/css\">\r\n*{stroke-linecap:butt;stroke-linejoin:round;}\r\n  </style>\r\n </defs>\r\n <g id=\"figure_1\">\r\n  <g id=\"patch_1\">\r\n   <path d=\"M 0 588.35625 \r\nL 784.942188 588.35625 \r\nL 784.942188 0 \r\nL 0 0 \r\nz\r\n\" style=\"fill:none;\"/>\r\n  </g>\r\n  <g id=\"axes_1\">\r\n   <g id=\"patch_2\">\r\n    <path d=\"M 108.142188 550.8 \r\nL 777.742188 550.8 \r\nL 777.742188 7.2 \r\nL 108.142188 7.2 \r\nz\r\n\" style=\"fill:#ffffff;\"/>\r\n   </g>\r\n   <g id=\"PathCollection_1\">\r\n    <defs>\r\n     <path d=\"M 0 3 \r\nC 0.795609 3 1.55874 2.683901 2.12132 2.12132 \r\nC 2.683901 1.55874 3 0.795609 3 0 \r\nC 3 -0.795609 2.683901 -1.55874 2.12132 -2.12132 \r\nC 1.55874 -2.683901 0.795609 -3 0 -3 \r\nC -0.795609 -3 -1.55874 -2.683901 -2.12132 -2.12132 \r\nC -2.683901 -1.55874 -3 -0.795609 -3 0 \r\nC -3 0.795609 -2.683901 1.55874 -2.12132 2.12132 \r\nC -1.55874 2.683901 -0.795609 3 0 3 \r\nz\r\n\" id=\"m7c01c80419\" style=\"stroke:#1f77b4;\"/>\r\n    </defs>\r\n    <g clip-path=\"url(#p510f0b395d)\">\r\n     <use style=\"fill:#1f77b4;stroke:#1f77b4;\" x=\"742.87052\" xlink:href=\"#m7c01c80419\" y=\"41.892562\"/>\r\n     <use style=\"fill:#1f77b4;stroke:#1f77b4;\" x=\"253.649631\" xlink:href=\"#m7c01c80419\" y=\"66.85124\"/>\r\n     <use style=\"fill:#1f77b4;stroke:#1f77b4;\" x=\"234.453867\" xlink:href=\"#m7c01c80419\" y=\"91.809917\"/>\r\n     <use style=\"fill:#1f77b4;stroke:#1f77b4;\" x=\"214.111609\" xlink:href=\"#m7c01c80419\" y=\"116.768595\"/>\r\n     <use style=\"fill:#1f77b4;stroke:#1f77b4;\" x=\"209.909891\" xlink:href=\"#m7c01c80419\" y=\"141.727273\"/>\r\n     <use style=\"fill:#1f77b4;stroke:#1f77b4;\" x=\"208.381652\" xlink:href=\"#m7c01c80419\" y=\"166.68595\"/>\r\n     <use style=\"fill:#1f77b4;stroke:#1f77b4;\" x=\"180.011436\" xlink:href=\"#m7c01c80419\" y=\"191.644628\"/>\r\n     <use style=\"fill:#1f77b4;stroke:#1f77b4;\" x=\"166.788216\" xlink:href=\"#m7c01c80419\" y=\"216.603306\"/>\r\n     <use style=\"fill:#1f77b4;stroke:#1f77b4;\" x=\"166.177673\" xlink:href=\"#m7c01c80419\" y=\"241.561983\"/>\r\n     <use style=\"fill:#1f77b4;stroke:#1f77b4;\" x=\"160.759256\" xlink:href=\"#m7c01c80419\" y=\"266.520661\"/>\r\n     <use style=\"fill:#1f77b4;stroke:#1f77b4;\" x=\"154.048918\" xlink:href=\"#m7c01c80419\" y=\"291.479339\"/>\r\n     <use style=\"fill:#1f77b4;stroke:#1f77b4;\" x=\"140.205126\" xlink:href=\"#m7c01c80419\" y=\"316.438017\"/>\r\n     <use style=\"fill:#1f77b4;stroke:#1f77b4;\" x=\"137.813099\" xlink:href=\"#m7c01c80419\" y=\"341.396694\"/>\r\n     <use style=\"fill:#1f77b4;stroke:#1f77b4;\" x=\"132.342654\" xlink:href=\"#m7c01c80419\" y=\"366.355372\"/>\r\n     <use style=\"fill:#1f77b4;stroke:#1f77b4;\" x=\"127.777368\" xlink:href=\"#m7c01c80419\" y=\"391.31405\"/>\r\n     <use style=\"fill:#1f77b4;stroke:#1f77b4;\" x=\"127.693371\" xlink:href=\"#m7c01c80419\" y=\"416.272727\"/>\r\n     <use style=\"fill:#1f77b4;stroke:#1f77b4;\" x=\"126.486075\" xlink:href=\"#m7c01c80419\" y=\"441.231405\"/>\r\n     <use style=\"fill:#1f77b4;stroke:#1f77b4;\" x=\"123.388224\" xlink:href=\"#m7c01c80419\" y=\"466.190083\"/>\r\n     <use style=\"fill:#1f77b4;stroke:#1f77b4;\" x=\"123.348107\" xlink:href=\"#m7c01c80419\" y=\"491.14876\"/>\r\n     <use style=\"fill:#1f77b4;stroke:#1f77b4;\" x=\"120.727283\" xlink:href=\"#m7c01c80419\" y=\"516.107438\"/>\r\n    </g>\r\n   </g>\r\n   <g id=\"patch_3\">\r\n    <path clip-path=\"url(#p510f0b395d)\" d=\"M 108.142188 31.909091 \r\nL 742.87052 31.909091 \r\nL 742.87052 51.876033 \r\nL 108.142188 51.876033 \r\nz\r\n\" style=\"fill:#ea96a3;\"/>\r\n   </g>\r\n   <g id=\"patch_4\">\r\n    <path clip-path=\"url(#p510f0b395d)\" d=\"M 108.142188 56.867769 \r\nL 253.649631 56.867769 \r\nL 253.649631 76.834711 \r\nL 108.142188 76.834711 \r\nz\r\n\" style=\"fill:#e79683;\"/>\r\n   </g>\r\n   <g id=\"patch_5\">\r\n    <path clip-path=\"url(#p510f0b395d)\" d=\"M 108.142188 81.826446 \r\nL 234.453867 81.826446 \r\nL 234.453867 101.793388 \r\nL 108.142188 101.793388 \r\nz\r\n\" style=\"fill:#d7944e;\"/>\r\n   </g>\r\n   <g id=\"patch_6\">\r\n    <path clip-path=\"url(#p510f0b395d)\" d=\"M 108.142188 106.785124 \r\nL 214.111609 106.785124 \r\nL 214.111609 126.752066 \r\nL 108.142188 126.752066 \r\nz\r\n\" style=\"fill:#bf9a4a;\"/>\r\n   </g>\r\n   <g id=\"patch_7\">\r\n    <path clip-path=\"url(#p510f0b395d)\" d=\"M 108.142188 131.743802 \r\nL 209.909891 131.743802 \r\nL 209.909891 151.710744 \r\nL 108.142188 151.710744 \r\nz\r\n\" style=\"fill:#ab9e47;\"/>\r\n   </g>\r\n   <g id=\"patch_8\">\r\n    <path clip-path=\"url(#p510f0b395d)\" d=\"M 108.142188 156.702479 \r\nL 208.381652 156.702479 \r\nL 208.381652 176.669421 \r\nL 108.142188 176.669421 \r\nz\r\n\" style=\"fill:#98a246;\"/>\r\n   </g>\r\n   <g id=\"patch_9\">\r\n    <path clip-path=\"url(#p510f0b395d)\" d=\"M 108.142188 181.661157 \r\nL 180.011436 181.661157 \r\nL 180.011436 201.628099 \r\nL 108.142188 201.628099 \r\nz\r\n\" style=\"fill:#7fa946;\"/>\r\n   </g>\r\n   <g id=\"patch_10\">\r\n    <path clip-path=\"url(#p510f0b395d)\" d=\"M 108.142188 206.619835 \r\nL 166.788216 206.619835 \r\nL 166.788216 226.586777 \r\nL 108.142188 226.586777 \r\nz\r\n\" style=\"fill:#48b052;\"/>\r\n   </g>\r\n   <g id=\"patch_11\">\r\n    <path clip-path=\"url(#p510f0b395d)\" d=\"M 108.142188 231.578512 \r\nL 166.177673 231.578512 \r\nL 166.177673 251.545455 \r\nL 108.142188 251.545455 \r\nz\r\n\" style=\"fill:#49ae83;\"/>\r\n   </g>\r\n   <g id=\"patch_12\">\r\n    <path clip-path=\"url(#p510f0b395d)\" d=\"M 108.142188 256.53719 \r\nL 160.759256 256.53719 \r\nL 160.759256 276.504132 \r\nL 108.142188 276.504132 \r\nz\r\n\" style=\"fill:#4aad96;\"/>\r\n   </g>\r\n   <g id=\"patch_13\">\r\n    <path clip-path=\"url(#p510f0b395d)\" d=\"M 108.142188 281.495868 \r\nL 154.048918 281.495868 \r\nL 154.048918 301.46281 \r\nL 108.142188 301.46281 \r\nz\r\n\" style=\"fill:#4baba4;\"/>\r\n   </g>\r\n   <g id=\"patch_14\">\r\n    <path clip-path=\"url(#p510f0b395d)\" d=\"M 108.142188 306.454545 \r\nL 140.205126 306.454545 \r\nL 140.205126 326.421488 \r\nL 108.142188 326.421488 \r\nz\r\n\" style=\"fill:#4dabb2;\"/>\r\n   </g>\r\n   <g id=\"patch_15\">\r\n    <path clip-path=\"url(#p510f0b395d)\" d=\"M 108.142188 331.413223 \r\nL 137.813099 331.413223 \r\nL 137.813099 351.380165 \r\nL 108.142188 351.380165 \r\nz\r\n\" style=\"fill:#50acc3;\"/>\r\n   </g>\r\n   <g id=\"patch_16\">\r\n    <path clip-path=\"url(#p510f0b395d)\" d=\"M 108.142188 356.371901 \r\nL 132.342654 356.371901 \r\nL 132.342654 376.338843 \r\nL 108.142188 376.338843 \r\nz\r\n\" style=\"fill:#56addb;\"/>\r\n   </g>\r\n   <g id=\"patch_17\">\r\n    <path clip-path=\"url(#p510f0b395d)\" d=\"M 108.142188 381.330579 \r\nL 127.777368 381.330579 \r\nL 127.777368 401.297521 \r\nL 108.142188 401.297521 \r\nz\r\n\" style=\"fill:#94aee8;\"/>\r\n   </g>\r\n   <g id=\"patch_18\">\r\n    <path clip-path=\"url(#p510f0b395d)\" d=\"M 108.142188 406.289256 \r\nL 127.693371 406.289256 \r\nL 127.693371 426.256198 \r\nL 108.142188 426.256198 \r\nz\r\n\" style=\"fill:#b6a8eb;\"/>\r\n   </g>\r\n   <g id=\"patch_19\">\r\n    <path clip-path=\"url(#p510f0b395d)\" d=\"M 108.142188 431.247934 \r\nL 126.486075 431.247934 \r\nL 126.486075 451.214876 \r\nL 108.142188 451.214876 \r\nz\r\n\" style=\"fill:#ce9be9;\"/>\r\n   </g>\r\n   <g id=\"patch_20\">\r\n    <path clip-path=\"url(#p510f0b395d)\" d=\"M 108.142188 456.206612 \r\nL 123.388224 456.206612 \r\nL 123.388224 476.173554 \r\nL 108.142188 476.173554 \r\nz\r\n\" style=\"fill:#e689e4;\"/>\r\n   </g>\r\n   <g id=\"patch_21\">\r\n    <path clip-path=\"url(#p510f0b395d)\" d=\"M 108.142188 481.165289 \r\nL 123.348107 481.165289 \r\nL 123.348107 501.132231 \r\nL 108.142188 501.132231 \r\nz\r\n\" style=\"fill:#e88fcc;\"/>\r\n   </g>\r\n   <g id=\"patch_22\">\r\n    <path clip-path=\"url(#p510f0b395d)\" d=\"M 108.142188 506.123967 \r\nL 120.727283 506.123967 \r\nL 120.727283 526.090909 \r\nL 108.142188 526.090909 \r\nz\r\n\" style=\"fill:#e993b9;\"/>\r\n   </g>\r\n   <g id=\"matplotlib.axis_1\">\r\n    <g id=\"xtick_1\">\r\n     <g id=\"line2d_1\">\r\n      <defs>\r\n       <path d=\"M 0 0 \r\nL 0 3.5 \r\n\" id=\"m34fa16646a\" style=\"stroke:#000000;stroke-width:0.8;\"/>\r\n      </defs>\r\n      <g>\r\n       <use style=\"stroke:#000000;stroke-width:0.8;\" x=\"108.142188\" xlink:href=\"#m34fa16646a\" y=\"550.8\"/>\r\n      </g>\r\n     </g>\r\n     <g id=\"text_1\">\r\n      <!-- 0 -->\r\n      <defs>\r\n       <path d=\"M 31.78125 66.40625 \r\nQ 24.171875 66.40625 20.328125 58.90625 \r\nQ 16.5 51.421875 16.5 36.375 \r\nQ 16.5 21.390625 20.328125 13.890625 \r\nQ 24.171875 6.390625 31.78125 6.390625 \r\nQ 39.453125 6.390625 43.28125 13.890625 \r\nQ 47.125 21.390625 47.125 36.375 \r\nQ 47.125 51.421875 43.28125 58.90625 \r\nQ 39.453125 66.40625 31.78125 66.40625 \r\nz\r\nM 31.78125 74.21875 \r\nQ 44.046875 74.21875 50.515625 64.515625 \r\nQ 56.984375 54.828125 56.984375 36.375 \r\nQ 56.984375 17.96875 50.515625 8.265625 \r\nQ 44.046875 -1.421875 31.78125 -1.421875 \r\nQ 19.53125 -1.421875 13.0625 8.265625 \r\nQ 6.59375 17.96875 6.59375 36.375 \r\nQ 6.59375 54.828125 13.0625 64.515625 \r\nQ 19.53125 74.21875 31.78125 74.21875 \r\nz\r\n\" id=\"DejaVuSans-48\"/>\r\n      </defs>\r\n      <g transform=\"translate(104.960938 565.398438)scale(0.1 -0.1)\">\r\n       <use xlink:href=\"#DejaVuSans-48\"/>\r\n      </g>\r\n     </g>\r\n    </g>\r\n    <g id=\"xtick_2\">\r\n     <g id=\"line2d_2\">\r\n      <g>\r\n       <use style=\"stroke:#000000;stroke-width:0.8;\" x=\"233.51047\" xlink:href=\"#m34fa16646a\" y=\"550.8\"/>\r\n      </g>\r\n     </g>\r\n     <g id=\"text_2\">\r\n      <!-- 200000 -->\r\n      <defs>\r\n       <path d=\"M 19.1875 8.296875 \r\nL 53.609375 8.296875 \r\nL 53.609375 0 \r\nL 7.328125 0 \r\nL 7.328125 8.296875 \r\nQ 12.9375 14.109375 22.625 23.890625 \r\nQ 32.328125 33.6875 34.8125 36.53125 \r\nQ 39.546875 41.84375 41.421875 45.53125 \r\nQ 43.3125 49.21875 43.3125 52.78125 \r\nQ 43.3125 58.59375 39.234375 62.25 \r\nQ 35.15625 65.921875 28.609375 65.921875 \r\nQ 23.96875 65.921875 18.8125 64.3125 \r\nQ 13.671875 62.703125 7.8125 59.421875 \r\nL 7.8125 69.390625 \r\nQ 13.765625 71.78125 18.9375 73 \r\nQ 24.125 74.21875 28.421875 74.21875 \r\nQ 39.75 74.21875 46.484375 68.546875 \r\nQ 53.21875 62.890625 53.21875 53.421875 \r\nQ 53.21875 48.921875 51.53125 44.890625 \r\nQ 49.859375 40.875 45.40625 35.40625 \r\nQ 44.1875 33.984375 37.640625 27.21875 \r\nQ 31.109375 20.453125 19.1875 8.296875 \r\nz\r\n\" id=\"DejaVuSans-50\"/>\r\n      </defs>\r\n      <g transform=\"translate(214.42297 565.398438)scale(0.1 -0.1)\">\r\n       <use xlink:href=\"#DejaVuSans-50\"/>\r\n       <use x=\"63.623047\" xlink:href=\"#DejaVuSans-48\"/>\r\n       <use x=\"127.246094\" xlink:href=\"#DejaVuSans-48\"/>\r\n       <use x=\"190.869141\" xlink:href=\"#DejaVuSans-48\"/>\r\n       <use x=\"254.492188\" xlink:href=\"#DejaVuSans-48\"/>\r\n       <use x=\"318.115234\" xlink:href=\"#DejaVuSans-48\"/>\r\n      </g>\r\n     </g>\r\n    </g>\r\n    <g id=\"xtick_3\">\r\n     <g id=\"line2d_3\">\r\n      <g>\r\n       <use style=\"stroke:#000000;stroke-width:0.8;\" x=\"358.878753\" xlink:href=\"#m34fa16646a\" y=\"550.8\"/>\r\n      </g>\r\n     </g>\r\n     <g id=\"text_3\">\r\n      <!-- 400000 -->\r\n      <defs>\r\n       <path d=\"M 37.796875 64.3125 \r\nL 12.890625 25.390625 \r\nL 37.796875 25.390625 \r\nz\r\nM 35.203125 72.90625 \r\nL 47.609375 72.90625 \r\nL 47.609375 25.390625 \r\nL 58.015625 25.390625 \r\nL 58.015625 17.1875 \r\nL 47.609375 17.1875 \r\nL 47.609375 0 \r\nL 37.796875 0 \r\nL 37.796875 17.1875 \r\nL 4.890625 17.1875 \r\nL 4.890625 26.703125 \r\nz\r\n\" id=\"DejaVuSans-52\"/>\r\n      </defs>\r\n      <g transform=\"translate(339.791253 565.398438)scale(0.1 -0.1)\">\r\n       <use xlink:href=\"#DejaVuSans-52\"/>\r\n       <use x=\"63.623047\" xlink:href=\"#DejaVuSans-48\"/>\r\n       <use x=\"127.246094\" xlink:href=\"#DejaVuSans-48\"/>\r\n       <use x=\"190.869141\" xlink:href=\"#DejaVuSans-48\"/>\r\n       <use x=\"254.492188\" xlink:href=\"#DejaVuSans-48\"/>\r\n       <use x=\"318.115234\" xlink:href=\"#DejaVuSans-48\"/>\r\n      </g>\r\n     </g>\r\n    </g>\r\n    <g id=\"xtick_4\">\r\n     <g id=\"line2d_4\">\r\n      <g>\r\n       <use style=\"stroke:#000000;stroke-width:0.8;\" x=\"484.247036\" xlink:href=\"#m34fa16646a\" y=\"550.8\"/>\r\n      </g>\r\n     </g>\r\n     <g id=\"text_4\">\r\n      <!-- 600000 -->\r\n      <defs>\r\n       <path d=\"M 33.015625 40.375 \r\nQ 26.375 40.375 22.484375 35.828125 \r\nQ 18.609375 31.296875 18.609375 23.390625 \r\nQ 18.609375 15.53125 22.484375 10.953125 \r\nQ 26.375 6.390625 33.015625 6.390625 \r\nQ 39.65625 6.390625 43.53125 10.953125 \r\nQ 47.40625 15.53125 47.40625 23.390625 \r\nQ 47.40625 31.296875 43.53125 35.828125 \r\nQ 39.65625 40.375 33.015625 40.375 \r\nz\r\nM 52.59375 71.296875 \r\nL 52.59375 62.3125 \r\nQ 48.875 64.0625 45.09375 64.984375 \r\nQ 41.3125 65.921875 37.59375 65.921875 \r\nQ 27.828125 65.921875 22.671875 59.328125 \r\nQ 17.53125 52.734375 16.796875 39.40625 \r\nQ 19.671875 43.65625 24.015625 45.921875 \r\nQ 28.375 48.1875 33.59375 48.1875 \r\nQ 44.578125 48.1875 50.953125 41.515625 \r\nQ 57.328125 34.859375 57.328125 23.390625 \r\nQ 57.328125 12.15625 50.6875 5.359375 \r\nQ 44.046875 -1.421875 33.015625 -1.421875 \r\nQ 20.359375 -1.421875 13.671875 8.265625 \r\nQ 6.984375 17.96875 6.984375 36.375 \r\nQ 6.984375 53.65625 15.1875 63.9375 \r\nQ 23.390625 74.21875 37.203125 74.21875 \r\nQ 40.921875 74.21875 44.703125 73.484375 \r\nQ 48.484375 72.75 52.59375 71.296875 \r\nz\r\n\" id=\"DejaVuSans-54\"/>\r\n      </defs>\r\n      <g transform=\"translate(465.159536 565.398438)scale(0.1 -0.1)\">\r\n       <use xlink:href=\"#DejaVuSans-54\"/>\r\n       <use x=\"63.623047\" xlink:href=\"#DejaVuSans-48\"/>\r\n       <use x=\"127.246094\" xlink:href=\"#DejaVuSans-48\"/>\r\n       <use x=\"190.869141\" xlink:href=\"#DejaVuSans-48\"/>\r\n       <use x=\"254.492188\" xlink:href=\"#DejaVuSans-48\"/>\r\n       <use x=\"318.115234\" xlink:href=\"#DejaVuSans-48\"/>\r\n      </g>\r\n     </g>\r\n    </g>\r\n    <g id=\"xtick_5\">\r\n     <g id=\"line2d_5\">\r\n      <g>\r\n       <use style=\"stroke:#000000;stroke-width:0.8;\" x=\"609.615319\" xlink:href=\"#m34fa16646a\" y=\"550.8\"/>\r\n      </g>\r\n     </g>\r\n     <g id=\"text_5\">\r\n      <!-- 800000 -->\r\n      <defs>\r\n       <path d=\"M 31.78125 34.625 \r\nQ 24.75 34.625 20.71875 30.859375 \r\nQ 16.703125 27.09375 16.703125 20.515625 \r\nQ 16.703125 13.921875 20.71875 10.15625 \r\nQ 24.75 6.390625 31.78125 6.390625 \r\nQ 38.8125 6.390625 42.859375 10.171875 \r\nQ 46.921875 13.96875 46.921875 20.515625 \r\nQ 46.921875 27.09375 42.890625 30.859375 \r\nQ 38.875 34.625 31.78125 34.625 \r\nz\r\nM 21.921875 38.8125 \r\nQ 15.578125 40.375 12.03125 44.71875 \r\nQ 8.5 49.078125 8.5 55.328125 \r\nQ 8.5 64.0625 14.71875 69.140625 \r\nQ 20.953125 74.21875 31.78125 74.21875 \r\nQ 42.671875 74.21875 48.875 69.140625 \r\nQ 55.078125 64.0625 55.078125 55.328125 \r\nQ 55.078125 49.078125 51.53125 44.71875 \r\nQ 48 40.375 41.703125 38.8125 \r\nQ 48.828125 37.15625 52.796875 32.3125 \r\nQ 56.78125 27.484375 56.78125 20.515625 \r\nQ 56.78125 9.90625 50.3125 4.234375 \r\nQ 43.84375 -1.421875 31.78125 -1.421875 \r\nQ 19.734375 -1.421875 13.25 4.234375 \r\nQ 6.78125 9.90625 6.78125 20.515625 \r\nQ 6.78125 27.484375 10.78125 32.3125 \r\nQ 14.796875 37.15625 21.921875 38.8125 \r\nz\r\nM 18.3125 54.390625 \r\nQ 18.3125 48.734375 21.84375 45.5625 \r\nQ 25.390625 42.390625 31.78125 42.390625 \r\nQ 38.140625 42.390625 41.71875 45.5625 \r\nQ 45.3125 48.734375 45.3125 54.390625 \r\nQ 45.3125 60.0625 41.71875 63.234375 \r\nQ 38.140625 66.40625 31.78125 66.40625 \r\nQ 25.390625 66.40625 21.84375 63.234375 \r\nQ 18.3125 60.0625 18.3125 54.390625 \r\nz\r\n\" id=\"DejaVuSans-56\"/>\r\n      </defs>\r\n      <g transform=\"translate(590.527819 565.398438)scale(0.1 -0.1)\">\r\n       <use xlink:href=\"#DejaVuSans-56\"/>\r\n       <use x=\"63.623047\" xlink:href=\"#DejaVuSans-48\"/>\r\n       <use x=\"127.246094\" xlink:href=\"#DejaVuSans-48\"/>\r\n       <use x=\"190.869141\" xlink:href=\"#DejaVuSans-48\"/>\r\n       <use x=\"254.492188\" xlink:href=\"#DejaVuSans-48\"/>\r\n       <use x=\"318.115234\" xlink:href=\"#DejaVuSans-48\"/>\r\n      </g>\r\n     </g>\r\n    </g>\r\n    <g id=\"xtick_6\">\r\n     <g id=\"line2d_6\">\r\n      <g>\r\n       <use style=\"stroke:#000000;stroke-width:0.8;\" x=\"734.983601\" xlink:href=\"#m34fa16646a\" y=\"550.8\"/>\r\n      </g>\r\n     </g>\r\n     <g id=\"text_6\">\r\n      <!-- 1000000 -->\r\n      <defs>\r\n       <path d=\"M 12.40625 8.296875 \r\nL 28.515625 8.296875 \r\nL 28.515625 63.921875 \r\nL 10.984375 60.40625 \r\nL 10.984375 69.390625 \r\nL 28.421875 72.90625 \r\nL 38.28125 72.90625 \r\nL 38.28125 8.296875 \r\nL 54.390625 8.296875 \r\nL 54.390625 0 \r\nL 12.40625 0 \r\nz\r\n\" id=\"DejaVuSans-49\"/>\r\n      </defs>\r\n      <g transform=\"translate(712.714851 565.398438)scale(0.1 -0.1)\">\r\n       <use xlink:href=\"#DejaVuSans-49\"/>\r\n       <use x=\"63.623047\" xlink:href=\"#DejaVuSans-48\"/>\r\n       <use x=\"127.246094\" xlink:href=\"#DejaVuSans-48\"/>\r\n       <use x=\"190.869141\" xlink:href=\"#DejaVuSans-48\"/>\r\n       <use x=\"254.492188\" xlink:href=\"#DejaVuSans-48\"/>\r\n       <use x=\"318.115234\" xlink:href=\"#DejaVuSans-48\"/>\r\n       <use x=\"381.738281\" xlink:href=\"#DejaVuSans-48\"/>\r\n      </g>\r\n     </g>\r\n    </g>\r\n    <g id=\"text_7\">\r\n     <!-- Confirmed -->\r\n     <defs>\r\n      <path d=\"M 64.40625 67.28125 \r\nL 64.40625 56.890625 \r\nQ 59.421875 61.53125 53.78125 63.8125 \r\nQ 48.140625 66.109375 41.796875 66.109375 \r\nQ 29.296875 66.109375 22.65625 58.46875 \r\nQ 16.015625 50.828125 16.015625 36.375 \r\nQ 16.015625 21.96875 22.65625 14.328125 \r\nQ 29.296875 6.6875 41.796875 6.6875 \r\nQ 48.140625 6.6875 53.78125 8.984375 \r\nQ 59.421875 11.28125 64.40625 15.921875 \r\nL 64.40625 5.609375 \r\nQ 59.234375 2.09375 53.4375 0.328125 \r\nQ 47.65625 -1.421875 41.21875 -1.421875 \r\nQ 24.65625 -1.421875 15.125 8.703125 \r\nQ 5.609375 18.84375 5.609375 36.375 \r\nQ 5.609375 53.953125 15.125 64.078125 \r\nQ 24.65625 74.21875 41.21875 74.21875 \r\nQ 47.75 74.21875 53.53125 72.484375 \r\nQ 59.328125 70.75 64.40625 67.28125 \r\nz\r\n\" id=\"DejaVuSans-67\"/>\r\n      <path d=\"M 30.609375 48.390625 \r\nQ 23.390625 48.390625 19.1875 42.75 \r\nQ 14.984375 37.109375 14.984375 27.296875 \r\nQ 14.984375 17.484375 19.15625 11.84375 \r\nQ 23.34375 6.203125 30.609375 6.203125 \r\nQ 37.796875 6.203125 41.984375 11.859375 \r\nQ 46.1875 17.53125 46.1875 27.296875 \r\nQ 46.1875 37.015625 41.984375 42.703125 \r\nQ 37.796875 48.390625 30.609375 48.390625 \r\nz\r\nM 30.609375 56 \r\nQ 42.328125 56 49.015625 48.375 \r\nQ 55.71875 40.765625 55.71875 27.296875 \r\nQ 55.71875 13.875 49.015625 6.21875 \r\nQ 42.328125 -1.421875 30.609375 -1.421875 \r\nQ 18.84375 -1.421875 12.171875 6.21875 \r\nQ 5.515625 13.875 5.515625 27.296875 \r\nQ 5.515625 40.765625 12.171875 48.375 \r\nQ 18.84375 56 30.609375 56 \r\nz\r\n\" id=\"DejaVuSans-111\"/>\r\n      <path d=\"M 54.890625 33.015625 \r\nL 54.890625 0 \r\nL 45.90625 0 \r\nL 45.90625 32.71875 \r\nQ 45.90625 40.484375 42.875 44.328125 \r\nQ 39.84375 48.1875 33.796875 48.1875 \r\nQ 26.515625 48.1875 22.3125 43.546875 \r\nQ 18.109375 38.921875 18.109375 30.90625 \r\nL 18.109375 0 \r\nL 9.078125 0 \r\nL 9.078125 54.6875 \r\nL 18.109375 54.6875 \r\nL 18.109375 46.1875 \r\nQ 21.34375 51.125 25.703125 53.5625 \r\nQ 30.078125 56 35.796875 56 \r\nQ 45.21875 56 50.046875 50.171875 \r\nQ 54.890625 44.34375 54.890625 33.015625 \r\nz\r\n\" id=\"DejaVuSans-110\"/>\r\n      <path d=\"M 37.109375 75.984375 \r\nL 37.109375 68.5 \r\nL 28.515625 68.5 \r\nQ 23.6875 68.5 21.796875 66.546875 \r\nQ 19.921875 64.59375 19.921875 59.515625 \r\nL 19.921875 54.6875 \r\nL 34.71875 54.6875 \r\nL 34.71875 47.703125 \r\nL 19.921875 47.703125 \r\nL 19.921875 0 \r\nL 10.890625 0 \r\nL 10.890625 47.703125 \r\nL 2.296875 47.703125 \r\nL 2.296875 54.6875 \r\nL 10.890625 54.6875 \r\nL 10.890625 58.5 \r\nQ 10.890625 67.625 15.140625 71.796875 \r\nQ 19.390625 75.984375 28.609375 75.984375 \r\nz\r\n\" id=\"DejaVuSans-102\"/>\r\n      <path d=\"M 9.421875 54.6875 \r\nL 18.40625 54.6875 \r\nL 18.40625 0 \r\nL 9.421875 0 \r\nz\r\nM 9.421875 75.984375 \r\nL 18.40625 75.984375 \r\nL 18.40625 64.59375 \r\nL 9.421875 64.59375 \r\nz\r\n\" id=\"DejaVuSans-105\"/>\r\n      <path d=\"M 41.109375 46.296875 \r\nQ 39.59375 47.171875 37.8125 47.578125 \r\nQ 36.03125 48 33.890625 48 \r\nQ 26.265625 48 22.1875 43.046875 \r\nQ 18.109375 38.09375 18.109375 28.8125 \r\nL 18.109375 0 \r\nL 9.078125 0 \r\nL 9.078125 54.6875 \r\nL 18.109375 54.6875 \r\nL 18.109375 46.1875 \r\nQ 20.953125 51.171875 25.484375 53.578125 \r\nQ 30.03125 56 36.53125 56 \r\nQ 37.453125 56 38.578125 55.875 \r\nQ 39.703125 55.765625 41.0625 55.515625 \r\nz\r\n\" id=\"DejaVuSans-114\"/>\r\n      <path d=\"M 52 44.1875 \r\nQ 55.375 50.25 60.0625 53.125 \r\nQ 64.75 56 71.09375 56 \r\nQ 79.640625 56 84.28125 50.015625 \r\nQ 88.921875 44.046875 88.921875 33.015625 \r\nL 88.921875 0 \r\nL 79.890625 0 \r\nL 79.890625 32.71875 \r\nQ 79.890625 40.578125 77.09375 44.375 \r\nQ 74.3125 48.1875 68.609375 48.1875 \r\nQ 61.625 48.1875 57.5625 43.546875 \r\nQ 53.515625 38.921875 53.515625 30.90625 \r\nL 53.515625 0 \r\nL 44.484375 0 \r\nL 44.484375 32.71875 \r\nQ 44.484375 40.625 41.703125 44.40625 \r\nQ 38.921875 48.1875 33.109375 48.1875 \r\nQ 26.21875 48.1875 22.15625 43.53125 \r\nQ 18.109375 38.875 18.109375 30.90625 \r\nL 18.109375 0 \r\nL 9.078125 0 \r\nL 9.078125 54.6875 \r\nL 18.109375 54.6875 \r\nL 18.109375 46.1875 \r\nQ 21.1875 51.21875 25.484375 53.609375 \r\nQ 29.78125 56 35.6875 56 \r\nQ 41.65625 56 45.828125 52.96875 \r\nQ 50 49.953125 52 44.1875 \r\nz\r\n\" id=\"DejaVuSans-109\"/>\r\n      <path d=\"M 56.203125 29.59375 \r\nL 56.203125 25.203125 \r\nL 14.890625 25.203125 \r\nQ 15.484375 15.921875 20.484375 11.0625 \r\nQ 25.484375 6.203125 34.421875 6.203125 \r\nQ 39.59375 6.203125 44.453125 7.46875 \r\nQ 49.3125 8.734375 54.109375 11.28125 \r\nL 54.109375 2.78125 \r\nQ 49.265625 0.734375 44.1875 -0.34375 \r\nQ 39.109375 -1.421875 33.890625 -1.421875 \r\nQ 20.796875 -1.421875 13.15625 6.1875 \r\nQ 5.515625 13.8125 5.515625 26.8125 \r\nQ 5.515625 40.234375 12.765625 48.109375 \r\nQ 20.015625 56 32.328125 56 \r\nQ 43.359375 56 49.78125 48.890625 \r\nQ 56.203125 41.796875 56.203125 29.59375 \r\nz\r\nM 47.21875 32.234375 \r\nQ 47.125 39.59375 43.09375 43.984375 \r\nQ 39.0625 48.390625 32.421875 48.390625 \r\nQ 24.90625 48.390625 20.390625 44.140625 \r\nQ 15.875 39.890625 15.1875 32.171875 \r\nz\r\n\" id=\"DejaVuSans-101\"/>\r\n      <path d=\"M 45.40625 46.390625 \r\nL 45.40625 75.984375 \r\nL 54.390625 75.984375 \r\nL 54.390625 0 \r\nL 45.40625 0 \r\nL 45.40625 8.203125 \r\nQ 42.578125 3.328125 38.25 0.953125 \r\nQ 33.9375 -1.421875 27.875 -1.421875 \r\nQ 17.96875 -1.421875 11.734375 6.484375 \r\nQ 5.515625 14.40625 5.515625 27.296875 \r\nQ 5.515625 40.1875 11.734375 48.09375 \r\nQ 17.96875 56 27.875 56 \r\nQ 33.9375 56 38.25 53.625 \r\nQ 42.578125 51.265625 45.40625 46.390625 \r\nz\r\nM 14.796875 27.296875 \r\nQ 14.796875 17.390625 18.875 11.75 \r\nQ 22.953125 6.109375 30.078125 6.109375 \r\nQ 37.203125 6.109375 41.296875 11.75 \r\nQ 45.40625 17.390625 45.40625 27.296875 \r\nQ 45.40625 37.203125 41.296875 42.84375 \r\nQ 37.203125 48.484375 30.078125 48.484375 \r\nQ 22.953125 48.484375 18.875 42.84375 \r\nQ 14.796875 37.203125 14.796875 27.296875 \r\nz\r\n\" id=\"DejaVuSans-100\"/>\r\n     </defs>\r\n     <g transform=\"translate(416.897656 579.076563)scale(0.1 -0.1)\">\r\n      <use xlink:href=\"#DejaVuSans-67\"/>\r\n      <use x=\"69.824219\" xlink:href=\"#DejaVuSans-111\"/>\r\n      <use x=\"131.005859\" xlink:href=\"#DejaVuSans-110\"/>\r\n      <use x=\"194.384766\" xlink:href=\"#DejaVuSans-102\"/>\r\n      <use x=\"229.589844\" xlink:href=\"#DejaVuSans-105\"/>\r\n      <use x=\"257.373047\" xlink:href=\"#DejaVuSans-114\"/>\r\n      <use x=\"298.470703\" xlink:href=\"#DejaVuSans-109\"/>\r\n      <use x=\"395.882812\" xlink:href=\"#DejaVuSans-101\"/>\r\n      <use x=\"457.40625\" xlink:href=\"#DejaVuSans-100\"/>\r\n     </g>\r\n    </g>\r\n   </g>\r\n   <g id=\"matplotlib.axis_2\">\r\n    <g id=\"ytick_1\">\r\n     <g id=\"line2d_7\">\r\n      <defs>\r\n       <path d=\"M 0 0 \r\nL -3.5 0 \r\n\" id=\"mfd9c23a455\" style=\"stroke:#000000;stroke-width:0.8;\"/>\r\n      </defs>\r\n      <g>\r\n       <use style=\"stroke:#000000;stroke-width:0.8;\" x=\"108.142188\" xlink:href=\"#mfd9c23a455\" y=\"41.892562\"/>\r\n      </g>\r\n     </g>\r\n     <g id=\"text_8\">\r\n      <!-- US -->\r\n      <defs>\r\n       <path d=\"M 8.6875 72.90625 \r\nL 18.609375 72.90625 \r\nL 18.609375 28.609375 \r\nQ 18.609375 16.890625 22.84375 11.734375 \r\nQ 27.09375 6.59375 36.625 6.59375 \r\nQ 46.09375 6.59375 50.34375 11.734375 \r\nQ 54.59375 16.890625 54.59375 28.609375 \r\nL 54.59375 72.90625 \r\nL 64.5 72.90625 \r\nL 64.5 27.390625 \r\nQ 64.5 13.140625 57.4375 5.859375 \r\nQ 50.390625 -1.421875 36.625 -1.421875 \r\nQ 22.796875 -1.421875 15.734375 5.859375 \r\nQ 8.6875 13.140625 8.6875 27.390625 \r\nz\r\n\" id=\"DejaVuSans-85\"/>\r\n       <path d=\"M 53.515625 70.515625 \r\nL 53.515625 60.890625 \r\nQ 47.90625 63.578125 42.921875 64.890625 \r\nQ 37.9375 66.21875 33.296875 66.21875 \r\nQ 25.25 66.21875 20.875 63.09375 \r\nQ 16.5 59.96875 16.5 54.203125 \r\nQ 16.5 49.359375 19.40625 46.890625 \r\nQ 22.3125 44.4375 30.421875 42.921875 \r\nL 36.375 41.703125 \r\nQ 47.40625 39.59375 52.65625 34.296875 \r\nQ 57.90625 29 57.90625 20.125 \r\nQ 57.90625 9.515625 50.796875 4.046875 \r\nQ 43.703125 -1.421875 29.984375 -1.421875 \r\nQ 24.8125 -1.421875 18.96875 -0.25 \r\nQ 13.140625 0.921875 6.890625 3.21875 \r\nL 6.890625 13.375 \r\nQ 12.890625 10.015625 18.65625 8.296875 \r\nQ 24.421875 6.59375 29.984375 6.59375 \r\nQ 38.421875 6.59375 43.015625 9.90625 \r\nQ 47.609375 13.234375 47.609375 19.390625 \r\nQ 47.609375 24.75 44.3125 27.78125 \r\nQ 41.015625 30.8125 33.5 32.328125 \r\nL 27.484375 33.5 \r\nQ 16.453125 35.6875 11.515625 40.375 \r\nQ 6.59375 45.0625 6.59375 53.421875 \r\nQ 6.59375 63.09375 13.40625 68.65625 \r\nQ 20.21875 74.21875 32.171875 74.21875 \r\nQ 37.3125 74.21875 42.625 73.28125 \r\nQ 47.953125 72.359375 53.515625 70.515625 \r\nz\r\n\" id=\"DejaVuSans-83\"/>\r\n      </defs>\r\n      <g transform=\"translate(87.475 45.691781)scale(0.1 -0.1)\">\r\n       <use xlink:href=\"#DejaVuSans-85\"/>\r\n       <use x=\"73.193359\" xlink:href=\"#DejaVuSans-83\"/>\r\n      </g>\r\n     </g>\r\n    </g>\r\n    <g id=\"ytick_2\">\r\n     <g id=\"line2d_8\">\r\n      <g>\r\n       <use style=\"stroke:#000000;stroke-width:0.8;\" x=\"108.142188\" xlink:href=\"#mfd9c23a455\" y=\"66.85124\"/>\r\n      </g>\r\n     </g>\r\n     <g id=\"text_9\">\r\n      <!-- Spain -->\r\n      <defs>\r\n       <path d=\"M 18.109375 8.203125 \r\nL 18.109375 -20.796875 \r\nL 9.078125 -20.796875 \r\nL 9.078125 54.6875 \r\nL 18.109375 54.6875 \r\nL 18.109375 46.390625 \r\nQ 20.953125 51.265625 25.265625 53.625 \r\nQ 29.59375 56 35.59375 56 \r\nQ 45.5625 56 51.78125 48.09375 \r\nQ 58.015625 40.1875 58.015625 27.296875 \r\nQ 58.015625 14.40625 51.78125 6.484375 \r\nQ 45.5625 -1.421875 35.59375 -1.421875 \r\nQ 29.59375 -1.421875 25.265625 0.953125 \r\nQ 20.953125 3.328125 18.109375 8.203125 \r\nz\r\nM 48.6875 27.296875 \r\nQ 48.6875 37.203125 44.609375 42.84375 \r\nQ 40.53125 48.484375 33.40625 48.484375 \r\nQ 26.265625 48.484375 22.1875 42.84375 \r\nQ 18.109375 37.203125 18.109375 27.296875 \r\nQ 18.109375 17.390625 22.1875 11.75 \r\nQ 26.265625 6.109375 33.40625 6.109375 \r\nQ 40.53125 6.109375 44.609375 11.75 \r\nQ 48.6875 17.390625 48.6875 27.296875 \r\nz\r\n\" id=\"DejaVuSans-112\"/>\r\n       <path d=\"M 34.28125 27.484375 \r\nQ 23.390625 27.484375 19.1875 25 \r\nQ 14.984375 22.515625 14.984375 16.5 \r\nQ 14.984375 11.71875 18.140625 8.90625 \r\nQ 21.296875 6.109375 26.703125 6.109375 \r\nQ 34.1875 6.109375 38.703125 11.40625 \r\nQ 43.21875 16.703125 43.21875 25.484375 \r\nL 43.21875 27.484375 \r\nz\r\nM 52.203125 31.203125 \r\nL 52.203125 0 \r\nL 43.21875 0 \r\nL 43.21875 8.296875 \r\nQ 40.140625 3.328125 35.546875 0.953125 \r\nQ 30.953125 -1.421875 24.3125 -1.421875 \r\nQ 15.921875 -1.421875 10.953125 3.296875 \r\nQ 6 8.015625 6 15.921875 \r\nQ 6 25.140625 12.171875 29.828125 \r\nQ 18.359375 34.515625 30.609375 34.515625 \r\nL 43.21875 34.515625 \r\nL 43.21875 35.40625 \r\nQ 43.21875 41.609375 39.140625 45 \r\nQ 35.0625 48.390625 27.6875 48.390625 \r\nQ 23 48.390625 18.546875 47.265625 \r\nQ 14.109375 46.140625 10.015625 43.890625 \r\nL 10.015625 52.203125 \r\nQ 14.9375 54.109375 19.578125 55.046875 \r\nQ 24.21875 56 28.609375 56 \r\nQ 40.484375 56 46.34375 49.84375 \r\nQ 52.203125 43.703125 52.203125 31.203125 \r\nz\r\n\" id=\"DejaVuSans-97\"/>\r\n      </defs>\r\n      <g transform=\"translate(73.201563 70.650458)scale(0.1 -0.1)\">\r\n       <use xlink:href=\"#DejaVuSans-83\"/>\r\n       <use x=\"63.476562\" xlink:href=\"#DejaVuSans-112\"/>\r\n       <use x=\"126.953125\" xlink:href=\"#DejaVuSans-97\"/>\r\n       <use x=\"188.232422\" xlink:href=\"#DejaVuSans-105\"/>\r\n       <use x=\"216.015625\" xlink:href=\"#DejaVuSans-110\"/>\r\n      </g>\r\n     </g>\r\n    </g>\r\n    <g id=\"ytick_3\">\r\n     <g id=\"line2d_9\">\r\n      <g>\r\n       <use style=\"stroke:#000000;stroke-width:0.8;\" x=\"108.142188\" xlink:href=\"#mfd9c23a455\" y=\"91.809917\"/>\r\n      </g>\r\n     </g>\r\n     <g id=\"text_10\">\r\n      <!-- Italy -->\r\n      <defs>\r\n       <path d=\"M 9.8125 72.90625 \r\nL 19.671875 72.90625 \r\nL 19.671875 0 \r\nL 9.8125 0 \r\nz\r\n\" id=\"DejaVuSans-73\"/>\r\n       <path d=\"M 18.3125 70.21875 \r\nL 18.3125 54.6875 \r\nL 36.8125 54.6875 \r\nL 36.8125 47.703125 \r\nL 18.3125 47.703125 \r\nL 18.3125 18.015625 \r\nQ 18.3125 11.328125 20.140625 9.421875 \r\nQ 21.96875 7.515625 27.59375 7.515625 \r\nL 36.8125 7.515625 \r\nL 36.8125 0 \r\nL 27.59375 0 \r\nQ 17.1875 0 13.234375 3.875 \r\nQ 9.28125 7.765625 9.28125 18.015625 \r\nL 9.28125 47.703125 \r\nL 2.6875 47.703125 \r\nL 2.6875 54.6875 \r\nL 9.28125 54.6875 \r\nL 9.28125 70.21875 \r\nz\r\n\" id=\"DejaVuSans-116\"/>\r\n       <path d=\"M 9.421875 75.984375 \r\nL 18.40625 75.984375 \r\nL 18.40625 0 \r\nL 9.421875 0 \r\nz\r\n\" id=\"DejaVuSans-108\"/>\r\n       <path d=\"M 32.171875 -5.078125 \r\nQ 28.375 -14.84375 24.75 -17.8125 \r\nQ 21.140625 -20.796875 15.09375 -20.796875 \r\nL 7.90625 -20.796875 \r\nL 7.90625 -13.28125 \r\nL 13.1875 -13.28125 \r\nQ 16.890625 -13.28125 18.9375 -11.515625 \r\nQ 21 -9.765625 23.484375 -3.21875 \r\nL 25.09375 0.875 \r\nL 2.984375 54.6875 \r\nL 12.5 54.6875 \r\nL 29.59375 11.921875 \r\nL 46.6875 54.6875 \r\nL 56.203125 54.6875 \r\nz\r\n\" id=\"DejaVuSans-121\"/>\r\n      </defs>\r\n      <g transform=\"translate(79.446875 95.609136)scale(0.1 -0.1)\">\r\n       <use xlink:href=\"#DejaVuSans-73\"/>\r\n       <use x=\"29.492188\" xlink:href=\"#DejaVuSans-116\"/>\r\n       <use x=\"68.701172\" xlink:href=\"#DejaVuSans-97\"/>\r\n       <use x=\"129.980469\" xlink:href=\"#DejaVuSans-108\"/>\r\n       <use x=\"157.763672\" xlink:href=\"#DejaVuSans-121\"/>\r\n      </g>\r\n     </g>\r\n    </g>\r\n    <g id=\"ytick_4\">\r\n     <g id=\"line2d_10\">\r\n      <g>\r\n       <use style=\"stroke:#000000;stroke-width:0.8;\" x=\"108.142188\" xlink:href=\"#mfd9c23a455\" y=\"116.768595\"/>\r\n      </g>\r\n     </g>\r\n     <g id=\"text_11\">\r\n      <!-- France -->\r\n      <defs>\r\n       <path d=\"M 9.8125 72.90625 \r\nL 51.703125 72.90625 \r\nL 51.703125 64.59375 \r\nL 19.671875 64.59375 \r\nL 19.671875 43.109375 \r\nL 48.578125 43.109375 \r\nL 48.578125 34.8125 \r\nL 19.671875 34.8125 \r\nL 19.671875 0 \r\nL 9.8125 0 \r\nz\r\n\" id=\"DejaVuSans-70\"/>\r\n       <path d=\"M 48.78125 52.59375 \r\nL 48.78125 44.1875 \r\nQ 44.96875 46.296875 41.140625 47.34375 \r\nQ 37.3125 48.390625 33.40625 48.390625 \r\nQ 24.65625 48.390625 19.8125 42.84375 \r\nQ 14.984375 37.3125 14.984375 27.296875 \r\nQ 14.984375 17.28125 19.8125 11.734375 \r\nQ 24.65625 6.203125 33.40625 6.203125 \r\nQ 37.3125 6.203125 41.140625 7.25 \r\nQ 44.96875 8.296875 48.78125 10.40625 \r\nL 48.78125 2.09375 \r\nQ 45.015625 0.34375 40.984375 -0.53125 \r\nQ 36.96875 -1.421875 32.421875 -1.421875 \r\nQ 20.0625 -1.421875 12.78125 6.34375 \r\nQ 5.515625 14.109375 5.515625 27.296875 \r\nQ 5.515625 40.671875 12.859375 48.328125 \r\nQ 20.21875 56 33.015625 56 \r\nQ 37.15625 56 41.109375 55.140625 \r\nQ 45.0625 54.296875 48.78125 52.59375 \r\nz\r\n\" id=\"DejaVuSans-99\"/>\r\n      </defs>\r\n      <g transform=\"translate(67.173438 120.567814)scale(0.1 -0.1)\">\r\n       <use xlink:href=\"#DejaVuSans-70\"/>\r\n       <use x=\"57.410156\" xlink:href=\"#DejaVuSans-114\"/>\r\n       <use x=\"98.523438\" xlink:href=\"#DejaVuSans-97\"/>\r\n       <use x=\"159.802734\" xlink:href=\"#DejaVuSans-110\"/>\r\n       <use x=\"223.181641\" xlink:href=\"#DejaVuSans-99\"/>\r\n       <use x=\"278.162109\" xlink:href=\"#DejaVuSans-101\"/>\r\n      </g>\r\n     </g>\r\n    </g>\r\n    <g id=\"ytick_5\">\r\n     <g id=\"line2d_11\">\r\n      <g>\r\n       <use style=\"stroke:#000000;stroke-width:0.8;\" x=\"108.142188\" xlink:href=\"#mfd9c23a455\" y=\"141.727273\"/>\r\n      </g>\r\n     </g>\r\n     <g id=\"text_12\">\r\n      <!-- United Kingdom -->\r\n      <defs>\r\n       <path id=\"DejaVuSans-32\"/>\r\n       <path d=\"M 9.8125 72.90625 \r\nL 19.671875 72.90625 \r\nL 19.671875 42.09375 \r\nL 52.390625 72.90625 \r\nL 65.09375 72.90625 \r\nL 28.90625 38.921875 \r\nL 67.671875 0 \r\nL 54.6875 0 \r\nL 19.671875 35.109375 \r\nL 19.671875 0 \r\nL 9.8125 0 \r\nz\r\n\" id=\"DejaVuSans-75\"/>\r\n       <path d=\"M 45.40625 27.984375 \r\nQ 45.40625 37.75 41.375 43.109375 \r\nQ 37.359375 48.484375 30.078125 48.484375 \r\nQ 22.859375 48.484375 18.828125 43.109375 \r\nQ 14.796875 37.75 14.796875 27.984375 \r\nQ 14.796875 18.265625 18.828125 12.890625 \r\nQ 22.859375 7.515625 30.078125 7.515625 \r\nQ 37.359375 7.515625 41.375 12.890625 \r\nQ 45.40625 18.265625 45.40625 27.984375 \r\nz\r\nM 54.390625 6.78125 \r\nQ 54.390625 -7.171875 48.1875 -13.984375 \r\nQ 42 -20.796875 29.203125 -20.796875 \r\nQ 24.46875 -20.796875 20.265625 -20.09375 \r\nQ 16.0625 -19.390625 12.109375 -17.921875 \r\nL 12.109375 -9.1875 \r\nQ 16.0625 -11.328125 19.921875 -12.34375 \r\nQ 23.78125 -13.375 27.78125 -13.375 \r\nQ 36.625 -13.375 41.015625 -8.765625 \r\nQ 45.40625 -4.15625 45.40625 5.171875 \r\nL 45.40625 9.625 \r\nQ 42.625 4.78125 38.28125 2.390625 \r\nQ 33.9375 0 27.875 0 \r\nQ 17.828125 0 11.671875 7.65625 \r\nQ 5.515625 15.328125 5.515625 27.984375 \r\nQ 5.515625 40.671875 11.671875 48.328125 \r\nQ 17.828125 56 27.875 56 \r\nQ 33.9375 56 38.28125 53.609375 \r\nQ 42.625 51.21875 45.40625 46.390625 \r\nL 45.40625 54.6875 \r\nL 54.390625 54.6875 \r\nz\r\n\" id=\"DejaVuSans-103\"/>\r\n      </defs>\r\n      <g transform=\"translate(20.878125 145.526491)scale(0.1 -0.1)\">\r\n       <use xlink:href=\"#DejaVuSans-85\"/>\r\n       <use x=\"73.193359\" xlink:href=\"#DejaVuSans-110\"/>\r\n       <use x=\"136.572266\" xlink:href=\"#DejaVuSans-105\"/>\r\n       <use x=\"164.355469\" xlink:href=\"#DejaVuSans-116\"/>\r\n       <use x=\"203.564453\" xlink:href=\"#DejaVuSans-101\"/>\r\n       <use x=\"265.087891\" xlink:href=\"#DejaVuSans-100\"/>\r\n       <use x=\"328.564453\" xlink:href=\"#DejaVuSans-32\"/>\r\n       <use x=\"360.351562\" xlink:href=\"#DejaVuSans-75\"/>\r\n       <use x=\"425.927734\" xlink:href=\"#DejaVuSans-105\"/>\r\n       <use x=\"453.710938\" xlink:href=\"#DejaVuSans-110\"/>\r\n       <use x=\"517.089844\" xlink:href=\"#DejaVuSans-103\"/>\r\n       <use x=\"580.566406\" xlink:href=\"#DejaVuSans-100\"/>\r\n       <use x=\"644.042969\" xlink:href=\"#DejaVuSans-111\"/>\r\n       <use x=\"705.224609\" xlink:href=\"#DejaVuSans-109\"/>\r\n      </g>\r\n     </g>\r\n    </g>\r\n    <g id=\"ytick_6\">\r\n     <g id=\"line2d_12\">\r\n      <g>\r\n       <use style=\"stroke:#000000;stroke-width:0.8;\" x=\"108.142188\" xlink:href=\"#mfd9c23a455\" y=\"166.68595\"/>\r\n      </g>\r\n     </g>\r\n     <g id=\"text_13\">\r\n      <!-- Germany -->\r\n      <defs>\r\n       <path d=\"M 59.515625 10.40625 \r\nL 59.515625 29.984375 \r\nL 43.40625 29.984375 \r\nL 43.40625 38.09375 \r\nL 69.28125 38.09375 \r\nL 69.28125 6.78125 \r\nQ 63.578125 2.734375 56.6875 0.65625 \r\nQ 49.8125 -1.421875 42 -1.421875 \r\nQ 24.90625 -1.421875 15.25 8.5625 \r\nQ 5.609375 18.5625 5.609375 36.375 \r\nQ 5.609375 54.25 15.25 64.234375 \r\nQ 24.90625 74.21875 42 74.21875 \r\nQ 49.125 74.21875 55.546875 72.453125 \r\nQ 61.96875 70.703125 67.390625 67.28125 \r\nL 67.390625 56.78125 \r\nQ 61.921875 61.421875 55.765625 63.765625 \r\nQ 49.609375 66.109375 42.828125 66.109375 \r\nQ 29.4375 66.109375 22.71875 58.640625 \r\nQ 16.015625 51.171875 16.015625 36.375 \r\nQ 16.015625 21.625 22.71875 14.15625 \r\nQ 29.4375 6.6875 42.828125 6.6875 \r\nQ 48.046875 6.6875 52.140625 7.59375 \r\nQ 56.25 8.5 59.515625 10.40625 \r\nz\r\n\" id=\"DejaVuSans-71\"/>\r\n      </defs>\r\n      <g transform=\"translate(55.00625 170.485169)scale(0.1 -0.1)\">\r\n       <use xlink:href=\"#DejaVuSans-71\"/>\r\n       <use x=\"77.490234\" xlink:href=\"#DejaVuSans-101\"/>\r\n       <use x=\"139.013672\" xlink:href=\"#DejaVuSans-114\"/>\r\n       <use x=\"180.111328\" xlink:href=\"#DejaVuSans-109\"/>\r\n       <use x=\"277.523438\" xlink:href=\"#DejaVuSans-97\"/>\r\n       <use x=\"338.802734\" xlink:href=\"#DejaVuSans-110\"/>\r\n       <use x=\"402.181641\" xlink:href=\"#DejaVuSans-121\"/>\r\n      </g>\r\n     </g>\r\n    </g>\r\n    <g id=\"ytick_7\">\r\n     <g id=\"line2d_13\">\r\n      <g>\r\n       <use style=\"stroke:#000000;stroke-width:0.8;\" x=\"108.142188\" xlink:href=\"#mfd9c23a455\" y=\"191.644628\"/>\r\n      </g>\r\n     </g>\r\n     <g id=\"text_14\">\r\n      <!-- Turkey -->\r\n      <defs>\r\n       <path d=\"M -0.296875 72.90625 \r\nL 61.375 72.90625 \r\nL 61.375 64.59375 \r\nL 35.5 64.59375 \r\nL 35.5 0 \r\nL 25.59375 0 \r\nL 25.59375 64.59375 \r\nL -0.296875 64.59375 \r\nz\r\n\" id=\"DejaVuSans-84\"/>\r\n       <path d=\"M 8.5 21.578125 \r\nL 8.5 54.6875 \r\nL 17.484375 54.6875 \r\nL 17.484375 21.921875 \r\nQ 17.484375 14.15625 20.5 10.265625 \r\nQ 23.53125 6.390625 29.59375 6.390625 \r\nQ 36.859375 6.390625 41.078125 11.03125 \r\nQ 45.3125 15.671875 45.3125 23.6875 \r\nL 45.3125 54.6875 \r\nL 54.296875 54.6875 \r\nL 54.296875 0 \r\nL 45.3125 0 \r\nL 45.3125 8.40625 \r\nQ 42.046875 3.421875 37.71875 1 \r\nQ 33.40625 -1.421875 27.6875 -1.421875 \r\nQ 18.265625 -1.421875 13.375 4.4375 \r\nQ 8.5 10.296875 8.5 21.578125 \r\nz\r\nM 31.109375 56 \r\nz\r\n\" id=\"DejaVuSans-117\"/>\r\n       <path d=\"M 9.078125 75.984375 \r\nL 18.109375 75.984375 \r\nL 18.109375 31.109375 \r\nL 44.921875 54.6875 \r\nL 56.390625 54.6875 \r\nL 27.390625 29.109375 \r\nL 57.625 0 \r\nL 45.90625 0 \r\nL 18.109375 26.703125 \r\nL 18.109375 0 \r\nL 9.078125 0 \r\nz\r\n\" id=\"DejaVuSans-107\"/>\r\n      </defs>\r\n      <g transform=\"translate(66.751563 195.443847)scale(0.1 -0.1)\">\r\n       <use xlink:href=\"#DejaVuSans-84\"/>\r\n       <use x=\"60.849609\" xlink:href=\"#DejaVuSans-117\"/>\r\n       <use x=\"124.228516\" xlink:href=\"#DejaVuSans-114\"/>\r\n       <use x=\"165.341797\" xlink:href=\"#DejaVuSans-107\"/>\r\n       <use x=\"223.205078\" xlink:href=\"#DejaVuSans-101\"/>\r\n       <use x=\"284.728516\" xlink:href=\"#DejaVuSans-121\"/>\r\n      </g>\r\n     </g>\r\n    </g>\r\n    <g id=\"ytick_8\">\r\n     <g id=\"line2d_14\">\r\n      <g>\r\n       <use style=\"stroke:#000000;stroke-width:0.8;\" x=\"108.142188\" xlink:href=\"#mfd9c23a455\" y=\"216.603306\"/>\r\n      </g>\r\n     </g>\r\n     <g id=\"text_15\">\r\n      <!-- Russia -->\r\n      <defs>\r\n       <path d=\"M 44.390625 34.1875 \r\nQ 47.5625 33.109375 50.5625 29.59375 \r\nQ 53.5625 26.078125 56.59375 19.921875 \r\nL 66.609375 0 \r\nL 56 0 \r\nL 46.6875 18.703125 \r\nQ 43.0625 26.03125 39.671875 28.421875 \r\nQ 36.28125 30.8125 30.421875 30.8125 \r\nL 19.671875 30.8125 \r\nL 19.671875 0 \r\nL 9.8125 0 \r\nL 9.8125 72.90625 \r\nL 32.078125 72.90625 \r\nQ 44.578125 72.90625 50.734375 67.671875 \r\nQ 56.890625 62.453125 56.890625 51.90625 \r\nQ 56.890625 45.015625 53.6875 40.46875 \r\nQ 50.484375 35.9375 44.390625 34.1875 \r\nz\r\nM 19.671875 64.796875 \r\nL 19.671875 38.921875 \r\nL 32.078125 38.921875 \r\nQ 39.203125 38.921875 42.84375 42.21875 \r\nQ 46.484375 45.515625 46.484375 51.90625 \r\nQ 46.484375 58.296875 42.84375 61.546875 \r\nQ 39.203125 64.796875 32.078125 64.796875 \r\nz\r\n\" id=\"DejaVuSans-82\"/>\r\n       <path d=\"M 44.28125 53.078125 \r\nL 44.28125 44.578125 \r\nQ 40.484375 46.53125 36.375 47.5 \r\nQ 32.28125 48.484375 27.875 48.484375 \r\nQ 21.1875 48.484375 17.84375 46.4375 \r\nQ 14.5 44.390625 14.5 40.28125 \r\nQ 14.5 37.15625 16.890625 35.375 \r\nQ 19.28125 33.59375 26.515625 31.984375 \r\nL 29.59375 31.296875 \r\nQ 39.15625 29.25 43.1875 25.515625 \r\nQ 47.21875 21.78125 47.21875 15.09375 \r\nQ 47.21875 7.46875 41.1875 3.015625 \r\nQ 35.15625 -1.421875 24.609375 -1.421875 \r\nQ 20.21875 -1.421875 15.453125 -0.5625 \r\nQ 10.6875 0.296875 5.421875 2 \r\nL 5.421875 11.28125 \r\nQ 10.40625 8.6875 15.234375 7.390625 \r\nQ 20.0625 6.109375 24.8125 6.109375 \r\nQ 31.15625 6.109375 34.5625 8.28125 \r\nQ 37.984375 10.453125 37.984375 14.40625 \r\nQ 37.984375 18.0625 35.515625 20.015625 \r\nQ 33.0625 21.96875 24.703125 23.78125 \r\nL 21.578125 24.515625 \r\nQ 13.234375 26.265625 9.515625 29.90625 \r\nQ 5.8125 33.546875 5.8125 39.890625 \r\nQ 5.8125 47.609375 11.28125 51.796875 \r\nQ 16.75 56 26.8125 56 \r\nQ 31.78125 56 36.171875 55.265625 \r\nQ 40.578125 54.546875 44.28125 53.078125 \r\nz\r\n\" id=\"DejaVuSans-115\"/>\r\n      </defs>\r\n      <g transform=\"translate(68.5375 220.402525)scale(0.1 -0.1)\">\r\n       <use xlink:href=\"#DejaVuSans-82\"/>\r\n       <use x=\"69.419922\" xlink:href=\"#DejaVuSans-117\"/>\r\n       <use x=\"132.798828\" xlink:href=\"#DejaVuSans-115\"/>\r\n       <use x=\"184.898438\" xlink:href=\"#DejaVuSans-115\"/>\r\n       <use x=\"236.998047\" xlink:href=\"#DejaVuSans-105\"/>\r\n       <use x=\"264.78125\" xlink:href=\"#DejaVuSans-97\"/>\r\n      </g>\r\n     </g>\r\n    </g>\r\n    <g id=\"ytick_9\">\r\n     <g id=\"line2d_15\">\r\n      <g>\r\n       <use style=\"stroke:#000000;stroke-width:0.8;\" x=\"108.142188\" xlink:href=\"#mfd9c23a455\" y=\"241.561983\"/>\r\n      </g>\r\n     </g>\r\n     <g id=\"text_16\">\r\n      <!-- Iran -->\r\n      <g transform=\"translate(81.615625 245.361202)scale(0.1 -0.1)\">\r\n       <use xlink:href=\"#DejaVuSans-73\"/>\r\n       <use x=\"29.492188\" xlink:href=\"#DejaVuSans-114\"/>\r\n       <use x=\"70.605469\" xlink:href=\"#DejaVuSans-97\"/>\r\n       <use x=\"131.884766\" xlink:href=\"#DejaVuSans-110\"/>\r\n      </g>\r\n     </g>\r\n    </g>\r\n    <g id=\"ytick_10\">\r\n     <g id=\"line2d_16\">\r\n      <g>\r\n       <use style=\"stroke:#000000;stroke-width:0.8;\" x=\"108.142188\" xlink:href=\"#mfd9c23a455\" y=\"266.520661\"/>\r\n      </g>\r\n     </g>\r\n     <g id=\"text_17\">\r\n      <!-- China -->\r\n      <defs>\r\n       <path d=\"M 54.890625 33.015625 \r\nL 54.890625 0 \r\nL 45.90625 0 \r\nL 45.90625 32.71875 \r\nQ 45.90625 40.484375 42.875 44.328125 \r\nQ 39.84375 48.1875 33.796875 48.1875 \r\nQ 26.515625 48.1875 22.3125 43.546875 \r\nQ 18.109375 38.921875 18.109375 30.90625 \r\nL 18.109375 0 \r\nL 9.078125 0 \r\nL 9.078125 75.984375 \r\nL 18.109375 75.984375 \r\nL 18.109375 46.1875 \r\nQ 21.34375 51.125 25.703125 53.5625 \r\nQ 30.078125 56 35.796875 56 \r\nQ 45.21875 56 50.046875 50.171875 \r\nQ 54.890625 44.34375 54.890625 33.015625 \r\nz\r\n\" id=\"DejaVuSans-104\"/>\r\n      </defs>\r\n      <g transform=\"translate(72.578125 270.31988)scale(0.1 -0.1)\">\r\n       <use xlink:href=\"#DejaVuSans-67\"/>\r\n       <use x=\"69.824219\" xlink:href=\"#DejaVuSans-104\"/>\r\n       <use x=\"133.203125\" xlink:href=\"#DejaVuSans-105\"/>\r\n       <use x=\"160.986328\" xlink:href=\"#DejaVuSans-110\"/>\r\n       <use x=\"224.365234\" xlink:href=\"#DejaVuSans-97\"/>\r\n      </g>\r\n     </g>\r\n    </g>\r\n    <g id=\"ytick_11\">\r\n     <g id=\"line2d_17\">\r\n      <g>\r\n       <use style=\"stroke:#000000;stroke-width:0.8;\" x=\"108.142188\" xlink:href=\"#mfd9c23a455\" y=\"291.479339\"/>\r\n      </g>\r\n     </g>\r\n     <g id=\"text_18\">\r\n      <!-- Brazil -->\r\n      <defs>\r\n       <path d=\"M 19.671875 34.8125 \r\nL 19.671875 8.109375 \r\nL 35.5 8.109375 \r\nQ 43.453125 8.109375 47.28125 11.40625 \r\nQ 51.125 14.703125 51.125 21.484375 \r\nQ 51.125 28.328125 47.28125 31.5625 \r\nQ 43.453125 34.8125 35.5 34.8125 \r\nz\r\nM 19.671875 64.796875 \r\nL 19.671875 42.828125 \r\nL 34.28125 42.828125 \r\nQ 41.5 42.828125 45.03125 45.53125 \r\nQ 48.578125 48.25 48.578125 53.8125 \r\nQ 48.578125 59.328125 45.03125 62.0625 \r\nQ 41.5 64.796875 34.28125 64.796875 \r\nz\r\nM 9.8125 72.90625 \r\nL 35.015625 72.90625 \r\nQ 46.296875 72.90625 52.390625 68.21875 \r\nQ 58.5 63.53125 58.5 54.890625 \r\nQ 58.5 48.1875 55.375 44.234375 \r\nQ 52.25 40.28125 46.1875 39.3125 \r\nQ 53.46875 37.75 57.5 32.78125 \r\nQ 61.53125 27.828125 61.53125 20.40625 \r\nQ 61.53125 10.640625 54.890625 5.3125 \r\nQ 48.25 0 35.984375 0 \r\nL 9.8125 0 \r\nz\r\n\" id=\"DejaVuSans-66\"/>\r\n       <path d=\"M 5.515625 54.6875 \r\nL 48.1875 54.6875 \r\nL 48.1875 46.484375 \r\nL 14.40625 7.171875 \r\nL 48.1875 7.171875 \r\nL 48.1875 0 \r\nL 4.296875 0 \r\nL 4.296875 8.203125 \r\nL 38.09375 47.515625 \r\nL 5.515625 47.515625 \r\nz\r\n\" id=\"DejaVuSans-122\"/>\r\n      </defs>\r\n      <g transform=\"translate(73.2375 295.278558)scale(0.1 -0.1)\">\r\n       <use xlink:href=\"#DejaVuSans-66\"/>\r\n       <use x=\"68.603516\" xlink:href=\"#DejaVuSans-114\"/>\r\n       <use x=\"109.716797\" xlink:href=\"#DejaVuSans-97\"/>\r\n       <use x=\"170.996094\" xlink:href=\"#DejaVuSans-122\"/>\r\n       <use x=\"223.486328\" xlink:href=\"#DejaVuSans-105\"/>\r\n       <use x=\"251.269531\" xlink:href=\"#DejaVuSans-108\"/>\r\n      </g>\r\n     </g>\r\n    </g>\r\n    <g id=\"ytick_12\">\r\n     <g id=\"line2d_18\">\r\n      <g>\r\n       <use style=\"stroke:#000000;stroke-width:0.8;\" x=\"108.142188\" xlink:href=\"#mfd9c23a455\" y=\"316.438017\"/>\r\n      </g>\r\n     </g>\r\n     <g id=\"text_19\">\r\n      <!-- Canada -->\r\n      <g transform=\"translate(63.089063 320.237235)scale(0.1 -0.1)\">\r\n       <use xlink:href=\"#DejaVuSans-67\"/>\r\n       <use x=\"69.824219\" xlink:href=\"#DejaVuSans-97\"/>\r\n       <use x=\"131.103516\" xlink:href=\"#DejaVuSans-110\"/>\r\n       <use x=\"194.482422\" xlink:href=\"#DejaVuSans-97\"/>\r\n       <use x=\"255.761719\" xlink:href=\"#DejaVuSans-100\"/>\r\n       <use x=\"319.238281\" xlink:href=\"#DejaVuSans-97\"/>\r\n      </g>\r\n     </g>\r\n    </g>\r\n    <g id=\"ytick_13\">\r\n     <g id=\"line2d_19\">\r\n      <g>\r\n       <use style=\"stroke:#000000;stroke-width:0.8;\" x=\"108.142188\" xlink:href=\"#mfd9c23a455\" y=\"341.396694\"/>\r\n      </g>\r\n     </g>\r\n     <g id=\"text_20\">\r\n      <!-- Belgium -->\r\n      <g transform=\"translate(60.145313 345.195913)scale(0.1 -0.1)\">\r\n       <use xlink:href=\"#DejaVuSans-66\"/>\r\n       <use x=\"68.603516\" xlink:href=\"#DejaVuSans-101\"/>\r\n       <use x=\"130.126953\" xlink:href=\"#DejaVuSans-108\"/>\r\n       <use x=\"157.910156\" xlink:href=\"#DejaVuSans-103\"/>\r\n       <use x=\"221.386719\" xlink:href=\"#DejaVuSans-105\"/>\r\n       <use x=\"249.169922\" xlink:href=\"#DejaVuSans-117\"/>\r\n       <use x=\"312.548828\" xlink:href=\"#DejaVuSans-109\"/>\r\n      </g>\r\n     </g>\r\n    </g>\r\n    <g id=\"ytick_14\">\r\n     <g id=\"line2d_20\">\r\n      <g>\r\n       <use style=\"stroke:#000000;stroke-width:0.8;\" x=\"108.142188\" xlink:href=\"#mfd9c23a455\" y=\"366.355372\"/>\r\n      </g>\r\n     </g>\r\n     <g id=\"text_21\">\r\n      <!-- Netherlands -->\r\n      <defs>\r\n       <path d=\"M 9.8125 72.90625 \r\nL 23.09375 72.90625 \r\nL 55.421875 11.921875 \r\nL 55.421875 72.90625 \r\nL 64.984375 72.90625 \r\nL 64.984375 0 \r\nL 51.703125 0 \r\nL 19.390625 60.984375 \r\nL 19.390625 0 \r\nL 9.8125 0 \r\nz\r\n\" id=\"DejaVuSans-78\"/>\r\n      </defs>\r\n      <g transform=\"translate(40.184375 370.154591)scale(0.1 -0.1)\">\r\n       <use xlink:href=\"#DejaVuSans-78\"/>\r\n       <use x=\"74.804688\" xlink:href=\"#DejaVuSans-101\"/>\r\n       <use x=\"136.328125\" xlink:href=\"#DejaVuSans-116\"/>\r\n       <use x=\"175.537109\" xlink:href=\"#DejaVuSans-104\"/>\r\n       <use x=\"238.916016\" xlink:href=\"#DejaVuSans-101\"/>\r\n       <use x=\"300.439453\" xlink:href=\"#DejaVuSans-114\"/>\r\n       <use x=\"341.552734\" xlink:href=\"#DejaVuSans-108\"/>\r\n       <use x=\"369.335938\" xlink:href=\"#DejaVuSans-97\"/>\r\n       <use x=\"430.615234\" xlink:href=\"#DejaVuSans-110\"/>\r\n       <use x=\"493.994141\" xlink:href=\"#DejaVuSans-100\"/>\r\n       <use x=\"557.470703\" xlink:href=\"#DejaVuSans-115\"/>\r\n      </g>\r\n     </g>\r\n    </g>\r\n    <g id=\"ytick_15\">\r\n     <g id=\"line2d_21\">\r\n      <g>\r\n       <use style=\"stroke:#000000;stroke-width:0.8;\" x=\"108.142188\" xlink:href=\"#mfd9c23a455\" y=\"391.31405\"/>\r\n      </g>\r\n     </g>\r\n     <g id=\"text_22\">\r\n      <!-- India -->\r\n      <g transform=\"translate(76.6 395.113268)scale(0.1 -0.1)\">\r\n       <use xlink:href=\"#DejaVuSans-73\"/>\r\n       <use x=\"29.492188\" xlink:href=\"#DejaVuSans-110\"/>\r\n       <use x=\"92.871094\" xlink:href=\"#DejaVuSans-100\"/>\r\n       <use x=\"156.347656\" xlink:href=\"#DejaVuSans-105\"/>\r\n       <use x=\"184.130859\" xlink:href=\"#DejaVuSans-97\"/>\r\n      </g>\r\n     </g>\r\n    </g>\r\n    <g id=\"ytick_16\">\r\n     <g id=\"line2d_22\">\r\n      <g>\r\n       <use style=\"stroke:#000000;stroke-width:0.8;\" x=\"108.142188\" xlink:href=\"#mfd9c23a455\" y=\"416.272727\"/>\r\n      </g>\r\n     </g>\r\n     <g id=\"text_23\">\r\n      <!-- Peru -->\r\n      <defs>\r\n       <path d=\"M 19.671875 64.796875 \r\nL 19.671875 37.40625 \r\nL 32.078125 37.40625 \r\nQ 38.96875 37.40625 42.71875 40.96875 \r\nQ 46.484375 44.53125 46.484375 51.125 \r\nQ 46.484375 57.671875 42.71875 61.234375 \r\nQ 38.96875 64.796875 32.078125 64.796875 \r\nz\r\nM 9.8125 72.90625 \r\nL 32.078125 72.90625 \r\nQ 44.34375 72.90625 50.609375 67.359375 \r\nQ 56.890625 61.8125 56.890625 51.125 \r\nQ 56.890625 40.328125 50.609375 34.8125 \r\nQ 44.34375 29.296875 32.078125 29.296875 \r\nL 19.671875 29.296875 \r\nL 19.671875 0 \r\nL 9.8125 0 \r\nz\r\n\" id=\"DejaVuSans-80\"/>\r\n      </defs>\r\n      <g transform=\"translate(78.515625 420.071946)scale(0.1 -0.1)\">\r\n       <use xlink:href=\"#DejaVuSans-80\"/>\r\n       <use x=\"60.255859\" xlink:href=\"#DejaVuSans-101\"/>\r\n       <use x=\"121.779297\" xlink:href=\"#DejaVuSans-114\"/>\r\n       <use x=\"162.892578\" xlink:href=\"#DejaVuSans-117\"/>\r\n      </g>\r\n     </g>\r\n    </g>\r\n    <g id=\"ytick_17\">\r\n     <g id=\"line2d_23\">\r\n      <g>\r\n       <use style=\"stroke:#000000;stroke-width:0.8;\" x=\"108.142188\" xlink:href=\"#mfd9c23a455\" y=\"441.231405\"/>\r\n      </g>\r\n     </g>\r\n     <g id=\"text_24\">\r\n      <!-- Switzerland -->\r\n      <defs>\r\n       <path d=\"M 4.203125 54.6875 \r\nL 13.1875 54.6875 \r\nL 24.421875 12.015625 \r\nL 35.59375 54.6875 \r\nL 46.1875 54.6875 \r\nL 57.421875 12.015625 \r\nL 68.609375 54.6875 \r\nL 77.59375 54.6875 \r\nL 63.28125 0 \r\nL 52.6875 0 \r\nL 40.921875 44.828125 \r\nL 29.109375 0 \r\nL 18.5 0 \r\nz\r\n\" id=\"DejaVuSans-119\"/>\r\n      </defs>\r\n      <g transform=\"translate(42.8125 445.030624)scale(0.1 -0.1)\">\r\n       <use xlink:href=\"#DejaVuSans-83\"/>\r\n       <use x=\"63.476562\" xlink:href=\"#DejaVuSans-119\"/>\r\n       <use x=\"145.263672\" xlink:href=\"#DejaVuSans-105\"/>\r\n       <use x=\"173.046875\" xlink:href=\"#DejaVuSans-116\"/>\r\n       <use x=\"212.255859\" xlink:href=\"#DejaVuSans-122\"/>\r\n       <use x=\"264.746094\" xlink:href=\"#DejaVuSans-101\"/>\r\n       <use x=\"326.269531\" xlink:href=\"#DejaVuSans-114\"/>\r\n       <use x=\"367.382812\" xlink:href=\"#DejaVuSans-108\"/>\r\n       <use x=\"395.166016\" xlink:href=\"#DejaVuSans-97\"/>\r\n       <use x=\"456.445312\" xlink:href=\"#DejaVuSans-110\"/>\r\n       <use x=\"519.824219\" xlink:href=\"#DejaVuSans-100\"/>\r\n      </g>\r\n     </g>\r\n    </g>\r\n    <g id=\"ytick_18\">\r\n     <g id=\"line2d_24\">\r\n      <g>\r\n       <use style=\"stroke:#000000;stroke-width:0.8;\" x=\"108.142188\" xlink:href=\"#mfd9c23a455\" y=\"466.190083\"/>\r\n      </g>\r\n     </g>\r\n     <g id=\"text_25\">\r\n      <!-- Portugal -->\r\n      <g transform=\"translate(59.375 469.989301)scale(0.1 -0.1)\">\r\n       <use xlink:href=\"#DejaVuSans-80\"/>\r\n       <use x=\"60.255859\" xlink:href=\"#DejaVuSans-111\"/>\r\n       <use x=\"121.4375\" xlink:href=\"#DejaVuSans-114\"/>\r\n       <use x=\"162.550781\" xlink:href=\"#DejaVuSans-116\"/>\r\n       <use x=\"201.759766\" xlink:href=\"#DejaVuSans-117\"/>\r\n       <use x=\"265.138672\" xlink:href=\"#DejaVuSans-103\"/>\r\n       <use x=\"328.615234\" xlink:href=\"#DejaVuSans-97\"/>\r\n       <use x=\"389.894531\" xlink:href=\"#DejaVuSans-108\"/>\r\n      </g>\r\n     </g>\r\n    </g>\r\n    <g id=\"ytick_19\">\r\n     <g id=\"line2d_25\">\r\n      <g>\r\n       <use style=\"stroke:#000000;stroke-width:0.8;\" x=\"108.142188\" xlink:href=\"#mfd9c23a455\" y=\"491.14876\"/>\r\n      </g>\r\n     </g>\r\n     <g id=\"text_26\">\r\n      <!-- Ecuador -->\r\n      <defs>\r\n       <path d=\"M 9.8125 72.90625 \r\nL 55.90625 72.90625 \r\nL 55.90625 64.59375 \r\nL 19.671875 64.59375 \r\nL 19.671875 43.015625 \r\nL 54.390625 43.015625 \r\nL 54.390625 34.71875 \r\nL 19.671875 34.71875 \r\nL 19.671875 8.296875 \r\nL 56.78125 8.296875 \r\nL 56.78125 0 \r\nL 9.8125 0 \r\nz\r\n\" id=\"DejaVuSans-69\"/>\r\n      </defs>\r\n      <g transform=\"translate(60.28125 494.947979)scale(0.1 -0.1)\">\r\n       <use xlink:href=\"#DejaVuSans-69\"/>\r\n       <use x=\"63.183594\" xlink:href=\"#DejaVuSans-99\"/>\r\n       <use x=\"118.164062\" xlink:href=\"#DejaVuSans-117\"/>\r\n       <use x=\"181.542969\" xlink:href=\"#DejaVuSans-97\"/>\r\n       <use x=\"242.822266\" xlink:href=\"#DejaVuSans-100\"/>\r\n       <use x=\"306.298828\" xlink:href=\"#DejaVuSans-111\"/>\r\n       <use x=\"367.480469\" xlink:href=\"#DejaVuSans-114\"/>\r\n      </g>\r\n     </g>\r\n    </g>\r\n    <g id=\"ytick_20\">\r\n     <g id=\"line2d_26\">\r\n      <g>\r\n       <use style=\"stroke:#000000;stroke-width:0.8;\" x=\"108.142188\" xlink:href=\"#mfd9c23a455\" y=\"516.107438\"/>\r\n      </g>\r\n     </g>\r\n     <g id=\"text_27\">\r\n      <!-- Saudi Arabia -->\r\n      <defs>\r\n       <path d=\"M 34.1875 63.1875 \r\nL 20.796875 26.90625 \r\nL 47.609375 26.90625 \r\nz\r\nM 28.609375 72.90625 \r\nL 39.796875 72.90625 \r\nL 67.578125 0 \r\nL 57.328125 0 \r\nL 50.6875 18.703125 \r\nL 17.828125 18.703125 \r\nL 11.1875 0 \r\nL 0.78125 0 \r\nz\r\n\" id=\"DejaVuSans-65\"/>\r\n       <path d=\"M 48.6875 27.296875 \r\nQ 48.6875 37.203125 44.609375 42.84375 \r\nQ 40.53125 48.484375 33.40625 48.484375 \r\nQ 26.265625 48.484375 22.1875 42.84375 \r\nQ 18.109375 37.203125 18.109375 27.296875 \r\nQ 18.109375 17.390625 22.1875 11.75 \r\nQ 26.265625 6.109375 33.40625 6.109375 \r\nQ 40.53125 6.109375 44.609375 11.75 \r\nQ 48.6875 17.390625 48.6875 27.296875 \r\nz\r\nM 18.109375 46.390625 \r\nQ 20.953125 51.265625 25.265625 53.625 \r\nQ 29.59375 56 35.59375 56 \r\nQ 45.5625 56 51.78125 48.09375 \r\nQ 58.015625 40.1875 58.015625 27.296875 \r\nQ 58.015625 14.40625 51.78125 6.484375 \r\nQ 45.5625 -1.421875 35.59375 -1.421875 \r\nQ 29.59375 -1.421875 25.265625 0.953125 \r\nQ 20.953125 3.328125 18.109375 8.203125 \r\nL 18.109375 0 \r\nL 9.078125 0 \r\nL 9.078125 75.984375 \r\nL 18.109375 75.984375 \r\nz\r\n\" id=\"DejaVuSans-98\"/>\r\n      </defs>\r\n      <g transform=\"translate(37.689063 519.906657)scale(0.1 -0.1)\">\r\n       <use xlink:href=\"#DejaVuSans-83\"/>\r\n       <use x=\"63.476562\" xlink:href=\"#DejaVuSans-97\"/>\r\n       <use x=\"124.755859\" xlink:href=\"#DejaVuSans-117\"/>\r\n       <use x=\"188.134766\" xlink:href=\"#DejaVuSans-100\"/>\r\n       <use x=\"251.611328\" xlink:href=\"#DejaVuSans-105\"/>\r\n       <use x=\"279.394531\" xlink:href=\"#DejaVuSans-32\"/>\r\n       <use x=\"311.181641\" xlink:href=\"#DejaVuSans-65\"/>\r\n       <use x=\"379.589844\" xlink:href=\"#DejaVuSans-114\"/>\r\n       <use x=\"420.703125\" xlink:href=\"#DejaVuSans-97\"/>\r\n       <use x=\"481.982422\" xlink:href=\"#DejaVuSans-98\"/>\r\n       <use x=\"545.458984\" xlink:href=\"#DejaVuSans-105\"/>\r\n       <use x=\"573.242188\" xlink:href=\"#DejaVuSans-97\"/>\r\n      </g>\r\n     </g>\r\n    </g>\r\n    <g id=\"text_28\">\r\n     <!-- country -->\r\n     <g transform=\"translate(14.798437 298.121094)rotate(-90)scale(0.1 -0.1)\">\r\n      <use xlink:href=\"#DejaVuSans-99\"/>\r\n      <use x=\"54.980469\" xlink:href=\"#DejaVuSans-111\"/>\r\n      <use x=\"116.162109\" xlink:href=\"#DejaVuSans-117\"/>\r\n      <use x=\"179.541016\" xlink:href=\"#DejaVuSans-110\"/>\r\n      <use x=\"242.919922\" xlink:href=\"#DejaVuSans-116\"/>\r\n      <use x=\"282.128906\" xlink:href=\"#DejaVuSans-114\"/>\r\n      <use x=\"323.242188\" xlink:href=\"#DejaVuSans-121\"/>\r\n     </g>\r\n    </g>\r\n   </g>\r\n   <g id=\"line2d_27\">\r\n    <path clip-path=\"url(#p510f0b395d)\" style=\"fill:none;stroke:#424242;stroke-linecap:square;stroke-width:2.7;\"/>\r\n   </g>\r\n   <g id=\"line2d_28\">\r\n    <path clip-path=\"url(#p510f0b395d)\" style=\"fill:none;stroke:#424242;stroke-linecap:square;stroke-width:2.7;\"/>\r\n   </g>\r\n   <g id=\"line2d_29\">\r\n    <path clip-path=\"url(#p510f0b395d)\" style=\"fill:none;stroke:#424242;stroke-linecap:square;stroke-width:2.7;\"/>\r\n   </g>\r\n   <g id=\"line2d_30\">\r\n    <path clip-path=\"url(#p510f0b395d)\" style=\"fill:none;stroke:#424242;stroke-linecap:square;stroke-width:2.7;\"/>\r\n   </g>\r\n   <g id=\"line2d_31\">\r\n    <path clip-path=\"url(#p510f0b395d)\" style=\"fill:none;stroke:#424242;stroke-linecap:square;stroke-width:2.7;\"/>\r\n   </g>\r\n   <g id=\"line2d_32\">\r\n    <path clip-path=\"url(#p510f0b395d)\" style=\"fill:none;stroke:#424242;stroke-linecap:square;stroke-width:2.7;\"/>\r\n   </g>\r\n   <g id=\"line2d_33\">\r\n    <path clip-path=\"url(#p510f0b395d)\" style=\"fill:none;stroke:#424242;stroke-linecap:square;stroke-width:2.7;\"/>\r\n   </g>\r\n   <g id=\"line2d_34\">\r\n    <path clip-path=\"url(#p510f0b395d)\" style=\"fill:none;stroke:#424242;stroke-linecap:square;stroke-width:2.7;\"/>\r\n   </g>\r\n   <g id=\"line2d_35\">\r\n    <path clip-path=\"url(#p510f0b395d)\" style=\"fill:none;stroke:#424242;stroke-linecap:square;stroke-width:2.7;\"/>\r\n   </g>\r\n   <g id=\"line2d_36\">\r\n    <path clip-path=\"url(#p510f0b395d)\" style=\"fill:none;stroke:#424242;stroke-linecap:square;stroke-width:2.7;\"/>\r\n   </g>\r\n   <g id=\"line2d_37\">\r\n    <path clip-path=\"url(#p510f0b395d)\" style=\"fill:none;stroke:#424242;stroke-linecap:square;stroke-width:2.7;\"/>\r\n   </g>\r\n   <g id=\"line2d_38\">\r\n    <path clip-path=\"url(#p510f0b395d)\" style=\"fill:none;stroke:#424242;stroke-linecap:square;stroke-width:2.7;\"/>\r\n   </g>\r\n   <g id=\"line2d_39\">\r\n    <path clip-path=\"url(#p510f0b395d)\" style=\"fill:none;stroke:#424242;stroke-linecap:square;stroke-width:2.7;\"/>\r\n   </g>\r\n   <g id=\"line2d_40\">\r\n    <path clip-path=\"url(#p510f0b395d)\" style=\"fill:none;stroke:#424242;stroke-linecap:square;stroke-width:2.7;\"/>\r\n   </g>\r\n   <g id=\"line2d_41\">\r\n    <path clip-path=\"url(#p510f0b395d)\" style=\"fill:none;stroke:#424242;stroke-linecap:square;stroke-width:2.7;\"/>\r\n   </g>\r\n   <g id=\"line2d_42\">\r\n    <path clip-path=\"url(#p510f0b395d)\" style=\"fill:none;stroke:#424242;stroke-linecap:square;stroke-width:2.7;\"/>\r\n   </g>\r\n   <g id=\"line2d_43\">\r\n    <path clip-path=\"url(#p510f0b395d)\" style=\"fill:none;stroke:#424242;stroke-linecap:square;stroke-width:2.7;\"/>\r\n   </g>\r\n   <g id=\"line2d_44\">\r\n    <path clip-path=\"url(#p510f0b395d)\" style=\"fill:none;stroke:#424242;stroke-linecap:square;stroke-width:2.7;\"/>\r\n   </g>\r\n   <g id=\"line2d_45\">\r\n    <path clip-path=\"url(#p510f0b395d)\" style=\"fill:none;stroke:#424242;stroke-linecap:square;stroke-width:2.7;\"/>\r\n   </g>\r\n   <g id=\"line2d_46\">\r\n    <path clip-path=\"url(#p510f0b395d)\" style=\"fill:none;stroke:#424242;stroke-linecap:square;stroke-width:2.7;\"/>\r\n   </g>\r\n   <g id=\"line2d_47\">\r\n    <path clip-path=\"url(#p510f0b395d)\" d=\"M 742.87052 41.892562 \r\nL 253.649631 66.85124 \r\nL 234.453867 91.809917 \r\nL 214.111609 116.768595 \r\nL 209.909891 141.727273 \r\nL 208.381652 166.68595 \r\nL 180.011436 191.644628 \r\nL 166.788216 216.603306 \r\nL 166.177673 241.561983 \r\nL 160.759256 266.520661 \r\nL 154.048918 291.479339 \r\nL 140.205126 316.438017 \r\nL 137.813099 341.396694 \r\nL 132.342654 366.355372 \r\nL 127.777368 391.31405 \r\nL 127.693371 416.272727 \r\nL 126.486075 441.231405 \r\nL 123.388224 466.190083 \r\nL 123.348107 491.14876 \r\nL 120.727283 516.107438 \r\n\" style=\"fill:none;stroke:#1f77b4;stroke-linecap:square;stroke-width:1.5;\"/>\r\n   </g>\r\n   <g id=\"patch_23\">\r\n    <path d=\"M 108.142188 550.8 \r\nL 108.142188 7.2 \r\n\" style=\"fill:none;stroke:#000000;stroke-linecap:square;stroke-linejoin:miter;stroke-width:0.8;\"/>\r\n   </g>\r\n   <g id=\"patch_24\">\r\n    <path d=\"M 777.742188 550.8 \r\nL 777.742188 7.2 \r\n\" style=\"fill:none;stroke:#000000;stroke-linecap:square;stroke-linejoin:miter;stroke-width:0.8;\"/>\r\n   </g>\r\n   <g id=\"patch_25\">\r\n    <path d=\"M 108.142188 550.8 \r\nL 777.742188 550.8 \r\n\" style=\"fill:none;stroke:#000000;stroke-linecap:square;stroke-linejoin:miter;stroke-width:0.8;\"/>\r\n   </g>\r\n   <g id=\"patch_26\">\r\n    <path d=\"M 108.142188 7.2 \r\nL 777.742188 7.2 \r\n\" style=\"fill:none;stroke:#000000;stroke-linecap:square;stroke-linejoin:miter;stroke-width:0.8;\"/>\r\n   </g>\r\n   <g id=\"legend_1\">\r\n    <g id=\"patch_27\">\r\n     <path d=\"M 686.653125 545.8 \r\nL 770.742188 545.8 \r\nQ 772.742188 545.8 772.742188 543.8 \r\nL 772.742188 530.121875 \r\nQ 772.742188 528.121875 770.742188 528.121875 \r\nL 686.653125 528.121875 \r\nQ 684.653125 528.121875 684.653125 530.121875 \r\nL 684.653125 543.8 \r\nQ 684.653125 545.8 686.653125 545.8 \r\nz\r\n\" style=\"fill:#ffffff;opacity:0.8;stroke:#cccccc;stroke-linejoin:miter;\"/>\r\n    </g>\r\n    <g id=\"patch_28\">\r\n     <path d=\"M 688.653125 539.720313 \r\nL 708.653125 539.720313 \r\nL 708.653125 532.720313 \r\nL 688.653125 532.720313 \r\nz\r\n\" style=\"fill:#ea96a3;\"/>\r\n    </g>\r\n    <g id=\"text_29\">\r\n     <!-- Confirmed -->\r\n     <g transform=\"translate(716.653125 539.720313)scale(0.1 -0.1)\">\r\n      <use xlink:href=\"#DejaVuSans-67\"/>\r\n      <use x=\"69.824219\" xlink:href=\"#DejaVuSans-111\"/>\r\n      <use x=\"131.005859\" xlink:href=\"#DejaVuSans-110\"/>\r\n      <use x=\"194.384766\" xlink:href=\"#DejaVuSans-102\"/>\r\n      <use x=\"229.589844\" xlink:href=\"#DejaVuSans-105\"/>\r\n      <use x=\"257.373047\" xlink:href=\"#DejaVuSans-114\"/>\r\n      <use x=\"298.470703\" xlink:href=\"#DejaVuSans-109\"/>\r\n      <use x=\"395.882812\" xlink:href=\"#DejaVuSans-101\"/>\r\n      <use x=\"457.40625\" xlink:href=\"#DejaVuSans-100\"/>\r\n     </g>\r\n    </g>\r\n   </g>\r\n  </g>\r\n </g>\r\n <defs>\r\n  <clipPath id=\"p510f0b395d\">\r\n   <rect height=\"543.6\" width=\"669.6\" x=\"108.142188\" y=\"7.2\"/>\r\n  </clipPath>\r\n </defs>\r\n</svg>\r\n",
            "image/png": "[encoded data removed]"
          },
          "metadata": {
            "needs_background": "light"
          }
        }
      ]
    },
    {
      "cell_type": "code",
      "metadata": {
        "id": "m2l8mR1rQrY7",
        "colab_type": "code",
        "colab": {
          "base_uri": "https://localhost:8080/",
          "height": 265
        },
        "outputId": "c6de4bd6-77b7-415a-9a64-2b7976eea147"
      },
      "source": [
        "#### \n",
        "\n",
        "x= [1,2,3,4,5]\n",
        "y=[10,20,20,30,40]\n",
        "plt.bar(x,y,color = 'red')\n",
        "plt.show()"
      ],
      "execution_count": 22,
      "outputs": [
        {
          "output_type": "display_data",
          "data": {
            "text/plain": "<Figure size 432x288 with 1 Axes>",
            "image/svg+xml": "<?xml version=\"1.0\" encoding=\"utf-8\" standalone=\"no\"?>\r\n<!DOCTYPE svg PUBLIC \"-//W3C//DTD SVG 1.1//EN\"\r\n  \"http://www.w3.org/Graphics/SVG/1.1/DTD/svg11.dtd\">\r\n<!-- Created with matplotlib (https://matplotlib.org/) -->\r\n<svg height=\"248.518125pt\" version=\"1.1\" viewBox=\"0 0 368.925 248.518125\" width=\"368.925pt\" xmlns=\"http://www.w3.org/2000/svg\" xmlns:xlink=\"http://www.w3.org/1999/xlink\">\r\n <defs>\r\n  <style type=\"text/css\">\r\n*{stroke-linecap:butt;stroke-linejoin:round;}\r\n  </style>\r\n </defs>\r\n <g id=\"figure_1\">\r\n  <g id=\"patch_1\">\r\n   <path d=\"M -0 248.518125 \r\nL 368.925 248.518125 \r\nL 368.925 0 \r\nL -0 0 \r\nz\r\n\" style=\"fill:none;\"/>\r\n  </g>\r\n  <g id=\"axes_1\">\r\n   <g id=\"patch_2\">\r\n    <path d=\"M 26.925 224.64 \r\nL 361.725 224.64 \r\nL 361.725 7.2 \r\nL 26.925 7.2 \r\nz\r\n\" style=\"fill:#ffffff;\"/>\r\n   </g>\r\n   <g id=\"patch_3\">\r\n    <path clip-path=\"url(#p1e62e19770)\" d=\"M 42.143182 224.64 \r\nL 92.870455 224.64 \r\nL 92.870455 172.868571 \r\nL 42.143182 172.868571 \r\nz\r\n\" style=\"fill:#ff0000;\"/>\r\n   </g>\r\n   <g id=\"patch_4\">\r\n    <path clip-path=\"url(#p1e62e19770)\" d=\"M 105.552273 224.64 \r\nL 156.279545 224.64 \r\nL 156.279545 121.097143 \r\nL 105.552273 121.097143 \r\nz\r\n\" style=\"fill:#ff0000;\"/>\r\n   </g>\r\n   <g id=\"patch_5\">\r\n    <path clip-path=\"url(#p1e62e19770)\" d=\"M 168.961364 224.64 \r\nL 219.688636 224.64 \r\nL 219.688636 121.097143 \r\nL 168.961364 121.097143 \r\nz\r\n\" style=\"fill:#ff0000;\"/>\r\n   </g>\r\n   <g id=\"patch_6\">\r\n    <path clip-path=\"url(#p1e62e19770)\" d=\"M 232.370455 224.64 \r\nL 283.097727 224.64 \r\nL 283.097727 69.325714 \r\nL 232.370455 69.325714 \r\nz\r\n\" style=\"fill:#ff0000;\"/>\r\n   </g>\r\n   <g id=\"patch_7\">\r\n    <path clip-path=\"url(#p1e62e19770)\" d=\"M 295.779545 224.64 \r\nL 346.506818 224.64 \r\nL 346.506818 17.554286 \r\nL 295.779545 17.554286 \r\nz\r\n\" style=\"fill:#ff0000;\"/>\r\n   </g>\r\n   <g id=\"matplotlib.axis_1\">\r\n    <g id=\"xtick_1\">\r\n     <g id=\"line2d_1\">\r\n      <defs>\r\n       <path d=\"M 0 0 \r\nL 0 3.5 \r\n\" id=\"mf1f9387dcc\" style=\"stroke:#000000;stroke-width:0.8;\"/>\r\n      </defs>\r\n      <g>\r\n       <use style=\"stroke:#000000;stroke-width:0.8;\" x=\"67.506818\" xlink:href=\"#mf1f9387dcc\" y=\"224.64\"/>\r\n      </g>\r\n     </g>\r\n     <g id=\"text_1\">\r\n      <!-- 1 -->\r\n      <defs>\r\n       <path d=\"M 12.40625 8.296875 \r\nL 28.515625 8.296875 \r\nL 28.515625 63.921875 \r\nL 10.984375 60.40625 \r\nL 10.984375 69.390625 \r\nL 28.421875 72.90625 \r\nL 38.28125 72.90625 \r\nL 38.28125 8.296875 \r\nL 54.390625 8.296875 \r\nL 54.390625 0 \r\nL 12.40625 0 \r\nz\r\n\" id=\"DejaVuSans-49\"/>\r\n      </defs>\r\n      <g transform=\"translate(64.325568 239.238437)scale(0.1 -0.1)\">\r\n       <use xlink:href=\"#DejaVuSans-49\"/>\r\n      </g>\r\n     </g>\r\n    </g>\r\n    <g id=\"xtick_2\">\r\n     <g id=\"line2d_2\">\r\n      <g>\r\n       <use style=\"stroke:#000000;stroke-width:0.8;\" x=\"130.915909\" xlink:href=\"#mf1f9387dcc\" y=\"224.64\"/>\r\n      </g>\r\n     </g>\r\n     <g id=\"text_2\">\r\n      <!-- 2 -->\r\n      <defs>\r\n       <path d=\"M 19.1875 8.296875 \r\nL 53.609375 8.296875 \r\nL 53.609375 0 \r\nL 7.328125 0 \r\nL 7.328125 8.296875 \r\nQ 12.9375 14.109375 22.625 23.890625 \r\nQ 32.328125 33.6875 34.8125 36.53125 \r\nQ 39.546875 41.84375 41.421875 45.53125 \r\nQ 43.3125 49.21875 43.3125 52.78125 \r\nQ 43.3125 58.59375 39.234375 62.25 \r\nQ 35.15625 65.921875 28.609375 65.921875 \r\nQ 23.96875 65.921875 18.8125 64.3125 \r\nQ 13.671875 62.703125 7.8125 59.421875 \r\nL 7.8125 69.390625 \r\nQ 13.765625 71.78125 18.9375 73 \r\nQ 24.125 74.21875 28.421875 74.21875 \r\nQ 39.75 74.21875 46.484375 68.546875 \r\nQ 53.21875 62.890625 53.21875 53.421875 \r\nQ 53.21875 48.921875 51.53125 44.890625 \r\nQ 49.859375 40.875 45.40625 35.40625 \r\nQ 44.1875 33.984375 37.640625 27.21875 \r\nQ 31.109375 20.453125 19.1875 8.296875 \r\nz\r\n\" id=\"DejaVuSans-50\"/>\r\n      </defs>\r\n      <g transform=\"translate(127.734659 239.238437)scale(0.1 -0.1)\">\r\n       <use xlink:href=\"#DejaVuSans-50\"/>\r\n      </g>\r\n     </g>\r\n    </g>\r\n    <g id=\"xtick_3\">\r\n     <g id=\"line2d_3\">\r\n      <g>\r\n       <use style=\"stroke:#000000;stroke-width:0.8;\" x=\"194.325\" xlink:href=\"#mf1f9387dcc\" y=\"224.64\"/>\r\n      </g>\r\n     </g>\r\n     <g id=\"text_3\">\r\n      <!-- 3 -->\r\n      <defs>\r\n       <path d=\"M 40.578125 39.3125 \r\nQ 47.65625 37.796875 51.625 33 \r\nQ 55.609375 28.21875 55.609375 21.1875 \r\nQ 55.609375 10.40625 48.1875 4.484375 \r\nQ 40.765625 -1.421875 27.09375 -1.421875 \r\nQ 22.515625 -1.421875 17.65625 -0.515625 \r\nQ 12.796875 0.390625 7.625 2.203125 \r\nL 7.625 11.71875 \r\nQ 11.71875 9.328125 16.59375 8.109375 \r\nQ 21.484375 6.890625 26.8125 6.890625 \r\nQ 36.078125 6.890625 40.9375 10.546875 \r\nQ 45.796875 14.203125 45.796875 21.1875 \r\nQ 45.796875 27.640625 41.28125 31.265625 \r\nQ 36.765625 34.90625 28.71875 34.90625 \r\nL 20.21875 34.90625 \r\nL 20.21875 43.015625 \r\nL 29.109375 43.015625 \r\nQ 36.375 43.015625 40.234375 45.921875 \r\nQ 44.09375 48.828125 44.09375 54.296875 \r\nQ 44.09375 59.90625 40.109375 62.90625 \r\nQ 36.140625 65.921875 28.71875 65.921875 \r\nQ 24.65625 65.921875 20.015625 65.03125 \r\nQ 15.375 64.15625 9.8125 62.3125 \r\nL 9.8125 71.09375 \r\nQ 15.4375 72.65625 20.34375 73.4375 \r\nQ 25.25 74.21875 29.59375 74.21875 \r\nQ 40.828125 74.21875 47.359375 69.109375 \r\nQ 53.90625 64.015625 53.90625 55.328125 \r\nQ 53.90625 49.265625 50.4375 45.09375 \r\nQ 46.96875 40.921875 40.578125 39.3125 \r\nz\r\n\" id=\"DejaVuSans-51\"/>\r\n      </defs>\r\n      <g transform=\"translate(191.14375 239.238437)scale(0.1 -0.1)\">\r\n       <use xlink:href=\"#DejaVuSans-51\"/>\r\n      </g>\r\n     </g>\r\n    </g>\r\n    <g id=\"xtick_4\">\r\n     <g id=\"line2d_4\">\r\n      <g>\r\n       <use style=\"stroke:#000000;stroke-width:0.8;\" x=\"257.734091\" xlink:href=\"#mf1f9387dcc\" y=\"224.64\"/>\r\n      </g>\r\n     </g>\r\n     <g id=\"text_4\">\r\n      <!-- 4 -->\r\n      <defs>\r\n       <path d=\"M 37.796875 64.3125 \r\nL 12.890625 25.390625 \r\nL 37.796875 25.390625 \r\nz\r\nM 35.203125 72.90625 \r\nL 47.609375 72.90625 \r\nL 47.609375 25.390625 \r\nL 58.015625 25.390625 \r\nL 58.015625 17.1875 \r\nL 47.609375 17.1875 \r\nL 47.609375 0 \r\nL 37.796875 0 \r\nL 37.796875 17.1875 \r\nL 4.890625 17.1875 \r\nL 4.890625 26.703125 \r\nz\r\n\" id=\"DejaVuSans-52\"/>\r\n      </defs>\r\n      <g transform=\"translate(254.552841 239.238437)scale(0.1 -0.1)\">\r\n       <use xlink:href=\"#DejaVuSans-52\"/>\r\n      </g>\r\n     </g>\r\n    </g>\r\n    <g id=\"xtick_5\">\r\n     <g id=\"line2d_5\">\r\n      <g>\r\n       <use style=\"stroke:#000000;stroke-width:0.8;\" x=\"321.143182\" xlink:href=\"#mf1f9387dcc\" y=\"224.64\"/>\r\n      </g>\r\n     </g>\r\n     <g id=\"text_5\">\r\n      <!-- 5 -->\r\n      <defs>\r\n       <path d=\"M 10.796875 72.90625 \r\nL 49.515625 72.90625 \r\nL 49.515625 64.59375 \r\nL 19.828125 64.59375 \r\nL 19.828125 46.734375 \r\nQ 21.96875 47.46875 24.109375 47.828125 \r\nQ 26.265625 48.1875 28.421875 48.1875 \r\nQ 40.625 48.1875 47.75 41.5 \r\nQ 54.890625 34.8125 54.890625 23.390625 \r\nQ 54.890625 11.625 47.5625 5.09375 \r\nQ 40.234375 -1.421875 26.90625 -1.421875 \r\nQ 22.3125 -1.421875 17.546875 -0.640625 \r\nQ 12.796875 0.140625 7.71875 1.703125 \r\nL 7.71875 11.625 \r\nQ 12.109375 9.234375 16.796875 8.0625 \r\nQ 21.484375 6.890625 26.703125 6.890625 \r\nQ 35.15625 6.890625 40.078125 11.328125 \r\nQ 45.015625 15.765625 45.015625 23.390625 \r\nQ 45.015625 31 40.078125 35.4375 \r\nQ 35.15625 39.890625 26.703125 39.890625 \r\nQ 22.75 39.890625 18.8125 39.015625 \r\nQ 14.890625 38.140625 10.796875 36.28125 \r\nz\r\n\" id=\"DejaVuSans-53\"/>\r\n      </defs>\r\n      <g transform=\"translate(317.961932 239.238437)scale(0.1 -0.1)\">\r\n       <use xlink:href=\"#DejaVuSans-53\"/>\r\n      </g>\r\n     </g>\r\n    </g>\r\n   </g>\r\n   <g id=\"matplotlib.axis_2\">\r\n    <g id=\"ytick_1\">\r\n     <g id=\"line2d_6\">\r\n      <defs>\r\n       <path d=\"M 0 0 \r\nL -3.5 0 \r\n\" id=\"m3611761795\" style=\"stroke:#000000;stroke-width:0.8;\"/>\r\n      </defs>\r\n      <g>\r\n       <use style=\"stroke:#000000;stroke-width:0.8;\" x=\"26.925\" xlink:href=\"#m3611761795\" y=\"224.64\"/>\r\n      </g>\r\n     </g>\r\n     <g id=\"text_6\">\r\n      <!-- 0 -->\r\n      <defs>\r\n       <path d=\"M 31.78125 66.40625 \r\nQ 24.171875 66.40625 20.328125 58.90625 \r\nQ 16.5 51.421875 16.5 36.375 \r\nQ 16.5 21.390625 20.328125 13.890625 \r\nQ 24.171875 6.390625 31.78125 6.390625 \r\nQ 39.453125 6.390625 43.28125 13.890625 \r\nQ 47.125 21.390625 47.125 36.375 \r\nQ 47.125 51.421875 43.28125 58.90625 \r\nQ 39.453125 66.40625 31.78125 66.40625 \r\nz\r\nM 31.78125 74.21875 \r\nQ 44.046875 74.21875 50.515625 64.515625 \r\nQ 56.984375 54.828125 56.984375 36.375 \r\nQ 56.984375 17.96875 50.515625 8.265625 \r\nQ 44.046875 -1.421875 31.78125 -1.421875 \r\nQ 19.53125 -1.421875 13.0625 8.265625 \r\nQ 6.59375 17.96875 6.59375 36.375 \r\nQ 6.59375 54.828125 13.0625 64.515625 \r\nQ 19.53125 74.21875 31.78125 74.21875 \r\nz\r\n\" id=\"DejaVuSans-48\"/>\r\n      </defs>\r\n      <g transform=\"translate(13.5625 228.439219)scale(0.1 -0.1)\">\r\n       <use xlink:href=\"#DejaVuSans-48\"/>\r\n      </g>\r\n     </g>\r\n    </g>\r\n    <g id=\"ytick_2\">\r\n     <g id=\"line2d_7\">\r\n      <g>\r\n       <use style=\"stroke:#000000;stroke-width:0.8;\" x=\"26.925\" xlink:href=\"#m3611761795\" y=\"198.754286\"/>\r\n      </g>\r\n     </g>\r\n     <g id=\"text_7\">\r\n      <!-- 5 -->\r\n      <g transform=\"translate(13.5625 202.553504)scale(0.1 -0.1)\">\r\n       <use xlink:href=\"#DejaVuSans-53\"/>\r\n      </g>\r\n     </g>\r\n    </g>\r\n    <g id=\"ytick_3\">\r\n     <g id=\"line2d_8\">\r\n      <g>\r\n       <use style=\"stroke:#000000;stroke-width:0.8;\" x=\"26.925\" xlink:href=\"#m3611761795\" y=\"172.868571\"/>\r\n      </g>\r\n     </g>\r\n     <g id=\"text_8\">\r\n      <!-- 10 -->\r\n      <g transform=\"translate(7.2 176.66779)scale(0.1 -0.1)\">\r\n       <use xlink:href=\"#DejaVuSans-49\"/>\r\n       <use x=\"63.623047\" xlink:href=\"#DejaVuSans-48\"/>\r\n      </g>\r\n     </g>\r\n    </g>\r\n    <g id=\"ytick_4\">\r\n     <g id=\"line2d_9\">\r\n      <g>\r\n       <use style=\"stroke:#000000;stroke-width:0.8;\" x=\"26.925\" xlink:href=\"#m3611761795\" y=\"146.982857\"/>\r\n      </g>\r\n     </g>\r\n     <g id=\"text_9\">\r\n      <!-- 15 -->\r\n      <g transform=\"translate(7.2 150.782076)scale(0.1 -0.1)\">\r\n       <use xlink:href=\"#DejaVuSans-49\"/>\r\n       <use x=\"63.623047\" xlink:href=\"#DejaVuSans-53\"/>\r\n      </g>\r\n     </g>\r\n    </g>\r\n    <g id=\"ytick_5\">\r\n     <g id=\"line2d_10\">\r\n      <g>\r\n       <use style=\"stroke:#000000;stroke-width:0.8;\" x=\"26.925\" xlink:href=\"#m3611761795\" y=\"121.097143\"/>\r\n      </g>\r\n     </g>\r\n     <g id=\"text_10\">\r\n      <!-- 20 -->\r\n      <g transform=\"translate(7.2 124.896362)scale(0.1 -0.1)\">\r\n       <use xlink:href=\"#DejaVuSans-50\"/>\r\n       <use x=\"63.623047\" xlink:href=\"#DejaVuSans-48\"/>\r\n      </g>\r\n     </g>\r\n    </g>\r\n    <g id=\"ytick_6\">\r\n     <g id=\"line2d_11\">\r\n      <g>\r\n       <use style=\"stroke:#000000;stroke-width:0.8;\" x=\"26.925\" xlink:href=\"#m3611761795\" y=\"95.211429\"/>\r\n      </g>\r\n     </g>\r\n     <g id=\"text_11\">\r\n      <!-- 25 -->\r\n      <g transform=\"translate(7.2 99.010647)scale(0.1 -0.1)\">\r\n       <use xlink:href=\"#DejaVuSans-50\"/>\r\n       <use x=\"63.623047\" xlink:href=\"#DejaVuSans-53\"/>\r\n      </g>\r\n     </g>\r\n    </g>\r\n    <g id=\"ytick_7\">\r\n     <g id=\"line2d_12\">\r\n      <g>\r\n       <use style=\"stroke:#000000;stroke-width:0.8;\" x=\"26.925\" xlink:href=\"#m3611761795\" y=\"69.325714\"/>\r\n      </g>\r\n     </g>\r\n     <g id=\"text_12\">\r\n      <!-- 30 -->\r\n      <g transform=\"translate(7.2 73.124933)scale(0.1 -0.1)\">\r\n       <use xlink:href=\"#DejaVuSans-51\"/>\r\n       <use x=\"63.623047\" xlink:href=\"#DejaVuSans-48\"/>\r\n      </g>\r\n     </g>\r\n    </g>\r\n    <g id=\"ytick_8\">\r\n     <g id=\"line2d_13\">\r\n      <g>\r\n       <use style=\"stroke:#000000;stroke-width:0.8;\" x=\"26.925\" xlink:href=\"#m3611761795\" y=\"43.44\"/>\r\n      </g>\r\n     </g>\r\n     <g id=\"text_13\">\r\n      <!-- 35 -->\r\n      <g transform=\"translate(7.2 47.239219)scale(0.1 -0.1)\">\r\n       <use xlink:href=\"#DejaVuSans-51\"/>\r\n       <use x=\"63.623047\" xlink:href=\"#DejaVuSans-53\"/>\r\n      </g>\r\n     </g>\r\n    </g>\r\n    <g id=\"ytick_9\">\r\n     <g id=\"line2d_14\">\r\n      <g>\r\n       <use style=\"stroke:#000000;stroke-width:0.8;\" x=\"26.925\" xlink:href=\"#m3611761795\" y=\"17.554286\"/>\r\n      </g>\r\n     </g>\r\n     <g id=\"text_14\">\r\n      <!-- 40 -->\r\n      <g transform=\"translate(7.2 21.353504)scale(0.1 -0.1)\">\r\n       <use xlink:href=\"#DejaVuSans-52\"/>\r\n       <use x=\"63.623047\" xlink:href=\"#DejaVuSans-48\"/>\r\n      </g>\r\n     </g>\r\n    </g>\r\n   </g>\r\n   <g id=\"patch_8\">\r\n    <path d=\"M 26.925 224.64 \r\nL 26.925 7.2 \r\n\" style=\"fill:none;stroke:#000000;stroke-linecap:square;stroke-linejoin:miter;stroke-width:0.8;\"/>\r\n   </g>\r\n   <g id=\"patch_9\">\r\n    <path d=\"M 361.725 224.64 \r\nL 361.725 7.2 \r\n\" style=\"fill:none;stroke:#000000;stroke-linecap:square;stroke-linejoin:miter;stroke-width:0.8;\"/>\r\n   </g>\r\n   <g id=\"patch_10\">\r\n    <path d=\"M 26.925 224.64 \r\nL 361.725 224.64 \r\n\" style=\"fill:none;stroke:#000000;stroke-linecap:square;stroke-linejoin:miter;stroke-width:0.8;\"/>\r\n   </g>\r\n   <g id=\"patch_11\">\r\n    <path d=\"M 26.925 7.2 \r\nL 361.725 7.2 \r\n\" style=\"fill:none;stroke:#000000;stroke-linecap:square;stroke-linejoin:miter;stroke-width:0.8;\"/>\r\n   </g>\r\n  </g>\r\n </g>\r\n <defs>\r\n  <clipPath id=\"p1e62e19770\">\r\n   <rect height=\"217.44\" width=\"334.8\" x=\"26.925\" y=\"7.2\"/>\r\n  </clipPath>\r\n </defs>\r\n</svg>\r\n",
            "image/png": "[encoded data removed]"
          },
          "metadata": {
            "needs_background": "light"
          }
        }
      ]
    },
    {
      "cell_type": "code",
      "metadata": {
        "id": "6VFpXr5PTEmK",
        "colab_type": "code",
        "colab": {
          "base_uri": "https://localhost:8080/",
          "height": 272
        },
        "outputId": "654dd200-4717-4d38-babe-70b48a08acae"
      },
      "source": [
        "#### Make the data frames for some countries\n",
        "## China \n",
        "china = df[df['country'] == 'China']\n",
        "china = china.groupby('Date')['Active','Confirmed','Recovered','Deaths'].sum().reset_index()\n",
        "china.head()"
      ],
      "execution_count": 23,
      "outputs": [
        {
          "output_type": "execute_result",
          "data": {
            "text/plain": "        Date  Active  Confirmed  Recovered  Deaths\n0 2020-01-22     503        548         28      17\n1 2020-01-23     595        643         30      18\n2 2020-01-24     859        920         35      26\n3 2020-01-25    1326       1406         38      42\n4 2020-01-26    1971       2075         48      56",
            "text/html": "<div>\n<style scoped>\n    .dataframe tbody tr th:only-of-type {\n        vertical-align: middle;\n    }\n\n    .dataframe tbody tr th {\n        vertical-align: top;\n    }\n\n    .dataframe thead th {\n        text-align: right;\n    }\n</style>\n<table border=\"1\" class=\"dataframe\">\n  <thead>\n    <tr style=\"text-align: right;\">\n      <th></th>\n      <th>Date</th>\n      <th>Active</th>\n      <th>Confirmed</th>\n      <th>Recovered</th>\n      <th>Deaths</th>\n    </tr>\n  </thead>\n  <tbody>\n    <tr>\n      <th>0</th>\n      <td>2020-01-22</td>\n      <td>503</td>\n      <td>548</td>\n      <td>28</td>\n      <td>17</td>\n    </tr>\n    <tr>\n      <th>1</th>\n      <td>2020-01-23</td>\n      <td>595</td>\n      <td>643</td>\n      <td>30</td>\n      <td>18</td>\n    </tr>\n    <tr>\n      <th>2</th>\n      <td>2020-01-24</td>\n      <td>859</td>\n      <td>920</td>\n      <td>35</td>\n      <td>26</td>\n    </tr>\n    <tr>\n      <th>3</th>\n      <td>2020-01-25</td>\n      <td>1326</td>\n      <td>1406</td>\n      <td>38</td>\n      <td>42</td>\n    </tr>\n    <tr>\n      <th>4</th>\n      <td>2020-01-26</td>\n      <td>1971</td>\n      <td>2075</td>\n      <td>48</td>\n      <td>56</td>\n    </tr>\n  </tbody>\n</table>\n</div>"
          },
          "metadata": {},
          "execution_count": 23
        }
      ]
    },
    {
      "cell_type": "code",
      "metadata": {
        "id": "j4DmdyvMTfwI",
        "colab_type": "code",
        "colab": {
          "base_uri": "https://localhost:8080/",
          "height": 272
        },
        "outputId": "833dae25-265e-4bf0-d8d8-501f701b124b"
      },
      "source": [
        "# Italy\n",
        "italy = df[df['country'] == 'Italy']\n",
        "italy = italy.groupby('Date')['Active','Confirmed','Recovered','Deaths'].sum().reset_index()\n",
        "italy.head()"
      ],
      "execution_count": 24,
      "outputs": [
        {
          "output_type": "execute_result",
          "data": {
            "text/plain": "        Date  Active  Confirmed  Recovered  Deaths\n0 2020-01-22       0          0          0       0\n1 2020-01-23       0          0          0       0\n2 2020-01-24       0          0          0       0\n3 2020-01-25       0          0          0       0\n4 2020-01-26       0          0          0       0",
            "text/html": "<div>\n<style scoped>\n    .dataframe tbody tr th:only-of-type {\n        vertical-align: middle;\n    }\n\n    .dataframe tbody tr th {\n        vertical-align: top;\n    }\n\n    .dataframe thead th {\n        text-align: right;\n    }\n</style>\n<table border=\"1\" class=\"dataframe\">\n  <thead>\n    <tr style=\"text-align: right;\">\n      <th></th>\n      <th>Date</th>\n      <th>Active</th>\n      <th>Confirmed</th>\n      <th>Recovered</th>\n      <th>Deaths</th>\n    </tr>\n  </thead>\n  <tbody>\n    <tr>\n      <th>0</th>\n      <td>2020-01-22</td>\n      <td>0</td>\n      <td>0</td>\n      <td>0</td>\n      <td>0</td>\n    </tr>\n    <tr>\n      <th>1</th>\n      <td>2020-01-23</td>\n      <td>0</td>\n      <td>0</td>\n      <td>0</td>\n      <td>0</td>\n    </tr>\n    <tr>\n      <th>2</th>\n      <td>2020-01-24</td>\n      <td>0</td>\n      <td>0</td>\n      <td>0</td>\n      <td>0</td>\n    </tr>\n    <tr>\n      <th>3</th>\n      <td>2020-01-25</td>\n      <td>0</td>\n      <td>0</td>\n      <td>0</td>\n      <td>0</td>\n    </tr>\n    <tr>\n      <th>4</th>\n      <td>2020-01-26</td>\n      <td>0</td>\n      <td>0</td>\n      <td>0</td>\n      <td>0</td>\n    </tr>\n  </tbody>\n</table>\n</div>"
          },
          "metadata": {},
          "execution_count": 24
        }
      ]
    },
    {
      "cell_type": "code",
      "metadata": {
        "id": "3oKkiINoT41c",
        "colab_type": "code",
        "colab": {
          "base_uri": "https://localhost:8080/",
          "height": 272
        },
        "outputId": "eb8ae08d-a6e9-4ba6-99b2-87b227321794"
      },
      "source": [
        "# India\n",
        "india = df[df['country'] == 'India']\n",
        "india = india.groupby('Date')['Active','Confirmed','Recovered','Deaths'].sum().reset_index()\n",
        "india.head()"
      ],
      "execution_count": 25,
      "outputs": [
        {
          "output_type": "execute_result",
          "data": {
            "text/plain": "        Date  Active  Confirmed  Recovered  Deaths\n0 2020-01-22       0          0          0       0\n1 2020-01-23       0          0          0       0\n2 2020-01-24       0          0          0       0\n3 2020-01-25       0          0          0       0\n4 2020-01-26       0          0          0       0",
            "text/html": "<div>\n<style scoped>\n    .dataframe tbody tr th:only-of-type {\n        vertical-align: middle;\n    }\n\n    .dataframe tbody tr th {\n        vertical-align: top;\n    }\n\n    .dataframe thead th {\n        text-align: right;\n    }\n</style>\n<table border=\"1\" class=\"dataframe\">\n  <thead>\n    <tr style=\"text-align: right;\">\n      <th></th>\n      <th>Date</th>\n      <th>Active</th>\n      <th>Confirmed</th>\n      <th>Recovered</th>\n      <th>Deaths</th>\n    </tr>\n  </thead>\n  <tbody>\n    <tr>\n      <th>0</th>\n      <td>2020-01-22</td>\n      <td>0</td>\n      <td>0</td>\n      <td>0</td>\n      <td>0</td>\n    </tr>\n    <tr>\n      <th>1</th>\n      <td>2020-01-23</td>\n      <td>0</td>\n      <td>0</td>\n      <td>0</td>\n      <td>0</td>\n    </tr>\n    <tr>\n      <th>2</th>\n      <td>2020-01-24</td>\n      <td>0</td>\n      <td>0</td>\n      <td>0</td>\n      <td>0</td>\n    </tr>\n    <tr>\n      <th>3</th>\n      <td>2020-01-25</td>\n      <td>0</td>\n      <td>0</td>\n      <td>0</td>\n      <td>0</td>\n    </tr>\n    <tr>\n      <th>4</th>\n      <td>2020-01-26</td>\n      <td>0</td>\n      <td>0</td>\n      <td>0</td>\n      <td>0</td>\n    </tr>\n  </tbody>\n</table>\n</div>"
          },
          "metadata": {},
          "execution_count": 25
        }
      ]
    },
    {
      "cell_type": "code",
      "metadata": {
        "id": "zye3LvqlT4qU",
        "colab_type": "code",
        "colab": {
          "base_uri": "https://localhost:8080/",
          "height": 272
        },
        "outputId": "ab13798b-0e07-4ef3-acb6-381b060c29c6"
      },
      "source": [
        "# US\n",
        "us = df[df['country'] == 'US']\n",
        "us = us.groupby('Date')['Active','Confirmed','Recovered','Deaths'].sum().reset_index()\n",
        "us.head()"
      ],
      "execution_count": 26,
      "outputs": [
        {
          "output_type": "execute_result",
          "data": {
            "text/plain": "        Date  Active  Confirmed  Recovered  Deaths\n0 2020-01-22       1          1          0       0\n1 2020-01-23       1          1          0       0\n2 2020-01-24       2          2          0       0\n3 2020-01-25       2          2          0       0\n4 2020-01-26       5          5          0       0",
            "text/html": "<div>\n<style scoped>\n    .dataframe tbody tr th:only-of-type {\n        vertical-align: middle;\n    }\n\n    .dataframe tbody tr th {\n        vertical-align: top;\n    }\n\n    .dataframe thead th {\n        text-align: right;\n    }\n</style>\n<table border=\"1\" class=\"dataframe\">\n  <thead>\n    <tr style=\"text-align: right;\">\n      <th></th>\n      <th>Date</th>\n      <th>Active</th>\n      <th>Confirmed</th>\n      <th>Recovered</th>\n      <th>Deaths</th>\n    </tr>\n  </thead>\n  <tbody>\n    <tr>\n      <th>0</th>\n      <td>2020-01-22</td>\n      <td>1</td>\n      <td>1</td>\n      <td>0</td>\n      <td>0</td>\n    </tr>\n    <tr>\n      <th>1</th>\n      <td>2020-01-23</td>\n      <td>1</td>\n      <td>1</td>\n      <td>0</td>\n      <td>0</td>\n    </tr>\n    <tr>\n      <th>2</th>\n      <td>2020-01-24</td>\n      <td>2</td>\n      <td>2</td>\n      <td>0</td>\n      <td>0</td>\n    </tr>\n    <tr>\n      <th>3</th>\n      <td>2020-01-25</td>\n      <td>2</td>\n      <td>2</td>\n      <td>0</td>\n      <td>0</td>\n    </tr>\n    <tr>\n      <th>4</th>\n      <td>2020-01-26</td>\n      <td>5</td>\n      <td>5</td>\n      <td>0</td>\n      <td>0</td>\n    </tr>\n  </tbody>\n</table>\n</div>"
          },
          "metadata": {},
          "execution_count": 26
        }
      ]
    },
    {
      "cell_type": "code",
      "metadata": {
        "id": "iZhlwm7NT5ob",
        "colab_type": "code",
        "colab": {
          "base_uri": "https://localhost:8080/",
          "height": 272
        },
        "outputId": "3ac87762-e3fb-4dad-f0e0-354b4b580ce8"
      },
      "source": [
        "# Germany\n",
        "germany = df[df['country'] == 'Germany']\n",
        "germany = germany.groupby('Date')['Active','Confirmed','Recovered','Deaths'].sum().reset_index()\n",
        "germany.head()"
      ],
      "execution_count": 27,
      "outputs": [
        {
          "output_type": "execute_result",
          "data": {
            "text/plain": "        Date  Active  Confirmed  Recovered  Deaths\n0 2020-01-22       0          0          0       0\n1 2020-01-23       0          0          0       0\n2 2020-01-24       0          0          0       0\n3 2020-01-25       0          0          0       0\n4 2020-01-26       0          0          0       0",
            "text/html": "<div>\n<style scoped>\n    .dataframe tbody tr th:only-of-type {\n        vertical-align: middle;\n    }\n\n    .dataframe tbody tr th {\n        vertical-align: top;\n    }\n\n    .dataframe thead th {\n        text-align: right;\n    }\n</style>\n<table border=\"1\" class=\"dataframe\">\n  <thead>\n    <tr style=\"text-align: right;\">\n      <th></th>\n      <th>Date</th>\n      <th>Active</th>\n      <th>Confirmed</th>\n      <th>Recovered</th>\n      <th>Deaths</th>\n    </tr>\n  </thead>\n  <tbody>\n    <tr>\n      <th>0</th>\n      <td>2020-01-22</td>\n      <td>0</td>\n      <td>0</td>\n      <td>0</td>\n      <td>0</td>\n    </tr>\n    <tr>\n      <th>1</th>\n      <td>2020-01-23</td>\n      <td>0</td>\n      <td>0</td>\n      <td>0</td>\n      <td>0</td>\n    </tr>\n    <tr>\n      <th>2</th>\n      <td>2020-01-24</td>\n      <td>0</td>\n      <td>0</td>\n      <td>0</td>\n      <td>0</td>\n    </tr>\n    <tr>\n      <th>3</th>\n      <td>2020-01-25</td>\n      <td>0</td>\n      <td>0</td>\n      <td>0</td>\n      <td>0</td>\n    </tr>\n    <tr>\n      <th>4</th>\n      <td>2020-01-26</td>\n      <td>0</td>\n      <td>0</td>\n      <td>0</td>\n      <td>0</td>\n    </tr>\n  </tbody>\n</table>\n</div>"
          },
          "metadata": {},
          "execution_count": 27
        }
      ]
    },
    {
      "cell_type": "code",
      "metadata": {
        "id": "h-Pb64iaUMK5",
        "colab_type": "code",
        "colab": {
          "base_uri": "https://localhost:8080/",
          "height": 483
        },
        "outputId": "8179a5b3-6b92-4043-b0d8-eec2661a1050"
      },
      "source": [
        "# Taking the serial no on the X-axis\n",
        "# Plotting all the line plots\n",
        "plt.figure(figsize=(10,8))\n",
        "plt.plot(china.index,china['Recovered'],color = 'red',label='China')\n",
        "plt.plot(us.index,us['Recovered'],color = 'blue',label='US')\n",
        "plt.plot(germany.index,germany['Recovered'],color = 'yellow',label='Germany')\n",
        "plt.plot(india.index,india['Recovered'],color = 'green',label='India')\n",
        "plt.plot(italy.index,italy['Recovered'],color = 'black',label='Italy')\n",
        "\n",
        "# Plotting all the scatter plots\n",
        "# Changing the marker style and size\n",
        "# Remove labels so they don't appear again\n",
        "plt.scatter(china.index,china['Recovered'],color = 'red',marker = \".\" , s = 200)\n",
        "plt.scatter(us.index,us['Recovered'],color = 'blue')\n",
        "plt.scatter(germany.index,germany['Recovered'],color = 'yellow')\n",
        "plt.scatter(india.index,india['Recovered'],color = 'green')\n",
        "plt.scatter(italy.index,italy['Recovered'],color = 'black')\n",
        "\n",
        "plt.legend(loc = 2)\n",
        "plt.show()"
      ],
      "execution_count": 28,
      "outputs": [
        {
          "output_type": "display_data",
          "data": {
            "text/plain": "<Figure size 720x576 with 1 Axes>",
            "image/svg+xml": "<?xml version=\"1.0\" encoding=\"utf-8\" standalone=\"no\"?>\r\n<!DOCTYPE svg PUBLIC \"-//W3C//DTD SVG 1.1//EN\"\r\n  \"http://www.w3.org/Graphics/SVG/1.1/DTD/svg11.dtd\">\r\n<!-- Created with matplotlib (https://matplotlib.org/) -->\r\n<svg height=\"465.958125pt\" version=\"1.1\" viewBox=\"0 0 617.575 465.958125\" width=\"617.575pt\" xmlns=\"http://www.w3.org/2000/svg\" xmlns:xlink=\"http://www.w3.org/1999/xlink\">\r\n <defs>\r\n  <style type=\"text/css\">\r\n*{stroke-linecap:butt;stroke-linejoin:round;}\r\n  </style>\r\n </defs>\r\n <g id=\"figure_1\">\r\n  <g id=\"patch_1\">\r\n   <path d=\"M 0 465.958125 \r\nL 617.575 465.958125 \r\nL 617.575 0 \r\nL 0 0 \r\nz\r\n\" style=\"fill:none;\"/>\r\n  </g>\r\n  <g id=\"axes_1\">\r\n   <g id=\"patch_2\">\r\n    <path d=\"M 52.375 442.08 \r\nL 610.375 442.08 \r\nL 610.375 7.2 \r\nL 52.375 7.2 \r\nz\r\n\" style=\"fill:#ffffff;\"/>\r\n   </g>\r\n   <g id=\"PathCollection_1\">\r\n    <defs>\r\n     <path d=\"M 0 3.535534 \r\nC 0.937635 3.535534 1.836992 3.163008 2.5 2.5 \r\nC 3.163008 1.836992 3.535534 0.937635 3.535534 0 \r\nC 3.535534 -0.937635 3.163008 -1.836992 2.5 -2.5 \r\nC 1.836992 -3.163008 0.937635 -3.535534 0 -3.535534 \r\nC -0.937635 -3.535534 -1.836992 -3.163008 -2.5 -2.5 \r\nC -3.163008 -1.836992 -3.535534 -0.937635 -3.535534 0 \r\nC -3.535534 0.937635 -3.163008 1.836992 -2.5 2.5 \r\nC -1.836992 3.163008 -0.937635 3.535534 0 3.535534 \r\nz\r\n\" id=\"m3278bdc4c9\" style=\"stroke:#ff0000;\"/>\r\n    </defs>\r\n    <g clip-path=\"url(#pc13d938631)\">\r\n     <use style=\"fill:#ff0000;stroke:#ff0000;\" x=\"81.225565\" xlink:href=\"#m3278bdc4c9\" y=\"418.834099\"/>\r\n     <use style=\"fill:#ff0000;stroke:#ff0000;\" x=\"86.383285\" xlink:href=\"#m3278bdc4c9\" y=\"418.827473\"/>\r\n     <use style=\"fill:#ff0000;stroke:#ff0000;\" x=\"91.541005\" xlink:href=\"#m3278bdc4c9\" y=\"418.810906\"/>\r\n     <use style=\"fill:#ff0000;stroke:#ff0000;\" x=\"96.698726\" xlink:href=\"#m3278bdc4c9\" y=\"418.800966\"/>\r\n     <use style=\"fill:#ff0000;stroke:#ff0000;\" x=\"101.856446\" xlink:href=\"#m3278bdc4c9\" y=\"418.767833\"/>\r\n     <use style=\"fill:#ff0000;stroke:#ff0000;\" x=\"107.014166\" xlink:href=\"#m3278bdc4c9\" y=\"418.74464\"/>\r\n     <use style=\"fill:#ff0000;stroke:#ff0000;\" x=\"112.171887\" xlink:href=\"#m3278bdc4c9\" y=\"418.605481\"/>\r\n     <use style=\"fill:#ff0000;stroke:#ff0000;\" x=\"117.329607\" xlink:href=\"#m3278bdc4c9\" y=\"418.549155\"/>\r\n     <use style=\"fill:#ff0000;stroke:#ff0000;\" x=\"122.487327\" xlink:href=\"#m3278bdc4c9\" y=\"418.502769\"/>\r\n     <use style=\"fill:#ff0000;stroke:#ff0000;\" x=\"127.645047\" xlink:href=\"#m3278bdc4c9\" y=\"418.260897\"/>\r\n     <use style=\"fill:#ff0000;stroke:#ff0000;\" x=\"132.802768\" xlink:href=\"#m3278bdc4c9\" y=\"418.072039\"/>\r\n     <use style=\"fill:#ff0000;stroke:#ff0000;\" x=\"137.960488\" xlink:href=\"#m3278bdc4c9\" y=\"417.475644\"/>\r\n     <use style=\"fill:#ff0000;stroke:#ff0000;\" x=\"143.118208\" xlink:href=\"#m3278bdc4c9\" y=\"417.001841\"/>\r\n     <use style=\"fill:#ff0000;stroke:#ff0000;\" x=\"148.275929\" xlink:href=\"#m3278bdc4c9\" y=\"416.292793\"/>\r\n     <use style=\"fill:#ff0000;stroke:#ff0000;\" x=\"153.433649\" xlink:href=\"#m3278bdc4c9\" y=\"415.47772\"/>\r\n     <use style=\"fill:#ff0000;stroke:#ff0000;\" x=\"158.591369\" xlink:href=\"#m3278bdc4c9\" y=\"414.351196\"/>\r\n     <use style=\"fill:#ff0000;stroke:#ff0000;\" x=\"163.74909\" xlink:href=\"#m3278bdc4c9\" y=\"412.767435\"/>\r\n     <use style=\"fill:#ff0000;stroke:#ff0000;\" x=\"168.90681\" xlink:href=\"#m3278bdc4c9\" y=\"410.945116\"/>\r\n     <use style=\"fill:#ff0000;stroke:#ff0000;\" x=\"174.06453\" xlink:href=\"#m3278bdc4c9\" y=\"409.020085\"/>\r\n     <use style=\"fill:#ff0000;stroke:#ff0000;\" x=\"179.222251\" xlink:href=\"#m3278bdc4c9\" y=\"406.899569\"/>\r\n     <use style=\"fill:#ff0000;stroke:#ff0000;\" x=\"184.379971\" xlink:href=\"#m3278bdc4c9\" y=\"404.620014\"/>\r\n     <use style=\"fill:#ff0000;stroke:#ff0000;\" x=\"189.537691\" xlink:href=\"#m3278bdc4c9\" y=\"403.281438\"/>\r\n     <use style=\"fill:#ff0000;stroke:#ff0000;\" x=\"194.695412\" xlink:href=\"#m3278bdc4c9\" y=\"399.713007\"/>\r\n     <use style=\"fill:#ff0000;stroke:#ff0000;\" x=\"199.853132\" xlink:href=\"#m3278bdc4c9\" y=\"394.252678\"/>\r\n     <use style=\"fill:#ff0000;stroke:#ff0000;\" x=\"205.010852\" xlink:href=\"#m3278bdc4c9\" y=\"390.190564\"/>\r\n     <use style=\"fill:#ff0000;stroke:#ff0000;\" x=\"210.168573\" xlink:href=\"#m3278bdc4c9\" y=\"385.614888\"/>\r\n     <use style=\"fill:#ff0000;stroke:#ff0000;\" x=\"215.326293\" xlink:href=\"#m3278bdc4c9\" y=\"380.293717\"/>\r\n     <use style=\"fill:#ff0000;stroke:#ff0000;\" x=\"220.484013\" xlink:href=\"#m3278bdc4c9\" y=\"374.730675\"/>\r\n     <use style=\"fill:#ff0000;stroke:#ff0000;\" x=\"225.641734\" xlink:href=\"#m3278bdc4c9\" y=\"369.151067\"/>\r\n     <use style=\"fill:#ff0000;stroke:#ff0000;\" x=\"230.799454\" xlink:href=\"#m3278bdc4c9\" y=\"362.723252\"/>\r\n     <use style=\"fill:#ff0000;stroke:#ff0000;\" x=\"235.957174\" xlink:href=\"#m3278bdc4c9\" y=\"360.990393\"/>\r\n     <use style=\"fill:#ff0000;stroke:#ff0000;\" x=\"241.114894\" xlink:href=\"#m3278bdc4c9\" y=\"348.250729\"/>\r\n     <use style=\"fill:#ff0000;stroke:#ff0000;\" x=\"246.272615\" xlink:href=\"#m3278bdc4c9\" y=\"346.91878\"/>\r\n     <use style=\"fill:#ff0000;stroke:#ff0000;\" x=\"251.430335\" xlink:href=\"#m3278bdc4c9\" y=\"341.1967\"/>\r\n     <use style=\"fill:#ff0000;stroke:#ff0000;\" x=\"256.588055\" xlink:href=\"#m3278bdc4c9\" y=\"332.668248\"/>\r\n     <use style=\"fill:#ff0000;stroke:#ff0000;\" x=\"261.745776\" xlink:href=\"#m3278bdc4c9\" y=\"324.875351\"/>\r\n     <use style=\"fill:#ff0000;stroke:#ff0000;\" x=\"266.903496\" xlink:href=\"#m3278bdc4c9\" y=\"315.664359\"/>\r\n     <use style=\"fill:#ff0000;stroke:#ff0000;\" x=\"272.061216\" xlink:href=\"#m3278bdc4c9\" y=\"304.621108\"/>\r\n     <use style=\"fill:#ff0000;stroke:#ff0000;\" x=\"277.218937\" xlink:href=\"#m3278bdc4c9\" y=\"294.992639\"/>\r\n     <use style=\"fill:#ff0000;stroke:#ff0000;\" x=\"282.376657\" xlink:href=\"#m3278bdc4c9\" y=\"285.83466\"/>\r\n     <use style=\"fill:#ff0000;stroke:#ff0000;\" x=\"287.534377\" xlink:href=\"#m3278bdc4c9\" y=\"277.008011\"/>\r\n     <use style=\"fill:#ff0000;stroke:#ff0000;\" x=\"292.692098\" xlink:href=\"#m3278bdc4c9\" y=\"268.535886\"/>\r\n     <use style=\"fill:#ff0000;stroke:#ff0000;\" x=\"297.849818\" xlink:href=\"#m3278bdc4c9\" y=\"260.130027\"/>\r\n     <use style=\"fill:#ff0000;stroke:#ff0000;\" x=\"303.007538\" xlink:href=\"#m3278bdc4c9\" y=\"252.592255\"/>\r\n     <use style=\"fill:#ff0000;stroke:#ff0000;\" x=\"308.165259\" xlink:href=\"#m3278bdc4c9\" y=\"247.204818\"/>\r\n     <use style=\"fill:#ff0000;stroke:#ff0000;\" x=\"313.322979\" xlink:href=\"#m3278bdc4c9\" y=\"241.966481\"/>\r\n     <use style=\"fill:#ff0000;stroke:#ff0000;\" x=\"318.480699\" xlink:href=\"#m3278bdc4c9\" y=\"235.88325\"/>\r\n     <use style=\"fill:#ff0000;stroke:#ff0000;\" x=\"323.63842\" xlink:href=\"#m3278bdc4c9\" y=\"231.254561\"/>\r\n     <use style=\"fill:#ff0000;stroke:#ff0000;\" x=\"328.79614\" xlink:href=\"#m3278bdc4c9\" y=\"226.718644\"/>\r\n     <use style=\"fill:#ff0000;stroke:#ff0000;\" x=\"333.95386\" xlink:href=\"#m3278bdc4c9\" y=\"221.887843\"/>\r\n     <use style=\"fill:#ff0000;stroke:#ff0000;\" x=\"339.11158\" xlink:href=\"#m3278bdc4c9\" y=\"217.742896\"/>\r\n     <use style=\"fill:#ff0000;stroke:#ff0000;\" x=\"344.269301\" xlink:href=\"#m3278bdc4c9\" y=\"213.478671\"/>\r\n     <use style=\"fill:#ff0000;stroke:#ff0000;\" x=\"349.427021\" xlink:href=\"#m3278bdc4c9\" y=\"208.641243\"/>\r\n     <use style=\"fill:#ff0000;stroke:#ff0000;\" x=\"354.584741\" xlink:href=\"#m3278bdc4c9\" y=\"204.164966\"/>\r\n     <use style=\"fill:#ff0000;stroke:#ff0000;\" x=\"359.742462\" xlink:href=\"#m3278bdc4c9\" y=\"201.216123\"/>\r\n     <use style=\"fill:#ff0000;stroke:#ff0000;\" x=\"364.900182\" xlink:href=\"#m3278bdc4c9\" y=\"198.27722\"/>\r\n     <use style=\"fill:#ff0000;stroke:#ff0000;\" x=\"370.057902\" xlink:href=\"#m3278bdc4c9\" y=\"195.119639\"/>\r\n     <use style=\"fill:#ff0000;stroke:#ff0000;\" x=\"375.215623\" xlink:href=\"#m3278bdc4c9\" y=\"192.538573\"/>\r\n     <use style=\"fill:#ff0000;stroke:#ff0000;\" x=\"380.373343\" xlink:href=\"#m3278bdc4c9\" y=\"190.126486\"/>\r\n     <use style=\"fill:#ff0000;stroke:#ff0000;\" x=\"385.531063\" xlink:href=\"#m3278bdc4c9\" y=\"188.171635\"/>\r\n     <use style=\"fill:#ff0000;stroke:#ff0000;\" x=\"390.688784\" xlink:href=\"#m3278bdc4c9\" y=\"186.511668\"/>\r\n     <use style=\"fill:#ff0000;stroke:#ff0000;\" x=\"395.846504\" xlink:href=\"#m3278bdc4c9\" y=\"185.014054\"/>\r\n     <use style=\"fill:#ff0000;stroke:#ff0000;\" x=\"401.004224\" xlink:href=\"#m3278bdc4c9\" y=\"183.483306\"/>\r\n     <use style=\"fill:#ff0000;stroke:#ff0000;\" x=\"406.161945\" xlink:href=\"#m3278bdc4c9\" y=\"181.849846\"/>\r\n     <use style=\"fill:#ff0000;stroke:#ff0000;\" x=\"411.319665\" xlink:href=\"#m3278bdc4c9\" y=\"180.504644\"/>\r\n     <use style=\"fill:#ff0000;stroke:#ff0000;\" x=\"416.477385\" xlink:href=\"#m3278bdc4c9\" y=\"178.728711\"/>\r\n     <use style=\"fill:#ff0000;stroke:#ff0000;\" x=\"421.635106\" xlink:href=\"#m3278bdc4c9\" y=\"177.472968\"/>\r\n     <use style=\"fill:#ff0000;stroke:#ff0000;\" x=\"426.792826\" xlink:href=\"#m3278bdc4c9\" y=\"175.875954\"/>\r\n     <use style=\"fill:#ff0000;stroke:#ff0000;\" x=\"431.950546\" xlink:href=\"#m3278bdc4c9\" y=\"174.75937\"/>\r\n     <use style=\"fill:#ff0000;stroke:#ff0000;\" x=\"437.108266\" xlink:href=\"#m3278bdc4c9\" y=\"173.831644\"/>\r\n     <use style=\"fill:#ff0000;stroke:#ff0000;\" x=\"442.265987\" xlink:href=\"#m3278bdc4c9\" y=\"173.172296\"/>\r\n     <use style=\"fill:#ff0000;stroke:#ff0000;\" x=\"447.423707\" xlink:href=\"#m3278bdc4c9\" y=\"172.648794\"/>\r\n     <use style=\"fill:#ff0000;stroke:#ff0000;\" x=\"452.581427\" xlink:href=\"#m3278bdc4c9\" y=\"172.019265\"/>\r\n     <use style=\"fill:#ff0000;stroke:#ff0000;\" x=\"457.739148\" xlink:href=\"#m3278bdc4c9\" y=\"171.429497\"/>\r\n     <use style=\"fill:#ff0000;stroke:#ff0000;\" x=\"462.896868\" xlink:href=\"#m3278bdc4c9\" y=\"170.654183\"/>\r\n     <use style=\"fill:#ff0000;stroke:#ff0000;\" x=\"468.054588\" xlink:href=\"#m3278bdc4c9\" y=\"170.336106\"/>\r\n     <use style=\"fill:#ff0000;stroke:#ff0000;\" x=\"473.212309\" xlink:href=\"#m3278bdc4c9\" y=\"170.064415\"/>\r\n     <use style=\"fill:#ff0000;stroke:#ff0000;\" x=\"478.370029\" xlink:href=\"#m3278bdc4c9\" y=\"169.587298\"/>\r\n     <use style=\"fill:#ff0000;stroke:#ff0000;\" x=\"483.527749\" xlink:href=\"#m3278bdc4c9\" y=\"169.229461\"/>\r\n     <use style=\"fill:#ff0000;stroke:#ff0000;\" x=\"488.68547\" xlink:href=\"#m3278bdc4c9\" y=\"168.901444\"/>\r\n     <use style=\"fill:#ff0000;stroke:#ff0000;\" x=\"493.84319\" xlink:href=\"#m3278bdc4c9\" y=\"168.629753\"/>\r\n     <use style=\"fill:#ff0000;stroke:#ff0000;\" x=\"499.00091\" xlink:href=\"#m3278bdc4c9\" y=\"168.397821\"/>\r\n     <use style=\"fill:#ff0000;stroke:#ff0000;\" x=\"504.158631\" xlink:href=\"#m3278bdc4c9\" y=\"168.122817\"/>\r\n     <use style=\"fill:#ff0000;stroke:#ff0000;\" x=\"509.316351\" xlink:href=\"#m3278bdc4c9\" y=\"167.668894\"/>\r\n     <use style=\"fill:#ff0000;stroke:#ff0000;\" x=\"514.474071\" xlink:href=\"#m3278bdc4c9\" y=\"167.360756\"/>\r\n     <use style=\"fill:#ff0000;stroke:#ff0000;\" x=\"519.631792\" xlink:href=\"#m3278bdc4c9\" y=\"167.079125\"/>\r\n     <use style=\"fill:#ff0000;stroke:#ff0000;\" x=\"524.789512\" xlink:href=\"#m3278bdc4c9\" y=\"169.971642\"/>\r\n     <use style=\"fill:#ff0000;stroke:#ff0000;\" x=\"529.947232\" xlink:href=\"#m3278bdc4c9\" y=\"169.76953\"/>\r\n     <use style=\"fill:#ff0000;stroke:#ff0000;\" x=\"535.104953\" xlink:href=\"#m3278bdc4c9\" y=\"169.550852\"/>\r\n     <use style=\"fill:#ff0000;stroke:#ff0000;\" x=\"540.262673\" xlink:href=\"#m3278bdc4c9\" y=\"169.39844\"/>\r\n     <use style=\"fill:#ff0000;stroke:#ff0000;\" x=\"545.420393\" xlink:href=\"#m3278bdc4c9\" y=\"169.229461\"/>\r\n     <use style=\"fill:#ff0000;stroke:#ff0000;\" x=\"550.578113\" xlink:href=\"#m3278bdc4c9\" y=\"169.050543\"/>\r\n     <use style=\"fill:#ff0000;stroke:#ff0000;\" x=\"555.735834\" xlink:href=\"#m3278bdc4c9\" y=\"168.669513\"/>\r\n     <use style=\"fill:#ff0000;stroke:#ff0000;\" x=\"560.893554\" xlink:href=\"#m3278bdc4c9\" y=\"168.411075\"/>\r\n     <use style=\"fill:#ff0000;stroke:#ff0000;\" x=\"566.051274\" xlink:href=\"#m3278bdc4c9\" y=\"168.20565\"/>\r\n     <use style=\"fill:#ff0000;stroke:#ff0000;\" x=\"571.208995\" xlink:href=\"#m3278bdc4c9\" y=\"168.049924\"/>\r\n     <use style=\"fill:#ff0000;stroke:#ff0000;\" x=\"576.366715\" xlink:href=\"#m3278bdc4c9\" y=\"167.871006\"/>\r\n     <use style=\"fill:#ff0000;stroke:#ff0000;\" x=\"581.524435\" xlink:href=\"#m3278bdc4c9\" y=\"167.72522\"/>\r\n    </g>\r\n   </g>\r\n   <g id=\"PathCollection_2\">\r\n    <defs>\r\n     <path d=\"M 0 3 \r\nC 0.795609 3 1.55874 2.683901 2.12132 2.12132 \r\nC 2.683901 1.55874 3 0.795609 3 0 \r\nC 3 -0.795609 2.683901 -1.55874 2.12132 -2.12132 \r\nC 1.55874 -2.683901 0.795609 -3 0 -3 \r\nC -0.795609 -3 -1.55874 -2.683901 -2.12132 -2.12132 \r\nC -2.683901 -1.55874 -3 -0.795609 -3 0 \r\nC -3 0.795609 -2.683901 1.55874 -2.12132 2.12132 \r\nC -1.55874 2.683901 -0.795609 3 0 3 \r\nz\r\n\" id=\"m54422964d9\" style=\"stroke:#0000ff;\"/>\r\n    </defs>\r\n    <g clip-path=\"url(#pc13d938631)\">\r\n     <use style=\"fill:#0000ff;stroke:#0000ff;\" x=\"81.225565\" xlink:href=\"#m54422964d9\" y=\"418.926872\"/>\r\n     <use style=\"fill:#0000ff;stroke:#0000ff;\" x=\"86.383285\" xlink:href=\"#m54422964d9\" y=\"418.926872\"/>\r\n     <use style=\"fill:#0000ff;stroke:#0000ff;\" x=\"91.541005\" xlink:href=\"#m54422964d9\" y=\"418.926872\"/>\r\n     <use style=\"fill:#0000ff;stroke:#0000ff;\" x=\"96.698726\" xlink:href=\"#m54422964d9\" y=\"418.926872\"/>\r\n     <use style=\"fill:#0000ff;stroke:#0000ff;\" x=\"101.856446\" xlink:href=\"#m54422964d9\" y=\"418.926872\"/>\r\n     <use style=\"fill:#0000ff;stroke:#0000ff;\" x=\"107.014166\" xlink:href=\"#m54422964d9\" y=\"418.926872\"/>\r\n     <use style=\"fill:#0000ff;stroke:#0000ff;\" x=\"112.171887\" xlink:href=\"#m54422964d9\" y=\"418.926872\"/>\r\n     <use style=\"fill:#0000ff;stroke:#0000ff;\" x=\"117.329607\" xlink:href=\"#m54422964d9\" y=\"418.926872\"/>\r\n     <use style=\"fill:#0000ff;stroke:#0000ff;\" x=\"122.487327\" xlink:href=\"#m54422964d9\" y=\"418.926872\"/>\r\n     <use style=\"fill:#0000ff;stroke:#0000ff;\" x=\"127.645047\" xlink:href=\"#m54422964d9\" y=\"418.926872\"/>\r\n     <use style=\"fill:#0000ff;stroke:#0000ff;\" x=\"132.802768\" xlink:href=\"#m54422964d9\" y=\"418.926872\"/>\r\n     <use style=\"fill:#0000ff;stroke:#0000ff;\" x=\"137.960488\" xlink:href=\"#m54422964d9\" y=\"418.926872\"/>\r\n     <use style=\"fill:#0000ff;stroke:#0000ff;\" x=\"143.118208\" xlink:href=\"#m54422964d9\" y=\"418.926872\"/>\r\n     <use style=\"fill:#0000ff;stroke:#0000ff;\" x=\"148.275929\" xlink:href=\"#m54422964d9\" y=\"418.926872\"/>\r\n     <use style=\"fill:#0000ff;stroke:#0000ff;\" x=\"153.433649\" xlink:href=\"#m54422964d9\" y=\"418.926872\"/>\r\n     <use style=\"fill:#0000ff;stroke:#0000ff;\" x=\"158.591369\" xlink:href=\"#m54422964d9\" y=\"418.926872\"/>\r\n     <use style=\"fill:#0000ff;stroke:#0000ff;\" x=\"163.74909\" xlink:href=\"#m54422964d9\" y=\"418.926872\"/>\r\n     <use style=\"fill:#0000ff;stroke:#0000ff;\" x=\"168.90681\" xlink:href=\"#m54422964d9\" y=\"418.926872\"/>\r\n     <use style=\"fill:#0000ff;stroke:#0000ff;\" x=\"174.06453\" xlink:href=\"#m54422964d9\" y=\"418.916932\"/>\r\n     <use style=\"fill:#0000ff;stroke:#0000ff;\" x=\"179.222251\" xlink:href=\"#m54422964d9\" y=\"418.916932\"/>\r\n     <use style=\"fill:#0000ff;stroke:#0000ff;\" x=\"184.379971\" xlink:href=\"#m54422964d9\" y=\"418.916932\"/>\r\n     <use style=\"fill:#0000ff;stroke:#0000ff;\" x=\"189.537691\" xlink:href=\"#m54422964d9\" y=\"418.916932\"/>\r\n     <use style=\"fill:#0000ff;stroke:#0000ff;\" x=\"194.695412\" xlink:href=\"#m54422964d9\" y=\"418.916932\"/>\r\n     <use style=\"fill:#0000ff;stroke:#0000ff;\" x=\"199.853132\" xlink:href=\"#m54422964d9\" y=\"418.916932\"/>\r\n     <use style=\"fill:#0000ff;stroke:#0000ff;\" x=\"205.010852\" xlink:href=\"#m54422964d9\" y=\"418.916932\"/>\r\n     <use style=\"fill:#0000ff;stroke:#0000ff;\" x=\"210.168573\" xlink:href=\"#m54422964d9\" y=\"418.916932\"/>\r\n     <use style=\"fill:#0000ff;stroke:#0000ff;\" x=\"215.326293\" xlink:href=\"#m54422964d9\" y=\"418.916932\"/>\r\n     <use style=\"fill:#0000ff;stroke:#0000ff;\" x=\"220.484013\" xlink:href=\"#m54422964d9\" y=\"418.916932\"/>\r\n     <use style=\"fill:#0000ff;stroke:#0000ff;\" x=\"225.641734\" xlink:href=\"#m54422964d9\" y=\"418.916932\"/>\r\n     <use style=\"fill:#0000ff;stroke:#0000ff;\" x=\"230.799454\" xlink:href=\"#m54422964d9\" y=\"418.916932\"/>\r\n     <use style=\"fill:#0000ff;stroke:#0000ff;\" x=\"235.957174\" xlink:href=\"#m54422964d9\" y=\"418.910305\"/>\r\n     <use style=\"fill:#0000ff;stroke:#0000ff;\" x=\"241.114894\" xlink:href=\"#m54422964d9\" y=\"418.910305\"/>\r\n     <use style=\"fill:#0000ff;stroke:#0000ff;\" x=\"246.272615\" xlink:href=\"#m54422964d9\" y=\"418.910305\"/>\r\n     <use style=\"fill:#0000ff;stroke:#0000ff;\" x=\"251.430335\" xlink:href=\"#m54422964d9\" y=\"418.910305\"/>\r\n     <use style=\"fill:#0000ff;stroke:#0000ff;\" x=\"256.588055\" xlink:href=\"#m54422964d9\" y=\"418.906992\"/>\r\n     <use style=\"fill:#0000ff;stroke:#0000ff;\" x=\"261.745776\" xlink:href=\"#m54422964d9\" y=\"418.906992\"/>\r\n     <use style=\"fill:#0000ff;stroke:#0000ff;\" x=\"266.903496\" xlink:href=\"#m54422964d9\" y=\"418.906992\"/>\r\n     <use style=\"fill:#0000ff;stroke:#0000ff;\" x=\"272.061216\" xlink:href=\"#m54422964d9\" y=\"418.903679\"/>\r\n     <use style=\"fill:#0000ff;stroke:#0000ff;\" x=\"277.218937\" xlink:href=\"#m54422964d9\" y=\"418.903679\"/>\r\n     <use style=\"fill:#0000ff;stroke:#0000ff;\" x=\"282.376657\" xlink:href=\"#m54422964d9\" y=\"418.903679\"/>\r\n     <use style=\"fill:#0000ff;stroke:#0000ff;\" x=\"287.534377\" xlink:href=\"#m54422964d9\" y=\"418.903679\"/>\r\n     <use style=\"fill:#0000ff;stroke:#0000ff;\" x=\"292.692098\" xlink:href=\"#m54422964d9\" y=\"418.903679\"/>\r\n     <use style=\"fill:#0000ff;stroke:#0000ff;\" x=\"297.849818\" xlink:href=\"#m54422964d9\" y=\"418.903679\"/>\r\n     <use style=\"fill:#0000ff;stroke:#0000ff;\" x=\"303.007538\" xlink:href=\"#m54422964d9\" y=\"418.903679\"/>\r\n     <use style=\"fill:#0000ff;stroke:#0000ff;\" x=\"308.165259\" xlink:href=\"#m54422964d9\" y=\"418.903679\"/>\r\n     <use style=\"fill:#0000ff;stroke:#0000ff;\" x=\"313.322979\" xlink:href=\"#m54422964d9\" y=\"418.903679\"/>\r\n     <use style=\"fill:#0000ff;stroke:#0000ff;\" x=\"318.480699\" xlink:href=\"#m54422964d9\" y=\"418.903679\"/>\r\n     <use style=\"fill:#0000ff;stroke:#0000ff;\" x=\"323.63842\" xlink:href=\"#m54422964d9\" y=\"418.903679\"/>\r\n     <use style=\"fill:#0000ff;stroke:#0000ff;\" x=\"328.79614\" xlink:href=\"#m54422964d9\" y=\"418.900365\"/>\r\n     <use style=\"fill:#0000ff;stroke:#0000ff;\" x=\"333.95386\" xlink:href=\"#m54422964d9\" y=\"418.900365\"/>\r\n     <use style=\"fill:#0000ff;stroke:#0000ff;\" x=\"339.11158\" xlink:href=\"#m54422964d9\" y=\"418.887112\"/>\r\n     <use style=\"fill:#0000ff;stroke:#0000ff;\" x=\"344.269301\" xlink:href=\"#m54422964d9\" y=\"418.887112\"/>\r\n     <use style=\"fill:#0000ff;stroke:#0000ff;\" x=\"349.427021\" xlink:href=\"#m54422964d9\" y=\"418.887112\"/>\r\n     <use style=\"fill:#0000ff;stroke:#0000ff;\" x=\"354.584741\" xlink:href=\"#m54422964d9\" y=\"418.887112\"/>\r\n     <use style=\"fill:#0000ff;stroke:#0000ff;\" x=\"359.742462\" xlink:href=\"#m54422964d9\" y=\"418.870546\"/>\r\n     <use style=\"fill:#0000ff;stroke:#0000ff;\" x=\"364.900182\" xlink:href=\"#m54422964d9\" y=\"418.870546\"/>\r\n     <use style=\"fill:#0000ff;stroke:#0000ff;\" x=\"370.057902\" xlink:href=\"#m54422964d9\" y=\"418.578975\"/>\r\n     <use style=\"fill:#0000ff;stroke:#0000ff;\" x=\"375.215623\" xlink:href=\"#m54422964d9\" y=\"418.525962\"/>\r\n     <use style=\"fill:#0000ff;stroke:#0000ff;\" x=\"380.373343\" xlink:href=\"#m54422964d9\" y=\"418.439816\"/>\r\n     <use style=\"fill:#0000ff;stroke:#0000ff;\" x=\"385.531063\" xlink:href=\"#m54422964d9\" y=\"418.34373\"/>\r\n     <use style=\"fill:#0000ff;stroke:#0000ff;\" x=\"390.688784\" xlink:href=\"#m54422964d9\" y=\"418.337103\"/>\r\n     <use style=\"fill:#0000ff;stroke:#0000ff;\" x=\"395.846504\" xlink:href=\"#m54422964d9\" y=\"418.337103\"/>\r\n     <use style=\"fill:#0000ff;stroke:#0000ff;\" x=\"401.004224\" xlink:href=\"#m54422964d9\" y=\"417.773841\"/>\r\n     <use style=\"fill:#0000ff;stroke:#0000ff;\" x=\"406.161945\" xlink:href=\"#m54422964d9\" y=\"417.730768\"/>\r\n     <use style=\"fill:#0000ff;stroke:#0000ff;\" x=\"411.319665\" xlink:href=\"#m54422964d9\" y=\"416.67051\"/>\r\n     <use style=\"fill:#0000ff;stroke:#0000ff;\" x=\"416.477385\" xlink:href=\"#m54422964d9\" y=\"416.047609\"/>\r\n     <use style=\"fill:#0000ff;stroke:#0000ff;\" x=\"421.635106\" xlink:href=\"#m54422964d9\" y=\"415.375007\"/>\r\n     <use style=\"fill:#0000ff;stroke:#0000ff;\" x=\"426.792826\" xlink:href=\"#m54422964d9\" y=\"410.09691\"/>\r\n     <use style=\"fill:#0000ff;stroke:#0000ff;\" x=\"431.950546\" xlink:href=\"#m54422964d9\" y=\"400.22657\"/>\r\n     <use style=\"fill:#0000ff;stroke:#0000ff;\" x=\"437.108266\" xlink:href=\"#m54422964d9\" y=\"395.654207\"/>\r\n     <use style=\"fill:#0000ff;stroke:#0000ff;\" x=\"442.265987\" xlink:href=\"#m54422964d9\" y=\"390.849912\"/>\r\n     <use style=\"fill:#0000ff;stroke:#0000ff;\" x=\"447.423707\" xlink:href=\"#m54422964d9\" y=\"389.103799\"/>\r\n     <use style=\"fill:#0000ff;stroke:#0000ff;\" x=\"452.581427\" xlink:href=\"#m54422964d9\" y=\"386.764605\"/>\r\n     <use style=\"fill:#0000ff;stroke:#0000ff;\" x=\"457.739148\" xlink:href=\"#m54422964d9\" y=\"370.380304\"/>\r\n     <use style=\"fill:#0000ff;stroke:#0000ff;\" x=\"462.896868\" xlink:href=\"#m54422964d9\" y=\"361.116299\"/>\r\n     <use style=\"fill:#0000ff;stroke:#0000ff;\" x=\"468.054588\" xlink:href=\"#m54422964d9\" y=\"354.049016\"/>\r\n     <use style=\"fill:#0000ff;stroke:#0000ff;\" x=\"473.212309\" xlink:href=\"#m54422964d9\" y=\"346.819381\"/>\r\n     <use style=\"fill:#0000ff;stroke:#0000ff;\" x=\"478.370029\" xlink:href=\"#m54422964d9\" y=\"340.868682\"/>\r\n     <use style=\"fill:#0000ff;stroke:#0000ff;\" x=\"483.527749\" xlink:href=\"#m54422964d9\" y=\"334.735752\"/>\r\n     <use style=\"fill:#0000ff;stroke:#0000ff;\" x=\"488.68547\" xlink:href=\"#m54422964d9\" y=\"323.536775\"/>\r\n     <use style=\"fill:#0000ff;stroke:#0000ff;\" x=\"493.84319\" xlink:href=\"#m54422964d9\" y=\"315.319775\"/>\r\n     <use style=\"fill:#0000ff;stroke:#0000ff;\" x=\"499.00091\" xlink:href=\"#m54422964d9\" y=\"309.627514\"/>\r\n     <use style=\"fill:#0000ff;stroke:#0000ff;\" x=\"504.158631\" xlink:href=\"#m54422964d9\" y=\"274.857675\"/>\r\n     <use style=\"fill:#0000ff;stroke:#0000ff;\" x=\"509.316351\" xlink:href=\"#m54422964d9\" y=\"260.67341\"/>\r\n     <use style=\"fill:#0000ff;stroke:#0000ff;\" x=\"514.474071\" xlink:href=\"#m54422964d9\" y=\"246.316852\"/>\r\n     <use style=\"fill:#0000ff;stroke:#0000ff;\" x=\"519.631792\" xlink:href=\"#m54422964d9\" y=\"237.679062\"/>\r\n     <use style=\"fill:#0000ff;stroke:#0000ff;\" x=\"524.789512\" xlink:href=\"#m54422964d9\" y=\"224.949338\"/>\r\n     <use style=\"fill:#0000ff;stroke:#0000ff;\" x=\"529.947232\" xlink:href=\"#m54422964d9\" y=\"204.092073\"/>\r\n     <use style=\"fill:#0000ff;stroke:#0000ff;\" x=\"535.104953\" xlink:href=\"#m54422964d9\" y=\"185.878827\"/>\r\n     <use style=\"fill:#0000ff;stroke:#0000ff;\" x=\"540.262673\" xlink:href=\"#m54422964d9\" y=\"179.27872\"/>\r\n     <use style=\"fill:#0000ff;stroke:#0000ff;\" x=\"545.420393\" xlink:href=\"#m54422964d9\" y=\"169.752964\"/>\r\n     <use style=\"fill:#0000ff;stroke:#0000ff;\" x=\"550.578113\" xlink:href=\"#m54422964d9\" y=\"162.589595\"/>\r\n     <use style=\"fill:#0000ff;stroke:#0000ff;\" x=\"555.735834\" xlink:href=\"#m54422964d9\" y=\"153.189744\"/>\r\n     <use style=\"fill:#0000ff;stroke:#0000ff;\" x=\"560.893554\" xlink:href=\"#m54422964d9\" y=\"90.647769\"/>\r\n     <use style=\"fill:#0000ff;stroke:#0000ff;\" x=\"566.051274\" xlink:href=\"#m54422964d9\" y=\"86.363664\"/>\r\n     <use style=\"fill:#0000ff;stroke:#0000ff;\" x=\"571.208995\" xlink:href=\"#m54422964d9\" y=\"64.442827\"/>\r\n     <use style=\"fill:#0000ff;stroke:#0000ff;\" x=\"576.366715\" xlink:href=\"#m54422964d9\" y=\"49.744999\"/>\r\n     <use style=\"fill:#0000ff;stroke:#0000ff;\" x=\"581.524435\" xlink:href=\"#m54422964d9\" y=\"34.79536\"/>\r\n    </g>\r\n   </g>\r\n   <g id=\"PathCollection_3\">\r\n    <defs>\r\n     <path d=\"M 0 3 \r\nC 0.795609 3 1.55874 2.683901 2.12132 2.12132 \r\nC 2.683901 1.55874 3 0.795609 3 0 \r\nC 3 -0.795609 2.683901 -1.55874 2.12132 -2.12132 \r\nC 1.55874 -2.683901 0.795609 -3 0 -3 \r\nC -0.795609 -3 -1.55874 -2.683901 -2.12132 -2.12132 \r\nC -2.683901 -1.55874 -3 -0.795609 -3 0 \r\nC -3 0.795609 -2.683901 1.55874 -2.12132 2.12132 \r\nC -1.55874 2.683901 -0.795609 3 0 3 \r\nz\r\n\" id=\"m7e2c158a48\" style=\"stroke:#ffff00;\"/>\r\n    </defs>\r\n    <g clip-path=\"url(#pc13d938631)\">\r\n     <use style=\"fill:#ffff00;stroke:#ffff00;\" x=\"81.225565\" xlink:href=\"#m7e2c158a48\" y=\"418.926872\"/>\r\n     <use style=\"fill:#ffff00;stroke:#ffff00;\" x=\"86.383285\" xlink:href=\"#m7e2c158a48\" y=\"418.926872\"/>\r\n     <use style=\"fill:#ffff00;stroke:#ffff00;\" x=\"91.541005\" xlink:href=\"#m7e2c158a48\" y=\"418.926872\"/>\r\n     <use style=\"fill:#ffff00;stroke:#ffff00;\" x=\"96.698726\" xlink:href=\"#m7e2c158a48\" y=\"418.926872\"/>\r\n     <use style=\"fill:#ffff00;stroke:#ffff00;\" x=\"101.856446\" xlink:href=\"#m7e2c158a48\" y=\"418.926872\"/>\r\n     <use style=\"fill:#ffff00;stroke:#ffff00;\" x=\"107.014166\" xlink:href=\"#m7e2c158a48\" y=\"418.926872\"/>\r\n     <use style=\"fill:#ffff00;stroke:#ffff00;\" x=\"112.171887\" xlink:href=\"#m7e2c158a48\" y=\"418.926872\"/>\r\n     <use style=\"fill:#ffff00;stroke:#ffff00;\" x=\"117.329607\" xlink:href=\"#m7e2c158a48\" y=\"418.926872\"/>\r\n     <use style=\"fill:#ffff00;stroke:#ffff00;\" x=\"122.487327\" xlink:href=\"#m7e2c158a48\" y=\"418.926872\"/>\r\n     <use style=\"fill:#ffff00;stroke:#ffff00;\" x=\"127.645047\" xlink:href=\"#m7e2c158a48\" y=\"418.926872\"/>\r\n     <use style=\"fill:#ffff00;stroke:#ffff00;\" x=\"132.802768\" xlink:href=\"#m7e2c158a48\" y=\"418.926872\"/>\r\n     <use style=\"fill:#ffff00;stroke:#ffff00;\" x=\"137.960488\" xlink:href=\"#m7e2c158a48\" y=\"418.926872\"/>\r\n     <use style=\"fill:#ffff00;stroke:#ffff00;\" x=\"143.118208\" xlink:href=\"#m7e2c158a48\" y=\"418.926872\"/>\r\n     <use style=\"fill:#ffff00;stroke:#ffff00;\" x=\"148.275929\" xlink:href=\"#m7e2c158a48\" y=\"418.926872\"/>\r\n     <use style=\"fill:#ffff00;stroke:#ffff00;\" x=\"153.433649\" xlink:href=\"#m7e2c158a48\" y=\"418.926872\"/>\r\n     <use style=\"fill:#ffff00;stroke:#ffff00;\" x=\"158.591369\" xlink:href=\"#m7e2c158a48\" y=\"418.926872\"/>\r\n     <use style=\"fill:#ffff00;stroke:#ffff00;\" x=\"163.74909\" xlink:href=\"#m7e2c158a48\" y=\"418.926872\"/>\r\n     <use style=\"fill:#ffff00;stroke:#ffff00;\" x=\"168.90681\" xlink:href=\"#m7e2c158a48\" y=\"418.926872\"/>\r\n     <use style=\"fill:#ffff00;stroke:#ffff00;\" x=\"174.06453\" xlink:href=\"#m7e2c158a48\" y=\"418.926872\"/>\r\n     <use style=\"fill:#ffff00;stroke:#ffff00;\" x=\"179.222251\" xlink:href=\"#m7e2c158a48\" y=\"418.926872\"/>\r\n     <use style=\"fill:#ffff00;stroke:#ffff00;\" x=\"184.379971\" xlink:href=\"#m7e2c158a48\" y=\"418.926872\"/>\r\n     <use style=\"fill:#ffff00;stroke:#ffff00;\" x=\"189.537691\" xlink:href=\"#m7e2c158a48\" y=\"418.926872\"/>\r\n     <use style=\"fill:#ffff00;stroke:#ffff00;\" x=\"194.695412\" xlink:href=\"#m7e2c158a48\" y=\"418.923559\"/>\r\n     <use style=\"fill:#ffff00;stroke:#ffff00;\" x=\"199.853132\" xlink:href=\"#m7e2c158a48\" y=\"418.923559\"/>\r\n     <use style=\"fill:#ffff00;stroke:#ffff00;\" x=\"205.010852\" xlink:href=\"#m7e2c158a48\" y=\"418.923559\"/>\r\n     <use style=\"fill:#ffff00;stroke:#ffff00;\" x=\"210.168573\" xlink:href=\"#m7e2c158a48\" y=\"418.923559\"/>\r\n     <use style=\"fill:#ffff00;stroke:#ffff00;\" x=\"215.326293\" xlink:href=\"#m7e2c158a48\" y=\"418.923559\"/>\r\n     <use style=\"fill:#ffff00;stroke:#ffff00;\" x=\"220.484013\" xlink:href=\"#m7e2c158a48\" y=\"418.887112\"/>\r\n     <use style=\"fill:#ffff00;stroke:#ffff00;\" x=\"225.641734\" xlink:href=\"#m7e2c158a48\" y=\"418.887112\"/>\r\n     <use style=\"fill:#ffff00;stroke:#ffff00;\" x=\"230.799454\" xlink:href=\"#m7e2c158a48\" y=\"418.887112\"/>\r\n     <use style=\"fill:#ffff00;stroke:#ffff00;\" x=\"235.957174\" xlink:href=\"#m7e2c158a48\" y=\"418.880486\"/>\r\n     <use style=\"fill:#ffff00;stroke:#ffff00;\" x=\"241.114894\" xlink:href=\"#m7e2c158a48\" y=\"418.880486\"/>\r\n     <use style=\"fill:#ffff00;stroke:#ffff00;\" x=\"246.272615\" xlink:href=\"#m7e2c158a48\" y=\"418.880486\"/>\r\n     <use style=\"fill:#ffff00;stroke:#ffff00;\" x=\"251.430335\" xlink:href=\"#m7e2c158a48\" y=\"418.880486\"/>\r\n     <use style=\"fill:#ffff00;stroke:#ffff00;\" x=\"256.588055\" xlink:href=\"#m7e2c158a48\" y=\"418.880486\"/>\r\n     <use style=\"fill:#ffff00;stroke:#ffff00;\" x=\"261.745776\" xlink:href=\"#m7e2c158a48\" y=\"418.877172\"/>\r\n     <use style=\"fill:#ffff00;stroke:#ffff00;\" x=\"266.903496\" xlink:href=\"#m7e2c158a48\" y=\"418.873859\"/>\r\n     <use style=\"fill:#ffff00;stroke:#ffff00;\" x=\"272.061216\" xlink:href=\"#m7e2c158a48\" y=\"418.873859\"/>\r\n     <use style=\"fill:#ffff00;stroke:#ffff00;\" x=\"277.218937\" xlink:href=\"#m7e2c158a48\" y=\"418.873859\"/>\r\n     <use style=\"fill:#ffff00;stroke:#ffff00;\" x=\"282.376657\" xlink:href=\"#m7e2c158a48\" y=\"418.873859\"/>\r\n     <use style=\"fill:#ffff00;stroke:#ffff00;\" x=\"287.534377\" xlink:href=\"#m7e2c158a48\" y=\"418.873859\"/>\r\n     <use style=\"fill:#ffff00;stroke:#ffff00;\" x=\"292.692098\" xlink:href=\"#m7e2c158a48\" y=\"418.873859\"/>\r\n     <use style=\"fill:#ffff00;stroke:#ffff00;\" x=\"297.849818\" xlink:href=\"#m7e2c158a48\" y=\"418.873859\"/>\r\n     <use style=\"fill:#ffff00;stroke:#ffff00;\" x=\"303.007538\" xlink:href=\"#m7e2c158a48\" y=\"418.873859\"/>\r\n     <use style=\"fill:#ffff00;stroke:#ffff00;\" x=\"308.165259\" xlink:href=\"#m7e2c158a48\" y=\"418.870546\"/>\r\n     <use style=\"fill:#ffff00;stroke:#ffff00;\" x=\"313.322979\" xlink:href=\"#m7e2c158a48\" y=\"418.867232\"/>\r\n     <use style=\"fill:#ffff00;stroke:#ffff00;\" x=\"318.480699\" xlink:href=\"#m7e2c158a48\" y=\"418.867232\"/>\r\n     <use style=\"fill:#ffff00;stroke:#ffff00;\" x=\"323.63842\" xlink:href=\"#m7e2c158a48\" y=\"418.867232\"/>\r\n     <use style=\"fill:#ffff00;stroke:#ffff00;\" x=\"328.79614\" xlink:href=\"#m7e2c158a48\" y=\"418.867232\"/>\r\n     <use style=\"fill:#ffff00;stroke:#ffff00;\" x=\"333.95386\" xlink:href=\"#m7e2c158a48\" y=\"418.844039\"/>\r\n     <use style=\"fill:#ffff00;stroke:#ffff00;\" x=\"339.11158\" xlink:href=\"#m7e2c158a48\" y=\"418.844039\"/>\r\n     <use style=\"fill:#ffff00;stroke:#ffff00;\" x=\"344.269301\" xlink:href=\"#m7e2c158a48\" y=\"418.77446\"/>\r\n     <use style=\"fill:#ffff00;stroke:#ffff00;\" x=\"349.427021\" xlink:href=\"#m7e2c158a48\" y=\"418.77446\"/>\r\n     <use style=\"fill:#ffff00;stroke:#ffff00;\" x=\"354.584741\" xlink:href=\"#m7e2c158a48\" y=\"418.77446\"/>\r\n     <use style=\"fill:#ffff00;stroke:#ffff00;\" x=\"359.742462\" xlink:href=\"#m7e2c158a48\" y=\"418.70488\"/>\r\n     <use style=\"fill:#ffff00;stroke:#ffff00;\" x=\"364.900182\" xlink:href=\"#m7e2c158a48\" y=\"418.70488\"/>\r\n     <use style=\"fill:#ffff00;stroke:#ffff00;\" x=\"370.057902\" xlink:href=\"#m7e2c158a48\" y=\"418.578975\"/>\r\n     <use style=\"fill:#ffff00;stroke:#ffff00;\" x=\"375.215623\" xlink:href=\"#m7e2c158a48\" y=\"418.552468\"/>\r\n     <use style=\"fill:#ffff00;stroke:#ffff00;\" x=\"380.373343\" xlink:href=\"#m7e2c158a48\" y=\"418.330477\"/>\r\n     <use style=\"fill:#ffff00;stroke:#ffff00;\" x=\"385.531063\" xlink:href=\"#m7e2c158a48\" y=\"418.154872\"/>\r\n     <use style=\"fill:#ffff00;stroke:#ffff00;\" x=\"390.688784\" xlink:href=\"#m7e2c158a48\" y=\"418.045532\"/>\r\n     <use style=\"fill:#ffff00;stroke:#ffff00;\" x=\"395.846504\" xlink:href=\"#m7e2c158a48\" y=\"418.045532\"/>\r\n     <use style=\"fill:#ffff00;stroke:#ffff00;\" x=\"401.004224\" xlink:href=\"#m7e2c158a48\" y=\"408.181819\"/>\r\n     <use style=\"fill:#ffff00;stroke:#ffff00;\" x=\"406.161945\" xlink:href=\"#m7e2c158a48\" y=\"407.174574\"/>\r\n     <use style=\"fill:#ffff00;stroke:#ffff00;\" x=\"411.319665\" xlink:href=\"#m7e2c158a48\" y=\"400.130484\"/>\r\n     <use style=\"fill:#ffff00;stroke:#ffff00;\" x=\"416.477385\" xlink:href=\"#m7e2c158a48\" y=\"396.866877\"/>\r\n     <use style=\"fill:#ffff00;stroke:#ffff00;\" x=\"421.635106\" xlink:href=\"#m7e2c158a48\" y=\"390.826719\"/>\r\n     <use style=\"fill:#ffff00;stroke:#ffff00;\" x=\"426.792826\" xlink:href=\"#m7e2c158a48\" y=\"388.408005\"/>\r\n     <use style=\"fill:#ffff00;stroke:#ffff00;\" x=\"431.950546\" xlink:href=\"#m7e2c158a48\" y=\"374.197233\"/>\r\n     <use style=\"fill:#ffff00;stroke:#ffff00;\" x=\"437.108266\" xlink:href=\"#m7e2c158a48\" y=\"365.582636\"/>\r\n     <use style=\"fill:#ffff00;stroke:#ffff00;\" x=\"442.265987\" xlink:href=\"#m7e2c158a48\" y=\"356.968039\"/>\r\n     <use style=\"fill:#ffff00;stroke:#ffff00;\" x=\"447.423707\" xlink:href=\"#m7e2c158a48\" y=\"344.576272\"/>\r\n     <use style=\"fill:#ffff00;stroke:#ffff00;\" x=\"452.581427\" xlink:href=\"#m7e2c158a48\" y=\"337.502363\"/>\r\n     <use style=\"fill:#ffff00;stroke:#ffff00;\" x=\"457.739148\" xlink:href=\"#m7e2c158a48\" y=\"331.455578\"/>\r\n     <use style=\"fill:#ffff00;stroke:#ffff00;\" x=\"462.896868\" xlink:href=\"#m7e2c158a48\" y=\"323.834973\"/>\r\n     <use style=\"fill:#ffff00;stroke:#ffff00;\" x=\"468.054588\" xlink:href=\"#m7e2c158a48\" y=\"323.834973\"/>\r\n     <use style=\"fill:#ffff00;stroke:#ffff00;\" x=\"473.212309\" xlink:href=\"#m7e2c158a48\" y=\"299.379457\"/>\r\n     <use style=\"fill:#ffff00;stroke:#ffff00;\" x=\"478.370029\" xlink:href=\"#m7e2c158a48\" y=\"265.520777\"/>\r\n     <use style=\"fill:#ffff00;stroke:#ffff00;\" x=\"483.527749\" xlink:href=\"#m7e2c158a48\" y=\"245.286414\"/>\r\n     <use style=\"fill:#ffff00;stroke:#ffff00;\" x=\"488.68547\" xlink:href=\"#m7e2c158a48\" y=\"240.296574\"/>\r\n     <use style=\"fill:#ffff00;stroke:#ffff00;\" x=\"493.84319\" xlink:href=\"#m7e2c158a48\" y=\"228.743074\"/>\r\n     <use style=\"fill:#ffff00;stroke:#ffff00;\" x=\"499.00091\" xlink:href=\"#m7e2c158a48\" y=\"219.134485\"/>\r\n     <use style=\"fill:#ffff00;stroke:#ffff00;\" x=\"504.158631\" xlink:href=\"#m7e2c158a48\" y=\"205.881259\"/>\r\n     <use style=\"fill:#ffff00;stroke:#ffff00;\" x=\"509.316351\" xlink:href=\"#m7e2c158a48\" y=\"192.959363\"/>\r\n     <use style=\"fill:#ffff00;stroke:#ffff00;\" x=\"514.474071\" xlink:href=\"#m7e2c158a48\" y=\"178.380814\"/>\r\n     <use style=\"fill:#ffff00;stroke:#ffff00;\" x=\"519.631792\" xlink:href=\"#m7e2c158a48\" y=\"163.802265\"/>\r\n     <use style=\"fill:#ffff00;stroke:#ffff00;\" x=\"524.789512\" xlink:href=\"#m7e2c158a48\" y=\"143.544709\"/>\r\n     <use style=\"fill:#ffff00;stroke:#ffff00;\" x=\"529.947232\" xlink:href=\"#m7e2c158a48\" y=\"135.97049\"/>\r\n     <use style=\"fill:#ffff00;stroke:#ffff00;\" x=\"535.104953\" xlink:href=\"#m7e2c158a48\" y=\"127.355893\"/>\r\n     <use style=\"fill:#ffff00;stroke:#ffff00;\" x=\"540.262673\" xlink:href=\"#m7e2c158a48\" y=\"115.75932\"/>\r\n     <use style=\"fill:#ffff00;stroke:#ffff00;\" x=\"545.420393\" xlink:href=\"#m7e2c158a48\" y=\"103.500085\"/>\r\n     <use style=\"fill:#ffff00;stroke:#ffff00;\" x=\"550.578113\" xlink:href=\"#m7e2c158a48\" y=\"89.584198\"/>\r\n     <use style=\"fill:#ffff00;stroke:#ffff00;\" x=\"555.735834\" xlink:href=\"#m7e2c158a48\" y=\"76.662302\"/>\r\n     <use style=\"fill:#ffff00;stroke:#ffff00;\" x=\"560.893554\" xlink:href=\"#m7e2c158a48\" y=\"55.125809\"/>\r\n     <use style=\"fill:#ffff00;stroke:#ffff00;\" x=\"566.051274\" xlink:href=\"#m7e2c158a48\" y=\"55.125809\"/>\r\n     <use style=\"fill:#ffff00;stroke:#ffff00;\" x=\"571.208995\" xlink:href=\"#m7e2c158a48\" y=\"47.836535\"/>\r\n     <use style=\"fill:#ffff00;stroke:#ffff00;\" x=\"576.366715\" xlink:href=\"#m7e2c158a48\" y=\"39.553268\"/>\r\n     <use style=\"fill:#ffff00;stroke:#ffff00;\" x=\"581.524435\" xlink:href=\"#m7e2c158a48\" y=\"29.944679\"/>\r\n    </g>\r\n   </g>\r\n   <g id=\"PathCollection_4\">\r\n    <defs>\r\n     <path d=\"M 0 3 \r\nC 0.795609 3 1.55874 2.683901 2.12132 2.12132 \r\nC 2.683901 1.55874 3 0.795609 3 0 \r\nC 3 -0.795609 2.683901 -1.55874 2.12132 -2.12132 \r\nC 1.55874 -2.683901 0.795609 -3 0 -3 \r\nC -0.795609 -3 -1.55874 -2.683901 -2.12132 -2.12132 \r\nC -2.683901 -1.55874 -3 -0.795609 -3 0 \r\nC -3 0.795609 -2.683901 1.55874 -2.12132 2.12132 \r\nC -1.55874 2.683901 -0.795609 3 0 3 \r\nz\r\n\" id=\"m732de5eb6e\" style=\"stroke:#008000;\"/>\r\n    </defs>\r\n    <g clip-path=\"url(#pc13d938631)\">\r\n     <use style=\"fill:#008000;stroke:#008000;\" x=\"81.225565\" xlink:href=\"#m732de5eb6e\" y=\"418.926872\"/>\r\n     <use style=\"fill:#008000;stroke:#008000;\" x=\"86.383285\" xlink:href=\"#m732de5eb6e\" y=\"418.926872\"/>\r\n     <use style=\"fill:#008000;stroke:#008000;\" x=\"91.541005\" xlink:href=\"#m732de5eb6e\" y=\"418.926872\"/>\r\n     <use style=\"fill:#008000;stroke:#008000;\" x=\"96.698726\" xlink:href=\"#m732de5eb6e\" y=\"418.926872\"/>\r\n     <use style=\"fill:#008000;stroke:#008000;\" x=\"101.856446\" xlink:href=\"#m732de5eb6e\" y=\"418.926872\"/>\r\n     <use style=\"fill:#008000;stroke:#008000;\" x=\"107.014166\" xlink:href=\"#m732de5eb6e\" y=\"418.926872\"/>\r\n     <use style=\"fill:#008000;stroke:#008000;\" x=\"112.171887\" xlink:href=\"#m732de5eb6e\" y=\"418.926872\"/>\r\n     <use style=\"fill:#008000;stroke:#008000;\" x=\"117.329607\" xlink:href=\"#m732de5eb6e\" y=\"418.926872\"/>\r\n     <use style=\"fill:#008000;stroke:#008000;\" x=\"122.487327\" xlink:href=\"#m732de5eb6e\" y=\"418.926872\"/>\r\n     <use style=\"fill:#008000;stroke:#008000;\" x=\"127.645047\" xlink:href=\"#m732de5eb6e\" y=\"418.926872\"/>\r\n     <use style=\"fill:#008000;stroke:#008000;\" x=\"132.802768\" xlink:href=\"#m732de5eb6e\" y=\"418.926872\"/>\r\n     <use style=\"fill:#008000;stroke:#008000;\" x=\"137.960488\" xlink:href=\"#m732de5eb6e\" y=\"418.926872\"/>\r\n     <use style=\"fill:#008000;stroke:#008000;\" x=\"143.118208\" xlink:href=\"#m732de5eb6e\" y=\"418.926872\"/>\r\n     <use style=\"fill:#008000;stroke:#008000;\" x=\"148.275929\" xlink:href=\"#m732de5eb6e\" y=\"418.926872\"/>\r\n     <use style=\"fill:#008000;stroke:#008000;\" x=\"153.433649\" xlink:href=\"#m732de5eb6e\" y=\"418.926872\"/>\r\n     <use style=\"fill:#008000;stroke:#008000;\" x=\"158.591369\" xlink:href=\"#m732de5eb6e\" y=\"418.926872\"/>\r\n     <use style=\"fill:#008000;stroke:#008000;\" x=\"163.74909\" xlink:href=\"#m732de5eb6e\" y=\"418.926872\"/>\r\n     <use style=\"fill:#008000;stroke:#008000;\" x=\"168.90681\" xlink:href=\"#m732de5eb6e\" y=\"418.926872\"/>\r\n     <use style=\"fill:#008000;stroke:#008000;\" x=\"174.06453\" xlink:href=\"#m732de5eb6e\" y=\"418.926872\"/>\r\n     <use style=\"fill:#008000;stroke:#008000;\" x=\"179.222251\" xlink:href=\"#m732de5eb6e\" y=\"418.926872\"/>\r\n     <use style=\"fill:#008000;stroke:#008000;\" x=\"184.379971\" xlink:href=\"#m732de5eb6e\" y=\"418.926872\"/>\r\n     <use style=\"fill:#008000;stroke:#008000;\" x=\"189.537691\" xlink:href=\"#m732de5eb6e\" y=\"418.926872\"/>\r\n     <use style=\"fill:#008000;stroke:#008000;\" x=\"194.695412\" xlink:href=\"#m732de5eb6e\" y=\"418.926872\"/>\r\n     <use style=\"fill:#008000;stroke:#008000;\" x=\"199.853132\" xlink:href=\"#m732de5eb6e\" y=\"418.926872\"/>\r\n     <use style=\"fill:#008000;stroke:#008000;\" x=\"205.010852\" xlink:href=\"#m732de5eb6e\" y=\"418.926872\"/>\r\n     <use style=\"fill:#008000;stroke:#008000;\" x=\"210.168573\" xlink:href=\"#m732de5eb6e\" y=\"418.916932\"/>\r\n     <use style=\"fill:#008000;stroke:#008000;\" x=\"215.326293\" xlink:href=\"#m732de5eb6e\" y=\"418.916932\"/>\r\n     <use style=\"fill:#008000;stroke:#008000;\" x=\"220.484013\" xlink:href=\"#m732de5eb6e\" y=\"418.916932\"/>\r\n     <use style=\"fill:#008000;stroke:#008000;\" x=\"225.641734\" xlink:href=\"#m732de5eb6e\" y=\"418.916932\"/>\r\n     <use style=\"fill:#008000;stroke:#008000;\" x=\"230.799454\" xlink:href=\"#m732de5eb6e\" y=\"418.916932\"/>\r\n     <use style=\"fill:#008000;stroke:#008000;\" x=\"235.957174\" xlink:href=\"#m732de5eb6e\" y=\"418.916932\"/>\r\n     <use style=\"fill:#008000;stroke:#008000;\" x=\"241.114894\" xlink:href=\"#m732de5eb6e\" y=\"418.916932\"/>\r\n     <use style=\"fill:#008000;stroke:#008000;\" x=\"246.272615\" xlink:href=\"#m732de5eb6e\" y=\"418.916932\"/>\r\n     <use style=\"fill:#008000;stroke:#008000;\" x=\"251.430335\" xlink:href=\"#m732de5eb6e\" y=\"418.916932\"/>\r\n     <use style=\"fill:#008000;stroke:#008000;\" x=\"256.588055\" xlink:href=\"#m732de5eb6e\" y=\"418.916932\"/>\r\n     <use style=\"fill:#008000;stroke:#008000;\" x=\"261.745776\" xlink:href=\"#m732de5eb6e\" y=\"418.916932\"/>\r\n     <use style=\"fill:#008000;stroke:#008000;\" x=\"266.903496\" xlink:href=\"#m732de5eb6e\" y=\"418.916932\"/>\r\n     <use style=\"fill:#008000;stroke:#008000;\" x=\"272.061216\" xlink:href=\"#m732de5eb6e\" y=\"418.916932\"/>\r\n     <use style=\"fill:#008000;stroke:#008000;\" x=\"277.218937\" xlink:href=\"#m732de5eb6e\" y=\"418.916932\"/>\r\n     <use style=\"fill:#008000;stroke:#008000;\" x=\"282.376657\" xlink:href=\"#m732de5eb6e\" y=\"418.916932\"/>\r\n     <use style=\"fill:#008000;stroke:#008000;\" x=\"287.534377\" xlink:href=\"#m732de5eb6e\" y=\"418.916932\"/>\r\n     <use style=\"fill:#008000;stroke:#008000;\" x=\"292.692098\" xlink:href=\"#m732de5eb6e\" y=\"418.916932\"/>\r\n     <use style=\"fill:#008000;stroke:#008000;\" x=\"297.849818\" xlink:href=\"#m732de5eb6e\" y=\"418.916932\"/>\r\n     <use style=\"fill:#008000;stroke:#008000;\" x=\"303.007538\" xlink:href=\"#m732de5eb6e\" y=\"418.916932\"/>\r\n     <use style=\"fill:#008000;stroke:#008000;\" x=\"308.165259\" xlink:href=\"#m732de5eb6e\" y=\"418.916932\"/>\r\n     <use style=\"fill:#008000;stroke:#008000;\" x=\"313.322979\" xlink:href=\"#m732de5eb6e\" y=\"418.916932\"/>\r\n     <use style=\"fill:#008000;stroke:#008000;\" x=\"318.480699\" xlink:href=\"#m732de5eb6e\" y=\"418.916932\"/>\r\n     <use style=\"fill:#008000;stroke:#008000;\" x=\"323.63842\" xlink:href=\"#m732de5eb6e\" y=\"418.916932\"/>\r\n     <use style=\"fill:#008000;stroke:#008000;\" x=\"328.79614\" xlink:href=\"#m732de5eb6e\" y=\"418.913619\"/>\r\n     <use style=\"fill:#008000;stroke:#008000;\" x=\"333.95386\" xlink:href=\"#m732de5eb6e\" y=\"418.913619\"/>\r\n     <use style=\"fill:#008000;stroke:#008000;\" x=\"339.11158\" xlink:href=\"#m732de5eb6e\" y=\"418.913619\"/>\r\n     <use style=\"fill:#008000;stroke:#008000;\" x=\"344.269301\" xlink:href=\"#m732de5eb6e\" y=\"418.913619\"/>\r\n     <use style=\"fill:#008000;stroke:#008000;\" x=\"349.427021\" xlink:href=\"#m732de5eb6e\" y=\"418.913619\"/>\r\n     <use style=\"fill:#008000;stroke:#008000;\" x=\"354.584741\" xlink:href=\"#m732de5eb6e\" y=\"418.883799\"/>\r\n     <use style=\"fill:#008000;stroke:#008000;\" x=\"359.742462\" xlink:href=\"#m732de5eb6e\" y=\"418.883799\"/>\r\n     <use style=\"fill:#008000;stroke:#008000;\" x=\"364.900182\" xlink:href=\"#m732de5eb6e\" y=\"418.880486\"/>\r\n     <use style=\"fill:#008000;stroke:#008000;\" x=\"370.057902\" xlink:href=\"#m732de5eb6e\" y=\"418.880486\"/>\r\n     <use style=\"fill:#008000;stroke:#008000;\" x=\"375.215623\" xlink:href=\"#m732de5eb6e\" y=\"418.877172\"/>\r\n     <use style=\"fill:#008000;stroke:#008000;\" x=\"380.373343\" xlink:href=\"#m732de5eb6e\" y=\"418.860606\"/>\r\n     <use style=\"fill:#008000;stroke:#008000;\" x=\"385.531063\" xlink:href=\"#m732de5eb6e\" y=\"418.850666\"/>\r\n     <use style=\"fill:#008000;stroke:#008000;\" x=\"390.688784\" xlink:href=\"#m732de5eb6e\" y=\"418.837413\"/>\r\n     <use style=\"fill:#008000;stroke:#008000;\" x=\"395.846504\" xlink:href=\"#m732de5eb6e\" y=\"418.837413\"/>\r\n     <use style=\"fill:#008000;stroke:#008000;\" x=\"401.004224\" xlink:href=\"#m732de5eb6e\" y=\"418.79434\"/>\r\n     <use style=\"fill:#008000;stroke:#008000;\" x=\"406.161945\" xlink:href=\"#m732de5eb6e\" y=\"418.7844\"/>\r\n     <use style=\"fill:#008000;stroke:#008000;\" x=\"411.319665\" xlink:href=\"#m732de5eb6e\" y=\"418.777773\"/>\r\n     <use style=\"fill:#008000;stroke:#008000;\" x=\"416.477385\" xlink:href=\"#m732de5eb6e\" y=\"418.685001\"/>\r\n     <use style=\"fill:#008000;stroke:#008000;\" x=\"421.635106\" xlink:href=\"#m732de5eb6e\" y=\"418.648554\"/>\r\n     <use style=\"fill:#008000;stroke:#008000;\" x=\"426.792826\" xlink:href=\"#m732de5eb6e\" y=\"418.612108\"/>\r\n     <use style=\"fill:#008000;stroke:#008000;\" x=\"431.950546\" xlink:href=\"#m732de5eb6e\" y=\"418.588915\"/>\r\n     <use style=\"fill:#008000;stroke:#008000;\" x=\"437.108266\" xlink:href=\"#m732de5eb6e\" y=\"418.519335\"/>\r\n     <use style=\"fill:#008000;stroke:#008000;\" x=\"442.265987\" xlink:href=\"#m732de5eb6e\" y=\"418.436503\"/>\r\n     <use style=\"fill:#008000;stroke:#008000;\" x=\"447.423707\" xlink:href=\"#m732de5eb6e\" y=\"418.29403\"/>\r\n     <use style=\"fill:#008000;stroke:#008000;\" x=\"452.581427\" xlink:href=\"#m732de5eb6e\" y=\"418.290717\"/>\r\n     <use style=\"fill:#008000;stroke:#008000;\" x=\"457.739148\" xlink:href=\"#m732de5eb6e\" y=\"418.168125\"/>\r\n     <use style=\"fill:#008000;stroke:#008000;\" x=\"462.896868\" xlink:href=\"#m732de5eb6e\" y=\"418.168125\"/>\r\n     <use style=\"fill:#008000;stroke:#008000;\" x=\"468.054588\" xlink:href=\"#m732de5eb6e\" y=\"417.684382\"/>\r\n     <use style=\"fill:#008000;stroke:#008000;\" x=\"473.212309\" xlink:href=\"#m732de5eb6e\" y=\"417.53197\"/>\r\n     <use style=\"fill:#008000;stroke:#008000;\" x=\"478.370029\" xlink:href=\"#m732de5eb6e\" y=\"417.250339\"/>\r\n     <use style=\"fill:#008000;stroke:#008000;\" x=\"483.527749\" xlink:href=\"#m732de5eb6e\" y=\"416.872622\"/>\r\n     <use style=\"fill:#008000;stroke:#008000;\" x=\"488.68547\" xlink:href=\"#m732de5eb6e\" y=\"416.362373\"/>\r\n     <use style=\"fill:#008000;stroke:#008000;\" x=\"493.84319\" xlink:href=\"#m732de5eb6e\" y=\"415.716278\"/>\r\n     <use style=\"fill:#008000;stroke:#008000;\" x=\"499.00091\" xlink:href=\"#m732de5eb6e\" y=\"415.348501\"/>\r\n     <use style=\"fill:#008000;stroke:#008000;\" x=\"504.158631\" xlink:href=\"#m732de5eb6e\" y=\"415.013857\"/>\r\n     <use style=\"fill:#008000;stroke:#008000;\" x=\"509.316351\" xlink:href=\"#m732de5eb6e\" y=\"414.424088\"/>\r\n     <use style=\"fill:#008000;stroke:#008000;\" x=\"514.474071\" xlink:href=\"#m732de5eb6e\" y=\"414.182217\"/>\r\n     <use style=\"fill:#008000;stroke:#008000;\" x=\"519.631792\" xlink:href=\"#m732de5eb6e\" y=\"413.068946\"/>\r\n     <use style=\"fill:#008000;stroke:#008000;\" x=\"524.789512\" xlink:href=\"#m732de5eb6e\" y=\"412.164413\"/>\r\n     <use style=\"fill:#008000;stroke:#008000;\" x=\"529.947232\" xlink:href=\"#m732de5eb6e\" y=\"410.766198\"/>\r\n     <use style=\"fill:#008000;stroke:#008000;\" x=\"535.104953\" xlink:href=\"#m732de5eb6e\" y=\"409.470695\"/>\r\n     <use style=\"fill:#008000;stroke:#008000;\" x=\"540.262673\" xlink:href=\"#m732de5eb6e\" y=\"408.08242\"/>\r\n     <use style=\"fill:#008000;stroke:#008000;\" x=\"545.420393\" xlink:href=\"#m732de5eb6e\" y=\"405.756478\"/>\r\n     <use style=\"fill:#008000;stroke:#008000;\" x=\"550.578113\" xlink:href=\"#m732de5eb6e\" y=\"404.447722\"/>\r\n     <use style=\"fill:#008000;stroke:#008000;\" x=\"555.735834\" xlink:href=\"#m732de5eb6e\" y=\"402.320579\"/>\r\n     <use style=\"fill:#008000;stroke:#008000;\" x=\"560.893554\" xlink:href=\"#m732de5eb6e\" y=\"400.710312\"/>\r\n     <use style=\"fill:#008000;stroke:#008000;\" x=\"566.051274\" xlink:href=\"#m732de5eb6e\" y=\"399.249144\"/>\r\n     <use style=\"fill:#008000;stroke:#008000;\" x=\"571.208995\" xlink:href=\"#m732de5eb6e\" y=\"397.314173\"/>\r\n     <use style=\"fill:#008000;stroke:#008000;\" x=\"576.366715\" xlink:href=\"#m732de5eb6e\" y=\"395.279803\"/>\r\n     <use style=\"fill:#008000;stroke:#008000;\" x=\"581.524435\" xlink:href=\"#m732de5eb6e\" y=\"393.258686\"/>\r\n    </g>\r\n   </g>\r\n   <g id=\"PathCollection_5\">\r\n    <defs>\r\n     <path d=\"M 0 3 \r\nC 0.795609 3 1.55874 2.683901 2.12132 2.12132 \r\nC 2.683901 1.55874 3 0.795609 3 0 \r\nC 3 -0.795609 2.683901 -1.55874 2.12132 -2.12132 \r\nC 1.55874 -2.683901 0.795609 -3 0 -3 \r\nC -0.795609 -3 -1.55874 -2.683901 -2.12132 -2.12132 \r\nC -2.683901 -1.55874 -3 -0.795609 -3 0 \r\nC -3 0.795609 -2.683901 1.55874 -2.12132 2.12132 \r\nC -1.55874 2.683901 -0.795609 3 0 3 \r\nz\r\n\" id=\"m355e9f80c8\" style=\"stroke:#000000;\"/>\r\n    </defs>\r\n    <g clip-path=\"url(#pc13d938631)\">\r\n     <use style=\"stroke:#000000;\" x=\"81.225565\" xlink:href=\"#m355e9f80c8\" y=\"418.926872\"/>\r\n     <use style=\"stroke:#000000;\" x=\"86.383285\" xlink:href=\"#m355e9f80c8\" y=\"418.926872\"/>\r\n     <use style=\"stroke:#000000;\" x=\"91.541005\" xlink:href=\"#m355e9f80c8\" y=\"418.926872\"/>\r\n     <use style=\"stroke:#000000;\" x=\"96.698726\" xlink:href=\"#m355e9f80c8\" y=\"418.926872\"/>\r\n     <use style=\"stroke:#000000;\" x=\"101.856446\" xlink:href=\"#m355e9f80c8\" y=\"418.926872\"/>\r\n     <use style=\"stroke:#000000;\" x=\"107.014166\" xlink:href=\"#m355e9f80c8\" y=\"418.926872\"/>\r\n     <use style=\"stroke:#000000;\" x=\"112.171887\" xlink:href=\"#m355e9f80c8\" y=\"418.926872\"/>\r\n     <use style=\"stroke:#000000;\" x=\"117.329607\" xlink:href=\"#m355e9f80c8\" y=\"418.926872\"/>\r\n     <use style=\"stroke:#000000;\" x=\"122.487327\" xlink:href=\"#m355e9f80c8\" y=\"418.926872\"/>\r\n     <use style=\"stroke:#000000;\" x=\"127.645047\" xlink:href=\"#m355e9f80c8\" y=\"418.926872\"/>\r\n     <use style=\"stroke:#000000;\" x=\"132.802768\" xlink:href=\"#m355e9f80c8\" y=\"418.926872\"/>\r\n     <use style=\"stroke:#000000;\" x=\"137.960488\" xlink:href=\"#m355e9f80c8\" y=\"418.926872\"/>\r\n     <use style=\"stroke:#000000;\" x=\"143.118208\" xlink:href=\"#m355e9f80c8\" y=\"418.926872\"/>\r\n     <use style=\"stroke:#000000;\" x=\"148.275929\" xlink:href=\"#m355e9f80c8\" y=\"418.926872\"/>\r\n     <use style=\"stroke:#000000;\" x=\"153.433649\" xlink:href=\"#m355e9f80c8\" y=\"418.926872\"/>\r\n     <use style=\"stroke:#000000;\" x=\"158.591369\" xlink:href=\"#m355e9f80c8\" y=\"418.926872\"/>\r\n     <use style=\"stroke:#000000;\" x=\"163.74909\" xlink:href=\"#m355e9f80c8\" y=\"418.926872\"/>\r\n     <use style=\"stroke:#000000;\" x=\"168.90681\" xlink:href=\"#m355e9f80c8\" y=\"418.926872\"/>\r\n     <use style=\"stroke:#000000;\" x=\"174.06453\" xlink:href=\"#m355e9f80c8\" y=\"418.926872\"/>\r\n     <use style=\"stroke:#000000;\" x=\"179.222251\" xlink:href=\"#m355e9f80c8\" y=\"418.926872\"/>\r\n     <use style=\"stroke:#000000;\" x=\"184.379971\" xlink:href=\"#m355e9f80c8\" y=\"418.926872\"/>\r\n     <use style=\"stroke:#000000;\" x=\"189.537691\" xlink:href=\"#m355e9f80c8\" y=\"418.926872\"/>\r\n     <use style=\"stroke:#000000;\" x=\"194.695412\" xlink:href=\"#m355e9f80c8\" y=\"418.926872\"/>\r\n     <use style=\"stroke:#000000;\" x=\"199.853132\" xlink:href=\"#m355e9f80c8\" y=\"418.926872\"/>\r\n     <use style=\"stroke:#000000;\" x=\"205.010852\" xlink:href=\"#m355e9f80c8\" y=\"418.926872\"/>\r\n     <use style=\"stroke:#000000;\" x=\"210.168573\" xlink:href=\"#m355e9f80c8\" y=\"418.926872\"/>\r\n     <use style=\"stroke:#000000;\" x=\"215.326293\" xlink:href=\"#m355e9f80c8\" y=\"418.926872\"/>\r\n     <use style=\"stroke:#000000;\" x=\"220.484013\" xlink:href=\"#m355e9f80c8\" y=\"418.926872\"/>\r\n     <use style=\"stroke:#000000;\" x=\"225.641734\" xlink:href=\"#m355e9f80c8\" y=\"418.926872\"/>\r\n     <use style=\"stroke:#000000;\" x=\"230.799454\" xlink:href=\"#m355e9f80c8\" y=\"418.926872\"/>\r\n     <use style=\"stroke:#000000;\" x=\"235.957174\" xlink:href=\"#m355e9f80c8\" y=\"418.926872\"/>\r\n     <use style=\"stroke:#000000;\" x=\"241.114894\" xlink:href=\"#m355e9f80c8\" y=\"418.923559\"/>\r\n     <use style=\"stroke:#000000;\" x=\"246.272615\" xlink:href=\"#m355e9f80c8\" y=\"418.920245\"/>\r\n     <use style=\"stroke:#000000;\" x=\"251.430335\" xlink:href=\"#m355e9f80c8\" y=\"418.923559\"/>\r\n     <use style=\"stroke:#000000;\" x=\"256.588055\" xlink:href=\"#m355e9f80c8\" y=\"418.923559\"/>\r\n     <use style=\"stroke:#000000;\" x=\"261.745776\" xlink:href=\"#m355e9f80c8\" y=\"418.916932\"/>\r\n     <use style=\"stroke:#000000;\" x=\"266.903496\" xlink:href=\"#m355e9f80c8\" y=\"418.777773\"/>\r\n     <use style=\"stroke:#000000;\" x=\"272.061216\" xlink:href=\"#m355e9f80c8\" y=\"418.77446\"/>\r\n     <use style=\"stroke:#000000;\" x=\"277.218937\" xlink:href=\"#m355e9f80c8\" y=\"418.77446\"/>\r\n     <use style=\"stroke:#000000;\" x=\"282.376657\" xlink:href=\"#m355e9f80c8\" y=\"418.651868\"/>\r\n     <use style=\"stroke:#000000;\" x=\"287.534377\" xlink:href=\"#m355e9f80c8\" y=\"418.433189\"/>\r\n     <use style=\"stroke:#000000;\" x=\"292.692098\" xlink:href=\"#m355e9f80c8\" y=\"418.396743\"/>\r\n     <use style=\"stroke:#000000;\" x=\"297.849818\" xlink:href=\"#m355e9f80c8\" y=\"418.012399\"/>\r\n     <use style=\"stroke:#000000;\" x=\"303.007538\" xlink:href=\"#m355e9f80c8\" y=\"417.555163\"/>\r\n     <use style=\"stroke:#000000;\" x=\"308.165259\" xlink:href=\"#m355e9f80c8\" y=\"417.194013\"/>\r\n     <use style=\"stroke:#000000;\" x=\"313.322979\" xlink:href=\"#m355e9f80c8\" y=\"416.975334\"/>\r\n     <use style=\"stroke:#000000;\" x=\"318.480699\" xlink:href=\"#m355e9f80c8\" y=\"416.865995\"/>\r\n     <use style=\"stroke:#000000;\" x=\"323.63842\" xlink:href=\"#m355e9f80c8\" y=\"416.528038\"/>\r\n     <use style=\"stroke:#000000;\" x=\"328.79614\" xlink:href=\"#m355e9f80c8\" y=\"416.528038\"/>\r\n     <use style=\"stroke:#000000;\" x=\"333.95386\" xlink:href=\"#m355e9f80c8\" y=\"415.464467\"/>\r\n     <use style=\"stroke:#000000;\" x=\"339.11158\" xlink:href=\"#m355e9f80c8\" y=\"415.464467\"/>\r\n     <use style=\"stroke:#000000;\" x=\"344.269301\" xlink:href=\"#m355e9f80c8\" y=\"414.159024\"/>\r\n     <use style=\"stroke:#000000;\" x=\"349.427021\" xlink:href=\"#m355e9f80c8\" y=\"412.412911\"/>\r\n     <use style=\"stroke:#000000;\" x=\"354.584741\" xlink:href=\"#m355e9f80c8\" y=\"411.190301\"/>\r\n     <use style=\"stroke:#000000;\" x=\"359.742462\" xlink:href=\"#m355e9f80c8\" y=\"409.818592\"/>\r\n     <use style=\"stroke:#000000;\" x=\"364.900182\" xlink:href=\"#m355e9f80c8\" y=\"409.182437\"/>\r\n     <use style=\"stroke:#000000;\" x=\"370.057902\" xlink:href=\"#m355e9f80c8\" y=\"405.590813\"/>\r\n     <use style=\"stroke:#000000;\" x=\"375.215623\" xlink:href=\"#m355e9f80c8\" y=\"404.215791\"/>\r\n     <use style=\"stroke:#000000;\" x=\"380.373343\" xlink:href=\"#m355e9f80c8\" y=\"404.215791\"/>\r\n     <use style=\"stroke:#000000;\" x=\"385.531063\" xlink:href=\"#m355e9f80c8\" y=\"398.808474\"/>\r\n     <use style=\"stroke:#000000;\" x=\"390.688784\" xlink:href=\"#m355e9f80c8\" y=\"395.654207\"/>\r\n     <use style=\"stroke:#000000;\" x=\"395.846504\" xlink:href=\"#m355e9f80c8\" y=\"395.654207\"/>\r\n     <use style=\"stroke:#000000;\" x=\"401.004224\" xlink:href=\"#m355e9f80c8\" y=\"391.340281\"/>\r\n     <use style=\"stroke:#000000;\" x=\"406.161945\" xlink:href=\"#m355e9f80c8\" y=\"387.907696\"/>\r\n     <use style=\"stroke:#000000;\" x=\"411.319665\" xlink:href=\"#m355e9f80c8\" y=\"384.597702\"/>\r\n     <use style=\"stroke:#000000;\" x=\"416.477385\" xlink:href=\"#m355e9f80c8\" y=\"382.646165\"/>\r\n     <use style=\"stroke:#000000;\" x=\"421.635106\" xlink:href=\"#m355e9f80c8\" y=\"377.894883\"/>\r\n     <use style=\"stroke:#000000;\" x=\"426.792826\" xlink:href=\"#m355e9f80c8\" y=\"375.754487\"/>\r\n     <use style=\"stroke:#000000;\" x=\"431.950546\" xlink:href=\"#m355e9f80c8\" y=\"370.48633\"/>\r\n     <use style=\"stroke:#000000;\" x=\"437.108266\" xlink:href=\"#m355e9f80c8\" y=\"366.811873\"/>\r\n     <use style=\"stroke:#000000;\" x=\"442.265987\" xlink:href=\"#m355e9f80c8\" y=\"363.107596\"/>\r\n     <use style=\"stroke:#000000;\" x=\"447.423707\" xlink:href=\"#m355e9f80c8\" y=\"358.366254\"/>\r\n     <use style=\"stroke:#000000;\" x=\"452.581427\" xlink:href=\"#m355e9f80c8\" y=\"353.462561\"/>\r\n     <use style=\"stroke:#000000;\" x=\"457.739148\" xlink:href=\"#m355e9f80c8\" y=\"349.360687\"/>\r\n     <use style=\"stroke:#000000;\" x=\"462.896868\" xlink:href=\"#m355e9f80c8\" y=\"346.647089\"/>\r\n     <use style=\"stroke:#000000;\" x=\"468.054588\" xlink:href=\"#m355e9f80c8\" y=\"343.26089\"/>\r\n     <use style=\"stroke:#000000;\" x=\"473.212309\" xlink:href=\"#m355e9f80c8\" y=\"338.108698\"/>\r\n     <use style=\"stroke:#000000;\" x=\"478.370029\" xlink:href=\"#m355e9f80c8\" y=\"331.154067\"/>\r\n     <use style=\"stroke:#000000;\" x=\"483.527749\" xlink:href=\"#m355e9f80c8\" y=\"324.597034\"/>\r\n     <use style=\"stroke:#000000;\" x=\"488.68547\" xlink:href=\"#m355e9f80c8\" y=\"318.02012\"/>\r\n     <use style=\"stroke:#000000;\" x=\"493.84319\" xlink:href=\"#m355e9f80c8\" y=\"311.131756\"/>\r\n     <use style=\"stroke:#000000;\" x=\"499.00091\" xlink:href=\"#m355e9f80c8\" y=\"305.57534\"/>\r\n     <use style=\"stroke:#000000;\" x=\"504.158631\" xlink:href=\"#m355e9f80c8\" y=\"301.519853\"/>\r\n     <use style=\"stroke:#000000;\" x=\"509.316351\" xlink:href=\"#m355e9f80c8\" y=\"295.903799\"/>\r\n     <use style=\"stroke:#000000;\" x=\"514.474071\" xlink:href=\"#m355e9f80c8\" y=\"292.716398\"/>\r\n     <use style=\"stroke:#000000;\" x=\"519.631792\" xlink:href=\"#m355e9f80c8\" y=\"285.851226\"/>\r\n     <use style=\"stroke:#000000;\" x=\"524.789512\" xlink:href=\"#m355e9f80c8\" y=\"277.359222\"/>\r\n     <use style=\"stroke:#000000;\" x=\"529.947232\" xlink:href=\"#m355e9f80c8\" y=\"270.069947\"/>\r\n     <use style=\"stroke:#000000;\" x=\"535.104953\" xlink:href=\"#m355e9f80c8\" y=\"263.019231\"/>\r\n     <use style=\"stroke:#000000;\" x=\"540.262673\" xlink:href=\"#m355e9f80c8\" y=\"256.982386\"/>\r\n     <use style=\"stroke:#000000;\" x=\"545.420393\" xlink:href=\"#m355e9f80c8\" y=\"247.960252\"/>\r\n     <use style=\"stroke:#000000;\" x=\"550.578113\" xlink:href=\"#m355e9f80c8\" y=\"238.209191\"/>\r\n     <use style=\"stroke:#000000;\" x=\"555.735834\" xlink:href=\"#m355e9f80c8\" y=\"228.159932\"/>\r\n     <use style=\"stroke:#000000;\" x=\"560.893554\" xlink:href=\"#m355e9f80c8\" y=\"218.47845\"/>\r\n     <use style=\"stroke:#000000;\" x=\"566.051274\" xlink:href=\"#m355e9f80c8\" y=\"209.790961\"/>\r\n     <use style=\"stroke:#000000;\" x=\"571.208995\" xlink:href=\"#m355e9f80c8\" y=\"203.800502\"/>\r\n     <use style=\"stroke:#000000;\" x=\"576.366715\" xlink:href=\"#m355e9f80c8\" y=\"198.181134\"/>\r\n     <use style=\"stroke:#000000;\" x=\"581.524435\" xlink:href=\"#m355e9f80c8\" y=\"190.504203\"/>\r\n    </g>\r\n   </g>\r\n   <g id=\"matplotlib.axis_1\">\r\n    <g id=\"xtick_1\">\r\n     <g id=\"line2d_1\">\r\n      <defs>\r\n       <path d=\"M 0 0 \r\nL 0 3.5 \r\n\" id=\"m792d4a9d9a\" style=\"stroke:#000000;stroke-width:0.8;\"/>\r\n      </defs>\r\n      <g>\r\n       <use style=\"stroke:#000000;stroke-width:0.8;\" x=\"81.225565\" xlink:href=\"#m792d4a9d9a\" y=\"442.08\"/>\r\n      </g>\r\n     </g>\r\n     <g id=\"text_1\">\r\n      <!-- 0 -->\r\n      <defs>\r\n       <path d=\"M 31.78125 66.40625 \r\nQ 24.171875 66.40625 20.328125 58.90625 \r\nQ 16.5 51.421875 16.5 36.375 \r\nQ 16.5 21.390625 20.328125 13.890625 \r\nQ 24.171875 6.390625 31.78125 6.390625 \r\nQ 39.453125 6.390625 43.28125 13.890625 \r\nQ 47.125 21.390625 47.125 36.375 \r\nQ 47.125 51.421875 43.28125 58.90625 \r\nQ 39.453125 66.40625 31.78125 66.40625 \r\nz\r\nM 31.78125 74.21875 \r\nQ 44.046875 74.21875 50.515625 64.515625 \r\nQ 56.984375 54.828125 56.984375 36.375 \r\nQ 56.984375 17.96875 50.515625 8.265625 \r\nQ 44.046875 -1.421875 31.78125 -1.421875 \r\nQ 19.53125 -1.421875 13.0625 8.265625 \r\nQ 6.59375 17.96875 6.59375 36.375 \r\nQ 6.59375 54.828125 13.0625 64.515625 \r\nQ 19.53125 74.21875 31.78125 74.21875 \r\nz\r\n\" id=\"DejaVuSans-48\"/>\r\n      </defs>\r\n      <g transform=\"translate(78.044315 456.678437)scale(0.1 -0.1)\">\r\n       <use xlink:href=\"#DejaVuSans-48\"/>\r\n      </g>\r\n     </g>\r\n    </g>\r\n    <g id=\"xtick_2\">\r\n     <g id=\"line2d_2\">\r\n      <g>\r\n       <use style=\"stroke:#000000;stroke-width:0.8;\" x=\"184.379971\" xlink:href=\"#m792d4a9d9a\" y=\"442.08\"/>\r\n      </g>\r\n     </g>\r\n     <g id=\"text_2\">\r\n      <!-- 20 -->\r\n      <defs>\r\n       <path d=\"M 19.1875 8.296875 \r\nL 53.609375 8.296875 \r\nL 53.609375 0 \r\nL 7.328125 0 \r\nL 7.328125 8.296875 \r\nQ 12.9375 14.109375 22.625 23.890625 \r\nQ 32.328125 33.6875 34.8125 36.53125 \r\nQ 39.546875 41.84375 41.421875 45.53125 \r\nQ 43.3125 49.21875 43.3125 52.78125 \r\nQ 43.3125 58.59375 39.234375 62.25 \r\nQ 35.15625 65.921875 28.609375 65.921875 \r\nQ 23.96875 65.921875 18.8125 64.3125 \r\nQ 13.671875 62.703125 7.8125 59.421875 \r\nL 7.8125 69.390625 \r\nQ 13.765625 71.78125 18.9375 73 \r\nQ 24.125 74.21875 28.421875 74.21875 \r\nQ 39.75 74.21875 46.484375 68.546875 \r\nQ 53.21875 62.890625 53.21875 53.421875 \r\nQ 53.21875 48.921875 51.53125 44.890625 \r\nQ 49.859375 40.875 45.40625 35.40625 \r\nQ 44.1875 33.984375 37.640625 27.21875 \r\nQ 31.109375 20.453125 19.1875 8.296875 \r\nz\r\n\" id=\"DejaVuSans-50\"/>\r\n      </defs>\r\n      <g transform=\"translate(178.017471 456.678437)scale(0.1 -0.1)\">\r\n       <use xlink:href=\"#DejaVuSans-50\"/>\r\n       <use x=\"63.623047\" xlink:href=\"#DejaVuSans-48\"/>\r\n      </g>\r\n     </g>\r\n    </g>\r\n    <g id=\"xtick_3\">\r\n     <g id=\"line2d_3\">\r\n      <g>\r\n       <use style=\"stroke:#000000;stroke-width:0.8;\" x=\"287.534377\" xlink:href=\"#m792d4a9d9a\" y=\"442.08\"/>\r\n      </g>\r\n     </g>\r\n     <g id=\"text_3\">\r\n      <!-- 40 -->\r\n      <defs>\r\n       <path d=\"M 37.796875 64.3125 \r\nL 12.890625 25.390625 \r\nL 37.796875 25.390625 \r\nz\r\nM 35.203125 72.90625 \r\nL 47.609375 72.90625 \r\nL 47.609375 25.390625 \r\nL 58.015625 25.390625 \r\nL 58.015625 17.1875 \r\nL 47.609375 17.1875 \r\nL 47.609375 0 \r\nL 37.796875 0 \r\nL 37.796875 17.1875 \r\nL 4.890625 17.1875 \r\nL 4.890625 26.703125 \r\nz\r\n\" id=\"DejaVuSans-52\"/>\r\n      </defs>\r\n      <g transform=\"translate(281.171877 456.678437)scale(0.1 -0.1)\">\r\n       <use xlink:href=\"#DejaVuSans-52\"/>\r\n       <use x=\"63.623047\" xlink:href=\"#DejaVuSans-48\"/>\r\n      </g>\r\n     </g>\r\n    </g>\r\n    <g id=\"xtick_4\">\r\n     <g id=\"line2d_4\">\r\n      <g>\r\n       <use style=\"stroke:#000000;stroke-width:0.8;\" x=\"390.688784\" xlink:href=\"#m792d4a9d9a\" y=\"442.08\"/>\r\n      </g>\r\n     </g>\r\n     <g id=\"text_4\">\r\n      <!-- 60 -->\r\n      <defs>\r\n       <path d=\"M 33.015625 40.375 \r\nQ 26.375 40.375 22.484375 35.828125 \r\nQ 18.609375 31.296875 18.609375 23.390625 \r\nQ 18.609375 15.53125 22.484375 10.953125 \r\nQ 26.375 6.390625 33.015625 6.390625 \r\nQ 39.65625 6.390625 43.53125 10.953125 \r\nQ 47.40625 15.53125 47.40625 23.390625 \r\nQ 47.40625 31.296875 43.53125 35.828125 \r\nQ 39.65625 40.375 33.015625 40.375 \r\nz\r\nM 52.59375 71.296875 \r\nL 52.59375 62.3125 \r\nQ 48.875 64.0625 45.09375 64.984375 \r\nQ 41.3125 65.921875 37.59375 65.921875 \r\nQ 27.828125 65.921875 22.671875 59.328125 \r\nQ 17.53125 52.734375 16.796875 39.40625 \r\nQ 19.671875 43.65625 24.015625 45.921875 \r\nQ 28.375 48.1875 33.59375 48.1875 \r\nQ 44.578125 48.1875 50.953125 41.515625 \r\nQ 57.328125 34.859375 57.328125 23.390625 \r\nQ 57.328125 12.15625 50.6875 5.359375 \r\nQ 44.046875 -1.421875 33.015625 -1.421875 \r\nQ 20.359375 -1.421875 13.671875 8.265625 \r\nQ 6.984375 17.96875 6.984375 36.375 \r\nQ 6.984375 53.65625 15.1875 63.9375 \r\nQ 23.390625 74.21875 37.203125 74.21875 \r\nQ 40.921875 74.21875 44.703125 73.484375 \r\nQ 48.484375 72.75 52.59375 71.296875 \r\nz\r\n\" id=\"DejaVuSans-54\"/>\r\n      </defs>\r\n      <g transform=\"translate(384.326284 456.678437)scale(0.1 -0.1)\">\r\n       <use xlink:href=\"#DejaVuSans-54\"/>\r\n       <use x=\"63.623047\" xlink:href=\"#DejaVuSans-48\"/>\r\n      </g>\r\n     </g>\r\n    </g>\r\n    <g id=\"xtick_5\">\r\n     <g id=\"line2d_5\">\r\n      <g>\r\n       <use style=\"stroke:#000000;stroke-width:0.8;\" x=\"493.84319\" xlink:href=\"#m792d4a9d9a\" y=\"442.08\"/>\r\n      </g>\r\n     </g>\r\n     <g id=\"text_5\">\r\n      <!-- 80 -->\r\n      <defs>\r\n       <path d=\"M 31.78125 34.625 \r\nQ 24.75 34.625 20.71875 30.859375 \r\nQ 16.703125 27.09375 16.703125 20.515625 \r\nQ 16.703125 13.921875 20.71875 10.15625 \r\nQ 24.75 6.390625 31.78125 6.390625 \r\nQ 38.8125 6.390625 42.859375 10.171875 \r\nQ 46.921875 13.96875 46.921875 20.515625 \r\nQ 46.921875 27.09375 42.890625 30.859375 \r\nQ 38.875 34.625 31.78125 34.625 \r\nz\r\nM 21.921875 38.8125 \r\nQ 15.578125 40.375 12.03125 44.71875 \r\nQ 8.5 49.078125 8.5 55.328125 \r\nQ 8.5 64.0625 14.71875 69.140625 \r\nQ 20.953125 74.21875 31.78125 74.21875 \r\nQ 42.671875 74.21875 48.875 69.140625 \r\nQ 55.078125 64.0625 55.078125 55.328125 \r\nQ 55.078125 49.078125 51.53125 44.71875 \r\nQ 48 40.375 41.703125 38.8125 \r\nQ 48.828125 37.15625 52.796875 32.3125 \r\nQ 56.78125 27.484375 56.78125 20.515625 \r\nQ 56.78125 9.90625 50.3125 4.234375 \r\nQ 43.84375 -1.421875 31.78125 -1.421875 \r\nQ 19.734375 -1.421875 13.25 4.234375 \r\nQ 6.78125 9.90625 6.78125 20.515625 \r\nQ 6.78125 27.484375 10.78125 32.3125 \r\nQ 14.796875 37.15625 21.921875 38.8125 \r\nz\r\nM 18.3125 54.390625 \r\nQ 18.3125 48.734375 21.84375 45.5625 \r\nQ 25.390625 42.390625 31.78125 42.390625 \r\nQ 38.140625 42.390625 41.71875 45.5625 \r\nQ 45.3125 48.734375 45.3125 54.390625 \r\nQ 45.3125 60.0625 41.71875 63.234375 \r\nQ 38.140625 66.40625 31.78125 66.40625 \r\nQ 25.390625 66.40625 21.84375 63.234375 \r\nQ 18.3125 60.0625 18.3125 54.390625 \r\nz\r\n\" id=\"DejaVuSans-56\"/>\r\n      </defs>\r\n      <g transform=\"translate(487.48069 456.678437)scale(0.1 -0.1)\">\r\n       <use xlink:href=\"#DejaVuSans-56\"/>\r\n       <use x=\"63.623047\" xlink:href=\"#DejaVuSans-48\"/>\r\n      </g>\r\n     </g>\r\n    </g>\r\n    <g id=\"xtick_6\">\r\n     <g id=\"line2d_6\">\r\n      <g>\r\n       <use style=\"stroke:#000000;stroke-width:0.8;\" x=\"596.997596\" xlink:href=\"#m792d4a9d9a\" y=\"442.08\"/>\r\n      </g>\r\n     </g>\r\n     <g id=\"text_6\">\r\n      <!-- 100 -->\r\n      <defs>\r\n       <path d=\"M 12.40625 8.296875 \r\nL 28.515625 8.296875 \r\nL 28.515625 63.921875 \r\nL 10.984375 60.40625 \r\nL 10.984375 69.390625 \r\nL 28.421875 72.90625 \r\nL 38.28125 72.90625 \r\nL 38.28125 8.296875 \r\nL 54.390625 8.296875 \r\nL 54.390625 0 \r\nL 12.40625 0 \r\nz\r\n\" id=\"DejaVuSans-49\"/>\r\n      </defs>\r\n      <g transform=\"translate(587.453846 456.678437)scale(0.1 -0.1)\">\r\n       <use xlink:href=\"#DejaVuSans-49\"/>\r\n       <use x=\"63.623047\" xlink:href=\"#DejaVuSans-48\"/>\r\n       <use x=\"127.246094\" xlink:href=\"#DejaVuSans-48\"/>\r\n      </g>\r\n     </g>\r\n    </g>\r\n   </g>\r\n   <g id=\"matplotlib.axis_2\">\r\n    <g id=\"ytick_1\">\r\n     <g id=\"line2d_7\">\r\n      <defs>\r\n       <path d=\"M 0 0 \r\nL -3.5 0 \r\n\" id=\"mcb5295c5f8\" style=\"stroke:#000000;stroke-width:0.8;\"/>\r\n      </defs>\r\n      <g>\r\n       <use style=\"stroke:#000000;stroke-width:0.8;\" x=\"52.375\" xlink:href=\"#mcb5295c5f8\" y=\"418.926872\"/>\r\n      </g>\r\n     </g>\r\n     <g id=\"text_7\">\r\n      <!-- 0 -->\r\n      <g transform=\"translate(39.0125 422.726091)scale(0.1 -0.1)\">\r\n       <use xlink:href=\"#DejaVuSans-48\"/>\r\n      </g>\r\n     </g>\r\n    </g>\r\n    <g id=\"ytick_2\">\r\n     <g id=\"line2d_8\">\r\n      <g>\r\n       <use style=\"stroke:#000000;stroke-width:0.8;\" x=\"52.375\" xlink:href=\"#mcb5295c5f8\" y=\"352.66074\"/>\r\n      </g>\r\n     </g>\r\n     <g id=\"text_8\">\r\n      <!-- 20000 -->\r\n      <g transform=\"translate(13.5625 356.459959)scale(0.1 -0.1)\">\r\n       <use xlink:href=\"#DejaVuSans-50\"/>\r\n       <use x=\"63.623047\" xlink:href=\"#DejaVuSans-48\"/>\r\n       <use x=\"127.246094\" xlink:href=\"#DejaVuSans-48\"/>\r\n       <use x=\"190.869141\" xlink:href=\"#DejaVuSans-48\"/>\r\n       <use x=\"254.492188\" xlink:href=\"#DejaVuSans-48\"/>\r\n      </g>\r\n     </g>\r\n    </g>\r\n    <g id=\"ytick_3\">\r\n     <g id=\"line2d_9\">\r\n      <g>\r\n       <use style=\"stroke:#000000;stroke-width:0.8;\" x=\"52.375\" xlink:href=\"#mcb5295c5f8\" y=\"286.394609\"/>\r\n      </g>\r\n     </g>\r\n     <g id=\"text_9\">\r\n      <!-- 40000 -->\r\n      <g transform=\"translate(13.5625 290.193827)scale(0.1 -0.1)\">\r\n       <use xlink:href=\"#DejaVuSans-52\"/>\r\n       <use x=\"63.623047\" xlink:href=\"#DejaVuSans-48\"/>\r\n       <use x=\"127.246094\" xlink:href=\"#DejaVuSans-48\"/>\r\n       <use x=\"190.869141\" xlink:href=\"#DejaVuSans-48\"/>\r\n       <use x=\"254.492188\" xlink:href=\"#DejaVuSans-48\"/>\r\n      </g>\r\n     </g>\r\n    </g>\r\n    <g id=\"ytick_4\">\r\n     <g id=\"line2d_10\">\r\n      <g>\r\n       <use style=\"stroke:#000000;stroke-width:0.8;\" x=\"52.375\" xlink:href=\"#mcb5295c5f8\" y=\"220.128477\"/>\r\n      </g>\r\n     </g>\r\n     <g id=\"text_10\">\r\n      <!-- 60000 -->\r\n      <g transform=\"translate(13.5625 223.927696)scale(0.1 -0.1)\">\r\n       <use xlink:href=\"#DejaVuSans-54\"/>\r\n       <use x=\"63.623047\" xlink:href=\"#DejaVuSans-48\"/>\r\n       <use x=\"127.246094\" xlink:href=\"#DejaVuSans-48\"/>\r\n       <use x=\"190.869141\" xlink:href=\"#DejaVuSans-48\"/>\r\n       <use x=\"254.492188\" xlink:href=\"#DejaVuSans-48\"/>\r\n      </g>\r\n     </g>\r\n    </g>\r\n    <g id=\"ytick_5\">\r\n     <g id=\"line2d_11\">\r\n      <g>\r\n       <use style=\"stroke:#000000;stroke-width:0.8;\" x=\"52.375\" xlink:href=\"#mcb5295c5f8\" y=\"153.862345\"/>\r\n      </g>\r\n     </g>\r\n     <g id=\"text_11\">\r\n      <!-- 80000 -->\r\n      <g transform=\"translate(13.5625 157.661564)scale(0.1 -0.1)\">\r\n       <use xlink:href=\"#DejaVuSans-56\"/>\r\n       <use x=\"63.623047\" xlink:href=\"#DejaVuSans-48\"/>\r\n       <use x=\"127.246094\" xlink:href=\"#DejaVuSans-48\"/>\r\n       <use x=\"190.869141\" xlink:href=\"#DejaVuSans-48\"/>\r\n       <use x=\"254.492188\" xlink:href=\"#DejaVuSans-48\"/>\r\n      </g>\r\n     </g>\r\n    </g>\r\n    <g id=\"ytick_6\">\r\n     <g id=\"line2d_12\">\r\n      <g>\r\n       <use style=\"stroke:#000000;stroke-width:0.8;\" x=\"52.375\" xlink:href=\"#mcb5295c5f8\" y=\"87.596214\"/>\r\n      </g>\r\n     </g>\r\n     <g id=\"text_12\">\r\n      <!-- 100000 -->\r\n      <g transform=\"translate(7.2 91.395433)scale(0.1 -0.1)\">\r\n       <use xlink:href=\"#DejaVuSans-49\"/>\r\n       <use x=\"63.623047\" xlink:href=\"#DejaVuSans-48\"/>\r\n       <use x=\"127.246094\" xlink:href=\"#DejaVuSans-48\"/>\r\n       <use x=\"190.869141\" xlink:href=\"#DejaVuSans-48\"/>\r\n       <use x=\"254.492188\" xlink:href=\"#DejaVuSans-48\"/>\r\n       <use x=\"318.115234\" xlink:href=\"#DejaVuSans-48\"/>\r\n      </g>\r\n     </g>\r\n    </g>\r\n    <g id=\"ytick_7\">\r\n     <g id=\"line2d_13\">\r\n      <g>\r\n       <use style=\"stroke:#000000;stroke-width:0.8;\" x=\"52.375\" xlink:href=\"#mcb5295c5f8\" y=\"21.330082\"/>\r\n      </g>\r\n     </g>\r\n     <g id=\"text_13\">\r\n      <!-- 120000 -->\r\n      <g transform=\"translate(7.2 25.129301)scale(0.1 -0.1)\">\r\n       <use xlink:href=\"#DejaVuSans-49\"/>\r\n       <use x=\"63.623047\" xlink:href=\"#DejaVuSans-50\"/>\r\n       <use x=\"127.246094\" xlink:href=\"#DejaVuSans-48\"/>\r\n       <use x=\"190.869141\" xlink:href=\"#DejaVuSans-48\"/>\r\n       <use x=\"254.492188\" xlink:href=\"#DejaVuSans-48\"/>\r\n       <use x=\"318.115234\" xlink:href=\"#DejaVuSans-48\"/>\r\n      </g>\r\n     </g>\r\n    </g>\r\n   </g>\r\n   <g id=\"line2d_14\">\r\n    <path clip-path=\"url(#pc13d938631)\" d=\"M 81.225565 418.834099 \r\nL 86.383285 418.827473 \r\nL 91.541005 418.810906 \r\nL 96.698726 418.800966 \r\nL 101.856446 418.767833 \r\nL 107.014166 418.74464 \r\nL 112.171887 418.605481 \r\nL 117.329607 418.549155 \r\nL 122.487327 418.502769 \r\nL 127.645047 418.260897 \r\nL 132.802768 418.072039 \r\nL 137.960488 417.475644 \r\nL 143.118208 417.001841 \r\nL 148.275929 416.292793 \r\nL 153.433649 415.47772 \r\nL 158.591369 414.351196 \r\nL 163.74909 412.767435 \r\nL 168.90681 410.945116 \r\nL 174.06453 409.020085 \r\nL 179.222251 406.899569 \r\nL 184.379971 404.620014 \r\nL 189.537691 403.281438 \r\nL 194.695412 399.713007 \r\nL 199.853132 394.252678 \r\nL 205.010852 390.190564 \r\nL 210.168573 385.614888 \r\nL 215.326293 380.293717 \r\nL 220.484013 374.730675 \r\nL 225.641734 369.151067 \r\nL 230.799454 362.723252 \r\nL 235.957174 360.990393 \r\nL 241.114894 348.250729 \r\nL 246.272615 346.91878 \r\nL 251.430335 341.1967 \r\nL 256.588055 332.668248 \r\nL 261.745776 324.875351 \r\nL 266.903496 315.664359 \r\nL 272.061216 304.621108 \r\nL 277.218937 294.992639 \r\nL 282.376657 285.83466 \r\nL 287.534377 277.008011 \r\nL 292.692098 268.535886 \r\nL 297.849818 260.130027 \r\nL 303.007538 252.592255 \r\nL 308.165259 247.204818 \r\nL 313.322979 241.966481 \r\nL 318.480699 235.88325 \r\nL 323.63842 231.254561 \r\nL 328.79614 226.718644 \r\nL 333.95386 221.887843 \r\nL 339.11158 217.742896 \r\nL 344.269301 213.478671 \r\nL 349.427021 208.641243 \r\nL 354.584741 204.164966 \r\nL 359.742462 201.216123 \r\nL 364.900182 198.27722 \r\nL 370.057902 195.119639 \r\nL 375.215623 192.538573 \r\nL 380.373343 190.126486 \r\nL 385.531063 188.171635 \r\nL 390.688784 186.511668 \r\nL 395.846504 185.014054 \r\nL 401.004224 183.483306 \r\nL 406.161945 181.849846 \r\nL 411.319665 180.504644 \r\nL 416.477385 178.728711 \r\nL 421.635106 177.472968 \r\nL 426.792826 175.875954 \r\nL 431.950546 174.75937 \r\nL 437.108266 173.831644 \r\nL 442.265987 173.172296 \r\nL 447.423707 172.648794 \r\nL 452.581427 172.019265 \r\nL 457.739148 171.429497 \r\nL 462.896868 170.654183 \r\nL 468.054588 170.336106 \r\nL 473.212309 170.064415 \r\nL 478.370029 169.587298 \r\nL 483.527749 169.229461 \r\nL 488.68547 168.901444 \r\nL 493.84319 168.629753 \r\nL 499.00091 168.397821 \r\nL 504.158631 168.122817 \r\nL 509.316351 167.668894 \r\nL 514.474071 167.360756 \r\nL 519.631792 167.079125 \r\nL 524.789512 169.971642 \r\nL 529.947232 169.76953 \r\nL 535.104953 169.550852 \r\nL 540.262673 169.39844 \r\nL 545.420393 169.229461 \r\nL 550.578113 169.050543 \r\nL 555.735834 168.669513 \r\nL 560.893554 168.411075 \r\nL 566.051274 168.20565 \r\nL 571.208995 168.049924 \r\nL 576.366715 167.871006 \r\nL 581.524435 167.72522 \r\n\" style=\"fill:none;stroke:#ff0000;stroke-linecap:square;stroke-width:1.5;\"/>\r\n   </g>\r\n   <g id=\"line2d_15\">\r\n    <path clip-path=\"url(#pc13d938631)\" d=\"M 81.225565 418.926872 \r\nL 86.383285 418.926872 \r\nL 91.541005 418.926872 \r\nL 96.698726 418.926872 \r\nL 101.856446 418.926872 \r\nL 107.014166 418.926872 \r\nL 112.171887 418.926872 \r\nL 117.329607 418.926872 \r\nL 122.487327 418.926872 \r\nL 127.645047 418.926872 \r\nL 132.802768 418.926872 \r\nL 137.960488 418.926872 \r\nL 143.118208 418.926872 \r\nL 148.275929 418.926872 \r\nL 153.433649 418.926872 \r\nL 158.591369 418.926872 \r\nL 163.74909 418.926872 \r\nL 168.90681 418.926872 \r\nL 174.06453 418.916932 \r\nL 179.222251 418.916932 \r\nL 184.379971 418.916932 \r\nL 189.537691 418.916932 \r\nL 194.695412 418.916932 \r\nL 199.853132 418.916932 \r\nL 205.010852 418.916932 \r\nL 210.168573 418.916932 \r\nL 215.326293 418.916932 \r\nL 220.484013 418.916932 \r\nL 225.641734 418.916932 \r\nL 230.799454 418.916932 \r\nL 235.957174 418.910305 \r\nL 241.114894 418.910305 \r\nL 246.272615 418.910305 \r\nL 251.430335 418.910305 \r\nL 256.588055 418.906992 \r\nL 261.745776 418.906992 \r\nL 266.903496 418.906992 \r\nL 272.061216 418.903679 \r\nL 277.218937 418.903679 \r\nL 282.376657 418.903679 \r\nL 287.534377 418.903679 \r\nL 292.692098 418.903679 \r\nL 297.849818 418.903679 \r\nL 303.007538 418.903679 \r\nL 308.165259 418.903679 \r\nL 313.322979 418.903679 \r\nL 318.480699 418.903679 \r\nL 323.63842 418.903679 \r\nL 328.79614 418.900365 \r\nL 333.95386 418.900365 \r\nL 339.11158 418.887112 \r\nL 344.269301 418.887112 \r\nL 349.427021 418.887112 \r\nL 354.584741 418.887112 \r\nL 359.742462 418.870546 \r\nL 364.900182 418.870546 \r\nL 370.057902 418.578975 \r\nL 375.215623 418.525962 \r\nL 380.373343 418.439816 \r\nL 385.531063 418.34373 \r\nL 390.688784 418.337103 \r\nL 395.846504 418.337103 \r\nL 401.004224 417.773841 \r\nL 406.161945 417.730768 \r\nL 411.319665 416.67051 \r\nL 416.477385 416.047609 \r\nL 421.635106 415.375007 \r\nL 426.792826 410.09691 \r\nL 431.950546 400.22657 \r\nL 437.108266 395.654207 \r\nL 442.265987 390.849912 \r\nL 447.423707 389.103799 \r\nL 452.581427 386.764605 \r\nL 457.739148 370.380304 \r\nL 462.896868 361.116299 \r\nL 468.054588 354.049016 \r\nL 473.212309 346.819381 \r\nL 478.370029 340.868682 \r\nL 483.527749 334.735752 \r\nL 488.68547 323.536775 \r\nL 493.84319 315.319775 \r\nL 499.00091 309.627514 \r\nL 504.158631 274.857675 \r\nL 509.316351 260.67341 \r\nL 514.474071 246.316852 \r\nL 519.631792 237.679062 \r\nL 524.789512 224.949338 \r\nL 529.947232 204.092073 \r\nL 535.104953 185.878827 \r\nL 540.262673 179.27872 \r\nL 545.420393 169.752964 \r\nL 550.578113 162.589595 \r\nL 555.735834 153.189744 \r\nL 560.893554 90.647769 \r\nL 566.051274 86.363664 \r\nL 571.208995 64.442827 \r\nL 576.366715 49.744999 \r\nL 581.524435 34.79536 \r\n\" style=\"fill:none;stroke:#0000ff;stroke-linecap:square;stroke-width:1.5;\"/>\r\n   </g>\r\n   <g id=\"line2d_16\">\r\n    <path clip-path=\"url(#pc13d938631)\" d=\"M 81.225565 418.926872 \r\nL 86.383285 418.926872 \r\nL 91.541005 418.926872 \r\nL 96.698726 418.926872 \r\nL 101.856446 418.926872 \r\nL 107.014166 418.926872 \r\nL 112.171887 418.926872 \r\nL 117.329607 418.926872 \r\nL 122.487327 418.926872 \r\nL 127.645047 418.926872 \r\nL 132.802768 418.926872 \r\nL 137.960488 418.926872 \r\nL 143.118208 418.926872 \r\nL 148.275929 418.926872 \r\nL 153.433649 418.926872 \r\nL 158.591369 418.926872 \r\nL 163.74909 418.926872 \r\nL 168.90681 418.926872 \r\nL 174.06453 418.926872 \r\nL 179.222251 418.926872 \r\nL 184.379971 418.926872 \r\nL 189.537691 418.926872 \r\nL 194.695412 418.923559 \r\nL 199.853132 418.923559 \r\nL 205.010852 418.923559 \r\nL 210.168573 418.923559 \r\nL 215.326293 418.923559 \r\nL 220.484013 418.887112 \r\nL 225.641734 418.887112 \r\nL 230.799454 418.887112 \r\nL 235.957174 418.880486 \r\nL 241.114894 418.880486 \r\nL 246.272615 418.880486 \r\nL 251.430335 418.880486 \r\nL 256.588055 418.880486 \r\nL 261.745776 418.877172 \r\nL 266.903496 418.873859 \r\nL 272.061216 418.873859 \r\nL 277.218937 418.873859 \r\nL 282.376657 418.873859 \r\nL 287.534377 418.873859 \r\nL 292.692098 418.873859 \r\nL 297.849818 418.873859 \r\nL 303.007538 418.873859 \r\nL 308.165259 418.870546 \r\nL 313.322979 418.867232 \r\nL 318.480699 418.867232 \r\nL 323.63842 418.867232 \r\nL 328.79614 418.867232 \r\nL 333.95386 418.844039 \r\nL 339.11158 418.844039 \r\nL 344.269301 418.77446 \r\nL 349.427021 418.77446 \r\nL 354.584741 418.77446 \r\nL 359.742462 418.70488 \r\nL 364.900182 418.70488 \r\nL 370.057902 418.578975 \r\nL 375.215623 418.552468 \r\nL 380.373343 418.330477 \r\nL 385.531063 418.154872 \r\nL 390.688784 418.045532 \r\nL 395.846504 418.045532 \r\nL 401.004224 408.181819 \r\nL 406.161945 407.174574 \r\nL 411.319665 400.130484 \r\nL 416.477385 396.866877 \r\nL 421.635106 390.826719 \r\nL 426.792826 388.408005 \r\nL 431.950546 374.197233 \r\nL 437.108266 365.582636 \r\nL 442.265987 356.968039 \r\nL 447.423707 344.576272 \r\nL 452.581427 337.502363 \r\nL 457.739148 331.455578 \r\nL 462.896868 323.834973 \r\nL 468.054588 323.834973 \r\nL 473.212309 299.379457 \r\nL 478.370029 265.520777 \r\nL 483.527749 245.286414 \r\nL 488.68547 240.296574 \r\nL 493.84319 228.743074 \r\nL 499.00091 219.134485 \r\nL 504.158631 205.881259 \r\nL 509.316351 192.959363 \r\nL 514.474071 178.380814 \r\nL 519.631792 163.802265 \r\nL 524.789512 143.544709 \r\nL 529.947232 135.97049 \r\nL 535.104953 127.355893 \r\nL 540.262673 115.75932 \r\nL 545.420393 103.500085 \r\nL 550.578113 89.584198 \r\nL 555.735834 76.662302 \r\nL 560.893554 55.125809 \r\nL 566.051274 55.125809 \r\nL 571.208995 47.836535 \r\nL 576.366715 39.553268 \r\nL 581.524435 29.944679 \r\n\" style=\"fill:none;stroke:#ffff00;stroke-linecap:square;stroke-width:1.5;\"/>\r\n   </g>\r\n   <g id=\"line2d_17\">\r\n    <path clip-path=\"url(#pc13d938631)\" d=\"M 81.225565 418.926872 \r\nL 86.383285 418.926872 \r\nL 91.541005 418.926872 \r\nL 96.698726 418.926872 \r\nL 101.856446 418.926872 \r\nL 107.014166 418.926872 \r\nL 112.171887 418.926872 \r\nL 117.329607 418.926872 \r\nL 122.487327 418.926872 \r\nL 127.645047 418.926872 \r\nL 132.802768 418.926872 \r\nL 137.960488 418.926872 \r\nL 143.118208 418.926872 \r\nL 148.275929 418.926872 \r\nL 153.433649 418.926872 \r\nL 158.591369 418.926872 \r\nL 163.74909 418.926872 \r\nL 168.90681 418.926872 \r\nL 174.06453 418.926872 \r\nL 179.222251 418.926872 \r\nL 184.379971 418.926872 \r\nL 189.537691 418.926872 \r\nL 194.695412 418.926872 \r\nL 199.853132 418.926872 \r\nL 205.010852 418.926872 \r\nL 210.168573 418.916932 \r\nL 215.326293 418.916932 \r\nL 220.484013 418.916932 \r\nL 225.641734 418.916932 \r\nL 230.799454 418.916932 \r\nL 235.957174 418.916932 \r\nL 241.114894 418.916932 \r\nL 246.272615 418.916932 \r\nL 251.430335 418.916932 \r\nL 256.588055 418.916932 \r\nL 261.745776 418.916932 \r\nL 266.903496 418.916932 \r\nL 272.061216 418.916932 \r\nL 277.218937 418.916932 \r\nL 282.376657 418.916932 \r\nL 287.534377 418.916932 \r\nL 292.692098 418.916932 \r\nL 297.849818 418.916932 \r\nL 303.007538 418.916932 \r\nL 308.165259 418.916932 \r\nL 313.322979 418.916932 \r\nL 318.480699 418.916932 \r\nL 323.63842 418.916932 \r\nL 328.79614 418.913619 \r\nL 333.95386 418.913619 \r\nL 339.11158 418.913619 \r\nL 344.269301 418.913619 \r\nL 349.427021 418.913619 \r\nL 354.584741 418.883799 \r\nL 359.742462 418.883799 \r\nL 364.900182 418.880486 \r\nL 370.057902 418.880486 \r\nL 375.215623 418.877172 \r\nL 380.373343 418.860606 \r\nL 385.531063 418.850666 \r\nL 390.688784 418.837413 \r\nL 395.846504 418.837413 \r\nL 401.004224 418.79434 \r\nL 406.161945 418.7844 \r\nL 411.319665 418.777773 \r\nL 416.477385 418.685001 \r\nL 421.635106 418.648554 \r\nL 426.792826 418.612108 \r\nL 431.950546 418.588915 \r\nL 437.108266 418.519335 \r\nL 442.265987 418.436503 \r\nL 447.423707 418.29403 \r\nL 452.581427 418.290717 \r\nL 457.739148 418.168125 \r\nL 462.896868 418.168125 \r\nL 468.054588 417.684382 \r\nL 473.212309 417.53197 \r\nL 478.370029 417.250339 \r\nL 483.527749 416.872622 \r\nL 488.68547 416.362373 \r\nL 493.84319 415.716278 \r\nL 499.00091 415.348501 \r\nL 504.158631 415.013857 \r\nL 509.316351 414.424088 \r\nL 514.474071 414.182217 \r\nL 519.631792 413.068946 \r\nL 524.789512 412.164413 \r\nL 529.947232 410.766198 \r\nL 535.104953 409.470695 \r\nL 540.262673 408.08242 \r\nL 545.420393 405.756478 \r\nL 550.578113 404.447722 \r\nL 555.735834 402.320579 \r\nL 560.893554 400.710312 \r\nL 566.051274 399.249144 \r\nL 571.208995 397.314173 \r\nL 576.366715 395.279803 \r\nL 581.524435 393.258686 \r\n\" style=\"fill:none;stroke:#008000;stroke-linecap:square;stroke-width:1.5;\"/>\r\n   </g>\r\n   <g id=\"line2d_18\">\r\n    <path clip-path=\"url(#pc13d938631)\" d=\"M 81.225565 418.926872 \r\nL 86.383285 418.926872 \r\nL 91.541005 418.926872 \r\nL 96.698726 418.926872 \r\nL 101.856446 418.926872 \r\nL 107.014166 418.926872 \r\nL 112.171887 418.926872 \r\nL 117.329607 418.926872 \r\nL 122.487327 418.926872 \r\nL 127.645047 418.926872 \r\nL 132.802768 418.926872 \r\nL 137.960488 418.926872 \r\nL 143.118208 418.926872 \r\nL 148.275929 418.926872 \r\nL 153.433649 418.926872 \r\nL 158.591369 418.926872 \r\nL 163.74909 418.926872 \r\nL 168.90681 418.926872 \r\nL 174.06453 418.926872 \r\nL 179.222251 418.926872 \r\nL 184.379971 418.926872 \r\nL 189.537691 418.926872 \r\nL 194.695412 418.926872 \r\nL 199.853132 418.926872 \r\nL 205.010852 418.926872 \r\nL 210.168573 418.926872 \r\nL 215.326293 418.926872 \r\nL 220.484013 418.926872 \r\nL 225.641734 418.926872 \r\nL 230.799454 418.926872 \r\nL 235.957174 418.926872 \r\nL 241.114894 418.923559 \r\nL 246.272615 418.920245 \r\nL 251.430335 418.923559 \r\nL 256.588055 418.923559 \r\nL 261.745776 418.916932 \r\nL 266.903496 418.777773 \r\nL 272.061216 418.77446 \r\nL 277.218937 418.77446 \r\nL 282.376657 418.651868 \r\nL 287.534377 418.433189 \r\nL 292.692098 418.396743 \r\nL 297.849818 418.012399 \r\nL 303.007538 417.555163 \r\nL 308.165259 417.194013 \r\nL 313.322979 416.975334 \r\nL 318.480699 416.865995 \r\nL 323.63842 416.528038 \r\nL 328.79614 416.528038 \r\nL 333.95386 415.464467 \r\nL 339.11158 415.464467 \r\nL 344.269301 414.159024 \r\nL 349.427021 412.412911 \r\nL 354.584741 411.190301 \r\nL 359.742462 409.818592 \r\nL 364.900182 409.182437 \r\nL 370.057902 405.590813 \r\nL 375.215623 404.215791 \r\nL 380.373343 404.215791 \r\nL 385.531063 398.808474 \r\nL 390.688784 395.654207 \r\nL 395.846504 395.654207 \r\nL 401.004224 391.340281 \r\nL 406.161945 387.907696 \r\nL 411.319665 384.597702 \r\nL 416.477385 382.646165 \r\nL 421.635106 377.894883 \r\nL 426.792826 375.754487 \r\nL 431.950546 370.48633 \r\nL 437.108266 366.811873 \r\nL 442.265987 363.107596 \r\nL 447.423707 358.366254 \r\nL 452.581427 353.462561 \r\nL 457.739148 349.360687 \r\nL 462.896868 346.647089 \r\nL 468.054588 343.26089 \r\nL 473.212309 338.108698 \r\nL 478.370029 331.154067 \r\nL 483.527749 324.597034 \r\nL 488.68547 318.02012 \r\nL 493.84319 311.131756 \r\nL 499.00091 305.57534 \r\nL 504.158631 301.519853 \r\nL 509.316351 295.903799 \r\nL 514.474071 292.716398 \r\nL 519.631792 285.851226 \r\nL 524.789512 277.359222 \r\nL 529.947232 270.069947 \r\nL 535.104953 263.019231 \r\nL 540.262673 256.982386 \r\nL 545.420393 247.960252 \r\nL 550.578113 238.209191 \r\nL 555.735834 228.159932 \r\nL 560.893554 218.47845 \r\nL 566.051274 209.790961 \r\nL 571.208995 203.800502 \r\nL 576.366715 198.181134 \r\nL 581.524435 190.504203 \r\n\" style=\"fill:none;stroke:#000000;stroke-linecap:square;stroke-width:1.5;\"/>\r\n   </g>\r\n   <g id=\"patch_3\">\r\n    <path d=\"M 52.375 442.08 \r\nL 52.375 7.2 \r\n\" style=\"fill:none;stroke:#000000;stroke-linecap:square;stroke-linejoin:miter;stroke-width:0.8;\"/>\r\n   </g>\r\n   <g id=\"patch_4\">\r\n    <path d=\"M 610.375 442.08 \r\nL 610.375 7.2 \r\n\" style=\"fill:none;stroke:#000000;stroke-linecap:square;stroke-linejoin:miter;stroke-width:0.8;\"/>\r\n   </g>\r\n   <g id=\"patch_5\">\r\n    <path d=\"M 52.375 442.08 \r\nL 610.375 442.08 \r\n\" style=\"fill:none;stroke:#000000;stroke-linecap:square;stroke-linejoin:miter;stroke-width:0.8;\"/>\r\n   </g>\r\n   <g id=\"patch_6\">\r\n    <path d=\"M 52.375 7.2 \r\nL 610.375 7.2 \r\n\" style=\"fill:none;stroke:#000000;stroke-linecap:square;stroke-linejoin:miter;stroke-width:0.8;\"/>\r\n   </g>\r\n   <g id=\"legend_1\">\r\n    <g id=\"patch_7\">\r\n     <path d=\"M 59.375 88.590625 \r\nL 137.510938 88.590625 \r\nQ 139.510938 88.590625 139.510938 86.590625 \r\nL 139.510938 14.2 \r\nQ 139.510938 12.2 137.510938 12.2 \r\nL 59.375 12.2 \r\nQ 57.375 12.2 57.375 14.2 \r\nL 57.375 86.590625 \r\nQ 57.375 88.590625 59.375 88.590625 \r\nz\r\n\" style=\"fill:#ffffff;opacity:0.8;stroke:#cccccc;stroke-linejoin:miter;\"/>\r\n    </g>\r\n    <g id=\"line2d_19\">\r\n     <path d=\"M 61.375 20.298437 \r\nL 81.375 20.298437 \r\n\" style=\"fill:none;stroke:#ff0000;stroke-linecap:square;stroke-width:1.5;\"/>\r\n    </g>\r\n    <g id=\"line2d_20\"/>\r\n    <g id=\"text_14\">\r\n     <!-- China -->\r\n     <defs>\r\n      <path d=\"M 64.40625 67.28125 \r\nL 64.40625 56.890625 \r\nQ 59.421875 61.53125 53.78125 63.8125 \r\nQ 48.140625 66.109375 41.796875 66.109375 \r\nQ 29.296875 66.109375 22.65625 58.46875 \r\nQ 16.015625 50.828125 16.015625 36.375 \r\nQ 16.015625 21.96875 22.65625 14.328125 \r\nQ 29.296875 6.6875 41.796875 6.6875 \r\nQ 48.140625 6.6875 53.78125 8.984375 \r\nQ 59.421875 11.28125 64.40625 15.921875 \r\nL 64.40625 5.609375 \r\nQ 59.234375 2.09375 53.4375 0.328125 \r\nQ 47.65625 -1.421875 41.21875 -1.421875 \r\nQ 24.65625 -1.421875 15.125 8.703125 \r\nQ 5.609375 18.84375 5.609375 36.375 \r\nQ 5.609375 53.953125 15.125 64.078125 \r\nQ 24.65625 74.21875 41.21875 74.21875 \r\nQ 47.75 74.21875 53.53125 72.484375 \r\nQ 59.328125 70.75 64.40625 67.28125 \r\nz\r\n\" id=\"DejaVuSans-67\"/>\r\n      <path d=\"M 54.890625 33.015625 \r\nL 54.890625 0 \r\nL 45.90625 0 \r\nL 45.90625 32.71875 \r\nQ 45.90625 40.484375 42.875 44.328125 \r\nQ 39.84375 48.1875 33.796875 48.1875 \r\nQ 26.515625 48.1875 22.3125 43.546875 \r\nQ 18.109375 38.921875 18.109375 30.90625 \r\nL 18.109375 0 \r\nL 9.078125 0 \r\nL 9.078125 75.984375 \r\nL 18.109375 75.984375 \r\nL 18.109375 46.1875 \r\nQ 21.34375 51.125 25.703125 53.5625 \r\nQ 30.078125 56 35.796875 56 \r\nQ 45.21875 56 50.046875 50.171875 \r\nQ 54.890625 44.34375 54.890625 33.015625 \r\nz\r\n\" id=\"DejaVuSans-104\"/>\r\n      <path d=\"M 9.421875 54.6875 \r\nL 18.40625 54.6875 \r\nL 18.40625 0 \r\nL 9.421875 0 \r\nz\r\nM 9.421875 75.984375 \r\nL 18.40625 75.984375 \r\nL 18.40625 64.59375 \r\nL 9.421875 64.59375 \r\nz\r\n\" id=\"DejaVuSans-105\"/>\r\n      <path d=\"M 54.890625 33.015625 \r\nL 54.890625 0 \r\nL 45.90625 0 \r\nL 45.90625 32.71875 \r\nQ 45.90625 40.484375 42.875 44.328125 \r\nQ 39.84375 48.1875 33.796875 48.1875 \r\nQ 26.515625 48.1875 22.3125 43.546875 \r\nQ 18.109375 38.921875 18.109375 30.90625 \r\nL 18.109375 0 \r\nL 9.078125 0 \r\nL 9.078125 54.6875 \r\nL 18.109375 54.6875 \r\nL 18.109375 46.1875 \r\nQ 21.34375 51.125 25.703125 53.5625 \r\nQ 30.078125 56 35.796875 56 \r\nQ 45.21875 56 50.046875 50.171875 \r\nQ 54.890625 44.34375 54.890625 33.015625 \r\nz\r\n\" id=\"DejaVuSans-110\"/>\r\n      <path d=\"M 34.28125 27.484375 \r\nQ 23.390625 27.484375 19.1875 25 \r\nQ 14.984375 22.515625 14.984375 16.5 \r\nQ 14.984375 11.71875 18.140625 8.90625 \r\nQ 21.296875 6.109375 26.703125 6.109375 \r\nQ 34.1875 6.109375 38.703125 11.40625 \r\nQ 43.21875 16.703125 43.21875 25.484375 \r\nL 43.21875 27.484375 \r\nz\r\nM 52.203125 31.203125 \r\nL 52.203125 0 \r\nL 43.21875 0 \r\nL 43.21875 8.296875 \r\nQ 40.140625 3.328125 35.546875 0.953125 \r\nQ 30.953125 -1.421875 24.3125 -1.421875 \r\nQ 15.921875 -1.421875 10.953125 3.296875 \r\nQ 6 8.015625 6 15.921875 \r\nQ 6 25.140625 12.171875 29.828125 \r\nQ 18.359375 34.515625 30.609375 34.515625 \r\nL 43.21875 34.515625 \r\nL 43.21875 35.40625 \r\nQ 43.21875 41.609375 39.140625 45 \r\nQ 35.0625 48.390625 27.6875 48.390625 \r\nQ 23 48.390625 18.546875 47.265625 \r\nQ 14.109375 46.140625 10.015625 43.890625 \r\nL 10.015625 52.203125 \r\nQ 14.9375 54.109375 19.578125 55.046875 \r\nQ 24.21875 56 28.609375 56 \r\nQ 40.484375 56 46.34375 49.84375 \r\nQ 52.203125 43.703125 52.203125 31.203125 \r\nz\r\n\" id=\"DejaVuSans-97\"/>\r\n     </defs>\r\n     <g transform=\"translate(89.375 23.798437)scale(0.1 -0.1)\">\r\n      <use xlink:href=\"#DejaVuSans-67\"/>\r\n      <use x=\"69.824219\" xlink:href=\"#DejaVuSans-104\"/>\r\n      <use x=\"133.203125\" xlink:href=\"#DejaVuSans-105\"/>\r\n      <use x=\"160.986328\" xlink:href=\"#DejaVuSans-110\"/>\r\n      <use x=\"224.365234\" xlink:href=\"#DejaVuSans-97\"/>\r\n     </g>\r\n    </g>\r\n    <g id=\"line2d_21\">\r\n     <path d=\"M 61.375 34.976562 \r\nL 81.375 34.976562 \r\n\" style=\"fill:none;stroke:#0000ff;stroke-linecap:square;stroke-width:1.5;\"/>\r\n    </g>\r\n    <g id=\"line2d_22\"/>\r\n    <g id=\"text_15\">\r\n     <!-- US -->\r\n     <defs>\r\n      <path d=\"M 8.6875 72.90625 \r\nL 18.609375 72.90625 \r\nL 18.609375 28.609375 \r\nQ 18.609375 16.890625 22.84375 11.734375 \r\nQ 27.09375 6.59375 36.625 6.59375 \r\nQ 46.09375 6.59375 50.34375 11.734375 \r\nQ 54.59375 16.890625 54.59375 28.609375 \r\nL 54.59375 72.90625 \r\nL 64.5 72.90625 \r\nL 64.5 27.390625 \r\nQ 64.5 13.140625 57.4375 5.859375 \r\nQ 50.390625 -1.421875 36.625 -1.421875 \r\nQ 22.796875 -1.421875 15.734375 5.859375 \r\nQ 8.6875 13.140625 8.6875 27.390625 \r\nz\r\n\" id=\"DejaVuSans-85\"/>\r\n      <path d=\"M 53.515625 70.515625 \r\nL 53.515625 60.890625 \r\nQ 47.90625 63.578125 42.921875 64.890625 \r\nQ 37.9375 66.21875 33.296875 66.21875 \r\nQ 25.25 66.21875 20.875 63.09375 \r\nQ 16.5 59.96875 16.5 54.203125 \r\nQ 16.5 49.359375 19.40625 46.890625 \r\nQ 22.3125 44.4375 30.421875 42.921875 \r\nL 36.375 41.703125 \r\nQ 47.40625 39.59375 52.65625 34.296875 \r\nQ 57.90625 29 57.90625 20.125 \r\nQ 57.90625 9.515625 50.796875 4.046875 \r\nQ 43.703125 -1.421875 29.984375 -1.421875 \r\nQ 24.8125 -1.421875 18.96875 -0.25 \r\nQ 13.140625 0.921875 6.890625 3.21875 \r\nL 6.890625 13.375 \r\nQ 12.890625 10.015625 18.65625 8.296875 \r\nQ 24.421875 6.59375 29.984375 6.59375 \r\nQ 38.421875 6.59375 43.015625 9.90625 \r\nQ 47.609375 13.234375 47.609375 19.390625 \r\nQ 47.609375 24.75 44.3125 27.78125 \r\nQ 41.015625 30.8125 33.5 32.328125 \r\nL 27.484375 33.5 \r\nQ 16.453125 35.6875 11.515625 40.375 \r\nQ 6.59375 45.0625 6.59375 53.421875 \r\nQ 6.59375 63.09375 13.40625 68.65625 \r\nQ 20.21875 74.21875 32.171875 74.21875 \r\nQ 37.3125 74.21875 42.625 73.28125 \r\nQ 47.953125 72.359375 53.515625 70.515625 \r\nz\r\n\" id=\"DejaVuSans-83\"/>\r\n     </defs>\r\n     <g transform=\"translate(89.375 38.476562)scale(0.1 -0.1)\">\r\n      <use xlink:href=\"#DejaVuSans-85\"/>\r\n      <use x=\"73.193359\" xlink:href=\"#DejaVuSans-83\"/>\r\n     </g>\r\n    </g>\r\n    <g id=\"line2d_23\">\r\n     <path d=\"M 61.375 49.654687 \r\nL 81.375 49.654687 \r\n\" style=\"fill:none;stroke:#ffff00;stroke-linecap:square;stroke-width:1.5;\"/>\r\n    </g>\r\n    <g id=\"line2d_24\"/>\r\n    <g id=\"text_16\">\r\n     <!-- Germany -->\r\n     <defs>\r\n      <path d=\"M 59.515625 10.40625 \r\nL 59.515625 29.984375 \r\nL 43.40625 29.984375 \r\nL 43.40625 38.09375 \r\nL 69.28125 38.09375 \r\nL 69.28125 6.78125 \r\nQ 63.578125 2.734375 56.6875 0.65625 \r\nQ 49.8125 -1.421875 42 -1.421875 \r\nQ 24.90625 -1.421875 15.25 8.5625 \r\nQ 5.609375 18.5625 5.609375 36.375 \r\nQ 5.609375 54.25 15.25 64.234375 \r\nQ 24.90625 74.21875 42 74.21875 \r\nQ 49.125 74.21875 55.546875 72.453125 \r\nQ 61.96875 70.703125 67.390625 67.28125 \r\nL 67.390625 56.78125 \r\nQ 61.921875 61.421875 55.765625 63.765625 \r\nQ 49.609375 66.109375 42.828125 66.109375 \r\nQ 29.4375 66.109375 22.71875 58.640625 \r\nQ 16.015625 51.171875 16.015625 36.375 \r\nQ 16.015625 21.625 22.71875 14.15625 \r\nQ 29.4375 6.6875 42.828125 6.6875 \r\nQ 48.046875 6.6875 52.140625 7.59375 \r\nQ 56.25 8.5 59.515625 10.40625 \r\nz\r\n\" id=\"DejaVuSans-71\"/>\r\n      <path d=\"M 56.203125 29.59375 \r\nL 56.203125 25.203125 \r\nL 14.890625 25.203125 \r\nQ 15.484375 15.921875 20.484375 11.0625 \r\nQ 25.484375 6.203125 34.421875 6.203125 \r\nQ 39.59375 6.203125 44.453125 7.46875 \r\nQ 49.3125 8.734375 54.109375 11.28125 \r\nL 54.109375 2.78125 \r\nQ 49.265625 0.734375 44.1875 -0.34375 \r\nQ 39.109375 -1.421875 33.890625 -1.421875 \r\nQ 20.796875 -1.421875 13.15625 6.1875 \r\nQ 5.515625 13.8125 5.515625 26.8125 \r\nQ 5.515625 40.234375 12.765625 48.109375 \r\nQ 20.015625 56 32.328125 56 \r\nQ 43.359375 56 49.78125 48.890625 \r\nQ 56.203125 41.796875 56.203125 29.59375 \r\nz\r\nM 47.21875 32.234375 \r\nQ 47.125 39.59375 43.09375 43.984375 \r\nQ 39.0625 48.390625 32.421875 48.390625 \r\nQ 24.90625 48.390625 20.390625 44.140625 \r\nQ 15.875 39.890625 15.1875 32.171875 \r\nz\r\n\" id=\"DejaVuSans-101\"/>\r\n      <path d=\"M 41.109375 46.296875 \r\nQ 39.59375 47.171875 37.8125 47.578125 \r\nQ 36.03125 48 33.890625 48 \r\nQ 26.265625 48 22.1875 43.046875 \r\nQ 18.109375 38.09375 18.109375 28.8125 \r\nL 18.109375 0 \r\nL 9.078125 0 \r\nL 9.078125 54.6875 \r\nL 18.109375 54.6875 \r\nL 18.109375 46.1875 \r\nQ 20.953125 51.171875 25.484375 53.578125 \r\nQ 30.03125 56 36.53125 56 \r\nQ 37.453125 56 38.578125 55.875 \r\nQ 39.703125 55.765625 41.0625 55.515625 \r\nz\r\n\" id=\"DejaVuSans-114\"/>\r\n      <path d=\"M 52 44.1875 \r\nQ 55.375 50.25 60.0625 53.125 \r\nQ 64.75 56 71.09375 56 \r\nQ 79.640625 56 84.28125 50.015625 \r\nQ 88.921875 44.046875 88.921875 33.015625 \r\nL 88.921875 0 \r\nL 79.890625 0 \r\nL 79.890625 32.71875 \r\nQ 79.890625 40.578125 77.09375 44.375 \r\nQ 74.3125 48.1875 68.609375 48.1875 \r\nQ 61.625 48.1875 57.5625 43.546875 \r\nQ 53.515625 38.921875 53.515625 30.90625 \r\nL 53.515625 0 \r\nL 44.484375 0 \r\nL 44.484375 32.71875 \r\nQ 44.484375 40.625 41.703125 44.40625 \r\nQ 38.921875 48.1875 33.109375 48.1875 \r\nQ 26.21875 48.1875 22.15625 43.53125 \r\nQ 18.109375 38.875 18.109375 30.90625 \r\nL 18.109375 0 \r\nL 9.078125 0 \r\nL 9.078125 54.6875 \r\nL 18.109375 54.6875 \r\nL 18.109375 46.1875 \r\nQ 21.1875 51.21875 25.484375 53.609375 \r\nQ 29.78125 56 35.6875 56 \r\nQ 41.65625 56 45.828125 52.96875 \r\nQ 50 49.953125 52 44.1875 \r\nz\r\n\" id=\"DejaVuSans-109\"/>\r\n      <path d=\"M 32.171875 -5.078125 \r\nQ 28.375 -14.84375 24.75 -17.8125 \r\nQ 21.140625 -20.796875 15.09375 -20.796875 \r\nL 7.90625 -20.796875 \r\nL 7.90625 -13.28125 \r\nL 13.1875 -13.28125 \r\nQ 16.890625 -13.28125 18.9375 -11.515625 \r\nQ 21 -9.765625 23.484375 -3.21875 \r\nL 25.09375 0.875 \r\nL 2.984375 54.6875 \r\nL 12.5 54.6875 \r\nL 29.59375 11.921875 \r\nL 46.6875 54.6875 \r\nL 56.203125 54.6875 \r\nz\r\n\" id=\"DejaVuSans-121\"/>\r\n     </defs>\r\n     <g transform=\"translate(89.375 53.154687)scale(0.1 -0.1)\">\r\n      <use xlink:href=\"#DejaVuSans-71\"/>\r\n      <use x=\"77.490234\" xlink:href=\"#DejaVuSans-101\"/>\r\n      <use x=\"139.013672\" xlink:href=\"#DejaVuSans-114\"/>\r\n      <use x=\"180.111328\" xlink:href=\"#DejaVuSans-109\"/>\r\n      <use x=\"277.523438\" xlink:href=\"#DejaVuSans-97\"/>\r\n      <use x=\"338.802734\" xlink:href=\"#DejaVuSans-110\"/>\r\n      <use x=\"402.181641\" xlink:href=\"#DejaVuSans-121\"/>\r\n     </g>\r\n    </g>\r\n    <g id=\"line2d_25\">\r\n     <path d=\"M 61.375 64.332812 \r\nL 81.375 64.332812 \r\n\" style=\"fill:none;stroke:#008000;stroke-linecap:square;stroke-width:1.5;\"/>\r\n    </g>\r\n    <g id=\"line2d_26\"/>\r\n    <g id=\"text_17\">\r\n     <!-- India -->\r\n     <defs>\r\n      <path d=\"M 9.8125 72.90625 \r\nL 19.671875 72.90625 \r\nL 19.671875 0 \r\nL 9.8125 0 \r\nz\r\n\" id=\"DejaVuSans-73\"/>\r\n      <path d=\"M 45.40625 46.390625 \r\nL 45.40625 75.984375 \r\nL 54.390625 75.984375 \r\nL 54.390625 0 \r\nL 45.40625 0 \r\nL 45.40625 8.203125 \r\nQ 42.578125 3.328125 38.25 0.953125 \r\nQ 33.9375 -1.421875 27.875 -1.421875 \r\nQ 17.96875 -1.421875 11.734375 6.484375 \r\nQ 5.515625 14.40625 5.515625 27.296875 \r\nQ 5.515625 40.1875 11.734375 48.09375 \r\nQ 17.96875 56 27.875 56 \r\nQ 33.9375 56 38.25 53.625 \r\nQ 42.578125 51.265625 45.40625 46.390625 \r\nz\r\nM 14.796875 27.296875 \r\nQ 14.796875 17.390625 18.875 11.75 \r\nQ 22.953125 6.109375 30.078125 6.109375 \r\nQ 37.203125 6.109375 41.296875 11.75 \r\nQ 45.40625 17.390625 45.40625 27.296875 \r\nQ 45.40625 37.203125 41.296875 42.84375 \r\nQ 37.203125 48.484375 30.078125 48.484375 \r\nQ 22.953125 48.484375 18.875 42.84375 \r\nQ 14.796875 37.203125 14.796875 27.296875 \r\nz\r\n\" id=\"DejaVuSans-100\"/>\r\n     </defs>\r\n     <g transform=\"translate(89.375 67.832812)scale(0.1 -0.1)\">\r\n      <use xlink:href=\"#DejaVuSans-73\"/>\r\n      <use x=\"29.492188\" xlink:href=\"#DejaVuSans-110\"/>\r\n      <use x=\"92.871094\" xlink:href=\"#DejaVuSans-100\"/>\r\n      <use x=\"156.347656\" xlink:href=\"#DejaVuSans-105\"/>\r\n      <use x=\"184.130859\" xlink:href=\"#DejaVuSans-97\"/>\r\n     </g>\r\n    </g>\r\n    <g id=\"line2d_27\">\r\n     <path d=\"M 61.375 79.010937 \r\nL 81.375 79.010937 \r\n\" style=\"fill:none;stroke:#000000;stroke-linecap:square;stroke-width:1.5;\"/>\r\n    </g>\r\n    <g id=\"line2d_28\"/>\r\n    <g id=\"text_18\">\r\n     <!-- Italy -->\r\n     <defs>\r\n      <path d=\"M 18.3125 70.21875 \r\nL 18.3125 54.6875 \r\nL 36.8125 54.6875 \r\nL 36.8125 47.703125 \r\nL 18.3125 47.703125 \r\nL 18.3125 18.015625 \r\nQ 18.3125 11.328125 20.140625 9.421875 \r\nQ 21.96875 7.515625 27.59375 7.515625 \r\nL 36.8125 7.515625 \r\nL 36.8125 0 \r\nL 27.59375 0 \r\nQ 17.1875 0 13.234375 3.875 \r\nQ 9.28125 7.765625 9.28125 18.015625 \r\nL 9.28125 47.703125 \r\nL 2.6875 47.703125 \r\nL 2.6875 54.6875 \r\nL 9.28125 54.6875 \r\nL 9.28125 70.21875 \r\nz\r\n\" id=\"DejaVuSans-116\"/>\r\n      <path d=\"M 9.421875 75.984375 \r\nL 18.40625 75.984375 \r\nL 18.40625 0 \r\nL 9.421875 0 \r\nz\r\n\" id=\"DejaVuSans-108\"/>\r\n     </defs>\r\n     <g transform=\"translate(89.375 82.510937)scale(0.1 -0.1)\">\r\n      <use xlink:href=\"#DejaVuSans-73\"/>\r\n      <use x=\"29.492188\" xlink:href=\"#DejaVuSans-116\"/>\r\n      <use x=\"68.701172\" xlink:href=\"#DejaVuSans-97\"/>\r\n      <use x=\"129.980469\" xlink:href=\"#DejaVuSans-108\"/>\r\n      <use x=\"157.763672\" xlink:href=\"#DejaVuSans-121\"/>\r\n     </g>\r\n    </g>\r\n   </g>\r\n  </g>\r\n </g>\r\n <defs>\r\n  <clipPath id=\"pc13d938631\">\r\n   <rect height=\"434.88\" width=\"558\" x=\"52.375\" y=\"7.2\"/>\r\n  </clipPath>\r\n </defs>\r\n</svg>\r\n",
            "image/png": "[encoded data removed]"
          },
          "metadata": {
            "needs_background": "light"
          }
        }
      ]
    },
    {
      "cell_type": "markdown",
      "metadata": {
        "colab": {},
        "colab_type": "code",
        "id": "Tri0BybaVULa"
      },
      "source": [
        "# Forecasting of Time Series "
      ]
    },
    {
      "cell_type": "code",
      "metadata": {
        "id": "Zdg7yxJBZFdd",
        "colab_type": "code",
        "colab": {}
      },
      "source": [
        "### Using library Fbprophet - Time Series Analysis(Forecasting) - Created by Facebook\n",
        "### Using ARIMA (ARIMA is an acronym that stands for AutoRegressive Integrated Moving Average.)\n",
        "\n",
        "### Forcasting for confirmed cases"
      ],
      "execution_count": 29,
      "outputs": []
    },
    {
      "cell_type": "code",
      "metadata": {
        "id": "xSNIG8DaZkyM",
        "colab_type": "code",
        "colab": {}
      },
      "source": [
        "# Fbprophet is the complete library\n",
        "# Prophet is the name of class\n",
        "from fbprophet import Prophet"
      ],
      "execution_count": 30,
      "outputs": [
        {
          "output_type": "error",
          "ename": "ModuleNotFoundError",
          "evalue": "No module named 'fbprophet'",
          "traceback": [
            "\u001b[1;31m---------------------------------------------------------------------------\u001b[0m",
            "\u001b[1;31mModuleNotFoundError\u001b[0m                       Traceback (most recent call last)",
            "\u001b[1;32m<ipython-input-30-3e8c446fcedd>\u001b[0m in \u001b[0;36m<module>\u001b[1;34m\u001b[0m\n\u001b[0;32m      1\u001b[0m \u001b[1;31m# Fbprophet is the complete library\u001b[0m\u001b[1;33m\u001b[0m\u001b[1;33m\u001b[0m\u001b[1;33m\u001b[0m\u001b[0m\n\u001b[0;32m      2\u001b[0m \u001b[1;31m# Prophet is the name of class\u001b[0m\u001b[1;33m\u001b[0m\u001b[1;33m\u001b[0m\u001b[1;33m\u001b[0m\u001b[0m\n\u001b[1;32m----> 3\u001b[1;33m \u001b[1;32mfrom\u001b[0m \u001b[0mfbprophet\u001b[0m \u001b[1;32mimport\u001b[0m \u001b[0mProphet\u001b[0m\u001b[1;33m\u001b[0m\u001b[1;33m\u001b[0m\u001b[0m\n\u001b[0m",
            "\u001b[1;31mModuleNotFoundError\u001b[0m: No module named 'fbprophet'"
          ]
        }
      ]
    },
    {
      "cell_type": "code",
      "metadata": {
        "id": "diiLKydSZtGP",
        "colab_type": "code",
        "colab": {
          "base_uri": "https://localhost:8080/",
          "height": 272
        },
        "outputId": "09ce1489-d1b7-4d82-be67-106a525ba0de"
      },
      "source": [
        "# Checking the date-time format\n",
        "df.info()"
      ],
      "execution_count": 31,
      "outputs": [
        {
          "output_type": "stream",
          "name": "stdout",
          "text": "<class 'pandas.core.frame.DataFrame'>\nRangeIndex: 25676 entries, 0 to 25675\nData columns (total 8 columns):\n #   Column     Non-Null Count  Dtype         \n---  ------     --------------  -----         \n 0   country    25676 non-null  object        \n 1   Lat        25676 non-null  float64       \n 2   Long       25676 non-null  float64       \n 3   Date       25676 non-null  datetime64[ns]\n 4   Confirmed  25676 non-null  int64         \n 5   Deaths     25676 non-null  int64         \n 6   Recovered  25676 non-null  int64         \n 7   Active     25676 non-null  int64         \ndtypes: datetime64[ns](1), float64(2), int64(4), object(1)\nmemory usage: 1.5+ MB\n"
        }
      ]
    },
    {
      "cell_type": "code",
      "metadata": {
        "id": "7MLngSPAZt_u",
        "colab_type": "code",
        "colab": {
          "base_uri": "https://localhost:8080/",
          "height": 204
        },
        "outputId": "6cb89d4b-8b52-4e99-b5b6-7793e15cf032"
      },
      "source": [
        "df.head()"
      ],
      "execution_count": 32,
      "outputs": [
        {
          "output_type": "execute_result",
          "data": {
            "text/plain": "       country      Lat     Long       Date  Confirmed  Deaths  Recovered  \\\n0  Afghanistan  33.0000  65.0000 2020-01-22          0       0          0   \n1      Albania  41.1533  20.1683 2020-01-22          0       0          0   \n2      Algeria  28.0339   1.6596 2020-01-22          0       0          0   \n3      Andorra  42.5063   1.5218 2020-01-22          0       0          0   \n4       Angola -11.2027  17.8739 2020-01-22          0       0          0   \n\n   Active  \n0       0  \n1       0  \n2       0  \n3       0  \n4       0  ",
            "text/html": "<div>\n<style scoped>\n    .dataframe tbody tr th:only-of-type {\n        vertical-align: middle;\n    }\n\n    .dataframe tbody tr th {\n        vertical-align: top;\n    }\n\n    .dataframe thead th {\n        text-align: right;\n    }\n</style>\n<table border=\"1\" class=\"dataframe\">\n  <thead>\n    <tr style=\"text-align: right;\">\n      <th></th>\n      <th>country</th>\n      <th>Lat</th>\n      <th>Long</th>\n      <th>Date</th>\n      <th>Confirmed</th>\n      <th>Deaths</th>\n      <th>Recovered</th>\n      <th>Active</th>\n    </tr>\n  </thead>\n  <tbody>\n    <tr>\n      <th>0</th>\n      <td>Afghanistan</td>\n      <td>33.0000</td>\n      <td>65.0000</td>\n      <td>2020-01-22</td>\n      <td>0</td>\n      <td>0</td>\n      <td>0</td>\n      <td>0</td>\n    </tr>\n    <tr>\n      <th>1</th>\n      <td>Albania</td>\n      <td>41.1533</td>\n      <td>20.1683</td>\n      <td>2020-01-22</td>\n      <td>0</td>\n      <td>0</td>\n      <td>0</td>\n      <td>0</td>\n    </tr>\n    <tr>\n      <th>2</th>\n      <td>Algeria</td>\n      <td>28.0339</td>\n      <td>1.6596</td>\n      <td>2020-01-22</td>\n      <td>0</td>\n      <td>0</td>\n      <td>0</td>\n      <td>0</td>\n    </tr>\n    <tr>\n      <th>3</th>\n      <td>Andorra</td>\n      <td>42.5063</td>\n      <td>1.5218</td>\n      <td>2020-01-22</td>\n      <td>0</td>\n      <td>0</td>\n      <td>0</td>\n      <td>0</td>\n    </tr>\n    <tr>\n      <th>4</th>\n      <td>Angola</td>\n      <td>-11.2027</td>\n      <td>17.8739</td>\n      <td>2020-01-22</td>\n      <td>0</td>\n      <td>0</td>\n      <td>0</td>\n      <td>0</td>\n    </tr>\n  </tbody>\n</table>\n</div>"
          },
          "metadata": {},
          "execution_count": 32
        }
      ]
    },
    {
      "cell_type": "code",
      "metadata": {
        "id": "JCVOYexbaCT6",
        "colab_type": "code",
        "colab": {
          "base_uri": "https://localhost:8080/",
          "height": 204
        },
        "outputId": "bc36448e-5c5b-48a8-c4b2-794f9ae39dde"
      },
      "source": [
        "# Grouping by the date column\n",
        "confirmed = df.groupby('Date')['Confirmed'].sum().reset_index()\n",
        "confirmed.head()"
      ],
      "execution_count": 33,
      "outputs": [
        {
          "output_type": "execute_result",
          "data": {
            "text/plain": "        Date  Confirmed\n0 2020-01-22        555\n1 2020-01-23        654\n2 2020-01-24        941\n3 2020-01-25       1434\n4 2020-01-26       2118",
            "text/html": "<div>\n<style scoped>\n    .dataframe tbody tr th:only-of-type {\n        vertical-align: middle;\n    }\n\n    .dataframe tbody tr th {\n        vertical-align: top;\n    }\n\n    .dataframe thead th {\n        text-align: right;\n    }\n</style>\n<table border=\"1\" class=\"dataframe\">\n  <thead>\n    <tr style=\"text-align: right;\">\n      <th></th>\n      <th>Date</th>\n      <th>Confirmed</th>\n    </tr>\n  </thead>\n  <tbody>\n    <tr>\n      <th>0</th>\n      <td>2020-01-22</td>\n      <td>555</td>\n    </tr>\n    <tr>\n      <th>1</th>\n      <td>2020-01-23</td>\n      <td>654</td>\n    </tr>\n    <tr>\n      <th>2</th>\n      <td>2020-01-24</td>\n      <td>941</td>\n    </tr>\n    <tr>\n      <th>3</th>\n      <td>2020-01-25</td>\n      <td>1434</td>\n    </tr>\n    <tr>\n      <th>4</th>\n      <td>2020-01-26</td>\n      <td>2118</td>\n    </tr>\n  </tbody>\n</table>\n</div>"
          },
          "metadata": {},
          "execution_count": 33
        }
      ]
    },
    {
      "cell_type": "code",
      "metadata": {
        "id": "Z2DXwfwEaMXn",
        "colab_type": "code",
        "colab": {
          "base_uri": "https://localhost:8080/",
          "height": 204
        },
        "outputId": "d347af47-40cf-47c0-b437-d5a67f062750"
      },
      "source": [
        "### According to the Fbprophet - Date Column name should be 'ds' and the data name should be 'y'\n",
        "confirmed = confirmed.rename(columns={\"Date\" : \"ds\" , \"Confirmed\" : \"y\"})\n",
        "confirmed.head()"
      ],
      "execution_count": 34,
      "outputs": [
        {
          "output_type": "execute_result",
          "data": {
            "text/plain": "          ds     y\n0 2020-01-22   555\n1 2020-01-23   654\n2 2020-01-24   941\n3 2020-01-25  1434\n4 2020-01-26  2118",
            "text/html": "<div>\n<style scoped>\n    .dataframe tbody tr th:only-of-type {\n        vertical-align: middle;\n    }\n\n    .dataframe tbody tr th {\n        vertical-align: top;\n    }\n\n    .dataframe thead th {\n        text-align: right;\n    }\n</style>\n<table border=\"1\" class=\"dataframe\">\n  <thead>\n    <tr style=\"text-align: right;\">\n      <th></th>\n      <th>ds</th>\n      <th>y</th>\n    </tr>\n  </thead>\n  <tbody>\n    <tr>\n      <th>0</th>\n      <td>2020-01-22</td>\n      <td>555</td>\n    </tr>\n    <tr>\n      <th>1</th>\n      <td>2020-01-23</td>\n      <td>654</td>\n    </tr>\n    <tr>\n      <th>2</th>\n      <td>2020-01-24</td>\n      <td>941</td>\n    </tr>\n    <tr>\n      <th>3</th>\n      <td>2020-01-25</td>\n      <td>1434</td>\n    </tr>\n    <tr>\n      <th>4</th>\n      <td>2020-01-26</td>\n      <td>2118</td>\n    </tr>\n  </tbody>\n</table>\n</div>"
          },
          "metadata": {},
          "execution_count": 34
        }
      ]
    },
    {
      "cell_type": "code",
      "metadata": {
        "id": "6PKCG7ppau87",
        "colab_type": "code",
        "colab": {}
      },
      "source": [
        "#### Building the model\n",
        "## model will try its best to give 95 % accurate result (confidence interval in statistics)\n",
        "## 5 % error is allowed\n",
        "model = Prophet(interval_width=0.95)"
      ],
      "execution_count": 35,
      "outputs": [
        {
          "output_type": "error",
          "ename": "NameError",
          "evalue": "name 'Prophet' is not defined",
          "traceback": [
            "\u001b[1;31m---------------------------------------------------------------------------\u001b[0m",
            "\u001b[1;31mNameError\u001b[0m                                 Traceback (most recent call last)",
            "\u001b[1;32m<ipython-input-35-0f0c83c774ad>\u001b[0m in \u001b[0;36m<module>\u001b[1;34m\u001b[0m\n\u001b[0;32m      2\u001b[0m \u001b[1;31m## model will try its best to give 95 % accurate result (confidence interval in statistics)\u001b[0m\u001b[1;33m\u001b[0m\u001b[1;33m\u001b[0m\u001b[1;33m\u001b[0m\u001b[0m\n\u001b[0;32m      3\u001b[0m \u001b[1;31m## 5 % error is allowed\u001b[0m\u001b[1;33m\u001b[0m\u001b[1;33m\u001b[0m\u001b[1;33m\u001b[0m\u001b[0m\n\u001b[1;32m----> 4\u001b[1;33m \u001b[0mmodel\u001b[0m \u001b[1;33m=\u001b[0m \u001b[0mProphet\u001b[0m\u001b[1;33m(\u001b[0m\u001b[0minterval_width\u001b[0m\u001b[1;33m=\u001b[0m\u001b[1;36m0.95\u001b[0m\u001b[1;33m)\u001b[0m\u001b[1;33m\u001b[0m\u001b[1;33m\u001b[0m\u001b[0m\n\u001b[0m",
            "\u001b[1;31mNameError\u001b[0m: name 'Prophet' is not defined"
          ]
        }
      ]
    },
    {
      "cell_type": "code",
      "metadata": {
        "id": "13WdEJMcbI45",
        "colab_type": "code",
        "colab": {
          "base_uri": "https://localhost:8080/",
          "height": 68
        },
        "outputId": "9e5c530b-ae71-4e05-c0a8-75248b7db72b"
      },
      "source": [
        "### Train the model\n",
        "## In forecasting (unlike eg Linear Regreesion) , we pass entire data\n",
        "model.fit(confirmed)\n",
        "# Ignore the warning"
      ],
      "execution_count": 36,
      "outputs": [
        {
          "output_type": "error",
          "ename": "NameError",
          "evalue": "name 'model' is not defined",
          "traceback": [
            "\u001b[1;31m---------------------------------------------------------------------------\u001b[0m",
            "\u001b[1;31mNameError\u001b[0m                                 Traceback (most recent call last)",
            "\u001b[1;32m<ipython-input-36-c935fbc24b56>\u001b[0m in \u001b[0;36m<module>\u001b[1;34m\u001b[0m\n\u001b[0;32m      1\u001b[0m \u001b[1;31m### Train the model\u001b[0m\u001b[1;33m\u001b[0m\u001b[1;33m\u001b[0m\u001b[1;33m\u001b[0m\u001b[0m\n\u001b[0;32m      2\u001b[0m \u001b[1;31m## In forecasting (unlike eg Linear Regreesion) , we pass entire data\u001b[0m\u001b[1;33m\u001b[0m\u001b[1;33m\u001b[0m\u001b[1;33m\u001b[0m\u001b[0m\n\u001b[1;32m----> 3\u001b[1;33m \u001b[0mmodel\u001b[0m\u001b[1;33m.\u001b[0m\u001b[0mfit\u001b[0m\u001b[1;33m(\u001b[0m\u001b[0mconfirmed\u001b[0m\u001b[1;33m)\u001b[0m\u001b[1;33m\u001b[0m\u001b[1;33m\u001b[0m\u001b[0m\n\u001b[0m\u001b[0;32m      4\u001b[0m \u001b[1;31m# Ignore the warning\u001b[0m\u001b[1;33m\u001b[0m\u001b[1;33m\u001b[0m\u001b[1;33m\u001b[0m\u001b[0m\n",
            "\u001b[1;31mNameError\u001b[0m: name 'model' is not defined"
          ]
        }
      ]
    },
    {
      "cell_type": "code",
      "metadata": {
        "id": "G6FSF2embwBR",
        "colab_type": "code",
        "colab": {
          "base_uri": "https://localhost:8080/",
          "height": 266
        },
        "outputId": "69928e2c-6137-4f00-c09b-3ec88c61c8b7"
      },
      "source": [
        "# We are forecasting for the next 7 days\n",
        "future_dates = model.make_future_dataframe(periods=7)\n",
        "future_dates.tail(7)"
      ],
      "execution_count": 37,
      "outputs": [
        {
          "output_type": "error",
          "ename": "NameError",
          "evalue": "name 'model' is not defined",
          "traceback": [
            "\u001b[1;31m---------------------------------------------------------------------------\u001b[0m",
            "\u001b[1;31mNameError\u001b[0m                                 Traceback (most recent call last)",
            "\u001b[1;32m<ipython-input-37-4333e28e65e8>\u001b[0m in \u001b[0;36m<module>\u001b[1;34m\u001b[0m\n\u001b[0;32m      1\u001b[0m \u001b[1;31m# We are forecasting for the next 7 days\u001b[0m\u001b[1;33m\u001b[0m\u001b[1;33m\u001b[0m\u001b[1;33m\u001b[0m\u001b[0m\n\u001b[1;32m----> 2\u001b[1;33m \u001b[0mfuture_dates\u001b[0m \u001b[1;33m=\u001b[0m \u001b[0mmodel\u001b[0m\u001b[1;33m.\u001b[0m\u001b[0mmake_future_dataframe\u001b[0m\u001b[1;33m(\u001b[0m\u001b[0mperiods\u001b[0m\u001b[1;33m=\u001b[0m\u001b[1;36m7\u001b[0m\u001b[1;33m)\u001b[0m\u001b[1;33m\u001b[0m\u001b[1;33m\u001b[0m\u001b[0m\n\u001b[0m\u001b[0;32m      3\u001b[0m \u001b[0mfuture_dates\u001b[0m\u001b[1;33m.\u001b[0m\u001b[0mtail\u001b[0m\u001b[1;33m(\u001b[0m\u001b[1;36m7\u001b[0m\u001b[1;33m)\u001b[0m\u001b[1;33m\u001b[0m\u001b[1;33m\u001b[0m\u001b[0m\n",
            "\u001b[1;31mNameError\u001b[0m: name 'model' is not defined"
          ]
        }
      ]
    },
    {
      "cell_type": "code",
      "metadata": {
        "id": "69GsFE1HcMD0",
        "colab_type": "code",
        "colab": {
          "base_uri": "https://localhost:8080/",
          "height": 255
        },
        "outputId": "4911e291-d77a-4c46-c6ad-19106d7da286"
      },
      "source": [
        "# Predicting based on the trained model\n",
        "forecast = model.predict(future_dates)\n",
        "print(forecast)"
      ],
      "execution_count": 38,
      "outputs": [
        {
          "output_type": "error",
          "ename": "NameError",
          "evalue": "name 'model' is not defined",
          "traceback": [
            "\u001b[1;31m---------------------------------------------------------------------------\u001b[0m",
            "\u001b[1;31mNameError\u001b[0m                                 Traceback (most recent call last)",
            "\u001b[1;32m<ipython-input-38-0d9fd6ad0ba4>\u001b[0m in \u001b[0;36m<module>\u001b[1;34m\u001b[0m\n\u001b[0;32m      1\u001b[0m \u001b[1;31m# Predicting based on the trained model\u001b[0m\u001b[1;33m\u001b[0m\u001b[1;33m\u001b[0m\u001b[1;33m\u001b[0m\u001b[0m\n\u001b[1;32m----> 2\u001b[1;33m \u001b[0mforecast\u001b[0m \u001b[1;33m=\u001b[0m \u001b[0mmodel\u001b[0m\u001b[1;33m.\u001b[0m\u001b[0mpredict\u001b[0m\u001b[1;33m(\u001b[0m\u001b[0mfuture_dates\u001b[0m\u001b[1;33m)\u001b[0m\u001b[1;33m\u001b[0m\u001b[1;33m\u001b[0m\u001b[0m\n\u001b[0m\u001b[0;32m      3\u001b[0m \u001b[0mprint\u001b[0m\u001b[1;33m(\u001b[0m\u001b[0mforecast\u001b[0m\u001b[1;33m)\u001b[0m\u001b[1;33m\u001b[0m\u001b[1;33m\u001b[0m\u001b[0m\n",
            "\u001b[1;31mNameError\u001b[0m: name 'model' is not defined"
          ]
        }
      ]
    },
    {
      "cell_type": "code",
      "metadata": {
        "id": "Tgiws10XdQDn",
        "colab_type": "code",
        "colab": {
          "base_uri": "https://localhost:8080/",
          "height": 359
        },
        "outputId": "1264169b-f2be-4bee-caa5-af9fb75c124d"
      },
      "source": [
        "# Giving the range of values for forecast for the next few days\n",
        "forecast[['ds','yhat','yhat_lower','yhat_upper']].tail(10)"
      ],
      "execution_count": 39,
      "outputs": [
        {
          "output_type": "error",
          "ename": "NameError",
          "evalue": "name 'forecast' is not defined",
          "traceback": [
            "\u001b[1;31m---------------------------------------------------------------------------\u001b[0m",
            "\u001b[1;31mNameError\u001b[0m                                 Traceback (most recent call last)",
            "\u001b[1;32m<ipython-input-39-b5dff289422a>\u001b[0m in \u001b[0;36m<module>\u001b[1;34m\u001b[0m\n\u001b[0;32m      1\u001b[0m \u001b[1;31m# Giving the range of values for forecast for the next few days\u001b[0m\u001b[1;33m\u001b[0m\u001b[1;33m\u001b[0m\u001b[1;33m\u001b[0m\u001b[0m\n\u001b[1;32m----> 2\u001b[1;33m \u001b[0mforecast\u001b[0m\u001b[1;33m[\u001b[0m\u001b[1;33m[\u001b[0m\u001b[1;34m'ds'\u001b[0m\u001b[1;33m,\u001b[0m\u001b[1;34m'yhat'\u001b[0m\u001b[1;33m,\u001b[0m\u001b[1;34m'yhat_lower'\u001b[0m\u001b[1;33m,\u001b[0m\u001b[1;34m'yhat_upper'\u001b[0m\u001b[1;33m]\u001b[0m\u001b[1;33m]\u001b[0m\u001b[1;33m.\u001b[0m\u001b[0mtail\u001b[0m\u001b[1;33m(\u001b[0m\u001b[1;36m10\u001b[0m\u001b[1;33m)\u001b[0m\u001b[1;33m\u001b[0m\u001b[1;33m\u001b[0m\u001b[0m\n\u001b[0m",
            "\u001b[1;31mNameError\u001b[0m: name 'forecast' is not defined"
          ]
        }
      ]
    },
    {
      "cell_type": "code",
      "metadata": {
        "id": "1iOnSklidhuj",
        "colab_type": "code",
        "colab": {
          "base_uri": "https://localhost:8080/",
          "height": 441
        },
        "outputId": "ed9af90a-2c7d-4066-d2d2-5457607996d4"
      },
      "source": [
        "### Plot the data\n",
        "## Dots = Actual value, Blue line = forcasted Value  \n",
        "confirmed_plot = model.plot(forecast)"
      ],
      "execution_count": 40,
      "outputs": [
        {
          "output_type": "error",
          "ename": "NameError",
          "evalue": "name 'model' is not defined",
          "traceback": [
            "\u001b[1;31m---------------------------------------------------------------------------\u001b[0m",
            "\u001b[1;31mNameError\u001b[0m                                 Traceback (most recent call last)",
            "\u001b[1;32m<ipython-input-40-a9cfe0fa2cd1>\u001b[0m in \u001b[0;36m<module>\u001b[1;34m\u001b[0m\n\u001b[0;32m      1\u001b[0m \u001b[1;31m### Plot the data\u001b[0m\u001b[1;33m\u001b[0m\u001b[1;33m\u001b[0m\u001b[1;33m\u001b[0m\u001b[0m\n\u001b[0;32m      2\u001b[0m \u001b[1;31m## Dots = Actual value, Blue line = forcasted Value\u001b[0m\u001b[1;33m\u001b[0m\u001b[1;33m\u001b[0m\u001b[1;33m\u001b[0m\u001b[0m\n\u001b[1;32m----> 3\u001b[1;33m \u001b[0mconfirmed_plot\u001b[0m \u001b[1;33m=\u001b[0m \u001b[0mmodel\u001b[0m\u001b[1;33m.\u001b[0m\u001b[0mplot\u001b[0m\u001b[1;33m(\u001b[0m\u001b[0mforecast\u001b[0m\u001b[1;33m)\u001b[0m\u001b[1;33m\u001b[0m\u001b[1;33m\u001b[0m\u001b[0m\n\u001b[0m",
            "\u001b[1;31mNameError\u001b[0m: name 'model' is not defined"
          ]
        }
      ]
    },
    {
      "cell_type": "code",
      "metadata": {
        "id": "oQTXX2oMffVo",
        "colab_type": "code",
        "colab": {
          "base_uri": "https://localhost:8080/",
          "height": 441
        },
        "outputId": "ffcbec1e-5349-4b3e-dbfd-8f16183ee443"
      },
      "source": [
        "### Plot Weekly Data\n",
        "## People are going out on the weekends,that's why the weekends have higher rates\n",
        "confirmed_plot_weekly = model.plot_components(forecast)"
      ],
      "execution_count": 41,
      "outputs": [
        {
          "output_type": "error",
          "ename": "NameError",
          "evalue": "name 'model' is not defined",
          "traceback": [
            "\u001b[1;31m---------------------------------------------------------------------------\u001b[0m",
            "\u001b[1;31mNameError\u001b[0m                                 Traceback (most recent call last)",
            "\u001b[1;32m<ipython-input-41-2ebfec68d878>\u001b[0m in \u001b[0;36m<module>\u001b[1;34m\u001b[0m\n\u001b[0;32m      1\u001b[0m \u001b[1;31m### Plot Weekly Data\u001b[0m\u001b[1;33m\u001b[0m\u001b[1;33m\u001b[0m\u001b[1;33m\u001b[0m\u001b[0m\n\u001b[0;32m      2\u001b[0m \u001b[1;31m## People are going out on the weekends,that's why the weekends have higher rates\u001b[0m\u001b[1;33m\u001b[0m\u001b[1;33m\u001b[0m\u001b[1;33m\u001b[0m\u001b[0m\n\u001b[1;32m----> 3\u001b[1;33m \u001b[0mconfirmed_plot_weekly\u001b[0m \u001b[1;33m=\u001b[0m \u001b[0mmodel\u001b[0m\u001b[1;33m.\u001b[0m\u001b[0mplot_components\u001b[0m\u001b[1;33m(\u001b[0m\u001b[0mforecast\u001b[0m\u001b[1;33m)\u001b[0m\u001b[1;33m\u001b[0m\u001b[1;33m\u001b[0m\u001b[0m\n\u001b[0m",
            "\u001b[1;31mNameError\u001b[0m: name 'model' is not defined"
          ]
        }
      ]
    },
    {
      "cell_type": "markdown",
      "metadata": {
        "colab": {},
        "colab_type": "code",
        "id": "CEHHVwVOfqOx"
      },
      "source": [
        "# For India"
      ]
    },
    {
      "cell_type": "code",
      "metadata": {
        "id": "yrPj3FvrhRnG",
        "colab_type": "code",
        "colab": {
          "base_uri": "https://localhost:8080/",
          "height": 1000
        },
        "outputId": "ec934201-50fa-463f-d796-00cc13f86652"
      },
      "source": [
        "from fbprophet import Prophet\n",
        "\n",
        "df_india = df[df['country']=='India']\n",
        "df_india.head()\n",
        "\n",
        "\n",
        "# Grouping by the date column\n",
        "confirmed = df_india.groupby('Date')['Confirmed'].sum().reset_index()\n",
        "confirmed.head()\n",
        "\n",
        "### According to the Fbprophet - Date Column name should be 'ds' and the data name should be 'y'\n",
        "confirmed = confirmed.rename(columns={\"Date\" : \"ds\" , \"Confirmed\" : \"y\"})\n",
        "confirmed.head()\n",
        "\n",
        "#### Building the model\n",
        "## model will try its best to give 95 % accurate result (confidence interval in statistics)\n",
        "## 5 % error is allowed\n",
        "model = Prophet(interval_width=0.95)\n",
        "\n",
        "### Train the model\n",
        "## In forecasting (unlike eg Linear Regreesion) , we pass entire data\n",
        "model.fit(confirmed)\n",
        "# Ignore the warning\n",
        "\n",
        "# We are forecasting for the next 7 days\n",
        "future_dates = model.make_future_dataframe(periods=7)\n",
        "future_dates.tail(7)\n",
        "\n",
        "# Predicting based on the trained model\n",
        "forecast = model.predict(future_dates)\n",
        "print(forecast)\n",
        "\n",
        "# Giving the range of values for forecast for the next few days\n",
        "forecast[['ds','yhat','yhat_lower','yhat_upper']].tail(10)\n",
        "\n",
        "### Plot the data\n",
        "## Dots = Actual value, Blue line = forcasted Value  \n",
        "confirmed_plot = model.plot(forecast)\n",
        "\n",
        "print()\n",
        "\n",
        "### Plot Weekly Data\n",
        "## People are going out on the weekends,that's why the weekends have higher rates\n",
        "confirmed_plot_weekly = model.plot_components(forecast)"
      ],
      "execution_count": 42,
      "outputs": [
        {
          "output_type": "error",
          "ename": "ModuleNotFoundError",
          "evalue": "No module named 'fbprophet'",
          "traceback": [
            "\u001b[1;31m---------------------------------------------------------------------------\u001b[0m",
            "\u001b[1;31mModuleNotFoundError\u001b[0m                       Traceback (most recent call last)",
            "\u001b[1;32m<ipython-input-42-86c2d488e4cd>\u001b[0m in \u001b[0;36m<module>\u001b[1;34m\u001b[0m\n\u001b[1;32m----> 1\u001b[1;33m \u001b[1;32mfrom\u001b[0m \u001b[0mfbprophet\u001b[0m \u001b[1;32mimport\u001b[0m \u001b[0mProphet\u001b[0m\u001b[1;33m\u001b[0m\u001b[1;33m\u001b[0m\u001b[0m\n\u001b[0m\u001b[0;32m      2\u001b[0m \u001b[1;33m\u001b[0m\u001b[0m\n\u001b[0;32m      3\u001b[0m \u001b[0mdf_india\u001b[0m \u001b[1;33m=\u001b[0m \u001b[0mdf\u001b[0m\u001b[1;33m[\u001b[0m\u001b[0mdf\u001b[0m\u001b[1;33m[\u001b[0m\u001b[1;34m'country'\u001b[0m\u001b[1;33m]\u001b[0m\u001b[1;33m==\u001b[0m\u001b[1;34m'India'\u001b[0m\u001b[1;33m]\u001b[0m\u001b[1;33m\u001b[0m\u001b[1;33m\u001b[0m\u001b[0m\n\u001b[0;32m      4\u001b[0m \u001b[0mdf_india\u001b[0m\u001b[1;33m.\u001b[0m\u001b[0mhead\u001b[0m\u001b[1;33m(\u001b[0m\u001b[1;33m)\u001b[0m\u001b[1;33m\u001b[0m\u001b[1;33m\u001b[0m\u001b[0m\n\u001b[0;32m      5\u001b[0m \u001b[1;33m\u001b[0m\u001b[0m\n",
            "\u001b[1;31mModuleNotFoundError\u001b[0m: No module named 'fbprophet'"
          ]
        }
      ]
    },
    {
      "cell_type": "code",
      "metadata": {
        "id": "B3hn11PDh9g7",
        "colab_type": "code",
        "colab": {}
      },
      "source": [
        "# More information on\n",
        "# https://facebook.github.io/prophet/docs/diagnostics.html\n"
      ],
      "execution_count": 43,
      "outputs": []
    }
  ],
  "metadata": {
    "colab": {
      "name": "COVID 19 Data Analysis World-Wide 2020.ipynb",
      "provenance": [],
      "collapsed_sections": []
    },
    "kernelspec": {
      "name": "python38132bit51bf2d4383df4065b0c992fe407a3440",
      "display_name": "Python 3.8.1 32-bit"
    }
  },
  "nbformat": 4,
  "nbformat_minor": 0
}