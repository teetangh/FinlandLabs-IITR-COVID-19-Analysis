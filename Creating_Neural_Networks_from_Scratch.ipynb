{
  "nbformat": 4,
  "nbformat_minor": 0,
  "metadata": {
    "colab": {
      "name": "Creating Neural Networks from Scratch.ipynb",
      "provenance": []
    },
    "kernelspec": {
      "name": "python3",
      "display_name": "Python 3"
    }
  },
  "cells": [
    {
      "cell_type": "code",
      "metadata": {
        "id": "7F7L5yXf10pc",
        "colab_type": "code",
        "colab": {}
      },
      "source": [
        "import numpy as np"
      ],
      "execution_count": 0,
      "outputs": []
    },
    {
      "cell_type": "code",
      "metadata": {
        "id": "LRum98e114RO",
        "colab_type": "code",
        "colab": {}
      },
      "source": [
        "### Making Activation Function(Sigmoid)\n",
        "def activation(x):\n",
        "  return 1/ ( 1 + np.exp(-x))"
      ],
      "execution_count": 0,
      "outputs": []
    },
    {
      "cell_type": "code",
      "metadata": {
        "id": "-SMHVn9U2SR5",
        "colab_type": "code",
        "colab": {
          "base_uri": "https://localhost:8080/",
          "height": 34
        },
        "outputId": "a63725e6-5348-4a3d-a2d4-b5ccd00a0a1a"
      },
      "source": [
        "activation(2)"
      ],
      "execution_count": 3,
      "outputs": [
        {
          "output_type": "execute_result",
          "data": {
            "text/plain": [
              "0.8807970779778823"
            ]
          },
          "metadata": {
            "tags": []
          },
          "execution_count": 3
        }
      ]
    },
    {
      "cell_type": "code",
      "metadata": {
        "id": "gZtjCLkl2TVy",
        "colab_type": "code",
        "colab": {
          "base_uri": "https://localhost:8080/",
          "height": 85
        },
        "outputId": "91b3e365-31ab-4e94-d9cd-632eb1fc3519"
      },
      "source": [
        "#### Creating the input samples\n",
        "training_inputs = np.array([[0,0,1],[1,1,1],[1,0,1],[0,1,1]])\n",
        "training_inputs"
      ],
      "execution_count": 4,
      "outputs": [
        {
          "output_type": "execute_result",
          "data": {
            "text/plain": [
              "array([[0, 0, 1],\n",
              "       [1, 1, 1],\n",
              "       [1, 0, 1],\n",
              "       [0, 1, 1]])"
            ]
          },
          "metadata": {
            "tags": []
          },
          "execution_count": 4
        }
      ]
    },
    {
      "cell_type": "code",
      "metadata": {
        "id": "7mehSSxn3iZP",
        "colab_type": "code",
        "colab": {
          "base_uri": "https://localhost:8080/",
          "height": 85
        },
        "outputId": "021e5db6-6c7e-4252-f9c3-173614f0654f"
      },
      "source": [
        "#### Creating Output Samples\n",
        "training_outputs = np.array([[0],[1],[1],[0]])\n",
        "training_outputs"
      ],
      "execution_count": 5,
      "outputs": [
        {
          "output_type": "execute_result",
          "data": {
            "text/plain": [
              "array([[0],\n",
              "       [1],\n",
              "       [1],\n",
              "       [0]])"
            ]
          },
          "metadata": {
            "tags": []
          },
          "execution_count": 5
        }
      ]
    },
    {
      "cell_type": "code",
      "metadata": {
        "id": "XwogGr_m31wm",
        "colab_type": "code",
        "colab": {
          "base_uri": "https://localhost:8080/",
          "height": 68
        },
        "outputId": "bfade608-4ea3-4c8a-a497-9a621cf345bc"
      },
      "source": [
        "#### Weights\n",
        "np.random.seed(20)  # makes the random variables predictable\n",
        "# np.random.rand(20)  # makes the random variables unpredictable\n",
        "weights = np.random.random((3,1))\n",
        "weights"
      ],
      "execution_count": 6,
      "outputs": [
        {
          "output_type": "execute_result",
          "data": {
            "text/plain": [
              "array([[0.5881308 ],\n",
              "       [0.89771373],\n",
              "       [0.89153073]])"
            ]
          },
          "metadata": {
            "tags": []
          },
          "execution_count": 6
        }
      ]
    },
    {
      "cell_type": "code",
      "metadata": {
        "id": "2sjygGw_4SvS",
        "colab_type": "code",
        "colab": {
          "base_uri": "https://localhost:8080/",
          "height": 85
        },
        "outputId": "4a033126-2580-407c-e6f2-37eda0205e46"
      },
      "source": [
        "input_layer = training_inputs\n",
        "mul = np.dot(input_layer,weights)\n",
        "mul"
      ],
      "execution_count": 7,
      "outputs": [
        {
          "output_type": "execute_result",
          "data": {
            "text/plain": [
              "array([[0.89153073],\n",
              "       [2.37737526],\n",
              "       [1.47966153],\n",
              "       [1.78924446]])"
            ]
          },
          "metadata": {
            "tags": []
          },
          "execution_count": 7
        }
      ]
    },
    {
      "cell_type": "code",
      "metadata": {
        "id": "q1n1w02j6hjc",
        "colab_type": "code",
        "colab": {
          "base_uri": "https://localhost:8080/",
          "height": 51
        },
        "outputId": "f7f51a73-056d-4ae5-e2c8-fc10b4ef5381"
      },
      "source": [
        "print(input_layer.shape)\n",
        "print(weights.shape) "
      ],
      "execution_count": 8,
      "outputs": [
        {
          "output_type": "stream",
          "text": [
            "(4, 3)\n",
            "(3, 1)\n"
          ],
          "name": "stdout"
        }
      ]
    },
    {
      "cell_type": "code",
      "metadata": {
        "id": "ICWiy8dt56mD",
        "colab_type": "code",
        "colab": {
          "base_uri": "https://localhost:8080/",
          "height": 85
        },
        "outputId": "ddcf65e4-61a2-4da8-c339-980a3adefa51"
      },
      "source": [
        "outputs = activation(mul)\n",
        "outputs.round()"
      ],
      "execution_count": 9,
      "outputs": [
        {
          "output_type": "execute_result",
          "data": {
            "text/plain": [
              "array([[1.],\n",
              "       [1.],\n",
              "       [1.],\n",
              "       [1.]])"
            ]
          },
          "metadata": {
            "tags": []
          },
          "execution_count": 9
        }
      ]
    },
    {
      "cell_type": "code",
      "metadata": {
        "id": "g65ErvNo6HTH",
        "colab_type": "code",
        "colab": {}
      },
      "source": [
        "def gradient(x):\n",
        "  return x * (1-x)"
      ],
      "execution_count": 0,
      "outputs": []
    },
    {
      "cell_type": "code",
      "metadata": {
        "id": "G1itLGS47vNz",
        "colab_type": "code",
        "colab": {}
      },
      "source": [
        "for i in range(500):\n",
        "  input_layer = training_inputs\n",
        "\n",
        "  # Multiplying the input layer matrix withthe weight matrix \n",
        "  mul = np.dot(input_layer,weights)\n",
        "  outputs = activation(mul)\n",
        "  \n",
        "  # Applying the gradient descent\n",
        "  error = training_outputs - outputs\n",
        "  adjustments = error * gradient(outputs) ### gradient descent\n",
        "  \n",
        "  weights += np.dot(input_layer.T,adjustments)\n",
        "  # print(\"ADJUSTMENTS :\" , adjustments)"
      ],
      "execution_count": 0,
      "outputs": []
    },
    {
      "cell_type": "code",
      "metadata": {
        "id": "z8CZByRw8yOT",
        "colab_type": "code",
        "colab": {
          "base_uri": "https://localhost:8080/",
          "height": 68
        },
        "outputId": "594ad759-38d8-4286-93ca-da7a2eca7d70"
      },
      "source": [
        "weights"
      ],
      "execution_count": 12,
      "outputs": [
        {
          "output_type": "execute_result",
          "data": {
            "text/plain": [
              "array([[ 6.49807133],\n",
              "       [-0.22503222],\n",
              "       [-3.02759398]])"
            ]
          },
          "metadata": {
            "tags": []
          },
          "execution_count": 12
        }
      ]
    },
    {
      "cell_type": "code",
      "metadata": {
        "id": "HWhDFCPD8zvD",
        "colab_type": "code",
        "colab": {
          "base_uri": "https://localhost:8080/",
          "height": 85
        },
        "outputId": "922f85a6-21fc-4f83-a31e-7a2914bf5704"
      },
      "source": [
        "outputs.round()"
      ],
      "execution_count": 13,
      "outputs": [
        {
          "output_type": "execute_result",
          "data": {
            "text/plain": [
              "array([[0.],\n",
              "       [1.],\n",
              "       [1.],\n",
              "       [0.]])"
            ]
          },
          "metadata": {
            "tags": []
          },
          "execution_count": 13
        }
      ]
    },
    {
      "cell_type": "code",
      "metadata": {
        "id": "mnuuKHBX85da",
        "colab_type": "code",
        "colab": {}
      },
      "source": [
        ""
      ],
      "execution_count": 0,
      "outputs": []
    }
  ]
}