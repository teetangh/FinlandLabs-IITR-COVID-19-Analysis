{
  "nbformat": 4,
  "nbformat_minor": 0,
  "metadata": {
    "colab": {
      "name": "04 MNIST Handwritten Fashion  CIFAR.ipynb",
      "provenance": [],
      "collapsed_sections": []
    },
    "kernelspec": {
      "name": "python3",
      "display_name": "Python 3"
    }
  },
  "cells": [
    {
      "cell_type": "code",
      "metadata": {
        "id": "nhUp5jwSWZnF",
        "colab_type": "code",
        "colab": {}
      },
      "source": [
        "import numpy as np\n",
        "import tensorflow as tf\n",
        "import matplotlib.pyplot as plt"
      ],
      "execution_count": 0,
      "outputs": []
    },
    {
      "cell_type": "code",
      "metadata": {
        "id": "Y7YRpFipXRBd",
        "colab_type": "code",
        "colab": {}
      },
      "source": [
        "## Loading the dataset\n",
        "# mnist = tf.keras.datasets.fashion_mnist\n",
        "mnist = tf.keras.datasets.mnist"
      ],
      "execution_count": 0,
      "outputs": []
    },
    {
      "cell_type": "code",
      "metadata": {
        "id": "BmdQP_I3Xqze",
        "colab_type": "code",
        "colab": {
          "base_uri": "https://localhost:8080/",
          "height": 51
        },
        "outputId": "f873f9da-f440-4d7c-8057-389976ccc87b"
      },
      "source": [
        "(xtrain,ytrain),(xtest,ytest) = mnist.load_data()"
      ],
      "execution_count": 3,
      "outputs": [
        {
          "output_type": "stream",
          "text": [
            "Downloading data from https://storage.googleapis.com/tensorflow/tf-keras-datasets/mnist.npz\n",
            "11493376/11490434 [==============================] - 0s 0us/step\n"
          ],
          "name": "stdout"
        }
      ]
    },
    {
      "cell_type": "code",
      "metadata": {
        "id": "bcmk98JgX9xP",
        "colab_type": "code",
        "colab": {
          "base_uri": "https://localhost:8080/",
          "height": 34
        },
        "outputId": "3d564e57-8324-4e8d-d3c5-18252d62ca54"
      },
      "source": [
        "xtrain.shape, ytrain.shape"
      ],
      "execution_count": 4,
      "outputs": [
        {
          "output_type": "execute_result",
          "data": {
            "text/plain": [
              "((60000, 28, 28), (60000,))"
            ]
          },
          "metadata": {
            "tags": []
          },
          "execution_count": 4
        }
      ]
    },
    {
      "cell_type": "code",
      "metadata": {
        "id": "3XnpyHwPZqgP",
        "colab_type": "code",
        "colab": {
          "base_uri": "https://localhost:8080/",
          "height": 34
        },
        "outputId": "01c45217-bf86-4dc7-9605-225110bf24ff"
      },
      "source": [
        "xtest.shape,ytest.shape"
      ],
      "execution_count": 5,
      "outputs": [
        {
          "output_type": "execute_result",
          "data": {
            "text/plain": [
              "((10000, 28, 28), (10000,))"
            ]
          },
          "metadata": {
            "tags": []
          },
          "execution_count": 5
        }
      ]
    },
    {
      "cell_type": "code",
      "metadata": {
        "id": "mnaASUhUZxj_",
        "colab_type": "code",
        "colab": {
          "base_uri": "https://localhost:8080/",
          "height": 1000
        },
        "outputId": "b5838734-cc1d-4820-de7f-fd1292a3ed83"
      },
      "source": [
        "# Visualizing the image matrix\n",
        "xtrain[12]"
      ],
      "execution_count": 6,
      "outputs": [
        {
          "output_type": "execute_result",
          "data": {
            "text/plain": [
              "array([[  0,   0,   0,   0,   0,   0,   0,   0,   0,   0,   0,   0,   0,\n",
              "          0,   0,   0,   0,   0,   0,   0,   0,   0,   0,   0,   0,   0,\n",
              "          0,   0],\n",
              "       [  0,   0,   0,   0,   0,   0,   0,   0,   0,   0,   0,   0,   0,\n",
              "          0,   0,   0,   0,   0,   0,   0,   0,   0,   0,   0,   0,   0,\n",
              "          0,   0],\n",
              "       [  0,   0,   0,   0,   0,   0,   0,   0,   0,   0,   0,   0,   0,\n",
              "          0,   0,   0,   0,   0,   0,   0,   0,   0,   0,   0,   0,   0,\n",
              "          0,   0],\n",
              "       [  0,   0,   0,   0,   0,   0,   0,   0,   0,   0,   0,   0,   0,\n",
              "          0,   0,   0,   0,   0,   0,   0,   0,   0,   0,   0,   0,   0,\n",
              "          0,   0],\n",
              "       [  0,   0,   0,   0,   0,   0,   0,   0,   0,   0,   0,   0,   0,\n",
              "          0,   0,   0,   0,   0,   0,   0,   0,   0,   0,   0,   0,   0,\n",
              "          0,   0],\n",
              "       [  0,   0,   0,  12,  99,  91, 142, 155, 246, 182, 155, 155, 155,\n",
              "        155, 131,  52,   0,   0,   0,   0,   0,   0,   0,   0,   0,   0,\n",
              "          0,   0],\n",
              "       [  0,   0,   0, 138, 254, 254, 254, 254, 254, 254, 254, 254, 254,\n",
              "        254, 254, 252, 210, 122,  33,   0,   0,   0,   0,   0,   0,   0,\n",
              "          0,   0],\n",
              "       [  0,   0,   0, 220, 254, 254, 254, 235, 189, 189, 189, 189, 150,\n",
              "        189, 205, 254, 254, 254,  75,   0,   0,   0,   0,   0,   0,   0,\n",
              "          0,   0],\n",
              "       [  0,   0,   0,  35,  74,  35,  35,  25,   0,   0,   0,   0,   0,\n",
              "          0,  13, 224, 254, 254, 153,   0,   0,   0,   0,   0,   0,   0,\n",
              "          0,   0],\n",
              "       [  0,   0,   0,   0,   0,   0,   0,   0,   0,   0,   0,   0,   0,\n",
              "          0,  90, 254, 254, 247,  53,   0,   0,   0,   0,   0,   0,   0,\n",
              "          0,   0],\n",
              "       [  0,   0,   0,   0,   0,   0,   0,   0,   0,   0,   0,   0,   6,\n",
              "        152, 246, 254, 254,  49,   0,   0,   0,   0,   0,   0,   0,   0,\n",
              "          0,   0],\n",
              "       [  0,   0,   0,   0,   0,   0,   0,   0,   0,   0,   0,  66, 158,\n",
              "        254, 254, 249, 103,   8,   0,   0,   0,   0,   0,   0,   0,   0,\n",
              "          0,   0],\n",
              "       [  0,   0,   0,   0,   0,   0,   0,   0,   0,   0,  54, 251, 254,\n",
              "        254, 254, 248,  74,   5,   0,   0,   0,   0,   0,   0,   0,   0,\n",
              "          0,   0],\n",
              "       [  0,   0,   0,   0,   0,   0,   0,   0,   0,   0, 140, 254, 254,\n",
              "        254, 254, 254, 254, 202, 125,  45,   0,   0,   0,   0,   0,   0,\n",
              "          0,   0],\n",
              "       [  0,   0,   0,   0,   0,   0,   0,   0,   0,   0,  58, 181, 234,\n",
              "        254, 254, 254, 254, 254, 254, 252, 140,  22,   0,   0,   0,   0,\n",
              "          0,   0],\n",
              "       [  0,   0,   0,   0,   0,   0,   0,   0,   0,   0,   0,   0,  30,\n",
              "         50,  73, 155, 253, 254, 254, 254, 254, 191,   2,   0,   0,   0,\n",
              "          0,   0],\n",
              "       [  0,   0,   0,   0,   0,   0,   0,   0,   0,   0,   0,   0,   0,\n",
              "          0,   0,   0,  91, 200, 254, 254, 254, 254, 118,   0,   0,   0,\n",
              "          0,   0],\n",
              "       [  0,   0,   0,   0,   0,   0,   0,   0,   0,   0,   0,   0,   0,\n",
              "          0,   0,   0,   0,   4, 192, 254, 254, 254, 154,   0,   0,   0,\n",
              "          0,   0],\n",
              "       [  0,   0,   0,   0,   0,   0,   0,   0,   0,   0,   0,   0,   0,\n",
              "          0,   0,   0,   0,   0, 141, 254, 254, 254, 116,   0,   0,   0,\n",
              "          0,   0],\n",
              "       [  0,   0,   0,   0,   0,   0,   0,   0,  25, 126,  86,   0,   0,\n",
              "          0,   0,   0,   0,   3, 188, 254, 254, 250,  61,   0,   0,   0,\n",
              "          0,   0],\n",
              "       [  0,   0,   0,   0,   0,   0,   0,  24, 209, 254,  15,   0,   0,\n",
              "          0,   0,   0,  23, 137, 254, 254, 254, 209,   0,   0,   0,   0,\n",
              "          0,   0],\n",
              "       [  0,   0,   0,   0,   0,   0,   0, 168, 254, 254,  48,   9,   0,\n",
              "          0,   9, 127, 241, 254, 254, 255, 242,  63,   0,   0,   0,   0,\n",
              "          0,   0],\n",
              "       [  0,   0,   0,   0,   0,   0,   0, 101, 254, 254, 254, 205, 190,\n",
              "        190, 205, 254, 254, 254, 254, 242,  67,   0,   0,   0,   0,   0,\n",
              "          0,   0],\n",
              "       [  0,   0,   0,   0,   0,   0,   0,  33, 166, 254, 254, 254, 254,\n",
              "        254, 254, 254, 254, 250, 138,  55,   0,   0,   0,   0,   0,   0,\n",
              "          0,   0],\n",
              "       [  0,   0,   0,   0,   0,   0,   0,   0,   7,  88, 154, 116, 194,\n",
              "        194, 154, 154,  88,  49,   0,   0,   0,   0,   0,   0,   0,   0,\n",
              "          0,   0],\n",
              "       [  0,   0,   0,   0,   0,   0,   0,   0,   0,   0,   0,   0,   0,\n",
              "          0,   0,   0,   0,   0,   0,   0,   0,   0,   0,   0,   0,   0,\n",
              "          0,   0],\n",
              "       [  0,   0,   0,   0,   0,   0,   0,   0,   0,   0,   0,   0,   0,\n",
              "          0,   0,   0,   0,   0,   0,   0,   0,   0,   0,   0,   0,   0,\n",
              "          0,   0],\n",
              "       [  0,   0,   0,   0,   0,   0,   0,   0,   0,   0,   0,   0,   0,\n",
              "          0,   0,   0,   0,   0,   0,   0,   0,   0,   0,   0,   0,   0,\n",
              "          0,   0]], dtype=uint8)"
            ]
          },
          "metadata": {
            "tags": []
          },
          "execution_count": 6
        }
      ]
    },
    {
      "cell_type": "code",
      "metadata": {
        "id": "nQf5I2jlZ0EQ",
        "colab_type": "code",
        "colab": {
          "base_uri": "https://localhost:8080/",
          "height": 34
        },
        "outputId": "125a33b0-fad5-44d0-95cc-37daf744cfdb"
      },
      "source": [
        "ytrain[12]"
      ],
      "execution_count": 7,
      "outputs": [
        {
          "output_type": "execute_result",
          "data": {
            "text/plain": [
              "3"
            ]
          },
          "metadata": {
            "tags": []
          },
          "execution_count": 7
        }
      ]
    },
    {
      "cell_type": "code",
      "metadata": {
        "id": "MdyB2Y3ZZ9WM",
        "colab_type": "code",
        "colab": {
          "base_uri": "https://localhost:8080/",
          "height": 265
        },
        "outputId": "dec7f239-41f8-4d1a-cf94-27362777e240"
      },
      "source": [
        "plt.imshow(xtrain[12])\n",
        "plt.show()"
      ],
      "execution_count": 8,
      "outputs": [
        {
          "output_type": "display_data",
          "data": {
            "image/png": "[encoded data removed]",
            "text/plain": [
              "<Figure size 432x288 with 1 Axes>"
            ]
          },
          "metadata": {
            "tags": [],
            "needs_background": "light"
          }
        }
      ]
    },
    {
      "cell_type": "code",
      "metadata": {
        "id": "AVsOsMRQaFVN",
        "colab_type": "code",
        "colab": {
          "base_uri": "https://localhost:8080/",
          "height": 282
        },
        "outputId": "39d195b5-e8ba-4110-c3ad-112c143b0074"
      },
      "source": [
        "print(ytrain[100])\n",
        "plt.imshow(xtrain[100])\n",
        "plt.show()"
      ],
      "execution_count": 9,
      "outputs": [
        {
          "output_type": "stream",
          "text": [
            "5\n"
          ],
          "name": "stdout"
        },
        {
          "output_type": "display_data",
          "data": {
            "image/png": "[encoded data removed]",
            "text/plain": [
              "<Figure size 432x288 with 1 Axes>"
            ]
          },
          "metadata": {
            "tags": [],
            "needs_background": "light"
          }
        }
      ]
    },
    {
      "cell_type": "code",
      "metadata": {
        "id": "pB930YRlaT9d",
        "colab_type": "code",
        "colab": {
          "base_uri": "https://localhost:8080/",
          "height": 282
        },
        "outputId": "e1b269b0-f95c-4e98-8ded-f8b75cb45b25"
      },
      "source": [
        "# Actual color, else matplotlib converts into BGR\n",
        "# usually color is not recommended.Thus we transform it into grayscale  \n",
        "print(ytrain[100])\n",
        "plt.imshow(xtrain[100],cmap='gray')\n",
        "plt.show()"
      ],
      "execution_count": 10,
      "outputs": [
        {
          "output_type": "stream",
          "text": [
            "5\n"
          ],
          "name": "stdout"
        },
        {
          "output_type": "display_data",
          "data": {
            "image/png": "[encoded data removed]",
            "text/plain": [
              "<Figure size 432x288 with 1 Axes>"
            ]
          },
          "metadata": {
            "tags": [],
            "needs_background": "light"
          }
        }
      ]
    },
    {
      "cell_type": "code",
      "metadata": {
        "id": "SXb_SOjLaX_7",
        "colab_type": "code",
        "colab": {
          "base_uri": "https://localhost:8080/",
          "height": 252
        },
        "outputId": "e1a9da9c-a613-46dc-96f4-f758453c6a4a"
      },
      "source": [
        "# Visualizing the first 25 training samples\n",
        "for i in range(25):\n",
        "  plt.subplot(5,5,i+1)\n",
        "  plt.xticks([])  # Removing x markers\n",
        "  plt.yticks([])  # Removing y markers\n",
        "  plt.imshow(xtrain[i],cmap='gray')\n",
        "plt.show()"
      ],
      "execution_count": 13,
      "outputs": [
        {
          "output_type": "display_data",
          "data": {
            "image/png": "[encoded data removed]",
            "text/plain": [
              "<Figure size 432x288 with 25 Axes>"
            ]
          },
          "metadata": {
            "tags": []
          }
        }
      ]
    },
    {
      "cell_type": "code",
      "metadata": {
        "id": "LFMibfsKbEHC",
        "colab_type": "code",
        "colab": {}
      },
      "source": [
        "### Building the model\n",
        "model = tf.keras.models.Sequential()\n",
        "\n",
        "### Adding the layers(including the hidden layer)\n",
        "model.add(tf.keras.layers.Flatten())  # Assuming that we don't know the dimensions\n",
        "\n",
        "# 28 * 28 = 784 hidden neurons\n",
        "# model.add(tf.keras.layers.Dense(784,activation='relu'))  # hidden layer\n",
        "\n",
        "model.add(tf.keras.layers.Dense(xtrain.shape[1] * xtrain.shape[2],activation='relu'))  # hidden layer\n",
        "model.add(tf.keras.layers.Dense(600,activation='relu'))  # hidden layer\n",
        "model.add(tf.keras.layers.Dense(64,activation='relu'))  # hidden layer\n",
        "model.add(tf.keras.layers.Dense(10,activation='softmax')) # Output layer => no of sample (0 - 9)"
      ],
      "execution_count": 0,
      "outputs": []
    },
    {
      "cell_type": "code",
      "metadata": {
        "id": "FXusUceRdzFR",
        "colab_type": "code",
        "colab": {}
      },
      "source": [
        "### Configure the model\n",
        "\n",
        "# Using cross-entropy loss \n",
        "# not using MSE\n",
        "model.compile(optimizer='adam',loss='sparse_categorical_crossentropy',metrics=['accuracy'])  "
      ],
      "execution_count": 0,
      "outputs": []
    },
    {
      "cell_type": "code",
      "metadata": {
        "id": "J1LQVomjeaxH",
        "colab_type": "code",
        "colab": {
          "base_uri": "https://localhost:8080/",
          "height": 136
        },
        "outputId": "33cb2bf3-f12a-4ef4-d258-22ef80b86a00"
      },
      "source": [
        "### Training the model\n",
        "\n",
        "# 60000/32 = 1875 (Batch Size)\n",
        "# default-batch size=32 (32 images are done at once)\n",
        "# model.fit(xtrain,ytrain,epochs=3,batch_size=32)  \n",
        "\n",
        "model.fit(xtrain,ytrain,epochs=3)"
      ],
      "execution_count": 16,
      "outputs": [
        {
          "output_type": "stream",
          "text": [
            "Epoch 1/3\n",
            "1875/1875 [==============================] - 18s 10ms/step - loss: 1.0663 - accuracy: 0.7925\n",
            "Epoch 2/3\n",
            "1875/1875 [==============================] - 18s 10ms/step - loss: 0.2660 - accuracy: 0.9342\n",
            "Epoch 3/3\n",
            "1875/1875 [==============================] - 18s 10ms/step - loss: 0.1642 - accuracy: 0.9576\n"
          ],
          "name": "stdout"
        },
        {
          "output_type": "execute_result",
          "data": {
            "text/plain": [
              "<tensorflow.python.keras.callbacks.History at 0x7f1c7b4e9940>"
            ]
          },
          "metadata": {
            "tags": []
          },
          "execution_count": 16
        }
      ]
    },
    {
      "cell_type": "markdown",
      "metadata": {
        "id": "EyjzYVDLgylW",
        "colab_type": "text"
      },
      "source": [
        "# Normalisation and Scaling"
      ]
    },
    {
      "cell_type": "code",
      "metadata": {
        "id": "NuGIKnLzgjqD",
        "colab_type": "code",
        "colab": {}
      },
      "source": [
        "xtrain = tf.keras.utils.normalize(xtrain)\n",
        "xtest = tf.keras.utils.normalize(xtest)\n",
        "\n",
        "# print(xtrain)"
      ],
      "execution_count": 0,
      "outputs": []
    },
    {
      "cell_type": "code",
      "metadata": {
        "id": "USfA9P-degXw",
        "colab_type": "code",
        "colab": {
          "base_uri": "https://localhost:8080/",
          "height": 136
        },
        "outputId": "4a4daff8-573c-4703-f771-0242445b6c99"
      },
      "source": [
        "### Building the model\n",
        "model = tf.keras.models.Sequential()\n",
        "\n",
        "model.add(tf.keras.layers.Flatten())  \n",
        "\n",
        "model.add(tf.keras.layers.Dense(xtrain.shape[1] * xtrain.shape[2],activation='relu'))  \n",
        "model.add(tf.keras.layers.Dense(600,activation='relu'))\n",
        "model.add(tf.keras.layers.Dense(64,activation='relu'))  \n",
        "model.add(tf.keras.layers.Dense(10,activation='softmax')) \n",
        "\n",
        "model.compile(optimizer='adam',loss='sparse_categorical_crossentropy',metrics=['accuracy'])  \n",
        "\n",
        "model.fit(xtrain,ytrain,epochs=3)"
      ],
      "execution_count": 19,
      "outputs": [
        {
          "output_type": "stream",
          "text": [
            "Epoch 1/3\n",
            "1875/1875 [==============================] - 21s 11ms/step - loss: 0.2064 - accuracy: 0.9363\n",
            "Epoch 2/3\n",
            "1875/1875 [==============================] - 21s 11ms/step - loss: 0.0894 - accuracy: 0.9722\n",
            "Epoch 3/3\n",
            "1875/1875 [==============================] - 21s 11ms/step - loss: 0.0608 - accuracy: 0.9810\n"
          ],
          "name": "stdout"
        },
        {
          "output_type": "execute_result",
          "data": {
            "text/plain": [
              "<tensorflow.python.keras.callbacks.History at 0x7f1c7b7a23c8>"
            ]
          },
          "metadata": {
            "tags": []
          },
          "execution_count": 19
        }
      ]
    },
    {
      "cell_type": "code",
      "metadata": {
        "id": "4aCUwcJbhAAk",
        "colab_type": "code",
        "colab": {}
      },
      "source": [
        "### Predictions \n",
        "predictions = model.predict(xtest)"
      ],
      "execution_count": 0,
      "outputs": []
    },
    {
      "cell_type": "code",
      "metadata": {
        "id": "bSPxi12jho6h",
        "colab_type": "code",
        "colab": {
          "base_uri": "https://localhost:8080/",
          "height": 589
        },
        "outputId": "644ada1d-6682-4a91-8559-b67cbd1162b2"
      },
      "source": [
        "## Visualizing the testing samples\n",
        "plt.figure(figsize =(10,10))\n",
        "for i in range(25):\n",
        "  plt.subplot(5,5,i+1)\n",
        "  plt.xticks([])  # Removing x markers\n",
        "  plt.yticks([])  # Removing y markers\n",
        "  plt.imshow(xtest[i],cmap='gray')\n",
        "  plt.xlabel(np.argmax(predictions[i]))\n",
        "plt.show()"
      ],
      "execution_count": 25,
      "outputs": [
        {
          "output_type": "display_data",
          "data": {
            "image/png": "[encoded data removed]",
            "text/plain": [
              "<Figure size 720x720 with 25 Axes>"
            ]
          },
          "metadata": {
            "tags": []
          }
        }
      ]
    },
    {
      "cell_type": "code",
      "metadata": {
        "id": "D0C5uV79h-36",
        "colab_type": "code",
        "colab": {
          "base_uri": "https://localhost:8080/",
          "height": 68
        },
        "outputId": "e6086da2-3bca-4cda-8970-4ac764b101ad"
      },
      "source": [
        "# postulating that the highest probaility is the prediction\n",
        "print(ytest[0])\n",
        "print((predictions[0]))"
      ],
      "execution_count": 28,
      "outputs": [
        {
          "output_type": "stream",
          "text": [
            "7\n",
            "[2.2862565e-07 2.4730160e-05 5.2245268e-05 2.7809442e-06 5.8221195e-07\n",
            " 6.4372017e-07 5.1231233e-09 9.9756795e-01 1.7636671e-07 2.3507089e-03]\n"
          ],
          "name": "stdout"
        }
      ]
    },
    {
      "cell_type": "code",
      "metadata": {
        "id": "037IZUiwiLxl",
        "colab_type": "code",
        "colab": {
          "base_uri": "https://localhost:8080/",
          "height": 51
        },
        "outputId": "19c3af16-99dc-4eea-fbf2-6e8522eaa600"
      },
      "source": [
        "loss,accu = model.evaluate(xtest,ytest)\n",
        "loss,accu"
      ],
      "execution_count": 29,
      "outputs": [
        {
          "output_type": "stream",
          "text": [
            "313/313 [==============================] - 1s 4ms/step - loss: 0.1092 - accuracy: 0.9690\n"
          ],
          "name": "stdout"
        },
        {
          "output_type": "execute_result",
          "data": {
            "text/plain": [
              "(0.10921613872051239, 0.968999981880188)"
            ]
          },
          "metadata": {
            "tags": []
          },
          "execution_count": 29
        }
      ]
    },
    {
      "cell_type": "code",
      "metadata": {
        "id": "wsMo6hy7jVnu",
        "colab_type": "code",
        "colab": {}
      },
      "source": [
        "# from sklearn.metrics import confusion_matrix\n",
        "# cm = confusion_matrix(ytest, np.argmax(predictions))"
      ],
      "execution_count": 0,
      "outputs": []
    },
    {
      "cell_type": "code",
      "metadata": {
        "id": "S3oR23kXj88E",
        "colab_type": "code",
        "colab": {}
      },
      "source": [
        ""
      ],
      "execution_count": 0,
      "outputs": []
    }
  ]
}